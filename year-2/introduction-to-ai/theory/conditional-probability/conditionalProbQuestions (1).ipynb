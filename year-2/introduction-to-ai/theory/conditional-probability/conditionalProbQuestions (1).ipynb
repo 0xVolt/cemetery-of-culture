{
 "cells": [
  {
   "cell_type": "code",
   "execution_count": 47,
   "metadata": {},
   "outputs": [],
   "source": [
    "from itertools import product\n",
    "import random"
   ]
  },
  {
   "cell_type": "code",
   "execution_count": 48,
   "metadata": {},
   "outputs": [],
   "source": [
    "def calcProbability(x):\n",
    "    return (len(x) / len(sampleSpaceSet))"
   ]
  },
  {
   "cell_type": "code",
   "execution_count": 49,
   "metadata": {},
   "outputs": [],
   "source": [
    "# Number of throws\n",
    "numberThrows = 3\n",
    "\n",
    "# Generate sample space\n",
    "sampleSpace = product(['H', 'T'], repeat=numberThrows)\n",
    "sampleSpaceSet = set(sampleSpace)"
   ]
  },
  {
   "cell_type": "code",
   "execution_count": 50,
   "metadata": {},
   "outputs": [
    {
     "data": {
      "text/plain": [
       "{('H', 'H', 'H'),\n",
       " ('H', 'H', 'T'),\n",
       " ('H', 'T', 'H'),\n",
       " ('H', 'T', 'T'),\n",
       " ('T', 'H', 'H'),\n",
       " ('T', 'H', 'T'),\n",
       " ('T', 'T', 'H'),\n",
       " ('T', 'T', 'T')}"
      ]
     },
     "execution_count": 50,
     "metadata": {},
     "output_type": "execute_result"
    }
   ],
   "source": [
    "sampleSpaceSet"
   ]
  },
  {
   "cell_type": "code",
   "execution_count": 51,
   "metadata": {},
   "outputs": [
    {
     "data": {
      "text/plain": [
       "8"
      ]
     },
     "execution_count": 51,
     "metadata": {},
     "output_type": "execute_result"
    }
   ],
   "source": [
    "len(sampleSpaceSet)"
   ]
  },
  {
   "cell_type": "markdown",
   "metadata": {},
   "source": [
    "## Q1 At least one head"
   ]
  },
  {
   "cell_type": "code",
   "execution_count": 52,
   "metadata": {},
   "outputs": [
    {
     "data": {
      "text/plain": [
       "{('H', 'H', 'H'),\n",
       " ('H', 'H', 'T'),\n",
       " ('H', 'T', 'H'),\n",
       " ('H', 'T', 'T'),\n",
       " ('T', 'H', 'H'),\n",
       " ('T', 'H', 'T'),\n",
       " ('T', 'T', 'H')}"
      ]
     },
     "execution_count": 52,
     "metadata": {},
     "output_type": "execute_result"
    }
   ],
   "source": [
    "atLeastOneHead = {i for i in sampleSpaceSet if i.count('H') >=1}\n",
    "atLeastOneHead"
   ]
  },
  {
   "cell_type": "code",
   "execution_count": 53,
   "metadata": {},
   "outputs": [
    {
     "data": {
      "text/plain": [
       "0.875"
      ]
     },
     "execution_count": 53,
     "metadata": {},
     "output_type": "execute_result"
    }
   ],
   "source": [
    "calcProbability(atLeastOneHead)"
   ]
  },
  {
   "cell_type": "markdown",
   "metadata": {},
   "source": [
    "## Q2 Getting a numbered card"
   ]
  },
  {
   "cell_type": "code",
   "execution_count": 54,
   "metadata": {},
   "outputs": [
    {
     "data": {
      "text/plain": [
       "[('A', 'Spades'),\n",
       " ('A', 'Hearts'),\n",
       " ('A', 'Diamonds'),\n",
       " ('A', 'Clubs'),\n",
       " ('2', 'Spades'),\n",
       " ('2', 'Hearts'),\n",
       " ('2', 'Diamonds'),\n",
       " ('2', 'Clubs'),\n",
       " ('3', 'Spades'),\n",
       " ('3', 'Hearts'),\n",
       " ('3', 'Diamonds'),\n",
       " ('3', 'Clubs'),\n",
       " ('4', 'Spades'),\n",
       " ('4', 'Hearts'),\n",
       " ('4', 'Diamonds'),\n",
       " ('4', 'Clubs'),\n",
       " ('5', 'Spades'),\n",
       " ('5', 'Hearts'),\n",
       " ('5', 'Diamonds'),\n",
       " ('5', 'Clubs'),\n",
       " ('6', 'Spades'),\n",
       " ('6', 'Hearts'),\n",
       " ('6', 'Diamonds'),\n",
       " ('6', 'Clubs'),\n",
       " ('7', 'Spades'),\n",
       " ('7', 'Hearts'),\n",
       " ('7', 'Diamonds'),\n",
       " ('7', 'Clubs'),\n",
       " ('8', 'Spades'),\n",
       " ('8', 'Hearts'),\n",
       " ('8', 'Diamonds'),\n",
       " ('8', 'Clubs'),\n",
       " ('9', 'Spades'),\n",
       " ('9', 'Hearts'),\n",
       " ('9', 'Diamonds'),\n",
       " ('9', 'Clubs'),\n",
       " ('10', 'Spades'),\n",
       " ('10', 'Hearts'),\n",
       " ('10', 'Diamonds'),\n",
       " ('10', 'Clubs'),\n",
       " ('J', 'Spades'),\n",
       " ('J', 'Hearts'),\n",
       " ('J', 'Diamonds'),\n",
       " ('J', 'Clubs'),\n",
       " ('Q', 'Spades'),\n",
       " ('Q', 'Hearts'),\n",
       " ('Q', 'Diamonds'),\n",
       " ('Q', 'Clubs'),\n",
       " ('K', 'Spades'),\n",
       " ('K', 'Hearts'),\n",
       " ('K', 'Diamonds'),\n",
       " ('K', 'Clubs')]"
      ]
     },
     "execution_count": 54,
     "metadata": {},
     "output_type": "execute_result"
    }
   ],
   "source": [
    "# make a deck of cards\n",
    "deck = list(product(['A', '2', '3', '4', '5', '6', '7', '8', '9', '10', 'J', 'Q', 'K'],['Spades','Hearts','Diamonds','Clubs']))\n",
    "\n",
    "deck"
   ]
  },
  {
   "cell_type": "code",
   "execution_count": 55,
   "metadata": {},
   "outputs": [],
   "source": [
    "def calcProbabilityCards(x):\n",
    "    return (len(x) / len(deck))"
   ]
  },
  {
   "cell_type": "code",
   "execution_count": 56,
   "metadata": {},
   "outputs": [
    {
     "name": "stdout",
     "output_type": "stream",
     "text": [
      "{('K', 'Hearts'), ('Q', 'Clubs'), ('J', 'Diamonds'), ('J', 'Spades'), ('A', 'Diamonds'), ('A', 'Spades'), ('Q', 'Hearts'), ('K', 'Spades'), ('J', 'Hearts'), ('J', 'Clubs'), ('A', 'Hearts'), ('A', 'Clubs'), ('K', 'Diamonds'), ('Q', 'Diamonds'), ('Q', 'Spades'), ('K', 'Clubs')}\n"
     ]
    }
   ],
   "source": [
    "gettingAFaceCard = {i for i in deck if i[0] == 'A' or i[0] == 'J' or i[0] == 'Q' or i[0] == 'K'}\n",
    "print(gettingAFaceCard)"
   ]
  },
  {
   "cell_type": "code",
   "execution_count": 57,
   "metadata": {},
   "outputs": [],
   "source": [
    "gettingFaceCardProb = calcProbabilityCards(gettingAFaceCard)"
   ]
  },
  {
   "cell_type": "code",
   "execution_count": 58,
   "metadata": {},
   "outputs": [
    {
     "name": "stdout",
     "output_type": "stream",
     "text": [
      "0.6923076923076923\n"
     ]
    }
   ],
   "source": [
    "print(1 - gettingFaceCardProb)"
   ]
  },
  {
   "cell_type": "markdown",
   "metadata": {},
   "source": [
    "## Bonus: Shuffling the deck using the random library"
   ]
  },
  {
   "cell_type": "code",
   "execution_count": 59,
   "metadata": {},
   "outputs": [
    {
     "data": {
      "text/plain": [
       "[('Q', 'Spades'),\n",
       " ('J', 'Diamonds'),\n",
       " ('9', 'Diamonds'),\n",
       " ('5', 'Diamonds'),\n",
       " ('6', 'Hearts'),\n",
       " ('6', 'Diamonds'),\n",
       " ('A', 'Spades'),\n",
       " ('J', 'Clubs'),\n",
       " ('8', 'Spades'),\n",
       " ('5', 'Clubs')]"
      ]
     },
     "execution_count": 59,
     "metadata": {},
     "output_type": "execute_result"
    }
   ],
   "source": [
    "# This only works if deck is a list and not a set\n",
    "random.shuffle(deck)\n",
    "\n",
    "# Take the first 10 cards in the deck\n",
    "deck[0:10]"
   ]
  },
  {
   "cell_type": "markdown",
   "metadata": {},
   "source": [
    "## Q3 First green and second red"
   ]
  },
  {
   "cell_type": "code",
   "execution_count": 60,
   "metadata": {},
   "outputs": [],
   "source": [
    "sampleSpace = product(['G', 'G', 'G', 'G', 'G', 'R', 'R', 'R', 'R', 'R', 'R', 'R'])\n",
    "sampleSpaceSet = list(sampleSpace)"
   ]
  },
  {
   "cell_type": "code",
   "execution_count": 61,
   "metadata": {},
   "outputs": [
    {
     "name": "stdout",
     "output_type": "stream",
     "text": [
      "[('G',), ('G',), ('G',), ('G',), ('G',), ('R',), ('R',), ('R',), ('R',), ('R',), ('R',), ('R',)]\n"
     ]
    }
   ],
   "source": [
    "print(sampleSpaceSet)"
   ]
  },
  {
   "cell_type": "code",
   "execution_count": 62,
   "metadata": {},
   "outputs": [],
   "source": [
    "def calcProbabilityBalls(x):\n",
    "    return (len(x) / len(sampleSpaceSet))"
   ]
  },
  {
   "cell_type": "code",
   "execution_count": 63,
   "metadata": {},
   "outputs": [],
   "source": [
    "gettingGreen = {i for i in sampleSpaceSet if i == 'G'}\n",
    "probGreen = calcProbabilityBalls(gettingGreen)"
   ]
  },
  {
   "cell_type": "code",
   "execution_count": 64,
   "metadata": {},
   "outputs": [],
   "source": [
    "sampleSpaceSet = sampleSpaceSet[1:]"
   ]
  },
  {
   "cell_type": "code",
   "execution_count": 65,
   "metadata": {},
   "outputs": [
    {
     "name": "stdout",
     "output_type": "stream",
     "text": [
      "[('G',), ('G',), ('G',), ('G',), ('R',), ('R',), ('R',), ('R',), ('R',), ('R',), ('R',)]\n"
     ]
    }
   ],
   "source": [
    "print(sampleSpaceSet)"
   ]
  }
 ],
 "metadata": {
  "interpreter": {
   "hash": "d9c14bc3e06cce9659bff7a93f7820617c284163b61bf225fc55354cb1716740"
  },
  "kernelspec": {
   "display_name": "Python 3.9.2 64-bit",
   "name": "python3"
  },
  "language_info": {
   "codemirror_mode": {
    "name": "ipython",
    "version": 3
   },
   "file_extension": ".py",
   "mimetype": "text/x-python",
   "name": "python",
   "nbconvert_exporter": "python",
   "pygments_lexer": "ipython3",
   "version": "3.9.2"
  },
  "orig_nbformat": 4
 },
 "nbformat": 4,
 "nbformat_minor": 2
}
