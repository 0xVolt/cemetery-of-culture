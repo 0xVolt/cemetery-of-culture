{
 "cells": [
  {
   "cell_type": "code",
   "execution_count": 3,
   "id": "160dfded",
   "metadata": {},
   "outputs": [],
   "source": [
    "from itertools import product"
   ]
  },
  {
   "cell_type": "code",
   "execution_count": 4,
   "id": "83528213",
   "metadata": {},
   "outputs": [
    {
     "data": {
      "text/plain": [
       "[(1, 'a'),\n",
       " (1, 'b'),\n",
       " (1, 'c'),\n",
       " (2, 'a'),\n",
       " (2, 'b'),\n",
       " (2, 'c'),\n",
       " (3, 'a'),\n",
       " (3, 'b'),\n",
       " (3, 'c')]"
      ]
     },
     "execution_count": 4,
     "metadata": {},
     "output_type": "execute_result"
    }
   ],
   "source": [
    "list (product([1,2,3],['a','b','c']))\n"
   ]
  },
  {
   "cell_type": "code",
   "execution_count": 5,
   "id": "0ed01716",
   "metadata": {},
   "outputs": [],
   "source": [
    "#TO COSS A COIN  3 TIMES N IS NO OF TIMES COIN TOSSED\n",
    "n=3 \n",
    "# head and tail FOR H AND T \n",
    "omega=set(product(['H','T'],repeat =n))# IT WILL REPEAT AND PRINT CARTESIAN PROD\n"
   ]
  },
  {
   "cell_type": "code",
   "execution_count": 6,
   "id": "4f0f1cc3",
   "metadata": {},
   "outputs": [
    {
     "data": {
      "text/plain": [
       "{('H', 'H', 'H'),\n",
       " ('H', 'H', 'T'),\n",
       " ('H', 'T', 'H'),\n",
       " ('H', 'T', 'T'),\n",
       " ('T', 'H', 'H'),\n",
       " ('T', 'H', 'T'),\n",
       " ('T', 'T', 'H'),\n",
       " ('T', 'T', 'T')}"
      ]
     },
     "execution_count": 6,
     "metadata": {},
     "output_type": "execute_result"
    }
   ],
   "source": [
    "omega"
   ]
  },
  {
   "cell_type": "code",
   "execution_count": 7,
   "id": "460c192e",
   "metadata": {},
   "outputs": [
    {
     "data": {
      "text/plain": [
       "8"
      ]
     },
     "execution_count": 7,
     "metadata": {},
     "output_type": "execute_result"
    }
   ],
   "source": [
    "len(omega) #shows the lenght of THE SET THAT IS MADE"
   ]
  },
  {
   "cell_type": "code",
   "execution_count": 8,
   "id": "c95f1dd3",
   "metadata": {},
   "outputs": [],
   "source": [
    "#EVENT (SET USING SET COMPREHENSION)\n",
    "a={om for om in omega if om[0]=='T'}#THE FIRST TOSSING IS TAIL\n",
    "b={om for om in omega if om.count('T')==2}#EXACTLY TWO TAILS  WE USE COUNT FUNCTION"
   ]
  },
  {
   "cell_type": "code",
   "execution_count": 9,
   "id": "09a41de5",
   "metadata": {},
   "outputs": [
    {
     "data": {
      "text/plain": [
       "{('T', 'H', 'H'), ('T', 'H', 'T'), ('T', 'T', 'H'), ('T', 'T', 'T')}"
      ]
     },
     "execution_count": 9,
     "metadata": {},
     "output_type": "execute_result"
    }
   ],
   "source": [
    "a\n"
   ]
  },
  {
   "cell_type": "code",
   "execution_count": 10,
   "id": "a3acd591",
   "metadata": {},
   "outputs": [
    {
     "data": {
      "text/plain": [
       "{('H', 'T', 'T'), ('T', 'H', 'T'), ('T', 'T', 'H')}"
      ]
     },
     "execution_count": 10,
     "metadata": {},
     "output_type": "execute_result"
    }
   ],
   "source": [
    "b\n"
   ]
  },
  {
   "cell_type": "code",
   "execution_count": 11,
   "id": "5b130430",
   "metadata": {},
   "outputs": [],
   "source": [
    "def prob(x): #First function prob\n",
    "    return len(x)/len(omega)"
   ]
  },
  {
   "cell_type": "code",
   "execution_count": 12,
   "id": "81d41a21",
   "metadata": {},
   "outputs": [
    {
     "data": {
      "text/plain": [
       "0.5"
      ]
     },
     "execution_count": 12,
     "metadata": {},
     "output_type": "execute_result"
    }
   ],
   "source": [
    "prob(a)"
   ]
  },
  {
   "cell_type": "code",
   "execution_count": 13,
   "id": "265714bf",
   "metadata": {},
   "outputs": [
    {
     "data": {
      "text/plain": [
       "0.375"
      ]
     },
     "execution_count": 13,
     "metadata": {},
     "output_type": "execute_result"
    }
   ],
   "source": [
    "prob(b)"
   ]
  },
  {
   "cell_type": "code",
   "execution_count": 14,
   "id": "90ae2830",
   "metadata": {},
   "outputs": [],
   "source": [
    "def cond_prob(x,y):\n",
    "    return len(x & y)/len(y)"
   ]
  },
  {
   "cell_type": "code",
   "execution_count": 15,
   "id": "1541298b",
   "metadata": {},
   "outputs": [
    {
     "data": {
      "text/plain": [
       "0.6666666666666666"
      ]
     },
     "execution_count": 15,
     "metadata": {},
     "output_type": "execute_result"
    }
   ],
   "source": [
    "cond_prob(a,b) "
   ]
  },
  {
   "cell_type": "code",
   "execution_count": 16,
   "id": "86f25b79",
   "metadata": {},
   "outputs": [
    {
     "data": {
      "text/plain": [
       "0.25"
      ]
     },
     "execution_count": 16,
     "metadata": {},
     "output_type": "execute_result"
    }
   ],
   "source": [
    "prob(a & b) #prob of intersection"
   ]
  },
  {
   "cell_type": "code",
   "execution_count": 17,
   "id": "c13c2c34",
   "metadata": {},
   "outputs": [
    {
     "data": {
      "text/plain": [
       "0.1875"
      ]
     },
     "execution_count": 17,
     "metadata": {},
     "output_type": "execute_result"
    }
   ],
   "source": [
    "prob(a) *prob(b) #comparing prob # thesee are not independent"
   ]
  },
  {
   "cell_type": "code",
   "execution_count": 18,
   "id": "b327672a",
   "metadata": {},
   "outputs": [],
   "source": [
    "#for events to be independent\n",
    "#Two events A and B are said to be independent if the fact that one event has occurred does not affect the probability that the other event will occur.\n",
    "def are_indep(x,y):\n",
    "    return prob(x & y)== prob(x)*prob(y)"
   ]
  },
  {
   "cell_type": "code",
   "execution_count": 19,
   "id": "10c38281",
   "metadata": {},
   "outputs": [
    {
     "data": {
      "text/plain": [
       "False"
      ]
     },
     "execution_count": 19,
     "metadata": {},
     "output_type": "execute_result"
    }
   ],
   "source": [
    "are_indep(a,b)"
   ]
  },
  {
   "cell_type": "code",
   "execution_count": 20,
   "id": "5dd7f133",
   "metadata": {},
   "outputs": [],
   "source": [
    "c={om for om in omega if om[1]=='H'}"
   ]
  },
  {
   "cell_type": "code",
   "execution_count": 21,
   "id": "6b534dc2",
   "metadata": {},
   "outputs": [
    {
     "data": {
      "text/plain": [
       "True"
      ]
     },
     "execution_count": 21,
     "metadata": {},
     "output_type": "execute_result"
    }
   ],
   "source": [
    "are_indep(a,c)#approach help to find prob of events  allow us to find subsets"
   ]
  },
  {
   "cell_type": "markdown",
   "id": "988e9056",
   "metadata": {},
   "source": [
    "# for the codes given in the lab"
   ]
  },
  {
   "cell_type": "code",
   "execution_count": 22,
   "id": "1cc9c9e1",
   "metadata": {},
   "outputs": [],
   "source": [
    "#coin tossed 3 time  pb of atleast one head\n",
    "n=3 \n",
    "# head and tail FOR H AND T \n",
    "omega=set(product(['H','T'],repeat =n))# IT WILL REPEAT AND PRINT CARTESIAN PROD\n"
   ]
  },
  {
   "cell_type": "code",
   "execution_count": 23,
   "id": "56b70b62",
   "metadata": {},
   "outputs": [
    {
     "data": {
      "text/plain": [
       "{('H', 'H', 'H'),\n",
       " ('H', 'H', 'T'),\n",
       " ('H', 'T', 'H'),\n",
       " ('H', 'T', 'T'),\n",
       " ('T', 'H', 'H'),\n",
       " ('T', 'H', 'T'),\n",
       " ('T', 'T', 'H'),\n",
       " ('T', 'T', 'T')}"
      ]
     },
     "execution_count": 23,
     "metadata": {},
     "output_type": "execute_result"
    }
   ],
   "source": [
    "omega"
   ]
  },
  {
   "cell_type": "code",
   "execution_count": 24,
   "id": "545a6b7c",
   "metadata": {},
   "outputs": [
    {
     "data": {
      "text/plain": [
       "0.5"
      ]
     },
     "execution_count": 24,
     "metadata": {},
     "output_type": "execute_result"
    }
   ],
   "source": [
    "prob(a)"
   ]
  },
  {
   "cell_type": "code",
   "execution_count": 25,
   "id": "753c2f28",
   "metadata": {},
   "outputs": [],
   "source": [
    "b={om for om in omega if om.count('T')==3}"
   ]
  },
  {
   "cell_type": "code",
   "execution_count": 26,
   "id": "7d2edfa9",
   "metadata": {},
   "outputs": [
    {
     "data": {
      "text/plain": [
       "{('T', 'T', 'T')}"
      ]
     },
     "execution_count": 26,
     "metadata": {},
     "output_type": "execute_result"
    }
   ],
   "source": [
    "b"
   ]
  },
  {
   "cell_type": "code",
   "execution_count": 27,
   "id": "03a713f1",
   "metadata": {},
   "outputs": [
    {
     "data": {
      "text/plain": [
       "0.125"
      ]
     },
     "execution_count": 27,
     "metadata": {},
     "output_type": "execute_result"
    }
   ],
   "source": [
    "\n",
    "prob(b)"
   ]
  },
  {
   "cell_type": "code",
   "execution_count": 28,
   "id": "d974f400",
   "metadata": {},
   "outputs": [
    {
     "data": {
      "text/plain": [
       "0.5"
      ]
     },
     "execution_count": 28,
     "metadata": {},
     "output_type": "execute_result"
    }
   ],
   "source": [
    "prob(a)"
   ]
  },
  {
   "cell_type": "code",
   "execution_count": 29,
   "id": "aebf380b",
   "metadata": {},
   "outputs": [
    {
     "data": {
      "text/plain": [
       "0.125"
      ]
     },
     "execution_count": 29,
     "metadata": {},
     "output_type": "execute_result"
    }
   ],
   "source": [
    "prob(a and b)"
   ]
  },
  {
   "cell_type": "code",
   "execution_count": 30,
   "id": "d0893ea3",
   "metadata": {},
   "outputs": [
    {
     "data": {
      "text/plain": [
       "0.875"
      ]
     },
     "execution_count": 30,
     "metadata": {},
     "output_type": "execute_result"
    }
   ],
   "source": [
    "prob_req=1-prob( a and b)\n",
    "prob_req # the first one ends here this is the required probability"
   ]
  },
  {
   "cell_type": "code",
   "execution_count": null,
   "id": "068f37e7",
   "metadata": {},
   "outputs": [],
   "source": []
  },
  {
   "cell_type": "code",
   "execution_count": 31,
   "id": "09e06d91",
   "metadata": {},
   "outputs": [],
   "source": [
    "#Find the probability of getting a numbered card when a card is drawn from the pack of 52 cards."
   ]
  },
  {
   "cell_type": "code",
   "execution_count": 32,
   "id": "1a1cdd4a",
   "metadata": {},
   "outputs": [
    {
     "data": {
      "text/plain": [
       "{(2, 'a'),\n",
       " (2, 'c'),\n",
       " (2, 'h'),\n",
       " (2, 's'),\n",
       " (3, 'a'),\n",
       " (3, 'c'),\n",
       " (3, 'h'),\n",
       " (3, 's'),\n",
       " (4, 'a'),\n",
       " (4, 'c'),\n",
       " (4, 'h'),\n",
       " (4, 's'),\n",
       " (5, 'a'),\n",
       " (5, 'c'),\n",
       " (5, 'h'),\n",
       " (5, 's'),\n",
       " (6, 'a'),\n",
       " (6, 'c'),\n",
       " (6, 'h'),\n",
       " (6, 's'),\n",
       " (7, 'a'),\n",
       " (7, 'c'),\n",
       " (7, 'h'),\n",
       " (7, 's'),\n",
       " (8, 'a'),\n",
       " (8, 'c'),\n",
       " (8, 'h'),\n",
       " (8, 's'),\n",
       " (9, 'a'),\n",
       " (9, 'c'),\n",
       " (9, 'h'),\n",
       " (9, 's'),\n",
       " (10, 'a'),\n",
       " (10, 'c'),\n",
       " (10, 'h'),\n",
       " (10, 's')}"
      ]
     },
     "execution_count": 32,
     "metadata": {},
     "output_type": "execute_result"
    }
   ],
   "source": [
    "a=set(product([2,3,4,5,6,7,8,9,10],['s','a','h','c']))\n",
    "a"
   ]
  },
  {
   "cell_type": "code",
   "execution_count": 33,
   "id": "1b92a06e",
   "metadata": {},
   "outputs": [
    {
     "data": {
      "text/plain": [
       "{('A', 'a'),\n",
       " ('A', 'c'),\n",
       " ('A', 'h'),\n",
       " ('A', 's'),\n",
       " ('J', 'a'),\n",
       " ('J', 'c'),\n",
       " ('J', 'h'),\n",
       " ('J', 's'),\n",
       " ('K', 'a'),\n",
       " ('K', 'c'),\n",
       " ('K', 'h'),\n",
       " ('K', 's'),\n",
       " ('Q', 'a'),\n",
       " ('Q', 'c'),\n",
       " ('Q', 'h'),\n",
       " ('Q', 's'),\n",
       " (10, 'a'),\n",
       " (10, 'c'),\n",
       " (10, 'h'),\n",
       " (10, 's'),\n",
       " (2, 'a'),\n",
       " (2, 'c'),\n",
       " (2, 'h'),\n",
       " (2, 's'),\n",
       " (3, 'a'),\n",
       " (3, 'c'),\n",
       " (3, 'h'),\n",
       " (3, 's'),\n",
       " (4, 'a'),\n",
       " (4, 'c'),\n",
       " (4, 'h'),\n",
       " (4, 's'),\n",
       " (5, 'a'),\n",
       " (5, 'c'),\n",
       " (5, 'h'),\n",
       " (5, 's'),\n",
       " (6, 'a'),\n",
       " (6, 'c'),\n",
       " (6, 'h'),\n",
       " (6, 's'),\n",
       " (7, 'a'),\n",
       " (7, 'c'),\n",
       " (7, 'h'),\n",
       " (7, 's'),\n",
       " (8, 'a'),\n",
       " (8, 'c'),\n",
       " (8, 'h'),\n",
       " (8, 's'),\n",
       " (9, 'a'),\n",
       " (9, 'c'),\n",
       " (9, 'h'),\n",
       " (9, 's')}"
      ]
     },
     "execution_count": 33,
     "metadata": {},
     "output_type": "execute_result"
    }
   ],
   "source": [
    "b=set(product(['A',2,3,4,5,6,7,8,9,10,'J','K','Q'],['s','a','h','c']))\n",
    "b"
   ]
  },
  {
   "cell_type": "code",
   "execution_count": 34,
   "id": "f0765ab3",
   "metadata": {},
   "outputs": [
    {
     "data": {
      "text/plain": [
       "36"
      ]
     },
     "execution_count": 34,
     "metadata": {},
     "output_type": "execute_result"
    }
   ],
   "source": [
    "len((a\n",
    "    ))"
   ]
  },
  {
   "cell_type": "code",
   "execution_count": 35,
   "id": "2cabe022",
   "metadata": {},
   "outputs": [
    {
     "data": {
      "text/plain": [
       "52"
      ]
     },
     "execution_count": 35,
     "metadata": {},
     "output_type": "execute_result"
    }
   ],
   "source": [
    "#prob=len(a)/len(b)\n",
    "\n",
    "len(b)\n"
   ]
  },
  {
   "cell_type": "code",
   "execution_count": 36,
   "id": "775c910b",
   "metadata": {},
   "outputs": [],
   "source": [
    "prob=len(a)/len(b)"
   ]
  },
  {
   "cell_type": "code",
   "execution_count": 37,
   "id": "c21b2247",
   "metadata": {},
   "outputs": [
    {
     "data": {
      "text/plain": [
       "0.6923076923076923"
      ]
     },
     "execution_count": 37,
     "metadata": {},
     "output_type": "execute_result"
    }
   ],
   "source": [
    "prob"
   ]
  },
  {
   "cell_type": "code",
   "execution_count": 38,
   "id": "b8dc56a2",
   "metadata": {},
   "outputs": [],
   "source": [
    "#There are 5 green 7 red balls. Two balls are selected one by one without replacement.\n",
    "#Find the probability that first is green and second is red.\n",
    "#Sol: P (G) × P (R) = (5/12) x (7/11) = 35/132\n"
   ]
  },
  {
   "cell_type": "code",
   "execution_count": 39,
   "id": "8008a1fd",
   "metadata": {},
   "outputs": [
    {
     "data": {
      "text/plain": [
       "12"
      ]
     },
     "execution_count": 39,
     "metadata": {},
     "output_type": "execute_result"
    }
   ],
   "source": [
    "green =5\n",
    "red=7\n",
    "total=green+red\n",
    "total"
   ]
  },
  {
   "cell_type": "code",
   "execution_count": 40,
   "id": "cbdb9373",
   "metadata": {},
   "outputs": [],
   "source": [
    "prob1=(green)/(total)\n"
   ]
  },
  {
   "cell_type": "code",
   "execution_count": 41,
   "id": "fd639c31",
   "metadata": {},
   "outputs": [
    {
     "data": {
      "text/plain": [
       "0.4166666666666667"
      ]
     },
     "execution_count": 41,
     "metadata": {},
     "output_type": "execute_result"
    }
   ],
   "source": [
    "prob1"
   ]
  },
  {
   "cell_type": "code",
   "execution_count": 42,
   "id": "c54fa87b",
   "metadata": {},
   "outputs": [],
   "source": [
    "prob2=(red)/(total-1)"
   ]
  },
  {
   "cell_type": "code",
   "execution_count": 43,
   "id": "232543cd",
   "metadata": {},
   "outputs": [
    {
     "data": {
      "text/plain": [
       "0.6363636363636364"
      ]
     },
     "execution_count": 43,
     "metadata": {},
     "output_type": "execute_result"
    }
   ],
   "source": [
    "prob2\n"
   ]
  },
  {
   "cell_type": "code",
   "execution_count": 44,
   "id": "ef0862bc",
   "metadata": {},
   "outputs": [],
   "source": [
    "prob3=prob1*prob2\n"
   ]
  },
  {
   "cell_type": "code",
   "execution_count": 45,
   "id": "53f035bb",
   "metadata": {},
   "outputs": [
    {
     "data": {
      "text/plain": [
       "0.26515151515151514"
      ]
     },
     "execution_count": 45,
     "metadata": {},
     "output_type": "execute_result"
    }
   ],
   "source": [
    "prob3"
   ]
  },
  {
   "cell_type": "code",
   "execution_count": 46,
   "id": "a54cbdde",
   "metadata": {},
   "outputs": [],
   "source": [
    "#What is the probability of getting a sum of 7\n",
    "#when two dice are thrown?\n",
    "#Sol: \n",
    " #   Probability math - Total number of ways = 6 × 6 = 36 ways.\n",
    "  #  Favorable cases = (1, 6) (6, 1) (2, 5) (5, 2) (3, 4) (4, 3) --- 6 ways. P (A) = 6/36 = 1/6\n"
   ]
  },
  {
   "cell_type": "code",
   "execution_count": 47,
   "id": "51c2a6ec",
   "metadata": {},
   "outputs": [],
   "source": [
    "a=set(product([1,2,3,4,5,6],[1,2,3,4,5,6]))"
   ]
  },
  {
   "cell_type": "code",
   "execution_count": 48,
   "id": "50cb0fc7",
   "metadata": {},
   "outputs": [
    {
     "data": {
      "text/plain": [
       "{(1, 1),\n",
       " (1, 2),\n",
       " (1, 3),\n",
       " (1, 4),\n",
       " (1, 5),\n",
       " (1, 6),\n",
       " (2, 1),\n",
       " (2, 2),\n",
       " (2, 3),\n",
       " (2, 4),\n",
       " (2, 5),\n",
       " (2, 6),\n",
       " (3, 1),\n",
       " (3, 2),\n",
       " (3, 3),\n",
       " (3, 4),\n",
       " (3, 5),\n",
       " (3, 6),\n",
       " (4, 1),\n",
       " (4, 2),\n",
       " (4, 3),\n",
       " (4, 4),\n",
       " (4, 5),\n",
       " (4, 6),\n",
       " (5, 1),\n",
       " (5, 2),\n",
       " (5, 3),\n",
       " (5, 4),\n",
       " (5, 5),\n",
       " (5, 6),\n",
       " (6, 1),\n",
       " (6, 2),\n",
       " (6, 3),\n",
       " (6, 4),\n",
       " (6, 5),\n",
       " (6, 6)}"
      ]
     },
     "execution_count": 48,
     "metadata": {},
     "output_type": "execute_result"
    }
   ],
   "source": [
    "a\n",
    "\n"
   ]
  },
  {
   "cell_type": "code",
   "execution_count": 49,
   "id": "b80d0d4a",
   "metadata": {},
   "outputs": [
    {
     "data": {
      "text/plain": [
       "36"
      ]
     },
     "execution_count": 49,
     "metadata": {},
     "output_type": "execute_result"
    }
   ],
   "source": [
    "len(a) ##this one is unsolved \n"
   ]
  },
  {
   "cell_type": "code",
   "execution_count": 50,
   "id": "0ac101eb",
   "metadata": {},
   "outputs": [
    {
     "ename": "SyntaxError",
     "evalue": "invalid syntax (Temp/ipykernel_22372/587309166.py, line 2)",
     "output_type": "error",
     "traceback": [
      "\u001b[1;36m  File \u001b[1;32m\"C:\\Users\\Volt\\AppData\\Local\\Temp/ipykernel_22372/587309166.py\"\u001b[1;36m, line \u001b[1;32m2\u001b[0m\n\u001b[1;33m    \u001b[0m\n\u001b[1;37m    ^\u001b[0m\n\u001b[1;31mSyntaxError\u001b[0m\u001b[1;31m:\u001b[0m invalid syntax\n"
     ]
    }
   ],
   "source": [
    "#Three dice are rolled together. What is the probability as getting at least one '4'?\u000b\n",
    "Sol: Total number of ways = 6 × 6 × 6 = 216. Probability of getting number ‘4’ at least one time\u000b\n",
    "= 1 – (Probability of getting no number 4) = 1 – (5/6) x (5/6) x (5/6) = 91/216\n",
    "\n"
   ]
  },
  {
   "cell_type": "code",
   "execution_count": null,
   "id": "76f3a8e3",
   "metadata": {},
   "outputs": [],
   "source": [
    "n=3 \n",
    "omega=set(product([1,2,3,4,5,6],repeat =n))# IT WILL REPEAT AND PRINT CARTESIAN PROD"
   ]
  },
  {
   "cell_type": "code",
   "execution_count": null,
   "id": "36a6929e",
   "metadata": {},
   "outputs": [
    {
     "data": {
      "text/plain": [
       "{(1, 1, 1),\n",
       " (1, 1, 2),\n",
       " (1, 1, 3),\n",
       " (1, 1, 4),\n",
       " (1, 1, 5),\n",
       " (1, 1, 6),\n",
       " (1, 2, 1),\n",
       " (1, 2, 2),\n",
       " (1, 2, 3),\n",
       " (1, 2, 4),\n",
       " (1, 2, 5),\n",
       " (1, 2, 6),\n",
       " (1, 3, 1),\n",
       " (1, 3, 2),\n",
       " (1, 3, 3),\n",
       " (1, 3, 4),\n",
       " (1, 3, 5),\n",
       " (1, 3, 6),\n",
       " (1, 4, 1),\n",
       " (1, 4, 2),\n",
       " (1, 4, 3),\n",
       " (1, 4, 4),\n",
       " (1, 4, 5),\n",
       " (1, 4, 6),\n",
       " (1, 5, 1),\n",
       " (1, 5, 2),\n",
       " (1, 5, 3),\n",
       " (1, 5, 4),\n",
       " (1, 5, 5),\n",
       " (1, 5, 6),\n",
       " (1, 6, 1),\n",
       " (1, 6, 2),\n",
       " (1, 6, 3),\n",
       " (1, 6, 4),\n",
       " (1, 6, 5),\n",
       " (1, 6, 6),\n",
       " (2, 1, 1),\n",
       " (2, 1, 2),\n",
       " (2, 1, 3),\n",
       " (2, 1, 4),\n",
       " (2, 1, 5),\n",
       " (2, 1, 6),\n",
       " (2, 2, 1),\n",
       " (2, 2, 2),\n",
       " (2, 2, 3),\n",
       " (2, 2, 4),\n",
       " (2, 2, 5),\n",
       " (2, 2, 6),\n",
       " (2, 3, 1),\n",
       " (2, 3, 2),\n",
       " (2, 3, 3),\n",
       " (2, 3, 4),\n",
       " (2, 3, 5),\n",
       " (2, 3, 6),\n",
       " (2, 4, 1),\n",
       " (2, 4, 2),\n",
       " (2, 4, 3),\n",
       " (2, 4, 4),\n",
       " (2, 4, 5),\n",
       " (2, 4, 6),\n",
       " (2, 5, 1),\n",
       " (2, 5, 2),\n",
       " (2, 5, 3),\n",
       " (2, 5, 4),\n",
       " (2, 5, 5),\n",
       " (2, 5, 6),\n",
       " (2, 6, 1),\n",
       " (2, 6, 2),\n",
       " (2, 6, 3),\n",
       " (2, 6, 4),\n",
       " (2, 6, 5),\n",
       " (2, 6, 6),\n",
       " (3, 1, 1),\n",
       " (3, 1, 2),\n",
       " (3, 1, 3),\n",
       " (3, 1, 4),\n",
       " (3, 1, 5),\n",
       " (3, 1, 6),\n",
       " (3, 2, 1),\n",
       " (3, 2, 2),\n",
       " (3, 2, 3),\n",
       " (3, 2, 4),\n",
       " (3, 2, 5),\n",
       " (3, 2, 6),\n",
       " (3, 3, 1),\n",
       " (3, 3, 2),\n",
       " (3, 3, 3),\n",
       " (3, 3, 4),\n",
       " (3, 3, 5),\n",
       " (3, 3, 6),\n",
       " (3, 4, 1),\n",
       " (3, 4, 2),\n",
       " (3, 4, 3),\n",
       " (3, 4, 4),\n",
       " (3, 4, 5),\n",
       " (3, 4, 6),\n",
       " (3, 5, 1),\n",
       " (3, 5, 2),\n",
       " (3, 5, 3),\n",
       " (3, 5, 4),\n",
       " (3, 5, 5),\n",
       " (3, 5, 6),\n",
       " (3, 6, 1),\n",
       " (3, 6, 2),\n",
       " (3, 6, 3),\n",
       " (3, 6, 4),\n",
       " (3, 6, 5),\n",
       " (3, 6, 6),\n",
       " (4, 1, 1),\n",
       " (4, 1, 2),\n",
       " (4, 1, 3),\n",
       " (4, 1, 4),\n",
       " (4, 1, 5),\n",
       " (4, 1, 6),\n",
       " (4, 2, 1),\n",
       " (4, 2, 2),\n",
       " (4, 2, 3),\n",
       " (4, 2, 4),\n",
       " (4, 2, 5),\n",
       " (4, 2, 6),\n",
       " (4, 3, 1),\n",
       " (4, 3, 2),\n",
       " (4, 3, 3),\n",
       " (4, 3, 4),\n",
       " (4, 3, 5),\n",
       " (4, 3, 6),\n",
       " (4, 4, 1),\n",
       " (4, 4, 2),\n",
       " (4, 4, 3),\n",
       " (4, 4, 4),\n",
       " (4, 4, 5),\n",
       " (4, 4, 6),\n",
       " (4, 5, 1),\n",
       " (4, 5, 2),\n",
       " (4, 5, 3),\n",
       " (4, 5, 4),\n",
       " (4, 5, 5),\n",
       " (4, 5, 6),\n",
       " (4, 6, 1),\n",
       " (4, 6, 2),\n",
       " (4, 6, 3),\n",
       " (4, 6, 4),\n",
       " (4, 6, 5),\n",
       " (4, 6, 6),\n",
       " (5, 1, 1),\n",
       " (5, 1, 2),\n",
       " (5, 1, 3),\n",
       " (5, 1, 4),\n",
       " (5, 1, 5),\n",
       " (5, 1, 6),\n",
       " (5, 2, 1),\n",
       " (5, 2, 2),\n",
       " (5, 2, 3),\n",
       " (5, 2, 4),\n",
       " (5, 2, 5),\n",
       " (5, 2, 6),\n",
       " (5, 3, 1),\n",
       " (5, 3, 2),\n",
       " (5, 3, 3),\n",
       " (5, 3, 4),\n",
       " (5, 3, 5),\n",
       " (5, 3, 6),\n",
       " (5, 4, 1),\n",
       " (5, 4, 2),\n",
       " (5, 4, 3),\n",
       " (5, 4, 4),\n",
       " (5, 4, 5),\n",
       " (5, 4, 6),\n",
       " (5, 5, 1),\n",
       " (5, 5, 2),\n",
       " (5, 5, 3),\n",
       " (5, 5, 4),\n",
       " (5, 5, 5),\n",
       " (5, 5, 6),\n",
       " (5, 6, 1),\n",
       " (5, 6, 2),\n",
       " (5, 6, 3),\n",
       " (5, 6, 4),\n",
       " (5, 6, 5),\n",
       " (5, 6, 6),\n",
       " (6, 1, 1),\n",
       " (6, 1, 2),\n",
       " (6, 1, 3),\n",
       " (6, 1, 4),\n",
       " (6, 1, 5),\n",
       " (6, 1, 6),\n",
       " (6, 2, 1),\n",
       " (6, 2, 2),\n",
       " (6, 2, 3),\n",
       " (6, 2, 4),\n",
       " (6, 2, 5),\n",
       " (6, 2, 6),\n",
       " (6, 3, 1),\n",
       " (6, 3, 2),\n",
       " (6, 3, 3),\n",
       " (6, 3, 4),\n",
       " (6, 3, 5),\n",
       " (6, 3, 6),\n",
       " (6, 4, 1),\n",
       " (6, 4, 2),\n",
       " (6, 4, 3),\n",
       " (6, 4, 4),\n",
       " (6, 4, 5),\n",
       " (6, 4, 6),\n",
       " (6, 5, 1),\n",
       " (6, 5, 2),\n",
       " (6, 5, 3),\n",
       " (6, 5, 4),\n",
       " (6, 5, 5),\n",
       " (6, 5, 6),\n",
       " (6, 6, 1),\n",
       " (6, 6, 2),\n",
       " (6, 6, 3),\n",
       " (6, 6, 4),\n",
       " (6, 6, 5),\n",
       " (6, 6, 6)}"
      ]
     },
     "execution_count": 76,
     "metadata": {},
     "output_type": "execute_result"
    }
   ],
   "source": [
    "omega\n",
    "\n"
   ]
  },
  {
   "cell_type": "code",
   "execution_count": null,
   "id": "3ff363d2",
   "metadata": {},
   "outputs": [],
   "source": [
    "b1={om for om in omega if om.count(4)==0} \n",
    "#the count is zero\n"
   ]
  },
  {
   "cell_type": "code",
   "execution_count": null,
   "id": "a12d51c6",
   "metadata": {},
   "outputs": [
    {
     "ename": "NameError",
     "evalue": "name 'b1' is not defined",
     "output_type": "error",
     "traceback": [
      "\u001b[1;31m---------------------------------------------------------------------------\u001b[0m",
      "\u001b[1;31mNameError\u001b[0m                                 Traceback (most recent call last)",
      "\u001b[1;32m~\\AppData\\Local\\Temp/ipykernel_22372/487443817.py\u001b[0m in \u001b[0;36m<module>\u001b[1;34m\u001b[0m\n\u001b[1;32m----> 1\u001b[1;33m \u001b[0mb1\u001b[0m\u001b[1;33m\u001b[0m\u001b[1;33m\u001b[0m\u001b[0m\n\u001b[0m",
      "\u001b[1;31mNameError\u001b[0m: name 'b1' is not defined"
     ]
    }
   ],
   "source": [
    "b1"
   ]
  },
  {
   "cell_type": "code",
   "execution_count": null,
   "id": "fcc83c05",
   "metadata": {},
   "outputs": [
    {
     "ename": "NameError",
     "evalue": "name 'prob' is not defined",
     "output_type": "error",
     "traceback": [
      "\u001b[1;31m---------------------------------------------------------------------------\u001b[0m",
      "\u001b[1;31mNameError\u001b[0m                                 Traceback (most recent call last)",
      "\u001b[1;32m~\\AppData\\Local\\Temp/ipykernel_22372/514043113.py\u001b[0m in \u001b[0;36m<module>\u001b[1;34m\u001b[0m\n\u001b[1;32m----> 1\u001b[1;33m \u001b[0mprob\u001b[0m\u001b[1;33m(\u001b[0m\u001b[0mb\u001b[0m\u001b[1;33m)\u001b[0m\u001b[1;33m\u001b[0m\u001b[1;33m\u001b[0m\u001b[0m\n\u001b[0m",
      "\u001b[1;31mNameError\u001b[0m: name 'prob' is not defined"
     ]
    }
   ],
   "source": [
    "\n",
    "prob(b)"
   ]
  },
  {
   "cell_type": "code",
   "execution_count": null,
   "id": "e30ed845",
   "metadata": {},
   "outputs": [
    {
     "ename": "TypeError",
     "evalue": "'float' object is not callable",
     "output_type": "error",
     "traceback": [
      "\u001b[1;31m---------------------------------------------------------------------------\u001b[0m",
      "\u001b[1;31mTypeError\u001b[0m                                 Traceback (most recent call last)",
      "\u001b[1;32m~\\AppData\\Local\\Temp/ipykernel_22292/883906126.py\u001b[0m in \u001b[0;36m<module>\u001b[1;34m\u001b[0m\n\u001b[1;32m----> 1\u001b[1;33m \u001b[0mreq_prob\u001b[0m\u001b[1;33m=\u001b[0m\u001b[1;36m1\u001b[0m\u001b[1;33m-\u001b[0m\u001b[0mprob\u001b[0m\u001b[1;33m(\u001b[0m\u001b[0mb\u001b[0m\u001b[1;33m)\u001b[0m\u001b[1;33m\u001b[0m\u001b[1;33m\u001b[0m\u001b[0m\n\u001b[0m\u001b[0;32m      2\u001b[0m \u001b[0mreq_prob\u001b[0m\u001b[1;33m\u001b[0m\u001b[1;33m\u001b[0m\u001b[0m\n\u001b[0;32m      3\u001b[0m \u001b[1;33m\u001b[0m\u001b[0m\n",
      "\u001b[1;31mTypeError\u001b[0m: 'float' object is not callable"
     ]
    }
   ],
   "source": [
    "req_prob=1-prob(b)\n",
    "req_prob\n",
    "\n",
    "#problem is solved on untitled 10 there was an error of same names so kernel gets confused finded out the error"
   ]
  },
  {
   "cell_type": "code",
   "execution_count": null,
   "id": "fb3fd380",
   "metadata": {},
   "outputs": [],
   "source": [
    "#1 card is drawn at random from the pack of 52 cards.\n",
    "#(i) Find the Probability that it is an honor card.\n",
    "#(ii) It is a face card.\u000b\n",
    "# Sol: (i) honor cards = (A, J, Q, K) 4 cards from each suits = 4 × 4 = 16\u000b\n",
    "# P (honor card) = 16/52 = 4/13\u000b\n",
    "# (ii) face cards = (J,Q,K) 3 cards from each suit = 3 × 4 = 12 Cards.\u000b\n",
    "# P (face Card) = 12/52 = 3/13\n"
   ]
  },
  {
   "cell_type": "code",
   "execution_count": null,
   "id": "e4150f6d",
   "metadata": {},
   "outputs": [
    {
     "data": {
      "text/plain": [
       "{('A', 'a'),\n",
       " ('A', 'c'),\n",
       " ('A', 'h'),\n",
       " ('A', 's'),\n",
       " ('J', 'a'),\n",
       " ('J', 'c'),\n",
       " ('J', 'h'),\n",
       " ('J', 's'),\n",
       " ('K', 'a'),\n",
       " ('K', 'c'),\n",
       " ('K', 'h'),\n",
       " ('K', 's'),\n",
       " ('Q', 'a'),\n",
       " ('Q', 'c'),\n",
       " ('Q', 'h'),\n",
       " ('Q', 's'),\n",
       " (10, 'a'),\n",
       " (10, 'c'),\n",
       " (10, 'h'),\n",
       " (10, 's'),\n",
       " (2, 'a'),\n",
       " (2, 'c'),\n",
       " (2, 'h'),\n",
       " (2, 's'),\n",
       " (3, 'a'),\n",
       " (3, 'c'),\n",
       " (3, 'h'),\n",
       " (3, 's'),\n",
       " (4, 'a'),\n",
       " (4, 'c'),\n",
       " (4, 'h'),\n",
       " (4, 's'),\n",
       " (5, 'a'),\n",
       " (5, 'c'),\n",
       " (5, 'h'),\n",
       " (5, 's'),\n",
       " (6, 'a'),\n",
       " (6, 'c'),\n",
       " (6, 'h'),\n",
       " (6, 's'),\n",
       " (7, 'a'),\n",
       " (7, 'c'),\n",
       " (7, 'h'),\n",
       " (7, 's'),\n",
       " (8, 'a'),\n",
       " (8, 'c'),\n",
       " (8, 'h'),\n",
       " (8, 's'),\n",
       " (9, 'a'),\n",
       " (9, 'c'),\n",
       " (9, 'h'),\n",
       " (9, 's')}"
      ]
     },
     "execution_count": 84,
     "metadata": {},
     "output_type": "execute_result"
    }
   ],
   "source": [
    "C=set(product(['A',2,3,4,5,6,7,8,9,10,'J','K','Q'],['s','a','h','c']))\n",
    "C"
   ]
  },
  {
   "cell_type": "code",
   "execution_count": null,
   "id": "180bd760",
   "metadata": {},
   "outputs": [
    {
     "data": {
      "text/plain": [
       "52"
      ]
     },
     "execution_count": 85,
     "metadata": {},
     "output_type": "execute_result"
    }
   ],
   "source": [
    "len(C)\n"
   ]
  },
  {
   "cell_type": "code",
   "execution_count": null,
   "id": "2a880f80",
   "metadata": {},
   "outputs": [],
   "source": [
    "D=set(product(['A','J','K','Q'],['s','a','h','c']))"
   ]
  },
  {
   "cell_type": "code",
   "execution_count": null,
   "id": "157fee61",
   "metadata": {},
   "outputs": [
    {
     "data": {
      "text/plain": [
       "{('A', 'a'),\n",
       " ('A', 'c'),\n",
       " ('A', 'h'),\n",
       " ('A', 's'),\n",
       " ('J', 'a'),\n",
       " ('J', 'c'),\n",
       " ('J', 'h'),\n",
       " ('J', 's'),\n",
       " ('K', 'a'),\n",
       " ('K', 'c'),\n",
       " ('K', 'h'),\n",
       " ('K', 's'),\n",
       " ('Q', 'a'),\n",
       " ('Q', 'c'),\n",
       " ('Q', 'h'),\n",
       " ('Q', 's')}"
      ]
     },
     "execution_count": 87,
     "metadata": {},
     "output_type": "execute_result"
    }
   ],
   "source": [
    "D"
   ]
  },
  {
   "cell_type": "code",
   "execution_count": null,
   "id": "18fcb035",
   "metadata": {},
   "outputs": [
    {
     "data": {
      "text/plain": [
       "16"
      ]
     },
     "execution_count": 88,
     "metadata": {},
     "output_type": "execute_result"
    }
   ],
   "source": [
    "\n",
    "len(D)"
   ]
  },
  {
   "cell_type": "code",
   "execution_count": null,
   "id": "361d08fa",
   "metadata": {},
   "outputs": [],
   "source": [
    "prob=len(D)/len(C)"
   ]
  },
  {
   "cell_type": "code",
   "execution_count": null,
   "id": "5aa37239",
   "metadata": {},
   "outputs": [
    {
     "data": {
      "text/plain": [
       "0.3076923076923077"
      ]
     },
     "execution_count": 90,
     "metadata": {},
     "output_type": "execute_result"
    }
   ],
   "source": [
    "prob\n",
    "#4/13 =0.307692307 ##first one solved"
   ]
  },
  {
   "cell_type": "code",
   "execution_count": null,
   "id": "40d9ee1e",
   "metadata": {},
   "outputs": [],
   "source": [
    "#for face card\n",
    "E=set(product(['J','K','Q'],['s','a','h','c']))"
   ]
  },
  {
   "cell_type": "code",
   "execution_count": null,
   "id": "28e041ca",
   "metadata": {},
   "outputs": [
    {
     "data": {
      "text/plain": [
       "{('J', 'a'),\n",
       " ('J', 'c'),\n",
       " ('J', 'h'),\n",
       " ('J', 's'),\n",
       " ('K', 'a'),\n",
       " ('K', 'c'),\n",
       " ('K', 'h'),\n",
       " ('K', 's'),\n",
       " ('Q', 'a'),\n",
       " ('Q', 'c'),\n",
       " ('Q', 'h'),\n",
       " ('Q', 's')}"
      ]
     },
     "execution_count": 92,
     "metadata": {},
     "output_type": "execute_result"
    }
   ],
   "source": [
    "E\n"
   ]
  },
  {
   "cell_type": "code",
   "execution_count": null,
   "id": "dc395530",
   "metadata": {},
   "outputs": [
    {
     "data": {
      "text/plain": [
       "12"
      ]
     },
     "execution_count": 93,
     "metadata": {},
     "output_type": "execute_result"
    }
   ],
   "source": [
    "len(E)"
   ]
  },
  {
   "cell_type": "code",
   "execution_count": null,
   "id": "4f8183e3",
   "metadata": {},
   "outputs": [],
   "source": [
    "prob_face=len(E)/len(C)"
   ]
  },
  {
   "cell_type": "code",
   "execution_count": null,
   "id": "50a9f3e3",
   "metadata": {},
   "outputs": [
    {
     "data": {
      "text/plain": [
       "0.23076923076923078"
      ]
     },
     "execution_count": 95,
     "metadata": {},
     "output_type": "execute_result"
    }
   ],
   "source": [
    "prob_face\n",
    "#3/13=0.2307 ##finished "
   ]
  },
  {
   "cell_type": "code",
   "execution_count": null,
   "id": "123b6484",
   "metadata": {},
   "outputs": [],
   "source": []
  }
 ],
 "metadata": {
  "interpreter": {
   "hash": "d9c14bc3e06cce9659bff7a93f7820617c284163b61bf225fc55354cb1716740"
  },
  "kernelspec": {
   "display_name": "Python 3.9.2 64-bit",
   "name": "python3"
  },
  "language_info": {
   "codemirror_mode": {
    "name": "ipython",
    "version": 3
   },
   "file_extension": ".py",
   "mimetype": "text/x-python",
   "name": "python",
   "nbconvert_exporter": "python",
   "pygments_lexer": "ipython3",
   "version": "3.9.2"
  }
 },
 "nbformat": 4,
 "nbformat_minor": 5
}
