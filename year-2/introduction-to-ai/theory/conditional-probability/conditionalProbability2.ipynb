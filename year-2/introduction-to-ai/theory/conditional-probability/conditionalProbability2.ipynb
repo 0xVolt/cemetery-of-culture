{
 "cells": [
  {
   "cell_type": "code",
   "execution_count": 4,
   "source": [
    "from itertools import product"
   ],
   "outputs": [],
   "metadata": {}
  },
  {
   "cell_type": "code",
   "execution_count": 6,
   "source": [
    "n = 4\r\n",
    "sampleSet = set(product(['H', 'T'], repeat=n))"
   ],
   "outputs": [],
   "metadata": {}
  },
  {
   "cell_type": "code",
   "execution_count": 7,
   "source": [
    "sampleSet"
   ],
   "outputs": [
    {
     "output_type": "execute_result",
     "data": {
      "text/plain": [
       "{('H', 'H', 'H', 'H'),\n",
       " ('H', 'H', 'H', 'T'),\n",
       " ('H', 'H', 'T', 'H'),\n",
       " ('H', 'H', 'T', 'T'),\n",
       " ('H', 'T', 'H', 'H'),\n",
       " ('H', 'T', 'H', 'T'),\n",
       " ('H', 'T', 'T', 'H'),\n",
       " ('H', 'T', 'T', 'T'),\n",
       " ('T', 'H', 'H', 'H'),\n",
       " ('T', 'H', 'H', 'T'),\n",
       " ('T', 'H', 'T', 'H'),\n",
       " ('T', 'H', 'T', 'T'),\n",
       " ('T', 'T', 'H', 'H'),\n",
       " ('T', 'T', 'H', 'T'),\n",
       " ('T', 'T', 'T', 'H'),\n",
       " ('T', 'T', 'T', 'T')}"
      ]
     },
     "metadata": {},
     "execution_count": 7
    }
   ],
   "metadata": {}
  },
  {
   "cell_type": "code",
   "execution_count": 8,
   "source": [
    "moreThanEqualThreeHeads = {i for i in sampleSet if i.count('H') >= 3}\r\n",
    "moreThanEqualThreeHeads"
   ],
   "outputs": [
    {
     "output_type": "execute_result",
     "data": {
      "text/plain": [
       "{('H', 'H', 'H', 'H'),\n",
       " ('H', 'H', 'H', 'T'),\n",
       " ('H', 'H', 'T', 'H'),\n",
       " ('H', 'T', 'H', 'H'),\n",
       " ('T', 'H', 'H', 'H')}"
      ]
     },
     "metadata": {},
     "execution_count": 8
    }
   ],
   "metadata": {}
  },
  {
   "cell_type": "code",
   "execution_count": 9,
   "source": [
    "tailsAtFirst = {i for i in sampleSet if i[0] == 'T'}\r\n",
    "tailsAtFirst"
   ],
   "outputs": [
    {
     "output_type": "execute_result",
     "data": {
      "text/plain": [
       "{('T', 'H', 'H', 'H'),\n",
       " ('T', 'H', 'H', 'T'),\n",
       " ('T', 'H', 'T', 'H'),\n",
       " ('T', 'H', 'T', 'T'),\n",
       " ('T', 'T', 'H', 'H'),\n",
       " ('T', 'T', 'H', 'T'),\n",
       " ('T', 'T', 'T', 'H'),\n",
       " ('T', 'T', 'T', 'T')}"
      ]
     },
     "metadata": {},
     "execution_count": 9
    }
   ],
   "metadata": {}
  },
  {
   "cell_type": "code",
   "execution_count": 12,
   "source": [
    "# Function to return the probability of event x of happening\r\n",
    "\r\n",
    "def probability(x):\r\n",
    "    return (len(x) / len(sampleSet))"
   ],
   "outputs": [],
   "metadata": {}
  },
  {
   "cell_type": "code",
   "execution_count": 21,
   "source": [
    "print(sampleSet)\r\n",
    "len(sampleSet)"
   ],
   "outputs": [
    {
     "output_type": "stream",
     "name": "stdout",
     "text": [
      "{('H', 'T', 'H', 'T'), ('T', 'H', 'T', 'T'), ('H', 'T', 'T', 'H'), ('T', 'T', 'H', 'H'), ('T', 'H', 'T', 'H'), ('T', 'T', 'T', 'H'), ('H', 'T', 'T', 'T'), ('T', 'H', 'H', 'H'), ('H', 'H', 'H', 'H'), ('H', 'H', 'H', 'T'), ('H', 'T', 'H', 'H'), ('T', 'T', 'H', 'T'), ('H', 'H', 'T', 'H'), ('H', 'H', 'T', 'T'), ('T', 'H', 'H', 'T'), ('T', 'T', 'T', 'T')}\n"
     ]
    },
    {
     "output_type": "execute_result",
     "data": {
      "text/plain": [
       "16"
      ]
     },
     "metadata": {},
     "execution_count": 21
    }
   ],
   "metadata": {}
  },
  {
   "cell_type": "code",
   "execution_count": 18,
   "source": [
    "print(tailsAtFirst)\r\n",
    "probability(tailsAtFirst)"
   ],
   "outputs": [
    {
     "output_type": "stream",
     "name": "stdout",
     "text": [
      "{('T', 'T', 'H', 'H'), ('T', 'H', 'T', 'H'), ('T', 'T', 'T', 'H'), ('T', 'H', 'H', 'H'), ('T', 'T', 'H', 'T'), ('T', 'H', 'T', 'T'), ('T', 'T', 'T', 'T'), ('T', 'H', 'H', 'T')}\n"
     ]
    },
    {
     "output_type": "execute_result",
     "data": {
      "text/plain": [
       "0.5"
      ]
     },
     "metadata": {},
     "execution_count": 18
    }
   ],
   "metadata": {}
  },
  {
   "cell_type": "code",
   "execution_count": 19,
   "source": [
    "print(moreThanEqualThreeHeads)\r\n",
    "probability(moreThanEqualThreeHeads)"
   ],
   "outputs": [
    {
     "output_type": "stream",
     "name": "stdout",
     "text": [
      "{('T', 'H', 'H', 'H'), ('H', 'H', 'H', 'H'), ('H', 'H', 'H', 'T'), ('H', 'T', 'H', 'H'), ('H', 'H', 'T', 'H')}\n"
     ]
    },
    {
     "output_type": "execute_result",
     "data": {
      "text/plain": [
       "0.3125"
      ]
     },
     "metadata": {},
     "execution_count": 19
    }
   ],
   "metadata": {}
  }
 ],
 "metadata": {
  "orig_nbformat": 4,
  "language_info": {
   "name": "python",
   "version": "3.9.2",
   "mimetype": "text/x-python",
   "codemirror_mode": {
    "name": "ipython",
    "version": 3
   },
   "pygments_lexer": "ipython3",
   "nbconvert_exporter": "python",
   "file_extension": ".py"
  },
  "kernelspec": {
   "name": "python3",
   "display_name": "Python 3.9.2 64-bit"
  },
  "interpreter": {
   "hash": "d9c14bc3e06cce9659bff7a93f7820617c284163b61bf225fc55354cb1716740"
  }
 },
 "nbformat": 4,
 "nbformat_minor": 2
}