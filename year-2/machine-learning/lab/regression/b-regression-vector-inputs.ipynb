{
 "cells": [
  {
   "cell_type": "markdown",
   "metadata": {},
   "source": [
    "# Experiment 1.b - Regression (Vector)\n",
    "\n",
    "#### Objective: To perform regression with multi-dimensional input"
   ]
  },
  {
   "cell_type": "code",
   "execution_count": 1,
   "metadata": {},
   "outputs": [],
   "source": [
    "# Import libraries\n",
    "from sklearn.datasets import make_regression\n",
    "import numpy as np"
   ]
  },
  {
   "cell_type": "code",
   "execution_count": 2,
   "metadata": {},
   "outputs": [],
   "source": [
    "# Calculating W using the formula - [W = inverse(X'X) X' t]\n",
    "def calculateWVectorX(X, t):\n",
    "    XTranspose = np.transpose(X)\n",
    "\n",
    "    tempTerm1 = np.linalg.inv(np.matmul(XTranspose, X))\n",
    "\n",
    "    tempTerm2 = np.matmul(tempTerm1, XTranspose)\n",
    "\n",
    "    W = np.matmul(tempTerm2, t)\n",
    "\n",
    "    print(\"Printing the W vector:\")\n",
    "    print(W)\n",
    "    \n",
    "    return W"
   ]
  },
  {
   "cell_type": "code",
   "execution_count": 11,
   "metadata": {},
   "outputs": [],
   "source": [
    "# Verifying the correctness of our approach by creating the same dataset used in the previous program to verify linear regression using this method when X is a vector\n",
    "X, t = make_regression(100, 1, shuffle=True, bias=0, noise=25, random_state=5)"
   ]
  },
  {
   "cell_type": "code",
   "execution_count": 7,
   "metadata": {},
   "outputs": [],
   "source": [
    "# Create a dataset where X is a vector of 10 elements \n",
    "X, t = make_regression(100, 5, shuffle=True, bias=0, noise=0, random_state=5)"
   ]
  },
  {
   "cell_type": "code",
   "execution_count": 8,
   "metadata": {},
   "outputs": [
    {
     "name": "stdout",
     "output_type": "stream",
     "text": [
      "Type of X: <class 'numpy.ndarray'> | Type of array: (100, 5) | Count: 500\n",
      "Type of t: <class 'numpy.ndarray'> | Type of array: (100,) | Count: 100\n"
     ]
    }
   ],
   "source": [
    "# Printing details of X and t for verification\n",
    "print(\"Type of X:\", type(X), \"| Type of array:\", np.shape(X), \"| Count:\", np.count_nonzero(X))\n",
    "print(\"Type of t:\", type(t), \"| Type of array:\", np.shape(t), \"| Count:\", np.count_nonzero(t))"
   ]
  },
  {
   "cell_type": "code",
   "execution_count": 12,
   "metadata": {},
   "outputs": [
    {
     "name": "stdout",
     "output_type": "stream",
     "text": [
      "Printing the W vector:\n",
      "[59.27069451]\n",
      "[ -29.1083465     6.47815157   50.1911387   -17.60172513    6.2052969\n",
      "   67.90766979   11.20859535  -28.80666654  165.5646942    -2.64363928\n",
      "  -95.88075836  114.19170816   18.69289017   32.15635874  -24.11490183\n",
      "   24.89914594  -11.02310989   37.28305611 -174.86507461  136.14128674\n",
      "    7.23313598   62.00915656  -68.35142412  -84.08748372   27.86908698\n",
      "  -72.80812345    4.02971606  -34.46286071  -44.38357568    2.49589876\n",
      "  -57.01849987    5.15030487  -40.43989857   75.59175331  111.89208489\n",
      "   88.87681553   99.67856378  -59.06858448   11.98139713  -71.80983378\n",
      "  -16.36461035   27.66687579  -23.33993582  -77.23763931  -22.60399485\n",
      "   -0.27109173   70.23392375  -30.13464328  120.2261347    39.48785668\n",
      "  -30.62445903   54.4251619    -1.6845729   109.56451782   -2.02529702\n",
      "  -71.38778167  -15.23288578  -48.25586283   67.43676885  129.65952621\n",
      "  -15.56940226   40.22204702   45.11616635   54.77341435  -28.76030372\n",
      "   28.58584291    1.52143181  -11.4415441    37.39210932   28.34378787\n",
      "   71.42579569  146.48006666  -14.45872517   -7.28665107   -8.30801136\n",
      "   59.58225984  188.87639577  -18.92866955  -36.95630908   59.65604119\n",
      "  -56.90330978  -12.20197219   14.66674228  -47.61806909  -42.21317959\n",
      "  -30.25608225   -7.91904235   12.14477774  -13.62824078  -62.58622148\n",
      "   49.90623647  -97.16459477   55.96072226  -28.37942568   41.05827079\n",
      "  -35.16498928  -12.8946172    52.96980942    9.64281959    7.38324587]\n"
     ]
    }
   ],
   "source": [
    "# Using a function to calculate W for vector X and t\n",
    "W = calculateWVectorX(X, t)\n",
    "print(t)"
   ]
  },
  {
   "cell_type": "code",
   "execution_count": null,
   "metadata": {},
   "outputs": [],
   "source": []
  }
 ],
 "metadata": {
  "interpreter": {
   "hash": "f760b58b1702251c82a9d6c892fde15c055c7d753330857f80b5bdc53d0a46e9"
  },
  "kernelspec": {
   "display_name": "Python 3.9.7 64-bit ('base': conda)",
   "language": "python",
   "name": "python3"
  },
  "language_info": {
   "codemirror_mode": {
    "name": "ipython",
    "version": 3
   },
   "file_extension": ".py",
   "mimetype": "text/x-python",
   "name": "python",
   "nbconvert_exporter": "python",
   "pygments_lexer": "ipython3",
   "version": "3.9.7"
  },
  "orig_nbformat": 4
 },
 "nbformat": 4,
 "nbformat_minor": 2
}
