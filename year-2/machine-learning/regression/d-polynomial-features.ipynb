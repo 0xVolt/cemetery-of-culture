{
 "cells": [
  {
   "cell_type": "markdown",
   "metadata": {},
   "source": [
    "# Experiment 1.d - Regression (Polynomial Features)\n",
    "\n",
    "#### Objective: To perform regression with transformation of x taking y (t) as scalar "
   ]
  },
  {
   "cell_type": "code",
   "execution_count": 1,
   "metadata": {},
   "outputs": [],
   "source": [
    "# Import libraries\n",
    "import numpy as np\n",
    "from sklearn.datasets import make_regression"
   ]
  },
  {
   "cell_type": "code",
   "execution_count": 2,
   "metadata": {},
   "outputs": [],
   "source": [
    "# Calculating W using the formula - [W = inverse(Ø'Ø) Ø' t]\n",
    "def calculateWVectorX(X, t):\n",
    "    XTranspose = np.transpose(X)\n",
    "\n",
    "    tempTerm1 = np.linalg.inv(np.matmul(XTranspose, X))\n",
    "\n",
    "    tempTerm2 = np.matmul(tempTerm1, XTranspose)\n",
    "\n",
    "    W = np.matmul(tempTerm2, t)\n",
    "\n",
    "    # print(\"Printing the W vector:\")\n",
    "    # print(W)\n",
    "    \n",
    "    return W"
   ]
  },
  {
   "cell_type": "code",
   "execution_count": 3,
   "metadata": {},
   "outputs": [],
   "source": [
    "# Create a dataset where X is a vector of 10 elements \n",
    "X, t = make_regression(100, 1, shuffle=True, bias=0, noise=0, random_state=5)"
   ]
  },
  {
   "cell_type": "code",
   "execution_count": 4,
   "metadata": {},
   "outputs": [
    {
     "name": "stdout",
     "output_type": "stream",
     "text": [
      "Type of X: <class 'numpy.ndarray'> | Type of array: (100, 1) | Count: 100\n",
      "Type of t: <class 'numpy.ndarray'> | Type of array: (100,) | Count: 100\n"
     ]
    }
   ],
   "source": [
    "# Printing details of X and t for verification\n",
    "print(\"Type of X:\", type(X), \"| Type of array:\", np.shape(X), \"| Count:\", np.count_nonzero(X))\n",
    "print(\"Type of t:\", type(t), \"| Type of array:\", np.shape(t), \"| Count:\", np.count_nonzero(t))"
   ]
  },
  {
   "cell_type": "code",
   "execution_count": 5,
   "metadata": {},
   "outputs": [],
   "source": [
    "exponentialList = [np.exp(i) for i in X]\n",
    "# Or if you're feeling a little cheeky\n",
    "# exponentialList = np.exp(X)"
   ]
  },
  {
   "cell_type": "code",
   "execution_count": 6,
   "metadata": {},
   "outputs": [
    {
     "data": {
      "text/plain": [
       "array([14.88811833])"
      ]
     },
     "execution_count": 6,
     "metadata": {},
     "output_type": "execute_result"
    }
   ],
   "source": [
    "W = calculateWVectorX(exponentialList, t)\n",
    "W"
   ]
  },
  {
   "cell_type": "markdown",
   "metadata": {},
   "source": [
    "### Using sklearn to verify previous solution"
   ]
  },
  {
   "cell_type": "code",
   "execution_count": 7,
   "metadata": {},
   "outputs": [
    {
     "name": "stdout",
     "output_type": "stream",
     "text": [
      "\n",
      "Coefficient:\n",
      "[24.17230036]\n",
      "\n",
      "Bias:\n",
      "-35.80352364583599\n"
     ]
    }
   ],
   "source": [
    "# Using an alternate method using sklearn sub-modules\n",
    "from sklearn.linear_model import LinearRegression\n",
    "\n",
    "reg = LinearRegression().fit(exponentialList, t)\n",
    "\n",
    "# print(\"Regression score:\", reg.score(exponentialList, t))\n",
    "\n",
    "coeff = reg.coef_\n",
    "bias = reg.intercept_\n",
    "\n",
    "print(\"\\nCoefficient:\\n{}\\n\\nBias:\\n{}\".format(coeff, bias))"
   ]
  },
  {
   "cell_type": "markdown",
   "metadata": {},
   "source": [
    "##### Note: Since we don't add the x0 column at the end, we dont get the same result for both. To work around this, make sure to single out the first element and append after the transformation"
   ]
  },
  {
   "cell_type": "markdown",
   "metadata": {},
   "source": [
    "### Reference\n",
    "https://scikit-learn.org/stable/modules/generated/sklearn.preprocessing.PolynomialFeatures.html\n",
    "This library is useful for functions that aren't exp() or trigo. "
   ]
  }
 ],
 "metadata": {
  "interpreter": {
   "hash": "f760b58b1702251c82a9d6c892fde15c055c7d753330857f80b5bdc53d0a46e9"
  },
  "kernelspec": {
   "display_name": "Python 3.9.7 64-bit ('base': conda)",
   "language": "python",
   "name": "python3"
  },
  "language_info": {
   "codemirror_mode": {
    "name": "ipython",
    "version": 3
   },
   "file_extension": ".py",
   "mimetype": "text/x-python",
   "name": "python",
   "nbconvert_exporter": "python",
   "pygments_lexer": "ipython3",
   "version": "3.9.7"
  },
  "orig_nbformat": 4
 },
 "nbformat": 4,
 "nbformat_minor": 2
}
