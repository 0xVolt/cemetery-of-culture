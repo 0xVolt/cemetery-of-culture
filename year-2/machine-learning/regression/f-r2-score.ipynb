{
 "cells": [
  {
   "cell_type": "markdown",
   "metadata": {},
   "source": [
    "# Experiement 1.f - Calculating r<sup>2</sup> Score to evaluate the Regression Model"
   ]
  },
  {
   "cell_type": "markdown",
   "metadata": {},
   "source": [
    "#### Objective - Use `make_regression()` to create an n-dimensional dataset and fit it to a linear regression model. Then calculate the r<sup>2</sup> score using `r2_score()` from `skelearn.metrics`."
   ]
  },
  {
   "cell_type": "code",
   "execution_count": 1,
   "metadata": {},
   "outputs": [],
   "source": [
    "# Import libraries\n",
    "from sklearn.datasets import make_regression\n",
    "from sklearn.linear_model import LinearRegression"
   ]
  },
  {
   "cell_type": "code",
   "execution_count": 2,
   "metadata": {},
   "outputs": [],
   "source": [
    "# Create a dataset where X is a vector of 100 elements and the output is a target of 2\n",
    "X, T = make_regression(100, 5, n_targets=2, shuffle=True, bias=0, noise=0, random_state=5)\n",
    "reg = LinearRegression().fit(X, T)"
   ]
  },
  {
   "cell_type": "code",
   "execution_count": 3,
   "metadata": {},
   "outputs": [],
   "source": [
    "from sklearn.metrics import r2_score"
   ]
  },
  {
   "cell_type": "code",
   "execution_count": 4,
   "metadata": {},
   "outputs": [],
   "source": [
    "yPredict = reg.predict(X)"
   ]
  },
  {
   "cell_type": "code",
   "execution_count": 5,
   "metadata": {},
   "outputs": [
    {
     "data": {
      "text/plain": [
       "1.0"
      ]
     },
     "execution_count": 5,
     "metadata": {},
     "output_type": "execute_result"
    }
   ],
   "source": [
    "# Using the r2_score to predict the r2 score\n",
    "r2_score(T, yPredict)"
   ]
  },
  {
   "cell_type": "code",
   "execution_count": 6,
   "metadata": {},
   "outputs": [
    {
     "name": "stdout",
     "output_type": "stream",
     "text": [
      "Regression score: 1.0\n",
      "\n",
      "Coefficient:\n",
      "[[82.93798606 23.98420584 47.28253652 26.96534097 64.51438661]\n",
      " [54.384843   33.36523049 91.89020672 49.66450736 82.56441521]]\n",
      "\n",
      "Bias:\n",
      "[1.33226763e-14 1.68753900e-14]\n"
     ]
    }
   ],
   "source": [
    "# By default, scoring takes R^2 score\n",
    "print(\"Regression score:\", reg.score(X, T))\n",
    "\n",
    "coeff = reg.coef_\n",
    "bias = reg.intercept_\n",
    "\n",
    "print(\"\\nCoefficient:\\n{}\\n\\nBias:\\n{}\".format(coeff, bias))"
   ]
  },
  {
   "cell_type": "code",
   "execution_count": 7,
   "metadata": {},
   "outputs": [],
   "source": [
    "# 3.3.4.8. R² score, the coefficient of determination: https://scikit-learn.org/stable/modules/model_evaluation.html#regression-metrics"
   ]
  }
 ],
 "metadata": {
  "interpreter": {
   "hash": "f760b58b1702251c82a9d6c892fde15c055c7d753330857f80b5bdc53d0a46e9"
  },
  "kernelspec": {
   "display_name": "Python 3.9.7 64-bit ('base': conda)",
   "language": "python",
   "name": "python3"
  },
  "language_info": {
   "codemirror_mode": {
    "name": "ipython",
    "version": 3
   },
   "file_extension": ".py",
   "mimetype": "text/x-python",
   "name": "python",
   "nbconvert_exporter": "python",
   "pygments_lexer": "ipython3",
   "version": "3.9.7"
  },
  "orig_nbformat": 4
 },
 "nbformat": 4,
 "nbformat_minor": 2
}
