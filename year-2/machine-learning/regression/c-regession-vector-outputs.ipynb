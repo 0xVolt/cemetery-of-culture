{
 "cells": [
  {
   "cell_type": "markdown",
   "metadata": {},
   "source": [
    "# Experiment 1.c - Regression (Vector)\n",
    "\n",
    "#### Objective: To perform regression with multi-dimensional output given a multi-dimensional input"
   ]
  },
  {
   "cell_type": "code",
   "execution_count": 1,
   "metadata": {},
   "outputs": [],
   "source": [
    "# Import libraries\n",
    "from sklearn.datasets import make_regression\n",
    "import numpy as np"
   ]
  },
  {
   "cell_type": "code",
   "execution_count": 2,
   "metadata": {},
   "outputs": [],
   "source": [
    "# Calculating W using the formula - [W = inverse(X'X) X' t]\n",
    "def calculateWVectorX(X, t):\n",
    "    XTranspose = np.transpose(X)\n",
    "\n",
    "    tempTerm1 = np.linalg.inv(np.matmul(XTranspose, X))\n",
    "\n",
    "    tempTerm2 = np.matmul(tempTerm1, XTranspose)\n",
    "\n",
    "    W = np.matmul(tempTerm2, t)\n",
    "\n",
    "    print(\"Printing the W vector:\")\n",
    "    print(W)\n",
    "    \n",
    "    return W"
   ]
  },
  {
   "cell_type": "code",
   "execution_count": 3,
   "metadata": {},
   "outputs": [],
   "source": [
    "# Create a dataset where X is a vector of 100 elements and the output is a target of 2\n",
    "X, T = make_regression(100, 5, n_targets=2, shuffle=True, bias=0, noise=0, random_state=5)"
   ]
  },
  {
   "cell_type": "code",
   "execution_count": 4,
   "metadata": {},
   "outputs": [
    {
     "name": "stdout",
     "output_type": "stream",
     "text": [
      "Type of X: <class 'numpy.ndarray'> | Type of array: (100, 5) | Count: 500\n",
      "Type of T: <class 'numpy.ndarray'> | Type of array: (100, 2) | Count: 200\n"
     ]
    }
   ],
   "source": [
    "# Printing details of X and t for verification\n",
    "print(\"Type of X:\", type(X), \"| Type of array:\", np.shape(X), \"| Count:\", np.count_nonzero(X))\n",
    "print(\"Type of T:\", type(T), \"| Type of array:\", np.shape(T), \"| Count:\", np.count_nonzero(T))"
   ]
  },
  {
   "cell_type": "code",
   "execution_count": 5,
   "metadata": {},
   "outputs": [
    {
     "name": "stdout",
     "output_type": "stream",
     "text": [
      "Printing the W vector:\n",
      "[[82.93798606 54.384843  ]\n",
      " [23.98420584 33.36523049]\n",
      " [47.28253652 91.89020672]\n",
      " [26.96534097 49.66450736]\n",
      " [64.51438661 82.56441521]]\n"
     ]
    }
   ],
   "source": [
    "# Using a function to calculate W for vector X and t\n",
    "W = calculateWVectorX(X, T)"
   ]
  },
  {
   "cell_type": "markdown",
   "metadata": {},
   "source": [
    "### Using sklearn to verify previous solution"
   ]
  },
  {
   "cell_type": "code",
   "execution_count": 6,
   "metadata": {},
   "outputs": [
    {
     "name": "stdout",
     "output_type": "stream",
     "text": [
      "Regression score: 1.0\n",
      "\n",
      "Coefficient:\n",
      "[[82.93798606 23.98420584 47.28253652 26.96534097 64.51438661]\n",
      " [54.384843   33.36523049 91.89020672 49.66450736 82.56441521]]\n",
      "\n",
      "Bias:\n",
      "[1.33226763e-14 1.68753900e-14]\n"
     ]
    }
   ],
   "source": [
    "# Using an alternate method using sklearn sub-modules\n",
    "from sklearn.linear_model import LinearRegression\n",
    "\n",
    "reg = LinearRegression().fit(X, T)\n",
    "\n",
    "print(\"Regression score:\", reg.score(X, T))\n",
    "\n",
    "coeff = reg.coef_\n",
    "bias = reg.intercept_\n",
    "\n",
    "print(\"\\nCoefficient:\\n{}\\n\\nBias:\\n{}\".format(coeff, bias))"
   ]
  }
 ],
 "metadata": {
  "interpreter": {
   "hash": "f760b58b1702251c82a9d6c892fde15c055c7d753330857f80b5bdc53d0a46e9"
  },
  "kernelspec": {
   "display_name": "Python 3.9.7 64-bit ('base': conda)",
   "language": "python",
   "name": "python3"
  },
  "language_info": {
   "codemirror_mode": {
    "name": "ipython",
    "version": 3
   },
   "file_extension": ".py",
   "mimetype": "text/x-python",
   "name": "python",
   "nbconvert_exporter": "python",
   "pygments_lexer": "ipython3",
   "version": "3.9.7"
  },
  "orig_nbformat": 4
 },
 "nbformat": 4,
 "nbformat_minor": 2
}
