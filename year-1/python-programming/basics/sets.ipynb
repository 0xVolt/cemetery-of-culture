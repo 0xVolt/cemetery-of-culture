{
 "cells": [
  {
   "cell_type": "code",
   "execution_count": null,
   "metadata": {},
   "outputs": [],
   "source": [
    "# Sets\n",
    "\n",
    "# they are unordered\n",
    "# duplicates are not allowed\n",
    "# immutable\n",
    "# initialized using {}\n",
    "\n",
    "a = {1, 2, 'a', 3, 'b'} # example"
   ]
  },
  {
   "cell_type": "code",
   "execution_count": null,
   "metadata": {},
   "outputs": [],
   "source": [
    "# functions in sets\n",
    "\n",
    "a = {1, 2, 'a', 3, 'minion'}\n",
    "print (\"The set is: \", a)\n",
    "\n",
    "a.add(\"hi\") # adding an element\n",
    "print (\"The list after add is:  \", a)\n",
    "\n",
    "a.remove(2) # a.remove('b') returns error as element is not found\n",
    "print (\"The list after remove is:  \", a)"
   ]
  },
  {
   "cell_type": "code",
   "execution_count": null,
   "metadata": {},
   "outputs": [],
   "source": [
    "# operations and functions in sets\n",
    "\n",
    "a = {1, 2, 3}\n",
    "b = {1, 2, 4, 6}\n",
    "print (\"The two sets are:   \", a, b)\n",
    "print (\"The union is:   \", a.union(b), a|b) # union\n",
    "print (\"The intersection is:   \", a.intersection(b), a&b) # intersection\n",
    "print (\"The difference of a & b is:   \", a.difference(b), a-b) # elements in a but not in b\n",
    "print (\"The difference of b & a is:   \", b.difference(a), b-a) # elements in b but not in a"
   ]
  },
  {
   "cell_type": "code",
   "execution_count": null,
   "metadata": {},
   "outputs": [],
   "source": [
    "a = [1, 3, 6, 4, 2, 5]\n",
    "b = (1, 2, 5, 4, 3, 6)\n",
    "c = {6, 2, 1, 4, 3, 5}\n",
    "\n",
    "print (\"variables a, b, c have the values:\", a, b, c, sep = '\\n', end = '\\n\\n -------------\\n\\n')\n",
    "print (\"The types of a, b, c are:\", type(a), type(b), type(c), sep = '\\n', end = '\\n\\n -------------\\n\\n')\n",
    "print (\"The stored values are:\", sorted(a), sorted(b), sorted(c), sep = '\\n', end = '\\n\\n -------------\\n\\n')"
   ]
  }
 ],
 "metadata": {
  "interpreter": {
   "hash": "64c38de73638cd68f06ade4f2daf9db87bd00ec7e1b0ba5dd5d9d6d9e2cca6dc"
  },
  "kernelspec": {
   "display_name": "Python 3.10.1 64-bit",
   "language": "python",
   "name": "python3"
  },
  "language_info": {
   "codemirror_mode": {
    "name": "ipython",
    "version": 3
   },
   "file_extension": ".py",
   "mimetype": "text/x-python",
   "name": "python",
   "nbconvert_exporter": "python",
   "pygments_lexer": "ipython3",
   "version": "3.10.1"
  },
  "orig_nbformat": 4
 },
 "nbformat": 4,
 "nbformat_minor": 2
}
