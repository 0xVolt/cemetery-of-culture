{
 "cells": [
  {
   "cell_type": "code",
   "execution_count": null,
   "metadata": {},
   "outputs": [],
   "source": [
    "# this is a single line comment\n",
    "\n",
    "'''\n",
    "This is a multi-line comment\n",
    "'''"
   ]
  },
  {
   "cell_type": "code",
   "execution_count": null,
   "metadata": {},
   "outputs": [],
   "source": [
    "print (\"Hello World\")\n",
    "\n",
    "# print is used to display argument"
   ]
  },
  {
   "cell_type": "code",
   "execution_count": null,
   "metadata": {},
   "outputs": [],
   "source": [
    "print (\"Hello World\", \"This is Akshit\", sep= ' @ ', end=' ### \\n' )"
   ]
  },
  {
   "cell_type": "code",
   "execution_count": null,
   "metadata": {},
   "outputs": [],
   "source": [
    "enter = input(\"Enter your text: \")\n",
    "print(enter)\n",
    "\n",
    "# input is used to take input from user"
   ]
  },
  {
   "cell_type": "code",
   "execution_count": 2,
   "metadata": {},
   "outputs": [
    {
     "name": "stdout",
     "output_type": "stream",
     "text": [
      "Number of boys:  1\n",
      "Number of girls:  2\n",
      "\n",
      "Total number of students:  1\n",
      "Number of boys is :  2\n",
      "Number of girls is :  3\n",
      "\n",
      "First number is 1 and second number is 2\n",
      "\n",
      "List of students:  [1, 2, 3, 4]\n"
     ]
    }
   ],
   "source": [
    "# Python program showing how to multiple input using split\n",
    " \n",
    "# taking two inputs at a time\n",
    "x, y = input(\"Enter two values: \").split()\n",
    "print(\"Number of boys: \", x)\n",
    "print(\"Number of girls: \", y)\n",
    "print()\n",
    " \n",
    "# taking three inputs at a time\n",
    "x, y, z = input(\"Enter three values: \").split()\n",
    "print(\"Total number of students: \", x)\n",
    "print(\"Number of boys is : \", y)\n",
    "print(\"Number of girls is : \", z)\n",
    "print()\n",
    " \n",
    "# taking two inputs at a time\n",
    "a, b = input(\"Enter two values: \").split()\n",
    "print(\"First number is {} and second number is {}\".format(a, b))\n",
    "print()\n",
    " \n",
    "# taking multiple inputs at a time\n",
    "# type casting using list() function\n",
    "x = list(map(int, input(\"Enter multiple values: \").split()))\n",
    "print(\"List of students: \", x)\n",
    "\n",
    "\n",
    "# Syntax : input().split(separator, maxsplit)"
   ]
  },
  {
   "cell_type": "code",
   "execution_count": null,
   "metadata": {},
   "outputs": [],
   "source": [
    "# {} are used for text formatting\n",
    "# f-string evaluates at runtime of the program\n",
    "# we can also use F, '', ''''', \"\"\"\"\"\"'\n",
    "\n",
    "print (f\"Sum of 3 + 4 = {3 + 4}\") # evaluating expression\n"
   ]
  },
  {
   "cell_type": "code",
   "execution_count": null,
   "metadata": {},
   "outputs": [],
   "source": [
    "# Python is dynamically typed\n",
    "\n",
    "a = \"hello\"\n",
    "b = 10\n",
    "c = 99.99\n",
    "\n",
    "print (type(a), type(b), type(c))\n",
    "print (a, b, c)"
   ]
  },
  {
   "cell_type": "code",
   "execution_count": null,
   "metadata": {},
   "outputs": [],
   "source": [
    "# Formatting string using format() method\n",
    "\n",
    "txt1 = \"My name is {fname}, I'm {age}\".format(fname = \"Akshit\", age = 18)\n",
    "txt2 = \"My name is {0}, I'm {1}\".format(\"Akshit\", 18)\n",
    "txt3 = \"My name is {}, I'm {}\".format(\"Akshit\", 18)\n",
    "\n",
    "print (txt1, txt2, txt3)\n",
    "\n",
    "# Inside the placeholders you can add a formatting type to format the result"
   ]
  },
  {
   "cell_type": "code",
   "execution_count": 12,
   "metadata": {},
   "outputs": [
    {
     "name": "stdout",
     "output_type": "stream",
     "text": [
      "Geeks :  1, Portal :  5.33\n",
      "Total students : 240, Boys : 120\n",
      "  031\n",
      " 3.561E+02\n"
     ]
    }
   ],
   "source": [
    "# Formatting string using % operator\n",
    "\n",
    "# print integer and float value\n",
    "print(\"Students : %2d, Portal : %5.2f\" % (1, 70.655)) # here 5 is the field width\n",
    " \n",
    "# print integer value\n",
    "print(\"Total students : %3d, Girls : %2d\" % (400, 150))\n",
    " \n",
    "# print octal value\n",
    "print(\"%5.3o\" % (66))\n",
    " \n",
    "# print exponential value\n",
    "print(\"%10.3E\" % (123.045678))\n",
    "\n",
    "\n",
    "# Syntax : %[flags][width][.precision]type"
   ]
  },
  {
   "cell_type": "code",
   "execution_count": null,
   "metadata": {},
   "outputs": [],
   "source": [
    "f1 = 12e4\n",
    "print(f1)\n",
    "\n",
    "f2 = 12e400 # beyond maximum size\n",
    "print(f2)"
   ]
  },
  {
   "cell_type": "code",
   "execution_count": null,
   "metadata": {},
   "outputs": [],
   "source": [
    "# Working of complex numbers\n",
    "  \n",
    "# importing \"cmath\" for complex number operations\n",
    "import cmath\n",
    "  \n",
    "# Initializing real numbers\n",
    "x = 8\n",
    "y = 2\n",
    "  \n",
    "# converting x and y into complex number\n",
    "z = complex(x,y);\n",
    "print (\"The complex number is \", z)\n",
    "  \n",
    "# printing real and imaginary part of complex number\n",
    "print (\"The real part of complex number is : \",end=\"\")\n",
    "print (z.real)\n",
    "  \n",
    "print (\"The imaginary part of complex number is : \",end=\"\")\n",
    "print (z.imag)"
   ]
  },
  {
   "cell_type": "code",
   "execution_count": null,
   "metadata": {},
   "outputs": [],
   "source": [
    "z = 8 + 2j\n",
    "print(z)\n",
    "print(type(z))"
   ]
  },
  {
   "cell_type": "code",
   "execution_count": null,
   "metadata": {},
   "outputs": [],
   "source": [
    "# Python program to convert decimal into other number systems\n",
    "dec = 10 # base 10\n",
    "\n",
    "print(\"The decimal value of\", dec, \"is:\")\n",
    "print(bin(dec), \"in binary.\") # base 2\n",
    "print(oct(dec), \"in octal.\") # base 8\n",
    "print(hex(dec), \"in hexadecimal.\") # base 16"
   ]
  }
 ],
 "metadata": {
  "interpreter": {
   "hash": "64c38de73638cd68f06ade4f2daf9db87bd00ec7e1b0ba5dd5d9d6d9e2cca6dc"
  },
  "kernelspec": {
   "display_name": "Python 3.10.1 64-bit",
   "language": "python",
   "name": "python3"
  },
  "language_info": {
   "codemirror_mode": {
    "name": "ipython",
    "version": 3
   },
   "file_extension": ".py",
   "mimetype": "text/x-python",
   "name": "python",
   "nbconvert_exporter": "python",
   "pygments_lexer": "ipython3",
   "version": "3.10.1"
  },
  "orig_nbformat": 4
 },
 "nbformat": 4,
 "nbformat_minor": 2
}
