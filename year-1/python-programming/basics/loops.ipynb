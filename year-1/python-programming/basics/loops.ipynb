{
 "cells": [
  {
   "cell_type": "code",
   "execution_count": null,
   "metadata": {},
   "outputs": [],
   "source": [
    "# for loop\n",
    "for i in range (1, 5): # will iterate from i=1 to 4\n",
    "    print (\"hello\", end=' ') # in print statement end= is equal to /n\n",
    "for i in range(5, 1, -1): # 5 to 1 and step value of -1 (5-1 = 4 and so on) and will print 4 times\n",
    "    print (\"hi\", end =' ')\n",
    "for i in range (1, 5, 2):\n",
    "    print (\"indian\", end=' ')    \n",
    "for i in range ( 5, 1, -2): # reverse loop with step count as -2\n",
    "    print (\"citizen\", end=' ')"
   ]
  },
  {
   "cell_type": "code",
   "execution_count": null,
   "metadata": {},
   "outputs": [],
   "source": [
    "# while loop\n",
    "i = 0\n",
    "while (i < 5):\n",
    "    print (i)\n",
    "    i = i + 1  #python doesn't support post or pre increment"
   ]
  }
 ],
 "metadata": {
  "interpreter": {
   "hash": "64c38de73638cd68f06ade4f2daf9db87bd00ec7e1b0ba5dd5d9d6d9e2cca6dc"
  },
  "kernelspec": {
   "display_name": "Python 3.10.1 64-bit",
   "language": "python",
   "name": "python3"
  },
  "language_info": {
   "name": "python",
   "version": "3.10.1"
  },
  "orig_nbformat": 4
 },
 "nbformat": 4,
 "nbformat_minor": 2
}
