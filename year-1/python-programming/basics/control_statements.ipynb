{
 "cells": [
  {
   "cell_type": "code",
   "execution_count": null,
   "metadata": {},
   "outputs": [],
   "source": [
    "# break statement\n",
    "\n",
    "i = 0\n",
    "count = 0;\n",
    "while (i < 5):\n",
    "    a = int(input()) # explicit conversion string -> int\n",
    "    if a < 3:\n",
    "        count=count+1;\n",
    "        print (f\"wrong input{count}times\")\n",
    "    else:\n",
    "        print (\"ok\")\n",
    "    if count == 3:\n",
    "        print (\"limit exceeded\")\n",
    "        break\n",
    "    i = i + 1\n",
    "    \n",
    " # break and continue can only be used with loop, and not with if etc."
   ]
  },
  {
   "cell_type": "code",
   "execution_count": null,
   "metadata": {},
   "outputs": [],
   "source": [
    "# break and continue\n",
    "\n",
    "while (1): # it will run infinitely\n",
    "    print (\"input 1 to break the trap\") \n",
    "    a = int(input())\n",
    "    if a == 1:\n",
    "        print (\"you have broken the trap)\")\n",
    "        break # takes it out of the loop\n",
    "    else:"
   ]
  }
 ],
 "metadata": {
  "interpreter": {
   "hash": "64c38de73638cd68f06ade4f2daf9db87bd00ec7e1b0ba5dd5d9d6d9e2cca6dc"
  },
  "kernelspec": {
   "display_name": "Python 3.10.1 64-bit",
   "language": "python",
   "name": "python3"
  },
  "language_info": {
   "name": "python",
   "version": "3.10.1"
  },
  "orig_nbformat": 4
 },
 "nbformat": 4,
 "nbformat_minor": 2
}
