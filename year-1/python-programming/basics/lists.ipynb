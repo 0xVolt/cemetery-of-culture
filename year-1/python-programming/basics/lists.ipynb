{
 "cells": [
  {
   "cell_type": "code",
   "execution_count": null,
   "metadata": {},
   "outputs": [],
   "source": [
    "# Dynamically sized array to store data\n",
    "# Indexed from 0\n",
    "# Mutable and can have multiple copies of elements\n",
    "\n",
    "a = [1, 2, 3, 4, 5, \"Hello\"] # Data may not be similar\n",
    "print (a)\n",
    "print (\"1st element is at index 0 and is\", a[0]) # indexing\n",
    "type (a)"
   ]
  },
  {
   "cell_type": "code",
   "execution_count": null,
   "metadata": {},
   "outputs": [],
   "source": [
    "# Indexing\n",
    "\n",
    "a = [1, 2, \"Akshit\", 66.66, 1, \"Hi\"]\n",
    "print (\"0th index = 1st element is\", a[0]) # forward index starts at 0\n",
    "print (\"4th index = 5th element is\", a[4])\n",
    "print (\"-1st index = last element is\", a[-1]) # reverse index starts at -1\n",
    "print (\"-5th index = 2nd element is\", a[-5])"
   ]
  },
  {
   "cell_type": "code",
   "execution_count": null,
   "metadata": {},
   "outputs": [],
   "source": [
    "# Adding to list\n",
    "\n",
    "a = [1, 2, 3, 4, 5]\n",
    "print (\"The list is :\", a)\n",
    "\n",
    "a.append(\"Hello\") # adds element to the end of the list\n",
    "print (\"The new list after append is :\", a)\n",
    "\n",
    "a.insert(2, \"Akshit\") # adds element to the specified position\n",
    "print (\"The new list after insert is :\", a)\n",
    "\n",
    "a.extend([6, 7, 8, 9]) #itterable append\n",
    "print (\"The new list after extend is :\", a)"
   ]
  },
  {
   "cell_type": "code",
   "execution_count": null,
   "metadata": {},
   "outputs": [],
   "source": [
    "# Removing from the list\n",
    "\n",
    "a = ['a', 'b', 'a', 'c', 1, 2, 3, 4]\n",
    "print (\"The list is :\", a)\n",
    "\n",
    "a.remove('a') # removes the forst occurence of the value\n",
    "print (\"The new list after remove is :\", a)\n",
    "\n",
    "a.pop() # removes the last element from the list\n",
    "print (\"The new list after pop is :\", a)\n",
    "\n",
    "a.pop(2) # removes element at index 2\n",
    "print (\"The new list after pop is :\", a)"
   ]
  },
  {
   "cell_type": "code",
   "execution_count": null,
   "metadata": {},
   "outputs": [],
   "source": [
    "# Multi-Dimensional List\n",
    "\n",
    "a = [[1, 2, 3], [4, 5, 6]] # indexing in 2D array is same as that in C\n",
    "print (\"The array is :\", a)\n",
    "\n",
    "print (\"2D array elements are :\", a[0], a[1])\n",
    "\n",
    "print (\"1D array elements are :\", a[0][0], a[0][1], a[0][2], a[1][0], a[1][1], a[1][2])"
   ]
  },
  {
   "cell_type": "code",
   "execution_count": null,
   "metadata": {},
   "outputs": [],
   "source": [
    "# Slicing in Lists\n",
    "# [start : end : step]\n",
    "# the last upper bound isn't printed\n",
    "\n",
    "a = [1, 2, 3, 4, 5, 6]\n",
    "\n",
    "print (a[0:5], a[:5], a[0:], a[:], a[:-1], sep=\"\\n\") # all these print the complete list\n",
    "print (a[1:4:2]) # specified interval\n",
    "print (a[5::-2]) # reverse order with interval of 2\n",
    "print (a[::-1]) # reverse order"
   ]
  },
  {
   "cell_type": "code",
   "execution_count": null,
   "metadata": {},
   "outputs": [],
   "source": [
    "# List Concatenation\n",
    "\n",
    "a = [1, 2, 3]\n",
    "b = [4, 5, 6]\n",
    "\n",
    "c = a + b # concatenation\n",
    "print (\"The concatenated list is :\", c)\n",
    "\n",
    "# del (a) is used to delete list (a)"
   ]
  },
  {
   "cell_type": "code",
   "execution_count": null,
   "metadata": {},
   "outputs": [],
   "source": [
    "# Program to remove all duplicates from a list\n",
    "\n",
    "a = [1, 2, 3, 4, 5, 3, 2, 1]\n",
    "# b = list(input(\"Enter a list\"))\n",
    "\n",
    "duplicate = set()\n",
    "unique = []\n",
    "\n",
    "for x in a:\n",
    "    if x not in duplicate:\n",
    "    unique.append(x)\n",
    "    duplicate.add(x)\n",
    "\n",
    "print(duplicate)"
   ]
  },
  {
   "cell_type": "code",
   "execution_count": null,
   "metadata": {},
   "outputs": [],
   "source": [
    "# Program to create a user defined list\n",
    "\n",
    "list = []\n",
    "n = int(input(\"Enter the list size \"))\n",
    "\n",
    "print(\"\\n\")\n",
    "for i in range(0, n):\n",
    "    print(\"Enter number at index\", i, )\n",
    "    item = int(input())\n",
    "    list.append(item)\n",
    "print(\"User list is \", list)"
   ]
  }
 ],
 "metadata": {
  "interpreter": {
   "hash": "64c38de73638cd68f06ade4f2daf9db87bd00ec7e1b0ba5dd5d9d6d9e2cca6dc"
  },
  "kernelspec": {
   "display_name": "Python 3.10.1 64-bit",
   "language": "python",
   "name": "python3"
  },
  "language_info": {
   "codemirror_mode": {
    "name": "ipython",
    "version": 3
   },
   "file_extension": ".py",
   "mimetype": "text/x-python",
   "name": "python",
   "nbconvert_exporter": "python",
   "pygments_lexer": "ipython3",
   "version": "3.10.1"
  },
  "orig_nbformat": 4
 },
 "nbformat": 4,
 "nbformat_minor": 2
}
