{
 "cells": [
  {
   "cell_type": "code",
   "execution_count": null,
   "metadata": {},
   "outputs": [],
   "source": [
    "# Tuples\n",
    "\n",
    "# same as lists, but immutable\n",
    "# initialized using ()\n",
    "# tuples are ordered\n",
    "\n",
    "a = (1, 2, \"hello\", 4)\n",
    "# operation like a[0] = 20 will give an error"
   ]
  },
  {
   "cell_type": "code",
   "execution_count": null,
   "metadata": {},
   "outputs": [],
   "source": [
    "# lists can be converted into tuple and vice-versa\n",
    "\n",
    "a = [1, 2, 3]\n",
    "a = tuple(a)\n",
    "print (\"The tuple is:   \", a)\n",
    "\n",
    "a = list(a)\n",
    "print (\"The list is:   \", a)"
   ]
  },
  {
   "cell_type": "code",
   "execution_count": null,
   "metadata": {},
   "outputs": [],
   "source": [
    "# updating a tuple\n",
    "\n",
    "a = (1, 2, \"hello\", 4)\n",
    "b = list(a) # convert tuple to list to peform operations\n",
    "b.append(5) # adds element at the end\n",
    "\n",
    "a = tuple(b) # convert  list to tuple\n",
    "print (\"The tuple is:   \", a)"
   ]
  },
  {
   "cell_type": "code",
   "execution_count": null,
   "metadata": {},
   "outputs": [],
   "source": [
    "# updating a tuple\n",
    "\n",
    "a = (1, 2, \"hello\", 4)\n",
    "a = a + (5,) # without comma we get an error\n",
    "print (\"The upadted tuple is\", a)"
   ]
  },
  {
   "cell_type": "code",
   "execution_count": null,
   "metadata": {},
   "outputs": [],
   "source": [
    "# Program to change 2nd value of tuple to 100\n",
    "\n",
    "tuple = (1, 2, 3, 4, 5)\n",
    "list = list(tuple)\n",
    "\n",
    "list[1] = 100\n",
    "updated = tuple(list)\n",
    "\n",
    "print (\"The update list is\", updated)"
   ]
  }
 ],
 "metadata": {
  "interpreter": {
   "hash": "64c38de73638cd68f06ade4f2daf9db87bd00ec7e1b0ba5dd5d9d6d9e2cca6dc"
  },
  "kernelspec": {
   "display_name": "Python 3.10.1 64-bit",
   "language": "python",
   "name": "python3"
  },
  "language_info": {
   "codemirror_mode": {
    "name": "ipython",
    "version": 3
   },
   "file_extension": ".py",
   "mimetype": "text/x-python",
   "name": "python",
   "nbconvert_exporter": "python",
   "pygments_lexer": "ipython3",
   "version": "3.10.1"
  },
  "orig_nbformat": 4
 },
 "nbformat": 4,
 "nbformat_minor": 2
}
