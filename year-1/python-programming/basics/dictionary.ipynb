{
 "cells": [
  {
   "cell_type": "code",
   "execution_count": null,
   "metadata": {},
   "outputs": [],
   "source": [
    "# Dictionary\n",
    "\n",
    "# stores data in key:value pair form\n",
    "# doesn't allow duplicate data\n",
    "# mutable\n",
    "# initialized using {a:1, b:2} and so on"
   ]
  },
  {
   "cell_type": "code",
   "execution_count": null,
   "metadata": {},
   "outputs": [],
   "source": [
    "# example\n",
    "\n",
    "car_details = {\n",
    "    \"model\" : {\"year\" : 2019, \"series\" : \"sigma\"},\n",
    "    \"color\" : \"white\",\n",
    "    \"company\" : \"maruti\",\n",
    "    \"fuel\" : \"petrol\",\n",
    "    \"owner_name\" : \"xyz\",\n",
    "    \"total_item\" : [1, 2, 3, 4, 5, 6]\n",
    "}\n",
    "\n",
    "car_details[\"model\"] = 2020 #mutability\n",
    "print (car_details)\n",
    "print (car_details[\"model\"])\n",
    "print (car_details[\"model\"][\"year\"])\n",
    "print (len(car_details)) # print number of items in the dictionary"
   ]
  },
  {
   "cell_type": "code",
   "execution_count": null,
   "metadata": {},
   "outputs": [],
   "source": [
    "# accessing elements in the dictionary\n",
    "\n",
    "A = {\"A\":\"a\", \"B\":\"b\", \"C\":\"c\", \"D\":\"d\"}\n",
    "\n",
    "print (A.get(\"A\"))\n",
    "print (A[\"A\"]) # both statements are the same\n",
    "\n",
    "x = A.key() # return list of all the keys\n",
    "print (x)\n",
    "\n",
    "x = A.values() # return list of all the values\n",
    "print (x)\n",
    "\n",
    "x = A.items() # return each item in the dictionary as tuple in list\n",
    "print (x)"
   ]
  },
  {
   "cell_type": "code",
   "execution_count": null,
   "metadata": {},
   "outputs": [],
   "source": [
    "# adding items\n",
    "\n",
    "car_details = {\n",
    "    \"model\" : {\"year\" : 2019, \"series\" : \"sigma\"},\n",
    "    \"color\" : \"white\",\n",
    "    \"company\" : \"maruti\",\n",
    "    \"fuel\" : \"petrol\",\n",
    "    \"owner_name\" : \"xyz\",\n",
    "    \"total_item\" : [1, 2, 3, 4, 5, 6]\n",
    "}\n",
    "\n",
    "print (len(car_details))\n",
    "\n",
    "car_details[\"owner_number\"] = 546879\n",
    "print (len(car_details))\n",
    "\n",
    "car_details.update({\"PAN\" : \"DFTRH19197\"}) # can be done using update() too\n",
    "print (len(car_details))"
   ]
  },
  {
   "cell_type": "code",
   "execution_count": null,
   "metadata": {},
   "outputs": [],
   "source": [
    "# removing items\n",
    "\n",
    "car_details = {\n",
    "    \"model\" : {\"year\" : 2019, \"series\" : \"sigma\"},\n",
    "    \"color\" : \"white\",\n",
    "    \"company\" : \"maruti\",\n",
    "    \"fuel\" : \"petrol\",\n",
    "    \"owner_name\" : \"xyz\",\n",
    "    \"PAN\" : \"OLKIH6773W\"\n",
    "}\n",
    "\n",
    "car_details.pop(\"model\") # pop() removes the specific element from the dictionary\n",
    "print (car_details)\n",
    "\n",
    "car_details.popitem() # remove the last element\n",
    "print (car_details)\n",
    "\n",
    "del car_details[\"fuel\"] # del deletes specific key\n",
    "print (car_details)\n",
    "# del car_details can be used to delete the whole dictionary\n",
    "\n",
    "car_details.clear() # used to clear all items from the dictionary\n",
    "print (car_details)"
   ]
  }
 ],
 "metadata": {
  "interpreter": {
   "hash": "64c38de73638cd68f06ade4f2daf9db87bd00ec7e1b0ba5dd5d9d6d9e2cca6dc"
  },
  "kernelspec": {
   "display_name": "Python 3.10.1 64-bit",
   "language": "python",
   "name": "python3"
  },
  "language_info": {
   "name": "python",
   "version": "3.10.1"
  },
  "orig_nbformat": 4
 },
 "nbformat": 4,
 "nbformat_minor": 2
}
