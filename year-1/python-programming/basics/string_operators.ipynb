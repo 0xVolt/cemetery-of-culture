{
 "cells": [
  {
   "cell_type": "code",
   "execution_count": 2,
   "metadata": {},
   "outputs": [
    {
     "name": "stdout",
     "output_type": "stream",
     "text": [
      "HelloPeople\n",
      "HelloHelloHello\n",
      "H\n",
      "Hel\n",
      "True\n",
      "False\n",
      "True\n",
      "Hello\tPeople\n",
      "Hellos\tPeople\n",
      "Hello Hi\n"
     ]
    }
   ],
   "source": [
    "# string operators\n",
    "\n",
    "s1 = \"Hello\"\n",
    "s2 = \"People\"\n",
    "\n",
    "print(s1 + s2) # concatenation\n",
    "print(s1 * 3)\n",
    "print(s1[0]) # slicing\n",
    "print(s1[0:3]) # range slicing. 0, 1, 2 will be printed\n",
    "print(\"He\" in s1)\n",
    "print(\"He\" not in s1)\n",
    "print(\"he\" not in s1)\n",
    "print(s1 + \"\\t\" + s2)\n",
    "print(s1 + r\"\\t\" + s2) # r nullifies escape sequence\n",
    "print(\"Hello %s\" %(\"Hi\"))"
   ]
  }
 ],
 "metadata": {
  "interpreter": {
   "hash": "64c38de73638cd68f06ade4f2daf9db87bd00ec7e1b0ba5dd5d9d6d9e2cca6dc"
  },
  "kernelspec": {
   "display_name": "Python 3.10.1 64-bit",
   "language": "python",
   "name": "python3"
  },
  "language_info": {
   "codemirror_mode": {
    "name": "ipython",
    "version": 3
   },
   "file_extension": ".py",
   "mimetype": "text/x-python",
   "name": "python",
   "nbconvert_exporter": "python",
   "pygments_lexer": "ipython3",
   "version": "3.10.1"
  },
  "orig_nbformat": 4
 },
 "nbformat": 4,
 "nbformat_minor": 2
}
