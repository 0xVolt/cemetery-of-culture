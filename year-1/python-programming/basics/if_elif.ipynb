{
 "cells": [
  {
   "cell_type": "code",
   "execution_count": null,
   "metadata": {},
   "outputs": [],
   "source": [
    "# if-else statement\n",
    "\n",
    "a = 100\n",
    "b = 200\n",
    "\n",
    "if a > b:\n",
    "    print (\"hello\") # indentation is inportant to denote blocks\n",
    "else:\n",
    "    print (\"hi\")\n",
    "    \n",
    "# ternary conditons can be wriiten in a single line\n",
    "print (\"hello\") if a > b else print (\"hi\") # same as above"
   ]
  },
  {
   "cell_type": "code",
   "execution_count": null,
   "metadata": {},
   "outputs": [],
   "source": [
    "# if-elif-else statement\n",
    "c = int(input(\"Number between 1 to 3 :\"))\n",
    "\n",
    "if c == 1:\n",
    "    print (\"one\")\n",
    "elif c == 2:\n",
    "    print (\"two\")\n",
    "elif c == 3:\n",
    "    print (\"three\")\n",
    "else:\n",
    "    print (\"Wrong Input\")"
   ]
  }
 ],
 "metadata": {
  "language_info": {
   "name": "python"
  },
  "orig_nbformat": 4
 },
 "nbformat": 4,
 "nbformat_minor": 2
}
