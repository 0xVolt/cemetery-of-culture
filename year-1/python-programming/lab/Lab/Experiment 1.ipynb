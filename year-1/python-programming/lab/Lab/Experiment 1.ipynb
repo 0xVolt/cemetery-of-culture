{
 "cells": [
  {
   "cell_type": "code",
   "execution_count": null,
   "metadata": {},
   "outputs": [],
   "source": [
    "# {} are used for text formatting\n",
    "# f-string evaluates at runtime of the program\n",
    "# we can also use F, '', ''''', \"\"\"\"\"\"'\n",
    "\n",
    "print (f\"Sum of 4 + 6 = {4 + 6}\") # evaluating expression\n"
   ]
  },
  {
   "cell_type": "code",
   "execution_count": null,
   "metadata": {},
   "outputs": [],
   "source": [
    "# Python is dynamically typed\n",
    "\n",
    "a = \"hello\"\n",
    "b = 10\n",
    "c = 99.99\n",
    "\n",
    "print (type(a), type(b), type(c))\n",
    "print (a, b, c)"
   ]
  },
  {
   "cell_type": "code",
   "execution_count": null,
   "metadata": {},
   "outputs": [],
   "source": [
    "# Formatting string using format() method\n",
    "\n",
    "txt1 = \"My name is {fname}, I'm {age}\".format(fname = \"Akshit\", age = 18)\n",
    "txt2 = \"My name is {0}, I'm {1}\".format(\"Akshit\", 18)\n",
    "txt3 = \"My name is {}, I'm {}\".format(\"Akshit\", 18)\n",
    "\n",
    "print (txt1, \"\\n\", txt2, \"\\n\", txt3)\n",
    "\n",
    "# Inside the placeholders you can add a formatting type to format the result"
   ]
  },
  {
   "cell_type": "code",
   "execution_count": null,
   "metadata": {},
   "outputs": [],
   "source": [
    "# Formatting string using % operator\n",
    "\n",
    "# print integer and float value\n",
    "print(\"Students : %2d, Portal : %5.2f\" % (1, 70.655)) # here 5 is the field width\n",
    " \n",
    "# print integer value\n",
    "print(\"Total students : %3d, Girls : %2d\" % (400, 150))\n",
    " \n",
    "# print octal value\n",
    "print(\"%5.3o\" % (66))\n",
    " \n",
    "# print exponential value\n",
    "print(\"%10.3E\" % (123.045678))\n",
    "\n",
    "\n",
    "# Syntax : %[flags][width][.precision]type"
   ]
  }
 ],
 "metadata": {
  "interpreter": {
   "hash": "64c38de73638cd68f06ade4f2daf9db87bd00ec7e1b0ba5dd5d9d6d9e2cca6dc"
  },
  "kernelspec": {
   "display_name": "Python 3.10.1 64-bit",
   "language": "python",
   "name": "python3"
  },
  "language_info": {
   "codemirror_mode": {
    "name": "ipython",
    "version": 3
   },
   "file_extension": ".py",
   "mimetype": "text/x-python",
   "name": "python",
   "nbconvert_exporter": "python",
   "pygments_lexer": "ipython3",
   "version": "3.10.1"
  },
  "orig_nbformat": 4
 },
 "nbformat": 4,
 "nbformat_minor": 2
}
