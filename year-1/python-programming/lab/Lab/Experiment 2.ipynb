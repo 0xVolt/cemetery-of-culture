{
 "cells": [
  {
   "cell_type": "code",
   "execution_count": null,
   "metadata": {},
   "outputs": [],
   "source": [
    "# Experiment 2 : Program 1\n",
    "\n",
    "n = int(input(\"Enter a number\"))\n",
    "if n % 2 != 0:\n",
    "    print (\"Odd\")\n",
    "else:\n",
    "    if n >= 2 and n <= 5:\n",
    "        print (\"Even 1\")\n",
    "    elif n >= 6 and n <= 20:\n",
    "        print (\"Event 2\")\n",
    "    elif n > 20:\n",
    "        print (\"Even 3\")"
   ]
  },
  {
   "cell_type": "code",
   "execution_count": null,
   "metadata": {},
   "outputs": [],
   "source": [
    "# Experiment 2 : Program 2\n",
    "\n",
    "n = int(input(\"Enter your number\"))\n",
    "for i in range (n):\n",
    "    print (i*i)"
   ]
  },
  {
   "cell_type": "code",
   "execution_count": null,
   "metadata": {},
   "outputs": [],
   "source": [
    "# Experiment 2 : Program 3\n",
    "\n",
    "n = int(input(\"Enter your number\"))\n",
    "for i in range (n):\n",
    "    print (i+1, end = \"\")"
   ]
  }
 ],
 "metadata": {
  "interpreter": {
   "hash": "64c38de73638cd68f06ade4f2daf9db87bd00ec7e1b0ba5dd5d9d6d9e2cca6dc"
  },
  "kernelspec": {
   "display_name": "Python 3.10.1 64-bit",
   "language": "python",
   "name": "python3"
  },
  "language_info": {
   "codemirror_mode": {
    "name": "ipython",
    "version": 3
   },
   "file_extension": ".py",
   "mimetype": "text/x-python",
   "name": "python",
   "nbconvert_exporter": "python",
   "pygments_lexer": "ipython3",
   "version": "3.10.1"
  },
  "orig_nbformat": 4
 },
 "nbformat": 4,
 "nbformat_minor": 2
}
