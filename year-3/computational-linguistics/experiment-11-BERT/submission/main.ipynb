{
 "cells": [
  {
   "attachments": {},
   "cell_type": "markdown",
   "metadata": {},
   "source": [
    "# Experiment 10 - Implementing a Bidirectional Encoder Representation with Transformers (BERT) \n",
    "\n",
    "## About the BERT\n",
    "BERT stands for \"Bidirectional Encoder Representation with Transformers\". To put it in simple words BERT extracts patterns or representations from the data or word embeddings by passing it through an encoder. The encoder itself is a transformer architecture that is stacked together. It is a bidirectional transformer which means that during training it considers the context from both left and right of the vocabulary to extract patterns or representations.\n",
    "\n",
    "<!-- ![](./assets/images/BERT-encoder.webp) -->\n",
    "\n",
    "## Paradigms of Use\n",
    "BERT uses two training paradigms: Pre-training and Fine-tuning. \n",
    "\n",
    "During pre-training, the model is trained on a large dataset to extract patterns. This is generally an unsupervised learning task where the model is trained on an unlabelled dataset like the data from a big corpus like Wikipedia.  \n",
    "\n",
    "During fine-tuning the model is trained for downstream tasks like Classification, Text-Generation, Language Translation, Question-Answering, and so forth. Essentially, you can download a pre-trained model and then Transfer-learn the model on your data.\n",
    "\n",
    "## How does BERT work?\n",
    "BERT makes use of Transformer, an attention mechanism that learns contextual relations between words (or sub-words) in a text. In its vanilla form, Transformer includes two separate mechanisms — an encoder that reads the text input and a decoder that produces a prediction for the task. Since BERT’s goal is to generate a language model, only the encoder mechanism is necessary. The detailed workings of Transformer are described in a paper by Google.\n",
    "\n",
    "As opposed to directional models, which read the text input sequentially (left-to-right or right-to-left), the Transformer encoder reads the entire sequence of words at once. Therefore it is considered bidirectional, though it would be more accurate to say that it’s non-directional. This characteristic allows the model to learn the context of a word based on all of its surroundings (left and right of the word).\n",
    "\n",
    "When training language models, there is a challenge of defining a prediction goal. Many models predict the next word in a sequence (e.g. “The child came home from ___”), a directional approach which inherently limits context learning. To overcome this challenge, BERT uses two training strategies:\n",
    "\n",
    "### Masked LM (MLM)\n",
    "\n",
    "Before feeding word sequences into BERT, 15% of the words in each sequence are replaced with a [MASK] token. The model then attempts to predict the original value of the masked words, based on the context provided by the other, non-masked, words in the sequence. In technical terms, the prediction of the output words requires:\n",
    "1. Adding a classification layer on top of the encoder output.\n",
    "2. Multiplying the output vectors by the embedding matrix, transforming them into the vocabulary dimension.\n",
    "3. Calculating the probability of each word in the vocabulary with softmax.\n",
    "\n",
    "<!-- ![](./assets/images/BERT-architecture.webp) -->\n",
    "\n",
    "The BERT loss function takes into consideration only the prediction of the masked values and ignores the prediction of the non-masked words. As a consequence, the model converges slower than directional models, a characteristic which is offset by its increased context awareness.\n",
    "\n",
    "### Next Sentence Prediction (NSP)\n",
    "\n",
    "In the BERT training process, the model receives pairs of sentences as input and learns to predict if the second sentence in the pair is the subsequent sentence in the original document. During training, 50% of the inputs are a pair in which the second sentence is the subsequent sentence in the original document, while in the other 50% a random sentence from the corpus is chosen as the second sentence. The assumption is that the random sentence will be disconnected from the first sentence.\n",
    "\n",
    "To help the model distinguish between the two sentences in training, the input is processed in the following way before entering the model:\n",
    "\n",
    "1. A [CLS] token is inserted at the beginning of the first sentence and a [SEP] token is inserted at the end of each sentence.\n",
    "2. A sentence embedding indicating Sentence A or Sentence B is added to each token. Sentence embeddings are similar in concept to token embeddings with a vocabulary of 2.\n",
    "3. A positional embedding is added to each token to indicate its position in the sequence. The concept and implementation of positional embedding are presented in the Transformer paper.\n",
    "\n",
    "<!-- ![](./assets/images/BERT-with-modifications.webp) -->\n",
    "\n",
    "Source: BERT [Devlin et al., 2018], with modifications\n",
    "\n",
    "To predict if the second sentence is indeed connected to the first, the following steps are performed:\n",
    "\n",
    "1. The entire input sequence goes through the Transformer model.\n",
    "2. The output of the [CLS] token is transformed into a 2×1 shaped vector, using a simple classification layer (learned matrices of weights and biases).\n",
    "3. Calculating the probability of IsNextSequence with softmax.\n",
    "\n",
    "When training the BERT model, Masked LM and Next Sentence Prediction are trained together, with the goal of minimizing the combined loss function of the two strategies.\n",
    "\n",
    "### Special tags for the tokens pre-defined by BERT\n",
    "BERT takes special tokens during training. Here is a table explaining the purpose of various tokens:\n",
    "|                                            Token                                            |                        Purpose                       |\n",
    "|:-------------------------------------------------------------------------------------------:|:----------------------------------------------------:|\n",
    "| [CLS]                                                                                       |       The first token is always classification       |\n",
    "| [SEP]                                                                                       |                Separates two sentences               |\n",
    "| [END]                                                                                       |                   End the sentence.                  |\n",
    "| [PAD]                                                                                       |    Use to truncate the sentence with equal length.   |\n",
    "|                                            [MASK]                                           | Use to create a mask by replacing the original word. |\n",
    "\n",
    "## How to use BERT (Fine-tuning)\n",
    "\n",
    "Using BERT for a specific task is relatively straightforward:\n",
    "\n",
    "BERT can be used for a wide variety of language tasks, while only adding a small layer to the core model:\n",
    "\n",
    "1. Classification tasks such as sentiment analysis are done similarly to Next Sentence classification, by adding a classification layer on top of the Transformer output for the [CLS] token.\n",
    "2. In Question Answering tasks (e.g. SQuAD v1.1), the software receives a question regarding a text sequence and is required to mark the answer in the sequence. Using BERT, a Q&A model can be trained by learning two extra vectors that mark the beginning and the end of the answer.\n",
    "3. In Named Entity Recognition (NER), the software receives a text sequence and is required to mark the various types of entities (Person, Organization, Date, etc) that appear in the text. Using BERT, a NER model can be trained by feeding the output vector of each token into a classification layer that predicts the NER label.\n",
    "\n",
    "In the fine-tuning training, most hyper-parameters stay the same as in BERT training.\n",
    "\n",
    "## Summary\n",
    "\n",
    "BERT falls into a self-supervised model. That means, it can generate inputs and labels from the raw corpus without being explicitly programmed by humans. Remember the data it is trained on is unstructured.\n",
    "\n",
    "BERT was pre-trained with two specific tasks: Masked Language Model and Next sentence prediction. The former uses masked input like “the man [MASK] to the store” instead of “the man went to the store”. This restricts BERT to see the words next to it which allows it to learn bidirectional representations as much as possible making it much more flexible and reliable for several downstream tasks. The latter predicts whether the two sentences are contextually assigned to each other. \n",
    "\n",
    "<!-- ![](./assets/images/BERT-overview.webp) -->"
   ]
  },
  {
   "attachments": {},
   "cell_type": "markdown",
   "metadata": {},
   "source": [
    "## Code"
   ]
  },
  {
   "attachments": {},
   "cell_type": "markdown",
   "metadata": {},
   "source": [
    "### Import Libraries"
   ]
  },
  {
   "cell_type": "code",
   "execution_count": 41,
   "metadata": {},
   "outputs": [],
   "source": [
    "import time\n",
    "import numpy as np\n",
    "import pandas as pd\n",
    "\n",
    "import torch\n",
    "import torch.nn as nn\n",
    "from torch.utils.data import TensorDataset, DataLoader, RandomSampler, SequentialSampler\n",
    "\n",
    "from sklearn.model_selection import train_test_split\n",
    "from sklearn.metrics import classification_report\n",
    "from sklearn.utils.class_weight import compute_class_weight\n",
    "from sklearn.metrics import confusion_matrix\n",
    "from sklearn.metrics import accuracy_score\n",
    "\n",
    "import transformers\n",
    "from transformers import AutoModel, BertTokenizerFast\n",
    "\n",
    "import matplotlib.pyplot as plt\n",
    "import seaborn as sns"
   ]
  },
  {
   "attachments": {},
   "cell_type": "markdown",
   "metadata": {},
   "source": [
    "#### Define GPU Here if Available"
   ]
  },
  {
   "cell_type": "code",
   "execution_count": 3,
   "metadata": {},
   "outputs": [],
   "source": [
    "device = torch.device(\"cuda\")"
   ]
  },
  {
   "attachments": {},
   "cell_type": "markdown",
   "metadata": {},
   "source": [
    "### Preprocessing"
   ]
  },
  {
   "attachments": {},
   "cell_type": "markdown",
   "metadata": {},
   "source": [
    "#### Import the Corpus of Raw Text"
   ]
  },
  {
   "cell_type": "code",
   "execution_count": 4,
   "metadata": {},
   "outputs": [
    {
     "data": {
      "text/html": [
       "<div>\n",
       "<style scoped>\n",
       "    .dataframe tbody tr th:only-of-type {\n",
       "        vertical-align: middle;\n",
       "    }\n",
       "\n",
       "    .dataframe tbody tr th {\n",
       "        vertical-align: top;\n",
       "    }\n",
       "\n",
       "    .dataframe thead th {\n",
       "        text-align: right;\n",
       "    }\n",
       "</style>\n",
       "<table border=\"1\" class=\"dataframe\">\n",
       "  <thead>\n",
       "    <tr style=\"text-align: right;\">\n",
       "      <th></th>\n",
       "      <th>label</th>\n",
       "      <th>text</th>\n",
       "    </tr>\n",
       "  </thead>\n",
       "  <tbody>\n",
       "    <tr>\n",
       "      <th>0</th>\n",
       "      <td>0</td>\n",
       "      <td>Go until jurong point, crazy.. Available only ...</td>\n",
       "    </tr>\n",
       "    <tr>\n",
       "      <th>1</th>\n",
       "      <td>0</td>\n",
       "      <td>Ok lar... Joking wif u oni...</td>\n",
       "    </tr>\n",
       "    <tr>\n",
       "      <th>2</th>\n",
       "      <td>1</td>\n",
       "      <td>Free entry in 2 a wkly comp to win FA Cup fina...</td>\n",
       "    </tr>\n",
       "    <tr>\n",
       "      <th>3</th>\n",
       "      <td>0</td>\n",
       "      <td>U dun say so early hor... U c already then say...</td>\n",
       "    </tr>\n",
       "    <tr>\n",
       "      <th>4</th>\n",
       "      <td>0</td>\n",
       "      <td>Nah I don't think he goes to usf, he lives aro...</td>\n",
       "    </tr>\n",
       "  </tbody>\n",
       "</table>\n",
       "</div>"
      ],
      "text/plain": [
       "   label                                               text\n",
       "0      0  Go until jurong point, crazy.. Available only ...\n",
       "1      0                      Ok lar... Joking wif u oni...\n",
       "2      1  Free entry in 2 a wkly comp to win FA Cup fina...\n",
       "3      0  U dun say so early hor... U c already then say...\n",
       "4      0  Nah I don't think he goes to usf, he lives aro..."
      ]
     },
     "execution_count": 4,
     "metadata": {},
     "output_type": "execute_result"
    }
   ],
   "source": [
    "data = pd.read_csv(r\"./assets/data/spam-data.csv\")\n",
    "data.head()"
   ]
  },
  {
   "attachments": {},
   "cell_type": "markdown",
   "metadata": {},
   "source": [
    "### Check the Shape of Data"
   ]
  },
  {
   "cell_type": "code",
   "execution_count": 5,
   "metadata": {},
   "outputs": [
    {
     "data": {
      "text/plain": [
       "(5572, 2)"
      ]
     },
     "execution_count": 5,
     "metadata": {},
     "output_type": "execute_result"
    }
   ],
   "source": [
    "data.shape"
   ]
  },
  {
   "attachments": {},
   "cell_type": "markdown",
   "metadata": {},
   "source": [
    "#### Check the Way Labels are Distributed"
   ]
  },
  {
   "cell_type": "code",
   "execution_count": 6,
   "metadata": {},
   "outputs": [
    {
     "data": {
      "text/plain": [
       "0    0.865937\n",
       "1    0.134063\n",
       "Name: label, dtype: float64"
      ]
     },
     "execution_count": 6,
     "metadata": {},
     "output_type": "execute_result"
    }
   ],
   "source": [
    "data['label'].value_counts(normalize=True)"
   ]
  },
  {
   "attachments": {},
   "cell_type": "markdown",
   "metadata": {},
   "source": [
    "#### Plot the Bar Plot for the Distribution"
   ]
  },
  {
   "cell_type": "code",
   "execution_count": 7,
   "metadata": {},
   "outputs": [
    {
     "data": {
      "text/plain": [
       "<AxesSubplot: >"
      ]
     },
     "execution_count": 7,
     "metadata": {},
     "output_type": "execute_result"
    },
    {
     "data": {
      "image/png": "[encoded data removed]",
      "text/plain": [
       "<Figure size 640x480 with 1 Axes>"
      ]
     },
     "metadata": {},
     "output_type": "display_data"
    }
   ],
   "source": [
    "data['label'].value_counts(normalize=True).plot.bar()"
   ]
  },
  {
   "attachments": {},
   "cell_type": "markdown",
   "metadata": {},
   "source": [
    "### Split the Data into Training, Testing and Validation Sets"
   ]
  },
  {
   "attachments": {},
   "cell_type": "markdown",
   "metadata": {},
   "source": [
    "#### Train-test Split"
   ]
  },
  {
   "cell_type": "code",
   "execution_count": 8,
   "metadata": {},
   "outputs": [],
   "source": [
    "XTrain, XTest, yTrain, yTest = train_test_split(data['text'], data['label'], random_state=42, test_size=0.3, stratify=data['label'])"
   ]
  },
  {
   "attachments": {},
   "cell_type": "markdown",
   "metadata": {},
   "source": [
    "#### Validation Split"
   ]
  },
  {
   "cell_type": "code",
   "execution_count": 9,
   "metadata": {},
   "outputs": [],
   "source": [
    "XValidationTrain, XValidationTest, yValidationTrain, yValidationTest = train_test_split(\n",
    "    XTest, \n",
    "    yTest, \n",
    "    random_state=42, \n",
    "    test_size=0.5, \n",
    "    stratify=yTest\n",
    ")"
   ]
  },
  {
   "attachments": {},
   "cell_type": "markdown",
   "metadata": {},
   "source": [
    "### Download and Import the Pre-trained BERT Model from Huggingface"
   ]
  },
  {
   "cell_type": "code",
   "execution_count": 10,
   "metadata": {},
   "outputs": [
    {
     "name": "stderr",
     "output_type": "stream",
     "text": [
      "Some weights of the model checkpoint at bert-base-uncased were not used when initializing BertModel: ['cls.predictions.transform.LayerNorm.bias', 'cls.seq_relationship.weight', 'cls.predictions.transform.dense.bias', 'cls.seq_relationship.bias', 'cls.predictions.decoder.weight', 'cls.predictions.transform.dense.weight', 'cls.predictions.bias', 'cls.predictions.transform.LayerNorm.weight']\n",
      "- This IS expected if you are initializing BertModel from the checkpoint of a model trained on another task or with another architecture (e.g. initializing a BertForSequenceClassification model from a BertForPreTraining model).\n",
      "- This IS NOT expected if you are initializing BertModel from the checkpoint of a model that you expect to be exactly identical (initializing a BertForSequenceClassification model from a BertForSequenceClassification model).\n"
     ]
    }
   ],
   "source": [
    "# Import the BERT-base pretrained model\n",
    "BERT = AutoModel.from_pretrained('bert-base-uncased')\n",
    "\n",
    "# Load the BERT tokenizer\n",
    "tokenizer = BertTokenizerFast.from_pretrained('bert-base-uncased')"
   ]
  },
  {
   "attachments": {},
   "cell_type": "markdown",
   "metadata": {},
   "source": [
    "### Get the Length of each Sequence of Text and Plot their Distributions"
   ]
  },
  {
   "cell_type": "code",
   "execution_count": 11,
   "metadata": {},
   "outputs": [
    {
     "data": {
      "text/plain": [
       "<AxesSubplot: >"
      ]
     },
     "execution_count": 11,
     "metadata": {},
     "output_type": "execute_result"
    },
    {
     "data": {
      "image/png": "[encoded data removed]",
      "text/plain": [
       "<Figure size 640x480 with 1 Axes>"
      ]
     },
     "metadata": {},
     "output_type": "display_data"
    }
   ],
   "source": [
    "# get length of all the messages in the train set\n",
    "sequenceLength = [len(sample.split()) for sample in XTrain]\n",
    "\n",
    "pd.Series(sequenceLength).hist(bins = 30)"
   ]
  },
  {
   "attachments": {},
   "cell_type": "markdown",
   "metadata": {},
   "source": [
    "### Tokenise and Encode Sequences"
   ]
  },
  {
   "cell_type": "code",
   "execution_count": 12,
   "metadata": {},
   "outputs": [
    {
     "name": "stderr",
     "output_type": "stream",
     "text": [
      "/home/volt/.local/lib/python3.10/site-packages/transformers/tokenization_utils_base.py:2339: FutureWarning: The `pad_to_max_length` argument is deprecated and will be removed in a future version, use `padding=True` or `padding='longest'` to pad to the longest sequence in the batch, or use `padding='max_length'` to pad to a max length. In this case, you can give a specific length with `max_length` (e.g. `max_length=45`) or leave max_length to None to pad to the maximal input size of the model (e.g. 512 for Bert).\n",
      "  warnings.warn(\n"
     ]
    }
   ],
   "source": [
    "# Tokenize and encode sequences in the training set\n",
    "trainTokens = tokenizer.batch_encode_plus(\n",
    "    XTrain.tolist(),\n",
    "    max_length = 25,\n",
    "    pad_to_max_length=True,\n",
    "    truncation=True\n",
    ")\n",
    "\n",
    "# Tokenize and encode sequences in the validation set\n",
    "validationTokens = tokenizer.batch_encode_plus(\n",
    "    XValidationTrain.tolist(),\n",
    "    max_length = 25,\n",
    "    pad_to_max_length=True,\n",
    "    truncation=True\n",
    ")\n",
    "\n",
    "# Tokenize and encode sequences in the test set\n",
    "testTokens = tokenizer.batch_encode_plus(\n",
    "    XValidationTest.tolist(),\n",
    "    max_length = 25,\n",
    "    pad_to_max_length=True,\n",
    "    truncation=True\n",
    ")"
   ]
  },
  {
   "cell_type": "code",
   "execution_count": 13,
   "metadata": {},
   "outputs": [
    {
     "data": {
      "text/plain": [
       "transformers.tokenization_utils_base.BatchEncoding"
      ]
     },
     "execution_count": 13,
     "metadata": {},
     "output_type": "execute_result"
    }
   ],
   "source": [
    "type(trainTokens)"
   ]
  },
  {
   "attachments": {},
   "cell_type": "markdown",
   "metadata": {},
   "source": [
    "### Convert these Lists to Tensors"
   ]
  },
  {
   "cell_type": "code",
   "execution_count": 14,
   "metadata": {},
   "outputs": [],
   "source": [
    "trainSequenceTensor = torch.tensor(trainTokens['input_ids'])\n",
    "trainMaskTensor = torch.tensor(trainTokens['attention_mask'])\n",
    "trainYTensor = torch.tensor(yTrain.tolist())\n",
    "\n",
    "validationSequenceTensor = torch.tensor(validationTokens['input_ids'])\n",
    "validationMaskTensor = torch.tensor(validationTokens['attention_mask'])\n",
    "validationYTensor = torch.tensor(yValidationTrain.tolist())\n",
    "\n",
    "testSequenceTensor = torch.tensor(testTokens['input_ids'])\n",
    "testMaskTensor = torch.tensor(testTokens['attention_mask'])\n",
    "testYTensor = torch.tensor(yValidationTest.tolist())"
   ]
  },
  {
   "attachments": {},
   "cell_type": "markdown",
   "metadata": {},
   "source": [
    "#### Here're the Created Tensors"
   ]
  },
  {
   "cell_type": "code",
   "execution_count": 15,
   "metadata": {},
   "outputs": [
    {
     "data": {
      "text/plain": [
       "(tensor([[  101,  3125,   999,  ...,  1037,  3413,   102],\n",
       "         [  101,  1045,  2123,  ...,     0,     0,     0],\n",
       "         [  101,  9779,  2232,  ...,     0,     0,     0],\n",
       "         ...,\n",
       "         [  101,  2469,  1010,  ...,  1998,  3227,   102],\n",
       "         [  101,  2498,  2021,  ...,  2253, 11047,   102],\n",
       "         [  101,  7087,  1012,  ...,  2061,  1045,   102]]),\n",
       " torch.Size([3900, 25]))"
      ]
     },
     "execution_count": 15,
     "metadata": {},
     "output_type": "execute_result"
    }
   ],
   "source": [
    "trainSequenceTensor, trainSequenceTensor.shape"
   ]
  },
  {
   "cell_type": "code",
   "execution_count": 16,
   "metadata": {},
   "outputs": [
    {
     "data": {
      "text/plain": [
       "(tensor([[  101,  4067,  2017,  ...,     0,     0,     0],\n",
       "         [  101,  6203,  5718,  ...,  2345,  3535,   102],\n",
       "         [  101,  2073,  2024,  ...,     0,     0,     0],\n",
       "         ...,\n",
       "         [  101,  2053,  1012,  ...,  4309,  2489,   102],\n",
       "         [  101,  1015,  1045,  ...,  1005,  1040,   102],\n",
       "         [  101,  2524,  2444,  ..., 21472, 21472,   102]]),\n",
       " torch.Size([836, 25]))"
      ]
     },
     "execution_count": 16,
     "metadata": {},
     "output_type": "execute_result"
    }
   ],
   "source": [
    "testSequenceTensor, testSequenceTensor.shape"
   ]
  },
  {
   "cell_type": "code",
   "execution_count": 17,
   "metadata": {},
   "outputs": [
    {
     "data": {
      "text/plain": [
       "(tensor([[  101,  5003,  2132,  ...,     0,     0,     0],\n",
       "         [  101, 11948,  2072,  ...,  1012, 20228,   102],\n",
       "         [  101, 13433,  2139,  ...,  2050,  1012,   102],\n",
       "         ...,\n",
       "         [  101,  2053,  3291,  ...,     0,     0,     0],\n",
       "         [  101,  1998,  2011,  ...,     0,     0,     0],\n",
       "         [  101,  2002,  2758,  ...,  1055,  5791,   102]]),\n",
       " torch.Size([836, 25]))"
      ]
     },
     "execution_count": 17,
     "metadata": {},
     "output_type": "execute_result"
    }
   ],
   "source": [
    "validationSequenceTensor, validationSequenceTensor.shape"
   ]
  },
  {
   "attachments": {},
   "cell_type": "markdown",
   "metadata": {},
   "source": [
    "### Using the Data Loader in PyTorch to Load the Dataset"
   ]
  },
  {
   "attachments": {},
   "cell_type": "markdown",
   "metadata": {},
   "source": [
    "#### Define Hyper-parameter(s)"
   ]
  },
  {
   "cell_type": "code",
   "execution_count": 18,
   "metadata": {},
   "outputs": [],
   "source": [
    "batchSize = 16"
   ]
  },
  {
   "attachments": {},
   "cell_type": "markdown",
   "metadata": {},
   "source": [
    "#### Create Training Tensors"
   ]
  },
  {
   "cell_type": "code",
   "execution_count": 19,
   "metadata": {},
   "outputs": [],
   "source": [
    "# Wrapping the training tensors\n",
    "trainingTensor = TensorDataset(trainSequenceTensor, trainMaskTensor, trainYTensor)\n",
    "\n",
    "# Randomly Sampling the Wrapped Tensor\n",
    "trainingSampler = RandomSampler(trainingTensor)\n",
    "\n",
    "# Putting the training sampled data in a data loader\n",
    "trainingDataLoader = DataLoader(trainingTensor, sampler=trainingSampler, batch_size=batchSize)"
   ]
  },
  {
   "cell_type": "code",
   "execution_count": 20,
   "metadata": {},
   "outputs": [
    {
     "data": {
      "text/plain": [
       "(torch.utils.data.dataset.TensorDataset,\n",
       " torch.utils.data.sampler.RandomSampler,\n",
       " torch.utils.data.dataloader.DataLoader)"
      ]
     },
     "execution_count": 20,
     "metadata": {},
     "output_type": "execute_result"
    }
   ],
   "source": [
    "type(trainingTensor), type(trainingSampler), type(trainingDataLoader)"
   ]
  },
  {
   "attachments": {},
   "cell_type": "markdown",
   "metadata": {},
   "source": [
    "#### Now, the same for Validation Tensors"
   ]
  },
  {
   "cell_type": "code",
   "execution_count": 21,
   "metadata": {},
   "outputs": [],
   "source": [
    "# Wrapping the validation tensors\n",
    "validationTensor = TensorDataset(validationSequenceTensor, validationMaskTensor, validationYTensor)\n",
    "\n",
    "# Randomly Sampling the Wrapped Tensor\n",
    "validationSampler = RandomSampler(validationTensor)\n",
    "\n",
    "# Putting the training sampled data in a data loader\n",
    "validationDataLoader = DataLoader(validationTensor, sampler=validationSampler, batch_size=batchSize)"
   ]
  },
  {
   "attachments": {},
   "cell_type": "markdown",
   "metadata": {},
   "source": [
    "### Construct the BERT Model"
   ]
  },
  {
   "cell_type": "code",
   "execution_count": 22,
   "metadata": {},
   "outputs": [],
   "source": [
    "# Freeze all the parameters\n",
    "for parameter in BERT.parameters():\n",
    "    parameter.requires_grad = False"
   ]
  },
  {
   "cell_type": "code",
   "execution_count": 23,
   "metadata": {},
   "outputs": [],
   "source": [
    "class BERTArchitecture(nn.Module):\n",
    "    def __init__(self, bert):\n",
    "        super(BERTArchitecture, self).__init__()\n",
    "        \n",
    "        self.bert = bert \n",
    "        \n",
    "        # Dropout layer\n",
    "        self.dropout = nn.Dropout(0.1)\n",
    "      \n",
    "        # ReLU activation function\n",
    "        self.relu =  nn.ReLU()\n",
    "\n",
    "        # Dense layer 1\n",
    "        self.fullyConnected1 = nn.Linear(768, 512)\n",
    "      \n",
    "        # Dense layer 2 (Output layer)\n",
    "        self.fullyConnected2 = nn.Linear(512, 2)\n",
    "\n",
    "        # Softmax activation function\n",
    "        self.softmax = nn.LogSoftmax(dim=1)\n",
    "\n",
    "    # Define the forward pass\n",
    "    def forward(self, sent_id, mask):\n",
    "        # Pass the inputs to the model  \n",
    "        _, cls_hs = self.bert(sent_id, attention_mask=mask, return_dict=False)\n",
    "      \n",
    "        # Input layer\n",
    "        x = self.fullyConnected1(cls_hs)\n",
    "        x = self.relu(x)\n",
    "        x = self.dropout(x)\n",
    "\n",
    "        # Output layer\n",
    "        x = self.fullyConnected2(x)\n",
    "      \n",
    "        # Apply softmax activation\n",
    "        x = self.softmax(x)\n",
    "\n",
    "        return x"
   ]
  },
  {
   "attachments": {},
   "cell_type": "markdown",
   "metadata": {},
   "source": [
    "### Pass the Pre-trained BERT from Huggingface to our Defined Architecture"
   ]
  },
  {
   "cell_type": "code",
   "execution_count": 24,
   "metadata": {},
   "outputs": [],
   "source": [
    "model = BERTArchitecture(BERT)"
   ]
  },
  {
   "attachments": {},
   "cell_type": "markdown",
   "metadata": {},
   "source": [
    "#### Push our Model to the Device"
   ]
  },
  {
   "cell_type": "code",
   "execution_count": 25,
   "metadata": {},
   "outputs": [],
   "source": [
    "model = model.to(device)"
   ]
  },
  {
   "attachments": {},
   "cell_type": "markdown",
   "metadata": {},
   "source": [
    "### Create an Optimiser"
   ]
  },
  {
   "cell_type": "code",
   "execution_count": 26,
   "metadata": {},
   "outputs": [
    {
     "name": "stderr",
     "output_type": "stream",
     "text": [
      "/home/volt/.local/lib/python3.10/site-packages/transformers/optimization.py:306: FutureWarning: This implementation of AdamW is deprecated and will be removed in a future version. Use the PyTorch implementation torch.optim.AdamW instead, or set `no_deprecation_warning=True` to disable this warning\n",
      "  warnings.warn(\n"
     ]
    }
   ],
   "source": [
    "# Optimizer from hugging face transformers\n",
    "from transformers import AdamW\n",
    "\n",
    "# Define the optimizer\n",
    "optimizer = AdamW(model.parameters(), lr=1e-5) "
   ]
  },
  {
   "attachments": {},
   "cell_type": "markdown",
   "metadata": {},
   "source": [
    "### Compute Class Weights"
   ]
  },
  {
   "cell_type": "code",
   "execution_count": 27,
   "metadata": {},
   "outputs": [
    {
     "name": "stdout",
     "output_type": "stream",
     "text": [
      "Class Weights: [0.57743559 3.72848948]\n"
     ]
    }
   ],
   "source": [
    "weightsList = compute_class_weight(class_weight='balanced', classes=np.unique(yTrain), y=yTrain)\n",
    "\n",
    "print(\"Class Weights:\", weightsList)"
   ]
  },
  {
   "attachments": {},
   "cell_type": "markdown",
   "metadata": {},
   "source": [
    "#### Convert Class Weights List to Tensor"
   ]
  },
  {
   "cell_type": "code",
   "execution_count": 28,
   "metadata": {},
   "outputs": [],
   "source": [
    "# Converting list of class weights to a tensor\n",
    "weights = torch.tensor(weightsList, dtype=torch.float)\n",
    "\n",
    "# Push to GPU\n",
    "weights = weights.to(device)"
   ]
  },
  {
   "attachments": {},
   "cell_type": "markdown",
   "metadata": {},
   "source": [
    "### Define Hyper-parameters to Train"
   ]
  },
  {
   "cell_type": "code",
   "execution_count": 29,
   "metadata": {},
   "outputs": [],
   "source": [
    "# Define the loss function\n",
    "crossEntropy  = nn.NLLLoss(weight=weights) \n",
    "\n",
    "# Define the number of training epochs\n",
    "epochs = 10\n",
    "\n",
    "# Define how many steps before printing an update\n",
    "trainingStepsUpdate = 20\n",
    "validationStepsUpdate = 10"
   ]
  },
  {
   "attachments": {},
   "cell_type": "markdown",
   "metadata": {},
   "source": [
    "### Training the Model - Fine Tuning\n",
    "Define a function to train the model."
   ]
  },
  {
   "cell_type": "code",
   "execution_count": 30,
   "metadata": {},
   "outputs": [],
   "source": [
    "def train():\n",
    "    model.train()\n",
    "    totalLoss = 0\n",
    "  \n",
    "    # Empty list to save model predictions\n",
    "    totalPredictions = []\n",
    "  \n",
    "    # Iterate over batches\n",
    "    for step, batch in enumerate(trainingDataLoader):\n",
    "        # Progress update after every 50 batches.\n",
    "        if step % trainingStepsUpdate == 0 and not step == 0:\n",
    "            print('\\tBatch {:>3,} of {:>3,}.'.format(step, len(trainingDataLoader)))\n",
    "        \n",
    "        # Push the batch to gpu\n",
    "        batch = [r.to(device) for r in batch]\n",
    " \n",
    "        sent_id, mask, labels = batch\n",
    "        \n",
    "        # Clear previously calculated gradients \n",
    "        model.zero_grad()        \n",
    "\n",
    "        # Get model predictions for the current batch\n",
    "        preds = model(sent_id, mask)\n",
    "\n",
    "        # Compute the loss between actual and predicted values\n",
    "        loss = crossEntropy(preds, labels)\n",
    "\n",
    "        # Add on to the total loss\n",
    "        totalLoss = totalLoss + loss.item()\n",
    "\n",
    "        # Backward pass to calculate the gradients\n",
    "        loss.backward()\n",
    "\n",
    "        # Clip the the gradients to 1.0. It helps in preventing the exploding gradient problem\n",
    "        torch.nn.utils.clip_grad_norm_(model.parameters(), 1.0)\n",
    "\n",
    "        # Update parameters\n",
    "        optimizer.step()\n",
    "\n",
    "        # Model predictions are stored on GPU. So, push it to CPU\n",
    "        preds = preds.detach().cpu().numpy()\n",
    "\n",
    "    # Append the model predictions\n",
    "    totalPredictions.append(preds)\n",
    "\n",
    "    # Compute the training loss of the epoch\n",
    "    averageLoss = totalLoss / len(trainingDataLoader)\n",
    "  \n",
    "    # Predictions are in the form of (no. of batches, size of batch, no. of classes). Reshape the predictions in form of (number of samples, no. of classes)\n",
    "    totalPredictions  = np.concatenate(totalPredictions, axis=0)\n",
    "\n",
    "    # Returns the loss and predictions\n",
    "    return averageLoss, totalPredictions"
   ]
  },
  {
   "attachments": {},
   "cell_type": "markdown",
   "metadata": {},
   "source": [
    "### Evaluating the Model - Using the Validation Set\n",
    "Define a function to evaluate the model."
   ]
  },
  {
   "cell_type": "code",
   "execution_count": 31,
   "metadata": {},
   "outputs": [],
   "source": [
    "def evaluate():\n",
    "    print(\"\\nEvaluating...\")\n",
    "  \n",
    "    # Deactivate dropout layers\n",
    "    model.eval()\n",
    "\n",
    "    totalLoss = 0\n",
    "    \n",
    "    # Empty list to save the model predictions\n",
    "    totalPredictions = []\n",
    "\n",
    "    # Iterate over batches\n",
    "    for step, batch in enumerate(validationDataLoader):\n",
    "        # Progress update every 50 batches.\n",
    "        if step % validationStepsUpdate == 0 and not step == 0:\n",
    "            # Report progress.\n",
    "            print('\\tBatch {:>3,} of {:>3,}.'.format(step, len(validationDataLoader)))\n",
    "\n",
    "        # Push the batch to gpu\n",
    "        batch = [t.to(device) for t in batch]\n",
    "\n",
    "        sent_id, mask, labels = batch\n",
    "\n",
    "        # Deactivate autograd\n",
    "        with torch.no_grad():\n",
    "            \n",
    "            # Model predictions\n",
    "            preds = model(sent_id, mask)\n",
    "\n",
    "            # Compute the validation loss between actual and predicted values\n",
    "            loss = crossEntropy(preds,labels)\n",
    "\n",
    "            totalLoss = totalLoss + loss.item()\n",
    "\n",
    "            preds = preds.detach().cpu().numpy()\n",
    "\n",
    "            totalPredictions.append(preds)\n",
    "\n",
    "    # Compute the validation loss of the epoch\n",
    "    averageLoss = totalLoss / len(validationDataLoader) \n",
    "\n",
    "    # Reshape the predictions in form of (number of samples, no. of classes)\n",
    "    totalPredictions  = np.concatenate(totalPredictions, axis=0)\n",
    "\n",
    "    return averageLoss, totalPredictions"
   ]
  },
  {
   "attachments": {},
   "cell_type": "markdown",
   "metadata": {},
   "source": [
    "### Running the Model to Train and Evaluate\n",
    "Training and validating the model for 50 epochs."
   ]
  },
  {
   "cell_type": "code",
   "execution_count": 32,
   "metadata": {},
   "outputs": [
    {
     "name": "stdout",
     "output_type": "stream",
     "text": [
      "\n",
      "Epoch 1 of 10\n",
      "\tBatch  20 of 244.\n",
      "\tBatch  40 of 244.\n",
      "\tBatch  60 of 244.\n",
      "\tBatch  80 of 244.\n",
      "\tBatch 100 of 244.\n",
      "\tBatch 120 of 244.\n",
      "\tBatch 140 of 244.\n",
      "\tBatch 160 of 244.\n",
      "\tBatch 180 of 244.\n",
      "\tBatch 200 of 244.\n",
      "\tBatch 220 of 244.\n",
      "\tBatch 240 of 244.\n",
      "\n",
      "Evaluating...\n",
      "\tBatch  10 of  53.\n",
      "\tBatch  20 of  53.\n",
      "\tBatch  30 of  53.\n",
      "\tBatch  40 of  53.\n",
      "\tBatch  50 of  53.\n",
      "\n",
      "Training Loss: 0.667\n",
      "Training Time Taken: 11.41 seconds\n",
      "Validation Loss: 0.652\n",
      "Validation Time Taken: 2.16 seconds\n",
      "\n",
      "Epoch 2 of 10\n",
      "\tBatch  20 of 244.\n",
      "\tBatch  40 of 244.\n",
      "\tBatch  60 of 244.\n",
      "\tBatch  80 of 244.\n",
      "\tBatch 100 of 244.\n",
      "\tBatch 120 of 244.\n",
      "\tBatch 140 of 244.\n",
      "\tBatch 160 of 244.\n",
      "\tBatch 180 of 244.\n",
      "\tBatch 200 of 244.\n",
      "\tBatch 220 of 244.\n",
      "\tBatch 240 of 244.\n",
      "\n",
      "Evaluating...\n",
      "\tBatch  10 of  53.\n",
      "\tBatch  20 of  53.\n",
      "\tBatch  30 of  53.\n",
      "\tBatch  40 of  53.\n",
      "\tBatch  50 of  53.\n",
      "\n",
      "Training Loss: 0.626\n",
      "Training Time Taken: 11.52 seconds\n",
      "Validation Loss: 0.619\n",
      "Validation Time Taken: 2.24 seconds\n",
      "\n",
      "Epoch 3 of 10\n",
      "\tBatch  20 of 244.\n",
      "\tBatch  40 of 244.\n",
      "\tBatch  60 of 244.\n",
      "\tBatch  80 of 244.\n",
      "\tBatch 100 of 244.\n",
      "\tBatch 120 of 244.\n",
      "\tBatch 140 of 244.\n",
      "\tBatch 160 of 244.\n",
      "\tBatch 180 of 244.\n",
      "\tBatch 200 of 244.\n",
      "\tBatch 220 of 244.\n",
      "\tBatch 240 of 244.\n",
      "\n",
      "Evaluating...\n",
      "\tBatch  10 of  53.\n",
      "\tBatch  20 of  53.\n",
      "\tBatch  30 of  53.\n",
      "\tBatch  40 of  53.\n",
      "\tBatch  50 of  53.\n",
      "\n",
      "Training Loss: 0.589\n",
      "Training Time Taken: 11.05 seconds\n",
      "Validation Loss: 0.565\n",
      "Validation Time Taken: 2.17 seconds\n",
      "\n",
      "Epoch 4 of 10\n",
      "\tBatch  20 of 244.\n",
      "\tBatch  40 of 244.\n",
      "\tBatch  60 of 244.\n",
      "\tBatch  80 of 244.\n",
      "\tBatch 100 of 244.\n",
      "\tBatch 120 of 244.\n",
      "\tBatch 140 of 244.\n",
      "\tBatch 160 of 244.\n",
      "\tBatch 180 of 244.\n",
      "\tBatch 200 of 244.\n",
      "\tBatch 220 of 244.\n",
      "\tBatch 240 of 244.\n",
      "\n",
      "Evaluating...\n",
      "\tBatch  10 of  53.\n",
      "\tBatch  20 of  53.\n",
      "\tBatch  30 of  53.\n",
      "\tBatch  40 of  53.\n",
      "\tBatch  50 of  53.\n",
      "\n",
      "Training Loss: 0.560\n",
      "Training Time Taken: 10.33 seconds\n",
      "Validation Loss: 0.535\n",
      "Validation Time Taken: 2.23 seconds\n",
      "\n",
      "Epoch 5 of 10\n",
      "\tBatch  20 of 244.\n",
      "\tBatch  40 of 244.\n",
      "\tBatch  60 of 244.\n",
      "\tBatch  80 of 244.\n",
      "\tBatch 100 of 244.\n",
      "\tBatch 120 of 244.\n",
      "\tBatch 140 of 244.\n",
      "\tBatch 160 of 244.\n",
      "\tBatch 180 of 244.\n",
      "\tBatch 200 of 244.\n",
      "\tBatch 220 of 244.\n",
      "\tBatch 240 of 244.\n",
      "\n",
      "Evaluating...\n",
      "\tBatch  10 of  53.\n",
      "\tBatch  20 of  53.\n",
      "\tBatch  30 of  53.\n",
      "\tBatch  40 of  53.\n",
      "\tBatch  50 of  53.\n",
      "\n",
      "Training Loss: 0.534\n",
      "Training Time Taken: 12.13 seconds\n",
      "Validation Loss: 0.515\n",
      "Validation Time Taken: 2.15 seconds\n",
      "\n",
      "Epoch 6 of 10\n",
      "\tBatch  20 of 244.\n",
      "\tBatch  40 of 244.\n",
      "\tBatch  60 of 244.\n",
      "\tBatch  80 of 244.\n",
      "\tBatch 100 of 244.\n",
      "\tBatch 120 of 244.\n",
      "\tBatch 140 of 244.\n",
      "\tBatch 160 of 244.\n",
      "\tBatch 180 of 244.\n",
      "\tBatch 200 of 244.\n",
      "\tBatch 220 of 244.\n",
      "\tBatch 240 of 244.\n",
      "\n",
      "Evaluating...\n",
      "\tBatch  10 of  53.\n",
      "\tBatch  20 of  53.\n",
      "\tBatch  30 of  53.\n",
      "\tBatch  40 of  53.\n",
      "\tBatch  50 of  53.\n",
      "\n",
      "Training Loss: 0.513\n",
      "Training Time Taken: 11.26 seconds\n",
      "Validation Loss: 0.481\n",
      "Validation Time Taken: 2.41 seconds\n",
      "\n",
      "Epoch 7 of 10\n",
      "\tBatch  20 of 244.\n",
      "\tBatch  40 of 244.\n",
      "\tBatch  60 of 244.\n",
      "\tBatch  80 of 244.\n",
      "\tBatch 100 of 244.\n",
      "\tBatch 120 of 244.\n",
      "\tBatch 140 of 244.\n",
      "\tBatch 160 of 244.\n",
      "\tBatch 180 of 244.\n",
      "\tBatch 200 of 244.\n",
      "\tBatch 220 of 244.\n",
      "\tBatch 240 of 244.\n",
      "\n",
      "Evaluating...\n",
      "\tBatch  10 of  53.\n",
      "\tBatch  20 of  53.\n",
      "\tBatch  30 of  53.\n",
      "\tBatch  40 of  53.\n",
      "\tBatch  50 of  53.\n",
      "\n",
      "Training Loss: 0.485\n",
      "Training Time Taken: 12.79 seconds\n",
      "Validation Loss: 0.457\n",
      "Validation Time Taken: 2.60 seconds\n",
      "\n",
      "Epoch 8 of 10\n",
      "\tBatch  20 of 244.\n",
      "\tBatch  40 of 244.\n",
      "\tBatch  60 of 244.\n",
      "\tBatch  80 of 244.\n",
      "\tBatch 100 of 244.\n",
      "\tBatch 120 of 244.\n",
      "\tBatch 140 of 244.\n",
      "\tBatch 160 of 244.\n",
      "\tBatch 180 of 244.\n",
      "\tBatch 200 of 244.\n",
      "\tBatch 220 of 244.\n",
      "\tBatch 240 of 244.\n",
      "\n",
      "Evaluating...\n",
      "\tBatch  10 of  53.\n",
      "\tBatch  20 of  53.\n",
      "\tBatch  30 of  53.\n",
      "\tBatch  40 of  53.\n",
      "\tBatch  50 of  53.\n",
      "\n",
      "Training Loss: 0.464\n",
      "Training Time Taken: 12.55 seconds\n",
      "Validation Loss: 0.441\n",
      "Validation Time Taken: 2.10 seconds\n",
      "\n",
      "Epoch 9 of 10\n",
      "\tBatch  20 of 244.\n",
      "\tBatch  40 of 244.\n",
      "\tBatch  60 of 244.\n",
      "\tBatch  80 of 244.\n",
      "\tBatch 100 of 244.\n",
      "\tBatch 120 of 244.\n",
      "\tBatch 140 of 244.\n",
      "\tBatch 160 of 244.\n",
      "\tBatch 180 of 244.\n",
      "\tBatch 200 of 244.\n",
      "\tBatch 220 of 244.\n",
      "\tBatch 240 of 244.\n",
      "\n",
      "Evaluating...\n",
      "\tBatch  10 of  53.\n",
      "\tBatch  20 of  53.\n",
      "\tBatch  30 of  53.\n",
      "\tBatch  40 of  53.\n",
      "\tBatch  50 of  53.\n",
      "\n",
      "Training Loss: 0.445\n",
      "Training Time Taken: 11.94 seconds\n",
      "Validation Loss: 0.408\n",
      "Validation Time Taken: 2.20 seconds\n",
      "\n",
      "Epoch 10 of 10\n",
      "\tBatch  20 of 244.\n",
      "\tBatch  40 of 244.\n",
      "\tBatch  60 of 244.\n",
      "\tBatch  80 of 244.\n",
      "\tBatch 100 of 244.\n",
      "\tBatch 120 of 244.\n",
      "\tBatch 140 of 244.\n",
      "\tBatch 160 of 244.\n",
      "\tBatch 180 of 244.\n",
      "\tBatch 200 of 244.\n",
      "\tBatch 220 of 244.\n",
      "\tBatch 240 of 244.\n",
      "\n",
      "Evaluating...\n",
      "\tBatch  10 of  53.\n",
      "\tBatch  20 of  53.\n",
      "\tBatch  30 of  53.\n",
      "\tBatch  40 of  53.\n",
      "\tBatch  50 of  53.\n",
      "\n",
      "Training Loss: 0.427\n",
      "Training Time Taken: 11.27 seconds\n",
      "Validation Loss: 0.406\n",
      "Validation Time Taken: 2.17 seconds\n",
      "\n",
      "Total Time Taken: 138.66 seconds\n"
     ]
    }
   ],
   "source": [
    "# Set initial loss to infinite\n",
    "bestValidationLoss = float('inf')\n",
    "\n",
    "# Empty lists to store training and validation loss of each epoch\n",
    "trainingLosses = []\n",
    "validationLosses = []\n",
    "\n",
    "# Initialize total time taken to 0\n",
    "totalTimeTaken = 0\n",
    "\n",
    "# For each epoch\n",
    "for epoch in range(epochs):\n",
    "    print('\\nEpoch {:} of {:}'.format(epoch + 1, epochs))\n",
    "    \n",
    "    # Train model and record time taken\n",
    "    startTime = time.time()\n",
    "    trainingLoss, _ = train()\n",
    "    trainingTimeTaken = time.time() - startTime\n",
    "\n",
    "    # Evaluate model and record time taken\n",
    "    startTime = time.time()\n",
    "    validationLoss, _ = evaluate()\n",
    "    validationTimeTaken = time.time() - startTime\n",
    "\n",
    "    # Save the best model\n",
    "    if validationLoss < bestValidationLoss:\n",
    "        bestValidationLoss = validationLoss\n",
    "        torch.save(model.state_dict(), r'./assets/weights/main-weights.pt')\n",
    "    \n",
    "    # Append training and validation losses\n",
    "    trainingLosses.append(trainingLoss)\n",
    "    validationLosses.append(validationLoss)\n",
    "    \n",
    "    # Print epoch results and times taken\n",
    "    print(f'\\nTraining Loss: {trainingLoss:.3f}')\n",
    "    print(f'Training Time Taken: {trainingTimeTaken:.2f} seconds')\n",
    "    print(f'Validation Loss: {validationLoss:.3f}')\n",
    "    print(f'Validation Time Taken: {validationTimeTaken:.2f} seconds')\n",
    "\n",
    "    # Update total time taken\n",
    "    totalTimeTaken += trainingTimeTaken + validationTimeTaken\n",
    "\n",
    "# Print total time taken for all epochs\n",
    "print(f'\\nTotal Time Taken: {totalTimeTaken:.2f} seconds')"
   ]
  },
  {
   "attachments": {},
   "cell_type": "markdown",
   "metadata": {},
   "source": [
    "### Using Trained Model to Predict"
   ]
  },
  {
   "cell_type": "code",
   "execution_count": 33,
   "metadata": {},
   "outputs": [],
   "source": [
    "# Get predictions for test data\n",
    "with torch.no_grad():\n",
    "    preds = model(testSequenceTensor.to(device), testMaskTensor.to(device))\n",
    "    preds = preds.detach().cpu().numpy()"
   ]
  },
  {
   "attachments": {},
   "cell_type": "markdown",
   "metadata": {},
   "source": [
    "### Evaluate Model's Performance on Testing Data"
   ]
  },
  {
   "attachments": {},
   "cell_type": "markdown",
   "metadata": {},
   "source": [
    "Get the model's predictions."
   ]
  },
  {
   "cell_type": "code",
   "execution_count": 42,
   "metadata": {},
   "outputs": [],
   "source": [
    "predications = np.argmax(preds, axis=1)"
   ]
  },
  {
   "attachments": {},
   "cell_type": "markdown",
   "metadata": {},
   "source": [
    "Get the model's confusion matrix."
   ]
  },
  {
   "cell_type": "code",
   "execution_count": 43,
   "metadata": {},
   "outputs": [],
   "source": [
    "confusionMatrix = confusion_matrix(testYTensor, predications)"
   ]
  },
  {
   "attachments": {},
   "cell_type": "markdown",
   "metadata": {},
   "source": [
    "Print the accuracy of the model."
   ]
  },
  {
   "cell_type": "code",
   "execution_count": 44,
   "metadata": {},
   "outputs": [
    {
     "name": "stdout",
     "output_type": "stream",
     "text": [
      "0.9007177033492823\n"
     ]
    }
   ],
   "source": [
    "print(accuracy_score(testYTensor, predications))"
   ]
  },
  {
   "cell_type": "code",
   "execution_count": 45,
   "metadata": {},
   "outputs": [
    {
     "name": "stdout",
     "output_type": "stream",
     "text": [
      "              precision    recall  f1-score   support\n",
      "\n",
      "           0       0.96      0.92      0.94       724\n",
      "           1       0.60      0.78      0.68       112\n",
      "\n",
      "    accuracy                           0.90       836\n",
      "   macro avg       0.78      0.85      0.81       836\n",
      "weighted avg       0.92      0.90      0.91       836\n",
      "\n"
     ]
    }
   ],
   "source": [
    "print(classification_report(testYTensor, predications))"
   ]
  },
  {
   "attachments": {},
   "cell_type": "markdown",
   "metadata": {},
   "source": [
    "Plotting the correlation heatmap using the model's classification report."
   ]
  },
  {
   "cell_type": "code",
   "execution_count": 51,
   "metadata": {},
   "outputs": [
    {
     "data": {
      "image/png": "[encoded data removed]",
      "text/plain": [
       "<Figure size 800x800 with 2 Axes>"
      ]
     },
     "metadata": {},
     "output_type": "display_data"
    }
   ],
   "source": [
    "plt.figure(figsize=(8, 8))\n",
    "\n",
    "sns.heatmap(confusionMatrix, annot=True, cmap='Blues')\n",
    "\n",
    "plt.xlabel('Predicted labels')\n",
    "plt.ylabel('True labels')\n",
    "\n",
    "plt.show()"
   ]
  },
  {
   "attachments": {},
   "cell_type": "markdown",
   "metadata": {},
   "source": [
    "### Plotting Change in Training and Validation Losses"
   ]
  },
  {
   "attachments": {},
   "cell_type": "markdown",
   "metadata": {},
   "source": [
    "#### Convert lists to arrays"
   ]
  },
  {
   "cell_type": "code",
   "execution_count": 52,
   "metadata": {},
   "outputs": [],
   "source": [
    "# Convert trainingLosses into a numpy array\n",
    "trainingLosses = np.array(trainingLosses)\n",
    "\n",
    "# Convert validationLosses into a numpy array\n",
    "validationLosses = np.array(validationLosses)"
   ]
  },
  {
   "attachments": {},
   "cell_type": "markdown",
   "metadata": {},
   "source": [
    "#### Creating an x-axis"
   ]
  },
  {
   "cell_type": "code",
   "execution_count": 53,
   "metadata": {},
   "outputs": [
    {
     "data": {
      "text/plain": [
       "array([0, 1, 2, 3, 4, 5, 6, 7, 8, 9])"
      ]
     },
     "execution_count": 53,
     "metadata": {},
     "output_type": "execute_result"
    }
   ],
   "source": [
    "X = np.arange(0, epochs)\n",
    "X"
   ]
  },
  {
   "cell_type": "code",
   "execution_count": 54,
   "metadata": {},
   "outputs": [
    {
     "data": {
      "text/plain": [
       "((10,), (10,))"
      ]
     },
     "execution_count": 54,
     "metadata": {},
     "output_type": "execute_result"
    }
   ],
   "source": [
    "X.shape, trainingLosses.shape"
   ]
  },
  {
   "attachments": {},
   "cell_type": "markdown",
   "metadata": {},
   "source": [
    "#### Plotting losses"
   ]
  },
  {
   "cell_type": "code",
   "execution_count": 55,
   "metadata": {},
   "outputs": [
    {
     "data": {
      "image/png": "[encoded data removed]",
      "text/plain": [
       "<Figure size 1000x800 with 1 Axes>"
      ]
     },
     "metadata": {},
     "output_type": "display_data"
    }
   ],
   "source": [
    "plt.figure(figsize=(10, 8))\n",
    "plt.grid()\n",
    "\n",
    "plt.xlabel(\"Epochs\")\n",
    "plt.ylabel(\"Loss Value\")\n",
    "\n",
    "plt.plot(X, trainingLosses, label='Training Loss', marker='x', color='C1', alpha=0.6)\n",
    "plt.plot(X, validationLosses, label='Validation Loss', marker='x', color='C4', alpha=0.4)\n",
    "\n",
    "plt.legend()\n",
    "plt.show()"
   ]
  },
  {
   "attachments": {},
   "cell_type": "markdown",
   "metadata": {},
   "source": [
    "---"
   ]
  },
  {
   "attachments": {},
   "cell_type": "markdown",
   "metadata": {},
   "source": [
    "## References"
   ]
  },
  {
   "attachments": {},
   "cell_type": "markdown",
   "metadata": {},
   "source": [
    "<ol>\n",
    "    <li><a href=\"https://www.reddit.com/r/MachineLearning/comments/ao23cp/p_how_to_use_bert_in_kaggle_competitions_a/\">How to use BERT in Kaggle competitions - Reddit Thread</a></li>\n",
    "    <li><a href=\"http://jalammar.github.io/a-visual-guide-to-using-bert-for-the-first-time/\">A visual guide to using BERT by Jay Alammar</a></li>\n",
    "    <li><a href=\"https://www.analyticsvidhya.com/blog/2019/09/demystifying-bert-groundbreaking-nlp-framework/\">Demystifying BERT: Groundbreaking NLP Framework by Mohd Sanad Zaki Rizvi</a></li>\n",
    "    <li><a href=\"https://towardsdatascience.com/bert-for-dummies-step-by-step-tutorial-fb90890ffe03\">BERT for Dummies step by step tutorial by Michel Kana</a></li>\n",
    "</ol>"
   ]
  }
 ],
 "metadata": {
  "kernelspec": {
   "display_name": "Python 3",
   "language": "python",
   "name": "python3"
  },
  "language_info": {
   "codemirror_mode": {
    "name": "ipython",
    "version": 3
   },
   "file_extension": ".py",
   "mimetype": "text/x-python",
   "name": "python",
   "nbconvert_exporter": "python",
   "pygments_lexer": "ipython3",
   "version": "3.10.6"
  },
  "orig_nbformat": 4
 },
 "nbformat": 4,
 "nbformat_minor": 2
}
