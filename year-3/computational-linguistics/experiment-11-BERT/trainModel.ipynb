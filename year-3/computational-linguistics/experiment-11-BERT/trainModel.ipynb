{
 "cells": [
  {
   "attachments": {},
   "cell_type": "markdown",
   "id": "6b03092f",
   "metadata": {
    "_cell_guid": "2254615d-72b9-4d36-aaa4-b546bbb474fe",
    "_uuid": "547e40a7-4c88-45aa-bf23-ed87b6389210",
    "papermill": {
     "duration": 0.011329,
     "end_time": "2023-04-20T17:57:30.671546",
     "exception": false,
     "start_time": "2023-04-20T17:57:30.660217",
     "status": "completed"
    },
    "tags": []
   },
   "source": [
    "## Implementing a Custom BERT Model for Spam Prediction"
   ]
  },
  {
   "cell_type": "markdown",
   "id": "6cf9e0c0",
   "metadata": {
    "_cell_guid": "4cdb895c-53d2-4113-abf3-98a8b8ad8893",
    "_uuid": "c171b012-d016-4658-9500-e0b94063753a",
    "papermill": {
     "duration": 0.011164,
     "end_time": "2023-04-20T17:57:30.695577",
     "exception": false,
     "start_time": "2023-04-20T17:57:30.684413",
     "status": "completed"
    },
    "tags": []
   },
   "source": [
    "### Import Libraries"
   ]
  },
  {
   "cell_type": "code",
   "execution_count": 41,
   "id": "1c0a12be",
   "metadata": {
    "_cell_guid": "a9bc4fb7-64a4-4cfe-9367-38dde64d1db6",
    "_uuid": "a7a38ab6-7c62-48a2-bf0c-3abb256e1470",
    "collapsed": false,
    "execution": {
     "iopub.execute_input": "2023-04-20T17:57:30.720729Z",
     "iopub.status.busy": "2023-04-20T17:57:30.719876Z",
     "iopub.status.idle": "2023-04-20T17:57:39.591200Z",
     "shell.execute_reply": "2023-04-20T17:57:39.590084Z"
    },
    "jupyter": {
     "outputs_hidden": false
    },
    "papermill": {
     "duration": 8.886859,
     "end_time": "2023-04-20T17:57:39.593846",
     "exception": false,
     "start_time": "2023-04-20T17:57:30.706987",
     "status": "completed"
    },
    "tags": []
   },
   "outputs": [],
   "source": [
    "import time\n",
    "import numpy as np\n",
    "import pandas as pd\n",
    "import json\n",
    "\n",
    "import torch\n",
    "import torch.nn as nn\n",
    "from torch.utils.data import TensorDataset, DataLoader, RandomSampler, SequentialSampler\n",
    "\n",
    "from sklearn.model_selection import train_test_split\n",
    "from sklearn.metrics import classification_report\n",
    "from sklearn.utils.class_weight import compute_class_weight\n",
    "\n",
    "import transformers\n",
    "from transformers import AutoModel, BertTokenizerFast\n",
    "\n",
    "import matplotlib.pyplot as plt"
   ]
  },
  {
   "cell_type": "markdown",
   "id": "47e65421",
   "metadata": {
    "_cell_guid": "70cdc4d7-835a-4b03-9f84-7b49c2317c49",
    "_uuid": "248da856-5745-4c21-8735-7fb8a06542f0",
    "papermill": {
     "duration": 0.01184,
     "end_time": "2023-04-20T17:57:39.618635",
     "exception": false,
     "start_time": "2023-04-20T17:57:39.606795",
     "status": "completed"
    },
    "tags": []
   },
   "source": [
    "#### Define GPU Here if Available"
   ]
  },
  {
   "cell_type": "code",
   "execution_count": 42,
   "id": "93bf3172",
   "metadata": {
    "_cell_guid": "0a539b07-d262-4bf2-b3a8-8ebd8709b87b",
    "_uuid": "da84e46d-bac2-499a-89ab-91e2e6d1c1a5",
    "collapsed": false,
    "execution": {
     "iopub.execute_input": "2023-04-20T17:57:39.643766Z",
     "iopub.status.busy": "2023-04-20T17:57:39.643240Z",
     "iopub.status.idle": "2023-04-20T17:57:39.648247Z",
     "shell.execute_reply": "2023-04-20T17:57:39.647156Z"
    },
    "jupyter": {
     "outputs_hidden": false
    },
    "papermill": {
     "duration": 0.020272,
     "end_time": "2023-04-20T17:57:39.650435",
     "exception": false,
     "start_time": "2023-04-20T17:57:39.630163",
     "status": "completed"
    },
    "tags": []
   },
   "outputs": [],
   "source": [
    "# device = torch.device(\"cuda\")\n",
    "device = torch.device(\"cpu\")"
   ]
  },
  {
   "cell_type": "markdown",
   "id": "384a8cea",
   "metadata": {
    "_cell_guid": "bb8443af-0166-40e7-b5f9-1861ea3b3193",
    "_uuid": "aec49a8b-d906-4f37-b252-18af40af3309",
    "papermill": {
     "duration": 0.011488,
     "end_time": "2023-04-20T17:57:39.673544",
     "exception": false,
     "start_time": "2023-04-20T17:57:39.662056",
     "status": "completed"
    },
    "tags": []
   },
   "source": [
    "### Preprocessing"
   ]
  },
  {
   "cell_type": "markdown",
   "id": "11c8cd0b",
   "metadata": {
    "_cell_guid": "87795ef7-6876-42ba-87ea-85cf32a15614",
    "_uuid": "e57ffdb9-22b0-4bb2-90a5-a99f633629f3",
    "papermill": {
     "duration": 0.011199,
     "end_time": "2023-04-20T17:57:39.696154",
     "exception": false,
     "start_time": "2023-04-20T17:57:39.684955",
     "status": "completed"
    },
    "tags": []
   },
   "source": [
    "#### Import the Corpus of Raw Text"
   ]
  },
  {
   "cell_type": "code",
   "execution_count": 43,
   "id": "6d37fa52",
   "metadata": {
    "_cell_guid": "ffca383d-0f08-4df0-b918-ff5e3e6b4b4d",
    "_uuid": "9de24dad-5557-4871-a8ea-695cd9a455e8",
    "collapsed": false,
    "execution": {
     "iopub.execute_input": "2023-04-20T17:57:39.721044Z",
     "iopub.status.busy": "2023-04-20T17:57:39.720072Z",
     "iopub.status.idle": "2023-04-20T17:57:39.773891Z",
     "shell.execute_reply": "2023-04-20T17:57:39.772867Z"
    },
    "jupyter": {
     "outputs_hidden": false
    },
    "papermill": {
     "duration": 0.068636,
     "end_time": "2023-04-20T17:57:39.776195",
     "exception": false,
     "start_time": "2023-04-20T17:57:39.707559",
     "status": "completed"
    },
    "tags": []
   },
   "outputs": [
    {
     "data": {
      "text/html": [
       "<div>\n",
       "<style scoped>\n",
       "    .dataframe tbody tr th:only-of-type {\n",
       "        vertical-align: middle;\n",
       "    }\n",
       "\n",
       "    .dataframe tbody tr th {\n",
       "        vertical-align: top;\n",
       "    }\n",
       "\n",
       "    .dataframe thead th {\n",
       "        text-align: right;\n",
       "    }\n",
       "</style>\n",
       "<table border=\"1\" class=\"dataframe\">\n",
       "  <thead>\n",
       "    <tr style=\"text-align: right;\">\n",
       "      <th></th>\n",
       "      <th>label</th>\n",
       "      <th>text</th>\n",
       "    </tr>\n",
       "  </thead>\n",
       "  <tbody>\n",
       "    <tr>\n",
       "      <th>0</th>\n",
       "      <td>0</td>\n",
       "      <td>Go until jurong point, crazy.. Available only ...</td>\n",
       "    </tr>\n",
       "    <tr>\n",
       "      <th>1</th>\n",
       "      <td>0</td>\n",
       "      <td>Ok lar... Joking wif u oni...</td>\n",
       "    </tr>\n",
       "    <tr>\n",
       "      <th>2</th>\n",
       "      <td>1</td>\n",
       "      <td>Free entry in 2 a wkly comp to win FA Cup fina...</td>\n",
       "    </tr>\n",
       "    <tr>\n",
       "      <th>3</th>\n",
       "      <td>0</td>\n",
       "      <td>U dun say so early hor... U c already then say...</td>\n",
       "    </tr>\n",
       "    <tr>\n",
       "      <th>4</th>\n",
       "      <td>0</td>\n",
       "      <td>Nah I don't think he goes to usf, he lives aro...</td>\n",
       "    </tr>\n",
       "  </tbody>\n",
       "</table>\n",
       "</div>"
      ],
      "text/plain": [
       "   label                                               text\n",
       "0      0  Go until jurong point, crazy.. Available only ...\n",
       "1      0                      Ok lar... Joking wif u oni...\n",
       "2      1  Free entry in 2 a wkly comp to win FA Cup fina...\n",
       "3      0  U dun say so early hor... U c already then say...\n",
       "4      0  Nah I don't think he goes to usf, he lives aro..."
      ]
     },
     "execution_count": 43,
     "metadata": {},
     "output_type": "execute_result"
    }
   ],
   "source": [
    "# Use this when running the notebook locally\n",
    "data = pd.read_csv(r\"./assets/data/spam-data.csv\")\n",
    "\n",
    "# Running the notebook on Kaggle\n",
    "# data = pd.read_csv(r\"/kaggle/input/spamdatatest/spamdata_v2.csv\")\n",
    "\n",
    "data.head()"
   ]
  },
  {
   "cell_type": "markdown",
   "id": "0a5072e0",
   "metadata": {
    "_cell_guid": "c7b19365-9f8f-4443-a5d6-37c987738080",
    "_uuid": "77ffc847-f307-4252-97d2-c8b863504a1c",
    "papermill": {
     "duration": 0.011581,
     "end_time": "2023-04-20T17:57:39.799874",
     "exception": false,
     "start_time": "2023-04-20T17:57:39.788293",
     "status": "completed"
    },
    "tags": []
   },
   "source": [
    "### Check the Shape of Data"
   ]
  },
  {
   "cell_type": "code",
   "execution_count": 44,
   "id": "363e5a44",
   "metadata": {
    "_cell_guid": "af4d26a5-5045-4f85-9532-a6a85064fa09",
    "_uuid": "ec98b25f-992f-4917-b00c-85604c58fbfc",
    "collapsed": false,
    "execution": {
     "iopub.execute_input": "2023-04-20T17:57:39.824906Z",
     "iopub.status.busy": "2023-04-20T17:57:39.824320Z",
     "iopub.status.idle": "2023-04-20T17:57:39.830705Z",
     "shell.execute_reply": "2023-04-20T17:57:39.829656Z"
    },
    "jupyter": {
     "outputs_hidden": false
    },
    "papermill": {
     "duration": 0.021161,
     "end_time": "2023-04-20T17:57:39.832858",
     "exception": false,
     "start_time": "2023-04-20T17:57:39.811697",
     "status": "completed"
    },
    "tags": []
   },
   "outputs": [
    {
     "data": {
      "text/plain": [
       "(5572, 2)"
      ]
     },
     "execution_count": 44,
     "metadata": {},
     "output_type": "execute_result"
    }
   ],
   "source": [
    "data.shape"
   ]
  },
  {
   "cell_type": "markdown",
   "id": "66c43b14",
   "metadata": {
    "_cell_guid": "32d3913c-5f60-4f4a-9e5d-bf051874f3a2",
    "_uuid": "282a1291-f2d0-46a4-aa3d-ec0c9ae06dcb",
    "papermill": {
     "duration": 0.012163,
     "end_time": "2023-04-20T17:57:39.856923",
     "exception": false,
     "start_time": "2023-04-20T17:57:39.844760",
     "status": "completed"
    },
    "tags": []
   },
   "source": [
    "#### Check the Way Labels are Distributed"
   ]
  },
  {
   "cell_type": "code",
   "execution_count": 45,
   "id": "74ad672b",
   "metadata": {
    "_cell_guid": "8a2a72ac-8c3c-499c-bbbe-3f5db53fab7b",
    "_uuid": "483ad66e-36a8-4855-bfbe-e033b33eb9ff",
    "collapsed": false,
    "execution": {
     "iopub.execute_input": "2023-04-20T17:57:39.883693Z",
     "iopub.status.busy": "2023-04-20T17:57:39.882803Z",
     "iopub.status.idle": "2023-04-20T17:57:39.898789Z",
     "shell.execute_reply": "2023-04-20T17:57:39.897600Z"
    },
    "jupyter": {
     "outputs_hidden": false
    },
    "papermill": {
     "duration": 0.031455,
     "end_time": "2023-04-20T17:57:39.901213",
     "exception": false,
     "start_time": "2023-04-20T17:57:39.869758",
     "status": "completed"
    },
    "tags": []
   },
   "outputs": [
    {
     "data": {
      "text/plain": [
       "0    0.865937\n",
       "1    0.134063\n",
       "Name: label, dtype: float64"
      ]
     },
     "execution_count": 45,
     "metadata": {},
     "output_type": "execute_result"
    }
   ],
   "source": [
    "data['label'].value_counts(normalize=True)"
   ]
  },
  {
   "cell_type": "markdown",
   "id": "54bc5bf5",
   "metadata": {
    "_cell_guid": "478f084a-30e0-4eda-a540-07459ba482bd",
    "_uuid": "ccae6566-2e29-45ac-b901-ca1c4426aadc",
    "papermill": {
     "duration": 0.011703,
     "end_time": "2023-04-20T17:57:39.925260",
     "exception": false,
     "start_time": "2023-04-20T17:57:39.913557",
     "status": "completed"
    },
    "tags": []
   },
   "source": [
    "#### Plot the Bar Plot for the Distribution"
   ]
  },
  {
   "cell_type": "code",
   "execution_count": 46,
   "id": "50ccd6bf",
   "metadata": {
    "_cell_guid": "5bdc736f-1090-4754-a5cc-9fdbddcef0cf",
    "_uuid": "055af73f-1614-4625-bce0-00972ef418d3",
    "collapsed": false,
    "execution": {
     "iopub.execute_input": "2023-04-20T17:57:39.950697Z",
     "iopub.status.busy": "2023-04-20T17:57:39.949790Z",
     "iopub.status.idle": "2023-04-20T17:57:40.192085Z",
     "shell.execute_reply": "2023-04-20T17:57:40.191288Z"
    },
    "jupyter": {
     "outputs_hidden": false
    },
    "papermill": {
     "duration": 0.256993,
     "end_time": "2023-04-20T17:57:40.194131",
     "exception": false,
     "start_time": "2023-04-20T17:57:39.937138",
     "status": "completed"
    },
    "tags": []
   },
   "outputs": [
    {
     "data": {
      "text/plain": [
       "<AxesSubplot: >"
      ]
     },
     "execution_count": 46,
     "metadata": {},
     "output_type": "execute_result"
    },
    {
     "data": {
      "image/png": "[encoded data removed]",
      "text/plain": [
       "<Figure size 640x480 with 1 Axes>"
      ]
     },
     "metadata": {},
     "output_type": "display_data"
    }
   ],
   "source": [
    "data['label'].value_counts(normalize=True).plot.bar()"
   ]
  },
  {
   "cell_type": "markdown",
   "id": "2b459a7b",
   "metadata": {
    "_cell_guid": "5cd1246d-058f-493e-8042-33f537a7d95f",
    "_uuid": "d6b350c0-d6c0-4f28-b676-a50a4e77800e",
    "papermill": {
     "duration": 0.012052,
     "end_time": "2023-04-20T17:57:40.218741",
     "exception": false,
     "start_time": "2023-04-20T17:57:40.206689",
     "status": "completed"
    },
    "tags": []
   },
   "source": [
    "### Split the Data into Training, Testing and Validation Sets"
   ]
  },
  {
   "cell_type": "markdown",
   "id": "73ad37ca",
   "metadata": {
    "_cell_guid": "6ebe382d-540f-46f5-9199-e513b1175b88",
    "_uuid": "cd82345e-d17d-4cab-82f1-fa6718a58483",
    "papermill": {
     "duration": 0.01188,
     "end_time": "2023-04-20T17:57:40.243055",
     "exception": false,
     "start_time": "2023-04-20T17:57:40.231175",
     "status": "completed"
    },
    "tags": []
   },
   "source": [
    "#### Train-test Split"
   ]
  },
  {
   "cell_type": "code",
   "execution_count": 47,
   "id": "2b485be2",
   "metadata": {
    "_cell_guid": "b113e32b-a6f1-410b-b587-59be1dc6e684",
    "_uuid": "bb4322f7-588b-4d01-8513-bb3958ae8f9e",
    "collapsed": false,
    "execution": {
     "iopub.execute_input": "2023-04-20T17:57:40.269111Z",
     "iopub.status.busy": "2023-04-20T17:57:40.268461Z",
     "iopub.status.idle": "2023-04-20T17:57:40.279884Z",
     "shell.execute_reply": "2023-04-20T17:57:40.278880Z"
    },
    "jupyter": {
     "outputs_hidden": false
    },
    "papermill": {
     "duration": 0.027002,
     "end_time": "2023-04-20T17:57:40.282310",
     "exception": false,
     "start_time": "2023-04-20T17:57:40.255308",
     "status": "completed"
    },
    "tags": []
   },
   "outputs": [],
   "source": [
    "XTrain, XTest, yTrain, yTest = train_test_split(data['text'], data['label'], random_state=42, test_size=0.3, stratify=data['label'])"
   ]
  },
  {
   "cell_type": "markdown",
   "id": "2b56a969",
   "metadata": {
    "_cell_guid": "fad6d3ff-32b3-4ab9-876b-28738b4e7f28",
    "_uuid": "223639ee-81e1-49dd-a6dd-9aa9ba4dd677",
    "papermill": {
     "duration": 0.012077,
     "end_time": "2023-04-20T17:57:40.307003",
     "exception": false,
     "start_time": "2023-04-20T17:57:40.294926",
     "status": "completed"
    },
    "tags": []
   },
   "source": [
    "#### Validation Split"
   ]
  },
  {
   "cell_type": "code",
   "execution_count": 48,
   "id": "2cfd6df8",
   "metadata": {
    "_cell_guid": "42f56505-27f3-4c44-8a4f-a62247f02f8d",
    "_uuid": "a907c704-c835-4e2b-9a13-aeca01d56a2f",
    "collapsed": false,
    "execution": {
     "iopub.execute_input": "2023-04-20T17:57:40.334325Z",
     "iopub.status.busy": "2023-04-20T17:57:40.333496Z",
     "iopub.status.idle": "2023-04-20T17:57:40.340978Z",
     "shell.execute_reply": "2023-04-20T17:57:40.339865Z"
    },
    "jupyter": {
     "outputs_hidden": false
    },
    "papermill": {
     "duration": 0.023245,
     "end_time": "2023-04-20T17:57:40.343343",
     "exception": false,
     "start_time": "2023-04-20T17:57:40.320098",
     "status": "completed"
    },
    "tags": []
   },
   "outputs": [],
   "source": [
    "XValidationTrain, XValidationTest, yValidationTrain, yValidationTest = train_test_split(\n",
    "    XTest, \n",
    "    yTest, \n",
    "    random_state=42, \n",
    "    test_size=0.5, \n",
    "    stratify=yTest\n",
    ")"
   ]
  },
  {
   "cell_type": "markdown",
   "id": "946beb41",
   "metadata": {
    "_cell_guid": "6c4cc29c-5be3-4cf5-be47-405567c635ef",
    "_uuid": "b66914e9-2f28-4939-91c3-cce60d966c48",
    "papermill": {
     "duration": 0.012233,
     "end_time": "2023-04-20T17:57:40.368605",
     "exception": false,
     "start_time": "2023-04-20T17:57:40.356372",
     "status": "completed"
    },
    "tags": []
   },
   "source": [
    "### Download and Import the Pre-trained BERT Model from Huggingface"
   ]
  },
  {
   "cell_type": "code",
   "execution_count": 49,
   "id": "7552e1a3",
   "metadata": {
    "_cell_guid": "f894dce1-5f4c-4d87-9c87-3d8dc707647a",
    "_uuid": "59d3f71a-c7ee-4778-8ddd-3e5bb248d156",
    "collapsed": false,
    "execution": {
     "iopub.execute_input": "2023-04-20T17:57:40.394112Z",
     "iopub.status.busy": "2023-04-20T17:57:40.393818Z",
     "iopub.status.idle": "2023-04-20T17:57:48.530823Z",
     "shell.execute_reply": "2023-04-20T17:57:48.529661Z"
    },
    "jupyter": {
     "outputs_hidden": false
    },
    "papermill": {
     "duration": 8.153003,
     "end_time": "2023-04-20T17:57:48.533687",
     "exception": false,
     "start_time": "2023-04-20T17:57:40.380684",
     "status": "completed"
    },
    "tags": []
   },
   "outputs": [
    {
     "name": "stderr",
     "output_type": "stream",
     "text": [
      "Some weights of the model checkpoint at bert-base-uncased were not used when initializing BertModel: ['cls.seq_relationship.bias', 'cls.predictions.transform.dense.weight', 'cls.predictions.transform.dense.bias', 'cls.seq_relationship.weight', 'cls.predictions.transform.LayerNorm.bias', 'cls.predictions.decoder.weight', 'cls.predictions.transform.LayerNorm.weight', 'cls.predictions.bias']\n",
      "- This IS expected if you are initializing BertModel from the checkpoint of a model trained on another task or with another architecture (e.g. initializing a BertForSequenceClassification model from a BertForPreTraining model).\n",
      "- This IS NOT expected if you are initializing BertModel from the checkpoint of a model that you expect to be exactly identical (initializing a BertForSequenceClassification model from a BertForSequenceClassification model).\n"
     ]
    }
   ],
   "source": [
    "# Import the BERT-base pretrained model\n",
    "BERT = AutoModel.from_pretrained('bert-base-uncased')\n",
    "\n",
    "# Load the BERT tokenizer\n",
    "tokenizer = BertTokenizerFast.from_pretrained('bert-base-uncased')"
   ]
  },
  {
   "cell_type": "markdown",
   "id": "000b62ec",
   "metadata": {
    "_cell_guid": "571c2f66-3677-4978-8455-53d903752c93",
    "_uuid": "5f906423-070e-47cb-90b3-685fd0255a33",
    "papermill": {
     "duration": 0.014034,
     "end_time": "2023-04-20T17:57:48.562429",
     "exception": false,
     "start_time": "2023-04-20T17:57:48.548395",
     "status": "completed"
    },
    "tags": []
   },
   "source": [
    "### Get the Length of each Sequence of Text and Plot their Distributions"
   ]
  },
  {
   "cell_type": "code",
   "execution_count": 50,
   "id": "c439b8ef",
   "metadata": {
    "_cell_guid": "97178c3c-a6f3-4e86-944d-aaf3808b48dd",
    "_uuid": "fe8c8f35-4081-4b7e-a388-1cf3db464f93",
    "collapsed": false,
    "execution": {
     "iopub.execute_input": "2023-04-20T17:57:48.591622Z",
     "iopub.status.busy": "2023-04-20T17:57:48.591269Z",
     "iopub.status.idle": "2023-04-20T17:57:49.014028Z",
     "shell.execute_reply": "2023-04-20T17:57:49.012951Z"
    },
    "jupyter": {
     "outputs_hidden": false
    },
    "papermill": {
     "duration": 0.439654,
     "end_time": "2023-04-20T17:57:49.016478",
     "exception": false,
     "start_time": "2023-04-20T17:57:48.576824",
     "status": "completed"
    },
    "tags": []
   },
   "outputs": [
    {
     "data": {
      "text/plain": [
       "<AxesSubplot: >"
      ]
     },
     "execution_count": 50,
     "metadata": {},
     "output_type": "execute_result"
    },
    {
     "data": {
      "image/png": "[encoded data removed]",
      "text/plain": [
       "<Figure size 640x480 with 1 Axes>"
      ]
     },
     "metadata": {},
     "output_type": "display_data"
    }
   ],
   "source": [
    "# get length of all the messages in the train set\n",
    "sequenceLength = [len(sample.split()) for sample in XTrain]\n",
    "\n",
    "pd.Series(sequenceLength).hist(bins = 100)"
   ]
  },
  {
   "cell_type": "markdown",
   "id": "274f63dd",
   "metadata": {
    "_cell_guid": "83ac64d4-7364-45c8-8c69-4f244f4eb167",
    "_uuid": "9890f23c-1764-47e5-bf6c-1f534a16a63f",
    "papermill": {
     "duration": 0.014087,
     "end_time": "2023-04-20T17:57:49.045304",
     "exception": false,
     "start_time": "2023-04-20T17:57:49.031217",
     "status": "completed"
    },
    "tags": []
   },
   "source": [
    "### Tokenise and Encode Sequences"
   ]
  },
  {
   "cell_type": "code",
   "execution_count": 51,
   "id": "9f9914c5",
   "metadata": {
    "_cell_guid": "40a6a72b-ce9d-4659-8a63-760c24aef1a9",
    "_uuid": "7e8ae615-47e1-4152-9e49-7956558351d3",
    "collapsed": false,
    "execution": {
     "iopub.execute_input": "2023-04-20T17:57:49.075755Z",
     "iopub.status.busy": "2023-04-20T17:57:49.074722Z",
     "iopub.status.idle": "2023-04-20T17:57:49.684759Z",
     "shell.execute_reply": "2023-04-20T17:57:49.683678Z"
    },
    "jupyter": {
     "outputs_hidden": false
    },
    "papermill": {
     "duration": 0.627772,
     "end_time": "2023-04-20T17:57:49.687440",
     "exception": false,
     "start_time": "2023-04-20T17:57:49.059668",
     "status": "completed"
    },
    "tags": []
   },
   "outputs": [
    {
     "name": "stderr",
     "output_type": "stream",
     "text": [
      "/home/volt/.local/lib/python3.10/site-packages/transformers/tokenization_utils_base.py:2339: FutureWarning: The `pad_to_max_length` argument is deprecated and will be removed in a future version, use `padding=True` or `padding='longest'` to pad to the longest sequence in the batch, or use `padding='max_length'` to pad to a max length. In this case, you can give a specific length with `max_length` (e.g. `max_length=45`) or leave max_length to None to pad to the maximal input size of the model (e.g. 512 for Bert).\n",
      "  warnings.warn(\n"
     ]
    }
   ],
   "source": [
    "# Tokenize and encode sequences in the training set\n",
    "trainTokens = tokenizer.batch_encode_plus(\n",
    "    XTrain.tolist(),\n",
    "    max_length = 25,\n",
    "    pad_to_max_length=True,\n",
    "    truncation=True\n",
    ")\n",
    "\n",
    "# Tokenize and encode sequences in the validation set\n",
    "validationTokens = tokenizer.batch_encode_plus(\n",
    "    XValidationTrain.tolist(),\n",
    "    max_length = 25,\n",
    "    pad_to_max_length=True,\n",
    "    truncation=True\n",
    ")\n",
    "\n",
    "# Tokenize and encode sequences in the test set\n",
    "testTokens = tokenizer.batch_encode_plus(\n",
    "    XValidationTest.tolist(),\n",
    "    max_length = 25,\n",
    "    pad_to_max_length=True,\n",
    "    truncation=True\n",
    ")"
   ]
  },
  {
   "cell_type": "code",
   "execution_count": 52,
   "id": "9958d7b8",
   "metadata": {
    "_cell_guid": "5aa8e5e2-3d80-4841-86d8-448631d62f5a",
    "_uuid": "bc0455af-56cf-49b8-b135-35d6fd1aeddb",
    "collapsed": false,
    "execution": {
     "iopub.execute_input": "2023-04-20T17:57:49.721820Z",
     "iopub.status.busy": "2023-04-20T17:57:49.720730Z",
     "iopub.status.idle": "2023-04-20T17:57:49.727879Z",
     "shell.execute_reply": "2023-04-20T17:57:49.726796Z"
    },
    "jupyter": {
     "outputs_hidden": false
    },
    "papermill": {
     "duration": 0.025299,
     "end_time": "2023-04-20T17:57:49.730118",
     "exception": false,
     "start_time": "2023-04-20T17:57:49.704819",
     "status": "completed"
    },
    "tags": []
   },
   "outputs": [
    {
     "data": {
      "text/plain": [
       "transformers.tokenization_utils_base.BatchEncoding"
      ]
     },
     "execution_count": 52,
     "metadata": {},
     "output_type": "execute_result"
    }
   ],
   "source": [
    "type(trainTokens)"
   ]
  },
  {
   "cell_type": "markdown",
   "id": "cd07cbd2",
   "metadata": {
    "_cell_guid": "3c4a4c01-33b0-4d34-8428-961cf692cf68",
    "_uuid": "0c88fd79-3310-4024-b816-705d742c474e",
    "papermill": {
     "duration": 0.01342,
     "end_time": "2023-04-20T17:57:49.756882",
     "exception": false,
     "start_time": "2023-04-20T17:57:49.743462",
     "status": "completed"
    },
    "tags": []
   },
   "source": [
    "### Convert these Lists to Tensors"
   ]
  },
  {
   "cell_type": "code",
   "execution_count": 53,
   "id": "6195a347",
   "metadata": {
    "_cell_guid": "0f42eca5-bda9-4025-90f6-22cc9cb8b413",
    "_uuid": "6da991e2-b27d-49cc-9b18-a7f145db0359",
    "collapsed": false,
    "execution": {
     "iopub.execute_input": "2023-04-20T17:57:49.785293Z",
     "iopub.status.busy": "2023-04-20T17:57:49.784975Z",
     "iopub.status.idle": "2023-04-20T17:57:49.809479Z",
     "shell.execute_reply": "2023-04-20T17:57:49.808532Z"
    },
    "jupyter": {
     "outputs_hidden": false
    },
    "papermill": {
     "duration": 0.041031,
     "end_time": "2023-04-20T17:57:49.811591",
     "exception": false,
     "start_time": "2023-04-20T17:57:49.770560",
     "status": "completed"
    },
    "tags": []
   },
   "outputs": [],
   "source": [
    "trainSequenceTensor = torch.tensor(trainTokens['input_ids'])\n",
    "trainMaskTensor = torch.tensor(trainTokens['attention_mask'])\n",
    "trainYTensor = torch.tensor(yTrain.tolist())\n",
    "\n",
    "validationSequenceTensor = torch.tensor(validationTokens['input_ids'])\n",
    "validationMaskTensor = torch.tensor(validationTokens['attention_mask'])\n",
    "validationYTensor = torch.tensor(yValidationTrain.tolist())\n",
    "\n",
    "testSequenceTensor = torch.tensor(testTokens['input_ids'])\n",
    "testMaskTensor = torch.tensor(testTokens['attention_mask'])\n",
    "testYTensor = torch.tensor(yValidationTest.tolist())"
   ]
  },
  {
   "cell_type": "markdown",
   "id": "3247aa9b",
   "metadata": {
    "_cell_guid": "4a9b9eab-238d-4cae-8bdf-6cf14fc38538",
    "_uuid": "f63f7098-403f-43e9-a5de-aa68746ea0c6",
    "papermill": {
     "duration": 0.013843,
     "end_time": "2023-04-20T17:57:49.839599",
     "exception": false,
     "start_time": "2023-04-20T17:57:49.825756",
     "status": "completed"
    },
    "tags": []
   },
   "source": [
    "#### Here're the Created Tensors"
   ]
  },
  {
   "cell_type": "code",
   "execution_count": 54,
   "id": "9b97b422",
   "metadata": {
    "_cell_guid": "a8bca953-7036-4099-b9e6-d19853532f3c",
    "_uuid": "30acf41c-326e-4eb9-aacd-01cbb36cfd0d",
    "collapsed": false,
    "execution": {
     "iopub.execute_input": "2023-04-20T17:57:49.870041Z",
     "iopub.status.busy": "2023-04-20T17:57:49.869251Z",
     "iopub.status.idle": "2023-04-20T17:57:49.901071Z",
     "shell.execute_reply": "2023-04-20T17:57:49.899950Z"
    },
    "jupyter": {
     "outputs_hidden": false
    },
    "papermill": {
     "duration": 0.049295,
     "end_time": "2023-04-20T17:57:49.903347",
     "exception": false,
     "start_time": "2023-04-20T17:57:49.854052",
     "status": "completed"
    },
    "tags": []
   },
   "outputs": [
    {
     "data": {
      "text/plain": [
       "(tensor([[  101,  3125,   999,  ...,  1037,  3413,   102],\n",
       "         [  101,  1045,  2123,  ...,     0,     0,     0],\n",
       "         [  101,  9779,  2232,  ...,     0,     0,     0],\n",
       "         ...,\n",
       "         [  101,  2469,  1010,  ...,  1998,  3227,   102],\n",
       "         [  101,  2498,  2021,  ...,  2253, 11047,   102],\n",
       "         [  101,  7087,  1012,  ...,  2061,  1045,   102]]),\n",
       " torch.Size([3900, 25]))"
      ]
     },
     "execution_count": 54,
     "metadata": {},
     "output_type": "execute_result"
    }
   ],
   "source": [
    "trainSequenceTensor, trainSequenceTensor.shape"
   ]
  },
  {
   "cell_type": "code",
   "execution_count": 55,
   "id": "06731f2c",
   "metadata": {
    "_cell_guid": "ece7a8bc-b323-4b0b-a163-9948f28bfca1",
    "_uuid": "fe4dddfa-767b-4090-aa79-1dc31c8ed8d1",
    "collapsed": false,
    "execution": {
     "iopub.execute_input": "2023-04-20T17:57:49.933032Z",
     "iopub.status.busy": "2023-04-20T17:57:49.932713Z",
     "iopub.status.idle": "2023-04-20T17:57:49.940172Z",
     "shell.execute_reply": "2023-04-20T17:57:49.939123Z"
    },
    "jupyter": {
     "outputs_hidden": false
    },
    "papermill": {
     "duration": 0.025042,
     "end_time": "2023-04-20T17:57:49.942479",
     "exception": false,
     "start_time": "2023-04-20T17:57:49.917437",
     "status": "completed"
    },
    "tags": []
   },
   "outputs": [
    {
     "data": {
      "text/plain": [
       "(tensor([[  101,  4067,  2017,  ...,     0,     0,     0],\n",
       "         [  101,  6203,  5718,  ...,  2345,  3535,   102],\n",
       "         [  101,  2073,  2024,  ...,     0,     0,     0],\n",
       "         ...,\n",
       "         [  101,  2053,  1012,  ...,  4309,  2489,   102],\n",
       "         [  101,  1015,  1045,  ...,  1005,  1040,   102],\n",
       "         [  101,  2524,  2444,  ..., 21472, 21472,   102]]),\n",
       " torch.Size([836, 25]))"
      ]
     },
     "execution_count": 55,
     "metadata": {},
     "output_type": "execute_result"
    }
   ],
   "source": [
    "testSequenceTensor, testSequenceTensor.shape"
   ]
  },
  {
   "cell_type": "code",
   "execution_count": 56,
   "id": "31caa3a4",
   "metadata": {
    "_cell_guid": "db799c2d-b664-4019-b4d5-a20c31d8c511",
    "_uuid": "31789164-4d38-4adc-9c09-3087509b644f",
    "collapsed": false,
    "execution": {
     "iopub.execute_input": "2023-04-20T17:57:49.971039Z",
     "iopub.status.busy": "2023-04-20T17:57:49.970477Z",
     "iopub.status.idle": "2023-04-20T17:57:49.977498Z",
     "shell.execute_reply": "2023-04-20T17:57:49.976481Z"
    },
    "jupyter": {
     "outputs_hidden": false
    },
    "papermill": {
     "duration": 0.023266,
     "end_time": "2023-04-20T17:57:49.979555",
     "exception": false,
     "start_time": "2023-04-20T17:57:49.956289",
     "status": "completed"
    },
    "tags": []
   },
   "outputs": [
    {
     "data": {
      "text/plain": [
       "(tensor([[  101,  5003,  2132,  ...,     0,     0,     0],\n",
       "         [  101, 11948,  2072,  ...,  1012, 20228,   102],\n",
       "         [  101, 13433,  2139,  ...,  2050,  1012,   102],\n",
       "         ...,\n",
       "         [  101,  2053,  3291,  ...,     0,     0,     0],\n",
       "         [  101,  1998,  2011,  ...,     0,     0,     0],\n",
       "         [  101,  2002,  2758,  ...,  1055,  5791,   102]]),\n",
       " torch.Size([836, 25]))"
      ]
     },
     "execution_count": 56,
     "metadata": {},
     "output_type": "execute_result"
    }
   ],
   "source": [
    "validationSequenceTensor, validationSequenceTensor.shape"
   ]
  },
  {
   "cell_type": "markdown",
   "id": "fba613cc",
   "metadata": {
    "_cell_guid": "38dbb62c-49cd-4802-bb6c-83671e6214b4",
    "_uuid": "5a286a96-857e-4fe1-bc71-f980246bdadd",
    "papermill": {
     "duration": 0.01333,
     "end_time": "2023-04-20T17:57:50.006567",
     "exception": false,
     "start_time": "2023-04-20T17:57:49.993237",
     "status": "completed"
    },
    "tags": []
   },
   "source": [
    "### Using the Data Loader in PyTorch to Load the Dataset"
   ]
  },
  {
   "cell_type": "markdown",
   "id": "13dfa236",
   "metadata": {
    "_cell_guid": "a494c78e-08a6-4dda-a8c7-d7f570e7395d",
    "_uuid": "55108c31-31fc-4727-b94a-43b5ffbccdbe",
    "papermill": {
     "duration": 0.013758,
     "end_time": "2023-04-20T17:57:50.033946",
     "exception": false,
     "start_time": "2023-04-20T17:57:50.020188",
     "status": "completed"
    },
    "tags": []
   },
   "source": [
    "#### Define Hyper-parameter(s)"
   ]
  },
  {
   "cell_type": "code",
   "execution_count": 57,
   "id": "20a06469",
   "metadata": {
    "_cell_guid": "b1ed8554-2358-4e20-9a5a-86387bcfc8c7",
    "_uuid": "adde4ad2-db92-4839-b707-f815c6a467a0",
    "collapsed": false,
    "execution": {
     "iopub.execute_input": "2023-04-20T17:57:50.064410Z",
     "iopub.status.busy": "2023-04-20T17:57:50.063473Z",
     "iopub.status.idle": "2023-04-20T17:57:50.068285Z",
     "shell.execute_reply": "2023-04-20T17:57:50.067156Z"
    },
    "jupyter": {
     "outputs_hidden": false
    },
    "papermill": {
     "duration": 0.022364,
     "end_time": "2023-04-20T17:57:50.070465",
     "exception": false,
     "start_time": "2023-04-20T17:57:50.048101",
     "status": "completed"
    },
    "tags": []
   },
   "outputs": [],
   "source": [
    "batchSize = 16"
   ]
  },
  {
   "cell_type": "markdown",
   "id": "fcf9382c",
   "metadata": {
    "_cell_guid": "70f23650-5896-4b6a-bb71-3845bcfd6e42",
    "_uuid": "9eee3cc1-a019-48bd-a651-f858aa3be768",
    "papermill": {
     "duration": 0.013383,
     "end_time": "2023-04-20T17:57:50.097387",
     "exception": false,
     "start_time": "2023-04-20T17:57:50.084004",
     "status": "completed"
    },
    "tags": []
   },
   "source": [
    "#### Create Training Tensors"
   ]
  },
  {
   "cell_type": "code",
   "execution_count": 58,
   "id": "13fdaa60",
   "metadata": {
    "_cell_guid": "a9adbb1a-3076-4327-b4a1-189129053f62",
    "_uuid": "9d06d780-693d-424c-afa8-252c86a39dc0",
    "collapsed": false,
    "execution": {
     "iopub.execute_input": "2023-04-20T17:57:50.126167Z",
     "iopub.status.busy": "2023-04-20T17:57:50.125886Z",
     "iopub.status.idle": "2023-04-20T17:57:50.131072Z",
     "shell.execute_reply": "2023-04-20T17:57:50.130052Z"
    },
    "jupyter": {
     "outputs_hidden": false
    },
    "papermill": {
     "duration": 0.021971,
     "end_time": "2023-04-20T17:57:50.133218",
     "exception": false,
     "start_time": "2023-04-20T17:57:50.111247",
     "status": "completed"
    },
    "tags": []
   },
   "outputs": [],
   "source": [
    "# Wrapping the training tensors\n",
    "trainingTensor = TensorDataset(trainSequenceTensor, trainMaskTensor, trainYTensor)\n",
    "\n",
    "# Randomly Sampling the Wrapped Tensor\n",
    "trainingSampler = RandomSampler(trainingTensor)\n",
    "\n",
    "# Putting the training sampled data in a data loader\n",
    "trainingDataLoader = DataLoader(trainingTensor, sampler=trainingSampler, batch_size=batchSize)"
   ]
  },
  {
   "cell_type": "code",
   "execution_count": 59,
   "id": "64a79bbc",
   "metadata": {
    "_cell_guid": "0433879e-f221-40fc-961d-6b4a0879e99f",
    "_uuid": "65172fdb-f67c-4eb5-84e6-455faaa71f72",
    "collapsed": false,
    "execution": {
     "iopub.execute_input": "2023-04-20T17:57:50.162861Z",
     "iopub.status.busy": "2023-04-20T17:57:50.161264Z",
     "iopub.status.idle": "2023-04-20T17:57:50.168278Z",
     "shell.execute_reply": "2023-04-20T17:57:50.167345Z"
    },
    "jupyter": {
     "outputs_hidden": false
    },
    "papermill": {
     "duration": 0.023215,
     "end_time": "2023-04-20T17:57:50.170294",
     "exception": false,
     "start_time": "2023-04-20T17:57:50.147079",
     "status": "completed"
    },
    "tags": []
   },
   "outputs": [
    {
     "data": {
      "text/plain": [
       "(torch.utils.data.dataset.TensorDataset,\n",
       " torch.utils.data.sampler.RandomSampler,\n",
       " torch.utils.data.dataloader.DataLoader)"
      ]
     },
     "execution_count": 59,
     "metadata": {},
     "output_type": "execute_result"
    }
   ],
   "source": [
    "type(trainingTensor), type(trainingSampler), type(trainingDataLoader)"
   ]
  },
  {
   "cell_type": "markdown",
   "id": "090ced22",
   "metadata": {
    "_cell_guid": "24dc3103-34fd-48e3-bc6f-3df237867677",
    "_uuid": "2782322d-5847-4391-8c77-67fced82cea8",
    "papermill": {
     "duration": 0.013452,
     "end_time": "2023-04-20T17:57:50.197354",
     "exception": false,
     "start_time": "2023-04-20T17:57:50.183902",
     "status": "completed"
    },
    "tags": []
   },
   "source": [
    "#### Now, the same for Validation Tensors"
   ]
  },
  {
   "cell_type": "code",
   "execution_count": 60,
   "id": "c31bac88",
   "metadata": {
    "_cell_guid": "dcc73e90-c44a-4801-b768-332b10af88ce",
    "_uuid": "934ca569-acde-4303-acb8-a2faf41a10bd",
    "collapsed": false,
    "execution": {
     "iopub.execute_input": "2023-04-20T17:57:50.226449Z",
     "iopub.status.busy": "2023-04-20T17:57:50.225599Z",
     "iopub.status.idle": "2023-04-20T17:57:50.230802Z",
     "shell.execute_reply": "2023-04-20T17:57:50.229769Z"
    },
    "jupyter": {
     "outputs_hidden": false
    },
    "papermill": {
     "duration": 0.022091,
     "end_time": "2023-04-20T17:57:50.232988",
     "exception": false,
     "start_time": "2023-04-20T17:57:50.210897",
     "status": "completed"
    },
    "tags": []
   },
   "outputs": [],
   "source": [
    "# Wrapping the validation tensors\n",
    "validationTensor = TensorDataset(validationSequenceTensor, validationMaskTensor, validationYTensor)\n",
    "\n",
    "# Randomly Sampling the Wrapped Tensor\n",
    "validationSampler = RandomSampler(validationTensor)\n",
    "\n",
    "# Putting the training sampled data in a data loader\n",
    "validationDataLoader = DataLoader(validationTensor, sampler=validationSampler, batch_size=batchSize)"
   ]
  },
  {
   "attachments": {},
   "cell_type": "markdown",
   "id": "da87a66f",
   "metadata": {},
   "source": [
    "### Write Tensors to a JSON File"
   ]
  },
  {
   "cell_type": "code",
   "execution_count": 61,
   "id": "742bb488",
   "metadata": {},
   "outputs": [],
   "source": [
    "def saveToJSON(filePath, **kwargs):\n",
    "    \"\"\"\n",
    "    Save PyTorch tensors to a JSON file.\n",
    "\n",
    "    Args:\n",
    "        file_path (str): Path to the JSON file to save to.\n",
    "        **kwargs: Key-value pairs where the key is the name of the tensor and the value is the tensor to save.\n",
    "    \"\"\"\n",
    "    toSave = {}\n",
    "    \n",
    "    for name, variable in kwargs.items():\n",
    "        variableType = type(variable)\n",
    "        \n",
    "        if variableType == list or variableType == int:\n",
    "            toSave[name] = variable\n",
    "        else:\n",
    "            toSave[name] = variable.tolist()\n",
    "    \n",
    "    with open(filePath, 'w') as f:\n",
    "        json.dump(toSave, f)"
   ]
  },
  {
   "cell_type": "markdown",
   "id": "77b40726",
   "metadata": {
    "_cell_guid": "8aa83ff6-5aec-493d-86d8-5d9a11cf4dee",
    "_uuid": "d0e763c4-aa1f-445a-8c58-cd19482e345a",
    "papermill": {
     "duration": 0.013402,
     "end_time": "2023-04-20T17:57:50.260164",
     "exception": false,
     "start_time": "2023-04-20T17:57:50.246762",
     "status": "completed"
    },
    "tags": []
   },
   "source": [
    "### Construct the BERT Model"
   ]
  },
  {
   "cell_type": "code",
   "execution_count": 62,
   "id": "0a031b3c",
   "metadata": {
    "_cell_guid": "d29175e5-64a5-4abb-b1fd-b742c5919660",
    "_uuid": "b9fa97b3-33ad-4671-ba2d-51d552e4f260",
    "collapsed": false,
    "execution": {
     "iopub.execute_input": "2023-04-20T17:57:50.290325Z",
     "iopub.status.busy": "2023-04-20T17:57:50.289699Z",
     "iopub.status.idle": "2023-04-20T17:57:50.295275Z",
     "shell.execute_reply": "2023-04-20T17:57:50.294258Z"
    },
    "jupyter": {
     "outputs_hidden": false
    },
    "papermill": {
     "duration": 0.02274,
     "end_time": "2023-04-20T17:57:50.297429",
     "exception": false,
     "start_time": "2023-04-20T17:57:50.274689",
     "status": "completed"
    },
    "tags": []
   },
   "outputs": [],
   "source": [
    "# Freeze all the parameters\n",
    "for parameter in BERT.parameters():\n",
    "    parameter.requires_grad = False"
   ]
  },
  {
   "cell_type": "code",
   "execution_count": 63,
   "id": "036470be",
   "metadata": {
    "_cell_guid": "2eb6bf48-8c2f-4d43-953a-1d306dd66d9b",
    "_uuid": "4e46d2de-f26c-451a-83a5-ca7932ff40dd",
    "collapsed": false,
    "execution": {
     "iopub.execute_input": "2023-04-20T17:57:50.326602Z",
     "iopub.status.busy": "2023-04-20T17:57:50.325760Z",
     "iopub.status.idle": "2023-04-20T17:57:50.334061Z",
     "shell.execute_reply": "2023-04-20T17:57:50.333176Z"
    },
    "jupyter": {
     "outputs_hidden": false
    },
    "papermill": {
     "duration": 0.025172,
     "end_time": "2023-04-20T17:57:50.336155",
     "exception": false,
     "start_time": "2023-04-20T17:57:50.310983",
     "status": "completed"
    },
    "tags": []
   },
   "outputs": [],
   "source": [
    "class BERTArchitecture(nn.Module):\n",
    "    def __init__(self, bert):\n",
    "        super(BERTArchitecture, self).__init__()\n",
    "        \n",
    "        self.bert = bert \n",
    "        \n",
    "        # Dropout layer\n",
    "        self.dropout = nn.Dropout(0.1)\n",
    "      \n",
    "        # ReLU activation function\n",
    "        self.relu =  nn.ReLU()\n",
    "\n",
    "        # Dense layer 1\n",
    "        self.fullyConnected1 = nn.Linear(768, 512)\n",
    "      \n",
    "        # Dense layer 2 (Output layer)\n",
    "        self.fullyConnected2 = nn.Linear(512, 2)\n",
    "\n",
    "        # Softmax activation function\n",
    "        self.softmax = nn.LogSoftmax(dim=1)\n",
    "\n",
    "    # Define the forward pass\n",
    "    def forward(self, sent_id, mask):\n",
    "        # Pass the inputs to the model  \n",
    "        _, cls_hs = self.bert(sent_id, attention_mask=mask, return_dict=False)\n",
    "      \n",
    "        # Input layer\n",
    "        x = self.fullyConnected1(cls_hs)\n",
    "\n",
    "        x = self.relu(x)\n",
    "\n",
    "        x = self.dropout(x)\n",
    "\n",
    "        # Output layer\n",
    "        x = self.fullyConnected2(x)\n",
    "      \n",
    "        # Apply softmax activation\n",
    "        x = self.softmax(x)\n",
    "\n",
    "        return x"
   ]
  },
  {
   "cell_type": "markdown",
   "id": "59b36f4a",
   "metadata": {
    "_cell_guid": "3cca0318-5de0-470c-b7f7-3d66b6987e21",
    "_uuid": "108d541f-d203-430b-a347-e337a1b10e1e",
    "papermill": {
     "duration": 0.013937,
     "end_time": "2023-04-20T17:57:50.363750",
     "exception": false,
     "start_time": "2023-04-20T17:57:50.349813",
     "status": "completed"
    },
    "tags": []
   },
   "source": [
    "### Pass the Pre-trained BERT from Huggingface to our Defined Architecture"
   ]
  },
  {
   "cell_type": "code",
   "execution_count": 64,
   "id": "a6cbdb9c",
   "metadata": {
    "_cell_guid": "e89d84ee-c9cb-4d15-9c34-cfb3ab283d30",
    "_uuid": "e6d64fd0-dfad-46ba-a147-ff74035bbd8c",
    "collapsed": false,
    "execution": {
     "iopub.execute_input": "2023-04-20T17:57:50.393158Z",
     "iopub.status.busy": "2023-04-20T17:57:50.392694Z",
     "iopub.status.idle": "2023-04-20T17:57:50.401026Z",
     "shell.execute_reply": "2023-04-20T17:57:50.400159Z"
    },
    "jupyter": {
     "outputs_hidden": false
    },
    "papermill": {
     "duration": 0.025347,
     "end_time": "2023-04-20T17:57:50.403131",
     "exception": false,
     "start_time": "2023-04-20T17:57:50.377784",
     "status": "completed"
    },
    "tags": []
   },
   "outputs": [],
   "source": [
    "model = BERTArchitecture(BERT)"
   ]
  },
  {
   "cell_type": "markdown",
   "id": "7a2a219d",
   "metadata": {
    "_cell_guid": "82b780a4-2c3d-4d0d-a756-56e1bec98b7d",
    "_uuid": "eb49d203-3548-4ec1-8a8f-dcd43cf38a06",
    "papermill": {
     "duration": 0.013398,
     "end_time": "2023-04-20T17:57:50.430211",
     "exception": false,
     "start_time": "2023-04-20T17:57:50.416813",
     "status": "completed"
    },
    "tags": []
   },
   "source": [
    "#### Push our Model to the Device"
   ]
  },
  {
   "cell_type": "code",
   "execution_count": 65,
   "id": "87228441",
   "metadata": {
    "_cell_guid": "f1f28066-e22c-4b6b-8ef4-f7ca58f65347",
    "_uuid": "b2f19708-1352-4dd3-ad7a-9272e31be8b4",
    "collapsed": false,
    "execution": {
     "iopub.execute_input": "2023-04-20T17:57:50.458945Z",
     "iopub.status.busy": "2023-04-20T17:57:50.458666Z",
     "iopub.status.idle": "2023-04-20T17:57:55.045448Z",
     "shell.execute_reply": "2023-04-20T17:57:55.044332Z"
    },
    "jupyter": {
     "outputs_hidden": false
    },
    "papermill": {
     "duration": 4.604207,
     "end_time": "2023-04-20T17:57:55.048333",
     "exception": false,
     "start_time": "2023-04-20T17:57:50.444126",
     "status": "completed"
    },
    "tags": []
   },
   "outputs": [],
   "source": [
    "model = model.to(device)"
   ]
  },
  {
   "cell_type": "markdown",
   "id": "352c4c51",
   "metadata": {
    "_cell_guid": "6178500f-c190-4bf4-afe8-bd7cf79e471a",
    "_uuid": "68d304e7-8d2e-493a-b7e3-09f948e71884",
    "papermill": {
     "duration": 0.014419,
     "end_time": "2023-04-20T17:57:55.082846",
     "exception": false,
     "start_time": "2023-04-20T17:57:55.068427",
     "status": "completed"
    },
    "tags": []
   },
   "source": [
    "### Create an Optimiser"
   ]
  },
  {
   "cell_type": "code",
   "execution_count": 66,
   "id": "42bdeb17",
   "metadata": {
    "_cell_guid": "5d272895-a9ca-44c7-99f3-38968f9406dc",
    "_uuid": "af6e4bda-19c3-48b2-aa1b-94914ce3cf67",
    "collapsed": false,
    "execution": {
     "iopub.execute_input": "2023-04-20T17:57:55.112275Z",
     "iopub.status.busy": "2023-04-20T17:57:55.111917Z",
     "iopub.status.idle": "2023-04-20T17:58:06.356657Z",
     "shell.execute_reply": "2023-04-20T17:58:06.355141Z"
    },
    "jupyter": {
     "outputs_hidden": false
    },
    "papermill": {
     "duration": 11.262607,
     "end_time": "2023-04-20T17:58:06.359510",
     "exception": false,
     "start_time": "2023-04-20T17:57:55.096903",
     "status": "completed"
    },
    "tags": []
   },
   "outputs": [
    {
     "name": "stderr",
     "output_type": "stream",
     "text": [
      "/home/volt/.local/lib/python3.10/site-packages/transformers/optimization.py:306: FutureWarning: This implementation of AdamW is deprecated and will be removed in a future version. Use the PyTorch implementation torch.optim.AdamW instead, or set `no_deprecation_warning=True` to disable this warning\n",
      "  warnings.warn(\n"
     ]
    }
   ],
   "source": [
    "# Optimizer from hugging face transformers\n",
    "from transformers import AdamW\n",
    "\n",
    "# Define the optimizer\n",
    "optimizer = AdamW(model.parameters(), lr=1e-5)"
   ]
  },
  {
   "cell_type": "markdown",
   "id": "76ab8510",
   "metadata": {
    "_cell_guid": "08e308c5-d7a1-4727-9462-913277cb6174",
    "_uuid": "798a6437-cebe-4b87-afb1-d8678fb4b433",
    "papermill": {
     "duration": 0.013706,
     "end_time": "2023-04-20T17:58:06.387765",
     "exception": false,
     "start_time": "2023-04-20T17:58:06.374059",
     "status": "completed"
    },
    "tags": []
   },
   "source": [
    "### Compute Class Weights"
   ]
  },
  {
   "cell_type": "code",
   "execution_count": 67,
   "id": "e6093896",
   "metadata": {
    "_cell_guid": "860953ad-239c-4747-9d80-d6afb5021e2d",
    "_uuid": "489e49ba-384e-4444-9646-59003cec8a6c",
    "collapsed": false,
    "execution": {
     "iopub.execute_input": "2023-04-20T17:58:06.417901Z",
     "iopub.status.busy": "2023-04-20T17:58:06.416278Z",
     "iopub.status.idle": "2023-04-20T17:58:06.425315Z",
     "shell.execute_reply": "2023-04-20T17:58:06.424398Z"
    },
    "jupyter": {
     "outputs_hidden": false
    },
    "papermill": {
     "duration": 0.02593,
     "end_time": "2023-04-20T17:58:06.427427",
     "exception": false,
     "start_time": "2023-04-20T17:58:06.401497",
     "status": "completed"
    },
    "tags": []
   },
   "outputs": [
    {
     "name": "stdout",
     "output_type": "stream",
     "text": [
      "Class Weights: [0.57743559 3.72848948]\n"
     ]
    }
   ],
   "source": [
    "weightsList = compute_class_weight(class_weight='balanced', classes=np.unique(yTrain), y=yTrain)\n",
    "\n",
    "print(\"Class Weights:\", weightsList)"
   ]
  },
  {
   "cell_type": "markdown",
   "id": "c85b7d9e",
   "metadata": {
    "_cell_guid": "3f4255d0-f441-437e-a34d-a889292b2e69",
    "_uuid": "36a3dccd-3fe2-44a8-bcf2-cc8643aff1f3",
    "papermill": {
     "duration": 0.013936,
     "end_time": "2023-04-20T17:58:06.455407",
     "exception": false,
     "start_time": "2023-04-20T17:58:06.441471",
     "status": "completed"
    },
    "tags": []
   },
   "source": [
    "#### Convert Class Weights List to Tensor"
   ]
  },
  {
   "cell_type": "code",
   "execution_count": 68,
   "id": "f555dd4a",
   "metadata": {
    "_cell_guid": "5479486e-4d39-4a8a-af4f-bc709fa80582",
    "_uuid": "7f61cbd2-bb31-4a19-8f3e-51ea268a9893",
    "collapsed": false,
    "execution": {
     "iopub.execute_input": "2023-04-20T17:58:06.484591Z",
     "iopub.status.busy": "2023-04-20T17:58:06.484272Z",
     "iopub.status.idle": "2023-04-20T17:58:09.206694Z",
     "shell.execute_reply": "2023-04-20T17:58:09.205676Z"
    },
    "jupyter": {
     "outputs_hidden": false
    },
    "papermill": {
     "duration": 2.740551,
     "end_time": "2023-04-20T17:58:09.209745",
     "exception": false,
     "start_time": "2023-04-20T17:58:06.469194",
     "status": "completed"
    },
    "tags": []
   },
   "outputs": [],
   "source": [
    "# Converting list of class weights to a tensor\n",
    "weights = torch.tensor(weightsList, dtype=torch.float)\n",
    "\n",
    "# Push to GPU\n",
    "weights = weights.to(device)"
   ]
  },
  {
   "cell_type": "markdown",
   "id": "f9c0c4e4",
   "metadata": {
    "_cell_guid": "c372fa66-2cbe-4f80-86fc-2536e95e1a6d",
    "_uuid": "ca346920-9f95-453f-a8b9-ea9eb67f731d",
    "papermill": {
     "duration": 0.013665,
     "end_time": "2023-04-20T17:58:09.238116",
     "exception": false,
     "start_time": "2023-04-20T17:58:09.224451",
     "status": "completed"
    },
    "tags": []
   },
   "source": [
    "### Define Hyper-parameters to Train"
   ]
  },
  {
   "cell_type": "code",
   "execution_count": 69,
   "id": "bb762e6f",
   "metadata": {
    "_cell_guid": "a84a6645-ee2d-4e23-bd45-31185126bf38",
    "_uuid": "dc6876d1-fefc-4a5a-80c7-e1d9df8d7f00",
    "collapsed": false,
    "execution": {
     "iopub.execute_input": "2023-04-20T17:58:09.267185Z",
     "iopub.status.busy": "2023-04-20T17:58:09.266865Z",
     "iopub.status.idle": "2023-04-20T17:58:09.271772Z",
     "shell.execute_reply": "2023-04-20T17:58:09.270686Z"
    },
    "jupyter": {
     "outputs_hidden": false
    },
    "papermill": {
     "duration": 0.022369,
     "end_time": "2023-04-20T17:58:09.274401",
     "exception": false,
     "start_time": "2023-04-20T17:58:09.252032",
     "status": "completed"
    },
    "tags": []
   },
   "outputs": [],
   "source": [
    "# Define the loss function\n",
    "crossEntropy  = nn.NLLLoss(weight=weights) \n",
    "\n",
    "# Define the number of training epochs\n",
    "epochs = 1\n",
    "\n",
    "# Define how many steps before printing an update\n",
    "trainingStepsUpdate = 20\n",
    "validationStepsUpdate = 10"
   ]
  },
  {
   "cell_type": "markdown",
   "id": "b52a4498",
   "metadata": {
    "_cell_guid": "7715d1dd-248e-48f3-961b-398cba284e80",
    "_uuid": "67ad9181-3996-45dd-9474-8ac9524d9597",
    "papermill": {
     "duration": 0.013435,
     "end_time": "2023-04-20T17:58:09.301514",
     "exception": false,
     "start_time": "2023-04-20T17:58:09.288079",
     "status": "completed"
    },
    "tags": []
   },
   "source": [
    "### Training the Model - Fine Tuning\n",
    "Define a function to train the model."
   ]
  },
  {
   "cell_type": "code",
   "execution_count": 70,
   "id": "4cf96e3b",
   "metadata": {
    "_cell_guid": "20fc9b72-3204-4c5d-af6c-8d753f2bbf6a",
    "_uuid": "b8994f5c-1a21-4fd0-8112-9364b53b0718",
    "collapsed": false,
    "execution": {
     "iopub.execute_input": "2023-04-20T17:58:09.330561Z",
     "iopub.status.busy": "2023-04-20T17:58:09.330262Z",
     "iopub.status.idle": "2023-04-20T17:58:09.339811Z",
     "shell.execute_reply": "2023-04-20T17:58:09.338801Z"
    },
    "jupyter": {
     "outputs_hidden": false
    },
    "papermill": {
     "duration": 0.026505,
     "end_time": "2023-04-20T17:58:09.341881",
     "exception": false,
     "start_time": "2023-04-20T17:58:09.315376",
     "status": "completed"
    },
    "tags": []
   },
   "outputs": [],
   "source": [
    "def train():\n",
    "    model.train()\n",
    "    totalLoss = 0\n",
    "  \n",
    "    # Empty list to save model predictions\n",
    "    totalPredictions = []\n",
    "  \n",
    "    # Iterate over batches\n",
    "    for step, batch in enumerate(trainingDataLoader):\n",
    "        # Progress update after every 50 batches.\n",
    "        if step % trainingStepsUpdate == 0 and not step == 0:\n",
    "            print('\\tBatch {:>3,} of {:>3,}.'.format(step, len(trainingDataLoader)))\n",
    "        \n",
    "        # Push the batch to gpu\n",
    "        batch = [r.to(device) for r in batch]\n",
    " \n",
    "        sent_id, mask, labels = batch\n",
    "        \n",
    "        # Clear previously calculated gradients \n",
    "        model.zero_grad()        \n",
    "\n",
    "        # Get model predictions for the current batch\n",
    "        preds = model(sent_id, mask)\n",
    "\n",
    "        # Compute the loss between actual and predicted values\n",
    "        loss = crossEntropy(preds, labels)\n",
    "\n",
    "        # Add on to the total loss\n",
    "        totalLoss = totalLoss + loss.item()\n",
    "\n",
    "        # Backward pass to calculate the gradients\n",
    "        loss.backward()\n",
    "\n",
    "        # Clip the the gradients to 1.0. It helps in preventing the exploding gradient problem\n",
    "        torch.nn.utils.clip_grad_norm_(model.parameters(), 1.0)\n",
    "\n",
    "        # Update parameters\n",
    "        optimizer.step()\n",
    "\n",
    "        # Model predictions are stored on GPU. So, push it to CPU\n",
    "        preds = preds.detach().cpu().numpy()\n",
    "\n",
    "    # Append the model predictions\n",
    "    totalPredictions.append(preds)\n",
    "\n",
    "    # Compute the training loss of the epoch\n",
    "    averageLoss = totalLoss / len(trainingDataLoader)\n",
    "  \n",
    "    # Predictions are in the form of (no. of batches, size of batch, no. of classes). Reshape the predictions in form of (number of samples, no. of classes)\n",
    "    totalPredictions  = np.concatenate(totalPredictions, axis=0)\n",
    "\n",
    "    # Returns the loss and predictions\n",
    "    return averageLoss, totalPredictions"
   ]
  },
  {
   "cell_type": "markdown",
   "id": "e0025020",
   "metadata": {
    "_cell_guid": "e1f7f277-ee11-4f0b-ae34-740209964052",
    "_uuid": "2fd1385e-7187-40dd-9380-2b85baf21129",
    "papermill": {
     "duration": 0.015377,
     "end_time": "2023-04-20T17:58:09.371220",
     "exception": false,
     "start_time": "2023-04-20T17:58:09.355843",
     "status": "completed"
    },
    "tags": []
   },
   "source": [
    "### Evaluating the Model - Using the Validation Set\n",
    "Define a function to evaluate the model."
   ]
  },
  {
   "cell_type": "code",
   "execution_count": 71,
   "id": "01a3281b",
   "metadata": {
    "_cell_guid": "2a163ffa-e195-4bc1-a681-3c22696b8c3a",
    "_uuid": "f466d03d-4933-4ff8-9f02-332ce8dc068d",
    "collapsed": false,
    "execution": {
     "iopub.execute_input": "2023-04-20T17:58:09.402383Z",
     "iopub.status.busy": "2023-04-20T17:58:09.402047Z",
     "iopub.status.idle": "2023-04-20T17:58:09.410548Z",
     "shell.execute_reply": "2023-04-20T17:58:09.409507Z"
    },
    "jupyter": {
     "outputs_hidden": false
    },
    "papermill": {
     "duration": 0.026692,
     "end_time": "2023-04-20T17:58:09.412796",
     "exception": false,
     "start_time": "2023-04-20T17:58:09.386104",
     "status": "completed"
    },
    "tags": []
   },
   "outputs": [],
   "source": [
    "def evaluate():\n",
    "    print(\"\\nEvaluating...\")\n",
    "  \n",
    "    # Deactivate dropout layers\n",
    "    model.eval()\n",
    "\n",
    "    totalLoss = 0\n",
    "    \n",
    "    # Empty list to save the model predictions\n",
    "    totalPredictions = []\n",
    "\n",
    "    # Iterate over batches\n",
    "    for step, batch in enumerate(validationDataLoader):\n",
    "        # Progress update every 50 batches.\n",
    "        if step % validationStepsUpdate == 0 and not step == 0:\n",
    "            # Report progress.\n",
    "            print('\\tBatch {:>3,} of {:>3,}.'.format(step, len(validationDataLoader)))\n",
    "\n",
    "        # Push the batch to gpu\n",
    "        batch = [t.to(device) for t in batch]\n",
    "\n",
    "        sent_id, mask, labels = batch\n",
    "\n",
    "        # Deactivate autograd\n",
    "        with torch.no_grad():\n",
    "            \n",
    "            # Model predictions\n",
    "            preds = model(sent_id, mask)\n",
    "\n",
    "            # Compute the validation loss between actual and predicted values\n",
    "            loss = crossEntropy(preds,labels)\n",
    "\n",
    "            totalLoss = totalLoss + loss.item()\n",
    "\n",
    "            preds = preds.detach().cpu().numpy()\n",
    "\n",
    "            totalPredictions.append(preds)\n",
    "\n",
    "    # Compute the validation loss of the epoch\n",
    "    averageLoss = totalLoss / len(validationDataLoader) \n",
    "\n",
    "    # Reshape the predictions in form of (number of samples, no. of classes)\n",
    "    totalPredictions  = np.concatenate(totalPredictions, axis=0)\n",
    "\n",
    "    return averageLoss, totalPredictions"
   ]
  },
  {
   "cell_type": "markdown",
   "id": "c96da418",
   "metadata": {
    "_cell_guid": "021b188d-89e3-476b-a2d2-2fbc9808990a",
    "_uuid": "54d7f358-a99d-4d26-a510-805589b4a371",
    "papermill": {
     "duration": 0.014326,
     "end_time": "2023-04-20T17:58:09.441384",
     "exception": false,
     "start_time": "2023-04-20T17:58:09.427058",
     "status": "completed"
    },
    "tags": []
   },
   "source": [
    "### Running the Model to Train and Evaluate"
   ]
  },
  {
   "cell_type": "code",
   "execution_count": 72,
   "id": "de42e43e",
   "metadata": {
    "_cell_guid": "3416b75b-61c9-4588-b4b6-a8a947b5dc8b",
    "_uuid": "d47b14d4-467f-4213-8fe0-b5f43e86bed7",
    "collapsed": false,
    "execution": {
     "iopub.execute_input": "2023-04-20T17:58:09.471212Z",
     "iopub.status.busy": "2023-04-20T17:58:09.470268Z",
     "iopub.status.idle": "2023-04-20T18:05:51.646815Z",
     "shell.execute_reply": "2023-04-20T18:05:51.645440Z"
    },
    "jupyter": {
     "outputs_hidden": false
    },
    "papermill": {
     "duration": 462.193695,
     "end_time": "2023-04-20T18:05:51.649064",
     "exception": false,
     "start_time": "2023-04-20T17:58:09.455369",
     "status": "completed"
    },
    "scrolled": true,
    "tags": []
   },
   "outputs": [
    {
     "name": "stdout",
     "output_type": "stream",
     "text": [
      "\n",
      "Epoch 1 of 1\n",
      "\tBatch  20 of 244.\n",
      "\tBatch  40 of 244.\n",
      "\tBatch  60 of 244.\n",
      "\tBatch  80 of 244.\n",
      "\tBatch 100 of 244.\n",
      "\tBatch 120 of 244.\n",
      "\tBatch 140 of 244.\n",
      "\tBatch 160 of 244.\n",
      "\tBatch 180 of 244.\n",
      "\tBatch 200 of 244.\n",
      "\tBatch 220 of 244.\n",
      "\tBatch 240 of 244.\n",
      "\n",
      "Evaluating...\n",
      "\tBatch  10 of  53.\n",
      "\tBatch  20 of  53.\n",
      "\tBatch  30 of  53.\n",
      "\tBatch  40 of  53.\n",
      "\tBatch  50 of  53.\n",
      "\n",
      "Training Loss: 0.661\n",
      "Training Time Taken: 104.47 seconds\n",
      "Validation Loss: 0.642\n",
      "Validation Time Taken: 18.05 seconds\n",
      "\n",
      "Total Time Taken: 122.52 seconds\n"
     ]
    }
   ],
   "source": [
    "# Set initial loss to infinite\n",
    "bestValidationLoss = float('inf')\n",
    "\n",
    "# Empty lists to store training and validation loss of each epoch\n",
    "trainingLosses = []\n",
    "validationLosses = []\n",
    "\n",
    "# Initialize total time taken to 0\n",
    "totalTimeTaken = 0\n",
    "\n",
    "# For each epoch\n",
    "for epoch in range(epochs):\n",
    "    print('\\nEpoch {:} of {:}'.format(epoch + 1, epochs))\n",
    "    \n",
    "    # Train model and record time taken\n",
    "    startTime = time.time()\n",
    "    trainingLoss, _ = train()\n",
    "    trainingTimeTaken = time.time() - startTime\n",
    "\n",
    "    # Evaluate model and record time taken\n",
    "    startTime = time.time()\n",
    "    validationLoss, _ = evaluate()\n",
    "    validationTimeTaken = time.time() - startTime\n",
    "\n",
    "    # Save the best model\n",
    "    if validationLoss < bestValidationLoss:\n",
    "        bestValidationLoss = validationLoss\n",
    "        \n",
    "        # When running the notebook on a Kaggle kernel\n",
    "        # torch.save(model.state_dict(), r'/kaggle/working/weights.pt')\n",
    "        \n",
    "        # When saving the weights locally\n",
    "        torch.save(model.state_dict(), r'./assets/weights/weights.pt')\n",
    "    \n",
    "    # Append training and validation losses\n",
    "    trainingLosses.append(trainingLoss)\n",
    "    validationLosses.append(validationLoss)\n",
    "    \n",
    "    # Print epoch results and times taken\n",
    "    print(f'\\nTraining Loss: {trainingLoss:.3f}')\n",
    "    print(f'Training Time Taken: {trainingTimeTaken:.2f} seconds')\n",
    "    print(f'Validation Loss: {validationLoss:.3f}')\n",
    "    print(f'Validation Time Taken: {validationTimeTaken:.2f} seconds')\n",
    "\n",
    "    # Update total time taken\n",
    "    totalTimeTaken += trainingTimeTaken + validationTimeTaken\n",
    "\n",
    "# Print total time taken for all epochs\n",
    "print(f'\\nTotal Time Taken: {totalTimeTaken:.2f} seconds')"
   ]
  },
  {
   "cell_type": "code",
   "execution_count": 73,
   "id": "9f60b5c0",
   "metadata": {},
   "outputs": [],
   "source": [
    "# Save tensors to a JSON file\n",
    "saveToJSON('./assets/tensors/tensors.json', testSequenceTensor=testSequenceTensor, testMaskTensor=testMaskTensor, testYTensor=testYTensor, trainingLossTensor=trainingLosses, validationLossTensor=validationLosses, epochs=epochs)"
   ]
  },
  {
   "cell_type": "markdown",
   "id": "ab266353",
   "metadata": {
    "_cell_guid": "9f0dc7bc-1c90-4506-a72e-f2d285c702d6",
    "_uuid": "3994aec8-3b37-47c3-b940-bf4949b21ccc",
    "papermill": {
     "duration": 0.058359,
     "end_time": "2023-04-20T18:05:51.766647",
     "exception": false,
     "start_time": "2023-04-20T18:05:51.708288",
     "status": "completed"
    },
    "tags": []
   },
   "source": [
    "---"
   ]
  }
 ],
 "metadata": {
  "kernelspec": {
   "display_name": "Python 3",
   "language": "python",
   "name": "python3"
  },
  "language_info": {
   "codemirror_mode": {
    "name": "ipython",
    "version": 3
   },
   "file_extension": ".py",
   "mimetype": "text/x-python",
   "name": "python",
   "nbconvert_exporter": "python",
   "pygments_lexer": "ipython3",
   "version": "3.10.6"
  },
  "papermill": {
   "default_parameters": {},
   "duration": 517.10992,
   "end_time": "2023-04-20T18:05:54.933366",
   "environment_variables": {},
   "exception": null,
   "input_path": "__notebook__.ipynb",
   "output_path": "__notebook__.ipynb",
   "parameters": {},
   "start_time": "2023-04-20T17:57:17.823446",
   "version": "2.4.0"
  },
  "widgets": {
   "application/vnd.jupyter.widget-state+json": {
    "state": {
     "05a181b4ddda4c42a378635ec0696882": {
      "model_module": "@jupyter-widgets/controls",
      "model_module_version": "1.5.0",
      "model_name": "HTMLModel",
      "state": {
       "_dom_classes": [],
       "_model_module": "@jupyter-widgets/controls",
       "_model_module_version": "1.5.0",
       "_model_name": "HTMLModel",
       "_view_count": null,
       "_view_module": "@jupyter-widgets/controls",
       "_view_module_version": "1.5.0",
       "_view_name": "HTMLView",
       "description": "",
       "description_tooltip": null,
       "layout": "IPY_MODEL_a8a8f5ab75c74a79a90279d1914d9db3",
       "placeholder": "​",
       "style": "IPY_MODEL_b2b8082bf7234ffabe19ba72c521bca7",
       "value": " 28.0/28.0 [00:00&lt;00:00, 1.76kB/s]"
      }
     },
     "0aa1d98f685f4a1dbe97b43cfe3fc09e": {
      "model_module": "@jupyter-widgets/controls",
      "model_module_version": "1.5.0",
      "model_name": "ProgressStyleModel",
      "state": {
       "_model_module": "@jupyter-widgets/controls",
       "_model_module_version": "1.5.0",
       "_model_name": "ProgressStyleModel",
       "_view_count": null,
       "_view_module": "@jupyter-widgets/base",
       "_view_module_version": "1.2.0",
       "_view_name": "StyleView",
       "bar_color": null,
       "description_width": ""
      }
     },
     "0f807b28985d495eac219eb7fca4144f": {
      "model_module": "@jupyter-widgets/controls",
      "model_module_version": "1.5.0",
      "model_name": "DescriptionStyleModel",
      "state": {
       "_model_module": "@jupyter-widgets/controls",
       "_model_module_version": "1.5.0",
       "_model_name": "DescriptionStyleModel",
       "_view_count": null,
       "_view_module": "@jupyter-widgets/base",
       "_view_module_version": "1.2.0",
       "_view_name": "StyleView",
       "description_width": ""
      }
     },
     "105b3264317d4c72945e04d0af837912": {
      "model_module": "@jupyter-widgets/controls",
      "model_module_version": "1.5.0",
      "model_name": "DescriptionStyleModel",
      "state": {
       "_model_module": "@jupyter-widgets/controls",
       "_model_module_version": "1.5.0",
       "_model_name": "DescriptionStyleModel",
       "_view_count": null,
       "_view_module": "@jupyter-widgets/base",
       "_view_module_version": "1.2.0",
       "_view_name": "StyleView",
       "description_width": ""
      }
     },
     "125d91cd31bb436ca7bdb7b85f0c481f": {
      "model_module": "@jupyter-widgets/controls",
      "model_module_version": "1.5.0",
      "model_name": "ProgressStyleModel",
      "state": {
       "_model_module": "@jupyter-widgets/controls",
       "_model_module_version": "1.5.0",
       "_model_name": "ProgressStyleModel",
       "_view_count": null,
       "_view_module": "@jupyter-widgets/base",
       "_view_module_version": "1.2.0",
       "_view_name": "StyleView",
       "bar_color": null,
       "description_width": ""
      }
     },
     "168a3f1286bf4336bec2d68bcd229250": {
      "model_module": "@jupyter-widgets/controls",
      "model_module_version": "1.5.0",
      "model_name": "HBoxModel",
      "state": {
       "_dom_classes": [],
       "_model_module": "@jupyter-widgets/controls",
       "_model_module_version": "1.5.0",
       "_model_name": "HBoxModel",
       "_view_count": null,
       "_view_module": "@jupyter-widgets/controls",
       "_view_module_version": "1.5.0",
       "_view_name": "HBoxView",
       "box_style": "",
       "children": [
        "IPY_MODEL_d4a9677434b94b19a0fa520de54220e4",
        "IPY_MODEL_5a65ad86c9fb47dc97b13df39516062c",
        "IPY_MODEL_05a181b4ddda4c42a378635ec0696882"
       ],
       "layout": "IPY_MODEL_6debae57324f44c9a19cd6e96b114e13"
      }
     },
     "18cc9ca1dce34fe8bfb9d0ca893a40da": {
      "model_module": "@jupyter-widgets/base",
      "model_module_version": "1.2.0",
      "model_name": "LayoutModel",
      "state": {
       "_model_module": "@jupyter-widgets/base",
       "_model_module_version": "1.2.0",
       "_model_name": "LayoutModel",
       "_view_count": null,
       "_view_module": "@jupyter-widgets/base",
       "_view_module_version": "1.2.0",
       "_view_name": "LayoutView",
       "align_content": null,
       "align_items": null,
       "align_self": null,
       "border": null,
       "bottom": null,
       "display": null,
       "flex": null,
       "flex_flow": null,
       "grid_area": null,
       "grid_auto_columns": null,
       "grid_auto_flow": null,
       "grid_auto_rows": null,
       "grid_column": null,
       "grid_gap": null,
       "grid_row": null,
       "grid_template_areas": null,
       "grid_template_columns": null,
       "grid_template_rows": null,
       "height": null,
       "justify_content": null,
       "justify_items": null,
       "left": null,
       "margin": null,
       "max_height": null,
       "max_width": null,
       "min_height": null,
       "min_width": null,
       "object_fit": null,
       "object_position": null,
       "order": null,
       "overflow": null,
       "overflow_x": null,
       "overflow_y": null,
       "padding": null,
       "right": null,
       "top": null,
       "visibility": null,
       "width": null
      }
     },
     "217e347bbf284449853327282fed23a8": {
      "model_module": "@jupyter-widgets/controls",
      "model_module_version": "1.5.0",
      "model_name": "DescriptionStyleModel",
      "state": {
       "_model_module": "@jupyter-widgets/controls",
       "_model_module_version": "1.5.0",
       "_model_name": "DescriptionStyleModel",
       "_view_count": null,
       "_view_module": "@jupyter-widgets/base",
       "_view_module_version": "1.2.0",
       "_view_name": "StyleView",
       "description_width": ""
      }
     },
     "2e88ad77ac444fe38b6c1d2f5151f4ff": {
      "model_module": "@jupyter-widgets/base",
      "model_module_version": "1.2.0",
      "model_name": "LayoutModel",
      "state": {
       "_model_module": "@jupyter-widgets/base",
       "_model_module_version": "1.2.0",
       "_model_name": "LayoutModel",
       "_view_count": null,
       "_view_module": "@jupyter-widgets/base",
       "_view_module_version": "1.2.0",
       "_view_name": "LayoutView",
       "align_content": null,
       "align_items": null,
       "align_self": null,
       "border": null,
       "bottom": null,
       "display": null,
       "flex": null,
       "flex_flow": null,
       "grid_area": null,
       "grid_auto_columns": null,
       "grid_auto_flow": null,
       "grid_auto_rows": null,
       "grid_column": null,
       "grid_gap": null,
       "grid_row": null,
       "grid_template_areas": null,
       "grid_template_columns": null,
       "grid_template_rows": null,
       "height": null,
       "justify_content": null,
       "justify_items": null,
       "left": null,
       "margin": null,
       "max_height": null,
       "max_width": null,
       "min_height": null,
       "min_width": null,
       "object_fit": null,
       "object_position": null,
       "order": null,
       "overflow": null,
       "overflow_x": null,
       "overflow_y": null,
       "padding": null,
       "right": null,
       "top": null,
       "visibility": null,
       "width": null
      }
     },
     "32bd966d0756469c83f020856bfff0a4": {
      "model_module": "@jupyter-widgets/controls",
      "model_module_version": "1.5.0",
      "model_name": "DescriptionStyleModel",
      "state": {
       "_model_module": "@jupyter-widgets/controls",
       "_model_module_version": "1.5.0",
       "_model_name": "DescriptionStyleModel",
       "_view_count": null,
       "_view_module": "@jupyter-widgets/base",
       "_view_module_version": "1.2.0",
       "_view_name": "StyleView",
       "description_width": ""
      }
     },
     "4342ebbbb4564696957114f22c1ae013": {
      "model_module": "@jupyter-widgets/controls",
      "model_module_version": "1.5.0",
      "model_name": "DescriptionStyleModel",
      "state": {
       "_model_module": "@jupyter-widgets/controls",
       "_model_module_version": "1.5.0",
       "_model_name": "DescriptionStyleModel",
       "_view_count": null,
       "_view_module": "@jupyter-widgets/base",
       "_view_module_version": "1.2.0",
       "_view_name": "StyleView",
       "description_width": ""
      }
     },
     "46b4d538e57b4a9f82491ee297cde852": {
      "model_module": "@jupyter-widgets/controls",
      "model_module_version": "1.5.0",
      "model_name": "DescriptionStyleModel",
      "state": {
       "_model_module": "@jupyter-widgets/controls",
       "_model_module_version": "1.5.0",
       "_model_name": "DescriptionStyleModel",
       "_view_count": null,
       "_view_module": "@jupyter-widgets/base",
       "_view_module_version": "1.2.0",
       "_view_name": "StyleView",
       "description_width": ""
      }
     },
     "4de70509518d4fa4b8a00fae2723bcf5": {
      "model_module": "@jupyter-widgets/controls",
      "model_module_version": "1.5.0",
      "model_name": "HTMLModel",
      "state": {
       "_dom_classes": [],
       "_model_module": "@jupyter-widgets/controls",
       "_model_module_version": "1.5.0",
       "_model_name": "HTMLModel",
       "_view_count": null,
       "_view_module": "@jupyter-widgets/controls",
       "_view_module_version": "1.5.0",
       "_view_name": "HTMLView",
       "description": "",
       "description_tooltip": null,
       "layout": "IPY_MODEL_67f13f221a9a445790aef510b8929d89",
       "placeholder": "​",
       "style": "IPY_MODEL_4eaff525abaa4986be90e045ddfb6d39",
       "value": " 466k/466k [00:00&lt;00:00, 6.51MB/s]"
      }
     },
     "4eaff525abaa4986be90e045ddfb6d39": {
      "model_module": "@jupyter-widgets/controls",
      "model_module_version": "1.5.0",
      "model_name": "DescriptionStyleModel",
      "state": {
       "_model_module": "@jupyter-widgets/controls",
       "_model_module_version": "1.5.0",
       "_model_name": "DescriptionStyleModel",
       "_view_count": null,
       "_view_module": "@jupyter-widgets/base",
       "_view_module_version": "1.2.0",
       "_view_name": "StyleView",
       "description_width": ""
      }
     },
     "50e7b5c1dd8a4a8e942fb0d337a8222f": {
      "model_module": "@jupyter-widgets/base",
      "model_module_version": "1.2.0",
      "model_name": "LayoutModel",
      "state": {
       "_model_module": "@jupyter-widgets/base",
       "_model_module_version": "1.2.0",
       "_model_name": "LayoutModel",
       "_view_count": null,
       "_view_module": "@jupyter-widgets/base",
       "_view_module_version": "1.2.0",
       "_view_name": "LayoutView",
       "align_content": null,
       "align_items": null,
       "align_self": null,
       "border": null,
       "bottom": null,
       "display": null,
       "flex": null,
       "flex_flow": null,
       "grid_area": null,
       "grid_auto_columns": null,
       "grid_auto_flow": null,
       "grid_auto_rows": null,
       "grid_column": null,
       "grid_gap": null,
       "grid_row": null,
       "grid_template_areas": null,
       "grid_template_columns": null,
       "grid_template_rows": null,
       "height": null,
       "justify_content": null,
       "justify_items": null,
       "left": null,
       "margin": null,
       "max_height": null,
       "max_width": null,
       "min_height": null,
       "min_width": null,
       "object_fit": null,
       "object_position": null,
       "order": null,
       "overflow": null,
       "overflow_x": null,
       "overflow_y": null,
       "padding": null,
       "right": null,
       "top": null,
       "visibility": null,
       "width": null
      }
     },
     "53aad02766844ced9ac330294cfc7d47": {
      "model_module": "@jupyter-widgets/base",
      "model_module_version": "1.2.0",
      "model_name": "LayoutModel",
      "state": {
       "_model_module": "@jupyter-widgets/base",
       "_model_module_version": "1.2.0",
       "_model_name": "LayoutModel",
       "_view_count": null,
       "_view_module": "@jupyter-widgets/base",
       "_view_module_version": "1.2.0",
       "_view_name": "LayoutView",
       "align_content": null,
       "align_items": null,
       "align_self": null,
       "border": null,
       "bottom": null,
       "display": null,
       "flex": null,
       "flex_flow": null,
       "grid_area": null,
       "grid_auto_columns": null,
       "grid_auto_flow": null,
       "grid_auto_rows": null,
       "grid_column": null,
       "grid_gap": null,
       "grid_row": null,
       "grid_template_areas": null,
       "grid_template_columns": null,
       "grid_template_rows": null,
       "height": null,
       "justify_content": null,
       "justify_items": null,
       "left": null,
       "margin": null,
       "max_height": null,
       "max_width": null,
       "min_height": null,
       "min_width": null,
       "object_fit": null,
       "object_position": null,
       "order": null,
       "overflow": null,
       "overflow_x": null,
       "overflow_y": null,
       "padding": null,
       "right": null,
       "top": null,
       "visibility": null,
       "width": null
      }
     },
     "566134a32c934260aef1a9d5efe362d8": {
      "model_module": "@jupyter-widgets/controls",
      "model_module_version": "1.5.0",
      "model_name": "ProgressStyleModel",
      "state": {
       "_model_module": "@jupyter-widgets/controls",
       "_model_module_version": "1.5.0",
       "_model_name": "ProgressStyleModel",
       "_view_count": null,
       "_view_module": "@jupyter-widgets/base",
       "_view_module_version": "1.2.0",
       "_view_name": "StyleView",
       "bar_color": null,
       "description_width": ""
      }
     },
     "5a65ad86c9fb47dc97b13df39516062c": {
      "model_module": "@jupyter-widgets/controls",
      "model_module_version": "1.5.0",
      "model_name": "FloatProgressModel",
      "state": {
       "_dom_classes": [],
       "_model_module": "@jupyter-widgets/controls",
       "_model_module_version": "1.5.0",
       "_model_name": "FloatProgressModel",
       "_view_count": null,
       "_view_module": "@jupyter-widgets/controls",
       "_view_module_version": "1.5.0",
       "_view_name": "ProgressView",
       "bar_style": "success",
       "description": "",
       "description_tooltip": null,
       "layout": "IPY_MODEL_694feb71383a420aabdd85db6f7eea68",
       "max": 28,
       "min": 0,
       "orientation": "horizontal",
       "style": "IPY_MODEL_125d91cd31bb436ca7bdb7b85f0c481f",
       "value": 28
      }
     },
     "60ce01ee068b4c91a8612b9f0b6f826e": {
      "model_module": "@jupyter-widgets/controls",
      "model_module_version": "1.5.0",
      "model_name": "HTMLModel",
      "state": {
       "_dom_classes": [],
       "_model_module": "@jupyter-widgets/controls",
       "_model_module_version": "1.5.0",
       "_model_name": "HTMLModel",
       "_view_count": null,
       "_view_module": "@jupyter-widgets/controls",
       "_view_module_version": "1.5.0",
       "_view_name": "HTMLView",
       "description": "",
       "description_tooltip": null,
       "layout": "IPY_MODEL_8fb4b8c699a4469c9b153e652513250a",
       "placeholder": "​",
       "style": "IPY_MODEL_0f807b28985d495eac219eb7fca4144f",
       "value": " 570/570 [00:00&lt;00:00, 24.7kB/s]"
      }
     },
     "655ea74594ae4656b3d9ed96f847f049": {
      "model_module": "@jupyter-widgets/base",
      "model_module_version": "1.2.0",
      "model_name": "LayoutModel",
      "state": {
       "_model_module": "@jupyter-widgets/base",
       "_model_module_version": "1.2.0",
       "_model_name": "LayoutModel",
       "_view_count": null,
       "_view_module": "@jupyter-widgets/base",
       "_view_module_version": "1.2.0",
       "_view_name": "LayoutView",
       "align_content": null,
       "align_items": null,
       "align_self": null,
       "border": null,
       "bottom": null,
       "display": null,
       "flex": null,
       "flex_flow": null,
       "grid_area": null,
       "grid_auto_columns": null,
       "grid_auto_flow": null,
       "grid_auto_rows": null,
       "grid_column": null,
       "grid_gap": null,
       "grid_row": null,
       "grid_template_areas": null,
       "grid_template_columns": null,
       "grid_template_rows": null,
       "height": null,
       "justify_content": null,
       "justify_items": null,
       "left": null,
       "margin": null,
       "max_height": null,
       "max_width": null,
       "min_height": null,
       "min_width": null,
       "object_fit": null,
       "object_position": null,
       "order": null,
       "overflow": null,
       "overflow_x": null,
       "overflow_y": null,
       "padding": null,
       "right": null,
       "top": null,
       "visibility": null,
       "width": null
      }
     },
     "67f13f221a9a445790aef510b8929d89": {
      "model_module": "@jupyter-widgets/base",
      "model_module_version": "1.2.0",
      "model_name": "LayoutModel",
      "state": {
       "_model_module": "@jupyter-widgets/base",
       "_model_module_version": "1.2.0",
       "_model_name": "LayoutModel",
       "_view_count": null,
       "_view_module": "@jupyter-widgets/base",
       "_view_module_version": "1.2.0",
       "_view_name": "LayoutView",
       "align_content": null,
       "align_items": null,
       "align_self": null,
       "border": null,
       "bottom": null,
       "display": null,
       "flex": null,
       "flex_flow": null,
       "grid_area": null,
       "grid_auto_columns": null,
       "grid_auto_flow": null,
       "grid_auto_rows": null,
       "grid_column": null,
       "grid_gap": null,
       "grid_row": null,
       "grid_template_areas": null,
       "grid_template_columns": null,
       "grid_template_rows": null,
       "height": null,
       "justify_content": null,
       "justify_items": null,
       "left": null,
       "margin": null,
       "max_height": null,
       "max_width": null,
       "min_height": null,
       "min_width": null,
       "object_fit": null,
       "object_position": null,
       "order": null,
       "overflow": null,
       "overflow_x": null,
       "overflow_y": null,
       "padding": null,
       "right": null,
       "top": null,
       "visibility": null,
       "width": null
      }
     },
     "694feb71383a420aabdd85db6f7eea68": {
      "model_module": "@jupyter-widgets/base",
      "model_module_version": "1.2.0",
      "model_name": "LayoutModel",
      "state": {
       "_model_module": "@jupyter-widgets/base",
       "_model_module_version": "1.2.0",
       "_model_name": "LayoutModel",
       "_view_count": null,
       "_view_module": "@jupyter-widgets/base",
       "_view_module_version": "1.2.0",
       "_view_name": "LayoutView",
       "align_content": null,
       "align_items": null,
       "align_self": null,
       "border": null,
       "bottom": null,
       "display": null,
       "flex": null,
       "flex_flow": null,
       "grid_area": null,
       "grid_auto_columns": null,
       "grid_auto_flow": null,
       "grid_auto_rows": null,
       "grid_column": null,
       "grid_gap": null,
       "grid_row": null,
       "grid_template_areas": null,
       "grid_template_columns": null,
       "grid_template_rows": null,
       "height": null,
       "justify_content": null,
       "justify_items": null,
       "left": null,
       "margin": null,
       "max_height": null,
       "max_width": null,
       "min_height": null,
       "min_width": null,
       "object_fit": null,
       "object_position": null,
       "order": null,
       "overflow": null,
       "overflow_x": null,
       "overflow_y": null,
       "padding": null,
       "right": null,
       "top": null,
       "visibility": null,
       "width": null
      }
     },
     "6a62ecb22f584229995d0536f5a86b9a": {
      "model_module": "@jupyter-widgets/base",
      "model_module_version": "1.2.0",
      "model_name": "LayoutModel",
      "state": {
       "_model_module": "@jupyter-widgets/base",
       "_model_module_version": "1.2.0",
       "_model_name": "LayoutModel",
       "_view_count": null,
       "_view_module": "@jupyter-widgets/base",
       "_view_module_version": "1.2.0",
       "_view_name": "LayoutView",
       "align_content": null,
       "align_items": null,
       "align_self": null,
       "border": null,
       "bottom": null,
       "display": null,
       "flex": null,
       "flex_flow": null,
       "grid_area": null,
       "grid_auto_columns": null,
       "grid_auto_flow": null,
       "grid_auto_rows": null,
       "grid_column": null,
       "grid_gap": null,
       "grid_row": null,
       "grid_template_areas": null,
       "grid_template_columns": null,
       "grid_template_rows": null,
       "height": null,
       "justify_content": null,
       "justify_items": null,
       "left": null,
       "margin": null,
       "max_height": null,
       "max_width": null,
       "min_height": null,
       "min_width": null,
       "object_fit": null,
       "object_position": null,
       "order": null,
       "overflow": null,
       "overflow_x": null,
       "overflow_y": null,
       "padding": null,
       "right": null,
       "top": null,
       "visibility": null,
       "width": null
      }
     },
     "6b82feb5346d4947856d4b0c64c80562": {
      "model_module": "@jupyter-widgets/controls",
      "model_module_version": "1.5.0",
      "model_name": "FloatProgressModel",
      "state": {
       "_dom_classes": [],
       "_model_module": "@jupyter-widgets/controls",
       "_model_module_version": "1.5.0",
       "_model_name": "FloatProgressModel",
       "_view_count": null,
       "_view_module": "@jupyter-widgets/controls",
       "_view_module_version": "1.5.0",
       "_view_name": "ProgressView",
       "bar_style": "success",
       "description": "",
       "description_tooltip": null,
       "layout": "IPY_MODEL_93bda6b2dc1f4ff4a94fc97569ae23e7",
       "max": 466062,
       "min": 0,
       "orientation": "horizontal",
       "style": "IPY_MODEL_566134a32c934260aef1a9d5efe362d8",
       "value": 466062
      }
     },
     "6debae57324f44c9a19cd6e96b114e13": {
      "model_module": "@jupyter-widgets/base",
      "model_module_version": "1.2.0",
      "model_name": "LayoutModel",
      "state": {
       "_model_module": "@jupyter-widgets/base",
       "_model_module_version": "1.2.0",
       "_model_name": "LayoutModel",
       "_view_count": null,
       "_view_module": "@jupyter-widgets/base",
       "_view_module_version": "1.2.0",
       "_view_name": "LayoutView",
       "align_content": null,
       "align_items": null,
       "align_self": null,
       "border": null,
       "bottom": null,
       "display": null,
       "flex": null,
       "flex_flow": null,
       "grid_area": null,
       "grid_auto_columns": null,
       "grid_auto_flow": null,
       "grid_auto_rows": null,
       "grid_column": null,
       "grid_gap": null,
       "grid_row": null,
       "grid_template_areas": null,
       "grid_template_columns": null,
       "grid_template_rows": null,
       "height": null,
       "justify_content": null,
       "justify_items": null,
       "left": null,
       "margin": null,
       "max_height": null,
       "max_width": null,
       "min_height": null,
       "min_width": null,
       "object_fit": null,
       "object_position": null,
       "order": null,
       "overflow": null,
       "overflow_x": null,
       "overflow_y": null,
       "padding": null,
       "right": null,
       "top": null,
       "visibility": null,
       "width": null
      }
     },
     "6f531dffff8e4b89bd3415e3e849e4a4": {
      "model_module": "@jupyter-widgets/controls",
      "model_module_version": "1.5.0",
      "model_name": "HTMLModel",
      "state": {
       "_dom_classes": [],
       "_model_module": "@jupyter-widgets/controls",
       "_model_module_version": "1.5.0",
       "_model_name": "HTMLModel",
       "_view_count": null,
       "_view_module": "@jupyter-widgets/controls",
       "_view_module_version": "1.5.0",
       "_view_name": "HTMLView",
       "description": "",
       "description_tooltip": null,
       "layout": "IPY_MODEL_d6e7692e4ec44e30838bc59ba422a50c",
       "placeholder": "​",
       "style": "IPY_MODEL_4342ebbbb4564696957114f22c1ae013",
       "value": "Downloading (…)solve/main/vocab.txt: 100%"
      }
     },
     "7a7219199a004124a45a975e93b90a60": {
      "model_module": "@jupyter-widgets/controls",
      "model_module_version": "1.5.0",
      "model_name": "HTMLModel",
      "state": {
       "_dom_classes": [],
       "_model_module": "@jupyter-widgets/controls",
       "_model_module_version": "1.5.0",
       "_model_name": "HTMLModel",
       "_view_count": null,
       "_view_module": "@jupyter-widgets/controls",
       "_view_module_version": "1.5.0",
       "_view_name": "HTMLView",
       "description": "",
       "description_tooltip": null,
       "layout": "IPY_MODEL_50e7b5c1dd8a4a8e942fb0d337a8222f",
       "placeholder": "​",
       "style": "IPY_MODEL_46b4d538e57b4a9f82491ee297cde852",
       "value": " 440M/440M [00:02&lt;00:00, 204MB/s]"
      }
     },
     "8fb4b8c699a4469c9b153e652513250a": {
      "model_module": "@jupyter-widgets/base",
      "model_module_version": "1.2.0",
      "model_name": "LayoutModel",
      "state": {
       "_model_module": "@jupyter-widgets/base",
       "_model_module_version": "1.2.0",
       "_model_name": "LayoutModel",
       "_view_count": null,
       "_view_module": "@jupyter-widgets/base",
       "_view_module_version": "1.2.0",
       "_view_name": "LayoutView",
       "align_content": null,
       "align_items": null,
       "align_self": null,
       "border": null,
       "bottom": null,
       "display": null,
       "flex": null,
       "flex_flow": null,
       "grid_area": null,
       "grid_auto_columns": null,
       "grid_auto_flow": null,
       "grid_auto_rows": null,
       "grid_column": null,
       "grid_gap": null,
       "grid_row": null,
       "grid_template_areas": null,
       "grid_template_columns": null,
       "grid_template_rows": null,
       "height": null,
       "justify_content": null,
       "justify_items": null,
       "left": null,
       "margin": null,
       "max_height": null,
       "max_width": null,
       "min_height": null,
       "min_width": null,
       "object_fit": null,
       "object_position": null,
       "order": null,
       "overflow": null,
       "overflow_x": null,
       "overflow_y": null,
       "padding": null,
       "right": null,
       "top": null,
       "visibility": null,
       "width": null
      }
     },
     "937c5e52c31147a3bd978eb2e6cdf6bf": {
      "model_module": "@jupyter-widgets/controls",
      "model_module_version": "1.5.0",
      "model_name": "ProgressStyleModel",
      "state": {
       "_model_module": "@jupyter-widgets/controls",
       "_model_module_version": "1.5.0",
       "_model_name": "ProgressStyleModel",
       "_view_count": null,
       "_view_module": "@jupyter-widgets/base",
       "_view_module_version": "1.2.0",
       "_view_name": "StyleView",
       "bar_color": null,
       "description_width": ""
      }
     },
     "93bda6b2dc1f4ff4a94fc97569ae23e7": {
      "model_module": "@jupyter-widgets/base",
      "model_module_version": "1.2.0",
      "model_name": "LayoutModel",
      "state": {
       "_model_module": "@jupyter-widgets/base",
       "_model_module_version": "1.2.0",
       "_model_name": "LayoutModel",
       "_view_count": null,
       "_view_module": "@jupyter-widgets/base",
       "_view_module_version": "1.2.0",
       "_view_name": "LayoutView",
       "align_content": null,
       "align_items": null,
       "align_self": null,
       "border": null,
       "bottom": null,
       "display": null,
       "flex": null,
       "flex_flow": null,
       "grid_area": null,
       "grid_auto_columns": null,
       "grid_auto_flow": null,
       "grid_auto_rows": null,
       "grid_column": null,
       "grid_gap": null,
       "grid_row": null,
       "grid_template_areas": null,
       "grid_template_columns": null,
       "grid_template_rows": null,
       "height": null,
       "justify_content": null,
       "justify_items": null,
       "left": null,
       "margin": null,
       "max_height": null,
       "max_width": null,
       "min_height": null,
       "min_width": null,
       "object_fit": null,
       "object_position": null,
       "order": null,
       "overflow": null,
       "overflow_x": null,
       "overflow_y": null,
       "padding": null,
       "right": null,
       "top": null,
       "visibility": null,
       "width": null
      }
     },
     "a051ec45886d4fb0b0ef0a03205e88d8": {
      "model_module": "@jupyter-widgets/controls",
      "model_module_version": "1.5.0",
      "model_name": "HTMLModel",
      "state": {
       "_dom_classes": [],
       "_model_module": "@jupyter-widgets/controls",
       "_model_module_version": "1.5.0",
       "_model_name": "HTMLModel",
       "_view_count": null,
       "_view_module": "@jupyter-widgets/controls",
       "_view_module_version": "1.5.0",
       "_view_name": "HTMLView",
       "description": "",
       "description_tooltip": null,
       "layout": "IPY_MODEL_2e88ad77ac444fe38b6c1d2f5151f4ff",
       "placeholder": "​",
       "style": "IPY_MODEL_32bd966d0756469c83f020856bfff0a4",
       "value": "Downloading (…)/main/tokenizer.json: 100%"
      }
     },
     "a15030d53c4249f99cf679f9069df72b": {
      "model_module": "@jupyter-widgets/base",
      "model_module_version": "1.2.0",
      "model_name": "LayoutModel",
      "state": {
       "_model_module": "@jupyter-widgets/base",
       "_model_module_version": "1.2.0",
       "_model_name": "LayoutModel",
       "_view_count": null,
       "_view_module": "@jupyter-widgets/base",
       "_view_module_version": "1.2.0",
       "_view_name": "LayoutView",
       "align_content": null,
       "align_items": null,
       "align_self": null,
       "border": null,
       "bottom": null,
       "display": null,
       "flex": null,
       "flex_flow": null,
       "grid_area": null,
       "grid_auto_columns": null,
       "grid_auto_flow": null,
       "grid_auto_rows": null,
       "grid_column": null,
       "grid_gap": null,
       "grid_row": null,
       "grid_template_areas": null,
       "grid_template_columns": null,
       "grid_template_rows": null,
       "height": null,
       "justify_content": null,
       "justify_items": null,
       "left": null,
       "margin": null,
       "max_height": null,
       "max_width": null,
       "min_height": null,
       "min_width": null,
       "object_fit": null,
       "object_position": null,
       "order": null,
       "overflow": null,
       "overflow_x": null,
       "overflow_y": null,
       "padding": null,
       "right": null,
       "top": null,
       "visibility": null,
       "width": null
      }
     },
     "a1edbde769e847fb822c6718f71dec57": {
      "model_module": "@jupyter-widgets/base",
      "model_module_version": "1.2.0",
      "model_name": "LayoutModel",
      "state": {
       "_model_module": "@jupyter-widgets/base",
       "_model_module_version": "1.2.0",
       "_model_name": "LayoutModel",
       "_view_count": null,
       "_view_module": "@jupyter-widgets/base",
       "_view_module_version": "1.2.0",
       "_view_name": "LayoutView",
       "align_content": null,
       "align_items": null,
       "align_self": null,
       "border": null,
       "bottom": null,
       "display": null,
       "flex": null,
       "flex_flow": null,
       "grid_area": null,
       "grid_auto_columns": null,
       "grid_auto_flow": null,
       "grid_auto_rows": null,
       "grid_column": null,
       "grid_gap": null,
       "grid_row": null,
       "grid_template_areas": null,
       "grid_template_columns": null,
       "grid_template_rows": null,
       "height": null,
       "justify_content": null,
       "justify_items": null,
       "left": null,
       "margin": null,
       "max_height": null,
       "max_width": null,
       "min_height": null,
       "min_width": null,
       "object_fit": null,
       "object_position": null,
       "order": null,
       "overflow": null,
       "overflow_x": null,
       "overflow_y": null,
       "padding": null,
       "right": null,
       "top": null,
       "visibility": null,
       "width": null
      }
     },
     "a8a8f5ab75c74a79a90279d1914d9db3": {
      "model_module": "@jupyter-widgets/base",
      "model_module_version": "1.2.0",
      "model_name": "LayoutModel",
      "state": {
       "_model_module": "@jupyter-widgets/base",
       "_model_module_version": "1.2.0",
       "_model_name": "LayoutModel",
       "_view_count": null,
       "_view_module": "@jupyter-widgets/base",
       "_view_module_version": "1.2.0",
       "_view_name": "LayoutView",
       "align_content": null,
       "align_items": null,
       "align_self": null,
       "border": null,
       "bottom": null,
       "display": null,
       "flex": null,
       "flex_flow": null,
       "grid_area": null,
       "grid_auto_columns": null,
       "grid_auto_flow": null,
       "grid_auto_rows": null,
       "grid_column": null,
       "grid_gap": null,
       "grid_row": null,
       "grid_template_areas": null,
       "grid_template_columns": null,
       "grid_template_rows": null,
       "height": null,
       "justify_content": null,
       "justify_items": null,
       "left": null,
       "margin": null,
       "max_height": null,
       "max_width": null,
       "min_height": null,
       "min_width": null,
       "object_fit": null,
       "object_position": null,
       "order": null,
       "overflow": null,
       "overflow_x": null,
       "overflow_y": null,
       "padding": null,
       "right": null,
       "top": null,
       "visibility": null,
       "width": null
      }
     },
     "b2b8082bf7234ffabe19ba72c521bca7": {
      "model_module": "@jupyter-widgets/controls",
      "model_module_version": "1.5.0",
      "model_name": "DescriptionStyleModel",
      "state": {
       "_model_module": "@jupyter-widgets/controls",
       "_model_module_version": "1.5.0",
       "_model_name": "DescriptionStyleModel",
       "_view_count": null,
       "_view_module": "@jupyter-widgets/base",
       "_view_module_version": "1.2.0",
       "_view_name": "StyleView",
       "description_width": ""
      }
     },
     "b3d422e73d384bf4840934bb9d635dbe": {
      "model_module": "@jupyter-widgets/controls",
      "model_module_version": "1.5.0",
      "model_name": "DescriptionStyleModel",
      "state": {
       "_model_module": "@jupyter-widgets/controls",
       "_model_module_version": "1.5.0",
       "_model_name": "DescriptionStyleModel",
       "_view_count": null,
       "_view_module": "@jupyter-widgets/base",
       "_view_module_version": "1.2.0",
       "_view_name": "StyleView",
       "description_width": ""
      }
     },
     "b59fe16393634d19bb0151357ab14e07": {
      "model_module": "@jupyter-widgets/controls",
      "model_module_version": "1.5.0",
      "model_name": "HBoxModel",
      "state": {
       "_dom_classes": [],
       "_model_module": "@jupyter-widgets/controls",
       "_model_module_version": "1.5.0",
       "_model_name": "HBoxModel",
       "_view_count": null,
       "_view_module": "@jupyter-widgets/controls",
       "_view_module_version": "1.5.0",
       "_view_name": "HBoxView",
       "box_style": "",
       "children": [
        "IPY_MODEL_a051ec45886d4fb0b0ef0a03205e88d8",
        "IPY_MODEL_6b82feb5346d4947856d4b0c64c80562",
        "IPY_MODEL_4de70509518d4fa4b8a00fae2723bcf5"
       ],
       "layout": "IPY_MODEL_c961be8fefef45119e353dcdab92e787"
      }
     },
     "c2ca7d111a8940feb3e2d2fe505b6119": {
      "model_module": "@jupyter-widgets/base",
      "model_module_version": "1.2.0",
      "model_name": "LayoutModel",
      "state": {
       "_model_module": "@jupyter-widgets/base",
       "_model_module_version": "1.2.0",
       "_model_name": "LayoutModel",
       "_view_count": null,
       "_view_module": "@jupyter-widgets/base",
       "_view_module_version": "1.2.0",
       "_view_name": "LayoutView",
       "align_content": null,
       "align_items": null,
       "align_self": null,
       "border": null,
       "bottom": null,
       "display": null,
       "flex": null,
       "flex_flow": null,
       "grid_area": null,
       "grid_auto_columns": null,
       "grid_auto_flow": null,
       "grid_auto_rows": null,
       "grid_column": null,
       "grid_gap": null,
       "grid_row": null,
       "grid_template_areas": null,
       "grid_template_columns": null,
       "grid_template_rows": null,
       "height": null,
       "justify_content": null,
       "justify_items": null,
       "left": null,
       "margin": null,
       "max_height": null,
       "max_width": null,
       "min_height": null,
       "min_width": null,
       "object_fit": null,
       "object_position": null,
       "order": null,
       "overflow": null,
       "overflow_x": null,
       "overflow_y": null,
       "padding": null,
       "right": null,
       "top": null,
       "visibility": null,
       "width": null
      }
     },
     "c3ecd97ce91849aba4be53d0b1ecebdc": {
      "model_module": "@jupyter-widgets/controls",
      "model_module_version": "1.5.0",
      "model_name": "HBoxModel",
      "state": {
       "_dom_classes": [],
       "_model_module": "@jupyter-widgets/controls",
       "_model_module_version": "1.5.0",
       "_model_name": "HBoxModel",
       "_view_count": null,
       "_view_module": "@jupyter-widgets/controls",
       "_view_module_version": "1.5.0",
       "_view_name": "HBoxView",
       "box_style": "",
       "children": [
        "IPY_MODEL_c962c91265bf4c45be7fc49edea099de",
        "IPY_MODEL_dd6f353f381540349f7aa56bdb38a590",
        "IPY_MODEL_60ce01ee068b4c91a8612b9f0b6f826e"
       ],
       "layout": "IPY_MODEL_c2ca7d111a8940feb3e2d2fe505b6119"
      }
     },
     "c6909ccae9b74061a2be222a68a4d3ba": {
      "model_module": "@jupyter-widgets/controls",
      "model_module_version": "1.5.0",
      "model_name": "HBoxModel",
      "state": {
       "_dom_classes": [],
       "_model_module": "@jupyter-widgets/controls",
       "_model_module_version": "1.5.0",
       "_model_name": "HBoxModel",
       "_view_count": null,
       "_view_module": "@jupyter-widgets/controls",
       "_view_module_version": "1.5.0",
       "_view_name": "HBoxView",
       "box_style": "",
       "children": [
        "IPY_MODEL_6f531dffff8e4b89bd3415e3e849e4a4",
        "IPY_MODEL_f24c710e822640789ed1425c669f740f",
        "IPY_MODEL_d7dda5257d574ccbb9059a6ce1f3c84b"
       ],
       "layout": "IPY_MODEL_53aad02766844ced9ac330294cfc7d47"
      }
     },
     "c7effefb3b9e4eb2bf9c7ea66810900c": {
      "model_module": "@jupyter-widgets/controls",
      "model_module_version": "1.5.0",
      "model_name": "DescriptionStyleModel",
      "state": {
       "_model_module": "@jupyter-widgets/controls",
       "_model_module_version": "1.5.0",
       "_model_name": "DescriptionStyleModel",
       "_view_count": null,
       "_view_module": "@jupyter-widgets/base",
       "_view_module_version": "1.2.0",
       "_view_name": "StyleView",
       "description_width": ""
      }
     },
     "c961be8fefef45119e353dcdab92e787": {
      "model_module": "@jupyter-widgets/base",
      "model_module_version": "1.2.0",
      "model_name": "LayoutModel",
      "state": {
       "_model_module": "@jupyter-widgets/base",
       "_model_module_version": "1.2.0",
       "_model_name": "LayoutModel",
       "_view_count": null,
       "_view_module": "@jupyter-widgets/base",
       "_view_module_version": "1.2.0",
       "_view_name": "LayoutView",
       "align_content": null,
       "align_items": null,
       "align_self": null,
       "border": null,
       "bottom": null,
       "display": null,
       "flex": null,
       "flex_flow": null,
       "grid_area": null,
       "grid_auto_columns": null,
       "grid_auto_flow": null,
       "grid_auto_rows": null,
       "grid_column": null,
       "grid_gap": null,
       "grid_row": null,
       "grid_template_areas": null,
       "grid_template_columns": null,
       "grid_template_rows": null,
       "height": null,
       "justify_content": null,
       "justify_items": null,
       "left": null,
       "margin": null,
       "max_height": null,
       "max_width": null,
       "min_height": null,
       "min_width": null,
       "object_fit": null,
       "object_position": null,
       "order": null,
       "overflow": null,
       "overflow_x": null,
       "overflow_y": null,
       "padding": null,
       "right": null,
       "top": null,
       "visibility": null,
       "width": null
      }
     },
     "c962c91265bf4c45be7fc49edea099de": {
      "model_module": "@jupyter-widgets/controls",
      "model_module_version": "1.5.0",
      "model_name": "HTMLModel",
      "state": {
       "_dom_classes": [],
       "_model_module": "@jupyter-widgets/controls",
       "_model_module_version": "1.5.0",
       "_model_name": "HTMLModel",
       "_view_count": null,
       "_view_module": "@jupyter-widgets/controls",
       "_view_module_version": "1.5.0",
       "_view_name": "HTMLView",
       "description": "",
       "description_tooltip": null,
       "layout": "IPY_MODEL_6a62ecb22f584229995d0536f5a86b9a",
       "placeholder": "​",
       "style": "IPY_MODEL_105b3264317d4c72945e04d0af837912",
       "value": "Downloading (…)lve/main/config.json: 100%"
      }
     },
     "d3cfb3b15e3b45f984c3a4aaedf453ab": {
      "model_module": "@jupyter-widgets/controls",
      "model_module_version": "1.5.0",
      "model_name": "FloatProgressModel",
      "state": {
       "_dom_classes": [],
       "_model_module": "@jupyter-widgets/controls",
       "_model_module_version": "1.5.0",
       "_model_name": "FloatProgressModel",
       "_view_count": null,
       "_view_module": "@jupyter-widgets/controls",
       "_view_module_version": "1.5.0",
       "_view_name": "ProgressView",
       "bar_style": "success",
       "description": "",
       "description_tooltip": null,
       "layout": "IPY_MODEL_fa7957a256724cd59053c22988130619",
       "max": 440473133,
       "min": 0,
       "orientation": "horizontal",
       "style": "IPY_MODEL_937c5e52c31147a3bd978eb2e6cdf6bf",
       "value": 440473133
      }
     },
     "d4a9677434b94b19a0fa520de54220e4": {
      "model_module": "@jupyter-widgets/controls",
      "model_module_version": "1.5.0",
      "model_name": "HTMLModel",
      "state": {
       "_dom_classes": [],
       "_model_module": "@jupyter-widgets/controls",
       "_model_module_version": "1.5.0",
       "_model_name": "HTMLModel",
       "_view_count": null,
       "_view_module": "@jupyter-widgets/controls",
       "_view_module_version": "1.5.0",
       "_view_name": "HTMLView",
       "description": "",
       "description_tooltip": null,
       "layout": "IPY_MODEL_ed1dfa9759734869bdbbba3370b6739f",
       "placeholder": "​",
       "style": "IPY_MODEL_c7effefb3b9e4eb2bf9c7ea66810900c",
       "value": "Downloading (…)okenizer_config.json: 100%"
      }
     },
     "d6e7692e4ec44e30838bc59ba422a50c": {
      "model_module": "@jupyter-widgets/base",
      "model_module_version": "1.2.0",
      "model_name": "LayoutModel",
      "state": {
       "_model_module": "@jupyter-widgets/base",
       "_model_module_version": "1.2.0",
       "_model_name": "LayoutModel",
       "_view_count": null,
       "_view_module": "@jupyter-widgets/base",
       "_view_module_version": "1.2.0",
       "_view_name": "LayoutView",
       "align_content": null,
       "align_items": null,
       "align_self": null,
       "border": null,
       "bottom": null,
       "display": null,
       "flex": null,
       "flex_flow": null,
       "grid_area": null,
       "grid_auto_columns": null,
       "grid_auto_flow": null,
       "grid_auto_rows": null,
       "grid_column": null,
       "grid_gap": null,
       "grid_row": null,
       "grid_template_areas": null,
       "grid_template_columns": null,
       "grid_template_rows": null,
       "height": null,
       "justify_content": null,
       "justify_items": null,
       "left": null,
       "margin": null,
       "max_height": null,
       "max_width": null,
       "min_height": null,
       "min_width": null,
       "object_fit": null,
       "object_position": null,
       "order": null,
       "overflow": null,
       "overflow_x": null,
       "overflow_y": null,
       "padding": null,
       "right": null,
       "top": null,
       "visibility": null,
       "width": null
      }
     },
     "d70ca761f69d40449d358b6a55e67d84": {
      "model_module": "@jupyter-widgets/base",
      "model_module_version": "1.2.0",
      "model_name": "LayoutModel",
      "state": {
       "_model_module": "@jupyter-widgets/base",
       "_model_module_version": "1.2.0",
       "_model_name": "LayoutModel",
       "_view_count": null,
       "_view_module": "@jupyter-widgets/base",
       "_view_module_version": "1.2.0",
       "_view_name": "LayoutView",
       "align_content": null,
       "align_items": null,
       "align_self": null,
       "border": null,
       "bottom": null,
       "display": null,
       "flex": null,
       "flex_flow": null,
       "grid_area": null,
       "grid_auto_columns": null,
       "grid_auto_flow": null,
       "grid_auto_rows": null,
       "grid_column": null,
       "grid_gap": null,
       "grid_row": null,
       "grid_template_areas": null,
       "grid_template_columns": null,
       "grid_template_rows": null,
       "height": null,
       "justify_content": null,
       "justify_items": null,
       "left": null,
       "margin": null,
       "max_height": null,
       "max_width": null,
       "min_height": null,
       "min_width": null,
       "object_fit": null,
       "object_position": null,
       "order": null,
       "overflow": null,
       "overflow_x": null,
       "overflow_y": null,
       "padding": null,
       "right": null,
       "top": null,
       "visibility": null,
       "width": null
      }
     },
     "d7dda5257d574ccbb9059a6ce1f3c84b": {
      "model_module": "@jupyter-widgets/controls",
      "model_module_version": "1.5.0",
      "model_name": "HTMLModel",
      "state": {
       "_dom_classes": [],
       "_model_module": "@jupyter-widgets/controls",
       "_model_module_version": "1.5.0",
       "_model_name": "HTMLModel",
       "_view_count": null,
       "_view_module": "@jupyter-widgets/controls",
       "_view_module_version": "1.5.0",
       "_view_name": "HTMLView",
       "description": "",
       "description_tooltip": null,
       "layout": "IPY_MODEL_18cc9ca1dce34fe8bfb9d0ca893a40da",
       "placeholder": "​",
       "style": "IPY_MODEL_b3d422e73d384bf4840934bb9d635dbe",
       "value": " 232k/232k [00:00&lt;00:00, 5.44MB/s]"
      }
     },
     "d99005794e0a41b494d297b3cce7368c": {
      "model_module": "@jupyter-widgets/controls",
      "model_module_version": "1.5.0",
      "model_name": "HBoxModel",
      "state": {
       "_dom_classes": [],
       "_model_module": "@jupyter-widgets/controls",
       "_model_module_version": "1.5.0",
       "_model_name": "HBoxModel",
       "_view_count": null,
       "_view_module": "@jupyter-widgets/controls",
       "_view_module_version": "1.5.0",
       "_view_name": "HBoxView",
       "box_style": "",
       "children": [
        "IPY_MODEL_dc4912dd6c7144879d62b59523f02cf1",
        "IPY_MODEL_d3cfb3b15e3b45f984c3a4aaedf453ab",
        "IPY_MODEL_7a7219199a004124a45a975e93b90a60"
       ],
       "layout": "IPY_MODEL_655ea74594ae4656b3d9ed96f847f049"
      }
     },
     "dc24a729d8294a64bb1b9e2ef6abac31": {
      "model_module": "@jupyter-widgets/controls",
      "model_module_version": "1.5.0",
      "model_name": "ProgressStyleModel",
      "state": {
       "_model_module": "@jupyter-widgets/controls",
       "_model_module_version": "1.5.0",
       "_model_name": "ProgressStyleModel",
       "_view_count": null,
       "_view_module": "@jupyter-widgets/base",
       "_view_module_version": "1.2.0",
       "_view_name": "StyleView",
       "bar_color": null,
       "description_width": ""
      }
     },
     "dc4912dd6c7144879d62b59523f02cf1": {
      "model_module": "@jupyter-widgets/controls",
      "model_module_version": "1.5.0",
      "model_name": "HTMLModel",
      "state": {
       "_dom_classes": [],
       "_model_module": "@jupyter-widgets/controls",
       "_model_module_version": "1.5.0",
       "_model_name": "HTMLModel",
       "_view_count": null,
       "_view_module": "@jupyter-widgets/controls",
       "_view_module_version": "1.5.0",
       "_view_name": "HTMLView",
       "description": "",
       "description_tooltip": null,
       "layout": "IPY_MODEL_d70ca761f69d40449d358b6a55e67d84",
       "placeholder": "​",
       "style": "IPY_MODEL_217e347bbf284449853327282fed23a8",
       "value": "Downloading pytorch_model.bin: 100%"
      }
     },
     "dd6f353f381540349f7aa56bdb38a590": {
      "model_module": "@jupyter-widgets/controls",
      "model_module_version": "1.5.0",
      "model_name": "FloatProgressModel",
      "state": {
       "_dom_classes": [],
       "_model_module": "@jupyter-widgets/controls",
       "_model_module_version": "1.5.0",
       "_model_name": "FloatProgressModel",
       "_view_count": null,
       "_view_module": "@jupyter-widgets/controls",
       "_view_module_version": "1.5.0",
       "_view_name": "ProgressView",
       "bar_style": "success",
       "description": "",
       "description_tooltip": null,
       "layout": "IPY_MODEL_a15030d53c4249f99cf679f9069df72b",
       "max": 570,
       "min": 0,
       "orientation": "horizontal",
       "style": "IPY_MODEL_dc24a729d8294a64bb1b9e2ef6abac31",
       "value": 570
      }
     },
     "ed1dfa9759734869bdbbba3370b6739f": {
      "model_module": "@jupyter-widgets/base",
      "model_module_version": "1.2.0",
      "model_name": "LayoutModel",
      "state": {
       "_model_module": "@jupyter-widgets/base",
       "_model_module_version": "1.2.0",
       "_model_name": "LayoutModel",
       "_view_count": null,
       "_view_module": "@jupyter-widgets/base",
       "_view_module_version": "1.2.0",
       "_view_name": "LayoutView",
       "align_content": null,
       "align_items": null,
       "align_self": null,
       "border": null,
       "bottom": null,
       "display": null,
       "flex": null,
       "flex_flow": null,
       "grid_area": null,
       "grid_auto_columns": null,
       "grid_auto_flow": null,
       "grid_auto_rows": null,
       "grid_column": null,
       "grid_gap": null,
       "grid_row": null,
       "grid_template_areas": null,
       "grid_template_columns": null,
       "grid_template_rows": null,
       "height": null,
       "justify_content": null,
       "justify_items": null,
       "left": null,
       "margin": null,
       "max_height": null,
       "max_width": null,
       "min_height": null,
       "min_width": null,
       "object_fit": null,
       "object_position": null,
       "order": null,
       "overflow": null,
       "overflow_x": null,
       "overflow_y": null,
       "padding": null,
       "right": null,
       "top": null,
       "visibility": null,
       "width": null
      }
     },
     "f24c710e822640789ed1425c669f740f": {
      "model_module": "@jupyter-widgets/controls",
      "model_module_version": "1.5.0",
      "model_name": "FloatProgressModel",
      "state": {
       "_dom_classes": [],
       "_model_module": "@jupyter-widgets/controls",
       "_model_module_version": "1.5.0",
       "_model_name": "FloatProgressModel",
       "_view_count": null,
       "_view_module": "@jupyter-widgets/controls",
       "_view_module_version": "1.5.0",
       "_view_name": "ProgressView",
       "bar_style": "success",
       "description": "",
       "description_tooltip": null,
       "layout": "IPY_MODEL_a1edbde769e847fb822c6718f71dec57",
       "max": 231508,
       "min": 0,
       "orientation": "horizontal",
       "style": "IPY_MODEL_0aa1d98f685f4a1dbe97b43cfe3fc09e",
       "value": 231508
      }
     },
     "fa7957a256724cd59053c22988130619": {
      "model_module": "@jupyter-widgets/base",
      "model_module_version": "1.2.0",
      "model_name": "LayoutModel",
      "state": {
       "_model_module": "@jupyter-widgets/base",
       "_model_module_version": "1.2.0",
       "_model_name": "LayoutModel",
       "_view_count": null,
       "_view_module": "@jupyter-widgets/base",
       "_view_module_version": "1.2.0",
       "_view_name": "LayoutView",
       "align_content": null,
       "align_items": null,
       "align_self": null,
       "border": null,
       "bottom": null,
       "display": null,
       "flex": null,
       "flex_flow": null,
       "grid_area": null,
       "grid_auto_columns": null,
       "grid_auto_flow": null,
       "grid_auto_rows": null,
       "grid_column": null,
       "grid_gap": null,
       "grid_row": null,
       "grid_template_areas": null,
       "grid_template_columns": null,
       "grid_template_rows": null,
       "height": null,
       "justify_content": null,
       "justify_items": null,
       "left": null,
       "margin": null,
       "max_height": null,
       "max_width": null,
       "min_height": null,
       "min_width": null,
       "object_fit": null,
       "object_position": null,
       "order": null,
       "overflow": null,
       "overflow_x": null,
       "overflow_y": null,
       "padding": null,
       "right": null,
       "top": null,
       "visibility": null,
       "width": null
      }
     }
    },
    "version_major": 2,
    "version_minor": 0
   }
  }
 },
 "nbformat": 4,
 "nbformat_minor": 5
}
