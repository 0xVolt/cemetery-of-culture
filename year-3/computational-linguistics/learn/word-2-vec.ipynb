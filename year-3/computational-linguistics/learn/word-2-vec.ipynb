{
 "cells": [
  {
   "cell_type": "markdown",
   "metadata": {},
   "source": [
    "## Word2vec"
   ]
  },
  {
   "cell_type": "markdown",
   "metadata": {},
   "source": [
    "Setting the hyper parameters for the Word2Vec model"
   ]
  },
  {
   "cell_type": "code",
   "execution_count": null,
   "metadata": {},
   "outputs": [],
   "source": [
    "hyperParameters = {\n",
    "    # Context window +- center word\n",
    "\t'window_size': 2,\n",
    "\t# Dimensions of word embeddings, i.e., size of hidden layer\n",
    "\t'n': 10,\n",
    "\t# Number of training epochs\n",
    "\t'epochs': 50,\n",
    "\t# Learning rate\n",
    "\t'learning_rate': 0.01\n",
    "}"
   ]
  },
  {
   "cell_type": "markdown",
   "metadata": {},
   "source": [
    "Generating training data for the model"
   ]
  },
  {
   "cell_type": "code",
   "execution_count": null,
   "metadata": {},
   "outputs": [],
   "source": [
    "# Initialise object\n",
    "w2v = word2vec()\n",
    "# Numpy ndarray with one-hot representation for [target_word, context_words]\n",
    "training_data = w2v.generate_training_data(settings, corpus)"
   ]
  }
 ],
 "metadata": {
  "language_info": {
   "name": "python"
  },
  "orig_nbformat": 4
 },
 "nbformat": 4,
 "nbformat_minor": 2
}
