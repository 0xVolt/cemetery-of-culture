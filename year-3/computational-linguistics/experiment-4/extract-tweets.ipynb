{
 "cells": [
  {
   "cell_type": "code",
   "execution_count": 1,
   "metadata": {
    "id": "A1vT3cJFQPtH"
   },
   "outputs": [],
   "source": [
    "import tweepy\n",
    "import pandas as pd"
   ]
  },
  {
   "cell_type": "code",
   "execution_count": 2,
   "metadata": {
    "id": "rJuUnRgeO6Ad"
   },
   "outputs": [],
   "source": [
    "client = tweepy.Client(bearer_token = r\"AAAAAAAAAAAAAAAAAAAAABOPlQEAAAAAYoHQzq8vbsNh%2FTFqD9LkojExab8%3D5UzN6cub1Mpb3CpiDZVkddn2x29Z17lGaFqjjvcrZsq1jWyTHA\")"
   ]
  },
  {
   "cell_type": "code",
   "execution_count": 3,
   "metadata": {
    "id": "s5WdAK8UQYnc"
   },
   "outputs": [],
   "source": [
    "user = client.get_user(username='RobertDowneyJr').data\n",
    "user_id = user.id\n",
    "user_name = user.name\n",
    "tweets = client.get_users_tweets(id=user_id, tweet_fields=['id', 'text', 'created_at', 'context_annotations'], max_results=100)\n",
    "df = []\n",
    "for tweet in tweets.data:\n",
    "    df.append(tweet)"
   ]
  },
  {
   "cell_type": "code",
   "execution_count": 4,
   "metadata": {
    "id": "XhH8a-qLS9HP"
   },
   "outputs": [],
   "source": [
    "df = pd.DataFrame(df)"
   ]
  },
  {
   "cell_type": "code",
   "execution_count": 5,
   "metadata": {
    "colab": {
     "base_uri": "https://localhost:8080/",
     "height": 641
    },
    "id": "-c1ut5D-TCqX",
    "outputId": "eb21a124-feca-4a64-dcdc-d182fb918c64"
   },
   "outputs": [
    {
     "data": {
      "text/plain": [
       "Index(['context_annotations', 'created_at', 'edit_history_tweet_ids', 'id',\n",
       "       'text'],\n",
       "      dtype='object')"
      ]
     },
     "execution_count": 5,
     "metadata": {},
     "output_type": "execute_result"
    }
   ],
   "source": [
    "df.columns"
   ]
  },
  {
   "cell_type": "code",
   "execution_count": 6,
   "metadata": {
    "id": "Vr2VbCxcTExa"
   },
   "outputs": [],
   "source": [
    "df.to_csv(\"tweet.csv\")"
   ]
  }
 ],
 "metadata": {
  "kernelspec": {
   "display_name": "Python 3",
   "language": "python",
   "name": "python3"
  },
  "language_info": {
   "codemirror_mode": {
    "name": "ipython",
    "version": 3
   },
   "file_extension": ".py",
   "mimetype": "text/x-python",
   "name": "python",
   "nbconvert_exporter": "python",
   "pygments_lexer": "ipython3",
   "version": "3.10.6"
  },
  "orig_nbformat": 4,
  "vscode": {
   "interpreter": {
    "hash": "916dbcbb3f70747c44a77c7bcd40155683ae19c65e1c03b4aa3499c5328201f1"
   }
  }
 },
 "nbformat": 4,
 "nbformat_minor": 2
}
