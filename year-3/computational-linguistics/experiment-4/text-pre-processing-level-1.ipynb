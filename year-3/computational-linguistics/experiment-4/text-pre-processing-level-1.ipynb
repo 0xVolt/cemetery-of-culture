{
 "cells": [
  {
   "attachments": {},
   "cell_type": "markdown",
   "metadata": {},
   "source": [
    "# Text Pre-processing Level 1 (TPL 1) - Data Cleaning\n",
    "\n",
    "---"
   ]
  },
  {
   "attachments": {},
   "cell_type": "markdown",
   "metadata": {},
   "source": [
    "# Import dependencies"
   ]
  },
  {
   "cell_type": "code",
   "execution_count": null,
   "metadata": {},
   "outputs": [],
   "source": [
    "# nltk dependencies\n",
    "import nltk\n",
    "from nltk.stem import PorterStemmer\n",
    "from nltk.stem import WordNetLemmatizer\n",
    "from nltk.corpus import stopwords\n",
    "\n",
    "# To pre-process text\n",
    "import re\n",
    "\n",
    "import pandas as pd\n",
    "\n",
    "# To download the tokenizer\n",
    "nltk.download('punkt')\n",
    "\n",
    "# Download the lemmatizer\n",
    "nltk.download('wordnet')\n",
    "\n",
    "# To download the corpus of stopwords\n",
    "nltk.download('stopwords')"
   ]
  },
  {
   "attachments": {},
   "cell_type": "markdown",
   "metadata": {},
   "source": [
    "# Import Tweets"
   ]
  },
  {
   "cell_type": "code",
   "execution_count": null,
   "metadata": {},
   "outputs": [],
   "source": [
    "df = pd.read_csv('tweet.csv')\n",
    "df.drop(['Unnamed: 0'], axis=1)\n",
    "df"
   ]
  },
  {
   "cell_type": "code",
   "execution_count": null,
   "metadata": {},
   "outputs": [],
   "source": [
    "tweets = df['text']\n",
    "tweets"
   ]
  },
  {
   "attachments": {},
   "cell_type": "markdown",
   "metadata": {},
   "source": [
    "# Processing Tweets"
   ]
  },
  {
   "cell_type": "code",
   "execution_count": 59,
   "metadata": {},
   "outputs": [
    {
     "name": "stdout",
     "output_type": "stream",
     "text": [
      "[['heart', 'everi', 'famili', '(', '’', 'fortun', ')', ',', '’', 'find', 'mother', '.', 'fierc', 'sophist', 'protector', ',', 'nurtur', ',', 'teacher', 'friend', '...', 'susan', 'downey', ',', '(', 'party-s', 'bag', 'chip', ')', '.', 'http', ':', '//t.co/88uxwbxs9l'], ['groundbreak', 'filmmak', '.', 'well', 'dad', '.', '’', 'uncomplicated…', '”', 'sr.', '”', 'documentari', 'tell', 'stori', 'robert', 'downey', '’', 'maverick', 'rise', 'nyc', ',', 'crash', ',', 'burn', 'redempt', 'hollywood', 'relationship', 'aftermath', '.', 'netflix', ',', 'decemb', '2nd', '.', 'http', ':', '//t.co/uqbwihmffw'], ['rt', '@', 'markruffalo', ':', 'parabén', 'ao', 'herói', 'da', 'democracia', 'brasileira', '!', 'pela', 'primeira', 'vez', ',', 'número', 'de', 'voto', 'aument', 'segundo', 'turno', '.', 'o', 'brasileir…'], ['excelent', ',', '@', 'debora_dpio', '!', 'melhor', 'estratégia', ',', 'assim', 'como', 'melhor', 'tecnologia', ',', 'é', 'simpl', 'e', 'eficient', '.', 'vc', 'consegu', 'mudar', 'mundo', 'conversando', 'com', 'quem', 'está', 'seu', 'lado', '.', 'é', 'preciso', 'coragem', ',', 'ma', 'funciona', '.', 'mundo', 'está', 'com', 'você', '.', '#', 'nemtodoheróiusacapa', 'http', ':', '//t.co/tb5chosuay'], ['eu', 'tô', 'com', 'você', ',', '@', 'rdjbrazil', '!', 'essa', 'semana', ',', 'estamo', 'todo', 'unido', 'pelo', 'brasil', '.', 'unidad', 'não', 'é', 'sobr', 'sermo', 'iguai', ',', 'ma', 'sobr', 'trabalharmo', 'junto', '.', 'love', '3000', ',', 'brazil', '.', 'votem', '!', '#', 'nemtodoheróiusacapa', 'http', ':', '//t.co/5xl8etqbgl'], ['parabén', ',', '@', 'odjgust', '!', 'isso', 'que', 'é', 'estratégia', 'de', 'verdad', '!', 'precisamo', 'conquistar', 'coraçõ', 'e', 'ment', '.', 'se', 'parec', 'muito', 'difícil', ',', 'lembre-s', 'que', ',', 'às', 'veze', ',', 'vc', 'tem', 'que', 'correr', 'pra', 'depoi', 'conseguir', 'andar', '.', 'eu', 'acredito', 'em', 'você', '.', '#', 'nemtodoheróiusacapa', 'http', ':', '//t.co/rl6x2arlci'], ['exatament', ',', '@', 'lucianohuck', '.', 'com', 'acesso', 'uma', 'educação', 'de', 'qualidad', ',', 'toda', 'criança', 'pode', 'inventar', 'seu', 'melhor', 'futuro', '.', 'não', 'esper', 'por', 'isso', '.', 'vote', 'por', 'isso', '.', '#', 'nemtodoheróiusacapa', 'p', ':', 'ainda', 'está', 'reformando', 'lata', 'velha', '?', 'vamo', 'conversar', '.', 'http', ':', '//t.co/jf01sbyqeo'], ['fall', 'ball', 'theme', 'song', '!', '!', '🎵', ':', 'check', '#', 'runaway', 'music', 'video', 'indio', 'ink', ':', 'http', ':', '//t.co/ucttn4xc8j', 'http', ':', '//t.co/e28h6kyz'], ['strike', 'pose', 'ig', 'live', 'indio', 'ink', '..', 'stream', '#', 'runaway', ':', 'http', ':', '//t.co/tdxvsffqrd', '…and', 'look', 'music', 'video', 'friday', '.', 'see', '!', 'http', ':', '//t.co/yg7joqhqa4'], ['join', 'indio', 'ink', 'instagram', ',', 'come', 'tuesday', '(', '9/27', '@', '3p', 'pt', ')', '.', 'http', ':', '//t.co/tzboy1ct35'], ['banderc', 'groov', '!', '!', '@', 'tracyanderson', '🎵', ':', '#', 'runaway', 'indio', 'ink', 'stream', '!', 'http', ':', '//t.co/wlcrujaogx', 'http', ':', '//t.co/jr6vq0otab'], ['#', 'runaway', 'indio', 'ink', ':', 'http', ':', '//t.co/oszkxlocnl', 'http', ':', '//t.co/nxr4o0sco'], ['hit', 'keep', 'comin', \"'\", '.', 'dare', 'keep', 'song', 'head', '.', 'stream', '#', 'runaway', 'indio', 'ink', ':', 'http', ':', '//t.co/oszkxlocnl', 'http', ':', '//t.co/2dmr7firdb'], ['rt', '@', 'fp_coalit', ':', 'microplast', 'pollut', 'antibiot', 'could', 'soon', 'make', 'salmon', 'supper', 'unbear', '.', '@', 'wildtypefood', 'solut', 'that…'], ['rt', '@', 'fp_coalit', ':', '’', 'thrill', 'announc', '@', 'falling_wal', 'name', 'footprint', 'coalit', 'scienc', 'engin', 'one', 'breakthroughs…'], ['anyon', 'know', 'tell', '’', 'one', 'kindest', ',', 'strongest', ',', 'talent', ',', '&', 'amp', ';', 'least', 'materialist', 'human', '.', 'drop', 'record', 'session', 'week', 'back', '&', 'amp', ';', 'wit', 'musicianship', 'close', '&', 'amp', ';', 'liter', 'gob', 'smack', '.', 'keep', 'eye', 'band', ',', 'indio', 'ink', 'http', ':', '//t.co/ts4xhrtmqw'], ['happiest', '29th', 'bday', 'indio', 'falcon', 'downey', '.', 'growth', 'artist', 'man', 'astonish', '.', 'last', 'sever', 'year', ',', 'mani', 'storm', 'weather', ',', '’', 'emerg', 'one', 'favorit', 'record', 'artist', ',', 'joke', '.', 'http', ':', '//t.co/o1lemqzzuj'], ['rt', '@', 'indiewir', ':', '‘', 'sr.', '’', ':', 'review', ':', 'robert', 'downey', 'jr.-produc', 'documentari', 'pay', 'tribut', 'underground', 'filmmak', 'father', 'http', ':', '//t.co/j4enxfnc…'], ['rt', '@', 'westery1', ':', 'blown', 'away', '‘', 'sr.', '’', 'review', 'come', '.', 'tellurid', 'film', 'festiv', 'perfect', 'backdrop', '.', 'fit', 'stori', 'a…'], ['rt', '@', 'peopl', ':', 'robert', 'downey', 'jr.', \"'s\", 'person', 'film', 'yet', 'late', 'father', 'parkinson', \"'s\", 'declin', 'http', ':', '//t.co/swqc3bnygx'], ['rt', '@', 'mtngirllisa', ':', '@', 'robertdowneyjr', 'love', 'documentari', '!', 'favorit', 'festiv', 'year', '.', '❤️'], ['rt', '@', 'coasttcoastgirl', ':', 'sr.', 'favorit', 'film', 'tellurid', 'film', 'fest', 'year', '.', 'relat', ',', 'heart', 'wrench', ',', 'heart', 'warm', '.', 'beauti', '.', '#', '…'], ['rt', '@', 'byclaytondavi', ':', 'studio', \"'s\", 'interest', 'get', 'nomin', 'possibl', 'win', 'best', 'documentari', 'featur', 'run', 'acquire…'], ['wow', '!', '!', '!', 'gloriou', 'weekend', 'tellurid', '#', 'tff', 'thanx', 'juli', 'huntsing', 'experi', 'warm', 'welcom', 'documentari', '“', 'sr.', '”', 'peer', ',', 'celebr', 'film', 'without', 'pretens', 'refresh', 'mountain', 'air…', '(', 'photo', ':', 'getti', 'imag', ')', 'http', ':', '//t.co/b3xoogfmbh'], ['rt', '@', 'hankpalm', ':', 'okay', ',', 'michel', 'yeoh', ',', 'robert', 'downey', 'jr', ',', 'cate', 'blanchett', ',', 'jeremi', 'strong', 'one', 'frame', '.', 'world', 'collid', 'im-', 'https…'], ['rt', '@', 'globaleventmari', ':', 'actor', 'robert', 'downey', 'jr.', 'premier', '’', 'film', '“', 'sr.', '”', 'tellurid', 'film', 'fest', '#', 'tellurid', '#', 'tff49', '#', 'tff', '#', 'noordinarylifememoir', 'h…'], ['rt', '@', 'jghorn', ':', 'light', 'moment', 'delight', 'convers', '@', 'robertdowneyjr', ',', 'sr.', 'must', 'see', 'portrait', 'held', 'audienc', 'captive…'], ['rt', '@', 'marlameridith', ':', 'film', '“', 'sr.', '”', 'premier', '#', 'telluridefilmfestiv', 'wild', 'ride', 'film', 'document', 'robert', 'downi', 'sr.', '&', 'amp', ';', '@', 'robertdowneyjr…'], ['rt', '@', 'andreamandel', ':', '“', '’', 'kind', 'redempt', 'stori', \"n't\", 'happi', 'end', ',', \"'s\", 'funni', '.', 'favorit', 'kind', 'sto…'], ['rt', '@', 'beccamford', ':', 'special', '#', 'telluridefilmfestiv', 'brunch', 'today', ',', 'spoke', 'robert', 'downey', 'jr.', ',', 'first', 'attend', 'festiv', 'w…'], ['rt', '@', 'seanfennessey', ':', '“', 'sr.', '”', '(', 'smith', ',', '2022', ')', ':', '’', 'never', 'seen', 'anyth', 'like', ',', 'robert', 'downey', 'jr.', '’', 'tender', ',', 'crack', 'ode', 'father', ',', 'unde…'], ['rt', '@', 'andreamandel', ':', '’', 'peek', 'experienc', 'last', 'night', 'watch', 'robert', 'downey', 'jr', '’', 'move', 'documentari', '#', 'sr', '#', 'telluridefilmf…'], ['rt', '@', 'joshuahorowitz', ':', '#', 'tellurid', 'film', 'leav', 'emot', 'wreck', 'sr.', 'may', 'outdon', '.', 'love', 'love', 'love', 't…'], ['today', 'mark', '17', 'year', 'unadulter', 'marit', 'bliss', '..', 'susan', ',', 'bedrock', ',', 'touchston', 'lucki', 'star', 'boot', '.', 'http', ':', '//t.co/njg1gl13tk'], ['’', '#', 'futuretechfriday', ',', 'folk', '!', 'recent', 'honor', 'join', 'exec', 'advisori', 'board', 'k.', 'lisa', 'yang', 'bionic', 'center', '@', 'mit', '.', '@', 'drhughherr', 'team', 'nobl', 'quest', 'chang', 'human', 'augment', 'ground-break', 'tech', '.', 'watch', 'here', ':', 'http', ':', '//t.co/5mg97m36xu', 'http', ':', '//t.co/1yyef3t887'], ['adventur', 'bionic', '?', 'tune', 'tomorrow', 'see', 'highlight', 'recent', 'trip', 'boston', '.', 'http', ':', '//t.co/oahat1mi7k'], ['build', 'better', 'futur', '?', 'give', 'peopl', 'opportun', 'creat', '.', 'taken', 'togeth', 'congress', 'reshap', 'american', 'economi', 'give', '$', '440', 'billion', 'make', 'american', 'industri', 'resili', ',', 'reliabl', ',', 'sustain', '.', 'tomorrowland', 'come', '.', 'http', ':', '//t.co/fonuat2pbm'], ['’', 'inaugur', '#', 'futuretechfriday', '&', 'amp', ';', 'partner', '@', 'red6ar', 'push', 'boundari', 'aviat', 'train', '.', 'check', 'interview', 'daniel', 'robinson', '|', '@', 'red6ceo', '(', 'ceo/found', ')', 'see', 'red', '6', 'chang', 'game', 'defens', 'train', 'here', ':', 'http', ':', '//t.co/f3ytipcibv', 'http', ':', '//t.co/dhoxb3tqam'], ['everi', '1m', 'spent', 'bike', 'lane', 'creat', '18', 'job', 'amount', 'regular', 'auto', 'centric', 'roads…let', '“', 'self-propel', '”', 'planet', 'future….', '#', 'bikelanesrock', 'http', ':', '//t.co/hmw96jbe5j'], ['rt', '@', 'fp_coalit', ':', 'tour', 'mit', 'architectur', ',', 'lit', 'fig', '...', 'inspir', 'hugh', 'herr', \"'s\", 'center', 'bionic', ',', 'majesti', 'beantown', 'whol…'], ['rt', '@', 'fp_coalit', ':', '.', '@', 'zeroacrefarm', 'tastiest', 'way', 'fight', 'deforest', '.', 'reli', 'ferment', 'deforest', 'make', 'delec…'], ['rt', '@', 'oppenheimerfilm', ':', 'cillian', 'murphi', 'j.', 'robert', 'oppenheim', '.', 'watch', 'announc', '.', '#', 'oppenheim', 'http', ':', '//t.co/jva4j59br0', 'http', ':', '//t.co/c90…'], ['’', 'honor', 'privileg', 'execut', 'advisori', 'board', 'member', ',', '’', 'excit', 'make', '’', 'part', 'heroic', 'journey', 'brighter', 'futur', '.'], ['optogenet', '!', 'biomechatron', '!', 'osseointegr', '!', 'magnetomicrometri', '!', 'toni', 'stark', 'went', 'mit', ',', 'thank', 'hugh', 'herr', 'k.', 'lisa', 'yang', 'center', 'bionic', ',', \"'m\", 'wit', 'real', 'world', 'technolog', 'miracl', 'affect', 'countless', 'live', 'previous', 'unimagin', 'way', '.', 'http', ':', '//t.co/rgoipdikim'], ['rt', '@', 'oppenheimerfilm', ':', '#', 'oppenheim', '-', 'theater', '7', '21', '23', 'http', ':', '//t.co/olb1rlnnzl'], [\"'re\", 'alway', 'creat', 'strong', 'bond', 'anim', ',', 'old', 'new', '.', 'tell', 'u', ',', 'watch', '#', 'thebond', '@', 'discoveryplu', ':', 'http', ':', '//t.co/zyajfcrsut', 'http', ':', '//t.co/j30zkmrbum'], ['rt', '@', 'discoveri', ':', 'bond', 'human', 'anim', 'captur', 'like', '’', 'never', 'seen', '...', 'execut', 'produc', '@', 'robertdowneyjr', 'su…'], ['rt', '@', 'fp_coalit', ':', 'need', 'new', 'way', 'power', 'world', '.', \"'s\", '@', 'robertdowneyjr', 'footprint', 'coalit', 'work', '@', 'secgran…'], ['headspac', '-', 'indio', 'ink', ':', 'http', ':', '//t.co/3rzfqdrkrh', 'http', ':', '//t.co/01mzubpwk'], ['’', 'final', '!', 'headspac', 'indio', 'ink', 'band', '-', 'tell', 'think', '-', 'download', '!', '!', '!', 'http', ':', '//t.co/3rzfqdrkrh', 'http', ':', '//t.co/hajp4a7tj9'], ['http', ':', '//t.co/eexdwgj7kf'], ['congrat', 'order', 'malibu', 'littl', 'leagu', '2022', 'aaa', 'champ', '!', 'big', 'thank', 'coach', 'alfano', ',', 'coach', 'sullivan', 'coach', 'mark', '.', 'dodger', 'brought', 'heat', '!', '!', '!', 'http', ':', '//t.co/fqo6ikexhq'], ['http', ':', '//t.co/u9ujttmewx'], ['http', ':', '//t.co/rb6r8g2h7r'], ['http', ':', '//t.co/8lwjfsdsj2'], ['http', ':', '//t.co/ysmgwb0gr'], ['http', ':', '//t.co/wa3kojitj3'], ['http', ':', '//t.co/ijauwrtgtn'], ['1', 'year', 'anniversari', 'jimmi', 'rich', '’', 'cosmic', 'mic', 'drop', ',', 'felt', 'need', 'share', 'glimps', 'lightn', 'wit', ',', 'huge', 'heart', ',', 'time', ',', 'profound', 'simplic', '.', 'http', ':', '//t.co/ufi6s2ep14'], ['rt', '@', 'fp_coalit', ':', \"'s\", '#', 'earthday', 'mean', 'offici', '#', 'footprintcoalit', 't-shirt', '!', 'get', ':', 'http', ':', '//t.co/5b…'], ['wait', ',', 'final', '...', '@', 'footprintcoalit', 't-shirt', '!', 'get', ':', 'http', ':', '//t.co/cdzjzm10ar', 'http', ':', '//t.co/qljjmjgv4p'], ['rt', '@', 'fp_coalit', ':', 'come', 'hither', ',', \"'s\", 'stori', 'time', '!', '#', 'footprintcoalit', 't-shirt', 'offici', 'drop', 'tomorrow', '9a', 'pst', '!', '!', 'http', ':', '//t.co/jsycagqs…'], ['ask', 'shall', 'receiv', '!', '!', '!', '@', 'fp_coalit', 'partner', '@', 'for___day', 'creat', 'limit', 'run', '#', 'footprintcoalit', 't-shirt', '.', 'shirt', 'sale', 'thi', 'friday', '(', '4/22', ')', 'celebr', '#', 'earthday', '9a', 'pst', '!', '!', 'stay', 'tune', 'more…', 'http', ':', '//t.co/a8yo217usu'], ['http', ':', '//t.co/oohisfzkq2'], ['rebirth', 'renew', 'http', ':', '//t.co/bkulw32cff'], ['http', ':', '//t.co/ylp9sqam0x'], [\"'re\", 'feel', 'love', '#', 'wackyhatwednesday', '-', 'let', \"'s\", 'see', \"'s\", 'top', 'noggin', 'week', '!', 'http', ':', '//t.co/ggkkzyo8nq'], ['’', '@', 'theoutsetskin', '!', 'http', ':', '//t.co/bjaw0vdw8n'], ['technolog', 'suck', 'carbon', 'air', 'captur', 'just', 'import', 'stop', 'global', 'warm', 'build', 'new', 'renew', 'energi', '.', 'ny', \"'s\", '#', 'cdrla', 'bill', 'first', 'real', 'propos', 'help', 'get', 'market', '.', 'leadership', 'inde', '.', '@', 'govkathyhochul', 'http', ':', '//t.co/kczfhxwulp'], ['consult', 'dr.', '@', 'walipriyanka', 'significantli', 'le', 'smart', '@', 'seanhay', ',', 'prognosi', 'good', 'die', 'felin', 'fang', 'bite', '!', 'inspect', 'u', 'podcast', '@', 'hypochonactor', ':', 'http', ':', '//t.co/q0rmutwuuf', 'http', ':', '//t.co/abnpdqoqyv'], ['o.g', '.', 'jarvi', 'toni', 'take', 'hike', '.', 'http', ':', '//t.co/usrplskqbc'], ['🍟💩🐔🐘', '#', 'wackyhatwednesday', ',', 'get', '!', 'show', 'wacki', 'hat', '.', 'http', ':', '//t.co/bqjrdojvei'], ['rt', '@', 'fp_coalit', ':', 'let', \"'s\", 'show', 'mother', 'natur', 'love', '!', 'learn', 'help', 'planet', 'breakthrough', 'scienc', '#', 'valentinesday', '!', '💚', 'her…'], ['rt', '@', 'fp_coalit', ':', 'footprint', 'coalit', \"'s\", 'scienc', 'engin', 'first', '14', 'project', '.', 'read', 'more', ':', 'http', ':', '//t.co/uy87nbki4p', 'http', ':', '//t.co/9y9nih4knd'], ['rt', '@', 'rachelkropa', ':', 'first', 'round', 'project', '@', 'fp_coalit', 'scienc', 'engin', 'deserv', 'first-ev', 'tweet', '!', 'join', 'u', 'fund', ',', 'share…'], ['rt', '@', 'rottentomato', ':', '#', 'sweettooth', 'win', '#', 'goldentomato', 'award', 'best-review', 'fantasy/sci-fi', 'tv', 'seri', '2021.', 'http', ':', '//t.co/m50cksxsdh', 'ht…'], ['’', 'never', 'written', 'op-', 'before…what', '’', 'face', 'urgent', '.', 'thx', '@', 'fastcompanyi', 'hope', 'take', 'minut', 'day', 'read', 'incred', 'scientist', 'work', 'particip', '.', 'http', ':', '//t.co/wf7wayx2xj', 'http', ':', '//t.co/n4ku9m69go'], ['http', ':', '//t.co/izz2g8lelv'], ['http', ':', '//t.co/yc3d9ziwt0'], ['’', 'friday', ',', '’', 'blast', 'beatl', ',', 'go', 'memori', 'lane', 'continu', 'mission', 'today', 'great', 'cause…w', 'autograph', 'brag', 'right', 'help', 'planet', 'earth', '?', 'thought', '-', 'check', 'link', ':', 'http', ':', '//t.co/k1cwtu7oum', 'http', ':', '//t.co/manurjim17'], ['hit', 'pen', 'paper', 'today', 'make', 'planet', 'greener', '.', 'get', 'today', ':', 'http', ':', '//t.co/k1cwtu7oum', 'http', ':', '//t.co/bzslgqwwzl'], ['want', 'christma', 'minkdog', '!', 'spice', 'blend', ',', 'salt', ',', 'mapl', 'product', 'taken', 'sometim', 'bunko', 'cook', 'fledgl', 'master', 'chef', '.', 'the', 'clock', 'tick', 'thi', 'limit', 'drop', ',', 'snag', 'today', \"'s\", 'too', 'late', '.', 'http', ':', '//t.co/gxvokumahq', 'http', ':', '//t.co/13icym6lbo'], ['rt', '@', 'fp_coalit', ':', 'let', \"'s\", 'catch', 'new', 'technolog', ',', 'methan', 'ga', 'reduct', '#', 'cop26', '!', 'continu', 'convers', 'u', ':', 'http', ':', '//…'], ['adjust', 'halo', 'heaven', 'sent', 'partner', 'mr', '..', 'everyth', ',', 'novemb', '6th', ',', 'alway', 'day', 'gratitud', ',', 'bless', 'birth', '.', 'p.', '.', 'never', 'watch', 'ahead', 'co-view', 'stream', 'show', '..', 'etern', 'vow…', 'http', ':', '//t.co/dvzp1hk5ba'], ['http', ':', '//t.co/r3nfcitlia'], ['dearest', 'daughter', 'avri', '’', '7th', 'bday', 'gave', 'kid', 'want', '.', 'clearli', 'mob', 'violenc', '.', 'http', ':', '//t.co/ioypwmygb4'], ['aspir', '?', 'support', 'compani', 'plan', 'planet', 'child', 'inherit', '.', '@', 'aspir', 'found', 'way', 'everyday', 'purchas', '.', 'therefor', ',', '’', 'compani', 'support', '.', '#', 'spendsustain', 'sign', ':', 'http', ':', '//t.co/7muehfrmsz', 'http', ':', '//t.co/ji19yd797w'], ['tomorrow', '.', '#', 'aspir', 'http', ':', '//t.co/maeign7rt6'], ['“', 'everyth', 'worth', 'essenti', 'startup', 'infancy.', '”', 'http', ':', '//t.co/thuubcmnba', '#', 'linkedintopstartup', 'http', ':', '//t.co/ikituioq9t'], ['rt', '@', 'linkedin', ':', '@', 'robertdowneyjr', '@', 'jshieber', 'share', 'insight', 'journey', 'start', '@', 'fp_coalit', 'celebr', '2021', '#', 'linkedinto…'], ['’', '#', 'carfreeday', ',', 'let', 'flip', 'script', '!', 'http', ':', '//t.co/abyqrza3ra'], ['rt', '@', 'ebioatla', ':', 'first', 'river', 'basin', 'project', 'take', 'place', 'tanzania', '’', 'malagarasi', 'wetland', ',', 'fund', '@', 'robertdowneyjr', '’', '@', 'fp…'], ['rt', '@', 'fp_coalit', ':', 'greenback', 'green', 'caus', '!', '!', '’', 'team', '@', 'swau_offici', 'sign', 'bunch', 'autograph', 'proceed…'], ['greenback', 'green', 'caus', '!', '!', '’', 'team', '@', 'swau_offici', 'sign', 'bunch', 'autograph', 'proce', 'go', '@', 'fp_coalit', 'help', 'support', 'environment', 'chariti', '!', '🙏🌎', 'link', ':', 'http', ':', '//t.co/yvb0mdjzrx', 'http', ':', '//t.co/acrrejdxrh'], ['want', 'share', 'all…sifu', 'eric', 'oram…th', 'pas', 'torch', ',', 'absolut', 'honor', '.', '’', 'learn', 'best', 'happili', 'carri', 'mantl', '.', 'http', ':', '//t.co/xmn1vyak6c'], ['rt', '@', 'fp_coalit', ':', 'co2', 'emiss', 'largest', 'contributor', 'climat', 'chang', '.', 'compani', 'work', 'take', 'gase', 'directli', 'f…'], ['crew', 'bose', 'downey', 'x=chang', '(', 'bdx', ')', '…alway', 'ask', '’', '“', 'x', '”', '…but', 'throw', ',', '#', 'whatsyourx', '?', 'http', ':', '//t.co/ssx0hjxiov'], ['rt', '@', 'fp_coalit', ':', '’', '@', 'robertdowneyjr', 'littl', '“', 'quot', 'day', '”', 'frank', 'lloyd', 'wright', ',', 'inspir', 'friday', '!', '🙏🌎🏡', 'http', ':', '//t.c…'], ['good', 'friend', 'valentino', 'vettori', ',', 'mastermind', 'geniu', 'behind', '@', 'arcadiaearth', '.', 'use', 'immers', 'experi', 'show', 'posit', 'shape', 'futur', 'planet', '?', '!', '🌎', '’', 'brainer', 'http', ':', '//t.co/uskcb3ycym'], ['rt', '@', 'fp_coalit', ':', 'explor', 'underwat', 'world', ',', 'fantasi', 'land', 'learn', 'togeth', 'shape', 'futur', 'planet', '🌎', 'adventur', 'awaits…']]\n"
     ]
    }
   ],
   "source": [
    "stemmer = PorterStemmer()\n",
    "lemmatizer = WordNetLemmatizer()\n",
    "\n",
    "processedTweets = []\n",
    "\n",
    "for tweet in tweets:\n",
    "    # Convert the tweet to lowercase using REGEX\n",
    "    for f in re.findall(\"([A-Z]+)\", tweet):\n",
    "        tweet = tweet.replace(f, f.lower())\n",
    "    \n",
    "    # From a single sentence, store all the words \n",
    "    wordsInTweet = nltk.word_tokenize(tweet)\n",
    "    \n",
    "    # Filter out all the stop words\n",
    "    wordsInTweet = [word for word in wordsInTweet if word not in set(stopwords.words('english'))]\n",
    "    \n",
    "    # Stem each of the tweets\n",
    "    wordsInTweet = [stemmer.stem(word) for word in wordsInTweet if word not in set(stopwords.words('english'))]\n",
    "    \n",
    "    # Lemmatize each of the tweets\n",
    "    wordsInTweet = [lemmatizer.lemmatize(word) for word in wordsInTweet]\n",
    "    \n",
    "    # Append them to a list\n",
    "    processedTweets.append(wordsInTweet)\n",
    "    \n",
    "print(processedTweets)"
   ]
  },
  {
   "attachments": {},
   "cell_type": "markdown",
   "metadata": {},
   "source": [
    "---"
   ]
  }
 ],
 "metadata": {
  "kernelspec": {
   "display_name": "Python 3",
   "language": "python",
   "name": "python3"
  },
  "language_info": {
   "codemirror_mode": {
    "name": "ipython",
    "version": 3
   },
   "file_extension": ".py",
   "mimetype": "text/x-python",
   "name": "python",
   "nbconvert_exporter": "python",
   "pygments_lexer": "ipython3",
   "version": "3.10.6"
  },
  "orig_nbformat": 4,
  "vscode": {
   "interpreter": {
    "hash": "916dbcbb3f70747c44a77c7bcd40155683ae19c65e1c03b4aa3499c5328201f1"
   }
  }
 },
 "nbformat": 4,
 "nbformat_minor": 2
}
