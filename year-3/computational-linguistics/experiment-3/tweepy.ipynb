{
  "cells": [
    {
      "cell_type": "code",
      "execution_count": 8,
      "metadata": {
        "colab": {
          "base_uri": "https://localhost:8080/",
          "height": 418
        },
        "id": "wsSLYJrtOwXy",
        "outputId": "1c3c4d0a-30f0-42cc-819a-32bf67b336ab"
      },
      "outputs": [
        {
          "name": "stdout",
          "output_type": "stream",
          "text": [
            "Defaulting to user installation because normal site-packages is not writeable\n",
            "Requirement already satisfied: tweepy==4.3.0 in /home/volt/.local/lib/python3.10/site-packages (4.3.0)\n",
            "Requirement already satisfied: requests-oauthlib<2,>=1.0.0 in /home/volt/.local/lib/python3.10/site-packages (from tweepy==4.3.0) (1.3.1)\n",
            "Requirement already satisfied: requests<3,>=2.11.1 in /home/volt/.local/lib/python3.10/site-packages (from tweepy==4.3.0) (2.28.2)\n",
            "Requirement already satisfied: urllib3<1.27,>=1.21.1 in /usr/lib/python3/dist-packages (from requests<3,>=2.11.1->tweepy==4.3.0) (1.26.5)\n",
            "Requirement already satisfied: charset-normalizer<4,>=2 in /home/volt/.local/lib/python3.10/site-packages (from requests<3,>=2.11.1->tweepy==4.3.0) (3.0.1)\n",
            "Requirement already satisfied: idna<4,>=2.5 in /usr/lib/python3/dist-packages (from requests<3,>=2.11.1->tweepy==4.3.0) (3.3)\n",
            "Requirement already satisfied: certifi>=2017.4.17 in /usr/lib/python3/dist-packages (from requests<3,>=2.11.1->tweepy==4.3.0) (2020.6.20)\n",
            "Requirement already satisfied: oauthlib>=3.0.0 in /usr/lib/python3/dist-packages (from requests-oauthlib<2,>=1.0.0->tweepy==4.3.0) (3.2.0)\n"
          ]
        }
      ],
      "source": [
        "!pip install tweepy==4.3.0"
      ]
    },
    {
      "cell_type": "code",
      "execution_count": 9,
      "metadata": {
        "id": "A1vT3cJFQPtH"
      },
      "outputs": [],
      "source": [
        "import tweepy\n",
        "import pandas as pd"
      ]
    },
    {
      "cell_type": "code",
      "execution_count": 10,
      "metadata": {
        "id": "rJuUnRgeO6Ad"
      },
      "outputs": [],
      "source": [
        "client = tweepy.Client(bearer_token = r\"AAAAAAAAAAAAAAAAAAAAABOPlQEAAAAAYoHQzq8vbsNh%2FTFqD9LkojExab8%3D5UzN6cub1Mpb3CpiDZVkddn2x29Z17lGaFqjjvcrZsq1jWyTHA\")"
      ]
    },
    {
      "cell_type": "code",
      "execution_count": 11,
      "metadata": {
        "id": "s5WdAK8UQYnc"
      },
      "outputs": [],
      "source": [
        "user=client.get_user(username='Slash').data\n",
        "user_id = user.id\n",
        "user_name = user.name\n",
        "tweets = client.get_users_tweets(id=user_id, tweet_fields=['id', 'text', 'created_at', 'context_annotations'], max_results=100)\n",
        "df = []\n",
        "for tweet in tweets.data:\n",
        "    df.append(tweet)"
      ]
    },
    {
      "cell_type": "code",
      "execution_count": 12,
      "metadata": {
        "id": "XhH8a-qLS9HP"
      },
      "outputs": [],
      "source": [
        "df = pd.DataFrame(df)"
      ]
    },
    {
      "cell_type": "code",
      "execution_count": 13,
      "metadata": {
        "colab": {
          "base_uri": "https://localhost:8080/",
          "height": 641
        },
        "id": "-c1ut5D-TCqX",
        "outputId": "eb21a124-feca-4a64-dcdc-d182fb918c64"
      },
      "outputs": [
        {
          "data": {
            "text/plain": [
              "Index(['context_annotations', 'created_at', 'edit_history_tweet_ids', 'id',\n",
              "       'text'],\n",
              "      dtype='object')"
            ]
          },
          "execution_count": 13,
          "metadata": {},
          "output_type": "execute_result"
        }
      ],
      "source": [
        "df.columns"
      ]
    },
    {
      "cell_type": "code",
      "execution_count": 14,
      "metadata": {
        "id": "Vr2VbCxcTExa"
      },
      "outputs": [],
      "source": [
        "df.to_csv(\"tweet.csv\")"
      ]
    }
  ],
  "metadata": {
    "colab": {
      "provenance": []
    },
    "kernelspec": {
      "display_name": "Python 3",
      "language": "python",
      "name": "python3"
    },
    "language_info": {
      "codemirror_mode": {
        "name": "ipython",
        "version": 3
      },
      "file_extension": ".py",
      "mimetype": "text/x-python",
      "name": "python",
      "nbconvert_exporter": "python",
      "pygments_lexer": "ipython3",
      "version": "3.10.6"
    },
    "vscode": {
      "interpreter": {
        "hash": "916dbcbb3f70747c44a77c7bcd40155683ae19c65e1c03b4aa3499c5328201f1"
      }
    }
  },
  "nbformat": 4,
  "nbformat_minor": 0
}
