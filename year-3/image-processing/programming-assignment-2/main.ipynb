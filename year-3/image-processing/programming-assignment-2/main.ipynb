{
  "cells": [
    {
      "cell_type": "markdown",
      "metadata": {
        "colab_type": "text",
        "id": "view-in-github"
      },
      "source": [
        "<a href=\"https://colab.research.google.com/github/0xVolt/cemetery-of-culture/blob/main/year-3/image-processing/programming-assignment-2/main.ipynb\" target=\"_parent\"><img src=\"https://colab.research.google.com/assets/colab-badge.svg\" alt=\"Open In Colab\"/></a>"
      ]
    },
    {
      "cell_type": "markdown",
      "metadata": {
        "id": "SEiglB-zxuVe"
      },
      "source": [
        "# Image Processing Programming Assignment 2\n",
        "### *Question*\n",
        "Take an image of yourself and apply various edge detection algorithms. Experiment with adding noise to the image artificially with various kinds of noises. Analyse the histogram of the noisy and regular images before and after applying the edge detection algorithms. Apply image segmentation with thresholding, OATS and other segmentation techniques. As a bonus, use HOG, SIFT and SURF algorithms to extract the features from the image.\n",
        "\n",
        "### *To do*\n",
        "- Get an image to work with\n",
        "- Get the image's histogram\n",
        "- Add noise to the image. Try,\n",
        "  - Gaussian noise\n",
        "  - etc.\n",
        "  - Check out the image's histogram and compare\n",
        "- Apply edge detection algorithms\n",
        "  - First order\n",
        "    - Sobel filter\n",
        "    - Pivot filter\n",
        "  - Second order\n",
        "    - Laplacian filter\n",
        "  - Canny edge detector\n",
        "  - Analyse efficiency and quality of images that come off the filters\n",
        "    - Histograms\n",
        "    - Side-by-side comparison\n",
        "    - etc.\n",
        "- "
      ]
    },
    {
      "cell_type": "markdown",
      "metadata": {
        "id": "MuAMofaOxuVg"
      },
      "source": []
    }
  ],
  "metadata": {
    "colab": {
      "include_colab_link": true,
      "provenance": []
    },
    "language_info": {
      "name": "python"
    },
    "orig_nbformat": 4
  },
  "nbformat": 4,
  "nbformat_minor": 0
}
