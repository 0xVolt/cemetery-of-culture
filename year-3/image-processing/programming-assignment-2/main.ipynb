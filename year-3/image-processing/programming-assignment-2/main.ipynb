{
 "cells": [
  {
   "cell_type": "markdown",
   "metadata": {},
   "source": [
    "# Image Processing Programming Assignment 2\n",
    "### *Question*\n",
    "Take an image of yourself and apply various edge detection algorithms. Experiment with adding noise to the image artificially with various kinds of noises. Analyse the histogram of the noisy and regular images before and after applying the edge detection algorithms. Apply image segmentation with thresholding, OATS and other segmentation techniques. As a bonus, use HOG, SIFT and SURF algorithms to extract the features from the image.\n",
    "\n",
    "### To do\n",
    "- Get an image to work with\n",
    "- "
   ]
  },
  {
   "cell_type": "markdown",
   "metadata": {},
   "source": []
  }
 ],
 "metadata": {
  "language_info": {
   "name": "python"
  },
  "orig_nbformat": 4
 },
 "nbformat": 4,
 "nbformat_minor": 2
}
