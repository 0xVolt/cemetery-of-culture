{
 "cells": [
  {
   "cell_type": "markdown",
   "metadata": {},
   "source": [
    "# Image Processing Programming Assignment 2\n",
    "### *Question*\n",
    "Take an image of yourself and apply various edge detection algorithms. Experiment with adding noise to the image artificially with various kinds of noises. Analyse the histogram of the noisy and regular images before and after applying the edge detection algorithms. \n",
    "\n",
    "## To do\n"
   ]
  },
  {
   "cell_type": "markdown",
   "metadata": {},
   "source": []
  }
 ],
 "metadata": {
  "language_info": {
   "name": "python"
  },
  "orig_nbformat": 4
 },
 "nbformat": 4,
 "nbformat_minor": 2
}
