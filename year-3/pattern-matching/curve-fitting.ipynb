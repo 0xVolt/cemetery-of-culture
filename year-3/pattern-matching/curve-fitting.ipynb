{
 "cells": [
  {
   "attachments": {},
   "cell_type": "markdown",
   "metadata": {},
   "source": [
    "# Curve Fitting"
   ]
  },
  {
   "attachments": {},
   "cell_type": "markdown",
   "metadata": {},
   "source": [
    "Importing the necessary libraries."
   ]
  },
  {
   "cell_type": "code",
   "execution_count": 108,
   "metadata": {},
   "outputs": [],
   "source": [
    "from sklearn.datasets import make_regression\n",
    "import numpy as np\n",
    "import matplotlib.pyplot as plt\n"
   ]
  },
  {
   "attachments": {},
   "cell_type": "markdown",
   "metadata": {},
   "source": [
    "Function to print out the summary statistics of a variable."
   ]
  },
  {
   "cell_type": "code",
   "execution_count": 109,
   "metadata": {},
   "outputs": [],
   "source": [
    "def printSummary(var, x):\n",
    "    print(\"\\nSummary Statistics for '{}'\".format(var))\n",
    "    print(f\"Mean = {np.mean(x)}\\nStandard Deviation = {np.std(x)}\")\n"
   ]
  },
  {
   "attachments": {},
   "cell_type": "markdown",
   "metadata": {},
   "source": [
    "Creating a dataset using `sklearn.datasets.make_regression()` to then fit a curve to. Here, the dataset generated will have 100 samples with 1 feature and a single target. "
   ]
  },
  {
   "cell_type": "code",
   "execution_count": 110,
   "metadata": {},
   "outputs": [],
   "source": [
    "X, t = make_regression(100, 1, shuffle=True, bias=1, noise=50, random_state=5)\n"
   ]
  },
  {
   "attachments": {},
   "cell_type": "markdown",
   "metadata": {},
   "source": [
    "Printing a sample of our data points."
   ]
  },
  {
   "cell_type": "code",
   "execution_count": 116,
   "metadata": {},
   "outputs": [
    {
     "data": {
      "text/plain": [
       "array([[-0.43570392],\n",
       "       [-0.24071114],\n",
       "       [ 1.01842113],\n",
       "       [ 0.34691933],\n",
       "       [ 0.71242127],\n",
       "       [ 0.24921766],\n",
       "       [ 0.10960984],\n",
       "       [-0.82412345],\n",
       "       [ 2.43077119],\n",
       "       [-0.10716398]])"
      ]
     },
     "execution_count": 116,
     "metadata": {},
     "output_type": "execute_result"
    }
   ],
   "source": [
    "X[:10]"
   ]
  },
  {
   "attachments": {},
   "cell_type": "markdown",
   "metadata": {},
   "source": [
    "Printing a sample of our target."
   ]
  },
  {
   "cell_type": "code",
   "execution_count": 117,
   "metadata": {},
   "outputs": [
    {
     "data": {
      "text/plain": [
       "array([-31.53744214,  28.14318909,  41.3591961 , -54.64996919,\n",
       "       -28.57765494, 122.12710178,  16.95707296,  -8.04164948,\n",
       "       188.86608423,   2.02868678])"
      ]
     },
     "execution_count": 117,
     "metadata": {},
     "output_type": "execute_result"
    }
   ],
   "source": [
    "t[0:10]"
   ]
  },
  {
   "attachments": {},
   "cell_type": "markdown",
   "metadata": {},
   "source": [
    "Shape of X and t."
   ]
  },
  {
   "cell_type": "code",
   "execution_count": 111,
   "metadata": {},
   "outputs": [
    {
     "data": {
      "text/plain": [
       "((100, 1), (100,))"
      ]
     },
     "execution_count": 111,
     "metadata": {},
     "output_type": "execute_result"
    }
   ],
   "source": [
    "X.shape, t.shape"
   ]
  },
  {
   "attachments": {},
   "cell_type": "markdown",
   "metadata": {},
   "source": [
    "Printing the summary statistics for X and t."
   ]
  },
  {
   "cell_type": "code",
   "execution_count": 112,
   "metadata": {},
   "outputs": [
    {
     "name": "stdout",
     "output_type": "stream",
     "text": [
      "\n",
      "Summary Statistics for 'X'\n",
      "Mean = 0.09154664386777672\n",
      "Standard Deviation = 0.9309767032155012\n",
      "\n",
      "Summary Statistics for 't'\n",
      "Mean = 14.561680212888286\n",
      "Standard Deviation = 76.01383324775472\n"
     ]
    }
   ],
   "source": [
    "printSummary('X', X)\n",
    "printSummary('t', t)\n"
   ]
  },
  {
   "attachments": {},
   "cell_type": "markdown",
   "metadata": {},
   "source": [
    "## Linear Fitting"
   ]
  },
  {
   "cell_type": "code",
   "execution_count": 113,
   "metadata": {},
   "outputs": [
    {
     "name": "stdout",
     "output_type": "stream",
     "text": [
      "\n",
      "\n",
      "y-Intercept = 9.235013697164373\n",
      "Slope = 58.18527354664536\n"
     ]
    }
   ],
   "source": [
    "# Calculate mean of both variables\n",
    "xMean = np.mean(X)\n",
    "tMean = np.mean(t)\n",
    "\n",
    "# Calculate deltaX, deltaT and deltaXSquare\n",
    "deltaX = [float(i - xMean) for i in X]\n",
    "deltaXSquare = [float(pow(i, 2)) for i in X]\n",
    "deltaT = [float(i - tMean) for i in t]\n",
    "\n",
    "# Calculate the list in the numerator\n",
    "productDelta = []\n",
    "for i in range(0, len(deltaT)):\n",
    "    productDelta.append(deltaX[i] * deltaT[i])\n",
    "\n",
    "# Calculate slope and y-intercept\n",
    "slope = sum(productDelta) / sum(deltaXSquare)\n",
    "yIntercept = tMean - (slope * xMean)\n",
    "\n",
    "# Print final output\n",
    "print(f'\\n\\ny-Intercept = {yIntercept}\\nSlope = {slope}')"
   ]
  },
  {
   "cell_type": "code",
   "execution_count": 114,
   "metadata": {},
   "outputs": [
    {
     "data": {
      "image/png": "[encoded data removed]",
      "text/plain": [
       "<Figure size 640x480 with 1 Axes>"
      ]
     },
     "metadata": {},
     "output_type": "display_data"
    }
   ],
   "source": [
    "# Create a list of values in the best fit line\n",
    "bestFitLine = [(slope * i + yIntercept) for i in X]\n",
    "\n",
    "# Plot the best fit line over the actual values\n",
    "plt.scatter(X, t)\n",
    "plt.plot(X, bestFitLine, 'r--')\n",
    "\n",
    "plt.show()"
   ]
  },
  {
   "cell_type": "code",
   "execution_count": 115,
   "metadata": {},
   "outputs": [],
   "source": [
    "#%%\n",
    "\n",
    "# Resources\n",
    "# 1. https://scikit-learn.org/stable/modules/generated/sklearn.datasets.make_regression.html\n",
    "# 2. https://www.geeksforgeeks.org/random-seed-in-python/"
   ]
  }
 ],
 "metadata": {
  "kernelspec": {
   "display_name": "Python 3",
   "language": "python",
   "name": "python3"
  },
  "language_info": {
   "codemirror_mode": {
    "name": "ipython",
    "version": 3
   },
   "file_extension": ".py",
   "mimetype": "text/x-python",
   "name": "python",
   "nbconvert_exporter": "python",
   "pygments_lexer": "ipython3",
   "version": "3.10.6"
  },
  "orig_nbformat": 4,
  "vscode": {
   "interpreter": {
    "hash": "916dbcbb3f70747c44a77c7bcd40155683ae19c65e1c03b4aa3499c5328201f1"
   }
  }
 },
 "nbformat": 4,
 "nbformat_minor": 2
}
