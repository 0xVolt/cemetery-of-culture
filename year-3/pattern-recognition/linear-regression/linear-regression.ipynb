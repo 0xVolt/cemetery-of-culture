{
 "cells": [
  {
   "attachments": {},
   "cell_type": "markdown",
   "metadata": {},
   "source": [
    "# Experiment Details\n",
    "\n",
    "## Submitted By\n",
    "Desh Iyer, 500081889, Year III, AI/ML(H), B5"
   ]
  },
  {
   "cell_type": "code",
   "execution_count": 7,
   "metadata": {},
   "outputs": [],
   "source": [
    "from sklearn.linear_model import LinearRegression\n",
    "from sklearn.datasets import make_regression\n",
    "import numpy as np\n",
    "import matplotlib.pyplot as plt"
   ]
  },
  {
   "cell_type": "code",
   "execution_count": 8,
   "metadata": {},
   "outputs": [],
   "source": [
    "# Function to print the summary statistics of a variable\n",
    "def printSummary(var, x):\n",
    "    print(\"\\nSummary Statistics for '{}'\".format(var))\n",
    "    print(f\"Mean = {np.mean(x)}\\nStandard Deviation = {np.std(x)}\")"
   ]
  },
  {
   "cell_type": "code",
   "execution_count": 9,
   "metadata": {},
   "outputs": [
    {
     "name": "stdout",
     "output_type": "stream",
     "text": [
      "\n",
      "Summary Statistics for 'x'\n",
      "Mean = 0.09154664386777672\n",
      "Standard Deviation = 0.9309767032155012\n",
      "\n",
      "Summary Statistics for 't'\n",
      "Mean = 9.478600133225886\n",
      "Standard Deviation = 60.8084611275079\n"
     ]
    },
    {
     "data": {
      "image/png": "[encoded data removed]",
      "text/plain": [
       "<Figure size 640x480 with 1 Axes>"
      ]
     },
     "metadata": {},
     "output_type": "display_data"
    }
   ],
   "source": [
    "# Create training dataset to test linear regression\n",
    "X, t = make_regression(100, 1, shuffle=True, bias=0, noise=25, random_state=5)\n",
    "\n",
    "# Printing the summary statistics\n",
    "printSummary('x', X)\n",
    "printSummary('t', t)\n",
    "\n",
    "# Plotting scatter plot\n",
    "plt.scatter(X, t)\n",
    "plt.show()"
   ]
  },
  {
   "cell_type": "code",
   "execution_count": 10,
   "metadata": {},
   "outputs": [],
   "source": [
    "# Calculate mean of both variables\n",
    "xMean = np.mean(X)\n",
    "tMean = np.mean(t)\n",
    "\n",
    "# Calculate deltaX, deltaT and deltaXSquare\n",
    "deltaX = [float(i - xMean) for i in X]\n",
    "deltaXSquare = [float(pow(i, 2)) for i in X]\n",
    "deltaT = [float(i - tMean) for i in t]\n",
    "\n",
    "# Calculate the list in the numerator\n",
    "productDelta = []\n",
    "for i in range(0, len(deltaT)):\n",
    "    productDelta.append(deltaX[i] * deltaT[i])"
   ]
  },
  {
   "cell_type": "code",
   "execution_count": 11,
   "metadata": {},
   "outputs": [
    {
     "name": "stdout",
     "output_type": "stream",
     "text": [
      "\n",
      "\n",
      "Slope = 58.27910999576034\n",
      "Bias (or) y-Intercept = 4.143343205513028\n",
      "\n"
     ]
    }
   ],
   "source": [
    "# Calculate slope and y-intercept\n",
    "m = sum(productDelta) / sum(deltaXSquare)\n",
    "c = tMean - (m * xMean)\n",
    "\n",
    "# Print final output\n",
    "print('\\n\\nSlope = {}\\nBias (or) y-Intercept = {}\\n'.format(m, c))"
   ]
  },
  {
   "cell_type": "code",
   "execution_count": 14,
   "metadata": {},
   "outputs": [
    {
     "name": "stdout",
     "output_type": "stream",
     "text": [
      "Regression score: 0.8115849010376874\n",
      "Slope = 58.84264401600654\n",
      "Bias / y-Intercept = 4.091753557254172\n",
      "\n",
      "Method #1 (From scratch)\n",
      "m = 58.27910999576034 | c = 4.143343205513028\n",
      "\n",
      "Method #2 (Using sklearn)\n",
      "m = 58.84264401600654 | c = 4.091753557254172\n"
     ]
    }
   ],
   "source": [
    "# Note: slope (m) ==> beta_1 || y-intercept (c) ==> beta_0\n",
    "\n",
    "# Using an alternate method using sklearn sub-modules\n",
    "reg = LinearRegression().fit(X, t)\n",
    "\n",
    "print(\"Regression score:\", reg.score(X, t))\n",
    "\n",
    "# Obtain m and c from attributes of variable reg\n",
    "slope = float(reg.coef_)\n",
    "bias = reg.intercept_\n",
    "\n",
    "# Printing details\n",
    "print(\"Slope = {}\\nBias / y-Intercept = {}\".format(slope, bias))\n",
    "print(f'\\nMethod #1 (From scratch)\\nm = {m} | c = {c}')\n",
    "print(f'\\nMethod #2 (Using sklearn)\\nm = {slope} | c = {bias}')"
   ]
  }
 ],
 "metadata": {
  "kernelspec": {
   "display_name": "Python 3",
   "language": "python",
   "name": "python3"
  },
  "language_info": {
   "codemirror_mode": {
    "name": "ipython",
    "version": 3
   },
   "file_extension": ".py",
   "mimetype": "text/x-python",
   "name": "python",
   "nbconvert_exporter": "python",
   "pygments_lexer": "ipython3",
   "version": "3.10.6"
  },
  "orig_nbformat": 4,
  "vscode": {
   "interpreter": {
    "hash": "916dbcbb3f70747c44a77c7bcd40155683ae19c65e1c03b4aa3499c5328201f1"
   }
  }
 },
 "nbformat": 4,
 "nbformat_minor": 2
}
