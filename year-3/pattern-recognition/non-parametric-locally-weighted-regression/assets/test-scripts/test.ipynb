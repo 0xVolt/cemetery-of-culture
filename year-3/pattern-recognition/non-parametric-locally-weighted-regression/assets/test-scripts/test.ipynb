{
 "cells": [
  {
   "attachments": {},
   "cell_type": "markdown",
   "metadata": {},
   "source": [
    "# Experiment 10 - Implementing Non Parametric Locally Weighted Regression on Non-linear Data\n",
    "\n",
    "## Theory\n",
    "\n",
    "### Parametric vs Non-Parametric Learning Algorithms\n",
    "Parametric — In a Parametric Algorithm, we have a fixed set of parameters such as theta that we try to find(the optimal value) while training the data. After we have found the optimal values for these parameters, we can put the data aside or erase it from the computer and just use the model with parameters to make predictions. Remember, the model is just a function.\n",
    "\n",
    "Non-Parametric — In a Non-Parametric Algorithm, you always have to keep the data and the parameters in your computer memory to make predictions. And that’s why this type of algorithm may not be great if you have a really really massive dataset.\n",
    "\n",
    "### Need for NPLW Regression\n",
    "We specifically apply this regression technique when the data to fit is non-linear. In Linear Regression we would fit a straight line to this data but that won’t work here because the data is non-linear and our predictions would end up having large errors. We need to fit a curved line so that our error is minimized.\n",
    "\n",
    "### How NPLW Regression Works\n",
    "In Locally weighted linear regression, we give the model the `x` where we want to make the prediction, then the model gives all the `x(i)`’s around that `x` a higher weight close to one, and the rest of `x(i)`’s get a lower weight close to zero and then tries to fit a straight line to that weighted `x(i)`’s data.\n",
    "\n",
    "This means that if want to make a prediction for the green point on the x-axis (see figure below), the model gives higher weight to the input data i.e. `x(i)`’s near or around the circle above the green point and all else `x(i)` get a weight close to zero, which results in the model fitting a straight line only to the data which is near or close to the circle. The same goes for the purple, yellow, and grey points on the x-axis.\n",
    "\n",
    "![](./assets/NPLWR-graph.webp)\n",
    "\n",
    "### Important Formulae\n",
    "In Linear regression, we had the following loss function \n",
    "\n",
    "![](./assets/linear-regression-loss-function.webp)\n",
    "\n",
    "The modified loss for locally weighted regression \n",
    "\n",
    "![](./assets/modified-loss-function.webp)\n",
    "\n",
    "`w(i)` (the weight for the ith training example) is the only modification.\n",
    "\n",
    "where the weighting function is, \n",
    "\n",
    "![](./assets/weighting-function.webp)\n",
    "\n",
    "`x` is the point where we want to make the prediction. `x(i)` is the `ith` training example.\n",
    "\n",
    "The value of this function is always between 0 and 1.\n",
    "\n",
    "So, if we look at the function, we see that\n",
    "\n",
    "    If |x(i)-x| is small, w(i) is close to 1.\n",
    "    If |x(i)-x| is large, w(i) is close to 0.\n",
    "\n",
    "The `x(i)`’s which are far from `x` get `w(i)` close to zero and the ones which are close to `x`, get `w(i)` close to 1.\n",
    "\n",
    "### Calculating Error\n",
    "In the loss function, it translates to error terms for the `x(i)`’s which are far from `x` being multiplied by almost zero and for the `x(i)`’s which are close to `x` get multiplied by almost 1. In short, it only sums over the error terms for the `x(i)`’s which are close to `x`.\n",
    "\n",
    "### Algorithm\n",
    "Actually, there exists a closed-form solution for this algorithm which means that we do not have to train the model, we can directly calculate the parameter theta using the following formula.\n",
    "\n",
    "![](./assets/closed-form-solution-for-theta.webp)"
   ]
  },
  {
   "attachments": {},
   "cell_type": "markdown",
   "metadata": {},
   "source": [
    "# Code"
   ]
  },
  {
   "attachments": {},
   "cell_type": "markdown",
   "metadata": {},
   "source": [
    "## Importing Libraries"
   ]
  },
  {
   "cell_type": "code",
   "execution_count": 27,
   "metadata": {},
   "outputs": [],
   "source": [
    "import numpy as np\n",
    "import matplotlib.pyplot as plt\n",
    "import warnings\n",
    "\n",
    "%matplotlib inline\n",
    "\n",
    "warnings.filterwarnings('ignore')"
   ]
  },
  {
   "attachments": {},
   "cell_type": "markdown",
   "metadata": {},
   "source": [
    "## Generating Non-linear Data\n",
    "A good way to create a non-linear dataset is to mix sines with different phases. The dataset we will work with in this experiment is created with the following Python script and exported to a CSV file."
   ]
  },
  {
   "attachments": {},
   "cell_type": "markdown",
   "metadata": {},
   "source": [
    "Create a variable to set the number of samples to create."
   ]
  },
  {
   "cell_type": "code",
   "execution_count": 28,
   "metadata": {},
   "outputs": [],
   "source": [
    "numberSamples = 500"
   ]
  },
  {
   "attachments": {},
   "cell_type": "markdown",
   "metadata": {},
   "source": [
    "Now, creating a lambda function that takes the input and convolves it as a mixture of two `cos` functions."
   ]
  },
  {
   "cell_type": "code",
   "execution_count": 29,
   "metadata": {},
   "outputs": [],
   "source": [
    "deLinearise = lambda X: np.cos(1.5 * np.pi * X) + np.cos(5 * np.pi * X)"
   ]
  },
  {
   "attachments": {},
   "cell_type": "markdown",
   "metadata": {},
   "source": [
    "Now, creating `X` and `y` using the above function and `np.random.rand`."
   ]
  },
  {
   "cell_type": "code",
   "execution_count": 30,
   "metadata": {},
   "outputs": [],
   "source": [
    "X = np.sort(np.random.rand(numberSamples)) * 2\n",
    "y = deLinearise(X) + np.random.randn(numberSamples) * 0.1"
   ]
  },
  {
   "attachments": {},
   "cell_type": "markdown",
   "metadata": {},
   "source": [
    "Here's what `X` looks like."
   ]
  },
  {
   "cell_type": "code",
   "execution_count": 31,
   "metadata": {},
   "outputs": [
    {
     "data": {
      "text/plain": [
       "(array([1.99145551e-03, 1.25085277e-02, 2.09454536e-02, 2.24680603e-02,\n",
       "        2.35339512e-02, 2.87076503e-02, 3.26174292e-02, 3.90923918e-02,\n",
       "        4.01810898e-02, 5.05851797e-02, 5.15115338e-02, 5.48947584e-02,\n",
       "        6.24590695e-02, 6.36206906e-02, 6.58396046e-02, 6.80494628e-02,\n",
       "        7.30966265e-02, 7.31181162e-02, 8.25734743e-02, 8.36277727e-02,\n",
       "        8.66893669e-02, 8.85607962e-02, 9.04598178e-02, 9.55257617e-02,\n",
       "        9.72074030e-02, 9.98689130e-02, 1.05600596e-01, 1.09296517e-01,\n",
       "        1.09929628e-01, 1.13504179e-01, 1.15018475e-01, 1.16850426e-01,\n",
       "        1.22065527e-01, 1.26573675e-01, 1.29572774e-01, 1.34542905e-01,\n",
       "        1.37354902e-01, 1.42057479e-01, 1.42083534e-01, 1.45656003e-01,\n",
       "        1.48218395e-01, 1.50025752e-01, 1.52633961e-01, 1.54251593e-01,\n",
       "        1.58546201e-01, 1.60237824e-01, 1.65762043e-01, 1.67009644e-01,\n",
       "        1.69016145e-01, 1.87777272e-01, 1.87863625e-01, 1.93425401e-01,\n",
       "        1.94851162e-01, 1.94985269e-01, 1.95549295e-01, 2.05059843e-01,\n",
       "        2.08262502e-01, 2.16469809e-01, 2.22952129e-01, 2.24513620e-01,\n",
       "        2.32749547e-01, 2.37344294e-01, 2.44816134e-01, 2.48881956e-01,\n",
       "        2.52787812e-01, 2.54466057e-01, 2.60716786e-01, 2.67328010e-01,\n",
       "        2.79817933e-01, 2.86562661e-01, 2.86965809e-01, 2.87635179e-01,\n",
       "        2.88718559e-01, 2.89830184e-01, 2.90224359e-01, 2.91379134e-01,\n",
       "        2.93446015e-01, 2.94446032e-01, 2.94738363e-01, 2.96653647e-01,\n",
       "        2.97833988e-01, 3.01695847e-01, 3.15036055e-01, 3.18326993e-01,\n",
       "        3.18579144e-01, 3.24310843e-01, 3.29559336e-01, 3.32853876e-01,\n",
       "        3.33405135e-01, 3.34115083e-01, 3.35462677e-01, 3.41964972e-01,\n",
       "        3.42763793e-01, 3.55793574e-01, 3.56330074e-01, 3.57874370e-01,\n",
       "        3.58159781e-01, 3.62517870e-01, 3.66405556e-01, 3.67065868e-01,\n",
       "        3.67633351e-01, 3.67687529e-01, 3.72135563e-01, 3.72747432e-01,\n",
       "        3.76737361e-01, 3.80262409e-01, 3.85906704e-01, 3.86494596e-01,\n",
       "        3.96611367e-01, 4.00210326e-01, 4.01059363e-01, 4.03266912e-01,\n",
       "        4.05755101e-01, 4.08621550e-01, 4.09459761e-01, 4.10207373e-01,\n",
       "        4.20825101e-01, 4.22339712e-01, 4.26335529e-01, 4.30216807e-01,\n",
       "        4.30433359e-01, 4.35233962e-01, 4.36306857e-01, 4.37441693e-01,\n",
       "        4.39138911e-01, 4.43976803e-01, 4.46496651e-01, 4.52190829e-01,\n",
       "        4.52452753e-01, 4.54741995e-01, 4.64336480e-01, 4.64521376e-01,\n",
       "        4.64947386e-01, 4.65269095e-01, 4.66631325e-01, 4.79340791e-01,\n",
       "        4.83481770e-01, 4.84302341e-01, 4.99609575e-01, 4.99768822e-01,\n",
       "        5.02988859e-01, 5.03906128e-01, 5.04924207e-01, 5.05826187e-01,\n",
       "        5.06214038e-01, 5.11461077e-01, 5.26544247e-01, 5.31378947e-01,\n",
       "        5.32133693e-01, 5.37085761e-01, 5.37417171e-01, 5.37729502e-01,\n",
       "        5.38090896e-01, 5.38144889e-01, 5.40169974e-01, 5.41421442e-01,\n",
       "        5.42366546e-01, 5.43747671e-01, 5.45812643e-01, 5.67420352e-01,\n",
       "        5.73010015e-01, 5.78125357e-01, 5.81875558e-01, 5.81907923e-01,\n",
       "        5.85141027e-01, 5.89786625e-01, 5.92450727e-01, 5.94085044e-01,\n",
       "        6.01559149e-01, 6.02163264e-01, 6.07258682e-01, 6.08291527e-01,\n",
       "        6.18051704e-01, 6.20962822e-01, 6.26087624e-01, 6.30543728e-01,\n",
       "        6.31277508e-01, 6.32977057e-01, 6.33568579e-01, 6.34656421e-01,\n",
       "        6.35722064e-01, 6.37755325e-01, 6.41250352e-01, 6.46818685e-01,\n",
       "        6.56092503e-01, 6.56984259e-01, 6.58371787e-01, 6.61755993e-01,\n",
       "        6.68848604e-01, 6.75489397e-01, 6.76903648e-01, 6.85944108e-01,\n",
       "        6.89012119e-01, 6.89940391e-01, 6.94846236e-01, 6.95798943e-01,\n",
       "        6.96910758e-01, 7.02478972e-01, 7.06068335e-01, 7.06358442e-01,\n",
       "        7.06567976e-01, 7.14207740e-01, 7.18689783e-01, 7.19506800e-01,\n",
       "        7.21234149e-01, 7.26066423e-01, 7.26900256e-01, 7.27508532e-01,\n",
       "        7.37285120e-01, 7.41977784e-01, 7.53426592e-01, 7.55776460e-01,\n",
       "        7.65930932e-01, 7.66405892e-01, 7.71995672e-01, 7.75836289e-01,\n",
       "        7.81338052e-01, 7.82246803e-01, 7.82594654e-01, 7.82880965e-01,\n",
       "        7.83500806e-01, 7.84192104e-01, 7.85853651e-01, 7.86078678e-01,\n",
       "        7.89477151e-01, 7.90837901e-01, 7.94783437e-01, 7.98606297e-01,\n",
       "        7.98708112e-01, 7.99210531e-01, 7.99286767e-01, 7.99379844e-01,\n",
       "        8.01982574e-01, 8.02777017e-01, 8.04748454e-01, 8.07341475e-01,\n",
       "        8.11306417e-01, 8.12694961e-01, 8.13675158e-01, 8.17081444e-01,\n",
       "        8.17953487e-01, 8.17957773e-01, 8.28029844e-01, 8.29812620e-01,\n",
       "        8.30980943e-01, 8.33819052e-01, 8.34924335e-01, 8.57879695e-01,\n",
       "        8.66283830e-01, 8.67957937e-01, 8.71402729e-01, 8.75296235e-01,\n",
       "        8.80811285e-01, 8.97433095e-01, 8.98016508e-01, 9.07600040e-01,\n",
       "        9.10595656e-01, 9.13070908e-01, 9.30342678e-01, 9.38312997e-01,\n",
       "        9.47750642e-01, 9.49100129e-01, 9.52244658e-01, 9.56811519e-01,\n",
       "        9.72121576e-01, 9.72998501e-01, 9.76966778e-01, 9.78374091e-01,\n",
       "        9.86500879e-01, 9.99912440e-01, 1.00335394e+00, 1.01202211e+00,\n",
       "        1.01595149e+00, 1.01660351e+00, 1.01824370e+00, 1.02612689e+00,\n",
       "        1.02858373e+00, 1.02990697e+00, 1.03126218e+00, 1.03140356e+00,\n",
       "        1.03183543e+00, 1.03700737e+00, 1.03963308e+00, 1.04637100e+00,\n",
       "        1.05589537e+00, 1.06366710e+00, 1.06898411e+00, 1.07176335e+00,\n",
       "        1.08296640e+00, 1.08652101e+00, 1.08743672e+00, 1.08848662e+00,\n",
       "        1.10167238e+00, 1.10913866e+00, 1.11036221e+00, 1.11121420e+00,\n",
       "        1.11206687e+00, 1.13490364e+00, 1.14023204e+00, 1.14029955e+00,\n",
       "        1.14639958e+00, 1.14694898e+00, 1.14872866e+00, 1.15086389e+00,\n",
       "        1.15586391e+00, 1.16297187e+00, 1.16527444e+00, 1.16661390e+00,\n",
       "        1.17294511e+00, 1.17472300e+00, 1.17490079e+00, 1.18135989e+00,\n",
       "        1.18505046e+00, 1.18736578e+00, 1.20295288e+00, 1.20793562e+00,\n",
       "        1.20892685e+00, 1.21914979e+00, 1.22840474e+00, 1.23112389e+00,\n",
       "        1.24586568e+00, 1.25285222e+00, 1.25297678e+00, 1.25635923e+00,\n",
       "        1.26178074e+00, 1.26753321e+00, 1.26876948e+00, 1.27565001e+00,\n",
       "        1.27586220e+00, 1.27795026e+00, 1.28805080e+00, 1.29807281e+00,\n",
       "        1.30234475e+00, 1.31930799e+00, 1.32010533e+00, 1.32027031e+00,\n",
       "        1.32871787e+00, 1.33122466e+00, 1.33365186e+00, 1.33602284e+00,\n",
       "        1.33675317e+00, 1.34549304e+00, 1.34817907e+00, 1.35408697e+00,\n",
       "        1.36003189e+00, 1.36047294e+00, 1.36581642e+00, 1.37112161e+00,\n",
       "        1.37675738e+00, 1.38338640e+00, 1.38889533e+00, 1.39341428e+00,\n",
       "        1.39992422e+00, 1.40418071e+00, 1.40962341e+00, 1.41123133e+00,\n",
       "        1.41591197e+00, 1.41688633e+00, 1.42155458e+00, 1.42580395e+00,\n",
       "        1.42808418e+00, 1.42835795e+00, 1.43035119e+00, 1.43149562e+00,\n",
       "        1.43378809e+00, 1.43708392e+00, 1.43781492e+00, 1.44121385e+00,\n",
       "        1.44525501e+00, 1.44706077e+00, 1.45320555e+00, 1.45984221e+00,\n",
       "        1.46174782e+00, 1.46353784e+00, 1.47316918e+00, 1.47823698e+00,\n",
       "        1.49295626e+00, 1.50086356e+00, 1.50431816e+00, 1.50588002e+00,\n",
       "        1.50631014e+00, 1.51207474e+00, 1.51330189e+00, 1.51465621e+00,\n",
       "        1.51520282e+00, 1.51671760e+00, 1.52025481e+00, 1.52238124e+00,\n",
       "        1.52253130e+00, 1.52630203e+00, 1.52690763e+00, 1.52966249e+00,\n",
       "        1.53882883e+00, 1.55168476e+00, 1.56052991e+00, 1.56079468e+00,\n",
       "        1.56504023e+00, 1.56567462e+00, 1.56988140e+00, 1.57701517e+00,\n",
       "        1.58333607e+00, 1.58395068e+00, 1.58776144e+00, 1.58962793e+00,\n",
       "        1.59261869e+00, 1.59707157e+00, 1.59775749e+00, 1.60199400e+00,\n",
       "        1.60745750e+00, 1.61727854e+00, 1.61932954e+00, 1.61980764e+00,\n",
       "        1.63258893e+00, 1.63588356e+00, 1.63790395e+00, 1.64023317e+00,\n",
       "        1.64225639e+00, 1.64538289e+00, 1.64950831e+00, 1.65049558e+00,\n",
       "        1.66530381e+00, 1.67047109e+00, 1.67288036e+00, 1.67630050e+00,\n",
       "        1.67720110e+00, 1.68020813e+00, 1.68437910e+00, 1.69027136e+00,\n",
       "        1.69129621e+00, 1.69451937e+00, 1.70199357e+00, 1.70515402e+00,\n",
       "        1.70840832e+00, 1.71480980e+00, 1.71932602e+00, 1.72108509e+00,\n",
       "        1.72185396e+00, 1.72915169e+00, 1.73890578e+00, 1.74118714e+00,\n",
       "        1.74270554e+00, 1.74286531e+00, 1.74319665e+00, 1.74365168e+00,\n",
       "        1.75100375e+00, 1.75476718e+00, 1.76238490e+00, 1.77438848e+00,\n",
       "        1.77731296e+00, 1.78802626e+00, 1.78891329e+00, 1.78916489e+00,\n",
       "        1.79748747e+00, 1.79812270e+00, 1.79940477e+00, 1.80602047e+00,\n",
       "        1.81571704e+00, 1.82515546e+00, 1.82552644e+00, 1.82978747e+00,\n",
       "        1.83754749e+00, 1.83943386e+00, 1.84049068e+00, 1.85890514e+00,\n",
       "        1.86462151e+00, 1.86944090e+00, 1.87838750e+00, 1.87878002e+00,\n",
       "        1.88284807e+00, 1.88714696e+00, 1.88844336e+00, 1.89447585e+00,\n",
       "        1.89533168e+00, 1.89638933e+00, 1.89740844e+00, 1.89830072e+00,\n",
       "        1.89915998e+00, 1.90115602e+00, 1.90141803e+00, 1.90318616e+00,\n",
       "        1.91471479e+00, 1.91944142e+00, 1.92269476e+00, 1.92439839e+00,\n",
       "        1.93248166e+00, 1.93387465e+00, 1.94743773e+00, 1.95326965e+00,\n",
       "        1.95376977e+00, 1.95803033e+00, 1.95850670e+00, 1.97427642e+00,\n",
       "        1.97531364e+00, 1.97956900e+00, 1.97991445e+00, 1.98305738e+00,\n",
       "        1.98990298e+00, 1.99367352e+00, 1.99739119e+00, 1.99944145e+00]),\n",
       " (500,))"
      ]
     },
     "execution_count": 31,
     "metadata": {},
     "output_type": "execute_result"
    }
   ],
   "source": [
    "X, X.shape"
   ]
  },
  {
   "attachments": {},
   "cell_type": "markdown",
   "metadata": {},
   "source": [
    "And now, `y`."
   ]
  },
  {
   "cell_type": "code",
   "execution_count": 32,
   "metadata": {},
   "outputs": [
    {
     "data": {
      "text/plain": [
       "(array([ 2.05248910e+00,  1.84240549e+00,  1.91097281e+00,  2.06112215e+00,\n",
       "         2.09751955e+00,  1.81979156e+00,  1.84181961e+00,  1.73575607e+00,\n",
       "         1.84654727e+00,  1.76643048e+00,  1.60964774e+00,  1.81071382e+00,\n",
       "         1.63559861e+00,  1.58139904e+00,  1.53863222e+00,  1.37138338e+00,\n",
       "         1.28270700e+00,  1.37039397e+00,  1.39755275e+00,  1.23391838e+00,\n",
       "         1.26616196e+00,  1.22934701e+00,  1.14417059e+00,  9.82411629e-01,\n",
       "         7.93975278e-01,  9.46549300e-01,  8.44407718e-01,  8.01869376e-01,\n",
       "         7.27694825e-01,  6.26510319e-01,  5.04065310e-01,  4.99792576e-01,\n",
       "         5.59954959e-01,  3.60592465e-01,  4.30896706e-01,  2.75381069e-01,\n",
       "         3.33473590e-01,  1.41315504e-01,  1.86633984e-01,  6.33841105e-04,\n",
       "         1.13522507e-01,  2.05790435e-01,  2.88328163e-02,  1.19730215e-01,\n",
       "        -9.89782452e-02, -9.37023101e-02, -3.59501441e-01, -2.08080017e-01,\n",
       "        -1.14091485e-01, -1.84087550e-01, -1.12271895e-01, -3.49876322e-01,\n",
       "        -3.26172193e-01, -3.65256636e-01, -4.03115706e-01, -3.84635468e-01,\n",
       "        -3.67751415e-01, -4.47268391e-01, -2.06062866e-01, -5.33099863e-01,\n",
       "        -3.95171597e-01, -3.30336050e-01, -1.40726154e-01, -1.57015029e-01,\n",
       "        -4.21618541e-01, -3.42179860e-01, -2.63058329e-01, -1.69676776e-01,\n",
       "        -1.20485465e-01,  2.25206084e-01,  2.17149606e-03,  1.03555604e-01,\n",
       "         1.15978721e-01,  3.15532638e-02,  7.96574121e-02, -6.40222672e-03,\n",
       "         2.23761239e-01,  3.24829495e-03,  1.05511280e-01,  1.40862603e-01,\n",
       "         1.00607815e-01,  1.89960881e-01,  2.90753603e-01,  2.54838476e-01,\n",
       "         2.96925003e-01,  4.18028822e-01,  2.97055113e-01,  4.89467304e-01,\n",
       "         5.48688057e-01,  5.27571143e-01,  3.83744443e-01,  4.12698401e-01,\n",
       "         5.76370536e-01,  6.15230738e-01,  7.17528610e-01,  7.26673234e-01,\n",
       "         6.64656432e-01,  7.79699518e-01,  5.46430728e-01,  7.51559057e-01,\n",
       "         7.37350963e-01,  6.66014029e-01,  8.26345496e-01,  6.90860174e-01,\n",
       "         6.78046285e-01,  6.48155439e-01,  7.08159586e-01,  8.55312467e-01,\n",
       "         6.31440620e-01,  6.53116709e-01,  8.36067459e-01,  6.42278315e-01,\n",
       "         7.70349968e-01,  6.95847143e-01,  5.81043323e-01,  7.00141840e-01,\n",
       "         4.29963399e-01,  6.44278463e-01,  4.91063224e-01,  4.14162652e-01,\n",
       "         3.53597179e-01,  3.87439066e-01,  4.82227345e-01,  3.75271958e-01,\n",
       "         1.95639385e-01,  2.96523528e-01,  3.04356850e-01,  4.44170306e-02,\n",
       "         3.21790683e-01, -1.10647595e-02, -1.22376604e-01, -3.02029732e-02,\n",
       "        -3.72918112e-02, -1.35379689e-01, -6.56336407e-02, -1.77169469e-01,\n",
       "        -5.37602803e-01, -2.38924045e-01, -8.00265676e-01, -7.42441503e-01,\n",
       "        -8.15286519e-01, -7.62068838e-01, -8.14167148e-01, -8.13528836e-01,\n",
       "        -8.70309472e-01, -1.03987608e+00, -1.12438055e+00, -1.45902946e+00,\n",
       "        -1.19196749e+00, -1.45148321e+00, -1.33903231e+00, -1.53503823e+00,\n",
       "        -1.25848555e+00, -1.39011142e+00, -1.36800657e+00, -1.58500107e+00,\n",
       "        -1.57238135e+00, -1.47307271e+00, -1.49119384e+00, -1.97333108e+00,\n",
       "        -1.90659647e+00, -1.79681231e+00, -1.86064184e+00, -1.91521107e+00,\n",
       "        -1.85342756e+00, -1.96087306e+00, -1.86191019e+00, -1.94179731e+00,\n",
       "        -2.05535752e+00, -1.97242363e+00, -2.01030797e+00, -1.96410947e+00,\n",
       "        -1.95932789e+00, -1.95419427e+00, -1.80413060e+00, -1.80531438e+00,\n",
       "        -1.80429129e+00, -1.86033159e+00, -1.86752172e+00, -1.88775514e+00,\n",
       "        -1.85397517e+00, -1.78838258e+00, -1.66042732e+00, -1.82116487e+00,\n",
       "        -1.56449463e+00, -1.49919733e+00, -1.51487260e+00, -1.60795853e+00,\n",
       "        -1.61307953e+00, -1.34501525e+00, -1.30801518e+00, -1.06289996e+00,\n",
       "        -9.72175998e-01, -1.02094107e+00, -1.13116859e+00, -1.08787671e+00,\n",
       "        -1.00147479e+00, -8.54597419e-01, -9.23549341e-01, -7.04788136e-01,\n",
       "        -9.60093745e-01, -7.72137586e-01, -7.37492820e-01, -5.18296922e-01,\n",
       "        -6.96064803e-01, -6.54609191e-01, -7.62187824e-01, -6.51622075e-01,\n",
       "        -3.28220819e-01, -4.78551753e-01, -1.45083126e-01, -2.44575362e-01,\n",
       "        -8.63599612e-02, -8.39648865e-02, -1.91672086e-01,  9.35978139e-02,\n",
       "         6.32900757e-02,  3.60148617e-03,  1.90114249e-01,  2.06858223e-01,\n",
       "         3.08766427e-01,  1.85653742e-01,  1.05483941e-01, -6.53812729e-02,\n",
       "         1.45793165e-01, -4.89530448e-03,  6.10774474e-02,  1.81235589e-01,\n",
       "         3.24008190e-01,  2.31066001e-01,  3.41966233e-02,  2.60275087e-01,\n",
       "         1.68008338e-01,  1.53803252e-01,  1.64116666e-01,  5.98246157e-02,\n",
       "         1.60803828e-01,  3.46939063e-01,  1.68442997e-01,  1.63300022e-01,\n",
       "         1.56028914e-01,  2.94121424e-01,  7.64124675e-02,  2.45618439e-02,\n",
       "         8.65753653e-02,  2.39221407e-01,  1.46686984e-01,  1.74914980e-01,\n",
       "        -1.40358780e-01, -2.53026384e-01, -2.15023055e-01, -1.83656935e-01,\n",
       "        -1.55235589e-01, -2.04073145e-01, -6.12407583e-01, -6.91081783e-01,\n",
       "        -6.22024014e-01, -4.63194155e-01, -6.71182724e-01, -7.91009731e-01,\n",
       "        -8.67365378e-01, -9.93299622e-01, -1.06663521e+00, -9.91652264e-01,\n",
       "        -1.22764871e+00, -1.00558440e+00, -1.07868736e+00, -1.07323627e+00,\n",
       "        -1.01634393e+00, -1.19132509e+00, -9.70584641e-01, -8.48570354e-01,\n",
       "        -9.70544393e-01, -9.24856504e-01, -7.56110983e-01, -8.06403982e-01,\n",
       "        -8.29125521e-01, -7.11218010e-01, -6.27198083e-01, -9.13284181e-01,\n",
       "        -7.09737386e-01, -8.79548567e-01, -6.14368689e-01, -4.36663174e-01,\n",
       "        -3.77121120e-01, -3.27437315e-01, -3.56024145e-01, -4.75545199e-02,\n",
       "         9.79620842e-02,  2.48465700e-01,  2.52641270e-01,  1.05027772e-01,\n",
       "         6.79001510e-01,  3.48389982e-01,  7.18129887e-01,  6.78093479e-01,\n",
       "         6.57861558e-01,  1.16651185e+00,  1.13807827e+00,  1.29817431e+00,\n",
       "         1.26822982e+00,  1.57574692e+00,  1.22743237e+00,  1.20413947e+00,\n",
       "         1.43197048e+00,  1.31439960e+00,  1.50134240e+00,  1.62603098e+00,\n",
       "         1.75126918e+00,  1.84240806e+00,  1.68517131e+00,  1.79238240e+00,\n",
       "         1.58293882e+00,  1.60852905e+00,  1.67138680e+00,  1.85487490e+00,\n",
       "         1.85648968e+00,  1.83990474e+00,  1.90446986e+00,  1.78921766e+00,\n",
       "         1.84750056e+00,  1.42589640e+00,  1.72773383e+00,  1.58598006e+00,\n",
       "         1.29999719e+00,  1.38775406e+00,  1.60578904e+00,  1.40388153e+00,\n",
       "         1.28431250e+00,  1.52570996e+00,  1.16510532e+00,  1.04859437e+00,\n",
       "         9.49953130e-01,  5.81111730e-01,  6.34328665e-01,  7.05925289e-01,\n",
       "         4.54609084e-01,  4.16528524e-01,  4.96282893e-01,  4.51208092e-01,\n",
       "         4.00431223e-01,  3.62021593e-01,  2.91408502e-01,  3.48647357e-01,\n",
       "         1.08033001e-01,  7.38074693e-02,  1.03360520e-01,  1.73347641e-01,\n",
       "         1.43872096e-02, -1.66682120e-02,  8.13980264e-02,  9.88974000e-02,\n",
       "        -6.51898684e-02,  5.28900236e-02, -2.13802273e-02,  2.98064089e-02,\n",
       "        -9.33824703e-04, -8.92434500e-03,  1.56177605e-02, -8.77968418e-02,\n",
       "        -1.11829555e-02,  5.92669736e-02,  1.88127627e-01, -7.56460296e-03,\n",
       "         1.07832754e-01,  1.17319318e-01,  3.32221088e-02, -3.84056357e-04,\n",
       "         1.21318585e-01,  7.70706068e-02,  1.28490569e-01,  3.69793470e-01,\n",
       "         3.40051233e-01,  3.65018300e-01,  3.12342578e-01,  5.18416689e-01,\n",
       "         6.65789771e-01,  8.86859984e-01,  6.58464814e-01,  7.46299062e-01,\n",
       "         8.88138651e-01,  8.23572225e-01,  9.87136851e-01,  7.85879071e-01,\n",
       "         7.25556550e-01,  7.90726743e-01,  7.95142635e-01,  1.04693875e+00,\n",
       "         1.03261960e+00,  1.13485429e+00,  1.14926833e+00,  1.07748679e+00,\n",
       "         9.79192577e-01,  1.45307614e+00,  1.32342903e+00,  1.29093560e+00,\n",
       "         1.52419233e+00,  1.41587340e+00,  1.24525682e+00,  1.37524204e+00,\n",
       "         1.31947247e+00,  1.32728014e+00,  1.46370063e+00,  1.27133102e+00,\n",
       "         1.30195933e+00,  1.16625822e+00,  1.38742746e+00,  1.17095714e+00,\n",
       "         1.27503092e+00,  1.10842627e+00,  1.26639400e+00,  1.07627054e+00,\n",
       "         9.47843321e-01,  9.79498249e-01,  9.64817819e-01,  9.34479043e-01,\n",
       "         9.54347665e-01,  8.33216151e-01,  9.13070823e-01,  8.17627782e-01,\n",
       "         6.33469819e-01,  3.26075355e-01,  3.36419146e-01,  2.65266892e-01,\n",
       "         2.73492712e-01,  2.11864189e-01,  2.59210775e-01, -3.89153481e-02,\n",
       "         2.37290981e-01, -1.21245501e-01, -9.31826049e-02, -3.12501505e-01,\n",
       "        -1.59382120e-01, -3.99493714e-01, -6.38813124e-01, -4.70073644e-01,\n",
       "        -7.03028234e-01, -6.52743419e-01, -9.37787343e-01, -1.05921332e+00,\n",
       "        -8.96214308e-01, -1.00183914e+00, -9.70414876e-01, -1.05972417e+00,\n",
       "        -1.04493090e+00, -1.08660103e+00, -1.34804473e+00, -1.41312505e+00,\n",
       "        -1.47701385e+00, -1.51934759e+00, -1.73857575e+00, -1.57244638e+00,\n",
       "        -1.58058222e+00, -1.70948991e+00, -1.52828031e+00, -1.63249335e+00,\n",
       "        -1.47005014e+00, -1.62462584e+00, -1.29251785e+00, -1.53984092e+00,\n",
       "        -1.76811581e+00, -1.55991622e+00, -1.45816018e+00, -1.39112074e+00,\n",
       "        -1.61821353e+00, -1.20105428e+00, -1.16687698e+00, -1.07333712e+00,\n",
       "        -9.83426053e-01, -1.11696892e+00, -9.38910878e-01, -9.10260708e-01,\n",
       "        -9.49303967e-01, -9.50204072e-01, -7.74988020e-01, -7.39901382e-01,\n",
       "        -7.34406661e-01, -9.43424632e-01, -8.46218218e-01, -9.05160454e-01,\n",
       "        -7.54180687e-01, -5.67243800e-01, -5.23294709e-01, -6.45075492e-01,\n",
       "        -4.86921536e-01, -5.19402484e-01, -4.45539625e-01, -3.28918995e-01,\n",
       "        -3.08850331e-01, -1.52961831e-01, -2.55350788e-01, -5.68945324e-02,\n",
       "        -2.51382852e-01, -4.48413543e-02, -6.83750269e-02, -1.87841053e-01,\n",
       "        -4.65879477e-02, -7.93616730e-02,  1.19642480e-01, -1.61861128e-01]),\n",
       " (500,))"
      ]
     },
     "execution_count": 32,
     "metadata": {},
     "output_type": "execute_result"
    }
   ],
   "source": [
    "y, y.shape"
   ]
  },
  {
   "attachments": {},
   "cell_type": "markdown",
   "metadata": {},
   "source": [
    "### Reshaping Arrays "
   ]
  },
  {
   "cell_type": "code",
   "execution_count": 33,
   "metadata": {},
   "outputs": [
    {
     "data": {
      "text/plain": [
       "(500, 1)"
      ]
     },
     "execution_count": 33,
     "metadata": {},
     "output_type": "execute_result"
    }
   ],
   "source": [
    "X = X.reshape(X.shape[0], 1)\n",
    "X.shape"
   ]
  },
  {
   "cell_type": "code",
   "execution_count": 34,
   "metadata": {},
   "outputs": [
    {
     "data": {
      "text/plain": [
       "(500, 1)"
      ]
     },
     "execution_count": 34,
     "metadata": {},
     "output_type": "execute_result"
    }
   ],
   "source": [
    "y = y.reshape(y.shape[0], 1)\n",
    "y.shape"
   ]
  },
  {
   "attachments": {},
   "cell_type": "markdown",
   "metadata": {},
   "source": [
    "## Calculating Predictions"
   ]
  },
  {
   "attachments": {},
   "cell_type": "markdown",
   "metadata": {},
   "source": [
    "Defining a function to calculate the diagonal weight matrix. This function takes in the test point, the training data and the value of `tau` which corresponds to the radius of the circle surrounding a point. All the points laying in the circle are considered for the regression problem. "
   ]
  },
  {
   "cell_type": "code",
   "execution_count": 35,
   "metadata": {},
   "outputs": [],
   "source": [
    "# Weight Matrix in code. It is a diagonal matrix.def wm(point, X, tau): \n",
    "def calculateWeightMatrix(point, X, tau):\n",
    "\t'''\n",
    "\tThe parameters of this function are,\n",
    "\ttau --> bandwidth\n",
    "\tX --> Training data.\n",
    "\tpoint --> the x where we want to make the prediction.\n",
    "\t''' \n",
    "\t\n",
    "\t# m is the No of training examples .\n",
    "\tm = X.shape[0] \n",
    "\t\n",
    "\t# Initialising W as an identity matrix.\n",
    "\tw = np.mat(np.eye(m)) \n",
    "\t\n",
    "\t# Calculating weights for all training examples [x(i)'s].\n",
    "\tfor i in range(m): \n",
    "\t\t\txi = X[i] \n",
    "\t\t\td = (-2 * tau * tau) \n",
    "\t\t\tw[i, i] = np.exp(np.dot((xi - point), (xi - point).T) / d) \n",
    "\t\t\t\n",
    "\treturn w"
   ]
  },
  {
   "attachments": {},
   "cell_type": "markdown",
   "metadata": {},
   "source": [
    "Now, defining a function to predict the `y` value for a point which uses the previously defined function to calculate the weight matrix."
   ]
  },
  {
   "cell_type": "code",
   "execution_count": 36,
   "metadata": {},
   "outputs": [],
   "source": [
    "def predict(X, y, point, tau):\n",
    "    # m = number of training examples.\n",
    "    m = X.shape[0]\n",
    "\n",
    "    # onesColumn = np.ones(m).reshape(m, 1)\n",
    "\n",
    "    # Appending a column of ones in X to add the bias term. Just one parameter: theta, that's why adding a column of ones to X and also adding a 1 for the point where we want to predict.\n",
    "    # X_ = np.append(X, onesColumn, axis=1)\n",
    "\n",
    "    # point is the x where we want to make the prediction.\n",
    "    # point_ = np.array([point, 1])\n",
    "\n",
    "    # Calculating the weight matrix using the wm function we wrote earlier.\n",
    "    w = calculateWeightMatrix(point, X, tau)\n",
    "    # w = calculateWeightMatrix(point_, X_, tau)\n",
    "\n",
    "    # Calculating parameter theta using the formula.\n",
    "    # theta = np.linalg.pinv(X_.T * (w * X_)) * (X_.T * (w * y))\n",
    "    theta = np.linalg.pinv(X.T * (w * X)) * (X.T * (w * y))\n",
    "\n",
    "    # Calculating predictions.\n",
    "    # pred = np.dot(point_, theta)\n",
    "    pred = np.dot(point, theta)\n",
    "\n",
    "    # Returning the theta and predictions\n",
    "    return theta, pred"
   ]
  },
  {
   "cell_type": "code",
   "execution_count": 37,
   "metadata": {},
   "outputs": [],
   "source": [
    "def getPredictionsForSingleTau(numberPredictions, tau):\n",
    "    # Empty list for storing predictions.\n",
    "    predictions = []\n",
    "\n",
    "    # Predicting for all numberPredictions values and storing them in predictions.\n",
    "    for point in X:\n",
    "        _, predicted = predict(X, y, point, tau)\n",
    "        predictions.append(predicted)\n",
    "\n",
    "    # Reshaping predictions\n",
    "    predictions = np.array(predictions).reshape(numberPredictions, 1)\n",
    "\n",
    "    return predictions"
   ]
  },
  {
   "attachments": {},
   "cell_type": "markdown",
   "metadata": {},
   "source": [
    "## Plotting Predictions"
   ]
  },
  {
   "cell_type": "code",
   "execution_count": 38,
   "metadata": {},
   "outputs": [],
   "source": [
    "def plotPredictions(XTest, predictionList, tauList):\n",
    "    plt.figure(figsize=(20, 15), dpi=80)\n",
    "\n",
    "    plt.plot(X, y, \"o\", color='orange', alpha=0.3, label='Training Data Points')\n",
    "\n",
    "    for i, prediction in enumerate(predictionList):\n",
    "        plt.plot(XTest, prediction, label='tau = {}'.format(tauList[i]))\n",
    "\n",
    "    plt.legend()\n",
    "    plt.show()"
   ]
  },
  {
   "attachments": {},
   "cell_type": "markdown",
   "metadata": {},
   "source": [
    "## Putting it all Together"
   ]
  },
  {
   "cell_type": "code",
   "execution_count": 39,
   "metadata": {},
   "outputs": [
    {
     "ename": "TypeError",
     "evalue": "'float' object is not subscriptable",
     "output_type": "error",
     "traceback": [
      "\u001b[0;31m---------------------------------------------------------------------------\u001b[0m",
      "\u001b[0;31mTypeError\u001b[0m                                 Traceback (most recent call last)",
      "Cell \u001b[0;32mIn[39], line 14\u001b[0m\n\u001b[1;32m     10\u001b[0m predictionList \u001b[39m=\u001b[39m getPredictionsForSingleTau(numberSamples, tau)\n\u001b[1;32m     12\u001b[0m predictionList \u001b[39m=\u001b[39m np\u001b[39m.\u001b[39marray(predictionList)\n\u001b[0;32m---> 14\u001b[0m plotPredictions(X, predictionList, tau)\n",
      "Cell \u001b[0;32mIn[38], line 7\u001b[0m, in \u001b[0;36mplotPredictions\u001b[0;34m(XTest, predictionList, tauList)\u001b[0m\n\u001b[1;32m      4\u001b[0m plt\u001b[39m.\u001b[39mplot(X, y, \u001b[39m\"\u001b[39m\u001b[39mo\u001b[39m\u001b[39m\"\u001b[39m, color\u001b[39m=\u001b[39m\u001b[39m'\u001b[39m\u001b[39morange\u001b[39m\u001b[39m'\u001b[39m, alpha\u001b[39m=\u001b[39m\u001b[39m0.3\u001b[39m, label\u001b[39m=\u001b[39m\u001b[39m'\u001b[39m\u001b[39mTraining Data Points\u001b[39m\u001b[39m'\u001b[39m)\n\u001b[1;32m      6\u001b[0m \u001b[39mfor\u001b[39;00m i, prediction \u001b[39min\u001b[39;00m \u001b[39menumerate\u001b[39m(predictionList):\n\u001b[0;32m----> 7\u001b[0m     plt\u001b[39m.\u001b[39mplot(XTest, prediction, label\u001b[39m=\u001b[39m\u001b[39m'\u001b[39m\u001b[39mtau = \u001b[39m\u001b[39m{}\u001b[39;00m\u001b[39m'\u001b[39m\u001b[39m.\u001b[39mformat(tauList[i]))\n\u001b[1;32m      9\u001b[0m plt\u001b[39m.\u001b[39mlegend()\n\u001b[1;32m     10\u001b[0m plt\u001b[39m.\u001b[39mshow()\n",
      "\u001b[0;31mTypeError\u001b[0m: 'float' object is not subscriptable"
     ]
    },
    {
     "data": {
      "image/png": "[encoded data removed]",
      "text/plain": [
       "<Figure size 1600x1200 with 1 Axes>"
      ]
     },
     "metadata": {},
     "output_type": "display_data"
    }
   ],
   "source": [
    "tauList = np.arange(0, 0.1, step=0.05)\n",
    "tau = 0.08\n",
    "\n",
    "predictionList = []\n",
    "\n",
    "# for tau in tauList:\n",
    "#     predictions = getPredictionsForSingleTau(numberSamples, tau)\n",
    "#     predictionList.append(predictions)\n",
    "\n",
    "predictionList = getPredictionsForSingleTau(numberSamples, tau)\n",
    "\n",
    "predictionList = np.array(predictionList)\n",
    "\n",
    "plotPredictions(X, predictionList, tau)"
   ]
  },
  {
   "attachments": {},
   "cell_type": "markdown",
   "metadata": {},
   "source": [
    "# References\n",
    "1. [Medium Article](https://towardsdatascience.com/locally-weighted-linear-regression-in-python-3d324108efbf)\n",
    "2. [Creating Random Non-Linear Data](https://www.oreilly.com/library/view/effective-amazon-machine/9781785883231/586af32b-cd7f-40f4-bfe1-bea45b67a804.xhtml)"
   ]
  }
 ],
 "metadata": {
  "kernelspec": {
   "display_name": "Python 3",
   "language": "python",
   "name": "python3"
  },
  "language_info": {
   "codemirror_mode": {
    "name": "ipython",
    "version": 3
   },
   "file_extension": ".py",
   "mimetype": "text/x-python",
   "name": "python",
   "nbconvert_exporter": "python",
   "pygments_lexer": "ipython3",
   "version": "3.10.6"
  },
  "orig_nbformat": 4
 },
 "nbformat": 4,
 "nbformat_minor": 2
}
