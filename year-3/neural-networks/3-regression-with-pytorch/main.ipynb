{
 "cells": [
  {
   "cell_type": "markdown",
   "metadata": {},
   "source": [
    "# 0. Import dependencies"
   ]
  },
  {
   "cell_type": "code",
   "execution_count": 264,
   "metadata": {
    "id": "ZxfzVLDD8pOk"
   },
   "outputs": [],
   "source": [
    "import torch\n",
    "import sklearn\n",
    "import numpy as np\n"
   ]
  },
  {
   "cell_type": "code",
   "execution_count": 265,
   "metadata": {
    "colab": {
     "base_uri": "https://localhost:8080/"
    },
    "id": "Ychf-Ig284wF",
    "outputId": "f60b0215-f529-4850-a1ec-16290728ac56"
   },
   "outputs": [
    {
     "data": {
      "text/plain": [
       "<torch._C.Generator at 0x211ecb02230>"
      ]
     },
     "execution_count": 265,
     "metadata": {},
     "output_type": "execute_result"
    }
   ],
   "source": [
    "from sklearn.datasets import make_classification\n",
    "torch.manual_seed(123)\n"
   ]
  },
  {
   "cell_type": "markdown",
   "metadata": {},
   "source": [
    "# 1. Working with datasets"
   ]
  },
  {
   "cell_type": "markdown",
   "metadata": {},
   "source": [
    "## 1.1 Creating the datasets\n",
    "Creating a toy dataset with `sklearn.make_classification()`."
   ]
  },
  {
   "cell_type": "code",
   "execution_count": 266,
   "metadata": {
    "id": "1LxdPxns9Ax3"
   },
   "outputs": [],
   "source": [
    "# Make a Toy Dataset\n",
    "X, y = make_classification(n_samples=1000, n_features=4, n_classes=2)\n",
    "\n",
    "# Change it into the Tensor\n",
    "X = torch.tensor(X, dtype=torch.float32)\n",
    "y = torch.tensor(y, dtype=torch.float32)\n"
   ]
  },
  {
   "cell_type": "code",
   "execution_count": 267,
   "metadata": {},
   "outputs": [
    {
     "name": "stdout",
     "output_type": "stream",
     "text": [
      "X: 2 dim(s)\n",
      "Shape of X: torch.Size([1000, 4])\n",
      "tensor([[-1.9664, -1.9185,  0.4586, -0.6354],\n",
      "        [ 1.1828,  2.5691,  0.7503,  1.9239],\n",
      "        [ 1.3196,  2.3589,  0.4692,  1.5937],\n",
      "        ...,\n",
      "        [-1.4988,  0.1612,  1.5268,  1.2843],\n",
      "        [-0.7140,  0.1694,  0.7945,  0.7127],\n",
      "        [ 2.2470,  0.1439, -2.0093, -1.5054]])\n"
     ]
    }
   ],
   "source": [
    "print(f'X: {X.ndim} dim(s)\\n', 'Shape of X: ', np.shape(X), '\\n', X, sep='')"
   ]
  },
  {
   "cell_type": "code",
   "execution_count": 268,
   "metadata": {},
   "outputs": [
    {
     "name": "stdout",
     "output_type": "stream",
     "text": [
      "y: 1 dim(s)\n",
      "Shape of y: torch.Size([1000])\n",
      "tensor([0., 1., 1., 0., 1., 0., 1., 0., 0., 0., 1., 0., 1., 1., 1., 1., 0., 0.,\n",
      "        1., 0., 1., 0., 1., 1., 1., 1., 1., 0., 1., 0., 1., 1., 1., 1., 0., 1.,\n",
      "        1., 1., 0., 1., 0., 0., 0., 1., 0., 1., 1., 0., 1., 1., 1., 1., 1., 0.,\n",
      "        0., 1., 1., 1., 0., 0., 0., 1., 0., 0., 1., 1., 1., 1., 0., 1., 0., 0.,\n",
      "        0., 0., 0., 1., 0., 0., 1., 0., 1., 1., 1., 1., 1., 0., 1., 1., 1., 1.,\n",
      "        1., 0., 1., 0., 0., 0., 0., 0., 1., 0., 0., 0., 0., 0., 1., 1., 1., 0.,\n",
      "        0., 1., 0., 0., 1., 1., 1., 1., 0., 1., 1., 0., 0., 1., 0., 0., 1., 0.,\n",
      "        0., 0., 1., 0., 0., 1., 0., 1., 1., 0., 1., 0., 1., 0., 0., 1., 0., 1.,\n",
      "        1., 1., 1., 0., 0., 1., 0., 1., 0., 0., 0., 1., 1., 0., 1., 0., 1., 1.,\n",
      "        1., 1., 1., 1., 1., 1., 0., 1., 0., 1., 0., 1., 1., 1., 1., 1., 0., 1.,\n",
      "        0., 1., 0., 1., 0., 0., 0., 0., 1., 1., 1., 1., 0., 1., 0., 1., 1., 0.,\n",
      "        0., 0., 1., 0., 1., 1., 1., 1., 0., 0., 0., 1., 0., 1., 0., 0., 0., 0.,\n",
      "        0., 1., 1., 0., 1., 0., 1., 0., 1., 1., 1., 1., 0., 1., 0., 0., 1., 0.,\n",
      "        1., 0., 1., 1., 1., 0., 1., 0., 1., 0., 0., 1., 0., 0., 1., 1., 1., 1.,\n",
      "        0., 1., 1., 1., 0., 0., 0., 1., 0., 0., 0., 1., 1., 1., 1., 0., 1., 0.,\n",
      "        0., 1., 1., 1., 0., 0., 0., 1., 0., 1., 0., 0., 1., 1., 1., 1., 0., 0.,\n",
      "        1., 1., 0., 0., 1., 1., 1., 1., 1., 0., 0., 0., 0., 1., 0., 1., 1., 1.,\n",
      "        0., 0., 0., 0., 0., 0., 0., 1., 0., 1., 1., 0., 0., 1., 1., 0., 0., 0.,\n",
      "        1., 0., 0., 1., 1., 1., 0., 1., 0., 0., 1., 0., 0., 0., 0., 0., 1., 0.,\n",
      "        1., 0., 1., 0., 1., 0., 1., 0., 1., 0., 1., 0., 0., 0., 0., 0., 1., 1.,\n",
      "        1., 0., 0., 0., 1., 1., 0., 0., 1., 1., 1., 0., 0., 1., 1., 1., 0., 0.,\n",
      "        0., 0., 0., 1., 0., 0., 0., 1., 1., 0., 1., 0., 1., 0., 1., 0., 1., 0.,\n",
      "        1., 0., 0., 0., 1., 1., 1., 0., 0., 0., 0., 1., 0., 0., 1., 0., 1., 1.,\n",
      "        0., 0., 1., 0., 0., 1., 0., 0., 1., 1., 0., 0., 0., 0., 0., 1., 0., 1.,\n",
      "        1., 1., 0., 1., 1., 1., 0., 1., 1., 1., 1., 0., 1., 0., 1., 1., 0., 0.,\n",
      "        0., 1., 0., 0., 0., 0., 1., 0., 0., 0., 0., 1., 0., 0., 1., 1., 0., 1.,\n",
      "        0., 0., 0., 0., 0., 0., 0., 0., 1., 0., 1., 1., 1., 1., 1., 1., 0., 0.,\n",
      "        1., 0., 1., 0., 0., 0., 0., 1., 0., 0., 0., 0., 0., 1., 0., 1., 1., 1.,\n",
      "        1., 0., 0., 0., 1., 1., 1., 0., 0., 0., 1., 0., 0., 0., 0., 0., 0., 0.,\n",
      "        0., 1., 1., 1., 1., 1., 1., 1., 0., 1., 0., 0., 0., 1., 0., 1., 0., 0.,\n",
      "        1., 1., 0., 0., 1., 0., 0., 1., 1., 1., 1., 0., 0., 0., 1., 1., 0., 0.,\n",
      "        0., 0., 0., 1., 0., 0., 0., 0., 0., 1., 0., 1., 1., 1., 1., 1., 1., 1.,\n",
      "        1., 0., 1., 0., 0., 1., 0., 1., 0., 0., 0., 1., 0., 1., 1., 1., 1., 0.,\n",
      "        1., 1., 1., 1., 1., 0., 0., 0., 0., 0., 0., 1., 1., 0., 0., 1., 1., 0.,\n",
      "        0., 0., 1., 1., 0., 0., 1., 1., 1., 1., 0., 1., 1., 1., 1., 1., 1., 1.,\n",
      "        1., 1., 0., 0., 1., 1., 0., 1., 0., 1., 1., 1., 0., 1., 0., 1., 0., 0.,\n",
      "        1., 0., 1., 0., 0., 1., 1., 0., 0., 0., 0., 0., 1., 1., 0., 0., 1., 1.,\n",
      "        0., 1., 1., 1., 1., 1., 1., 1., 0., 1., 1., 1., 1., 1., 1., 1., 1., 0.,\n",
      "        0., 0., 0., 1., 0., 1., 1., 0., 0., 1., 1., 0., 0., 0., 1., 1., 0., 1.,\n",
      "        0., 0., 0., 1., 0., 1., 0., 1., 1., 0., 0., 1., 1., 0., 0., 0., 0., 1.,\n",
      "        1., 1., 1., 1., 0., 1., 1., 1., 0., 0., 0., 1., 1., 0., 0., 1., 0., 0.,\n",
      "        1., 1., 0., 0., 0., 1., 1., 0., 1., 1., 1., 1., 1., 1., 0., 1., 1., 0.,\n",
      "        1., 1., 0., 1., 0., 0., 0., 1., 1., 1., 0., 0., 1., 1., 1., 1., 0., 0.,\n",
      "        1., 0., 1., 1., 0., 1., 1., 1., 1., 0., 0., 1., 0., 0., 1., 0., 1., 1.,\n",
      "        1., 1., 0., 1., 1., 1., 1., 0., 1., 1., 0., 0., 0., 0., 0., 1., 1., 1.,\n",
      "        0., 1., 1., 0., 1., 0., 0., 1., 0., 0., 0., 1., 1., 0., 0., 1., 0., 0.,\n",
      "        0., 0., 0., 0., 1., 0., 0., 0., 0., 0., 0., 1., 0., 1., 0., 0., 1., 1.,\n",
      "        1., 1., 0., 1., 0., 1., 1., 0., 1., 1., 0., 0., 0., 1., 1., 0., 1., 0.,\n",
      "        0., 1., 0., 0., 1., 1., 0., 1., 0., 1., 0., 0., 1., 0., 0., 1., 0., 0.,\n",
      "        1., 1., 0., 0., 1., 1., 0., 0., 1., 0., 0., 0., 0., 0., 0., 1., 1., 0.,\n",
      "        1., 0., 1., 0., 1., 0., 0., 1., 0., 0., 1., 0., 0., 1., 0., 0., 0., 1.,\n",
      "        1., 1., 1., 1., 1., 0., 0., 1., 0., 0., 1., 1., 0., 0., 0., 0., 1., 0.,\n",
      "        0., 1., 0., 0., 0., 0., 1., 1., 0., 0., 0., 1., 0., 1., 1., 1., 0., 1.,\n",
      "        1., 1., 1., 0., 1., 0., 0., 1., 0., 0., 0., 0., 1., 1., 1., 0., 0., 0.,\n",
      "        1., 1., 1., 1., 0., 0., 0., 1., 1., 1., 0., 0., 0., 1., 1., 0., 1., 1.,\n",
      "        1., 0., 1., 0., 1., 0., 0., 1., 1., 0.])\n"
     ]
    }
   ],
   "source": [
    "print(f'y: {y.ndim} dim(s)\\n', 'Shape of y: ', np.shape(y), '\\n', y, sep='')"
   ]
  },
  {
   "cell_type": "markdown",
   "metadata": {},
   "source": [
    "## 1.2 Shuffling the datasets\n",
    "Shuffling using the `torch.randperm()` function. Learn more about this function [here](https://pytorch.org/docs/stable/generated/torch.randperm.html).\n",
    "\n",
    "Here, the first argument needs to be the size `n` in `int`. The `y.size()` simply won't work since the `torch.Tensor.size()` function returns the size as an object. We pass in the first dimension (0th) to retrieve size of the first dim in `int`. Values other than 0 won't work since this tensor only has one dim. "
   ]
  },
  {
   "cell_type": "code",
   "execution_count": 269,
   "metadata": {
    "colab": {
     "base_uri": "https://localhost:8080/"
    },
    "id": "iW3ACthE9UHy",
    "outputId": "78b58ca4-f620-4f96-f766-c485df103932"
   },
   "outputs": [
    {
     "name": "stdout",
     "output_type": "stream",
     "text": [
      "Sampled shuffled data:\n",
      "\n",
      "tensor([937, 859, 548, 487, 148, 190, 199, 632,  33, 714])\n"
     ]
    }
   ],
   "source": [
    "# Shuffling data\n",
    "torch.manual_seed(10)\n",
    "\n",
    "# Creating a shuffled dataset ranging from 0 to n - 1 (999)\n",
    "shuffledData = torch.randperm(y.size(0), dtype=torch.long)\n",
    "\n",
    "# Printing a sample from our shuffled data\n",
    "print(f'Sampled shuffled data:\\n\\n{shuffledData[:10]}')\n"
   ]
  },
  {
   "cell_type": "code",
   "execution_count": 270,
   "metadata": {},
   "outputs": [
    {
     "name": "stdout",
     "output_type": "stream",
     "text": [
      "Shuffled generated data:\n",
      "\n",
      "tensor([937, 859, 548, 487, 148, 190, 199, 632,  33, 714, 726, 238, 593, 108,\n",
      "        226, 353, 680, 292, 312, 204, 428, 317, 164, 615, 679, 159, 886, 210,\n",
      "        647, 603, 774, 360,  40, 173, 672, 744, 383, 824, 485, 811, 437, 386,\n",
      "        917, 310, 977, 636, 478, 869, 358, 743, 216, 735,  99, 770, 690, 101,\n",
      "        874, 509, 967, 303, 739, 273, 440, 115, 876, 104, 370, 394, 907, 182,\n",
      "        402, 612, 207, 215, 469, 961,  94, 979, 459, 806, 609, 375,  66, 638,\n",
      "        980,  50, 781, 135, 831, 357,  27, 451, 408, 355, 398, 367, 623, 930,\n",
      "        498, 189, 585, 549, 678, 796, 978, 648, 673, 955,  45, 987, 954, 959,\n",
      "        414, 643, 711, 731, 692, 950, 838, 206, 785, 244, 423,  37, 633, 875,\n",
      "        291, 776, 333,  18, 936, 846, 171, 213, 730, 547, 666, 178, 488, 365,\n",
      "        323, 445, 481, 535, 933, 657, 998, 832, 422, 768, 778, 343, 913, 337,\n",
      "        863, 803, 121, 286, 250, 176, 305, 167, 684, 139, 299, 887, 943,  85,\n",
      "        988, 667,  48, 762, 646, 510, 468, 123, 606, 243, 233, 625, 218, 766,\n",
      "        724, 102, 706, 361, 598,  20, 997, 640, 265, 327,  77, 693,  63, 520,\n",
      "        229, 283, 114, 253, 480, 462, 144, 432, 688, 814, 681, 523, 180, 106,\n",
      "        610, 626, 940, 417, 453, 280, 246, 571, 197,  72, 278,  92, 819, 808,\n",
      "        163, 929,  96, 390, 971, 534,  98, 467, 579, 257, 141,  65, 898, 794,\n",
      "        799, 237, 460, 474,  16, 897, 582, 669, 316, 255, 450, 843, 771, 658,\n",
      "        179, 401, 983, 212, 107, 707, 759, 254, 580, 674, 957, 973, 956, 986,\n",
      "        336, 873, 314, 844, 828, 513, 575, 495, 994, 926, 805, 500, 521,  84,\n",
      "        682,  95, 634, 230, 231, 157, 725, 727,  60, 470, 721, 372, 388, 723,\n",
      "        963, 827, 686,  56, 409, 946, 712, 700, 340, 627, 741, 352, 602, 754,\n",
      "         83, 584, 410, 717, 899, 890, 592, 262, 368, 493, 958, 974, 411, 793,\n",
      "        904, 266, 443,  58, 294, 311, 192, 889, 275, 914,  21, 880,  30, 252,\n",
      "        346, 319, 864, 399, 479,  47, 351, 306, 629, 522, 594, 951, 720, 975,\n",
      "        999, 856, 186, 555, 366, 909, 850, 662, 356, 962, 507, 701, 795, 611,\n",
      "        301, 463, 642,  43, 377, 416,  22, 665, 489, 833, 285, 581, 732, 858,\n",
      "        761, 162, 942, 840, 236, 550, 600, 484, 738,  24, 256, 158, 644, 429,\n",
      "        309, 588, 240, 359, 389, 103, 465, 362, 583, 248, 464, 773, 628, 807,\n",
      "        433, 400, 995, 381,  10, 124, 363, 492, 120, 934, 332, 174,  78, 304,\n",
      "        217, 349, 800, 639, 412, 931, 984, 454, 220, 896, 524, 475,  97, 116,\n",
      "        834, 341, 137, 261, 915, 290, 288, 733,  87, 126, 232,  13, 573, 239,\n",
      "        267, 494, 835, 630, 816, 418, 221, 407, 790,  75, 499,  55,  12, 968,\n",
      "         51, 483, 177, 151, 920,  69, 689, 737, 789, 560, 671, 544, 439, 797,\n",
      "        972, 486, 604, 719, 661, 882, 559, 342, 613, 871, 752, 763, 364, 224,\n",
      "        764, 491, 553,  54, 918, 572, 809, 271, 818, 455, 745, 922, 392,  57,\n",
      "        345, 842, 112, 996, 100, 697, 391, 525, 823, 263, 888, 105, 403, 545,\n",
      "        128, 944, 512,  15, 702, 586, 245, 134, 118, 710, 654, 109, 847, 782,\n",
      "        533, 935, 949,  29, 775, 990,  38, 476, 894, 449,  81,  32, 938, 872,\n",
      "        590, 748, 892, 965, 641, 562, 574,  70, 276, 676, 339, 649, 496, 928,\n",
      "        747,  14, 430, 281, 982, 373, 518,  61, 618, 503, 921, 269, 298, 502,\n",
      "        260, 264,  89, 227, 927, 729, 497, 329, 798, 952,  11, 853, 425, 663,\n",
      "        564, 851, 170, 542, 675,  31, 322, 905, 150, 925,  88, 713, 715, 142,\n",
      "        891,  44, 617, 537,  76, 749, 895, 380, 538, 198, 505, 757, 405, 705,\n",
      "        160, 247, 791, 421, 779, 945, 855, 635, 302, 683, 865, 155, 320, 722,\n",
      "        966, 415,   0, 378,  82, 225, 786, 228, 758, 374, 742, 325, 767, 153,\n",
      "        668, 514, 168, 677, 670, 645, 205, 953, 321, 347, 420, 812, 270, 607,\n",
      "        191, 703, 277, 614, 172, 300, 201, 558,  62, 813, 802, 183, 541, 939,\n",
      "        699, 169, 315, 318, 765, 685, 324, 214, 307, 993, 441, 557, 376,  86,\n",
      "        395, 140,  52, 552, 769, 589, 750, 371, 659, 330, 354, 526,   9, 413,\n",
      "        313, 279, 258, 960, 532, 419,  49, 777, 435, 444, 387,  23,  17, 566,\n",
      "        862, 637, 728,  34,  19, 274, 331, 760, 508, 149, 893, 563, 596, 991,\n",
      "        941, 565,   1, 780, 161, 461, 452, 883, 900, 569, 556, 334,  64, 839,\n",
      "        122, 308, 561, 516, 567,  90, 616, 184, 396, 138, 687, 344, 338, 528,\n",
      "        554, 868, 504, 976,  91, 113, 536, 490, 527, 804, 605, 854, 424, 235,\n",
      "         67, 350, 601, 879, 821, 152, 621, 829, 473,  39, 825, 241, 653, 709,\n",
      "        624, 472,  42, 755,  25, 622, 906, 287, 165, 125, 916, 660, 223, 446,\n",
      "        691, 947, 878, 546,  68, 328, 911, 515, 434,   3, 203, 787, 181,   7,\n",
      "        335, 822, 852, 289, 295, 708, 698, 826, 577, 695, 923, 788, 456, 482,\n",
      "        881, 631, 132,  79, 477, 202, 404,   8, 619, 651, 506, 704, 772, 175,\n",
      "        696, 985, 501,  26, 884, 511, 591, 222, 234, 194, 426, 540,  36, 608,\n",
      "        146, 867, 694, 147, 284, 519, 517, 427, 830, 964, 293, 652, 948, 815,\n",
      "        866, 734, 531, 282, 718, 211, 145, 196, 836, 902, 901,  35, 384, 385,\n",
      "        870, 992, 587, 156, 845, 746,  46, 919, 817, 860, 130, 188, 268, 908,\n",
      "        117, 187, 570, 127, 784, 539, 466, 193, 912, 981, 154,   5, 740, 259,\n",
      "        664, 620,  74, 133, 166, 195, 543,  41, 438, 272, 576, 820, 111,  71,\n",
      "        736, 595, 393,  80, 185, 969, 251,  28, 348,  93, 861,  53, 599, 885,\n",
      "        447, 849, 530, 471, 326, 129, 756,   6, 857, 877,   4, 597, 200, 242,\n",
      "        131, 209, 219, 551, 841, 578,  59, 397, 903, 650, 656, 119, 801,   2,\n",
      "        436, 379, 110, 406, 568, 970, 753, 529, 297, 431, 442, 848, 751, 143,\n",
      "        783, 910, 458, 457, 208, 810,  73, 837, 249, 989, 382, 924, 136, 716,\n",
      "        448, 296, 655, 369, 932, 792])\n"
     ]
    }
   ],
   "source": [
    "print(f'Shuffled generated data:\\n\\n{shuffledData}')"
   ]
  },
  {
   "cell_type": "markdown",
   "metadata": {},
   "source": [
    "We've created a list of indices that are sorted. Now mapping the shuffled indices to create a shuffled dataset."
   ]
  },
  {
   "cell_type": "code",
   "execution_count": 271,
   "metadata": {},
   "outputs": [],
   "source": [
    "X, y = X[shuffledData], y[shuffledData]"
   ]
  },
  {
   "cell_type": "code",
   "execution_count": 272,
   "metadata": {},
   "outputs": [
    {
     "name": "stdout",
     "output_type": "stream",
     "text": [
      "Shuffled X:\n",
      "\n",
      "tensor([[-2.3235,  0.0178,  2.1985,  1.7382],\n",
      "        [ 1.1000,  1.9947,  0.4117,  1.3593],\n",
      "        [-0.0655,  0.2252,  0.2249,  0.2938],\n",
      "        ...,\n",
      "        [-0.8355,  0.0490,  0.8215,  0.6714],\n",
      "        [ 0.8164,  0.7761, -0.2052,  0.2415],\n",
      "        [-1.3425,  0.5217,  1.6411,  1.5614]])\n"
     ]
    }
   ],
   "source": [
    "print(f'Shuffled X:\\n\\n{X}')"
   ]
  },
  {
   "cell_type": "code",
   "execution_count": 273,
   "metadata": {},
   "outputs": [
    {
     "name": "stdout",
     "output_type": "stream",
     "text": [
      "Shuffled y:\n",
      "\n",
      "tensor([1., 1., 1., 0., 0., 1., 0., 0., 1., 1., 1., 1., 0., 0., 1., 0., 1., 1.,\n",
      "        0., 1., 0., 0., 1., 1., 1., 0., 1., 0., 0., 0., 1., 1., 0., 1., 1., 1.,\n",
      "        0., 0., 0., 1., 1., 1., 1., 0., 0., 0., 1., 1., 1., 1., 0., 1., 0., 1.,\n",
      "        1., 0., 0., 1., 1., 1., 1., 1., 1., 1., 1., 1., 1., 1., 1., 0., 1., 0.,\n",
      "        0., 0., 0., 1., 0., 1., 0., 0., 1., 1., 1., 0., 1., 1., 1., 0., 0., 0.,\n",
      "        0., 1., 0., 0., 0., 0., 1., 0., 0., 1., 0., 1., 1., 1., 0., 1., 1., 1.,\n",
      "        1., 0., 1., 0., 0., 1., 0., 1., 0., 1., 0., 0., 1., 0., 1., 1., 0., 0.,\n",
      "        0., 1., 0., 1., 0., 1., 1., 0., 0., 1., 0., 0., 1., 1., 0., 0., 1., 1.,\n",
      "        0., 0., 1., 1., 1., 1., 0., 0., 1., 0., 0., 0., 1., 0., 1., 1., 1., 1.,\n",
      "        0., 0., 0., 1., 1., 0., 1., 1., 1., 0., 0., 1., 0., 0., 1., 0., 0., 1.,\n",
      "        1., 0., 0., 0., 0., 0., 1., 1., 1., 1., 1., 1., 0., 1., 0., 0., 1., 1.,\n",
      "        1., 1., 1., 0., 1., 1., 0., 1., 1., 1., 0., 1., 1., 1., 0., 0., 0., 0.,\n",
      "        0., 1., 0., 0., 0., 1., 0., 1., 1., 1., 0., 1., 0., 0., 1., 1., 0., 0.,\n",
      "        1., 1., 1., 0., 0., 1., 0., 0., 0., 1., 0., 1., 1., 1., 0., 0., 1., 0.,\n",
      "        1., 1., 0., 0., 0., 1., 1., 1., 0., 0., 0., 1., 1., 1., 0., 1., 0., 1.,\n",
      "        0., 0., 1., 0., 1., 0., 0., 0., 0., 1., 1., 0., 1., 0., 0., 0., 1., 1.,\n",
      "        0., 0., 1., 0., 1., 1., 0., 0., 0., 1., 0., 0., 0., 0., 1., 1., 0., 1.,\n",
      "        0., 1., 1., 0., 1., 0., 0., 1., 1., 0., 1., 1., 1., 1., 0., 1., 1., 1.,\n",
      "        0., 0., 1., 0., 0., 0., 0., 0., 0., 0., 1., 0., 1., 1., 0., 0., 1., 0.,\n",
      "        0., 0., 1., 0., 1., 1., 1., 1., 0., 0., 0., 1., 0., 0., 0., 0., 0., 0.,\n",
      "        0., 1., 1., 0., 1., 0., 0., 1., 0., 1., 1., 1., 0., 0., 1., 1., 1., 0.,\n",
      "        0., 1., 1., 0., 1., 1., 0., 0., 1., 1., 0., 1., 0., 1., 0., 0., 1., 1.,\n",
      "        0., 0., 1., 0., 1., 1., 1., 0., 1., 1., 1., 1., 0., 1., 1., 1., 0., 0.,\n",
      "        0., 1., 0., 1., 1., 1., 1., 0., 1., 1., 1., 0., 0., 0., 1., 0., 1., 0.,\n",
      "        0., 0., 0., 0., 0., 0., 0., 0., 1., 0., 1., 0., 1., 1., 1., 0., 0., 0.,\n",
      "        0., 1., 0., 0., 0., 1., 1., 1., 1., 1., 1., 1., 1., 1., 1., 1., 1., 1.,\n",
      "        1., 0., 0., 0., 1., 1., 1., 1., 1., 1., 0., 1., 1., 1., 0., 1., 0., 1.,\n",
      "        0., 1., 1., 1., 1., 0., 0., 0., 1., 1., 1., 1., 0., 0., 0., 1., 1., 1.,\n",
      "        0., 0., 1., 0., 0., 0., 0., 1., 0., 1., 0., 1., 0., 0., 1., 0., 0., 1.,\n",
      "        0., 0., 1., 1., 1., 1., 1., 1., 1., 1., 0., 0., 1., 0., 0., 1., 0., 1.,\n",
      "        0., 0., 1., 1., 0., 0., 1., 1., 0., 0., 1., 0., 1., 0., 0., 1., 0., 0.,\n",
      "        0., 1., 1., 1., 0., 0., 0., 1., 0., 1., 1., 1., 1., 0., 0., 1., 0., 1.,\n",
      "        1., 1., 0., 0., 0., 1., 1., 0., 0., 0., 0., 0., 0., 1., 0., 0., 1., 1.,\n",
      "        0., 0., 0., 1., 1., 1., 0., 0., 0., 0., 0., 1., 0., 1., 0., 0., 0., 0.,\n",
      "        0., 1., 0., 1., 1., 0., 1., 0., 1., 0., 1., 1., 0., 0., 1., 1., 1., 1.,\n",
      "        1., 0., 0., 0., 1., 1., 0., 0., 0., 1., 0., 0., 0., 0., 1., 1., 0., 1.,\n",
      "        1., 1., 1., 1., 0., 0., 0., 1., 0., 0., 1., 0., 1., 1., 0., 0., 0., 0.,\n",
      "        0., 0., 0., 1., 1., 0., 1., 1., 1., 0., 1., 0., 1., 0., 0., 0., 1., 0.,\n",
      "        0., 1., 0., 0., 1., 0., 1., 1., 1., 0., 0., 0., 0., 1., 0., 1., 1., 1.,\n",
      "        0., 0., 0., 1., 1., 1., 1., 1., 0., 1., 0., 0., 1., 1., 0., 0., 0., 0.,\n",
      "        1., 0., 1., 1., 0., 0., 1., 0., 0., 0., 1., 1., 1., 1., 0., 1., 1., 1.,\n",
      "        0., 1., 1., 1., 0., 0., 1., 0., 1., 1., 0., 0., 1., 1., 1., 1., 0., 1.,\n",
      "        1., 1., 1., 0., 0., 1., 0., 0., 1., 0., 1., 1., 0., 0., 1., 1., 0., 1.,\n",
      "        1., 0., 1., 0., 0., 1., 1., 0., 1., 1., 1., 0., 0., 0., 1., 0., 0., 0.,\n",
      "        1., 0., 0., 1., 0., 1., 0., 1., 0., 0., 0., 1., 0., 0., 0., 0., 1., 0.,\n",
      "        1., 0., 0., 1., 1., 1., 1., 0., 1., 0., 0., 0., 0., 1., 1., 1., 0., 1.,\n",
      "        0., 0., 0., 1., 0., 0., 1., 0., 0., 0., 0., 1., 0., 1., 1., 1., 0., 0.,\n",
      "        1., 1., 1., 0., 0., 1., 1., 0., 1., 0., 1., 0., 1., 0., 0., 0., 0., 0.,\n",
      "        1., 0., 0., 0., 0., 0., 1., 1., 0., 1., 1., 1., 0., 1., 0., 1., 0., 1.,\n",
      "        0., 1., 1., 1., 1., 1., 1., 1., 1., 1., 0., 1., 1., 0., 1., 0., 1., 0.,\n",
      "        0., 0., 0., 1., 0., 1., 0., 0., 0., 1., 1., 1., 0., 1., 1., 1., 0., 0.,\n",
      "        0., 1., 1., 0., 0., 0., 0., 1., 0., 1., 0., 0., 1., 1., 1., 0., 0., 0.,\n",
      "        0., 0., 1., 1., 0., 0., 0., 0., 1., 1., 0., 0., 1., 1., 1., 1., 1., 1.,\n",
      "        0., 0., 1., 1., 0., 0., 0., 1., 0., 0., 1., 1., 1., 0., 0., 0., 0., 0.,\n",
      "        1., 1., 0., 1., 1., 0., 1., 1., 0., 1., 0., 0., 0., 0., 0., 0., 1., 1.,\n",
      "        0., 0., 1., 0., 0., 1., 0., 1., 0., 1.])\n"
     ]
    }
   ],
   "source": [
    "print(f'Shuffled y:\\n\\n{y}')"
   ]
  },
  {
   "cell_type": "markdown",
   "metadata": {},
   "source": [
    "## 1.3 Splitting the dataset into training and testing data"
   ]
  },
  {
   "cell_type": "markdown",
   "metadata": {},
   "source": [
    "### 1.3.1 Working with shuffled data"
   ]
  },
  {
   "cell_type": "code",
   "execution_count": 274,
   "metadata": {
    "id": "htyqar_O_gQS"
   },
   "outputs": [],
   "source": [
    "# Train Test split\n",
    "shuffledTrainDataMakeup = int(shuffledData.size(0) * 0.7)\n",
    "\n",
    "shuffledTrainData = shuffledData[:shuffledTrainDataMakeup]\n",
    "shuffledTestData = shuffledData[shuffledTrainDataMakeup:]\n"
   ]
  },
  {
   "cell_type": "markdown",
   "metadata": {},
   "source": [
    "How much does the training data make up of the actual dataset."
   ]
  },
  {
   "cell_type": "code",
   "execution_count": 275,
   "metadata": {},
   "outputs": [
    {
     "name": "stdout",
     "output_type": "stream",
     "text": [
      "Training data makeup: 700\n",
      "\n",
      "\n"
     ]
    }
   ],
   "source": [
    "print(f'Training data makeup: {shuffledTrainDataMakeup}\\n\\n')\n"
   ]
  },
  {
   "cell_type": "markdown",
   "metadata": {},
   "source": [
    "Details of the training data."
   ]
  },
  {
   "cell_type": "code",
   "execution_count": 276,
   "metadata": {},
   "outputs": [
    {
     "name": "stdout",
     "output_type": "stream",
     "text": [
      "Printing details of training data\n",
      "\n",
      "Shape: torch.Size([700])\n",
      "\n",
      "Data:\n",
      "tensor([937, 859, 548, 487, 148, 190, 199, 632,  33, 714, 726, 238, 593, 108,\n",
      "        226, 353, 680, 292, 312, 204, 428, 317, 164, 615, 679, 159, 886, 210,\n",
      "        647, 603, 774, 360,  40, 173, 672, 744, 383, 824, 485, 811, 437, 386,\n",
      "        917, 310, 977, 636, 478, 869, 358, 743, 216, 735,  99, 770, 690, 101,\n",
      "        874, 509, 967, 303, 739, 273, 440, 115, 876, 104, 370, 394, 907, 182,\n",
      "        402, 612, 207, 215, 469, 961,  94, 979, 459, 806, 609, 375,  66, 638,\n",
      "        980,  50, 781, 135, 831, 357,  27, 451, 408, 355, 398, 367, 623, 930,\n",
      "        498, 189, 585, 549, 678, 796, 978, 648, 673, 955,  45, 987, 954, 959,\n",
      "        414, 643, 711, 731, 692, 950, 838, 206, 785, 244, 423,  37, 633, 875,\n",
      "        291, 776, 333,  18, 936, 846, 171, 213, 730, 547, 666, 178, 488, 365,\n",
      "        323, 445, 481, 535, 933, 657, 998, 832, 422, 768, 778, 343, 913, 337,\n",
      "        863, 803, 121, 286, 250, 176, 305, 167, 684, 139, 299, 887, 943,  85,\n",
      "        988, 667,  48, 762, 646, 510, 468, 123, 606, 243, 233, 625, 218, 766,\n",
      "        724, 102, 706, 361, 598,  20, 997, 640, 265, 327,  77, 693,  63, 520,\n",
      "        229, 283, 114, 253, 480, 462, 144, 432, 688, 814, 681, 523, 180, 106,\n",
      "        610, 626, 940, 417, 453, 280, 246, 571, 197,  72, 278,  92, 819, 808,\n",
      "        163, 929,  96, 390, 971, 534,  98, 467, 579, 257, 141,  65, 898, 794,\n",
      "        799, 237, 460, 474,  16, 897, 582, 669, 316, 255, 450, 843, 771, 658,\n",
      "        179, 401, 983, 212, 107, 707, 759, 254, 580, 674, 957, 973, 956, 986,\n",
      "        336, 873, 314, 844, 828, 513, 575, 495, 994, 926, 805, 500, 521,  84,\n",
      "        682,  95, 634, 230, 231, 157, 725, 727,  60, 470, 721, 372, 388, 723,\n",
      "        963, 827, 686,  56, 409, 946, 712, 700, 340, 627, 741, 352, 602, 754,\n",
      "         83, 584, 410, 717, 899, 890, 592, 262, 368, 493, 958, 974, 411, 793,\n",
      "        904, 266, 443,  58, 294, 311, 192, 889, 275, 914,  21, 880,  30, 252,\n",
      "        346, 319, 864, 399, 479,  47, 351, 306, 629, 522, 594, 951, 720, 975,\n",
      "        999, 856, 186, 555, 366, 909, 850, 662, 356, 962, 507, 701, 795, 611,\n",
      "        301, 463, 642,  43, 377, 416,  22, 665, 489, 833, 285, 581, 732, 858,\n",
      "        761, 162, 942, 840, 236, 550, 600, 484, 738,  24, 256, 158, 644, 429,\n",
      "        309, 588, 240, 359, 389, 103, 465, 362, 583, 248, 464, 773, 628, 807,\n",
      "        433, 400, 995, 381,  10, 124, 363, 492, 120, 934, 332, 174,  78, 304,\n",
      "        217, 349, 800, 639, 412, 931, 984, 454, 220, 896, 524, 475,  97, 116,\n",
      "        834, 341, 137, 261, 915, 290, 288, 733,  87, 126, 232,  13, 573, 239,\n",
      "        267, 494, 835, 630, 816, 418, 221, 407, 790,  75, 499,  55,  12, 968,\n",
      "         51, 483, 177, 151, 920,  69, 689, 737, 789, 560, 671, 544, 439, 797,\n",
      "        972, 486, 604, 719, 661, 882, 559, 342, 613, 871, 752, 763, 364, 224,\n",
      "        764, 491, 553,  54, 918, 572, 809, 271, 818, 455, 745, 922, 392,  57,\n",
      "        345, 842, 112, 996, 100, 697, 391, 525, 823, 263, 888, 105, 403, 545,\n",
      "        128, 944, 512,  15, 702, 586, 245, 134, 118, 710, 654, 109, 847, 782,\n",
      "        533, 935, 949,  29, 775, 990,  38, 476, 894, 449,  81,  32, 938, 872,\n",
      "        590, 748, 892, 965, 641, 562, 574,  70, 276, 676, 339, 649, 496, 928,\n",
      "        747,  14, 430, 281, 982, 373, 518,  61, 618, 503, 921, 269, 298, 502,\n",
      "        260, 264,  89, 227, 927, 729, 497, 329, 798, 952,  11, 853, 425, 663,\n",
      "        564, 851, 170, 542, 675,  31, 322, 905, 150, 925,  88, 713, 715, 142,\n",
      "        891,  44, 617, 537,  76, 749, 895, 380, 538, 198, 505, 757, 405, 705,\n",
      "        160, 247, 791, 421, 779, 945, 855, 635, 302, 683, 865, 155, 320, 722,\n",
      "        966, 415,   0, 378,  82, 225, 786, 228, 758, 374, 742, 325, 767, 153,\n",
      "        668, 514, 168, 677, 670, 645, 205, 953, 321, 347, 420, 812, 270, 607,\n",
      "        191, 703, 277, 614, 172, 300, 201, 558,  62, 813, 802, 183, 541, 939,\n",
      "        699, 169, 315, 318, 765, 685, 324, 214, 307, 993, 441, 557, 376,  86,\n",
      "        395, 140,  52, 552, 769, 589, 750, 371, 659, 330, 354, 526,   9, 413])\n"
     ]
    }
   ],
   "source": [
    "print(f'Printing details of training data\\n\\nShape: {np.shape(shuffledTrainData)}\\n\\nData:\\n{shuffledTrainData}')\n"
   ]
  },
  {
   "cell_type": "markdown",
   "metadata": {},
   "source": [
    "Details of the testing data."
   ]
  },
  {
   "cell_type": "code",
   "execution_count": 277,
   "metadata": {},
   "outputs": [
    {
     "name": "stdout",
     "output_type": "stream",
     "text": [
      "Printing details of testing data\n",
      "\n",
      "Shape: torch.Size([300])\n",
      "\n",
      "Data:\n",
      "tensor([313, 279, 258, 960, 532, 419,  49, 777, 435, 444, 387,  23,  17, 566,\n",
      "        862, 637, 728,  34,  19, 274, 331, 760, 508, 149, 893, 563, 596, 991,\n",
      "        941, 565,   1, 780, 161, 461, 452, 883, 900, 569, 556, 334,  64, 839,\n",
      "        122, 308, 561, 516, 567,  90, 616, 184, 396, 138, 687, 344, 338, 528,\n",
      "        554, 868, 504, 976,  91, 113, 536, 490, 527, 804, 605, 854, 424, 235,\n",
      "         67, 350, 601, 879, 821, 152, 621, 829, 473,  39, 825, 241, 653, 709,\n",
      "        624, 472,  42, 755,  25, 622, 906, 287, 165, 125, 916, 660, 223, 446,\n",
      "        691, 947, 878, 546,  68, 328, 911, 515, 434,   3, 203, 787, 181,   7,\n",
      "        335, 822, 852, 289, 295, 708, 698, 826, 577, 695, 923, 788, 456, 482,\n",
      "        881, 631, 132,  79, 477, 202, 404,   8, 619, 651, 506, 704, 772, 175,\n",
      "        696, 985, 501,  26, 884, 511, 591, 222, 234, 194, 426, 540,  36, 608,\n",
      "        146, 867, 694, 147, 284, 519, 517, 427, 830, 964, 293, 652, 948, 815,\n",
      "        866, 734, 531, 282, 718, 211, 145, 196, 836, 902, 901,  35, 384, 385,\n",
      "        870, 992, 587, 156, 845, 746,  46, 919, 817, 860, 130, 188, 268, 908,\n",
      "        117, 187, 570, 127, 784, 539, 466, 193, 912, 981, 154,   5, 740, 259,\n",
      "        664, 620,  74, 133, 166, 195, 543,  41, 438, 272, 576, 820, 111,  71,\n",
      "        736, 595, 393,  80, 185, 969, 251,  28, 348,  93, 861,  53, 599, 885,\n",
      "        447, 849, 530, 471, 326, 129, 756,   6, 857, 877,   4, 597, 200, 242,\n",
      "        131, 209, 219, 551, 841, 578,  59, 397, 903, 650, 656, 119, 801,   2,\n",
      "        436, 379, 110, 406, 568, 970, 753, 529, 297, 431, 442, 848, 751, 143,\n",
      "        783, 910, 458, 457, 208, 810,  73, 837, 249, 989, 382, 924, 136, 716,\n",
      "        448, 296, 655, 369, 932, 792])\n"
     ]
    }
   ],
   "source": [
    "print(f'Printing details of testing data\\n\\nShape: {np.shape(shuffledTestData)}\\n\\nData:\\n{shuffledTestData}')\n"
   ]
  },
  {
   "cell_type": "code",
   "execution_count": 278,
   "metadata": {},
   "outputs": [],
   "source": [
    "X_train, y_train = X[shuffledTrainData], y[shuffledTrainData]\n",
    "# X_test, y_test = X[testDataSize], y[testDataSize]"
   ]
  },
  {
   "cell_type": "code",
   "execution_count": 279,
   "metadata": {},
   "outputs": [
    {
     "data": {
      "text/plain": [
       "torch.Size([700, 4])"
      ]
     },
     "execution_count": 279,
     "metadata": {},
     "output_type": "execute_result"
    }
   ],
   "source": [
    "np.shape(X_train)"
   ]
  },
  {
   "cell_type": "code",
   "execution_count": 280,
   "metadata": {
    "colab": {
     "base_uri": "https://localhost:8080/"
    },
    "id": "y612znKOZBe1",
    "outputId": "07bb4952-66b5-4ac9-e895-9076c0b6960a"
   },
   "outputs": [
    {
     "data": {
      "text/plain": [
       "torch.Size([700, 4])"
      ]
     },
     "execution_count": 280,
     "metadata": {},
     "output_type": "execute_result"
    }
   ],
   "source": [
    "X_train.shape"
   ]
  },
  {
   "cell_type": "code",
   "execution_count": 281,
   "metadata": {
    "colab": {
     "base_uri": "https://localhost:8080/"
    },
    "id": "qph9HFKGZE5I",
    "outputId": "5c47991d-c58f-4513-b43d-b547410de2c4"
   },
   "outputs": [
    {
     "data": {
      "text/plain": [
       "torch.Size([300, 4])"
      ]
     },
     "execution_count": 281,
     "metadata": {},
     "output_type": "execute_result"
    }
   ],
   "source": [
    "X_test.shape"
   ]
  },
  {
   "cell_type": "code",
   "execution_count": 282,
   "metadata": {
    "id": "b6lDzsNjAD6Q"
   },
   "outputs": [],
   "source": [
    "#### Normalize\n",
    "\n",
    "mean,std_dev=X_train.mean(dim=0) ,X_train.std(dim=0)\n",
    "X_train=(X_train-mean)/std_dev\n",
    "X_test=(X_test-mean)/std_dev"
   ]
  },
  {
   "cell_type": "code",
   "execution_count": 283,
   "metadata": {
    "id": "QDGeHX1VDcDG"
   },
   "outputs": [],
   "source": [
    "import torch.nn as nn\n",
    "from torch.autograd import grad"
   ]
  },
  {
   "cell_type": "code",
   "execution_count": 284,
   "metadata": {
    "id": "S5gFo5e-Dkon"
   },
   "outputs": [],
   "source": [
    "class NN():\n",
    "  def __init__(self,n_features):\n",
    "    self.n_features=n_features\n",
    "    self.weight=torch.zeros(size=(n_features,1),dtype=torch.float,requires_grad=True)\n",
    "    self.bias=torch.zeros(1,dtype=torch.float,requires_grad=True)\n",
    "  \n",
    "\n",
    "  def forward(self,x):\n",
    "    output=torch.add(torch.mm(x,self.weight),self.bias)\n",
    "    return output.view(-1)\n",
    "\n",
    "def loss_fn(yhat,y):\n",
    "  return torch.mean((yhat-y)**2)\n"
   ]
  },
  {
   "cell_type": "code",
   "execution_count": 285,
   "metadata": {
    "id": "W4VG658oG6Sk"
   },
   "outputs": [],
   "source": [
    "def train(model,x,y,n_epoch=10,lr=0.001,seed=23,bsz=50):\n",
    "\n",
    "  cost=[]\n",
    "  torch.manual_seed(seed)\n",
    "  for i in range(n_epoch):\n",
    "    shuffledData=torch.randperm(y.size(0))\n",
    "    batches=torch.split(shuffledData,bsz)\n",
    "\n",
    "    for idx in batches:\n",
    "\n",
    "      ###1. Compute the output\n",
    "      yhat=model.forward(x[idx])\n",
    "\n",
    "      ###2. Compute the Error\n",
    "      loss=loss_fn(yhat,y[idx])\n",
    "\n",
    "      ###3. Compute the gradient\n",
    "      grad_w=grad(loss,model.weight,retain_graph=True)[0]\n",
    "      grad_b=grad(loss,model.bias)[0]\n",
    "\n",
    "      ###4. Update Model Parameters\n",
    "      model.weight=model.weight-lr*grad_w\n",
    "      model.bias=model.bias-lr*grad_b\n",
    "\n",
    "    ###5. Log and print the loss\n",
    "    with torch.no_grad():\n",
    "      yhat=model.forward(x)\n",
    "      curr_loss=loss_fn(yhat,y)\n",
    "      print('Epoc: %3d ' % (i+1),end=\"\")\n",
    "      print('| MSE % .5f' % curr_loss)\n",
    "      cost.append(curr_loss)\n",
    "      \n",
    "  return cost\n",
    "\n",
    "\n"
   ]
  },
  {
   "cell_type": "code",
   "execution_count": 286,
   "metadata": {
    "colab": {
     "base_uri": "https://localhost:8080/"
    },
    "id": "pg5M3m31Fo39",
    "outputId": "50233a25-36e3-42f6-8117-5252501930c8"
   },
   "outputs": [
    {
     "name": "stdout",
     "output_type": "stream",
     "text": [
      "Epoc:   1 | MSE  0.45561\n",
      "Epoc:   2 | MSE  0.42954\n",
      "Epoc:   3 | MSE  0.40581\n",
      "Epoc:   4 | MSE  0.38419\n",
      "Epoc:   5 | MSE  0.36445\n",
      "Epoc:   6 | MSE  0.34640\n",
      "Epoc:   7 | MSE  0.32986\n",
      "Epoc:   8 | MSE  0.31472\n",
      "Epoc:   9 | MSE  0.30084\n",
      "Epoc:  10 | MSE  0.28808\n",
      "Epoc:  11 | MSE  0.27635\n",
      "Epoc:  12 | MSE  0.26554\n",
      "Epoc:  13 | MSE  0.25558\n",
      "Epoc:  14 | MSE  0.24638\n",
      "Epoc:  15 | MSE  0.23789\n",
      "Epoc:  16 | MSE  0.23002\n",
      "Epoc:  17 | MSE  0.22274\n",
      "Epoc:  18 | MSE  0.21600\n",
      "Epoc:  19 | MSE  0.20974\n",
      "Epoc:  20 | MSE  0.20393\n",
      "Epoc:  21 | MSE  0.19852\n",
      "Epoc:  22 | MSE  0.19348\n",
      "Epoc:  23 | MSE  0.18880\n",
      "Epoc:  24 | MSE  0.18442\n",
      "Epoc:  25 | MSE  0.18035\n",
      "Epoc:  26 | MSE  0.17654\n",
      "Epoc:  27 | MSE  0.17298\n",
      "Epoc:  28 | MSE  0.16966\n",
      "Epoc:  29 | MSE  0.16654\n",
      "Epoc:  30 | MSE  0.16363\n",
      "Epoc:  31 | MSE  0.16091\n",
      "Epoc:  32 | MSE  0.15835\n",
      "Epoc:  33 | MSE  0.15595\n",
      "Epoc:  34 | MSE  0.15370\n",
      "Epoc:  35 | MSE  0.15159\n",
      "Epoc:  36 | MSE  0.14961\n",
      "Epoc:  37 | MSE  0.14774\n",
      "Epoc:  38 | MSE  0.14599\n",
      "Epoc:  39 | MSE  0.14435\n",
      "Epoc:  40 | MSE  0.14280\n",
      "Epoc:  41 | MSE  0.14135\n",
      "Epoc:  42 | MSE  0.13997\n",
      "Epoc:  43 | MSE  0.13868\n",
      "Epoc:  44 | MSE  0.13747\n",
      "Epoc:  45 | MSE  0.13633\n",
      "Epoc:  46 | MSE  0.13525\n",
      "Epoc:  47 | MSE  0.13423\n",
      "Epoc:  48 | MSE  0.13327\n",
      "Epoc:  49 | MSE  0.13237\n",
      "Epoc:  50 | MSE  0.13151\n"
     ]
    }
   ],
   "source": [
    "model=NN(X_train.size(1))\n",
    "cost=train(model,X_train,y_train,n_epoch=50)"
   ]
  },
  {
   "cell_type": "code",
   "execution_count": 287,
   "metadata": {
    "colab": {
     "base_uri": "https://localhost:8080/",
     "height": 283
    },
    "id": "AUiMMWXeX2X6",
    "outputId": "b1901d29-9b95-434f-c1fb-a9b6e4d1872b"
   },
   "outputs": [
    {
     "data": {
      "image/png": "[encoded data removed]",
      "text/plain": [
       "<Figure size 432x288 with 1 Axes>"
      ]
     },
     "metadata": {
      "needs_background": "light"
     },
     "output_type": "display_data"
    }
   ],
   "source": [
    "import matplotlib.pyplot as plt\n",
    "plt.plot(range(len(cost)),cost)\n",
    "plt.ylabel('Mean Sqare Error')\n",
    "plt.xlabel('Epoc')\n",
    "plt.show()"
   ]
  },
  {
   "cell_type": "code",
   "execution_count": 288,
   "metadata": {
    "colab": {
     "base_uri": "https://localhost:8080/"
    },
    "id": "noMdRIQnY2yD",
    "outputId": "798b447e-19e3-4e70-ec05-df2d4dd25edd"
   },
   "outputs": [
    {
     "name": "stdout",
     "output_type": "stream",
     "text": [
      "Training Accuracy: 85.43\n",
      "Testing Accuracy: 77.67\n"
     ]
    }
   ],
   "source": [
    "ones=torch.ones(y_train.size())\n",
    "zero=torch.zeros(y_train.size())\n",
    "train_pred=model.forward(X_train)\n",
    "train_acc=torch.mean((  \n",
    "    torch.where(train_pred > 0.5,\n",
    "                ones,zero).int()==y_train).float())\n",
    "\n",
    "\n",
    "ones=torch.ones(y_test.size())\n",
    "zeros=torch.zeros(y_test.size())\n",
    "test_pred=model.forward(X_test)\n",
    "test_acc=torch.mean((torch.where(test_pred> 0.5,ones,zeros).int()==y_test).float())\n",
    "\n",
    "print('Training Accuracy: %.2f' % (train_acc*100))\n",
    "print('Testing Accuracy: %.2f' % (test_acc*100))\n"
   ]
  },
  {
   "cell_type": "markdown",
   "metadata": {
    "id": "0jE4vxUqhE9S"
   },
   "source": [
    "### Model Using Pytorch"
   ]
  },
  {
   "cell_type": "code",
   "execution_count": 289,
   "metadata": {
    "id": "y3lKWHDh3Z2E"
   },
   "outputs": [],
   "source": [
    "import torch\n",
    "import sklearn\n",
    "import torch.nn.functional as F"
   ]
  },
  {
   "cell_type": "code",
   "execution_count": 290,
   "metadata": {
    "id": "mIvsPBpi3exX"
   },
   "outputs": [],
   "source": [
    "from sklearn.datasets import make_classification\n",
    "from sklearn.model_selection import train_test_split\n",
    "from sklearn.preprocessing import StandardScaler"
   ]
  },
  {
   "cell_type": "code",
   "execution_count": 291,
   "metadata": {
    "id": "1JIHbj2035fP"
   },
   "outputs": [],
   "source": [
    "### Create The dataset\n",
    "X,y=make_classification(n_samples=1000,n_classes=2,n_features=4)\n",
    "\n",
    "### Normalize the Data\n",
    "scaler=StandardScaler()\n",
    "X=scaler.fit_transform(X)\n",
    "\n",
    "### Array to Tensor\n",
    "X=torch.tensor(X,dtype=torch.float32)\n",
    "y=torch.tensor(y,dtype=torch.float32)"
   ]
  },
  {
   "cell_type": "code",
   "execution_count": null,
   "metadata": {
    "id": "CqWr2Ybd5ugi"
   },
   "outputs": [],
   "source": []
  },
  {
   "cell_type": "code",
   "execution_count": 292,
   "metadata": {
    "colab": {
     "base_uri": "https://localhost:8080/"
    },
    "id": "vOTlEa224ok7",
    "outputId": "7d0e30ec-414b-47b5-a702-1af88a23c1b0"
   },
   "outputs": [
    {
     "name": "stdout",
     "output_type": "stream",
     "text": [
      "torch.Size([700, 4])\n",
      "torch.Size([300, 4])\n"
     ]
    }
   ],
   "source": [
    "X_train,X_test,y_train,y_test=train_test_split(X,y,test_size=.3,random_state=21)\n",
    "print(X_train.shape)\n",
    "print(X_test.shape)"
   ]
  },
  {
   "cell_type": "code",
   "execution_count": null,
   "metadata": {
    "id": "vpJjGYOI6Qk7"
   },
   "outputs": [],
   "source": []
  },
  {
   "cell_type": "code",
   "execution_count": 293,
   "metadata": {
    "id": "DNSgj7UkhIIK"
   },
   "outputs": [],
   "source": [
    "class NNpt(nn.Module):\n",
    "  def __init__(self,n_features):\n",
    "    super(NNpt,self).__init__()\n",
    "    self.linear=nn.Linear(n_features,1)\n",
    "\n",
    "    self.linear.weight.detach().zero_()\n",
    "    self.linear.bias.detach().zero_()\n",
    "\n",
    "\n",
    "  def forward(self,x):\n",
    "    out=self.linear(x)\n",
    "    return out.view(-1)\n",
    "\n",
    "\n",
    "\n",
    "    "
   ]
  },
  {
   "cell_type": "code",
   "execution_count": 294,
   "metadata": {
    "id": "HQNqqR33nsLH"
   },
   "outputs": [],
   "source": [
    "def train(model,x,y,n_epoch=10,lr=0.001,seed=23,bsz=50):\n",
    "\n",
    "  cost=[]\n",
    "  torch.manual_seed(seed)\n",
    "   ### Optimizer\n",
    "  optimizer=torch.optim.SGD(model.parameters(),lr=lr)\n",
    "  for i in range(n_epoch):\n",
    "    shuffledData=torch.randperm(y.size(0))\n",
    "    batches=torch.split(shuffledData,bsz)\n",
    "\n",
    "    for idx in batches:\n",
    "      ###1. Compute the Output\n",
    "      yhat=model.forward(x[idx])\n",
    "\n",
    "      ###2. Compute the Loss\n",
    "      loss=torch.nn.functional.mse_loss(yhat,y[idx])\n",
    "\n",
    "      ###3. Compute the Gradients\n",
    "      optimizer.zero_grad()\n",
    "      loss.backward()\n",
    "\n",
    "      ###4. Update the Model Parameters\n",
    "      optimizer.step()\n",
    "\n",
    "      #model.weight=model.weight-lr*grad_w\n",
    "      #model.bias=model.bias-lr*grad_b\n",
    "\n",
    "    ###5. Log and print the Loss\n",
    "    with torch.no_grad():\n",
    "      yhat=model.forward(x)\n",
    "      curr_loss=loss_fn(yhat,y)\n",
    "      print('Epoc: %3d ' % (i+1),end=\"\")\n",
    "      print('| MSE % .5f' % curr_loss)\n",
    "      cost.append(curr_loss)\n",
    "      \n",
    "  return cost"
   ]
  },
  {
   "cell_type": "code",
   "execution_count": 295,
   "metadata": {
    "id": "sPFjue7WlmW-"
   },
   "outputs": [],
   "source": [
    "n_feature=X_train.size(1)\n",
    "model=NNpt(n_features=n_feature)\n"
   ]
  },
  {
   "cell_type": "code",
   "execution_count": 296,
   "metadata": {
    "colab": {
     "base_uri": "https://localhost:8080/"
    },
    "id": "li9AFeIanQZS",
    "outputId": "f145db74-ccf1-44c1-9094-3f0976c4f715"
   },
   "outputs": [
    {
     "name": "stdout",
     "output_type": "stream",
     "text": [
      "Epoc:   1 | MSE  0.47888\n",
      "Epoc:   2 | MSE  0.45062\n",
      "Epoc:   3 | MSE  0.42494\n",
      "Epoc:   4 | MSE  0.40157\n",
      "Epoc:   5 | MSE  0.38026\n",
      "Epoc:   6 | MSE  0.36078\n",
      "Epoc:   7 | MSE  0.34296\n",
      "Epoc:   8 | MSE  0.32662\n",
      "Epoc:   9 | MSE  0.31159\n",
      "Epoc:  10 | MSE  0.29778\n",
      "Epoc:  11 | MSE  0.28506\n",
      "Epoc:  12 | MSE  0.27331\n",
      "Epoc:  13 | MSE  0.26246\n",
      "Epoc:  14 | MSE  0.25244\n",
      "Epoc:  15 | MSE  0.24314\n",
      "Epoc:  16 | MSE  0.23452\n",
      "Epoc:  17 | MSE  0.22652\n",
      "Epoc:  18 | MSE  0.21908\n",
      "Epoc:  19 | MSE  0.21216\n",
      "Epoc:  20 | MSE  0.20571\n",
      "Epoc:  21 | MSE  0.19970\n",
      "Epoc:  22 | MSE  0.19409\n",
      "Epoc:  23 | MSE  0.18885\n",
      "Epoc:  24 | MSE  0.18396\n",
      "Epoc:  25 | MSE  0.17939\n",
      "Epoc:  26 | MSE  0.17511\n",
      "Epoc:  27 | MSE  0.17110\n",
      "Epoc:  28 | MSE  0.16735\n",
      "Epoc:  29 | MSE  0.16384\n",
      "Epoc:  30 | MSE  0.16054\n",
      "Epoc:  31 | MSE  0.15744\n",
      "Epoc:  32 | MSE  0.15454\n",
      "Epoc:  33 | MSE  0.15181\n",
      "Epoc:  34 | MSE  0.14926\n",
      "Epoc:  35 | MSE  0.14685\n",
      "Epoc:  36 | MSE  0.14459\n",
      "Epoc:  37 | MSE  0.14247\n",
      "Epoc:  38 | MSE  0.14047\n",
      "Epoc:  39 | MSE  0.13859\n",
      "Epoc:  40 | MSE  0.13683\n",
      "Epoc:  41 | MSE  0.13516\n",
      "Epoc:  42 | MSE  0.13360\n",
      "Epoc:  43 | MSE  0.13212\n",
      "Epoc:  44 | MSE  0.13074\n",
      "Epoc:  45 | MSE  0.12943\n",
      "Epoc:  46 | MSE  0.12820\n",
      "Epoc:  47 | MSE  0.12704\n",
      "Epoc:  48 | MSE  0.12594\n",
      "Epoc:  49 | MSE  0.12492\n",
      "Epoc:  50 | MSE  0.12395\n"
     ]
    }
   ],
   "source": [
    "cost=train(model,X_train,y_train,n_epoch=50)"
   ]
  },
  {
   "cell_type": "code",
   "execution_count": 297,
   "metadata": {
    "colab": {
     "base_uri": "https://localhost:8080/",
     "height": 296
    },
    "id": "U7FElcjK6m8I",
    "outputId": "47f7d6fd-5ae3-4624-d13d-5bed7b8f6241"
   },
   "outputs": [
    {
     "data": {
      "text/plain": [
       "[]"
      ]
     },
     "execution_count": 297,
     "metadata": {},
     "output_type": "execute_result"
    },
    {
     "data": {
      "image/png": "[encoded data removed]",
      "text/plain": [
       "<Figure size 432x288 with 1 Axes>"
      ]
     },
     "metadata": {
      "needs_background": "light"
     },
     "output_type": "display_data"
    }
   ],
   "source": [
    "plt.plot(range(len(cost)),cost)\n",
    "plt.xlabel('No of Epochs')\n",
    "plt.ylabel('Mean Squared Error')\n",
    "plt.plot()"
   ]
  },
  {
   "cell_type": "code",
   "execution_count": 298,
   "metadata": {
    "colab": {
     "base_uri": "https://localhost:8080/"
    },
    "id": "gb4XmG8W7UjJ",
    "outputId": "0432b60a-b8ef-43aa-f984-72d115be05dc"
   },
   "outputs": [
    {
     "name": "stdout",
     "output_type": "stream",
     "text": [
      "Training Accuracy : 0.85\n",
      "Testing Accuracy: 0.88\n"
     ]
    }
   ],
   "source": [
    "ones=torch.ones(y_train.size(0))\n",
    "zero=torch.zeros(y_train.size(0))\n",
    "train_pred=model.forward(X_train)\n",
    "\n",
    "train_acc=torch.mean((torch.where( train_pred >0.5 , ones,zero).int()==y_train).float())\n",
    "#print(train_acc)\n",
    "\n",
    "ones=torch.ones(y_test.size(0))\n",
    "zero=torch.zeros(y_test.size(0))\n",
    "test_pred=model.forward(X_test)\n",
    "\n",
    "test_acc=torch.mean((torch.where( test_pred >0.5 , ones,zero).int()==y_test).float())\n",
    "print('Training Accuracy : %.2f' % train_acc)\n",
    "print('Testing Accuracy: %.2f' % test_acc)"
   ]
  },
  {
   "cell_type": "markdown",
   "metadata": {
    "id": "Jw4-SmjGAwKw"
   },
   "source": [
    "### Logistic Regression"
   ]
  },
  {
   "cell_type": "code",
   "execution_count": 299,
   "metadata": {
    "id": "fOvf9DILA0Vt"
   },
   "outputs": [],
   "source": [
    "def train(model,x,y,n_epoch=10,lr=0.001,seed=23,bsz=50):\n",
    "\n",
    "  cost=[]\n",
    "  torch.manual_seed(seed)\n",
    "   ### Optimizer\n",
    "  optimizer=torch.optim.SGD(model.parameters(),lr=lr)\n",
    "  for i in range(n_epoch):\n",
    "    shuffledData=torch.randperm(y.size(0))\n",
    "    batches=torch.split(shuffledData,bsz)\n",
    "\n",
    "    for idx in batches:\n",
    "      ###1. Compute the Output\n",
    "      yhat=model.forward(x[idx])\n",
    "\n",
    "      ###2. Compute the Loss\n",
    "      loss=torch.nn.functional.binary_cross_entropy(torch.sigmoid(yhat),y[idx])\n",
    "\n",
    "      ###3. Compute the Gradients\n",
    "      optimizer.zero_grad()\n",
    "      loss.backward()\n",
    "\n",
    "      ###4. Update the Model Parameters\n",
    "      optimizer.step()\n",
    "\n",
    "      #model.weight=model.weight-lr*grad_w\n",
    "      #model.bias=model.bias-lr*grad_b\n",
    "\n",
    "    ###5. Log and print the Loss\n",
    "    with torch.no_grad():\n",
    "      yhat=model.forward(x)\n",
    "      curr_loss=loss_fn(yhat,y)\n",
    "      print('Epoc: %3d ' % (i+1),end=\"\")\n",
    "      print('| MSE % .5f' % curr_loss)\n",
    "      cost.append(curr_loss)\n",
    "      \n",
    "  return cost"
   ]
  },
  {
   "cell_type": "code",
   "execution_count": 300,
   "metadata": {
    "id": "PIUIMhifBawi"
   },
   "outputs": [],
   "source": [
    "n_feature=X_train.size(1)\n",
    "model=NNpt(n_features=n_feature)\n"
   ]
  },
  {
   "cell_type": "code",
   "execution_count": 301,
   "metadata": {
    "colab": {
     "base_uri": "https://localhost:8080/"
    },
    "id": "0C-2cXsdBdVJ",
    "outputId": "ed9a77fd-d8ef-4f71-a847-b43084ba8542"
   },
   "outputs": [
    {
     "name": "stdout",
     "output_type": "stream",
     "text": [
      "Epoc:   1 | MSE  0.50135\n",
      "Epoc:   2 | MSE  0.49303\n",
      "Epoc:   3 | MSE  0.48504\n",
      "Epoc:   4 | MSE  0.47736\n",
      "Epoc:   5 | MSE  0.47000\n",
      "Epoc:   6 | MSE  0.46294\n",
      "Epoc:   7 | MSE  0.45618\n",
      "Epoc:   8 | MSE  0.44971\n",
      "Epoc:   9 | MSE  0.44353\n",
      "Epoc:  10 | MSE  0.43763\n",
      "Epoc:  11 | MSE  0.43199\n",
      "Epoc:  12 | MSE  0.42662\n",
      "Epoc:  13 | MSE  0.42152\n",
      "Epoc:  14 | MSE  0.41666\n",
      "Epoc:  15 | MSE  0.41206\n",
      "Epoc:  16 | MSE  0.40770\n",
      "Epoc:  17 | MSE  0.40357\n",
      "Epoc:  18 | MSE  0.39968\n",
      "Epoc:  19 | MSE  0.39601\n",
      "Epoc:  20 | MSE  0.39257\n",
      "Epoc:  21 | MSE  0.38934\n",
      "Epoc:  22 | MSE  0.38632\n",
      "Epoc:  23 | MSE  0.38351\n",
      "Epoc:  24 | MSE  0.38090\n",
      "Epoc:  25 | MSE  0.37849\n",
      "Epoc:  26 | MSE  0.37627\n",
      "Epoc:  27 | MSE  0.37424\n",
      "Epoc:  28 | MSE  0.37239\n",
      "Epoc:  29 | MSE  0.37072\n",
      "Epoc:  30 | MSE  0.36923\n",
      "Epoc:  31 | MSE  0.36791\n",
      "Epoc:  32 | MSE  0.36676\n",
      "Epoc:  33 | MSE  0.36577\n",
      "Epoc:  34 | MSE  0.36494\n",
      "Epoc:  35 | MSE  0.36427\n",
      "Epoc:  36 | MSE  0.36375\n",
      "Epoc:  37 | MSE  0.36338\n",
      "Epoc:  38 | MSE  0.36316\n",
      "Epoc:  39 | MSE  0.36308\n",
      "Epoc:  40 | MSE  0.36314\n",
      "Epoc:  41 | MSE  0.36333\n",
      "Epoc:  42 | MSE  0.36366\n",
      "Epoc:  43 | MSE  0.36412\n",
      "Epoc:  44 | MSE  0.36470\n",
      "Epoc:  45 | MSE  0.36541\n",
      "Epoc:  46 | MSE  0.36625\n",
      "Epoc:  47 | MSE  0.36720\n",
      "Epoc:  48 | MSE  0.36826\n",
      "Epoc:  49 | MSE  0.36944\n",
      "Epoc:  50 | MSE  0.37073\n"
     ]
    }
   ],
   "source": [
    "cost=train(model,X_train,y_train,n_epoch=50)"
   ]
  },
  {
   "cell_type": "code",
   "execution_count": 302,
   "metadata": {
    "colab": {
     "base_uri": "https://localhost:8080/",
     "height": 296
    },
    "id": "Poh0lJYHBzdN",
    "outputId": "05690313-01fe-4f9f-ce45-5cc3a1eb05e2"
   },
   "outputs": [
    {
     "data": {
      "text/plain": [
       "[]"
      ]
     },
     "execution_count": 302,
     "metadata": {},
     "output_type": "execute_result"
    },
    {
     "data": {
      "image/png": "[encoded data removed]",
      "text/plain": [
       "<Figure size 432x288 with 1 Axes>"
      ]
     },
     "metadata": {
      "needs_background": "light"
     },
     "output_type": "display_data"
    }
   ],
   "source": [
    "plt.plot(range(len(cost)),cost)\n",
    "plt.xlabel('No of Epochs')\n",
    "plt.ylabel('Mean Squared Error')\n",
    "plt.plot()"
   ]
  },
  {
   "cell_type": "code",
   "execution_count": 303,
   "metadata": {
    "colab": {
     "base_uri": "https://localhost:8080/"
    },
    "id": "AwaMm8VzCmgc",
    "outputId": "2601e687-d501-49d6-8805-a6354afd42de"
   },
   "outputs": [
    {
     "name": "stdout",
     "output_type": "stream",
     "text": [
      "Training Accuracy : 0.64\n",
      "Testing Accuracy: 0.66\n"
     ]
    }
   ],
   "source": [
    "ones=torch.ones(y_train.size(0))\n",
    "zero=torch.zeros(y_train.size(0))\n",
    "train_pred=model.forward(X_train)\n",
    "\n",
    "train_acc=torch.mean((torch.where( train_pred >0.5 , ones,zero).int()==y_train).float())\n",
    "#print(train_acc)\n",
    "\n",
    "ones=torch.ones(y_test.size(0))\n",
    "zero=torch.zeros(y_test.size(0))\n",
    "test_pred=model.forward(X_test)\n",
    "\n",
    "test_acc=torch.mean((torch.where( test_pred >0.5 , ones,zero).int()==y_test).float())\n",
    "print('Training Accuracy : %.2f' % train_acc)\n",
    "print('Testing Accuracy: %.2f' % test_acc)"
   ]
  },
  {
   "cell_type": "code",
   "execution_count": null,
   "metadata": {
    "id": "A8RpExgxC_Ys"
   },
   "outputs": [],
   "source": []
  }
 ],
 "metadata": {
  "colab": {
   "provenance": []
  },
  "kernelspec": {
   "display_name": "Python 3 (ipykernel)",
   "language": "python",
   "name": "python3"
  },
  "language_info": {
   "codemirror_mode": {
    "name": "ipython",
    "version": 3
   },
   "file_extension": ".py",
   "mimetype": "text/x-python",
   "name": "python",
   "nbconvert_exporter": "python",
   "pygments_lexer": "ipython3",
   "version": "3.9.12"
  },
  "vscode": {
   "interpreter": {
    "hash": "f0b7333da218775e0d10eaa8939b9fba0a40c900e904e0630ec4f402e4ffc861"
   }
  }
 },
 "nbformat": 4,
 "nbformat_minor": 1
}
