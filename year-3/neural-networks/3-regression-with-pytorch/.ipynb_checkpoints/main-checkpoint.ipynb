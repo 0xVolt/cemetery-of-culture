{
 "cells": [
  {
   "cell_type": "markdown",
   "metadata": {},
   "source": [
    "# 0. Import dependencies"
   ]
  },
  {
   "cell_type": "code",
   "execution_count": 50,
   "metadata": {
    "id": "ZxfzVLDD8pOk"
   },
   "outputs": [],
   "source": [
    "import torch\n",
    "import sklearn\n",
    "import numpy as np\n"
   ]
  },
  {
   "cell_type": "code",
   "execution_count": 51,
   "metadata": {
    "colab": {
     "base_uri": "https://localhost:8080/"
    },
    "id": "Ychf-Ig284wF",
    "outputId": "f60b0215-f529-4850-a1ec-16290728ac56"
   },
   "outputs": [
    {
     "data": {
      "text/plain": [
       "<torch._C.Generator at 0x211ecb02230>"
      ]
     },
     "execution_count": 51,
     "metadata": {},
     "output_type": "execute_result"
    }
   ],
   "source": [
    "from sklearn.datasets import make_classification\n",
    "torch.manual_seed(123)\n"
   ]
  },
  {
   "cell_type": "markdown",
   "metadata": {},
   "source": [
    "# 1. Working with datasets"
   ]
  },
  {
   "cell_type": "markdown",
   "metadata": {},
   "source": [
    "## 1.1 Creating the datasets"
   ]
  },
  {
   "cell_type": "code",
   "execution_count": 52,
   "metadata": {
    "id": "1LxdPxns9Ax3"
   },
   "outputs": [],
   "source": [
    "# Make a Toy Dataset\n",
    "X, y = make_classification(n_samples=1000, n_features=4, n_classes=2)\n",
    "\n",
    "# Change it into the Tensor\n",
    "X = torch.tensor(X, dtype=torch.float32)\n",
    "y = torch.tensor(y, dtype=torch.float32)\n"
   ]
  },
  {
   "cell_type": "code",
   "execution_count": 53,
   "metadata": {},
   "outputs": [
    {
     "name": "stdout",
     "output_type": "stream",
     "text": [
      "X:\n",
      "tensor([[-0.0808,  1.7968, -0.0183,  2.2368],\n",
      "        [ 0.1367, -1.1605, -0.3431, -0.9343],\n",
      "        [-0.0861,  0.7097,  0.2203,  0.5563],\n",
      "        ...,\n",
      "        [-0.2166,  0.6125,  0.7882, -0.3799],\n",
      "        [-0.0821,  1.3422,  0.0777,  1.5394],\n",
      "        [-0.6370,  1.4389,  2.3897, -1.6661]])\n",
      "\n",
      "Shape of X:torch.Size([1000, 4])\n"
     ]
    }
   ],
   "source": [
    "print('X:\\n', X, '\\n\\nShape of X:', np.shape(X), sep='')"
   ]
  },
  {
   "cell_type": "code",
   "execution_count": 54,
   "metadata": {},
   "outputs": [
    {
     "name": "stdout",
     "output_type": "stream",
     "text": [
      "y:\n",
      "tensor([1., 0., 1., 0., 0., 0., 0., 0., 1., 0., 0., 0., 1., 0., 0., 1., 1., 1.,\n",
      "        1., 1., 1., 1., 0., 0., 0., 0., 1., 1., 0., 1., 1., 0., 0., 1., 0., 1.,\n",
      "        1., 1., 0., 0., 0., 0., 1., 0., 0., 0., 0., 1., 0., 0., 0., 1., 1., 1.,\n",
      "        1., 0., 0., 0., 1., 0., 1., 0., 1., 0., 0., 0., 0., 1., 0., 1., 0., 0.,\n",
      "        1., 0., 1., 0., 0., 0., 1., 0., 1., 1., 0., 1., 1., 0., 0., 0., 1., 1.,\n",
      "        0., 0., 0., 0., 0., 0., 1., 1., 1., 0., 1., 1., 1., 0., 0., 1., 0., 0.,\n",
      "        0., 1., 1., 1., 0., 0., 0., 1., 1., 0., 1., 1., 0., 1., 1., 0., 1., 1.,\n",
      "        0., 0., 1., 1., 0., 0., 1., 1., 1., 1., 1., 0., 0., 1., 0., 1., 1., 1.,\n",
      "        0., 0., 0., 1., 1., 0., 1., 1., 1., 1., 1., 0., 1., 1., 1., 0., 0., 0.,\n",
      "        0., 0., 0., 1., 1., 0., 1., 1., 0., 1., 1., 0., 0., 1., 0., 0., 1., 1.,\n",
      "        0., 1., 1., 1., 0., 1., 0., 0., 0., 0., 0., 0., 1., 0., 1., 0., 0., 0.,\n",
      "        1., 1., 0., 0., 1., 0., 0., 1., 1., 0., 0., 1., 0., 0., 1., 0., 1., 0.,\n",
      "        1., 1., 1., 1., 1., 1., 0., 0., 1., 1., 0., 1., 1., 0., 1., 1., 1., 1.,\n",
      "        0., 0., 1., 0., 0., 1., 1., 0., 0., 1., 0., 0., 1., 1., 1., 1., 1., 1.,\n",
      "        0., 0., 1., 0., 1., 0., 0., 0., 0., 0., 1., 0., 0., 1., 0., 1., 1., 1.,\n",
      "        1., 1., 0., 1., 1., 0., 1., 1., 1., 0., 0., 0., 0., 1., 0., 0., 1., 1.,\n",
      "        1., 1., 0., 1., 0., 0., 0., 1., 0., 0., 1., 1., 0., 1., 1., 1., 1., 1.,\n",
      "        0., 0., 0., 1., 1., 1., 0., 0., 1., 1., 0., 0., 1., 1., 1., 0., 1., 1.,\n",
      "        0., 0., 1., 0., 1., 1., 1., 1., 0., 0., 0., 0., 0., 0., 1., 1., 1., 1.,\n",
      "        1., 0., 0., 0., 0., 0., 0., 0., 1., 1., 0., 1., 0., 0., 0., 0., 1., 1.,\n",
      "        0., 0., 1., 0., 0., 1., 0., 0., 0., 0., 1., 1., 0., 0., 1., 1., 0., 1.,\n",
      "        1., 1., 0., 1., 1., 1., 0., 0., 0., 0., 1., 0., 1., 0., 0., 1., 1., 0.,\n",
      "        0., 0., 0., 1., 0., 0., 1., 0., 0., 1., 1., 0., 0., 0., 0., 0., 1., 1.,\n",
      "        1., 1., 1., 0., 1., 0., 0., 0., 1., 0., 1., 0., 0., 0., 0., 0., 0., 1.,\n",
      "        1., 0., 1., 0., 1., 1., 1., 1., 0., 0., 0., 1., 0., 1., 0., 0., 1., 1.,\n",
      "        1., 0., 0., 0., 0., 0., 1., 1., 0., 0., 0., 1., 1., 0., 0., 0., 0., 1.,\n",
      "        0., 1., 0., 0., 1., 0., 0., 0., 0., 0., 0., 1., 0., 0., 0., 1., 0., 0.,\n",
      "        0., 1., 1., 1., 1., 0., 0., 0., 0., 0., 0., 1., 0., 1., 0., 1., 0., 0.,\n",
      "        0., 1., 1., 0., 1., 1., 1., 0., 0., 1., 0., 0., 0., 1., 1., 0., 1., 1.,\n",
      "        1., 0., 0., 1., 1., 1., 1., 1., 1., 1., 1., 0., 1., 1., 0., 0., 1., 1.,\n",
      "        1., 1., 1., 1., 1., 0., 1., 1., 0., 0., 0., 1., 0., 0., 1., 0., 0., 1.,\n",
      "        1., 0., 0., 0., 0., 0., 1., 1., 1., 0., 1., 0., 1., 1., 1., 0., 1., 1.,\n",
      "        0., 0., 1., 0., 0., 1., 0., 1., 1., 0., 0., 1., 1., 0., 1., 0., 0., 0.,\n",
      "        1., 0., 1., 1., 0., 1., 1., 1., 1., 1., 1., 0., 1., 0., 1., 0., 0., 1.,\n",
      "        1., 1., 0., 0., 1., 0., 1., 1., 0., 0., 1., 0., 1., 1., 1., 1., 1., 0.,\n",
      "        1., 1., 0., 0., 1., 0., 1., 1., 0., 1., 1., 0., 1., 1., 0., 1., 0., 1.,\n",
      "        1., 0., 0., 0., 1., 0., 0., 1., 0., 1., 1., 0., 1., 1., 1., 1., 1., 1.,\n",
      "        0., 0., 0., 0., 1., 1., 0., 0., 1., 0., 0., 0., 0., 0., 0., 1., 0., 1.,\n",
      "        0., 1., 1., 1., 1., 1., 0., 1., 0., 1., 0., 1., 1., 0., 1., 1., 1., 0.,\n",
      "        0., 1., 0., 1., 0., 1., 1., 0., 0., 0., 0., 0., 1., 0., 0., 0., 0., 0.,\n",
      "        1., 1., 0., 0., 0., 1., 0., 0., 1., 1., 1., 0., 1., 1., 1., 1., 1., 0.,\n",
      "        1., 1., 1., 1., 1., 1., 0., 0., 0., 0., 1., 1., 0., 0., 1., 0., 0., 1.,\n",
      "        1., 1., 1., 1., 0., 0., 0., 1., 0., 0., 1., 1., 1., 1., 1., 0., 1., 1.,\n",
      "        1., 1., 1., 0., 1., 1., 1., 0., 1., 0., 1., 1., 1., 0., 0., 1., 0., 1.,\n",
      "        1., 1., 1., 0., 1., 0., 1., 0., 0., 1., 0., 1., 0., 0., 0., 0., 1., 0.,\n",
      "        1., 1., 1., 0., 0., 0., 1., 1., 1., 0., 1., 1., 0., 1., 0., 1., 0., 1.,\n",
      "        0., 0., 0., 1., 0., 1., 0., 0., 1., 1., 0., 1., 1., 1., 1., 1., 1., 1.,\n",
      "        1., 0., 1., 1., 0., 0., 0., 1., 0., 1., 0., 0., 0., 0., 1., 1., 1., 0.,\n",
      "        0., 0., 1., 0., 1., 0., 0., 1., 0., 1., 1., 1., 0., 0., 0., 0., 1., 1.,\n",
      "        1., 1., 0., 0., 0., 0., 1., 0., 0., 1., 1., 0., 1., 0., 0., 1., 1., 0.,\n",
      "        1., 0., 1., 1., 0., 0., 1., 0., 0., 0., 1., 1., 0., 0., 1., 1., 1., 1.,\n",
      "        1., 1., 0., 0., 1., 1., 1., 1., 1., 0., 0., 1., 1., 1., 0., 0., 0., 0.,\n",
      "        0., 0., 1., 0., 1., 1., 1., 0., 1., 0., 0., 0., 1., 1., 1., 1., 0., 0.,\n",
      "        0., 0., 0., 1., 0., 1., 1., 0., 0., 0., 0., 1., 0., 1., 1., 0., 0., 0.,\n",
      "        1., 0., 1., 1., 1., 0., 1., 0., 1., 1., 0., 0., 0., 0., 0., 0., 1., 1.,\n",
      "        1., 0., 0., 0., 1., 0., 1., 0., 1., 0.])\n",
      "\n",
      "Shape of y:torch.Size([1000])\n"
     ]
    }
   ],
   "source": [
    "print('y:\\n', y, '\\n\\nShape of y:', np.shape(y), sep='')"
   ]
  },
  {
   "cell_type": "markdown",
   "metadata": {},
   "source": [
    "## 1.2 Shuffling the datasets"
   ]
  },
  {
   "cell_type": "markdown",
   "metadata": {},
   "source": [
    "Shuffling using the `torch.randperm()` function. Learn more about this function [here](https://pytorch.org/docs/stable/generated/torch.randperm.html). "
   ]
  },
  {
   "cell_type": "markdown",
   "metadata": {},
   "source": [
    "Here, the first argument needs to be the size `n` in `int`. The `y.size()` simply won't work since the `torch.Tensor.size()` function returns the size as an object. We pass in the first dimension (0th) to retrieve size of the first dim in `int`. Values other than 0 won't work since this tensor only has one dim. "
   ]
  },
  {
   "cell_type": "code",
   "execution_count": 91,
   "metadata": {
    "colab": {
     "base_uri": "https://localhost:8080/"
    },
    "id": "iW3ACthE9UHy",
    "outputId": "78b58ca4-f620-4f96-f766-c485df103932"
   },
   "outputs": [
    {
     "name": "stdout",
     "output_type": "stream",
     "text": [
      "Sampled shuffled data:\n",
      "\n",
      "tensor([937, 859, 548, 487, 148, 190, 199, 632,  33, 714])\n"
     ]
    }
   ],
   "source": [
    "# Shuffling data\n",
    "torch.manual_seed(10)\n",
    "\n",
    "# Creating a shuffled dataset ranging from 0 to n - 1 (999)\n",
    "shuffledData = torch.randperm(y.size(0), dtype=torch.long)\n",
    "\n",
    "# Printing a sample from our shuffled data\n",
    "print(f'Sampled shuffled data:\\n\\n{shuffledData[:10]}')\n",
    "\n",
    "X, y = X[shuffledData], y[shuffledData]\n"
   ]
  },
  {
   "cell_type": "code",
   "execution_count": 90,
   "metadata": {},
   "outputs": [
    {
     "name": "stdout",
     "output_type": "stream",
     "text": [
      "Shuffled generated data:\n",
      "\n",
      "tensor([937, 859, 548, 487, 148, 190, 199, 632,  33, 714, 726, 238, 593, 108,\n",
      "        226, 353, 680, 292, 312, 204, 428, 317, 164, 615, 679, 159, 886, 210,\n",
      "        647, 603, 774, 360,  40, 173, 672, 744, 383, 824, 485, 811, 437, 386,\n",
      "        917, 310, 977, 636, 478, 869, 358, 743, 216, 735,  99, 770, 690, 101,\n",
      "        874, 509, 967, 303, 739, 273, 440, 115, 876, 104, 370, 394, 907, 182,\n",
      "        402, 612, 207, 215, 469, 961,  94, 979, 459, 806, 609, 375,  66, 638,\n",
      "        980,  50, 781, 135, 831, 357,  27, 451, 408, 355, 398, 367, 623, 930,\n",
      "        498, 189, 585, 549, 678, 796, 978, 648, 673, 955,  45, 987, 954, 959,\n",
      "        414, 643, 711, 731, 692, 950, 838, 206, 785, 244, 423,  37, 633, 875,\n",
      "        291, 776, 333,  18, 936, 846, 171, 213, 730, 547, 666, 178, 488, 365,\n",
      "        323, 445, 481, 535, 933, 657, 998, 832, 422, 768, 778, 343, 913, 337,\n",
      "        863, 803, 121, 286, 250, 176, 305, 167, 684, 139, 299, 887, 943,  85,\n",
      "        988, 667,  48, 762, 646, 510, 468, 123, 606, 243, 233, 625, 218, 766,\n",
      "        724, 102, 706, 361, 598,  20, 997, 640, 265, 327,  77, 693,  63, 520,\n",
      "        229, 283, 114, 253, 480, 462, 144, 432, 688, 814, 681, 523, 180, 106,\n",
      "        610, 626, 940, 417, 453, 280, 246, 571, 197,  72, 278,  92, 819, 808,\n",
      "        163, 929,  96, 390, 971, 534,  98, 467, 579, 257, 141,  65, 898, 794,\n",
      "        799, 237, 460, 474,  16, 897, 582, 669, 316, 255, 450, 843, 771, 658,\n",
      "        179, 401, 983, 212, 107, 707, 759, 254, 580, 674, 957, 973, 956, 986,\n",
      "        336, 873, 314, 844, 828, 513, 575, 495, 994, 926, 805, 500, 521,  84,\n",
      "        682,  95, 634, 230, 231, 157, 725, 727,  60, 470, 721, 372, 388, 723,\n",
      "        963, 827, 686,  56, 409, 946, 712, 700, 340, 627, 741, 352, 602, 754,\n",
      "         83, 584, 410, 717, 899, 890, 592, 262, 368, 493, 958, 974, 411, 793,\n",
      "        904, 266, 443,  58, 294, 311, 192, 889, 275, 914,  21, 880,  30, 252,\n",
      "        346, 319, 864, 399, 479,  47, 351, 306, 629, 522, 594, 951, 720, 975,\n",
      "        999, 856, 186, 555, 366, 909, 850, 662, 356, 962, 507, 701, 795, 611,\n",
      "        301, 463, 642,  43, 377, 416,  22, 665, 489, 833, 285, 581, 732, 858,\n",
      "        761, 162, 942, 840, 236, 550, 600, 484, 738,  24, 256, 158, 644, 429,\n",
      "        309, 588, 240, 359, 389, 103, 465, 362, 583, 248, 464, 773, 628, 807,\n",
      "        433, 400, 995, 381,  10, 124, 363, 492, 120, 934, 332, 174,  78, 304,\n",
      "        217, 349, 800, 639, 412, 931, 984, 454, 220, 896, 524, 475,  97, 116,\n",
      "        834, 341, 137, 261, 915, 290, 288, 733,  87, 126, 232,  13, 573, 239,\n",
      "        267, 494, 835, 630, 816, 418, 221, 407, 790,  75, 499,  55,  12, 968,\n",
      "         51, 483, 177, 151, 920,  69, 689, 737, 789, 560, 671, 544, 439, 797,\n",
      "        972, 486, 604, 719, 661, 882, 559, 342, 613, 871, 752, 763, 364, 224,\n",
      "        764, 491, 553,  54, 918, 572, 809, 271, 818, 455, 745, 922, 392,  57,\n",
      "        345, 842, 112, 996, 100, 697, 391, 525, 823, 263, 888, 105, 403, 545,\n",
      "        128, 944, 512,  15, 702, 586, 245, 134, 118, 710, 654, 109, 847, 782,\n",
      "        533, 935, 949,  29, 775, 990,  38, 476, 894, 449,  81,  32, 938, 872,\n",
      "        590, 748, 892, 965, 641, 562, 574,  70, 276, 676, 339, 649, 496, 928,\n",
      "        747,  14, 430, 281, 982, 373, 518,  61, 618, 503, 921, 269, 298, 502,\n",
      "        260, 264,  89, 227, 927, 729, 497, 329, 798, 952,  11, 853, 425, 663,\n",
      "        564, 851, 170, 542, 675,  31, 322, 905, 150, 925,  88, 713, 715, 142,\n",
      "        891,  44, 617, 537,  76, 749, 895, 380, 538, 198, 505, 757, 405, 705,\n",
      "        160, 247, 791, 421, 779, 945, 855, 635, 302, 683, 865, 155, 320, 722,\n",
      "        966, 415,   0, 378,  82, 225, 786, 228, 758, 374, 742, 325, 767, 153,\n",
      "        668, 514, 168, 677, 670, 645, 205, 953, 321, 347, 420, 812, 270, 607,\n",
      "        191, 703, 277, 614, 172, 300, 201, 558,  62, 813, 802, 183, 541, 939,\n",
      "        699, 169, 315, 318, 765, 685, 324, 214, 307, 993, 441, 557, 376,  86,\n",
      "        395, 140,  52, 552, 769, 589, 750, 371, 659, 330, 354, 526,   9, 413,\n",
      "        313, 279, 258, 960, 532, 419,  49, 777, 435, 444, 387,  23,  17, 566,\n",
      "        862, 637, 728,  34,  19, 274, 331, 760, 508, 149, 893, 563, 596, 991,\n",
      "        941, 565,   1, 780, 161, 461, 452, 883, 900, 569, 556, 334,  64, 839,\n",
      "        122, 308, 561, 516, 567,  90, 616, 184, 396, 138, 687, 344, 338, 528,\n",
      "        554, 868, 504, 976,  91, 113, 536, 490, 527, 804, 605, 854, 424, 235,\n",
      "         67, 350, 601, 879, 821, 152, 621, 829, 473,  39, 825, 241, 653, 709,\n",
      "        624, 472,  42, 755,  25, 622, 906, 287, 165, 125, 916, 660, 223, 446,\n",
      "        691, 947, 878, 546,  68, 328, 911, 515, 434,   3, 203, 787, 181,   7,\n",
      "        335, 822, 852, 289, 295, 708, 698, 826, 577, 695, 923, 788, 456, 482,\n",
      "        881, 631, 132,  79, 477, 202, 404,   8, 619, 651, 506, 704, 772, 175,\n",
      "        696, 985, 501,  26, 884, 511, 591, 222, 234, 194, 426, 540,  36, 608,\n",
      "        146, 867, 694, 147, 284, 519, 517, 427, 830, 964, 293, 652, 948, 815,\n",
      "        866, 734, 531, 282, 718, 211, 145, 196, 836, 902, 901,  35, 384, 385,\n",
      "        870, 992, 587, 156, 845, 746,  46, 919, 817, 860, 130, 188, 268, 908,\n",
      "        117, 187, 570, 127, 784, 539, 466, 193, 912, 981, 154,   5, 740, 259,\n",
      "        664, 620,  74, 133, 166, 195, 543,  41, 438, 272, 576, 820, 111,  71,\n",
      "        736, 595, 393,  80, 185, 969, 251,  28, 348,  93, 861,  53, 599, 885,\n",
      "        447, 849, 530, 471, 326, 129, 756,   6, 857, 877,   4, 597, 200, 242,\n",
      "        131, 209, 219, 551, 841, 578,  59, 397, 903, 650, 656, 119, 801,   2,\n",
      "        436, 379, 110, 406, 568, 970, 753, 529, 297, 431, 442, 848, 751, 143,\n",
      "        783, 910, 458, 457, 208, 810,  73, 837, 249, 989, 382, 924, 136, 716,\n",
      "        448, 296, 655, 369, 932, 792])\n"
     ]
    }
   ],
   "source": [
    "print(f'Shuffled generated data:\\n\\n{shuffledData}')"
   ]
  },
  {
   "cell_type": "code",
   "execution_count": 56,
   "metadata": {},
   "outputs": [
    {
     "name": "stdout",
     "output_type": "stream",
     "text": [
      "Shuffled X:\n",
      "\n",
      "tensor([[-0.2643,  0.7443,  0.9623, -0.4680],\n",
      "        [ 0.0725, -0.4687, -0.2111, -0.2730],\n",
      "        [-0.4264,  0.9077,  1.6107, -1.1994],\n",
      "        ...,\n",
      "        [ 0.0877,  0.1500, -0.3985,  0.7575],\n",
      "        [ 0.1541, -1.3487, -0.3788, -1.1143],\n",
      "        [ 0.4422, -0.7953, -1.6997,  1.4657]])\n"
     ]
    }
   ],
   "source": [
    "print(f'Shuffled X:\\n\\n{X}')"
   ]
  },
  {
   "cell_type": "code",
   "execution_count": 57,
   "metadata": {},
   "outputs": [
    {
     "name": "stdout",
     "output_type": "stream",
     "text": [
      "Shuffled y:\n",
      "\n",
      "tensor([0., 0., 0., 1., 1., 0., 1., 0., 1., 1., 0., 0., 0., 0., 0., 1., 0., 0.,\n",
      "        0., 0., 0., 0., 0., 0., 0., 0., 0., 0., 1., 1., 1., 0., 0., 0., 0., 0.,\n",
      "        1., 0., 0., 1., 1., 0., 1., 1., 0., 1., 0., 0., 1., 1., 1., 1., 0., 1.,\n",
      "        0., 1., 1., 1., 1., 1., 1., 1., 0., 1., 0., 0., 1., 1., 0., 1., 1., 1.,\n",
      "        0., 0., 1., 0., 0., 0., 0., 0., 0., 1., 0., 0., 1., 0., 0., 1., 1., 0.,\n",
      "        1., 0., 0., 0., 0., 0., 0., 1., 0., 0., 0., 0., 0., 1., 1., 1., 0., 0.,\n",
      "        0., 0., 0., 1., 1., 1., 0., 0., 0., 1., 0., 1., 1., 0., 0., 1., 0., 1.,\n",
      "        1., 1., 0., 1., 0., 1., 1., 0., 1., 1., 0., 1., 1., 1., 1., 1., 0., 1.,\n",
      "        0., 1., 1., 0., 1., 1., 1., 0., 0., 0., 0., 1., 1., 1., 1., 0., 1., 0.,\n",
      "        0., 1., 1., 0., 0., 0., 1., 0., 0., 0., 0., 1., 0., 0., 1., 1., 1., 1.,\n",
      "        1., 1., 0., 1., 0., 0., 0., 1., 0., 1., 1., 0., 0., 1., 0., 1., 0., 1.,\n",
      "        0., 0., 0., 1., 0., 1., 1., 0., 1., 0., 0., 0., 0., 1., 1., 0., 0., 0.,\n",
      "        1., 1., 0., 1., 1., 0., 0., 1., 0., 1., 1., 1., 0., 1., 1., 1., 0., 0.,\n",
      "        1., 0., 1., 1., 0., 0., 0., 0., 1., 1., 0., 0., 0., 0., 1., 1., 0., 1.,\n",
      "        1., 0., 0., 1., 0., 1., 1., 1., 0., 1., 1., 0., 0., 0., 0., 1., 1., 1.,\n",
      "        0., 1., 1., 0., 1., 1., 0., 0., 1., 1., 0., 0., 1., 1., 1., 1., 1., 0.,\n",
      "        1., 0., 1., 0., 1., 0., 0., 1., 1., 0., 0., 0., 0., 1., 1., 1., 1., 0.,\n",
      "        1., 0., 1., 1., 0., 0., 0., 0., 0., 1., 0., 0., 0., 1., 0., 1., 0., 0.,\n",
      "        1., 1., 0., 1., 1., 0., 0., 1., 1., 1., 1., 0., 0., 1., 0., 1., 1., 1.,\n",
      "        1., 0., 0., 1., 1., 1., 1., 1., 0., 0., 0., 0., 0., 0., 0., 1., 0., 0.,\n",
      "        0., 0., 0., 1., 1., 0., 1., 0., 1., 1., 0., 1., 1., 1., 0., 1., 1., 0.,\n",
      "        0., 0., 1., 1., 1., 0., 1., 0., 1., 0., 1., 1., 0., 0., 1., 1., 1., 1.,\n",
      "        0., 0., 0., 1., 1., 1., 0., 1., 1., 0., 0., 0., 0., 1., 0., 1., 0., 0.,\n",
      "        0., 0., 0., 0., 1., 1., 1., 0., 0., 1., 1., 1., 0., 0., 1., 0., 0., 0.,\n",
      "        1., 1., 0., 1., 0., 0., 1., 0., 1., 1., 0., 0., 1., 0., 0., 1., 1., 0.,\n",
      "        0., 1., 1., 1., 1., 0., 0., 0., 1., 0., 1., 1., 1., 1., 0., 1., 0., 1.,\n",
      "        1., 0., 1., 0., 1., 1., 1., 0., 1., 0., 1., 0., 1., 1., 0., 1., 1., 1.,\n",
      "        1., 1., 0., 1., 0., 0., 0., 1., 1., 1., 0., 1., 1., 0., 0., 1., 0., 0.,\n",
      "        0., 1., 0., 1., 1., 0., 0., 1., 1., 0., 1., 1., 0., 0., 1., 1., 0., 1.,\n",
      "        0., 0., 0., 1., 1., 0., 0., 1., 0., 1., 0., 0., 1., 1., 1., 1., 0., 0.,\n",
      "        1., 1., 1., 0., 1., 0., 1., 1., 1., 1., 0., 0., 1., 0., 1., 0., 1., 0.,\n",
      "        0., 0., 0., 0., 0., 0., 0., 0., 1., 0., 1., 0., 0., 1., 1., 0., 0., 0.,\n",
      "        1., 1., 0., 1., 1., 1., 1., 0., 0., 1., 0., 1., 1., 0., 0., 1., 0., 0.,\n",
      "        1., 0., 1., 1., 1., 0., 0., 1., 1., 0., 0., 0., 0., 1., 0., 0., 1., 1.,\n",
      "        1., 1., 1., 1., 0., 1., 1., 0., 1., 0., 1., 0., 1., 1., 0., 0., 1., 0.,\n",
      "        0., 1., 1., 1., 0., 1., 1., 1., 1., 1., 1., 0., 1., 1., 0., 0., 1., 0.,\n",
      "        1., 1., 1., 0., 0., 0., 0., 1., 1., 0., 0., 1., 1., 0., 1., 0., 0., 1.,\n",
      "        1., 0., 0., 1., 1., 0., 1., 1., 1., 1., 0., 1., 0., 1., 0., 0., 0., 1.,\n",
      "        0., 0., 0., 0., 1., 0., 1., 0., 0., 1., 0., 1., 0., 1., 0., 1., 0., 0.,\n",
      "        0., 1., 1., 0., 0., 0., 0., 0., 0., 0., 1., 1., 1., 1., 1., 0., 1., 1.,\n",
      "        1., 0., 1., 0., 0., 0., 1., 0., 1., 1., 0., 1., 0., 1., 0., 1., 1., 0.,\n",
      "        0., 0., 0., 1., 1., 0., 0., 0., 0., 0., 1., 0., 0., 0., 1., 0., 1., 1.,\n",
      "        1., 1., 0., 1., 0., 0., 0., 1., 1., 0., 0., 0., 1., 0., 1., 1., 1., 0.,\n",
      "        1., 1., 0., 0., 0., 0., 1., 0., 0., 0., 1., 1., 1., 1., 0., 1., 1., 1.,\n",
      "        1., 1., 1., 1., 0., 0., 1., 0., 0., 1., 0., 1., 1., 0., 1., 0., 0., 0.,\n",
      "        1., 0., 0., 0., 0., 1., 1., 1., 1., 0., 0., 1., 1., 0., 1., 0., 1., 1.,\n",
      "        1., 0., 0., 1., 0., 1., 1., 0., 1., 0., 1., 1., 1., 0., 1., 1., 0., 0.,\n",
      "        0., 0., 0., 1., 0., 1., 1., 1., 0., 0., 0., 1., 0., 0., 1., 0., 0., 0.,\n",
      "        0., 1., 1., 0., 1., 1., 1., 0., 0., 0., 0., 0., 1., 1., 0., 1., 0., 0.,\n",
      "        0., 0., 1., 1., 1., 0., 0., 1., 1., 1., 0., 0., 1., 0., 0., 0., 1., 0.,\n",
      "        1., 1., 0., 0., 0., 1., 1., 0., 1., 0., 1., 0., 1., 1., 1., 0., 1., 0.,\n",
      "        1., 0., 0., 1., 1., 0., 1., 0., 1., 1., 1., 0., 1., 0., 0., 0., 1., 1.,\n",
      "        1., 0., 0., 1., 1., 0., 1., 1., 1., 0., 0., 0., 0., 1., 0., 0., 0., 1.,\n",
      "        1., 1., 1., 1., 0., 0., 1., 0., 0., 1., 1., 1., 1., 1., 1., 1., 1., 0.,\n",
      "        0., 1., 0., 1., 0., 1., 0., 1., 0., 1., 0., 1., 0., 1., 0., 1., 1., 1.,\n",
      "        1., 1., 1., 0., 1., 0., 1., 0., 0., 1.])\n"
     ]
    }
   ],
   "source": [
    "print(f'Shuffled y:\\n\\n{y}')"
   ]
  },
  {
   "cell_type": "code",
   "execution_count": 58,
   "metadata": {
    "id": "htyqar_O_gQS"
   },
   "outputs": [],
   "source": [
    "#### Train Test split\n",
    "train_size=int(suffle_idx.size(0)*0.7)\n",
    "train_idx= suffle_idx[:train_size]\n",
    "test_idx=suffle_idx[train_size:]\n",
    "X_train,y_train=X[train_idx],y[train_idx]\n",
    "X_test,y_test=X[test_idx],y[test_idx]"
   ]
  },
  {
   "cell_type": "code",
   "execution_count": 59,
   "metadata": {
    "colab": {
     "base_uri": "https://localhost:8080/"
    },
    "id": "y612znKOZBe1",
    "outputId": "07bb4952-66b5-4ac9-e895-9076c0b6960a"
   },
   "outputs": [
    {
     "data": {
      "text/plain": [
       "torch.Size([700, 4])"
      ]
     },
     "execution_count": 59,
     "metadata": {},
     "output_type": "execute_result"
    }
   ],
   "source": [
    "X_train.shape"
   ]
  },
  {
   "cell_type": "code",
   "execution_count": 60,
   "metadata": {
    "colab": {
     "base_uri": "https://localhost:8080/"
    },
    "id": "qph9HFKGZE5I",
    "outputId": "5c47991d-c58f-4513-b43d-b547410de2c4"
   },
   "outputs": [
    {
     "data": {
      "text/plain": [
       "torch.Size([300, 4])"
      ]
     },
     "execution_count": 60,
     "metadata": {},
     "output_type": "execute_result"
    }
   ],
   "source": [
    "X_test.shape"
   ]
  },
  {
   "cell_type": "code",
   "execution_count": 61,
   "metadata": {
    "id": "b6lDzsNjAD6Q"
   },
   "outputs": [],
   "source": [
    "#### Normalize\n",
    "\n",
    "mean,std_dev=X_train.mean(dim=0) ,X_train.std(dim=0)\n",
    "X_train=(X_train-mean)/std_dev\n",
    "X_test=(X_test-mean)/std_dev"
   ]
  },
  {
   "cell_type": "code",
   "execution_count": 62,
   "metadata": {
    "id": "QDGeHX1VDcDG"
   },
   "outputs": [],
   "source": [
    "import torch.nn as nn\n",
    "from torch.autograd import grad"
   ]
  },
  {
   "cell_type": "code",
   "execution_count": 63,
   "metadata": {
    "id": "S5gFo5e-Dkon"
   },
   "outputs": [],
   "source": [
    "class NN():\n",
    "  def __init__(self,n_features):\n",
    "    self.n_features=n_features\n",
    "    self.weight=torch.zeros(size=(n_features,1),dtype=torch.float,requires_grad=True)\n",
    "    self.bias=torch.zeros(1,dtype=torch.float,requires_grad=True)\n",
    "  \n",
    "\n",
    "  def forward(self,x):\n",
    "    output=torch.add(torch.mm(x,self.weight),self.bias)\n",
    "    return output.view(-1)\n",
    "\n",
    "def loss_fn(yhat,y):\n",
    "  return torch.mean((yhat-y)**2)\n"
   ]
  },
  {
   "cell_type": "code",
   "execution_count": 64,
   "metadata": {
    "id": "W4VG658oG6Sk"
   },
   "outputs": [],
   "source": [
    "def train(model,x,y,n_epoch=10,lr=0.001,seed=23,bsz=50):\n",
    "\n",
    "  cost=[]\n",
    "  torch.manual_seed(seed)\n",
    "  for i in range(n_epoch):\n",
    "    suffle_idx=torch.randperm(y.size(0))\n",
    "    batches=torch.split(suffle_idx,bsz)\n",
    "\n",
    "    for idx in batches:\n",
    "\n",
    "      ###1. Compute the output\n",
    "      yhat=model.forward(x[idx])\n",
    "\n",
    "      ###2. Compute the Error\n",
    "      loss=loss_fn(yhat,y[idx])\n",
    "\n",
    "      ###3. Compute the gradient\n",
    "      grad_w=grad(loss,model.weight,retain_graph=True)[0]\n",
    "      grad_b=grad(loss,model.bias)[0]\n",
    "\n",
    "      ###4. Update Model Parameters\n",
    "      model.weight=model.weight-lr*grad_w\n",
    "      model.bias=model.bias-lr*grad_b\n",
    "\n",
    "    ###5. Log and print the loss\n",
    "    with torch.no_grad():\n",
    "      yhat=model.forward(x)\n",
    "      curr_loss=loss_fn(yhat,y)\n",
    "      print('Epoc: %3d ' % (i+1),end=\"\")\n",
    "      print('| MSE % .5f' % curr_loss)\n",
    "      cost.append(curr_loss)\n",
    "      \n",
    "  return cost\n",
    "\n",
    "\n"
   ]
  },
  {
   "cell_type": "code",
   "execution_count": 65,
   "metadata": {
    "colab": {
     "base_uri": "https://localhost:8080/"
    },
    "id": "pg5M3m31Fo39",
    "outputId": "50233a25-36e3-42f6-8117-5252501930c8"
   },
   "outputs": [
    {
     "name": "stdout",
     "output_type": "stream",
     "text": [
      "Epoc:   1 | MSE  0.46409\n",
      "Epoc:   2 | MSE  0.44051\n",
      "Epoc:   3 | MSE  0.41902\n",
      "Epoc:   4 | MSE  0.39938\n",
      "Epoc:   5 | MSE  0.38140\n",
      "Epoc:   6 | MSE  0.36487\n",
      "Epoc:   7 | MSE  0.34966\n",
      "Epoc:   8 | MSE  0.33562\n",
      "Epoc:   9 | MSE  0.32266\n",
      "Epoc:  10 | MSE  0.31067\n",
      "Epoc:  11 | MSE  0.29955\n",
      "Epoc:  12 | MSE  0.28921\n",
      "Epoc:  13 | MSE  0.27959\n",
      "Epoc:  14 | MSE  0.27064\n",
      "Epoc:  15 | MSE  0.26229\n",
      "Epoc:  16 | MSE  0.25449\n",
      "Epoc:  17 | MSE  0.24720\n",
      "Epoc:  18 | MSE  0.24038\n",
      "Epoc:  19 | MSE  0.23398\n",
      "Epoc:  20 | MSE  0.22799\n",
      "Epoc:  21 | MSE  0.22238\n",
      "Epoc:  22 | MSE  0.21710\n",
      "Epoc:  23 | MSE  0.21215\n",
      "Epoc:  24 | MSE  0.20749\n",
      "Epoc:  25 | MSE  0.20312\n",
      "Epoc:  26 | MSE  0.19899\n",
      "Epoc:  27 | MSE  0.19512\n",
      "Epoc:  28 | MSE  0.19146\n",
      "Epoc:  29 | MSE  0.18802\n",
      "Epoc:  30 | MSE  0.18478\n",
      "Epoc:  31 | MSE  0.18172\n",
      "Epoc:  32 | MSE  0.17885\n",
      "Epoc:  33 | MSE  0.17613\n",
      "Epoc:  34 | MSE  0.17357\n",
      "Epoc:  35 | MSE  0.17115\n",
      "Epoc:  36 | MSE  0.16887\n",
      "Epoc:  37 | MSE  0.16672\n",
      "Epoc:  38 | MSE  0.16469\n",
      "Epoc:  39 | MSE  0.16278\n",
      "Epoc:  40 | MSE  0.16097\n",
      "Epoc:  41 | MSE  0.15927\n",
      "Epoc:  42 | MSE  0.15765\n",
      "Epoc:  43 | MSE  0.15613\n",
      "Epoc:  44 | MSE  0.15469\n",
      "Epoc:  45 | MSE  0.15334\n",
      "Epoc:  46 | MSE  0.15206\n",
      "Epoc:  47 | MSE  0.15085\n",
      "Epoc:  48 | MSE  0.14970\n",
      "Epoc:  49 | MSE  0.14862\n",
      "Epoc:  50 | MSE  0.14760\n"
     ]
    }
   ],
   "source": [
    "model=NN(X_train.size(1))\n",
    "cost=train(model,X_train,y_train,n_epoch=50)"
   ]
  },
  {
   "cell_type": "code",
   "execution_count": 66,
   "metadata": {
    "colab": {
     "base_uri": "https://localhost:8080/",
     "height": 283
    },
    "id": "AUiMMWXeX2X6",
    "outputId": "b1901d29-9b95-434f-c1fb-a9b6e4d1872b"
   },
   "outputs": [
    {
     "data": {
      "image/png": "[encoded data removed]",
      "text/plain": [
       "<Figure size 432x288 with 1 Axes>"
      ]
     },
     "metadata": {
      "needs_background": "light"
     },
     "output_type": "display_data"
    }
   ],
   "source": [
    "import matplotlib.pyplot as plt\n",
    "plt.plot(range(len(cost)),cost)\n",
    "plt.ylabel('Mean Sqare Error')\n",
    "plt.xlabel('Epoc')\n",
    "plt.show()"
   ]
  },
  {
   "cell_type": "code",
   "execution_count": 67,
   "metadata": {
    "colab": {
     "base_uri": "https://localhost:8080/"
    },
    "id": "noMdRIQnY2yD",
    "outputId": "798b447e-19e3-4e70-ec05-df2d4dd25edd"
   },
   "outputs": [
    {
     "name": "stdout",
     "output_type": "stream",
     "text": [
      "Training Accuracy: 80.86\n",
      "Testing Accuracy: 82.33\n"
     ]
    }
   ],
   "source": [
    "ones=torch.ones(y_train.size())\n",
    "zero=torch.zeros(y_train.size())\n",
    "train_pred=model.forward(X_train)\n",
    "train_acc=torch.mean((  \n",
    "    torch.where(train_pred > 0.5,\n",
    "                ones,zero).int()==y_train).float())\n",
    "\n",
    "\n",
    "ones=torch.ones(y_test.size())\n",
    "zeros=torch.zeros(y_test.size())\n",
    "test_pred=model.forward(X_test)\n",
    "test_acc=torch.mean((torch.where(test_pred> 0.5,ones,zeros).int()==y_test).float())\n",
    "\n",
    "print('Training Accuracy: %.2f' % (train_acc*100))\n",
    "print('Testing Accuracy: %.2f' % (test_acc*100))\n"
   ]
  },
  {
   "cell_type": "markdown",
   "metadata": {
    "id": "0jE4vxUqhE9S"
   },
   "source": [
    "### Model Using Pytorch"
   ]
  },
  {
   "cell_type": "code",
   "execution_count": 68,
   "metadata": {
    "id": "y3lKWHDh3Z2E"
   },
   "outputs": [],
   "source": [
    "import torch\n",
    "import sklearn\n",
    "import torch.nn.functional as F"
   ]
  },
  {
   "cell_type": "code",
   "execution_count": 69,
   "metadata": {
    "id": "mIvsPBpi3exX"
   },
   "outputs": [],
   "source": [
    "from sklearn.datasets import make_classification\n",
    "from sklearn.model_selection import train_test_split\n",
    "from sklearn.preprocessing import StandardScaler"
   ]
  },
  {
   "cell_type": "code",
   "execution_count": 70,
   "metadata": {
    "id": "1JIHbj2035fP"
   },
   "outputs": [],
   "source": [
    "### Create The dataset\n",
    "X,y=make_classification(n_samples=1000,n_classes=2,n_features=4)\n",
    "\n",
    "### Normalize the Data\n",
    "scaler=StandardScaler()\n",
    "X=scaler.fit_transform(X)\n",
    "\n",
    "### Array to Tensor\n",
    "X=torch.tensor(X,dtype=torch.float32)\n",
    "y=torch.tensor(y,dtype=torch.float32)"
   ]
  },
  {
   "cell_type": "code",
   "execution_count": null,
   "metadata": {
    "id": "CqWr2Ybd5ugi"
   },
   "outputs": [],
   "source": []
  },
  {
   "cell_type": "code",
   "execution_count": 71,
   "metadata": {
    "colab": {
     "base_uri": "https://localhost:8080/"
    },
    "id": "vOTlEa224ok7",
    "outputId": "7d0e30ec-414b-47b5-a702-1af88a23c1b0"
   },
   "outputs": [
    {
     "name": "stdout",
     "output_type": "stream",
     "text": [
      "torch.Size([700, 4])\n",
      "torch.Size([300, 4])\n"
     ]
    }
   ],
   "source": [
    "X_train,X_test,y_train,y_test=train_test_split(X,y,test_size=.3,random_state=21)\n",
    "print(X_train.shape)\n",
    "print(X_test.shape)"
   ]
  },
  {
   "cell_type": "code",
   "execution_count": null,
   "metadata": {
    "id": "vpJjGYOI6Qk7"
   },
   "outputs": [],
   "source": []
  },
  {
   "cell_type": "code",
   "execution_count": 72,
   "metadata": {
    "id": "DNSgj7UkhIIK"
   },
   "outputs": [],
   "source": [
    "class NNpt(nn.Module):\n",
    "  def __init__(self,n_features):\n",
    "    super(NNpt,self).__init__()\n",
    "    self.linear=nn.Linear(n_features,1)\n",
    "\n",
    "    self.linear.weight.detach().zero_()\n",
    "    self.linear.bias.detach().zero_()\n",
    "\n",
    "\n",
    "  def forward(self,x):\n",
    "    out=self.linear(x)\n",
    "    return out.view(-1)\n",
    "\n",
    "\n",
    "\n",
    "    "
   ]
  },
  {
   "cell_type": "code",
   "execution_count": 73,
   "metadata": {
    "id": "HQNqqR33nsLH"
   },
   "outputs": [],
   "source": [
    "def train(model,x,y,n_epoch=10,lr=0.001,seed=23,bsz=50):\n",
    "\n",
    "  cost=[]\n",
    "  torch.manual_seed(seed)\n",
    "   ### Optimizer\n",
    "  optimizer=torch.optim.SGD(model.parameters(),lr=lr)\n",
    "  for i in range(n_epoch):\n",
    "    suffle_idx=torch.randperm(y.size(0))\n",
    "    batches=torch.split(suffle_idx,bsz)\n",
    "\n",
    "    for idx in batches:\n",
    "      ###1. Compute the Output\n",
    "      yhat=model.forward(x[idx])\n",
    "\n",
    "      ###2. Compute the Loss\n",
    "      loss=torch.nn.functional.mse_loss(yhat,y[idx])\n",
    "\n",
    "      ###3. Compute the Gradients\n",
    "      optimizer.zero_grad()\n",
    "      loss.backward()\n",
    "\n",
    "      ###4. Update the Model Parameters\n",
    "      optimizer.step()\n",
    "\n",
    "      #model.weight=model.weight-lr*grad_w\n",
    "      #model.bias=model.bias-lr*grad_b\n",
    "\n",
    "    ###5. Log and print the Loss\n",
    "    with torch.no_grad():\n",
    "      yhat=model.forward(x)\n",
    "      curr_loss=loss_fn(yhat,y)\n",
    "      print('Epoc: %3d ' % (i+1),end=\"\")\n",
    "      print('| MSE % .5f' % curr_loss)\n",
    "      cost.append(curr_loss)\n",
    "      \n",
    "  return cost"
   ]
  },
  {
   "cell_type": "code",
   "execution_count": 74,
   "metadata": {
    "id": "sPFjue7WlmW-"
   },
   "outputs": [],
   "source": [
    "n_feature=X_train.size(1)\n",
    "model=NNpt(n_features=n_feature)\n"
   ]
  },
  {
   "cell_type": "code",
   "execution_count": 75,
   "metadata": {
    "colab": {
     "base_uri": "https://localhost:8080/"
    },
    "id": "li9AFeIanQZS",
    "outputId": "f145db74-ccf1-44c1-9094-3f0976c4f715"
   },
   "outputs": [
    {
     "name": "stdout",
     "output_type": "stream",
     "text": [
      "Epoc:   1 | MSE  0.46971\n",
      "Epoc:   2 | MSE  0.44415\n",
      "Epoc:   3 | MSE  0.42030\n",
      "Epoc:   4 | MSE  0.39806\n",
      "Epoc:   5 | MSE  0.37730\n",
      "Epoc:   6 | MSE  0.35791\n",
      "Epoc:   7 | MSE  0.33980\n",
      "Epoc:   8 | MSE  0.32288\n",
      "Epoc:   9 | MSE  0.30707\n",
      "Epoc:  10 | MSE  0.29229\n",
      "Epoc:  11 | MSE  0.27846\n",
      "Epoc:  12 | MSE  0.26553\n",
      "Epoc:  13 | MSE  0.25342\n",
      "Epoc:  14 | MSE  0.24209\n",
      "Epoc:  15 | MSE  0.23148\n",
      "Epoc:  16 | MSE  0.22155\n",
      "Epoc:  17 | MSE  0.21224\n",
      "Epoc:  18 | MSE  0.20353\n",
      "Epoc:  19 | MSE  0.19535\n",
      "Epoc:  20 | MSE  0.18770\n",
      "Epoc:  21 | MSE  0.18052\n",
      "Epoc:  22 | MSE  0.17379\n",
      "Epoc:  23 | MSE  0.16748\n",
      "Epoc:  24 | MSE  0.16156\n",
      "Epoc:  25 | MSE  0.15601\n",
      "Epoc:  26 | MSE  0.15081\n",
      "Epoc:  27 | MSE  0.14592\n",
      "Epoc:  28 | MSE  0.14133\n",
      "Epoc:  29 | MSE  0.13703\n",
      "Epoc:  30 | MSE  0.13299\n",
      "Epoc:  31 | MSE  0.12920\n",
      "Epoc:  32 | MSE  0.12564\n",
      "Epoc:  33 | MSE  0.12230\n",
      "Epoc:  34 | MSE  0.11916\n",
      "Epoc:  35 | MSE  0.11622\n",
      "Epoc:  36 | MSE  0.11345\n",
      "Epoc:  37 | MSE  0.11085\n",
      "Epoc:  38 | MSE  0.10840\n",
      "Epoc:  39 | MSE  0.10611\n",
      "Epoc:  40 | MSE  0.10395\n",
      "Epoc:  41 | MSE  0.10192\n",
      "Epoc:  42 | MSE  0.10001\n",
      "Epoc:  43 | MSE  0.09822\n",
      "Epoc:  44 | MSE  0.09654\n",
      "Epoc:  45 | MSE  0.09495\n",
      "Epoc:  46 | MSE  0.09346\n",
      "Epoc:  47 | MSE  0.09206\n",
      "Epoc:  48 | MSE  0.09074\n",
      "Epoc:  49 | MSE  0.08951\n",
      "Epoc:  50 | MSE  0.08834\n"
     ]
    }
   ],
   "source": [
    "cost=train(model,X_train,y_train,n_epoch=50)"
   ]
  },
  {
   "cell_type": "code",
   "execution_count": 76,
   "metadata": {
    "colab": {
     "base_uri": "https://localhost:8080/",
     "height": 296
    },
    "id": "U7FElcjK6m8I",
    "outputId": "47f7d6fd-5ae3-4624-d13d-5bed7b8f6241"
   },
   "outputs": [
    {
     "data": {
      "text/plain": [
       "[]"
      ]
     },
     "execution_count": 76,
     "metadata": {},
     "output_type": "execute_result"
    },
    {
     "data": {
      "image/png": "[encoded data removed]",
      "text/plain": [
       "<Figure size 432x288 with 1 Axes>"
      ]
     },
     "metadata": {
      "needs_background": "light"
     },
     "output_type": "display_data"
    }
   ],
   "source": [
    "plt.plot(range(len(cost)),cost)\n",
    "plt.xlabel('No of Epochs')\n",
    "plt.ylabel('Mean Squared Error')\n",
    "plt.plot()"
   ]
  },
  {
   "cell_type": "code",
   "execution_count": 77,
   "metadata": {
    "colab": {
     "base_uri": "https://localhost:8080/"
    },
    "id": "gb4XmG8W7UjJ",
    "outputId": "0432b60a-b8ef-43aa-f984-72d115be05dc"
   },
   "outputs": [
    {
     "name": "stdout",
     "output_type": "stream",
     "text": [
      "Training Accuracy : 0.88\n",
      "Testing Accuracy: 0.87\n"
     ]
    }
   ],
   "source": [
    "ones=torch.ones(y_train.size(0))\n",
    "zero=torch.zeros(y_train.size(0))\n",
    "train_pred=model.forward(X_train)\n",
    "\n",
    "train_acc=torch.mean((torch.where( train_pred >0.5 , ones,zero).int()==y_train).float())\n",
    "#print(train_acc)\n",
    "\n",
    "ones=torch.ones(y_test.size(0))\n",
    "zero=torch.zeros(y_test.size(0))\n",
    "test_pred=model.forward(X_test)\n",
    "\n",
    "test_acc=torch.mean((torch.where( test_pred >0.5 , ones,zero).int()==y_test).float())\n",
    "print('Training Accuracy : %.2f' % train_acc)\n",
    "print('Testing Accuracy: %.2f' % test_acc)"
   ]
  },
  {
   "cell_type": "markdown",
   "metadata": {
    "id": "Jw4-SmjGAwKw"
   },
   "source": [
    "### Logistic Regression"
   ]
  },
  {
   "cell_type": "code",
   "execution_count": 78,
   "metadata": {
    "id": "fOvf9DILA0Vt"
   },
   "outputs": [],
   "source": [
    "def train(model,x,y,n_epoch=10,lr=0.001,seed=23,bsz=50):\n",
    "\n",
    "  cost=[]\n",
    "  torch.manual_seed(seed)\n",
    "   ### Optimizer\n",
    "  optimizer=torch.optim.SGD(model.parameters(),lr=lr)\n",
    "  for i in range(n_epoch):\n",
    "    suffle_idx=torch.randperm(y.size(0))\n",
    "    batches=torch.split(suffle_idx,bsz)\n",
    "\n",
    "    for idx in batches:\n",
    "      ###1. Compute the Output\n",
    "      yhat=model.forward(x[idx])\n",
    "\n",
    "      ###2. Compute the Loss\n",
    "      loss=torch.nn.functional.binary_cross_entropy(torch.sigmoid(yhat),y[idx])\n",
    "\n",
    "      ###3. Compute the Gradients\n",
    "      optimizer.zero_grad()\n",
    "      loss.backward()\n",
    "\n",
    "      ###4. Update the Model Parameters\n",
    "      optimizer.step()\n",
    "\n",
    "      #model.weight=model.weight-lr*grad_w\n",
    "      #model.bias=model.bias-lr*grad_b\n",
    "\n",
    "    ###5. Log and print the Loss\n",
    "    with torch.no_grad():\n",
    "      yhat=model.forward(x)\n",
    "      curr_loss=loss_fn(yhat,y)\n",
    "      print('Epoc: %3d ' % (i+1),end=\"\")\n",
    "      print('| MSE % .5f' % curr_loss)\n",
    "      cost.append(curr_loss)\n",
    "      \n",
    "  return cost"
   ]
  },
  {
   "cell_type": "code",
   "execution_count": 79,
   "metadata": {
    "id": "PIUIMhifBawi"
   },
   "outputs": [],
   "source": [
    "n_feature=X_train.size(1)\n",
    "model=NNpt(n_features=n_feature)\n"
   ]
  },
  {
   "cell_type": "code",
   "execution_count": 80,
   "metadata": {
    "colab": {
     "base_uri": "https://localhost:8080/"
    },
    "id": "0C-2cXsdBdVJ",
    "outputId": "ed9a77fd-d8ef-4f71-a847-b43084ba8542"
   },
   "outputs": [
    {
     "name": "stdout",
     "output_type": "stream",
     "text": [
      "Epoc:   1 | MSE  0.49001\n",
      "Epoc:   2 | MSE  0.48307\n",
      "Epoc:   3 | MSE  0.47631\n",
      "Epoc:   4 | MSE  0.46974\n",
      "Epoc:   5 | MSE  0.46334\n",
      "Epoc:   6 | MSE  0.45712\n",
      "Epoc:   7 | MSE  0.45108\n",
      "Epoc:   8 | MSE  0.44521\n",
      "Epoc:   9 | MSE  0.43951\n",
      "Epoc:  10 | MSE  0.43397\n",
      "Epoc:  11 | MSE  0.42860\n",
      "Epoc:  12 | MSE  0.42340\n",
      "Epoc:  13 | MSE  0.41835\n",
      "Epoc:  14 | MSE  0.41346\n",
      "Epoc:  15 | MSE  0.40872\n",
      "Epoc:  16 | MSE  0.40414\n",
      "Epoc:  17 | MSE  0.39971\n",
      "Epoc:  18 | MSE  0.39543\n",
      "Epoc:  19 | MSE  0.39129\n",
      "Epoc:  20 | MSE  0.38729\n",
      "Epoc:  21 | MSE  0.38344\n",
      "Epoc:  22 | MSE  0.37973\n",
      "Epoc:  23 | MSE  0.37615\n",
      "Epoc:  24 | MSE  0.37271\n",
      "Epoc:  25 | MSE  0.36941\n",
      "Epoc:  26 | MSE  0.36623\n",
      "Epoc:  27 | MSE  0.36319\n",
      "Epoc:  28 | MSE  0.36027\n",
      "Epoc:  29 | MSE  0.35748\n",
      "Epoc:  30 | MSE  0.35481\n",
      "Epoc:  31 | MSE  0.35227\n",
      "Epoc:  32 | MSE  0.34984\n",
      "Epoc:  33 | MSE  0.34754\n",
      "Epoc:  34 | MSE  0.34535\n",
      "Epoc:  35 | MSE  0.34327\n",
      "Epoc:  36 | MSE  0.34131\n",
      "Epoc:  37 | MSE  0.33946\n",
      "Epoc:  38 | MSE  0.33772\n",
      "Epoc:  39 | MSE  0.33609\n",
      "Epoc:  40 | MSE  0.33456\n",
      "Epoc:  41 | MSE  0.33314\n",
      "Epoc:  42 | MSE  0.33182\n",
      "Epoc:  43 | MSE  0.33061\n",
      "Epoc:  44 | MSE  0.32949\n",
      "Epoc:  45 | MSE  0.32847\n",
      "Epoc:  46 | MSE  0.32755\n",
      "Epoc:  47 | MSE  0.32673\n",
      "Epoc:  48 | MSE  0.32600\n",
      "Epoc:  49 | MSE  0.32537\n",
      "Epoc:  50 | MSE  0.32482\n"
     ]
    }
   ],
   "source": [
    "cost=train(model,X_train,y_train,n_epoch=50)"
   ]
  },
  {
   "cell_type": "code",
   "execution_count": 81,
   "metadata": {
    "colab": {
     "base_uri": "https://localhost:8080/",
     "height": 296
    },
    "id": "Poh0lJYHBzdN",
    "outputId": "05690313-01fe-4f9f-ce45-5cc3a1eb05e2"
   },
   "outputs": [
    {
     "data": {
      "text/plain": [
       "[]"
      ]
     },
     "execution_count": 81,
     "metadata": {},
     "output_type": "execute_result"
    },
    {
     "data": {
      "image/png": "[encoded data removed]",
      "text/plain": [
       "<Figure size 432x288 with 1 Axes>"
      ]
     },
     "metadata": {
      "needs_background": "light"
     },
     "output_type": "display_data"
    }
   ],
   "source": [
    "plt.plot(range(len(cost)),cost)\n",
    "plt.xlabel('No of Epochs')\n",
    "plt.ylabel('Mean Squared Error')\n",
    "plt.plot()"
   ]
  },
  {
   "cell_type": "code",
   "execution_count": 82,
   "metadata": {
    "colab": {
     "base_uri": "https://localhost:8080/"
    },
    "id": "AwaMm8VzCmgc",
    "outputId": "2601e687-d501-49d6-8805-a6354afd42de"
   },
   "outputs": [
    {
     "name": "stdout",
     "output_type": "stream",
     "text": [
      "Training Accuracy : 0.63\n",
      "Testing Accuracy: 0.61\n"
     ]
    }
   ],
   "source": [
    "ones=torch.ones(y_train.size(0))\n",
    "zero=torch.zeros(y_train.size(0))\n",
    "train_pred=model.forward(X_train)\n",
    "\n",
    "train_acc=torch.mean((torch.where( train_pred >0.5 , ones,zero).int()==y_train).float())\n",
    "#print(train_acc)\n",
    "\n",
    "ones=torch.ones(y_test.size(0))\n",
    "zero=torch.zeros(y_test.size(0))\n",
    "test_pred=model.forward(X_test)\n",
    "\n",
    "test_acc=torch.mean((torch.where( test_pred >0.5 , ones,zero).int()==y_test).float())\n",
    "print('Training Accuracy : %.2f' % train_acc)\n",
    "print('Testing Accuracy: %.2f' % test_acc)"
   ]
  },
  {
   "cell_type": "code",
   "execution_count": null,
   "metadata": {
    "id": "A8RpExgxC_Ys"
   },
   "outputs": [],
   "source": []
  }
 ],
 "metadata": {
  "colab": {
   "provenance": []
  },
  "kernelspec": {
   "display_name": "Python 3 (ipykernel)",
   "language": "python",
   "name": "python3"
  },
  "language_info": {
   "codemirror_mode": {
    "name": "ipython",
    "version": 3
   },
   "file_extension": ".py",
   "mimetype": "text/x-python",
   "name": "python",
   "nbconvert_exporter": "python",
   "pygments_lexer": "ipython3",
   "version": "3.9.12"
  },
  "vscode": {
   "interpreter": {
    "hash": "f0b7333da218775e0d10eaa8939b9fba0a40c900e904e0630ec4f402e4ffc861"
   }
  }
 },
 "nbformat": 4,
 "nbformat_minor": 1
}
