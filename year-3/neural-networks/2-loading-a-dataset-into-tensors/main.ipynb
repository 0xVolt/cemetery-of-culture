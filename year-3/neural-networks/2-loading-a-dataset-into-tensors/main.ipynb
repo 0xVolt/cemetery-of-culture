{
 "cells": [
  {
   "cell_type": "markdown",
   "metadata": {},
   "source": [
    "### 0. Installing dependencies"
   ]
  },
  {
   "cell_type": "code",
   "execution_count": 3,
   "metadata": {},
   "outputs": [],
   "source": [
    "# Importing libraries\n",
    "import matplotlib.pyplot as plt\n",
    "import pandas as pd\n",
    "import numpy as np\n",
    "import torch"
   ]
  },
  {
   "cell_type": "markdown",
   "metadata": {},
   "source": [
    "### 1. Loading data"
   ]
  },
  {
   "cell_type": "code",
   "execution_count": 6,
   "metadata": {},
   "outputs": [],
   "source": [
    "# Loading downloaded FIDE data into pandas\n",
    "csvPath = r'C:\\Users\\deshi\\Code\\cemetery-of-culture\\year-3\\neural-networks\\2-loading-a-dataset-into-tensors\\Chess FIDE Rankings.csv'\n",
    "\n",
    "df = pd.read_csv(csvPath)"
   ]
  },
  {
   "cell_type": "code",
   "execution_count": 11,
   "metadata": {},
   "outputs": [
    {
     "data": {
      "text/html": [
       "<div>\n",
       "<style scoped>\n",
       "    .dataframe tbody tr th:only-of-type {\n",
       "        vertical-align: middle;\n",
       "    }\n",
       "\n",
       "    .dataframe tbody tr th {\n",
       "        vertical-align: top;\n",
       "    }\n",
       "\n",
       "    .dataframe thead th {\n",
       "        text-align: right;\n",
       "    }\n",
       "</style>\n",
       "<table border=\"1\" class=\"dataframe\">\n",
       "  <thead>\n",
       "    <tr style=\"text-align: right;\">\n",
       "      <th></th>\n",
       "      <th>rank</th>\n",
       "      <th>name</th>\n",
       "      <th>ELO</th>\n",
       "      <th>title</th>\n",
       "      <th>federation</th>\n",
       "      <th>games</th>\n",
       "      <th>birth_year</th>\n",
       "    </tr>\n",
       "  </thead>\n",
       "  <tbody>\n",
       "    <tr>\n",
       "      <th>0</th>\n",
       "      <td>1</td>\n",
       "      <td>Magnus Carlsen</td>\n",
       "      <td>2864</td>\n",
       "      <td>GM</td>\n",
       "      <td>Norway</td>\n",
       "      <td>3125</td>\n",
       "      <td>1990</td>\n",
       "    </tr>\n",
       "    <tr>\n",
       "      <th>1</th>\n",
       "      <td>2</td>\n",
       "      <td>Liren Ding</td>\n",
       "      <td>2806</td>\n",
       "      <td>GM</td>\n",
       "      <td>China</td>\n",
       "      <td>1630</td>\n",
       "      <td>1992</td>\n",
       "    </tr>\n",
       "    <tr>\n",
       "      <th>2</th>\n",
       "      <td>3</td>\n",
       "      <td>Alireza Firouzja</td>\n",
       "      <td>2793</td>\n",
       "      <td>GM</td>\n",
       "      <td>France</td>\n",
       "      <td>845</td>\n",
       "      <td>2003</td>\n",
       "    </tr>\n",
       "    <tr>\n",
       "      <th>3</th>\n",
       "      <td>4</td>\n",
       "      <td>Fabiano Caruana</td>\n",
       "      <td>2783</td>\n",
       "      <td>GM</td>\n",
       "      <td>United States</td>\n",
       "      <td>2622</td>\n",
       "      <td>1992</td>\n",
       "    </tr>\n",
       "    <tr>\n",
       "      <th>4</th>\n",
       "      <td>5</td>\n",
       "      <td>Levon Aronian</td>\n",
       "      <td>2775</td>\n",
       "      <td>GM</td>\n",
       "      <td>United States</td>\n",
       "      <td>3320</td>\n",
       "      <td>1982</td>\n",
       "    </tr>\n",
       "    <tr>\n",
       "      <th>...</th>\n",
       "      <td>...</td>\n",
       "      <td>...</td>\n",
       "      <td>...</td>\n",
       "      <td>...</td>\n",
       "      <td>...</td>\n",
       "      <td>...</td>\n",
       "      <td>...</td>\n",
       "    </tr>\n",
       "    <tr>\n",
       "      <th>195</th>\n",
       "      <td>196</td>\n",
       "      <td>Boris Alterman</td>\n",
       "      <td>2608</td>\n",
       "      <td>GM</td>\n",
       "      <td>Israel</td>\n",
       "      <td>697</td>\n",
       "      <td>1970</td>\n",
       "    </tr>\n",
       "    <tr>\n",
       "      <th>196</th>\n",
       "      <td>197</td>\n",
       "      <td>Chithambaram VR Aravindh</td>\n",
       "      <td>2608</td>\n",
       "      <td>GM</td>\n",
       "      <td>India</td>\n",
       "      <td>535</td>\n",
       "      <td>1999</td>\n",
       "    </tr>\n",
       "    <tr>\n",
       "      <th>197</th>\n",
       "      <td>198</td>\n",
       "      <td>Jonas Buhl Bjerre</td>\n",
       "      <td>2608</td>\n",
       "      <td>GM</td>\n",
       "      <td>Denmark</td>\n",
       "      <td>411</td>\n",
       "      <td>2004</td>\n",
       "    </tr>\n",
       "    <tr>\n",
       "      <th>198</th>\n",
       "      <td>199</td>\n",
       "      <td>Surya Shekhar Ganguly</td>\n",
       "      <td>2608</td>\n",
       "      <td>GM</td>\n",
       "      <td>India</td>\n",
       "      <td>1811</td>\n",
       "      <td>1983</td>\n",
       "    </tr>\n",
       "    <tr>\n",
       "      <th>199</th>\n",
       "      <td>200</td>\n",
       "      <td>Vadim Milov</td>\n",
       "      <td>2608</td>\n",
       "      <td>GM</td>\n",
       "      <td>Switzerland</td>\n",
       "      <td>1583</td>\n",
       "      <td>1972</td>\n",
       "    </tr>\n",
       "  </tbody>\n",
       "</table>\n",
       "<p>200 rows × 7 columns</p>\n",
       "</div>"
      ],
      "text/plain": [
       "     rank                       name   ELO  title     federation   games  \\\n",
       "0        1            Magnus Carlsen   2864    GM         Norway    3125   \n",
       "1        2                Liren Ding   2806    GM          China    1630   \n",
       "2        3          Alireza Firouzja   2793    GM         France     845   \n",
       "3        4            Fabiano Caruana  2783    GM  United States    2622   \n",
       "4        5             Levon Aronian   2775    GM  United States    3320   \n",
       "..     ...                        ...   ...   ...             ...    ...   \n",
       "195    196            Boris Alterman   2608    GM         Israel     697   \n",
       "196    197  Chithambaram VR Aravindh   2608    GM          India     535   \n",
       "197    198         Jonas Buhl Bjerre   2608    GM        Denmark     411   \n",
       "198    199     Surya Shekhar Ganguly   2608    GM          India    1811   \n",
       "199    200               Vadim Milov   2608    GM    Switzerland    1583   \n",
       "\n",
       "     birth_year  \n",
       "0          1990  \n",
       "1          1992  \n",
       "2          2003  \n",
       "3          1992  \n",
       "4          1982  \n",
       "..          ...  \n",
       "195        1970  \n",
       "196        1999  \n",
       "197        2004  \n",
       "198        1983  \n",
       "199        1972  \n",
       "\n",
       "[200 rows x 7 columns]"
      ]
     },
     "execution_count": 11,
     "metadata": {},
     "output_type": "execute_result"
    }
   ],
   "source": [
    "# Printing the dataset\n",
    "df"
   ]
  },
  {
   "cell_type": "markdown",
   "metadata": {},
   "source": [
    "### 2. Data cleaning"
   ]
  },
  {
   "cell_type": "code",
   "execution_count": 26,
   "metadata": {},
   "outputs": [],
   "source": [
    "# Updating the column names\n",
    "newColList = [\n",
    "    'Rank',\n",
    "    'Name',\n",
    "    'Rating',\n",
    "    'Title',\n",
    "    'Federation',\n",
    "    'Games Played',\n",
    "    'Year of Birth'\n",
    "]\n",
    "\n",
    "df.columns = newColList"
   ]
  },
  {
   "cell_type": "code",
   "execution_count": 27,
   "metadata": {},
   "outputs": [
    {
     "data": {
      "text/plain": [
       "['Rank',\n",
       " 'Name',\n",
       " 'Rating',\n",
       " 'Title',\n",
       " 'Federation',\n",
       " 'Games Played',\n",
       " 'Year of Birth']"
      ]
     },
     "execution_count": 27,
     "metadata": {},
     "output_type": "execute_result"
    }
   ],
   "source": [
    "# Columns of the dataset as a list\n",
    "df.columns.to_list()"
   ]
  },
  {
   "cell_type": "code",
   "execution_count": 28,
   "metadata": {},
   "outputs": [
    {
     "data": {
      "text/html": [
       "<div>\n",
       "<style scoped>\n",
       "    .dataframe tbody tr th:only-of-type {\n",
       "        vertical-align: middle;\n",
       "    }\n",
       "\n",
       "    .dataframe tbody tr th {\n",
       "        vertical-align: top;\n",
       "    }\n",
       "\n",
       "    .dataframe thead th {\n",
       "        text-align: right;\n",
       "    }\n",
       "</style>\n",
       "<table border=\"1\" class=\"dataframe\">\n",
       "  <thead>\n",
       "    <tr style=\"text-align: right;\">\n",
       "      <th></th>\n",
       "      <th>Rank</th>\n",
       "      <th>Name</th>\n",
       "      <th>Rating</th>\n",
       "      <th>Title</th>\n",
       "      <th>Federation</th>\n",
       "      <th>Games Played</th>\n",
       "      <th>Year of Birth</th>\n",
       "    </tr>\n",
       "  </thead>\n",
       "  <tbody>\n",
       "    <tr>\n",
       "      <th>0</th>\n",
       "      <td>1</td>\n",
       "      <td>Magnus Carlsen</td>\n",
       "      <td>2864</td>\n",
       "      <td>GM</td>\n",
       "      <td>Norway</td>\n",
       "      <td>3125</td>\n",
       "      <td>1990</td>\n",
       "    </tr>\n",
       "    <tr>\n",
       "      <th>1</th>\n",
       "      <td>2</td>\n",
       "      <td>Liren Ding</td>\n",
       "      <td>2806</td>\n",
       "      <td>GM</td>\n",
       "      <td>China</td>\n",
       "      <td>1630</td>\n",
       "      <td>1992</td>\n",
       "    </tr>\n",
       "    <tr>\n",
       "      <th>2</th>\n",
       "      <td>3</td>\n",
       "      <td>Alireza Firouzja</td>\n",
       "      <td>2793</td>\n",
       "      <td>GM</td>\n",
       "      <td>France</td>\n",
       "      <td>845</td>\n",
       "      <td>2003</td>\n",
       "    </tr>\n",
       "    <tr>\n",
       "      <th>3</th>\n",
       "      <td>4</td>\n",
       "      <td>Fabiano Caruana</td>\n",
       "      <td>2783</td>\n",
       "      <td>GM</td>\n",
       "      <td>United States</td>\n",
       "      <td>2622</td>\n",
       "      <td>1992</td>\n",
       "    </tr>\n",
       "    <tr>\n",
       "      <th>4</th>\n",
       "      <td>5</td>\n",
       "      <td>Levon Aronian</td>\n",
       "      <td>2775</td>\n",
       "      <td>GM</td>\n",
       "      <td>United States</td>\n",
       "      <td>3320</td>\n",
       "      <td>1982</td>\n",
       "    </tr>\n",
       "    <tr>\n",
       "      <th>...</th>\n",
       "      <td>...</td>\n",
       "      <td>...</td>\n",
       "      <td>...</td>\n",
       "      <td>...</td>\n",
       "      <td>...</td>\n",
       "      <td>...</td>\n",
       "      <td>...</td>\n",
       "    </tr>\n",
       "    <tr>\n",
       "      <th>195</th>\n",
       "      <td>196</td>\n",
       "      <td>Boris Alterman</td>\n",
       "      <td>2608</td>\n",
       "      <td>GM</td>\n",
       "      <td>Israel</td>\n",
       "      <td>697</td>\n",
       "      <td>1970</td>\n",
       "    </tr>\n",
       "    <tr>\n",
       "      <th>196</th>\n",
       "      <td>197</td>\n",
       "      <td>Chithambaram VR Aravindh</td>\n",
       "      <td>2608</td>\n",
       "      <td>GM</td>\n",
       "      <td>India</td>\n",
       "      <td>535</td>\n",
       "      <td>1999</td>\n",
       "    </tr>\n",
       "    <tr>\n",
       "      <th>197</th>\n",
       "      <td>198</td>\n",
       "      <td>Jonas Buhl Bjerre</td>\n",
       "      <td>2608</td>\n",
       "      <td>GM</td>\n",
       "      <td>Denmark</td>\n",
       "      <td>411</td>\n",
       "      <td>2004</td>\n",
       "    </tr>\n",
       "    <tr>\n",
       "      <th>198</th>\n",
       "      <td>199</td>\n",
       "      <td>Surya Shekhar Ganguly</td>\n",
       "      <td>2608</td>\n",
       "      <td>GM</td>\n",
       "      <td>India</td>\n",
       "      <td>1811</td>\n",
       "      <td>1983</td>\n",
       "    </tr>\n",
       "    <tr>\n",
       "      <th>199</th>\n",
       "      <td>200</td>\n",
       "      <td>Vadim Milov</td>\n",
       "      <td>2608</td>\n",
       "      <td>GM</td>\n",
       "      <td>Switzerland</td>\n",
       "      <td>1583</td>\n",
       "      <td>1972</td>\n",
       "    </tr>\n",
       "  </tbody>\n",
       "</table>\n",
       "<p>200 rows × 7 columns</p>\n",
       "</div>"
      ],
      "text/plain": [
       "     Rank                       Name  Rating Title      Federation  \\\n",
       "0       1            Magnus Carlsen     2864    GM         Norway    \n",
       "1       2                Liren Ding     2806    GM          China    \n",
       "2       3          Alireza Firouzja     2793    GM         France    \n",
       "3       4            Fabiano Caruana    2783    GM  United States    \n",
       "4       5             Levon Aronian     2775    GM  United States    \n",
       "..    ...                        ...     ...   ...             ...   \n",
       "195   196            Boris Alterman     2608    GM         Israel    \n",
       "196   197  Chithambaram VR Aravindh     2608    GM          India    \n",
       "197   198         Jonas Buhl Bjerre     2608    GM        Denmark    \n",
       "198   199     Surya Shekhar Ganguly     2608    GM          India    \n",
       "199   200               Vadim Milov     2608    GM    Switzerland    \n",
       "\n",
       "     Games Played  Year of Birth  \n",
       "0            3125           1990  \n",
       "1            1630           1992  \n",
       "2             845           2003  \n",
       "3            2622           1992  \n",
       "4            3320           1982  \n",
       "..            ...            ...  \n",
       "195           697           1970  \n",
       "196           535           1999  \n",
       "197           411           2004  \n",
       "198          1811           1983  \n",
       "199          1583           1972  \n",
       "\n",
       "[200 rows x 7 columns]"
      ]
     },
     "execution_count": 28,
     "metadata": {},
     "output_type": "execute_result"
    }
   ],
   "source": [
    "df"
   ]
  },
  {
   "cell_type": "code",
   "execution_count": 8,
   "metadata": {},
   "outputs": [
    {
     "data": {
      "text/plain": [
       "(200, 7)"
      ]
     },
     "execution_count": 8,
     "metadata": {},
     "output_type": "execute_result"
    }
   ],
   "source": [
    "# Check the shape of data\n",
    "df.shape"
   ]
  },
  {
   "cell_type": "code",
   "execution_count": 20,
   "metadata": {},
   "outputs": [
    {
     "data": {
      "text/plain": [
       "count     200.000000\n",
       "mean     1394.185000\n",
       "std       776.177129\n",
       "min       277.000000\n",
       "25%       785.000000\n",
       "50%      1211.000000\n",
       "75%      1784.000000\n",
       "max      3913.000000\n",
       "Name: games, dtype: float64"
      ]
     },
     "execution_count": 20,
     "metadata": {},
     "output_type": "execute_result"
    }
   ],
   "source": [
    "# Check the summary statistics of the 'games' column\n",
    "df['games'].describe()"
   ]
  },
  {
   "cell_type": "code",
   "execution_count": 25,
   "metadata": {},
   "outputs": [
    {
     "data": {
      "text/plain": [
       "count     200.000000\n",
       "mean     2662.385000\n",
       "std        47.208793\n",
       "min      2608.000000\n",
       "25%      2623.750000\n",
       "50%      2650.500000\n",
       "75%      2686.000000\n",
       "max      2864.000000\n",
       "Name: ELO , dtype: float64"
      ]
     },
     "execution_count": 25,
     "metadata": {},
     "output_type": "execute_result"
    }
   ],
   "source": [
    "df['ELO '].describe()"
   ]
  },
  {
   "cell_type": "code",
   "execution_count": null,
   "metadata": {},
   "outputs": [],
   "source": []
  }
 ],
 "metadata": {
  "kernelspec": {
   "display_name": "Python 3.9.7 ('base')",
   "language": "python",
   "name": "python3"
  },
  "language_info": {
   "codemirror_mode": {
    "name": "ipython",
    "version": 3
   },
   "file_extension": ".py",
   "mimetype": "text/x-python",
   "name": "python",
   "nbconvert_exporter": "python",
   "pygments_lexer": "ipython3",
   "version": "3.9.7"
  },
  "orig_nbformat": 4,
  "vscode": {
   "interpreter": {
    "hash": "f0b7333da218775e0d10eaa8939b9fba0a40c900e904e0630ec4f402e4ffc861"
   }
  }
 },
 "nbformat": 4,
 "nbformat_minor": 2
}
