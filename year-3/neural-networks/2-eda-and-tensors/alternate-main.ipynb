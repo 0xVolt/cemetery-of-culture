{
  "cells": [
    {
      "cell_type": "markdown",
      "metadata": {
        "id": "LZhVekJxN6Qi"
      },
      "source": [
        "Class Work\n"
      ]
    },
    {
      "cell_type": "markdown",
      "metadata": {
        "id": "f5e_6K7-L0fg"
      },
      "source": [
        "(Assignment Work at bottom)\n"
      ]
    },
    {
      "cell_type": "code",
      "execution_count": 1,
      "metadata": {
        "id": "gYDTGbVzcZFk"
      },
      "outputs": [],
      "source": [
        "import torch\n",
        "import pandas as pd\n",
        "import matplotlib.pyplot as plt\n",
        "import numpy as np\n"
      ]
    },
    {
      "cell_type": "code",
      "execution_count": 2,
      "metadata": {
        "id": "4P-gvS93cbh9"
      },
      "outputs": [],
      "source": [
        "data = pd.read_csv(\n",
        "    r'C:\\Users\\deshi\\Code\\cemetery-of-culture\\year-3\\neural-networks\\2-eda-and-tensors\\Data Science Job Salaries\\ds_salaries.csv')\n",
        "# data.head()\n",
        "# https://www.kaggle.com/datasets/ruchi798/data-science-job-salaries\n"
      ]
    },
    {
      "cell_type": "code",
      "execution_count": 5,
      "metadata": {},
      "outputs": [
        {
          "data": {
            "text/html": [
              "<div>\n",
              "<style scoped>\n",
              "    .dataframe tbody tr th:only-of-type {\n",
              "        vertical-align: middle;\n",
              "    }\n",
              "\n",
              "    .dataframe tbody tr th {\n",
              "        vertical-align: top;\n",
              "    }\n",
              "\n",
              "    .dataframe thead th {\n",
              "        text-align: right;\n",
              "    }\n",
              "</style>\n",
              "<table border=\"1\" class=\"dataframe\">\n",
              "  <thead>\n",
              "    <tr style=\"text-align: right;\">\n",
              "      <th></th>\n",
              "      <th>Unnamed: 0</th>\n",
              "      <th>work_year</th>\n",
              "      <th>experience_level</th>\n",
              "      <th>employment_type</th>\n",
              "      <th>job_title</th>\n",
              "      <th>salary</th>\n",
              "      <th>salary_currency</th>\n",
              "      <th>salary_in_usd</th>\n",
              "      <th>employee_residence</th>\n",
              "      <th>remote_ratio</th>\n",
              "      <th>company_location</th>\n",
              "      <th>company_size</th>\n",
              "    </tr>\n",
              "  </thead>\n",
              "  <tbody>\n",
              "    <tr>\n",
              "      <th>0</th>\n",
              "      <td>0</td>\n",
              "      <td>2020</td>\n",
              "      <td>MI</td>\n",
              "      <td>FT</td>\n",
              "      <td>Data Scientist</td>\n",
              "      <td>70000</td>\n",
              "      <td>EUR</td>\n",
              "      <td>79833</td>\n",
              "      <td>DE</td>\n",
              "      <td>0</td>\n",
              "      <td>DE</td>\n",
              "      <td>L</td>\n",
              "    </tr>\n",
              "    <tr>\n",
              "      <th>1</th>\n",
              "      <td>1</td>\n",
              "      <td>2020</td>\n",
              "      <td>SE</td>\n",
              "      <td>FT</td>\n",
              "      <td>Machine Learning Scientist</td>\n",
              "      <td>260000</td>\n",
              "      <td>USD</td>\n",
              "      <td>260000</td>\n",
              "      <td>JP</td>\n",
              "      <td>0</td>\n",
              "      <td>JP</td>\n",
              "      <td>S</td>\n",
              "    </tr>\n",
              "    <tr>\n",
              "      <th>2</th>\n",
              "      <td>2</td>\n",
              "      <td>2020</td>\n",
              "      <td>SE</td>\n",
              "      <td>FT</td>\n",
              "      <td>Big Data Engineer</td>\n",
              "      <td>85000</td>\n",
              "      <td>GBP</td>\n",
              "      <td>109024</td>\n",
              "      <td>GB</td>\n",
              "      <td>50</td>\n",
              "      <td>GB</td>\n",
              "      <td>M</td>\n",
              "    </tr>\n",
              "    <tr>\n",
              "      <th>3</th>\n",
              "      <td>3</td>\n",
              "      <td>2020</td>\n",
              "      <td>MI</td>\n",
              "      <td>FT</td>\n",
              "      <td>Product Data Analyst</td>\n",
              "      <td>20000</td>\n",
              "      <td>USD</td>\n",
              "      <td>20000</td>\n",
              "      <td>HN</td>\n",
              "      <td>0</td>\n",
              "      <td>HN</td>\n",
              "      <td>S</td>\n",
              "    </tr>\n",
              "    <tr>\n",
              "      <th>4</th>\n",
              "      <td>4</td>\n",
              "      <td>2020</td>\n",
              "      <td>SE</td>\n",
              "      <td>FT</td>\n",
              "      <td>Machine Learning Engineer</td>\n",
              "      <td>150000</td>\n",
              "      <td>USD</td>\n",
              "      <td>150000</td>\n",
              "      <td>US</td>\n",
              "      <td>50</td>\n",
              "      <td>US</td>\n",
              "      <td>L</td>\n",
              "    </tr>\n",
              "    <tr>\n",
              "      <th>...</th>\n",
              "      <td>...</td>\n",
              "      <td>...</td>\n",
              "      <td>...</td>\n",
              "      <td>...</td>\n",
              "      <td>...</td>\n",
              "      <td>...</td>\n",
              "      <td>...</td>\n",
              "      <td>...</td>\n",
              "      <td>...</td>\n",
              "      <td>...</td>\n",
              "      <td>...</td>\n",
              "      <td>...</td>\n",
              "    </tr>\n",
              "    <tr>\n",
              "      <th>602</th>\n",
              "      <td>602</td>\n",
              "      <td>2022</td>\n",
              "      <td>SE</td>\n",
              "      <td>FT</td>\n",
              "      <td>Data Engineer</td>\n",
              "      <td>154000</td>\n",
              "      <td>USD</td>\n",
              "      <td>154000</td>\n",
              "      <td>US</td>\n",
              "      <td>100</td>\n",
              "      <td>US</td>\n",
              "      <td>M</td>\n",
              "    </tr>\n",
              "    <tr>\n",
              "      <th>603</th>\n",
              "      <td>603</td>\n",
              "      <td>2022</td>\n",
              "      <td>SE</td>\n",
              "      <td>FT</td>\n",
              "      <td>Data Engineer</td>\n",
              "      <td>126000</td>\n",
              "      <td>USD</td>\n",
              "      <td>126000</td>\n",
              "      <td>US</td>\n",
              "      <td>100</td>\n",
              "      <td>US</td>\n",
              "      <td>M</td>\n",
              "    </tr>\n",
              "    <tr>\n",
              "      <th>604</th>\n",
              "      <td>604</td>\n",
              "      <td>2022</td>\n",
              "      <td>SE</td>\n",
              "      <td>FT</td>\n",
              "      <td>Data Analyst</td>\n",
              "      <td>129000</td>\n",
              "      <td>USD</td>\n",
              "      <td>129000</td>\n",
              "      <td>US</td>\n",
              "      <td>0</td>\n",
              "      <td>US</td>\n",
              "      <td>M</td>\n",
              "    </tr>\n",
              "    <tr>\n",
              "      <th>605</th>\n",
              "      <td>605</td>\n",
              "      <td>2022</td>\n",
              "      <td>SE</td>\n",
              "      <td>FT</td>\n",
              "      <td>Data Analyst</td>\n",
              "      <td>150000</td>\n",
              "      <td>USD</td>\n",
              "      <td>150000</td>\n",
              "      <td>US</td>\n",
              "      <td>100</td>\n",
              "      <td>US</td>\n",
              "      <td>M</td>\n",
              "    </tr>\n",
              "    <tr>\n",
              "      <th>606</th>\n",
              "      <td>606</td>\n",
              "      <td>2022</td>\n",
              "      <td>MI</td>\n",
              "      <td>FT</td>\n",
              "      <td>AI Scientist</td>\n",
              "      <td>200000</td>\n",
              "      <td>USD</td>\n",
              "      <td>200000</td>\n",
              "      <td>IN</td>\n",
              "      <td>100</td>\n",
              "      <td>US</td>\n",
              "      <td>L</td>\n",
              "    </tr>\n",
              "  </tbody>\n",
              "</table>\n",
              "<p>607 rows × 12 columns</p>\n",
              "</div>"
            ],
            "text/plain": [
              "     Unnamed: 0  work_year experience_level employment_type  \\\n",
              "0             0       2020               MI              FT   \n",
              "1             1       2020               SE              FT   \n",
              "2             2       2020               SE              FT   \n",
              "3             3       2020               MI              FT   \n",
              "4             4       2020               SE              FT   \n",
              "..          ...        ...              ...             ...   \n",
              "602         602       2022               SE              FT   \n",
              "603         603       2022               SE              FT   \n",
              "604         604       2022               SE              FT   \n",
              "605         605       2022               SE              FT   \n",
              "606         606       2022               MI              FT   \n",
              "\n",
              "                      job_title  salary salary_currency  salary_in_usd  \\\n",
              "0                Data Scientist   70000             EUR          79833   \n",
              "1    Machine Learning Scientist  260000             USD         260000   \n",
              "2             Big Data Engineer   85000             GBP         109024   \n",
              "3          Product Data Analyst   20000             USD          20000   \n",
              "4     Machine Learning Engineer  150000             USD         150000   \n",
              "..                          ...     ...             ...            ...   \n",
              "602               Data Engineer  154000             USD         154000   \n",
              "603               Data Engineer  126000             USD         126000   \n",
              "604                Data Analyst  129000             USD         129000   \n",
              "605                Data Analyst  150000             USD         150000   \n",
              "606                AI Scientist  200000             USD         200000   \n",
              "\n",
              "    employee_residence  remote_ratio company_location company_size  \n",
              "0                   DE             0               DE            L  \n",
              "1                   JP             0               JP            S  \n",
              "2                   GB            50               GB            M  \n",
              "3                   HN             0               HN            S  \n",
              "4                   US            50               US            L  \n",
              "..                 ...           ...              ...          ...  \n",
              "602                 US           100               US            M  \n",
              "603                 US           100               US            M  \n",
              "604                 US             0               US            M  \n",
              "605                 US           100               US            M  \n",
              "606                 IN           100               US            L  \n",
              "\n",
              "[607 rows x 12 columns]"
            ]
          },
          "execution_count": 5,
          "metadata": {},
          "output_type": "execute_result"
        }
      ],
      "source": [
        "data\n"
      ]
    },
    {
      "cell_type": "code",
      "execution_count": 3,
      "metadata": {
        "colab": {
          "base_uri": "https://localhost:8080/"
        },
        "id": "kd0lH4EDzb_l",
        "outputId": "54a4cdff-95e1-4a6b-b140-334094cab4f2"
      },
      "outputs": [
        {
          "data": {
            "text/plain": [
              "Unnamed: 0            0\n",
              "work_year             0\n",
              "experience_level      0\n",
              "employment_type       0\n",
              "job_title             0\n",
              "salary                0\n",
              "salary_currency       0\n",
              "salary_in_usd         0\n",
              "employee_residence    0\n",
              "remote_ratio          0\n",
              "company_location      0\n",
              "company_size          0\n",
              "dtype: int64"
            ]
          },
          "execution_count": 3,
          "metadata": {},
          "output_type": "execute_result"
        }
      ],
      "source": [
        "data.isnull().sum()\n"
      ]
    },
    {
      "cell_type": "code",
      "execution_count": 4,
      "metadata": {
        "id": "3XVT-OlTzxFn"
      },
      "outputs": [
        {
          "ename": "KeyError",
          "evalue": "\"['Have you been forced to have a shorter working week (Kurzarbeit)? If yes, how many hours per week'] not found in axis\"",
          "output_type": "error",
          "traceback": [
            "\u001b[1;31m---------------------------------------------------------------------------\u001b[0m",
            "\u001b[1;31mKeyError\u001b[0m                                  Traceback (most recent call last)",
            "Cell \u001b[1;32mIn [4], line 1\u001b[0m\n\u001b[1;32m----> 1\u001b[0m \u001b[43mdata\u001b[49m\u001b[38;5;241;43m.\u001b[39;49m\u001b[43mdrop\u001b[49m\u001b[43m(\u001b[49m\u001b[38;5;124;43m'\u001b[39;49m\u001b[38;5;124;43mHave you been forced to have a shorter working week (Kurzarbeit)? If yes, how many hours per week\u001b[39;49m\u001b[38;5;124;43m'\u001b[39;49m\u001b[43m,\u001b[49m\u001b[43m \u001b[49m\u001b[43minplace\u001b[49m\u001b[38;5;241;43m=\u001b[39;49m\u001b[38;5;28;43;01mTrue\u001b[39;49;00m\u001b[43m,\u001b[49m\u001b[43m \u001b[49m\u001b[43maxis\u001b[49m\u001b[38;5;241;43m=\u001b[39;49m\u001b[38;5;241;43m1\u001b[39;49m\u001b[43m)\u001b[49m\n\u001b[0;32m      2\u001b[0m data\u001b[38;5;241m.\u001b[39mdrop(\u001b[38;5;124m'\u001b[39m\u001b[38;5;124mHave you received additional monetary support from your employer due to Work From Home? If yes, how much in 2020 in EUR\u001b[39m\u001b[38;5;124m'\u001b[39m, inplace\u001b[38;5;241m=\u001b[39m\u001b[38;5;28;01mTrue\u001b[39;00m, axis\u001b[38;5;241m=\u001b[39m\u001b[38;5;241m1\u001b[39m)\n\u001b[0;32m      3\u001b[0m data\u001b[38;5;241m.\u001b[39mdrop(\u001b[38;5;124m'\u001b[39m\u001b[38;5;124mAnnual bonus+stocks one year ago. Only answer if staying in same country\u001b[39m\u001b[38;5;124m'\u001b[39m, inplace\u001b[38;5;241m=\u001b[39m\u001b[38;5;28;01mTrue\u001b[39;00m, axis\u001b[38;5;241m=\u001b[39m\u001b[38;5;241m1\u001b[39m)\n",
            "File \u001b[1;32mc:\\Users\\deshi\\AppData\\Local\\Programs\\Python\\Python310\\lib\\site-packages\\pandas\\util\\_decorators.py:311\u001b[0m, in \u001b[0;36mdeprecate_nonkeyword_arguments.<locals>.decorate.<locals>.wrapper\u001b[1;34m(*args, **kwargs)\u001b[0m\n\u001b[0;32m    305\u001b[0m \u001b[39mif\u001b[39;00m \u001b[39mlen\u001b[39m(args) \u001b[39m>\u001b[39m num_allow_args:\n\u001b[0;32m    306\u001b[0m     warnings\u001b[39m.\u001b[39mwarn(\n\u001b[0;32m    307\u001b[0m         msg\u001b[39m.\u001b[39mformat(arguments\u001b[39m=\u001b[39marguments),\n\u001b[0;32m    308\u001b[0m         \u001b[39mFutureWarning\u001b[39;00m,\n\u001b[0;32m    309\u001b[0m         stacklevel\u001b[39m=\u001b[39mstacklevel,\n\u001b[0;32m    310\u001b[0m     )\n\u001b[1;32m--> 311\u001b[0m \u001b[39mreturn\u001b[39;00m func(\u001b[39m*\u001b[39margs, \u001b[39m*\u001b[39m\u001b[39m*\u001b[39mkwargs)\n",
            "File \u001b[1;32mc:\\Users\\deshi\\AppData\\Local\\Programs\\Python\\Python310\\lib\\site-packages\\pandas\\core\\frame.py:4957\u001b[0m, in \u001b[0;36mDataFrame.drop\u001b[1;34m(self, labels, axis, index, columns, level, inplace, errors)\u001b[0m\n\u001b[0;32m   4809\u001b[0m \u001b[39m@deprecate_nonkeyword_arguments\u001b[39m(version\u001b[39m=\u001b[39m\u001b[39mNone\u001b[39;00m, allowed_args\u001b[39m=\u001b[39m[\u001b[39m\"\u001b[39m\u001b[39mself\u001b[39m\u001b[39m\"\u001b[39m, \u001b[39m\"\u001b[39m\u001b[39mlabels\u001b[39m\u001b[39m\"\u001b[39m])\n\u001b[0;32m   4810\u001b[0m \u001b[39mdef\u001b[39;00m \u001b[39mdrop\u001b[39m(\n\u001b[0;32m   4811\u001b[0m     \u001b[39mself\u001b[39m,\n\u001b[1;32m   (...)\u001b[0m\n\u001b[0;32m   4818\u001b[0m     errors: \u001b[39mstr\u001b[39m \u001b[39m=\u001b[39m \u001b[39m\"\u001b[39m\u001b[39mraise\u001b[39m\u001b[39m\"\u001b[39m,\n\u001b[0;32m   4819\u001b[0m ):\n\u001b[0;32m   4820\u001b[0m     \u001b[39m\"\"\"\u001b[39;00m\n\u001b[0;32m   4821\u001b[0m \u001b[39m    Drop specified labels from rows or columns.\u001b[39;00m\n\u001b[0;32m   4822\u001b[0m \n\u001b[1;32m   (...)\u001b[0m\n\u001b[0;32m   4955\u001b[0m \u001b[39m            weight  1.0     0.8\u001b[39;00m\n\u001b[0;32m   4956\u001b[0m \u001b[39m    \"\"\"\u001b[39;00m\n\u001b[1;32m-> 4957\u001b[0m     \u001b[39mreturn\u001b[39;00m \u001b[39msuper\u001b[39;49m()\u001b[39m.\u001b[39;49mdrop(\n\u001b[0;32m   4958\u001b[0m         labels\u001b[39m=\u001b[39;49mlabels,\n\u001b[0;32m   4959\u001b[0m         axis\u001b[39m=\u001b[39;49maxis,\n\u001b[0;32m   4960\u001b[0m         index\u001b[39m=\u001b[39;49mindex,\n\u001b[0;32m   4961\u001b[0m         columns\u001b[39m=\u001b[39;49mcolumns,\n\u001b[0;32m   4962\u001b[0m         level\u001b[39m=\u001b[39;49mlevel,\n\u001b[0;32m   4963\u001b[0m         inplace\u001b[39m=\u001b[39;49minplace,\n\u001b[0;32m   4964\u001b[0m         errors\u001b[39m=\u001b[39;49merrors,\n\u001b[0;32m   4965\u001b[0m     )\n",
            "File \u001b[1;32mc:\\Users\\deshi\\AppData\\Local\\Programs\\Python\\Python310\\lib\\site-packages\\pandas\\core\\generic.py:4267\u001b[0m, in \u001b[0;36mNDFrame.drop\u001b[1;34m(self, labels, axis, index, columns, level, inplace, errors)\u001b[0m\n\u001b[0;32m   4265\u001b[0m \u001b[39mfor\u001b[39;00m axis, labels \u001b[39min\u001b[39;00m axes\u001b[39m.\u001b[39mitems():\n\u001b[0;32m   4266\u001b[0m     \u001b[39mif\u001b[39;00m labels \u001b[39mis\u001b[39;00m \u001b[39mnot\u001b[39;00m \u001b[39mNone\u001b[39;00m:\n\u001b[1;32m-> 4267\u001b[0m         obj \u001b[39m=\u001b[39m obj\u001b[39m.\u001b[39;49m_drop_axis(labels, axis, level\u001b[39m=\u001b[39;49mlevel, errors\u001b[39m=\u001b[39;49merrors)\n\u001b[0;32m   4269\u001b[0m \u001b[39mif\u001b[39;00m inplace:\n\u001b[0;32m   4270\u001b[0m     \u001b[39mself\u001b[39m\u001b[39m.\u001b[39m_update_inplace(obj)\n",
            "File \u001b[1;32mc:\\Users\\deshi\\AppData\\Local\\Programs\\Python\\Python310\\lib\\site-packages\\pandas\\core\\generic.py:4311\u001b[0m, in \u001b[0;36mNDFrame._drop_axis\u001b[1;34m(self, labels, axis, level, errors, consolidate, only_slice)\u001b[0m\n\u001b[0;32m   4309\u001b[0m         new_axis \u001b[39m=\u001b[39m axis\u001b[39m.\u001b[39mdrop(labels, level\u001b[39m=\u001b[39mlevel, errors\u001b[39m=\u001b[39merrors)\n\u001b[0;32m   4310\u001b[0m     \u001b[39melse\u001b[39;00m:\n\u001b[1;32m-> 4311\u001b[0m         new_axis \u001b[39m=\u001b[39m axis\u001b[39m.\u001b[39;49mdrop(labels, errors\u001b[39m=\u001b[39;49merrors)\n\u001b[0;32m   4312\u001b[0m     indexer \u001b[39m=\u001b[39m axis\u001b[39m.\u001b[39mget_indexer(new_axis)\n\u001b[0;32m   4314\u001b[0m \u001b[39m# Case for non-unique axis\u001b[39;00m\n\u001b[0;32m   4315\u001b[0m \u001b[39melse\u001b[39;00m:\n",
            "File \u001b[1;32mc:\\Users\\deshi\\AppData\\Local\\Programs\\Python\\Python310\\lib\\site-packages\\pandas\\core\\indexes\\base.py:6661\u001b[0m, in \u001b[0;36mIndex.drop\u001b[1;34m(self, labels, errors)\u001b[0m\n\u001b[0;32m   6659\u001b[0m \u001b[39mif\u001b[39;00m mask\u001b[39m.\u001b[39many():\n\u001b[0;32m   6660\u001b[0m     \u001b[39mif\u001b[39;00m errors \u001b[39m!=\u001b[39m \u001b[39m\"\u001b[39m\u001b[39mignore\u001b[39m\u001b[39m\"\u001b[39m:\n\u001b[1;32m-> 6661\u001b[0m         \u001b[39mraise\u001b[39;00m \u001b[39mKeyError\u001b[39;00m(\u001b[39mf\u001b[39m\u001b[39m\"\u001b[39m\u001b[39m{\u001b[39;00m\u001b[39mlist\u001b[39m(labels[mask])\u001b[39m}\u001b[39;00m\u001b[39m not found in axis\u001b[39m\u001b[39m\"\u001b[39m)\n\u001b[0;32m   6662\u001b[0m     indexer \u001b[39m=\u001b[39m indexer[\u001b[39m~\u001b[39mmask]\n\u001b[0;32m   6663\u001b[0m \u001b[39mreturn\u001b[39;00m \u001b[39mself\u001b[39m\u001b[39m.\u001b[39mdelete(indexer)\n",
            "\u001b[1;31mKeyError\u001b[0m: \"['Have you been forced to have a shorter working week (Kurzarbeit)? If yes, how many hours per week'] not found in axis\""
          ]
        }
      ],
      "source": [
        "data.drop('Have you been forced to have a shorter working week (Kurzarbeit)? If yes, how many hours per week', inplace=True, axis=1)\n",
        "data.drop('Have you received additional monetary support from your employer due to Work From Home? If yes, how much in 2020 in EUR', inplace=True, axis=1)\n",
        "data.drop('Annual bonus+stocks one year ago. Only answer if staying in same country',\n",
        "          inplace=True, axis=1)\n",
        "data.drop('Annual brutto salary (without bonus and stocks) one year ago. Only answer if staying in the same country', inplace=True, axis=1)\n",
        "data.drop('Yearly bonus + stocks in EUR', inplace=True, axis=1)\n"
      ]
    },
    {
      "cell_type": "code",
      "execution_count": 6,
      "metadata": {
        "colab": {
          "base_uri": "https://localhost:8080/"
        },
        "id": "zd4I9azV0CQn",
        "outputId": "06557319-e91b-42b1-9ad3-9d8b6634faad"
      },
      "outputs": [
        {
          "data": {
            "text/plain": [
              "Unnamed: 0            0\n",
              "work_year             0\n",
              "experience_level      0\n",
              "employment_type       0\n",
              "job_title             0\n",
              "salary                0\n",
              "salary_currency       0\n",
              "salary_in_usd         0\n",
              "employee_residence    0\n",
              "remote_ratio          0\n",
              "company_location      0\n",
              "company_size          0\n",
              "dtype: int64"
            ]
          },
          "execution_count": 6,
          "metadata": {},
          "output_type": "execute_result"
        }
      ],
      "source": [
        "data.isnull().sum()\n"
      ]
    },
    {
      "cell_type": "code",
      "execution_count": 7,
      "metadata": {
        "id": "q-l0zkQ00CKk"
      },
      "outputs": [
        {
          "ename": "KeyError",
          "evalue": "'Other technologies/programming languages you use often'",
          "output_type": "error",
          "traceback": [
            "\u001b[1;31m---------------------------------------------------------------------------\u001b[0m",
            "\u001b[1;31mKeyError\u001b[0m                                  Traceback (most recent call last)",
            "File \u001b[1;32mc:\\Users\\deshi\\AppData\\Local\\Programs\\Python\\Python310\\lib\\site-packages\\pandas\\core\\indexes\\base.py:3629\u001b[0m, in \u001b[0;36mIndex.get_loc\u001b[1;34m(self, key, method, tolerance)\u001b[0m\n\u001b[0;32m   3628\u001b[0m \u001b[39mtry\u001b[39;00m:\n\u001b[1;32m-> 3629\u001b[0m     \u001b[39mreturn\u001b[39;00m \u001b[39mself\u001b[39;49m\u001b[39m.\u001b[39;49m_engine\u001b[39m.\u001b[39;49mget_loc(casted_key)\n\u001b[0;32m   3630\u001b[0m \u001b[39mexcept\u001b[39;00m \u001b[39mKeyError\u001b[39;00m \u001b[39mas\u001b[39;00m err:\n",
            "File \u001b[1;32mc:\\Users\\deshi\\AppData\\Local\\Programs\\Python\\Python310\\lib\\site-packages\\pandas\\_libs\\index.pyx:136\u001b[0m, in \u001b[0;36mpandas._libs.index.IndexEngine.get_loc\u001b[1;34m()\u001b[0m\n",
            "File \u001b[1;32mc:\\Users\\deshi\\AppData\\Local\\Programs\\Python\\Python310\\lib\\site-packages\\pandas\\_libs\\index.pyx:163\u001b[0m, in \u001b[0;36mpandas._libs.index.IndexEngine.get_loc\u001b[1;34m()\u001b[0m\n",
            "File \u001b[1;32mpandas\\_libs\\hashtable_class_helper.pxi:5198\u001b[0m, in \u001b[0;36mpandas._libs.hashtable.PyObjectHashTable.get_item\u001b[1;34m()\u001b[0m\n",
            "File \u001b[1;32mpandas\\_libs\\hashtable_class_helper.pxi:5206\u001b[0m, in \u001b[0;36mpandas._libs.hashtable.PyObjectHashTable.get_item\u001b[1;34m()\u001b[0m\n",
            "\u001b[1;31mKeyError\u001b[0m: 'Other technologies/programming languages you use often'",
            "\nThe above exception was the direct cause of the following exception:\n",
            "\u001b[1;31mKeyError\u001b[0m                                  Traceback (most recent call last)",
            "Cell \u001b[1;32mIn [7], line 1\u001b[0m\n\u001b[1;32m----> 1\u001b[0m test\u001b[38;5;241m=\u001b[39mdata[\u001b[43mdata\u001b[49m\u001b[43m[\u001b[49m\u001b[38;5;124;43m'\u001b[39;49m\u001b[38;5;124;43mOther technologies/programming languages you use often\u001b[39;49m\u001b[38;5;124;43m'\u001b[39;49m\u001b[43m]\u001b[49m\u001b[38;5;241m.\u001b[39misnull()]\n",
            "File \u001b[1;32mc:\\Users\\deshi\\AppData\\Local\\Programs\\Python\\Python310\\lib\\site-packages\\pandas\\core\\frame.py:3505\u001b[0m, in \u001b[0;36mDataFrame.__getitem__\u001b[1;34m(self, key)\u001b[0m\n\u001b[0;32m   3503\u001b[0m \u001b[39mif\u001b[39;00m \u001b[39mself\u001b[39m\u001b[39m.\u001b[39mcolumns\u001b[39m.\u001b[39mnlevels \u001b[39m>\u001b[39m \u001b[39m1\u001b[39m:\n\u001b[0;32m   3504\u001b[0m     \u001b[39mreturn\u001b[39;00m \u001b[39mself\u001b[39m\u001b[39m.\u001b[39m_getitem_multilevel(key)\n\u001b[1;32m-> 3505\u001b[0m indexer \u001b[39m=\u001b[39m \u001b[39mself\u001b[39;49m\u001b[39m.\u001b[39;49mcolumns\u001b[39m.\u001b[39;49mget_loc(key)\n\u001b[0;32m   3506\u001b[0m \u001b[39mif\u001b[39;00m is_integer(indexer):\n\u001b[0;32m   3507\u001b[0m     indexer \u001b[39m=\u001b[39m [indexer]\n",
            "File \u001b[1;32mc:\\Users\\deshi\\AppData\\Local\\Programs\\Python\\Python310\\lib\\site-packages\\pandas\\core\\indexes\\base.py:3631\u001b[0m, in \u001b[0;36mIndex.get_loc\u001b[1;34m(self, key, method, tolerance)\u001b[0m\n\u001b[0;32m   3629\u001b[0m     \u001b[39mreturn\u001b[39;00m \u001b[39mself\u001b[39m\u001b[39m.\u001b[39m_engine\u001b[39m.\u001b[39mget_loc(casted_key)\n\u001b[0;32m   3630\u001b[0m \u001b[39mexcept\u001b[39;00m \u001b[39mKeyError\u001b[39;00m \u001b[39mas\u001b[39;00m err:\n\u001b[1;32m-> 3631\u001b[0m     \u001b[39mraise\u001b[39;00m \u001b[39mKeyError\u001b[39;00m(key) \u001b[39mfrom\u001b[39;00m \u001b[39merr\u001b[39;00m\n\u001b[0;32m   3632\u001b[0m \u001b[39mexcept\u001b[39;00m \u001b[39mTypeError\u001b[39;00m:\n\u001b[0;32m   3633\u001b[0m     \u001b[39m# If we have a listlike key, _check_indexing_error will raise\u001b[39;00m\n\u001b[0;32m   3634\u001b[0m     \u001b[39m#  InvalidIndexError. Otherwise we fall through and re-raise\u001b[39;00m\n\u001b[0;32m   3635\u001b[0m     \u001b[39m#  the TypeError.\u001b[39;00m\n\u001b[0;32m   3636\u001b[0m     \u001b[39mself\u001b[39m\u001b[39m.\u001b[39m_check_indexing_error(key)\n",
            "\u001b[1;31mKeyError\u001b[0m: 'Other technologies/programming languages you use often'"
          ]
        }
      ],
      "source": [
        "test = data[data['Other technologies/programming languages you use often'].isnull()]\n"
      ]
    },
    {
      "cell_type": "code",
      "execution_count": null,
      "metadata": {
        "colab": {
          "base_uri": "https://localhost:8080/"
        },
        "id": "49hx9z240CFa",
        "outputId": "63b568e0-477a-4829-cf20-e115a40c350f"
      },
      "outputs": [
        {
          "data": {
            "text/plain": [
              "70"
            ]
          },
          "execution_count": 122,
          "metadata": {},
          "output_type": "execute_result"
        }
      ],
      "source": [
        "test = test[test['Your main technology / programming language'].isnull()]\n",
        "len(test)\n"
      ]
    },
    {
      "cell_type": "code",
      "execution_count": null,
      "metadata": {
        "colab": {
          "base_uri": "https://localhost:8080/"
        },
        "id": "SqSjFFLo0B9-",
        "outputId": "f41b919a-409f-4214-b1fa-4bc36045266b"
      },
      "outputs": [
        {
          "data": {
            "text/plain": [
              "Timestamp                                                   0\n",
              "Age                                                        19\n",
              "Gender                                                      4\n",
              "City                                                        0\n",
              "Position                                                    2\n",
              "Total years of experience                                   8\n",
              "Years of experience in Germany                             23\n",
              "Seniority level                                             7\n",
              "Your main technology / programming language                57\n",
              "Other technologies/programming languages you use often      0\n",
              "Yearly brutto salary (without bonus and stocks) in EUR      0\n",
              "Number of vacation days                                    47\n",
              "Employment status                                           9\n",
              "Сontract duration                                          16\n",
              "Main language at work                                       7\n",
              "Company size                                                8\n",
              "Company type                                               13\n",
              "Have you lost your job due to the coronavirus outbreak?    10\n",
              "dtype: int64"
            ]
          },
          "execution_count": 123,
          "metadata": {},
          "output_type": "execute_result"
        }
      ],
      "source": [
        "rem_mul_nan = data['Other technologies/programming languages you use often'].isin(\n",
        "    test['Other technologies/programming languages you use often'])\n",
        "data.drop(data[rem_mul_nan].index, inplace=True)\n",
        "data.isnull().sum()\n"
      ]
    },
    {
      "cell_type": "code",
      "execution_count": 8,
      "metadata": {
        "colab": {
          "base_uri": "https://localhost:8080/",
          "height": 496
        },
        "id": "aIphhDTK5Lrq",
        "outputId": "102830bc-74d7-4b28-9dee-be22413d668f"
      },
      "outputs": [
        {
          "data": {
            "text/html": [
              "<div>\n",
              "<style scoped>\n",
              "    .dataframe tbody tr th:only-of-type {\n",
              "        vertical-align: middle;\n",
              "    }\n",
              "\n",
              "    .dataframe tbody tr th {\n",
              "        vertical-align: top;\n",
              "    }\n",
              "\n",
              "    .dataframe thead th {\n",
              "        text-align: right;\n",
              "    }\n",
              "</style>\n",
              "<table border=\"1\" class=\"dataframe\">\n",
              "  <thead>\n",
              "    <tr style=\"text-align: right;\">\n",
              "      <th></th>\n",
              "      <th>Unnamed: 0</th>\n",
              "      <th>work_year</th>\n",
              "      <th>experience_level</th>\n",
              "      <th>employment_type</th>\n",
              "      <th>job_title</th>\n",
              "      <th>salary</th>\n",
              "      <th>salary_currency</th>\n",
              "      <th>salary_in_usd</th>\n",
              "      <th>employee_residence</th>\n",
              "      <th>remote_ratio</th>\n",
              "      <th>company_location</th>\n",
              "      <th>company_size</th>\n",
              "    </tr>\n",
              "  </thead>\n",
              "  <tbody>\n",
              "    <tr>\n",
              "      <th>0</th>\n",
              "      <td>0</td>\n",
              "      <td>2020</td>\n",
              "      <td>MI</td>\n",
              "      <td>FT</td>\n",
              "      <td>Data Scientist</td>\n",
              "      <td>70000</td>\n",
              "      <td>EUR</td>\n",
              "      <td>79833</td>\n",
              "      <td>DE</td>\n",
              "      <td>0</td>\n",
              "      <td>DE</td>\n",
              "      <td>L</td>\n",
              "    </tr>\n",
              "    <tr>\n",
              "      <th>1</th>\n",
              "      <td>1</td>\n",
              "      <td>2020</td>\n",
              "      <td>SE</td>\n",
              "      <td>FT</td>\n",
              "      <td>Machine Learning Scientist</td>\n",
              "      <td>260000</td>\n",
              "      <td>USD</td>\n",
              "      <td>260000</td>\n",
              "      <td>JP</td>\n",
              "      <td>0</td>\n",
              "      <td>JP</td>\n",
              "      <td>S</td>\n",
              "    </tr>\n",
              "    <tr>\n",
              "      <th>2</th>\n",
              "      <td>2</td>\n",
              "      <td>2020</td>\n",
              "      <td>SE</td>\n",
              "      <td>FT</td>\n",
              "      <td>Big Data Engineer</td>\n",
              "      <td>85000</td>\n",
              "      <td>GBP</td>\n",
              "      <td>109024</td>\n",
              "      <td>GB</td>\n",
              "      <td>50</td>\n",
              "      <td>GB</td>\n",
              "      <td>M</td>\n",
              "    </tr>\n",
              "    <tr>\n",
              "      <th>3</th>\n",
              "      <td>3</td>\n",
              "      <td>2020</td>\n",
              "      <td>MI</td>\n",
              "      <td>FT</td>\n",
              "      <td>Product Data Analyst</td>\n",
              "      <td>20000</td>\n",
              "      <td>USD</td>\n",
              "      <td>20000</td>\n",
              "      <td>HN</td>\n",
              "      <td>0</td>\n",
              "      <td>HN</td>\n",
              "      <td>S</td>\n",
              "    </tr>\n",
              "    <tr>\n",
              "      <th>4</th>\n",
              "      <td>4</td>\n",
              "      <td>2020</td>\n",
              "      <td>SE</td>\n",
              "      <td>FT</td>\n",
              "      <td>Machine Learning Engineer</td>\n",
              "      <td>150000</td>\n",
              "      <td>USD</td>\n",
              "      <td>150000</td>\n",
              "      <td>US</td>\n",
              "      <td>50</td>\n",
              "      <td>US</td>\n",
              "      <td>L</td>\n",
              "    </tr>\n",
              "  </tbody>\n",
              "</table>\n",
              "</div>"
            ],
            "text/plain": [
              "   Unnamed: 0  work_year experience_level employment_type  \\\n",
              "0           0       2020               MI              FT   \n",
              "1           1       2020               SE              FT   \n",
              "2           2       2020               SE              FT   \n",
              "3           3       2020               MI              FT   \n",
              "4           4       2020               SE              FT   \n",
              "\n",
              "                    job_title  salary salary_currency  salary_in_usd  \\\n",
              "0              Data Scientist   70000             EUR          79833   \n",
              "1  Machine Learning Scientist  260000             USD         260000   \n",
              "2           Big Data Engineer   85000             GBP         109024   \n",
              "3        Product Data Analyst   20000             USD          20000   \n",
              "4   Machine Learning Engineer  150000             USD         150000   \n",
              "\n",
              "  employee_residence  remote_ratio company_location company_size  \n",
              "0                 DE             0               DE            L  \n",
              "1                 JP             0               JP            S  \n",
              "2                 GB            50               GB            M  \n",
              "3                 HN             0               HN            S  \n",
              "4                 US            50               US            L  "
            ]
          },
          "execution_count": 8,
          "metadata": {},
          "output_type": "execute_result"
        }
      ],
      "source": [
        "data.head()\n"
      ]
    },
    {
      "cell_type": "code",
      "execution_count": 9,
      "metadata": {
        "id": "E43GqztG5LoG"
      },
      "outputs": [
        {
          "ename": "KeyError",
          "evalue": "\"None of [Index(['Age', 'Total years of experience', 'Years of experience in Germany',\\n       'Yearly brutto salary (without bonus and stocks) in EUR',\\n       'Number of vacation days'],\\n      dtype='object')] are in the [columns]\"",
          "output_type": "error",
          "traceback": [
            "\u001b[1;31m---------------------------------------------------------------------------\u001b[0m",
            "\u001b[1;31mKeyError\u001b[0m                                  Traceback (most recent call last)",
            "Cell \u001b[1;32mIn [9], line 1\u001b[0m\n\u001b[1;32m----> 1\u001b[0m num_data\u001b[38;5;241m=\u001b[39m\u001b[43mdata\u001b[49m\u001b[43m[\u001b[49m\u001b[43m[\u001b[49m\u001b[38;5;124;43m'\u001b[39;49m\u001b[38;5;124;43mAge\u001b[39;49m\u001b[38;5;124;43m'\u001b[39;49m\u001b[43m,\u001b[49m\u001b[38;5;124;43m'\u001b[39;49m\u001b[38;5;124;43mTotal years of experience\u001b[39;49m\u001b[38;5;124;43m'\u001b[39;49m\u001b[43m,\u001b[49m\u001b[38;5;124;43m'\u001b[39;49m\u001b[38;5;124;43mYears of experience in Germany\u001b[39;49m\u001b[38;5;124;43m'\u001b[39;49m\u001b[43m,\u001b[49m\u001b[38;5;124;43m'\u001b[39;49m\u001b[38;5;124;43mYearly brutto salary (without bonus and stocks) in EUR\u001b[39;49m\u001b[38;5;124;43m'\u001b[39;49m\u001b[43m,\u001b[49m\u001b[38;5;124;43m'\u001b[39;49m\u001b[38;5;124;43mNumber of vacation days\u001b[39;49m\u001b[38;5;124;43m'\u001b[39;49m\u001b[43m]\u001b[49m\u001b[43m]\u001b[49m\n",
            "File \u001b[1;32mc:\\Users\\deshi\\AppData\\Local\\Programs\\Python\\Python310\\lib\\site-packages\\pandas\\core\\frame.py:3511\u001b[0m, in \u001b[0;36mDataFrame.__getitem__\u001b[1;34m(self, key)\u001b[0m\n\u001b[0;32m   3509\u001b[0m     \u001b[39mif\u001b[39;00m is_iterator(key):\n\u001b[0;32m   3510\u001b[0m         key \u001b[39m=\u001b[39m \u001b[39mlist\u001b[39m(key)\n\u001b[1;32m-> 3511\u001b[0m     indexer \u001b[39m=\u001b[39m \u001b[39mself\u001b[39;49m\u001b[39m.\u001b[39;49mcolumns\u001b[39m.\u001b[39;49m_get_indexer_strict(key, \u001b[39m\"\u001b[39;49m\u001b[39mcolumns\u001b[39;49m\u001b[39m\"\u001b[39;49m)[\u001b[39m1\u001b[39m]\n\u001b[0;32m   3513\u001b[0m \u001b[39m# take() does not accept boolean indexers\u001b[39;00m\n\u001b[0;32m   3514\u001b[0m \u001b[39mif\u001b[39;00m \u001b[39mgetattr\u001b[39m(indexer, \u001b[39m\"\u001b[39m\u001b[39mdtype\u001b[39m\u001b[39m\"\u001b[39m, \u001b[39mNone\u001b[39;00m) \u001b[39m==\u001b[39m \u001b[39mbool\u001b[39m:\n",
            "File \u001b[1;32mc:\\Users\\deshi\\AppData\\Local\\Programs\\Python\\Python310\\lib\\site-packages\\pandas\\core\\indexes\\base.py:5796\u001b[0m, in \u001b[0;36mIndex._get_indexer_strict\u001b[1;34m(self, key, axis_name)\u001b[0m\n\u001b[0;32m   5793\u001b[0m \u001b[39melse\u001b[39;00m:\n\u001b[0;32m   5794\u001b[0m     keyarr, indexer, new_indexer \u001b[39m=\u001b[39m \u001b[39mself\u001b[39m\u001b[39m.\u001b[39m_reindex_non_unique(keyarr)\n\u001b[1;32m-> 5796\u001b[0m \u001b[39mself\u001b[39;49m\u001b[39m.\u001b[39;49m_raise_if_missing(keyarr, indexer, axis_name)\n\u001b[0;32m   5798\u001b[0m keyarr \u001b[39m=\u001b[39m \u001b[39mself\u001b[39m\u001b[39m.\u001b[39mtake(indexer)\n\u001b[0;32m   5799\u001b[0m \u001b[39mif\u001b[39;00m \u001b[39misinstance\u001b[39m(key, Index):\n\u001b[0;32m   5800\u001b[0m     \u001b[39m# GH 42790 - Preserve name from an Index\u001b[39;00m\n",
            "File \u001b[1;32mc:\\Users\\deshi\\AppData\\Local\\Programs\\Python\\Python310\\lib\\site-packages\\pandas\\core\\indexes\\base.py:5856\u001b[0m, in \u001b[0;36mIndex._raise_if_missing\u001b[1;34m(self, key, indexer, axis_name)\u001b[0m\n\u001b[0;32m   5854\u001b[0m     \u001b[39mif\u001b[39;00m use_interval_msg:\n\u001b[0;32m   5855\u001b[0m         key \u001b[39m=\u001b[39m \u001b[39mlist\u001b[39m(key)\n\u001b[1;32m-> 5856\u001b[0m     \u001b[39mraise\u001b[39;00m \u001b[39mKeyError\u001b[39;00m(\u001b[39mf\u001b[39m\u001b[39m\"\u001b[39m\u001b[39mNone of [\u001b[39m\u001b[39m{\u001b[39;00mkey\u001b[39m}\u001b[39;00m\u001b[39m] are in the [\u001b[39m\u001b[39m{\u001b[39;00maxis_name\u001b[39m}\u001b[39;00m\u001b[39m]\u001b[39m\u001b[39m\"\u001b[39m)\n\u001b[0;32m   5858\u001b[0m not_found \u001b[39m=\u001b[39m \u001b[39mlist\u001b[39m(ensure_index(key)[missing_mask\u001b[39m.\u001b[39mnonzero()[\u001b[39m0\u001b[39m]]\u001b[39m.\u001b[39munique())\n\u001b[0;32m   5859\u001b[0m \u001b[39mraise\u001b[39;00m \u001b[39mKeyError\u001b[39;00m(\u001b[39mf\u001b[39m\u001b[39m\"\u001b[39m\u001b[39m{\u001b[39;00mnot_found\u001b[39m}\u001b[39;00m\u001b[39m not in index\u001b[39m\u001b[39m\"\u001b[39m)\n",
            "\u001b[1;31mKeyError\u001b[0m: \"None of [Index(['Age', 'Total years of experience', 'Years of experience in Germany',\\n       'Yearly brutto salary (without bonus and stocks) in EUR',\\n       'Number of vacation days'],\\n      dtype='object')] are in the [columns]\""
          ]
        }
      ],
      "source": [
        "num_data = data[['Age', 'Total years of experience', 'Years of experience in Germany',\n",
        "                 'Yearly brutto salary (without bonus and stocks) in EUR', 'Number of vacation days']]\n"
      ]
    },
    {
      "cell_type": "code",
      "execution_count": null,
      "metadata": {
        "id": "cNGbMcYzGXCA"
      },
      "outputs": [],
      "source": [
        "def change_to_int(idx):\n",
        "    try:\n",
        "        return float(idx)\n",
        "    except ValueError:\n",
        "        return np.nan\n"
      ]
    },
    {
      "cell_type": "code",
      "execution_count": null,
      "metadata": {
        "colab": {
          "base_uri": "https://localhost:8080/",
          "height": 267
        },
        "id": "ZIKJEaI_5LmA",
        "outputId": "674ae827-aaa5-474c-bd3d-9b7124fa1ad3"
      },
      "outputs": [
        {
          "data": {
            "text/html": [
              "\n",
              "  <div id=\"df-81833732-15c8-48ed-9d6d-87b9b4e50769\">\n",
              "    <div class=\"colab-df-container\">\n",
              "      <div>\n",
              "<style scoped>\n",
              "    .dataframe tbody tr th:only-of-type {\n",
              "        vertical-align: middle;\n",
              "    }\n",
              "\n",
              "    .dataframe tbody tr th {\n",
              "        vertical-align: top;\n",
              "    }\n",
              "\n",
              "    .dataframe thead th {\n",
              "        text-align: right;\n",
              "    }\n",
              "</style>\n",
              "<table border=\"1\" class=\"dataframe\">\n",
              "  <thead>\n",
              "    <tr style=\"text-align: right;\">\n",
              "      <th></th>\n",
              "      <th>Age</th>\n",
              "      <th>Total years of experience</th>\n",
              "      <th>Years of experience in Germany</th>\n",
              "      <th>Yearly brutto salary (without bonus and stocks) in EUR</th>\n",
              "      <th>Number of vacation days</th>\n",
              "    </tr>\n",
              "  </thead>\n",
              "  <tbody>\n",
              "    <tr>\n",
              "      <th>0</th>\n",
              "      <td>26.0</td>\n",
              "      <td>5</td>\n",
              "      <td>3</td>\n",
              "      <td>80000.0</td>\n",
              "      <td>30</td>\n",
              "    </tr>\n",
              "    <tr>\n",
              "      <th>2</th>\n",
              "      <td>29.0</td>\n",
              "      <td>12</td>\n",
              "      <td>6</td>\n",
              "      <td>120000.0</td>\n",
              "      <td>30</td>\n",
              "    </tr>\n",
              "    <tr>\n",
              "      <th>4</th>\n",
              "      <td>37.0</td>\n",
              "      <td>17</td>\n",
              "      <td>6</td>\n",
              "      <td>62000.0</td>\n",
              "      <td>29</td>\n",
              "    </tr>\n",
              "    <tr>\n",
              "      <th>5</th>\n",
              "      <td>32.0</td>\n",
              "      <td>5</td>\n",
              "      <td>1</td>\n",
              "      <td>76000.0</td>\n",
              "      <td>30</td>\n",
              "    </tr>\n",
              "    <tr>\n",
              "      <th>7</th>\n",
              "      <td>24.0</td>\n",
              "      <td>5</td>\n",
              "      <td>1</td>\n",
              "      <td>65000.0</td>\n",
              "      <td>27</td>\n",
              "    </tr>\n",
              "  </tbody>\n",
              "</table>\n",
              "</div>\n",
              "      <button class=\"colab-df-convert\" onclick=\"convertToInteractive('df-81833732-15c8-48ed-9d6d-87b9b4e50769')\"\n",
              "              title=\"Convert this dataframe to an interactive table.\"\n",
              "              style=\"display:none;\">\n",
              "        \n",
              "  <svg xmlns=\"http://www.w3.org/2000/svg\" height=\"24px\"viewBox=\"0 0 24 24\"\n",
              "       width=\"24px\">\n",
              "    <path d=\"M0 0h24v24H0V0z\" fill=\"none\"/>\n",
              "    <path d=\"M18.56 5.44l.94 2.06.94-2.06 2.06-.94-2.06-.94-.94-2.06-.94 2.06-2.06.94zm-11 1L8.5 8.5l.94-2.06 2.06-.94-2.06-.94L8.5 2.5l-.94 2.06-2.06.94zm10 10l.94 2.06.94-2.06 2.06-.94-2.06-.94-.94-2.06-.94 2.06-2.06.94z\"/><path d=\"M17.41 7.96l-1.37-1.37c-.4-.4-.92-.59-1.43-.59-.52 0-1.04.2-1.43.59L10.3 9.45l-7.72 7.72c-.78.78-.78 2.05 0 2.83L4 21.41c.39.39.9.59 1.41.59.51 0 1.02-.2 1.41-.59l7.78-7.78 2.81-2.81c.8-.78.8-2.07 0-2.86zM5.41 20L4 18.59l7.72-7.72 1.47 1.35L5.41 20z\"/>\n",
              "  </svg>\n",
              "      </button>\n",
              "      \n",
              "  <style>\n",
              "    .colab-df-container {\n",
              "      display:flex;\n",
              "      flex-wrap:wrap;\n",
              "      gap: 12px;\n",
              "    }\n",
              "\n",
              "    .colab-df-convert {\n",
              "      background-color: #E8F0FE;\n",
              "      border: none;\n",
              "      border-radius: 50%;\n",
              "      cursor: pointer;\n",
              "      display: none;\n",
              "      fill: #1967D2;\n",
              "      height: 32px;\n",
              "      padding: 0 0 0 0;\n",
              "      width: 32px;\n",
              "    }\n",
              "\n",
              "    .colab-df-convert:hover {\n",
              "      background-color: #E2EBFA;\n",
              "      box-shadow: 0px 1px 2px rgba(60, 64, 67, 0.3), 0px 1px 3px 1px rgba(60, 64, 67, 0.15);\n",
              "      fill: #174EA6;\n",
              "    }\n",
              "\n",
              "    [theme=dark] .colab-df-convert {\n",
              "      background-color: #3B4455;\n",
              "      fill: #D2E3FC;\n",
              "    }\n",
              "\n",
              "    [theme=dark] .colab-df-convert:hover {\n",
              "      background-color: #434B5C;\n",
              "      box-shadow: 0px 1px 3px 1px rgba(0, 0, 0, 0.15);\n",
              "      filter: drop-shadow(0px 1px 2px rgba(0, 0, 0, 0.3));\n",
              "      fill: #FFFFFF;\n",
              "    }\n",
              "  </style>\n",
              "\n",
              "      <script>\n",
              "        const buttonEl =\n",
              "          document.querySelector('#df-81833732-15c8-48ed-9d6d-87b9b4e50769 button.colab-df-convert');\n",
              "        buttonEl.style.display =\n",
              "          google.colab.kernel.accessAllowed ? 'block' : 'none';\n",
              "\n",
              "        async function convertToInteractive(key) {\n",
              "          const element = document.querySelector('#df-81833732-15c8-48ed-9d6d-87b9b4e50769');\n",
              "          const dataTable =\n",
              "            await google.colab.kernel.invokeFunction('convertToInteractive',\n",
              "                                                     [key], {});\n",
              "          if (!dataTable) return;\n",
              "\n",
              "          const docLinkHtml = 'Like what you see? Visit the ' +\n",
              "            '<a target=\"_blank\" href=https://colab.research.google.com/notebooks/data_table.ipynb>data table notebook</a>'\n",
              "            + ' to learn more about interactive tables.';\n",
              "          element.innerHTML = '';\n",
              "          dataTable['output_type'] = 'display_data';\n",
              "          await google.colab.output.renderOutput(dataTable, element);\n",
              "          const docLink = document.createElement('div');\n",
              "          docLink.innerHTML = docLinkHtml;\n",
              "          element.appendChild(docLink);\n",
              "        }\n",
              "      </script>\n",
              "    </div>\n",
              "  </div>\n",
              "  "
            ],
            "text/plain": [
              "    Age Total years of experience Years of experience in Germany  \\\n",
              "0  26.0                         5                              3   \n",
              "2  29.0                        12                              6   \n",
              "4  37.0                        17                              6   \n",
              "5  32.0                         5                              1   \n",
              "7  24.0                         5                              1   \n",
              "\n",
              "   Yearly brutto salary (without bonus and stocks) in EUR  \\\n",
              "0                                            80000.0        \n",
              "2                                           120000.0        \n",
              "4                                            62000.0        \n",
              "5                                            76000.0        \n",
              "7                                            65000.0        \n",
              "\n",
              "  Number of vacation days  \n",
              "0                      30  \n",
              "2                      30  \n",
              "4                      29  \n",
              "5                      30  \n",
              "7                      27  "
            ]
          },
          "execution_count": 127,
          "metadata": {},
          "output_type": "execute_result"
        }
      ],
      "source": [
        "num_data.head()\n"
      ]
    },
    {
      "cell_type": "code",
      "execution_count": null,
      "metadata": {
        "colab": {
          "base_uri": "https://localhost:8080/"
        },
        "id": "776ZwG5I5Lj2",
        "outputId": "ced5e3f0-c3fe-4422-dd40-fa28532bde8a"
      },
      "outputs": [
        {
          "data": {
            "text/plain": [
              "array(['5', '12', '17', '8', '2', '25', '14', '7', '18', '11', '15', '30',\n",
              "       '6', '13', '10', '3', '40', '26', '23', '9', '4', '19', '20',\n",
              "       '5.5', '22', '16', '0.8', '1', nan, '1.5', '21', '7.5', '2.5',\n",
              "       '28', '29', '1,5', '24', '0', '4.5', '27',\n",
              "       '1 (as QA Engineer) / 11 in total', '2,5', '15, thereof 8 as CTO',\n",
              "       '31', '6 (not as a data scientist, but as a lab scientist)', '3.5',\n",
              "       'less than year'], dtype=object)"
            ]
          },
          "execution_count": 128,
          "metadata": {},
          "output_type": "execute_result"
        }
      ],
      "source": [
        "# num_data=num_data.fillna(num_data.median())\n",
        "# num_data.isnull().sum()\n",
        "num_data['Total years of experience'].unique()\n"
      ]
    },
    {
      "cell_type": "code",
      "execution_count": null,
      "metadata": {
        "colab": {
          "base_uri": "https://localhost:8080/"
        },
        "id": "C8bNdDw98Bh6",
        "outputId": "eed84535-4430-4701-c4c1-97684b51101b"
      },
      "outputs": [
        {
          "name": "stderr",
          "output_type": "stream",
          "text": [
            "/usr/local/lib/python3.7/dist-packages/pandas/core/frame.py:4913: SettingWithCopyWarning: \n",
            "A value is trying to be set on a copy of a slice from a DataFrame\n",
            "\n",
            "See the caveats in the documentation: https://pandas.pydata.org/pandas-docs/stable/user_guide/indexing.html#returning-a-view-versus-a-copy\n",
            "  errors=errors,\n"
          ]
        },
        {
          "data": {
            "text/plain": [
              "array(['5', '12', '17', '8', '2', '25', '14', '7', '18', '11', '15', '30',\n",
              "       '6', '13', '10', '3', '40', '26', '23', '9', '4', '19', '20',\n",
              "       '5.5', '22', '16', '0.8', '1', nan, '1.5', '21', '7.5', '2.5',\n",
              "       '28', '29', '1,5', '24', '0', '4.5', '27', '2,5', '31', '3.5'],\n",
              "      dtype=object)"
            ]
          },
          "execution_count": 129,
          "metadata": {},
          "output_type": "execute_result"
        }
      ],
      "source": [
        "large_strs = num_data[num_data['Total years of experience'].str.len() > 10]\n",
        "# num_data['Total years of experience'].unique()\n",
        "num_data.drop(large_strs.index, inplace=True)\n",
        "num_data['Total years of experience'].unique()\n"
      ]
    },
    {
      "cell_type": "code",
      "execution_count": null,
      "metadata": {
        "colab": {
          "base_uri": "https://localhost:8080/"
        },
        "id": "plI_zNV58Bfh",
        "outputId": "e6ed05bc-21fe-4489-9bda-cce99c282dec"
      },
      "outputs": [
        {
          "data": {
            "text/plain": [
              "array(['3', '6', '1', '2', '11', '5', '9', '30', '4', '15', '7', '10',\n",
              "       '18', '0', nan, '2.5', '1.5', '0.5', '13', '14', '8', '3.5', '0.8',\n",
              "       '12', '20', '25', '3,5', '0.25', '1,5', '16', '17', '4 month',\n",
              "       '19', '2,5', '26', '3 months', '0,5', '4.5', '0.1', '2.6',\n",
              "       '3 (in Poland)', '<1', '⁰', '0,3', '-', '0.2'], dtype=object)"
            ]
          },
          "execution_count": 130,
          "metadata": {},
          "output_type": "execute_result"
        }
      ],
      "source": [
        "num_data['Years of experience in Germany'].unique()\n"
      ]
    },
    {
      "cell_type": "code",
      "execution_count": null,
      "metadata": {
        "colab": {
          "base_uri": "https://localhost:8080/"
        },
        "id": "gJfGbgVt-g7o",
        "outputId": "086fb28b-6239-43b0-cedf-c7a9090b3dc4"
      },
      "outputs": [
        {
          "data": {
            "text/plain": [
              "0       3\n",
              "2       6\n",
              "4       6\n",
              "5       1\n",
              "7       1\n",
              "       ..\n",
              "1247    2\n",
              "1248    5\n",
              "1250    2\n",
              "1251    7\n",
              "1252    2\n",
              "Name: Years of experience in Germany, Length: 1092, dtype: object"
            ]
          },
          "execution_count": 131,
          "metadata": {},
          "output_type": "execute_result"
        }
      ],
      "source": [
        "num_data['Years of experience in Germany']\n"
      ]
    },
    {
      "cell_type": "code",
      "execution_count": null,
      "metadata": {
        "id": "f3Jgp-OyBIC0"
      },
      "outputs": [],
      "source": [
        "cols = list(num_data.columns)\n"
      ]
    },
    {
      "cell_type": "code",
      "execution_count": null,
      "metadata": {
        "colab": {
          "base_uri": "https://localhost:8080/",
          "height": 496
        },
        "id": "wm0XQsq2Bnxj",
        "outputId": "8196058a-b2ef-4305-b1cc-ca0044891781"
      },
      "outputs": [
        {
          "data": {
            "text/html": [
              "\n",
              "  <div id=\"df-07f6382a-1fcc-4ad2-b303-690492554fec\">\n",
              "    <div class=\"colab-df-container\">\n",
              "      <div>\n",
              "<style scoped>\n",
              "    .dataframe tbody tr th:only-of-type {\n",
              "        vertical-align: middle;\n",
              "    }\n",
              "\n",
              "    .dataframe tbody tr th {\n",
              "        vertical-align: top;\n",
              "    }\n",
              "\n",
              "    .dataframe thead th {\n",
              "        text-align: right;\n",
              "    }\n",
              "</style>\n",
              "<table border=\"1\" class=\"dataframe\">\n",
              "  <thead>\n",
              "    <tr style=\"text-align: right;\">\n",
              "      <th></th>\n",
              "      <th>Timestamp</th>\n",
              "      <th>Age</th>\n",
              "      <th>Gender</th>\n",
              "      <th>City</th>\n",
              "      <th>Position</th>\n",
              "      <th>Total years of experience</th>\n",
              "      <th>Years of experience in Germany</th>\n",
              "      <th>Seniority level</th>\n",
              "      <th>Your main technology / programming language</th>\n",
              "      <th>Other technologies/programming languages you use often</th>\n",
              "      <th>Yearly brutto salary (without bonus and stocks) in EUR</th>\n",
              "      <th>Number of vacation days</th>\n",
              "      <th>Employment status</th>\n",
              "      <th>Сontract duration</th>\n",
              "      <th>Main language at work</th>\n",
              "      <th>Company size</th>\n",
              "      <th>Company type</th>\n",
              "      <th>Have you lost your job due to the coronavirus outbreak?</th>\n",
              "    </tr>\n",
              "  </thead>\n",
              "  <tbody>\n",
              "    <tr>\n",
              "      <th>0</th>\n",
              "      <td>24/11/2020 11:14:15</td>\n",
              "      <td>26.0</td>\n",
              "      <td>Male</td>\n",
              "      <td>Munich</td>\n",
              "      <td>Software Engineer</td>\n",
              "      <td>5.0</td>\n",
              "      <td>3.0</td>\n",
              "      <td>Senior</td>\n",
              "      <td>TypeScript</td>\n",
              "      <td>Kotlin, Javascript / Typescript</td>\n",
              "      <td>80000.0</td>\n",
              "      <td>30.0</td>\n",
              "      <td>Full-time employee</td>\n",
              "      <td>Unlimited contract</td>\n",
              "      <td>English</td>\n",
              "      <td>51-100</td>\n",
              "      <td>Product</td>\n",
              "      <td>No</td>\n",
              "    </tr>\n",
              "    <tr>\n",
              "      <th>2</th>\n",
              "      <td>24/11/2020 11:14:21</td>\n",
              "      <td>29.0</td>\n",
              "      <td>Male</td>\n",
              "      <td>Berlin</td>\n",
              "      <td>Software Engineer</td>\n",
              "      <td>12.0</td>\n",
              "      <td>6.0</td>\n",
              "      <td>Lead</td>\n",
              "      <td>Javascript / Typescript</td>\n",
              "      <td>Javascript / Typescript, Docker</td>\n",
              "      <td>120000.0</td>\n",
              "      <td>30.0</td>\n",
              "      <td>Self-employed (freelancer)</td>\n",
              "      <td>Temporary contract</td>\n",
              "      <td>English</td>\n",
              "      <td>101-1000</td>\n",
              "      <td>Product</td>\n",
              "      <td>Yes</td>\n",
              "    </tr>\n",
              "    <tr>\n",
              "      <th>4</th>\n",
              "      <td>24/11/2020 11:15:46</td>\n",
              "      <td>37.0</td>\n",
              "      <td>Male</td>\n",
              "      <td>Berlin</td>\n",
              "      <td>Backend Developer</td>\n",
              "      <td>17.0</td>\n",
              "      <td>6.0</td>\n",
              "      <td>Senior</td>\n",
              "      <td>C# .NET</td>\n",
              "      <td>.NET, SQL, AWS, Docker</td>\n",
              "      <td>62000.0</td>\n",
              "      <td>29.0</td>\n",
              "      <td>Full-time employee</td>\n",
              "      <td>Unlimited contract</td>\n",
              "      <td>English</td>\n",
              "      <td>101-1000</td>\n",
              "      <td>Product</td>\n",
              "      <td>No</td>\n",
              "    </tr>\n",
              "    <tr>\n",
              "      <th>5</th>\n",
              "      <td>24/11/2020 11:15:53</td>\n",
              "      <td>32.0</td>\n",
              "      <td>Male</td>\n",
              "      <td>Berlin</td>\n",
              "      <td>DevOps</td>\n",
              "      <td>5.0</td>\n",
              "      <td>1.0</td>\n",
              "      <td>Senior</td>\n",
              "      <td>AWS, GCP, Python,K8s</td>\n",
              "      <td>Python, AWS, Google Cloud, Kubernetes, Docker</td>\n",
              "      <td>76000.0</td>\n",
              "      <td>30.0</td>\n",
              "      <td>Full-time employee</td>\n",
              "      <td>Unlimited contract</td>\n",
              "      <td>English</td>\n",
              "      <td>11-50</td>\n",
              "      <td>Startup</td>\n",
              "      <td>No</td>\n",
              "    </tr>\n",
              "    <tr>\n",
              "      <th>7</th>\n",
              "      <td>24/11/2020 11:16:44</td>\n",
              "      <td>24.0</td>\n",
              "      <td>Male</td>\n",
              "      <td>Berlin</td>\n",
              "      <td>Frontend Developer</td>\n",
              "      <td>5.0</td>\n",
              "      <td>1.0</td>\n",
              "      <td>Senior</td>\n",
              "      <td>Typescript</td>\n",
              "      <td>Javascript / Typescript</td>\n",
              "      <td>65000.0</td>\n",
              "      <td>27.0</td>\n",
              "      <td>Full-time employee</td>\n",
              "      <td>Unlimited contract</td>\n",
              "      <td>English</td>\n",
              "      <td>1000+</td>\n",
              "      <td>Product</td>\n",
              "      <td>No</td>\n",
              "    </tr>\n",
              "  </tbody>\n",
              "</table>\n",
              "</div>\n",
              "      <button class=\"colab-df-convert\" onclick=\"convertToInteractive('df-07f6382a-1fcc-4ad2-b303-690492554fec')\"\n",
              "              title=\"Convert this dataframe to an interactive table.\"\n",
              "              style=\"display:none;\">\n",
              "        \n",
              "  <svg xmlns=\"http://www.w3.org/2000/svg\" height=\"24px\"viewBox=\"0 0 24 24\"\n",
              "       width=\"24px\">\n",
              "    <path d=\"M0 0h24v24H0V0z\" fill=\"none\"/>\n",
              "    <path d=\"M18.56 5.44l.94 2.06.94-2.06 2.06-.94-2.06-.94-.94-2.06-.94 2.06-2.06.94zm-11 1L8.5 8.5l.94-2.06 2.06-.94-2.06-.94L8.5 2.5l-.94 2.06-2.06.94zm10 10l.94 2.06.94-2.06 2.06-.94-2.06-.94-.94-2.06-.94 2.06-2.06.94z\"/><path d=\"M17.41 7.96l-1.37-1.37c-.4-.4-.92-.59-1.43-.59-.52 0-1.04.2-1.43.59L10.3 9.45l-7.72 7.72c-.78.78-.78 2.05 0 2.83L4 21.41c.39.39.9.59 1.41.59.51 0 1.02-.2 1.41-.59l7.78-7.78 2.81-2.81c.8-.78.8-2.07 0-2.86zM5.41 20L4 18.59l7.72-7.72 1.47 1.35L5.41 20z\"/>\n",
              "  </svg>\n",
              "      </button>\n",
              "      \n",
              "  <style>\n",
              "    .colab-df-container {\n",
              "      display:flex;\n",
              "      flex-wrap:wrap;\n",
              "      gap: 12px;\n",
              "    }\n",
              "\n",
              "    .colab-df-convert {\n",
              "      background-color: #E8F0FE;\n",
              "      border: none;\n",
              "      border-radius: 50%;\n",
              "      cursor: pointer;\n",
              "      display: none;\n",
              "      fill: #1967D2;\n",
              "      height: 32px;\n",
              "      padding: 0 0 0 0;\n",
              "      width: 32px;\n",
              "    }\n",
              "\n",
              "    .colab-df-convert:hover {\n",
              "      background-color: #E2EBFA;\n",
              "      box-shadow: 0px 1px 2px rgba(60, 64, 67, 0.3), 0px 1px 3px 1px rgba(60, 64, 67, 0.15);\n",
              "      fill: #174EA6;\n",
              "    }\n",
              "\n",
              "    [theme=dark] .colab-df-convert {\n",
              "      background-color: #3B4455;\n",
              "      fill: #D2E3FC;\n",
              "    }\n",
              "\n",
              "    [theme=dark] .colab-df-convert:hover {\n",
              "      background-color: #434B5C;\n",
              "      box-shadow: 0px 1px 3px 1px rgba(0, 0, 0, 0.15);\n",
              "      filter: drop-shadow(0px 1px 2px rgba(0, 0, 0, 0.3));\n",
              "      fill: #FFFFFF;\n",
              "    }\n",
              "  </style>\n",
              "\n",
              "      <script>\n",
              "        const buttonEl =\n",
              "          document.querySelector('#df-07f6382a-1fcc-4ad2-b303-690492554fec button.colab-df-convert');\n",
              "        buttonEl.style.display =\n",
              "          google.colab.kernel.accessAllowed ? 'block' : 'none';\n",
              "\n",
              "        async function convertToInteractive(key) {\n",
              "          const element = document.querySelector('#df-07f6382a-1fcc-4ad2-b303-690492554fec');\n",
              "          const dataTable =\n",
              "            await google.colab.kernel.invokeFunction('convertToInteractive',\n",
              "                                                     [key], {});\n",
              "          if (!dataTable) return;\n",
              "\n",
              "          const docLinkHtml = 'Like what you see? Visit the ' +\n",
              "            '<a target=\"_blank\" href=https://colab.research.google.com/notebooks/data_table.ipynb>data table notebook</a>'\n",
              "            + ' to learn more about interactive tables.';\n",
              "          element.innerHTML = '';\n",
              "          dataTable['output_type'] = 'display_data';\n",
              "          await google.colab.output.renderOutput(dataTable, element);\n",
              "          const docLink = document.createElement('div');\n",
              "          docLink.innerHTML = docLinkHtml;\n",
              "          element.appendChild(docLink);\n",
              "        }\n",
              "      </script>\n",
              "    </div>\n",
              "  </div>\n",
              "  "
            ],
            "text/plain": [
              "             Timestamp   Age Gender    City           Position   \\\n",
              "0  24/11/2020 11:14:15  26.0   Male  Munich   Software Engineer   \n",
              "2  24/11/2020 11:14:21  29.0   Male  Berlin   Software Engineer   \n",
              "4  24/11/2020 11:15:46  37.0   Male  Berlin   Backend Developer   \n",
              "5  24/11/2020 11:15:53  32.0   Male  Berlin              DevOps   \n",
              "7  24/11/2020 11:16:44  24.0   Male  Berlin  Frontend Developer   \n",
              "\n",
              "   Total years of experience  Years of experience in Germany Seniority level  \\\n",
              "0                        5.0                             3.0          Senior   \n",
              "2                       12.0                             6.0            Lead   \n",
              "4                       17.0                             6.0          Senior   \n",
              "5                        5.0                             1.0          Senior   \n",
              "7                        5.0                             1.0          Senior   \n",
              "\n",
              "  Your main technology / programming language  \\\n",
              "0                                  TypeScript   \n",
              "2                     Javascript / Typescript   \n",
              "4                                     C# .NET   \n",
              "5                        AWS, GCP, Python,K8s   \n",
              "7                                  Typescript   \n",
              "\n",
              "  Other technologies/programming languages you use often  \\\n",
              "0                    Kotlin, Javascript / Typescript       \n",
              "2                    Javascript / Typescript, Docker       \n",
              "4                             .NET, SQL, AWS, Docker       \n",
              "5      Python, AWS, Google Cloud, Kubernetes, Docker       \n",
              "7                            Javascript / Typescript       \n",
              "\n",
              "   Yearly brutto salary (without bonus and stocks) in EUR  \\\n",
              "0                                            80000.0        \n",
              "2                                           120000.0        \n",
              "4                                            62000.0        \n",
              "5                                            76000.0        \n",
              "7                                            65000.0        \n",
              "\n",
              "   Number of vacation days           Employment status   Сontract duration  \\\n",
              "0                     30.0          Full-time employee  Unlimited contract   \n",
              "2                     30.0  Self-employed (freelancer)  Temporary contract   \n",
              "4                     29.0          Full-time employee  Unlimited contract   \n",
              "5                     30.0          Full-time employee  Unlimited contract   \n",
              "7                     27.0          Full-time employee  Unlimited contract   \n",
              "\n",
              "  Main language at work Company size Company type  \\\n",
              "0               English       51-100      Product   \n",
              "2               English     101-1000      Product   \n",
              "4               English     101-1000      Product   \n",
              "5               English        11-50      Startup   \n",
              "7               English        1000+      Product   \n",
              "\n",
              "  Have you lost your job due to the coronavirus outbreak?  \n",
              "0                                                 No       \n",
              "2                                                Yes       \n",
              "4                                                 No       \n",
              "5                                                 No       \n",
              "7                                                 No       "
            ]
          },
          "execution_count": 133,
          "metadata": {},
          "output_type": "execute_result"
        }
      ],
      "source": [
        "for i in cols:\n",
        "    data[i] = data[i].apply(change_to_int)\n",
        "\n",
        "data.head()\n"
      ]
    },
    {
      "cell_type": "code",
      "execution_count": null,
      "metadata": {
        "colab": {
          "base_uri": "https://localhost:8080/",
          "height": 485
        },
        "id": "GsciK-fRKZzr",
        "outputId": "ae5b3096-448c-4d9f-94e9-ad95275a7e72"
      },
      "outputs": [
        {
          "data": {
            "text/html": [
              "\n",
              "  <div id=\"df-82dc83ac-3c8a-45e5-8cba-c4cb21e0bf4f\">\n",
              "    <div class=\"colab-df-container\">\n",
              "      <div>\n",
              "<style scoped>\n",
              "    .dataframe tbody tr th:only-of-type {\n",
              "        vertical-align: middle;\n",
              "    }\n",
              "\n",
              "    .dataframe tbody tr th {\n",
              "        vertical-align: top;\n",
              "    }\n",
              "\n",
              "    .dataframe thead th {\n",
              "        text-align: right;\n",
              "    }\n",
              "</style>\n",
              "<table border=\"1\" class=\"dataframe\">\n",
              "  <thead>\n",
              "    <tr style=\"text-align: right;\">\n",
              "      <th></th>\n",
              "      <th>Age</th>\n",
              "      <th>Total years of experience</th>\n",
              "      <th>Years of experience in Germany</th>\n",
              "      <th>Yearly brutto salary (without bonus and stocks) in EUR</th>\n",
              "      <th>Number of vacation days</th>\n",
              "    </tr>\n",
              "  </thead>\n",
              "  <tbody>\n",
              "    <tr>\n",
              "      <th>0</th>\n",
              "      <td>26.0</td>\n",
              "      <td>5.0</td>\n",
              "      <td>3.0</td>\n",
              "      <td>80000.0</td>\n",
              "      <td>30.0</td>\n",
              "    </tr>\n",
              "    <tr>\n",
              "      <th>2</th>\n",
              "      <td>29.0</td>\n",
              "      <td>12.0</td>\n",
              "      <td>6.0</td>\n",
              "      <td>120000.0</td>\n",
              "      <td>30.0</td>\n",
              "    </tr>\n",
              "    <tr>\n",
              "      <th>4</th>\n",
              "      <td>37.0</td>\n",
              "      <td>17.0</td>\n",
              "      <td>6.0</td>\n",
              "      <td>62000.0</td>\n",
              "      <td>29.0</td>\n",
              "    </tr>\n",
              "    <tr>\n",
              "      <th>5</th>\n",
              "      <td>32.0</td>\n",
              "      <td>5.0</td>\n",
              "      <td>1.0</td>\n",
              "      <td>76000.0</td>\n",
              "      <td>30.0</td>\n",
              "    </tr>\n",
              "    <tr>\n",
              "      <th>7</th>\n",
              "      <td>24.0</td>\n",
              "      <td>5.0</td>\n",
              "      <td>1.0</td>\n",
              "      <td>65000.0</td>\n",
              "      <td>27.0</td>\n",
              "    </tr>\n",
              "    <tr>\n",
              "      <th>...</th>\n",
              "      <td>...</td>\n",
              "      <td>...</td>\n",
              "      <td>...</td>\n",
              "      <td>...</td>\n",
              "      <td>...</td>\n",
              "    </tr>\n",
              "    <tr>\n",
              "      <th>1247</th>\n",
              "      <td>34.0</td>\n",
              "      <td>7.0</td>\n",
              "      <td>2.0</td>\n",
              "      <td>108500.0</td>\n",
              "      <td>25.0</td>\n",
              "    </tr>\n",
              "    <tr>\n",
              "      <th>1248</th>\n",
              "      <td>31.0</td>\n",
              "      <td>9.0</td>\n",
              "      <td>5.0</td>\n",
              "      <td>70000.0</td>\n",
              "      <td>26.0</td>\n",
              "    </tr>\n",
              "    <tr>\n",
              "      <th>1250</th>\n",
              "      <td>39.0</td>\n",
              "      <td>15.0</td>\n",
              "      <td>2.0</td>\n",
              "      <td>110000.0</td>\n",
              "      <td>28.0</td>\n",
              "    </tr>\n",
              "    <tr>\n",
              "      <th>1251</th>\n",
              "      <td>26.0</td>\n",
              "      <td>7.0</td>\n",
              "      <td>7.0</td>\n",
              "      <td>38350.0</td>\n",
              "      <td>27.0</td>\n",
              "    </tr>\n",
              "    <tr>\n",
              "      <th>1252</th>\n",
              "      <td>26.0</td>\n",
              "      <td>2.0</td>\n",
              "      <td>2.0</td>\n",
              "      <td>65000.0</td>\n",
              "      <td>30.0</td>\n",
              "    </tr>\n",
              "  </tbody>\n",
              "</table>\n",
              "<p>1096 rows × 5 columns</p>\n",
              "</div>\n",
              "      <button class=\"colab-df-convert\" onclick=\"convertToInteractive('df-82dc83ac-3c8a-45e5-8cba-c4cb21e0bf4f')\"\n",
              "              title=\"Convert this dataframe to an interactive table.\"\n",
              "              style=\"display:none;\">\n",
              "        \n",
              "  <svg xmlns=\"http://www.w3.org/2000/svg\" height=\"24px\"viewBox=\"0 0 24 24\"\n",
              "       width=\"24px\">\n",
              "    <path d=\"M0 0h24v24H0V0z\" fill=\"none\"/>\n",
              "    <path d=\"M18.56 5.44l.94 2.06.94-2.06 2.06-.94-2.06-.94-.94-2.06-.94 2.06-2.06.94zm-11 1L8.5 8.5l.94-2.06 2.06-.94-2.06-.94L8.5 2.5l-.94 2.06-2.06.94zm10 10l.94 2.06.94-2.06 2.06-.94-2.06-.94-.94-2.06-.94 2.06-2.06.94z\"/><path d=\"M17.41 7.96l-1.37-1.37c-.4-.4-.92-.59-1.43-.59-.52 0-1.04.2-1.43.59L10.3 9.45l-7.72 7.72c-.78.78-.78 2.05 0 2.83L4 21.41c.39.39.9.59 1.41.59.51 0 1.02-.2 1.41-.59l7.78-7.78 2.81-2.81c.8-.78.8-2.07 0-2.86zM5.41 20L4 18.59l7.72-7.72 1.47 1.35L5.41 20z\"/>\n",
              "  </svg>\n",
              "      </button>\n",
              "      \n",
              "  <style>\n",
              "    .colab-df-container {\n",
              "      display:flex;\n",
              "      flex-wrap:wrap;\n",
              "      gap: 12px;\n",
              "    }\n",
              "\n",
              "    .colab-df-convert {\n",
              "      background-color: #E8F0FE;\n",
              "      border: none;\n",
              "      border-radius: 50%;\n",
              "      cursor: pointer;\n",
              "      display: none;\n",
              "      fill: #1967D2;\n",
              "      height: 32px;\n",
              "      padding: 0 0 0 0;\n",
              "      width: 32px;\n",
              "    }\n",
              "\n",
              "    .colab-df-convert:hover {\n",
              "      background-color: #E2EBFA;\n",
              "      box-shadow: 0px 1px 2px rgba(60, 64, 67, 0.3), 0px 1px 3px 1px rgba(60, 64, 67, 0.15);\n",
              "      fill: #174EA6;\n",
              "    }\n",
              "\n",
              "    [theme=dark] .colab-df-convert {\n",
              "      background-color: #3B4455;\n",
              "      fill: #D2E3FC;\n",
              "    }\n",
              "\n",
              "    [theme=dark] .colab-df-convert:hover {\n",
              "      background-color: #434B5C;\n",
              "      box-shadow: 0px 1px 3px 1px rgba(0, 0, 0, 0.15);\n",
              "      filter: drop-shadow(0px 1px 2px rgba(0, 0, 0, 0.3));\n",
              "      fill: #FFFFFF;\n",
              "    }\n",
              "  </style>\n",
              "\n",
              "      <script>\n",
              "        const buttonEl =\n",
              "          document.querySelector('#df-82dc83ac-3c8a-45e5-8cba-c4cb21e0bf4f button.colab-df-convert');\n",
              "        buttonEl.style.display =\n",
              "          google.colab.kernel.accessAllowed ? 'block' : 'none';\n",
              "\n",
              "        async function convertToInteractive(key) {\n",
              "          const element = document.querySelector('#df-82dc83ac-3c8a-45e5-8cba-c4cb21e0bf4f');\n",
              "          const dataTable =\n",
              "            await google.colab.kernel.invokeFunction('convertToInteractive',\n",
              "                                                     [key], {});\n",
              "          if (!dataTable) return;\n",
              "\n",
              "          const docLinkHtml = 'Like what you see? Visit the ' +\n",
              "            '<a target=\"_blank\" href=https://colab.research.google.com/notebooks/data_table.ipynb>data table notebook</a>'\n",
              "            + ' to learn more about interactive tables.';\n",
              "          element.innerHTML = '';\n",
              "          dataTable['output_type'] = 'display_data';\n",
              "          await google.colab.output.renderOutput(dataTable, element);\n",
              "          const docLink = document.createElement('div');\n",
              "          docLink.innerHTML = docLinkHtml;\n",
              "          element.appendChild(docLink);\n",
              "        }\n",
              "      </script>\n",
              "    </div>\n",
              "  </div>\n",
              "  "
            ],
            "text/plain": [
              "       Age  Total years of experience  Years of experience in Germany  \\\n",
              "0     26.0                        5.0                             3.0   \n",
              "2     29.0                       12.0                             6.0   \n",
              "4     37.0                       17.0                             6.0   \n",
              "5     32.0                        5.0                             1.0   \n",
              "7     24.0                        5.0                             1.0   \n",
              "...    ...                        ...                             ...   \n",
              "1247  34.0                        7.0                             2.0   \n",
              "1248  31.0                        9.0                             5.0   \n",
              "1250  39.0                       15.0                             2.0   \n",
              "1251  26.0                        7.0                             7.0   \n",
              "1252  26.0                        2.0                             2.0   \n",
              "\n",
              "      Yearly brutto salary (without bonus and stocks) in EUR  \\\n",
              "0                                               80000.0        \n",
              "2                                              120000.0        \n",
              "4                                               62000.0        \n",
              "5                                               76000.0        \n",
              "7                                               65000.0        \n",
              "...                                                 ...        \n",
              "1247                                           108500.0        \n",
              "1248                                            70000.0        \n",
              "1250                                           110000.0        \n",
              "1251                                            38350.0        \n",
              "1252                                            65000.0        \n",
              "\n",
              "      Number of vacation days  \n",
              "0                        30.0  \n",
              "2                        30.0  \n",
              "4                        29.0  \n",
              "5                        30.0  \n",
              "7                        27.0  \n",
              "...                       ...  \n",
              "1247                     25.0  \n",
              "1248                     26.0  \n",
              "1250                     28.0  \n",
              "1251                     27.0  \n",
              "1252                     30.0  \n",
              "\n",
              "[1096 rows x 5 columns]"
            ]
          },
          "execution_count": 134,
          "metadata": {},
          "output_type": "execute_result"
        }
      ],
      "source": [
        "num_data = data[['Age', 'Total years of experience', 'Years of experience in Germany',\n",
        "                 'Yearly \"brutto\" salary (without bonus and stocks) in EUR', 'Number of vacation days']]\n",
        "num_data\n"
      ]
    },
    {
      "cell_type": "code",
      "execution_count": null,
      "metadata": {
        "colab": {
          "base_uri": "https://localhost:8080/",
          "height": 983
        },
        "id": "-QeLHpPXD9_J",
        "outputId": "a8702030-b49d-4611-fa7c-880a041437ed"
      },
      "outputs": [
        {
          "data": {
            "text/plain": [
              "[]"
            ]
          },
          "execution_count": 135,
          "metadata": {},
          "output_type": "execute_result"
        },
        {
          "data": {
            "image/png": "[encoded data removed]",
            "text/plain": [
              "<Figure size 720x864 with 2 Axes>"
            ]
          },
          "metadata": {
            "needs_background": "light"
          },
          "output_type": "display_data"
        }
      ],
      "source": [
        "import seaborn as sns\n",
        "import matplotlib.pyplot as plt\n",
        "\n",
        "plt.figure(figsize=(10, 12))\n",
        "data_plot = sns.heatmap(num_data.corr(), cmap=\"YlGnBu\", annot=True)\n",
        "plt.plot()\n"
      ]
    },
    {
      "cell_type": "code",
      "execution_count": null,
      "metadata": {
        "colab": {
          "base_uri": "https://localhost:8080/",
          "height": 837
        },
        "id": "Zbdzg6Xi8BdJ",
        "outputId": "8ced898c-0cd0-48cf-93f5-5e6665c2db5f"
      },
      "outputs": [
        {
          "data": {
            "text/plain": [
              "array([[<matplotlib.axes._subplots.AxesSubplot object at 0x7faa88b02610>,\n",
              "        <matplotlib.axes._subplots.AxesSubplot object at 0x7faa88b32b10>],\n",
              "       [<matplotlib.axes._subplots.AxesSubplot object at 0x7faa88aeaf90>,\n",
              "        <matplotlib.axes._subplots.AxesSubplot object at 0x7faa88aad4d0>],\n",
              "       [<matplotlib.axes._subplots.AxesSubplot object at 0x7faa88a639d0>,\n",
              "        <matplotlib.axes._subplots.AxesSubplot object at 0x7faa88a1aed0>]],\n",
              "      dtype=object)"
            ]
          },
          "execution_count": 136,
          "metadata": {},
          "output_type": "execute_result"
        },
        {
          "data": {
            "image/png": "[encoded data removed]",
            "text/plain": [
              "<Figure size 720x864 with 6 Axes>"
            ]
          },
          "metadata": {
            "needs_background": "light"
          },
          "output_type": "display_data"
        }
      ],
      "source": [
        "num_data.hist(figsize=(10, 12))\n"
      ]
    },
    {
      "cell_type": "code",
      "execution_count": null,
      "metadata": {
        "colab": {
          "base_uri": "https://localhost:8080/",
          "height": 362
        },
        "id": "dau3Zcpe8Bae",
        "outputId": "009614d0-92ff-4826-ed79-daac8ec4cf9d"
      },
      "outputs": [
        {
          "data": {
            "text/html": [
              "\n",
              "  <div id=\"df-279832e2-9717-4197-a0c0-c26d08e40f12\">\n",
              "    <div class=\"colab-df-container\">\n",
              "      <div>\n",
              "<style scoped>\n",
              "    .dataframe tbody tr th:only-of-type {\n",
              "        vertical-align: middle;\n",
              "    }\n",
              "\n",
              "    .dataframe tbody tr th {\n",
              "        vertical-align: top;\n",
              "    }\n",
              "\n",
              "    .dataframe thead th {\n",
              "        text-align: right;\n",
              "    }\n",
              "</style>\n",
              "<table border=\"1\" class=\"dataframe\">\n",
              "  <thead>\n",
              "    <tr style=\"text-align: right;\">\n",
              "      <th></th>\n",
              "      <th>Age</th>\n",
              "      <th>Total years of experience</th>\n",
              "      <th>Years of experience in Germany</th>\n",
              "      <th>Yearly brutto salary (without bonus and stocks) in EUR</th>\n",
              "      <th>Number of vacation days</th>\n",
              "    </tr>\n",
              "  </thead>\n",
              "  <tbody>\n",
              "    <tr>\n",
              "      <th>count</th>\n",
              "      <td>1077.000000</td>\n",
              "      <td>1081.000000</td>\n",
              "      <td>1055.000000</td>\n",
              "      <td>1096.000000</td>\n",
              "      <td>1042.000000</td>\n",
              "    </tr>\n",
              "    <tr>\n",
              "      <th>mean</th>\n",
              "      <td>32.554318</td>\n",
              "      <td>8.931637</td>\n",
              "      <td>3.847583</td>\n",
              "      <td>72159.791177</td>\n",
              "      <td>28.329655</td>\n",
              "    </tr>\n",
              "    <tr>\n",
              "      <th>std</th>\n",
              "      <td>5.623410</td>\n",
              "      <td>5.363645</td>\n",
              "      <td>3.766547</td>\n",
              "      <td>33717.916391</td>\n",
              "      <td>11.144885</td>\n",
              "    </tr>\n",
              "    <tr>\n",
              "      <th>min</th>\n",
              "      <td>20.000000</td>\n",
              "      <td>0.000000</td>\n",
              "      <td>0.000000</td>\n",
              "      <td>10001.000000</td>\n",
              "      <td>0.000000</td>\n",
              "    </tr>\n",
              "    <tr>\n",
              "      <th>25%</th>\n",
              "      <td>29.000000</td>\n",
              "      <td>5.000000</td>\n",
              "      <td>1.000000</td>\n",
              "      <td>60000.000000</td>\n",
              "      <td>27.000000</td>\n",
              "    </tr>\n",
              "    <tr>\n",
              "      <th>50%</th>\n",
              "      <td>32.000000</td>\n",
              "      <td>8.000000</td>\n",
              "      <td>3.000000</td>\n",
              "      <td>70000.000000</td>\n",
              "      <td>28.000000</td>\n",
              "    </tr>\n",
              "    <tr>\n",
              "      <th>75%</th>\n",
              "      <td>36.000000</td>\n",
              "      <td>12.000000</td>\n",
              "      <td>5.000000</td>\n",
              "      <td>80000.000000</td>\n",
              "      <td>30.000000</td>\n",
              "    </tr>\n",
              "    <tr>\n",
              "      <th>max</th>\n",
              "      <td>66.000000</td>\n",
              "      <td>40.000000</td>\n",
              "      <td>30.000000</td>\n",
              "      <td>850000.000000</td>\n",
              "      <td>365.000000</td>\n",
              "    </tr>\n",
              "  </tbody>\n",
              "</table>\n",
              "</div>\n",
              "      <button class=\"colab-df-convert\" onclick=\"convertToInteractive('df-279832e2-9717-4197-a0c0-c26d08e40f12')\"\n",
              "              title=\"Convert this dataframe to an interactive table.\"\n",
              "              style=\"display:none;\">\n",
              "        \n",
              "  <svg xmlns=\"http://www.w3.org/2000/svg\" height=\"24px\"viewBox=\"0 0 24 24\"\n",
              "       width=\"24px\">\n",
              "    <path d=\"M0 0h24v24H0V0z\" fill=\"none\"/>\n",
              "    <path d=\"M18.56 5.44l.94 2.06.94-2.06 2.06-.94-2.06-.94-.94-2.06-.94 2.06-2.06.94zm-11 1L8.5 8.5l.94-2.06 2.06-.94-2.06-.94L8.5 2.5l-.94 2.06-2.06.94zm10 10l.94 2.06.94-2.06 2.06-.94-2.06-.94-.94-2.06-.94 2.06-2.06.94z\"/><path d=\"M17.41 7.96l-1.37-1.37c-.4-.4-.92-.59-1.43-.59-.52 0-1.04.2-1.43.59L10.3 9.45l-7.72 7.72c-.78.78-.78 2.05 0 2.83L4 21.41c.39.39.9.59 1.41.59.51 0 1.02-.2 1.41-.59l7.78-7.78 2.81-2.81c.8-.78.8-2.07 0-2.86zM5.41 20L4 18.59l7.72-7.72 1.47 1.35L5.41 20z\"/>\n",
              "  </svg>\n",
              "      </button>\n",
              "      \n",
              "  <style>\n",
              "    .colab-df-container {\n",
              "      display:flex;\n",
              "      flex-wrap:wrap;\n",
              "      gap: 12px;\n",
              "    }\n",
              "\n",
              "    .colab-df-convert {\n",
              "      background-color: #E8F0FE;\n",
              "      border: none;\n",
              "      border-radius: 50%;\n",
              "      cursor: pointer;\n",
              "      display: none;\n",
              "      fill: #1967D2;\n",
              "      height: 32px;\n",
              "      padding: 0 0 0 0;\n",
              "      width: 32px;\n",
              "    }\n",
              "\n",
              "    .colab-df-convert:hover {\n",
              "      background-color: #E2EBFA;\n",
              "      box-shadow: 0px 1px 2px rgba(60, 64, 67, 0.3), 0px 1px 3px 1px rgba(60, 64, 67, 0.15);\n",
              "      fill: #174EA6;\n",
              "    }\n",
              "\n",
              "    [theme=dark] .colab-df-convert {\n",
              "      background-color: #3B4455;\n",
              "      fill: #D2E3FC;\n",
              "    }\n",
              "\n",
              "    [theme=dark] .colab-df-convert:hover {\n",
              "      background-color: #434B5C;\n",
              "      box-shadow: 0px 1px 3px 1px rgba(0, 0, 0, 0.15);\n",
              "      filter: drop-shadow(0px 1px 2px rgba(0, 0, 0, 0.3));\n",
              "      fill: #FFFFFF;\n",
              "    }\n",
              "  </style>\n",
              "\n",
              "      <script>\n",
              "        const buttonEl =\n",
              "          document.querySelector('#df-279832e2-9717-4197-a0c0-c26d08e40f12 button.colab-df-convert');\n",
              "        buttonEl.style.display =\n",
              "          google.colab.kernel.accessAllowed ? 'block' : 'none';\n",
              "\n",
              "        async function convertToInteractive(key) {\n",
              "          const element = document.querySelector('#df-279832e2-9717-4197-a0c0-c26d08e40f12');\n",
              "          const dataTable =\n",
              "            await google.colab.kernel.invokeFunction('convertToInteractive',\n",
              "                                                     [key], {});\n",
              "          if (!dataTable) return;\n",
              "\n",
              "          const docLinkHtml = 'Like what you see? Visit the ' +\n",
              "            '<a target=\"_blank\" href=https://colab.research.google.com/notebooks/data_table.ipynb>data table notebook</a>'\n",
              "            + ' to learn more about interactive tables.';\n",
              "          element.innerHTML = '';\n",
              "          dataTable['output_type'] = 'display_data';\n",
              "          await google.colab.output.renderOutput(dataTable, element);\n",
              "          const docLink = document.createElement('div');\n",
              "          docLink.innerHTML = docLinkHtml;\n",
              "          element.appendChild(docLink);\n",
              "        }\n",
              "      </script>\n",
              "    </div>\n",
              "  </div>\n",
              "  "
            ],
            "text/plain": [
              "               Age  Total years of experience  Years of experience in Germany  \\\n",
              "count  1077.000000                1081.000000                     1055.000000   \n",
              "mean     32.554318                   8.931637                        3.847583   \n",
              "std       5.623410                   5.363645                        3.766547   \n",
              "min      20.000000                   0.000000                        0.000000   \n",
              "25%      29.000000                   5.000000                        1.000000   \n",
              "50%      32.000000                   8.000000                        3.000000   \n",
              "75%      36.000000                  12.000000                        5.000000   \n",
              "max      66.000000                  40.000000                       30.000000   \n",
              "\n",
              "       Yearly brutto salary (without bonus and stocks) in EUR  \\\n",
              "count                                        1096.000000        \n",
              "mean                                        72159.791177        \n",
              "std                                         33717.916391        \n",
              "min                                         10001.000000        \n",
              "25%                                         60000.000000        \n",
              "50%                                         70000.000000        \n",
              "75%                                         80000.000000        \n",
              "max                                        850000.000000        \n",
              "\n",
              "       Number of vacation days  \n",
              "count              1042.000000  \n",
              "mean                 28.329655  \n",
              "std                  11.144885  \n",
              "min                   0.000000  \n",
              "25%                  27.000000  \n",
              "50%                  28.000000  \n",
              "75%                  30.000000  \n",
              "max                 365.000000  "
            ]
          },
          "execution_count": 137,
          "metadata": {},
          "output_type": "execute_result"
        }
      ],
      "source": [
        "num_data.describe()\n"
      ]
    },
    {
      "cell_type": "code",
      "execution_count": null,
      "metadata": {
        "colab": {
          "base_uri": "https://localhost:8080/",
          "height": 817
        },
        "id": "7WH0icJm80cH",
        "outputId": "c09242d1-aa5a-4c61-9112-ee360136dcd8"
      },
      "outputs": [
        {
          "data": {
            "text/html": [
              "\n",
              "  <div id=\"df-340a17c7-052e-4cba-ab63-542103e4367c\">\n",
              "    <div class=\"colab-df-container\">\n",
              "      <div>\n",
              "<style scoped>\n",
              "    .dataframe tbody tr th:only-of-type {\n",
              "        vertical-align: middle;\n",
              "    }\n",
              "\n",
              "    .dataframe tbody tr th {\n",
              "        vertical-align: top;\n",
              "    }\n",
              "\n",
              "    .dataframe thead th {\n",
              "        text-align: right;\n",
              "    }\n",
              "</style>\n",
              "<table border=\"1\" class=\"dataframe\">\n",
              "  <thead>\n",
              "    <tr style=\"text-align: right;\">\n",
              "      <th></th>\n",
              "      <th>Timestamp</th>\n",
              "      <th>Age</th>\n",
              "      <th>Gender</th>\n",
              "      <th>City</th>\n",
              "      <th>Position</th>\n",
              "      <th>Total years of experience</th>\n",
              "      <th>Years of experience in Germany</th>\n",
              "      <th>Seniority level</th>\n",
              "      <th>Your main technology / programming language</th>\n",
              "      <th>Other technologies/programming languages you use often</th>\n",
              "      <th>Yearly brutto salary (without bonus and stocks) in EUR</th>\n",
              "      <th>Number of vacation days</th>\n",
              "      <th>Employment status</th>\n",
              "      <th>Сontract duration</th>\n",
              "      <th>Main language at work</th>\n",
              "      <th>Company size</th>\n",
              "      <th>Company type</th>\n",
              "      <th>Have you lost your job due to the coronavirus outbreak?</th>\n",
              "    </tr>\n",
              "  </thead>\n",
              "  <tbody>\n",
              "    <tr>\n",
              "      <th>0</th>\n",
              "      <td>24/11/2020 11:14:15</td>\n",
              "      <td>26.0</td>\n",
              "      <td>Male</td>\n",
              "      <td>Munich</td>\n",
              "      <td>Software Engineer</td>\n",
              "      <td>5.0</td>\n",
              "      <td>3.0</td>\n",
              "      <td>Senior</td>\n",
              "      <td>TypeScript</td>\n",
              "      <td>Kotlin, Javascript / Typescript</td>\n",
              "      <td>80000.0</td>\n",
              "      <td>30.0</td>\n",
              "      <td>Full-time employee</td>\n",
              "      <td>Unlimited contract</td>\n",
              "      <td>English</td>\n",
              "      <td>51-100</td>\n",
              "      <td>Product</td>\n",
              "      <td>No</td>\n",
              "    </tr>\n",
              "    <tr>\n",
              "      <th>2</th>\n",
              "      <td>24/11/2020 11:14:21</td>\n",
              "      <td>29.0</td>\n",
              "      <td>Male</td>\n",
              "      <td>Berlin</td>\n",
              "      <td>Software Engineer</td>\n",
              "      <td>12.0</td>\n",
              "      <td>6.0</td>\n",
              "      <td>Lead</td>\n",
              "      <td>Javascript / Typescript</td>\n",
              "      <td>Javascript / Typescript, Docker</td>\n",
              "      <td>120000.0</td>\n",
              "      <td>30.0</td>\n",
              "      <td>Self-employed (freelancer)</td>\n",
              "      <td>Temporary contract</td>\n",
              "      <td>English</td>\n",
              "      <td>101-1000</td>\n",
              "      <td>Product</td>\n",
              "      <td>Yes</td>\n",
              "    </tr>\n",
              "    <tr>\n",
              "      <th>4</th>\n",
              "      <td>24/11/2020 11:15:46</td>\n",
              "      <td>37.0</td>\n",
              "      <td>Male</td>\n",
              "      <td>Berlin</td>\n",
              "      <td>Backend Developer</td>\n",
              "      <td>17.0</td>\n",
              "      <td>6.0</td>\n",
              "      <td>Senior</td>\n",
              "      <td>C# .NET</td>\n",
              "      <td>.NET, SQL, AWS, Docker</td>\n",
              "      <td>62000.0</td>\n",
              "      <td>29.0</td>\n",
              "      <td>Full-time employee</td>\n",
              "      <td>Unlimited contract</td>\n",
              "      <td>English</td>\n",
              "      <td>101-1000</td>\n",
              "      <td>Product</td>\n",
              "      <td>No</td>\n",
              "    </tr>\n",
              "    <tr>\n",
              "      <th>5</th>\n",
              "      <td>24/11/2020 11:15:53</td>\n",
              "      <td>32.0</td>\n",
              "      <td>Male</td>\n",
              "      <td>Berlin</td>\n",
              "      <td>DevOps</td>\n",
              "      <td>5.0</td>\n",
              "      <td>1.0</td>\n",
              "      <td>Senior</td>\n",
              "      <td>AWS, GCP, Python,K8s</td>\n",
              "      <td>Python, AWS, Google Cloud, Kubernetes, Docker</td>\n",
              "      <td>76000.0</td>\n",
              "      <td>30.0</td>\n",
              "      <td>Full-time employee</td>\n",
              "      <td>Unlimited contract</td>\n",
              "      <td>English</td>\n",
              "      <td>11-50</td>\n",
              "      <td>Startup</td>\n",
              "      <td>No</td>\n",
              "    </tr>\n",
              "    <tr>\n",
              "      <th>7</th>\n",
              "      <td>24/11/2020 11:16:44</td>\n",
              "      <td>24.0</td>\n",
              "      <td>Male</td>\n",
              "      <td>Berlin</td>\n",
              "      <td>Frontend Developer</td>\n",
              "      <td>5.0</td>\n",
              "      <td>1.0</td>\n",
              "      <td>Senior</td>\n",
              "      <td>Typescript</td>\n",
              "      <td>Javascript / Typescript</td>\n",
              "      <td>65000.0</td>\n",
              "      <td>27.0</td>\n",
              "      <td>Full-time employee</td>\n",
              "      <td>Unlimited contract</td>\n",
              "      <td>English</td>\n",
              "      <td>1000+</td>\n",
              "      <td>Product</td>\n",
              "      <td>No</td>\n",
              "    </tr>\n",
              "    <tr>\n",
              "      <th>...</th>\n",
              "      <td>...</td>\n",
              "      <td>...</td>\n",
              "      <td>...</td>\n",
              "      <td>...</td>\n",
              "      <td>...</td>\n",
              "      <td>...</td>\n",
              "      <td>...</td>\n",
              "      <td>...</td>\n",
              "      <td>...</td>\n",
              "      <td>...</td>\n",
              "      <td>...</td>\n",
              "      <td>...</td>\n",
              "      <td>...</td>\n",
              "      <td>...</td>\n",
              "      <td>...</td>\n",
              "      <td>...</td>\n",
              "      <td>...</td>\n",
              "      <td>...</td>\n",
              "    </tr>\n",
              "    <tr>\n",
              "      <th>1247</th>\n",
              "      <td>18/01/2021 11:50:02</td>\n",
              "      <td>34.0</td>\n",
              "      <td>Male</td>\n",
              "      <td>Zurich</td>\n",
              "      <td>Software Engineer</td>\n",
              "      <td>7.0</td>\n",
              "      <td>2.0</td>\n",
              "      <td>Senior</td>\n",
              "      <td>PHP</td>\n",
              "      <td>PHP</td>\n",
              "      <td>108500.0</td>\n",
              "      <td>25.0</td>\n",
              "      <td>Full-time employee</td>\n",
              "      <td>Unlimited contract</td>\n",
              "      <td>English</td>\n",
              "      <td>11-50</td>\n",
              "      <td>Startup</td>\n",
              "      <td>No</td>\n",
              "    </tr>\n",
              "    <tr>\n",
              "      <th>1248</th>\n",
              "      <td>18/01/2021 15:05:50</td>\n",
              "      <td>31.0</td>\n",
              "      <td>Male</td>\n",
              "      <td>Berlin</td>\n",
              "      <td>Backend Developer</td>\n",
              "      <td>9.0</td>\n",
              "      <td>5.0</td>\n",
              "      <td>Senior</td>\n",
              "      <td>Java</td>\n",
              "      <td>Python, Javascript / Typescript, Java / Scala,...</td>\n",
              "      <td>70000.0</td>\n",
              "      <td>26.0</td>\n",
              "      <td>Full-time employee</td>\n",
              "      <td>Unlimited contract</td>\n",
              "      <td>English</td>\n",
              "      <td>51-100</td>\n",
              "      <td>Product</td>\n",
              "      <td>Yes</td>\n",
              "    </tr>\n",
              "    <tr>\n",
              "      <th>1250</th>\n",
              "      <td>18/01/2021 23:20:35</td>\n",
              "      <td>39.0</td>\n",
              "      <td>Male</td>\n",
              "      <td>Munich</td>\n",
              "      <td>IT Operations Manager</td>\n",
              "      <td>15.0</td>\n",
              "      <td>2.0</td>\n",
              "      <td>Lead</td>\n",
              "      <td>PHP</td>\n",
              "      <td>Python, C/C++, Javascript / Typescript, Java /...</td>\n",
              "      <td>110000.0</td>\n",
              "      <td>28.0</td>\n",
              "      <td>Full-time employee</td>\n",
              "      <td>Unlimited contract</td>\n",
              "      <td>English</td>\n",
              "      <td>101-1000</td>\n",
              "      <td>eCommerce</td>\n",
              "      <td>No</td>\n",
              "    </tr>\n",
              "    <tr>\n",
              "      <th>1251</th>\n",
              "      <td>19/01/2021 10:17:58</td>\n",
              "      <td>26.0</td>\n",
              "      <td>Male</td>\n",
              "      <td>Saarbrücken</td>\n",
              "      <td>Frontend Developer</td>\n",
              "      <td>7.0</td>\n",
              "      <td>7.0</td>\n",
              "      <td>Middle</td>\n",
              "      <td>JavaScript</td>\n",
              "      <td>Javascript / Typescript, Docker, HTML, CSS; Ad...</td>\n",
              "      <td>38350.0</td>\n",
              "      <td>27.0</td>\n",
              "      <td>Full-time employee</td>\n",
              "      <td>Unlimited contract</td>\n",
              "      <td>German</td>\n",
              "      <td>101-1000</td>\n",
              "      <td>Product</td>\n",
              "      <td>No</td>\n",
              "    </tr>\n",
              "    <tr>\n",
              "      <th>1252</th>\n",
              "      <td>19/01/2021 12:01:11</td>\n",
              "      <td>26.0</td>\n",
              "      <td>Male</td>\n",
              "      <td>Berlin</td>\n",
              "      <td>DevOps</td>\n",
              "      <td>2.0</td>\n",
              "      <td>2.0</td>\n",
              "      <td>Middle</td>\n",
              "      <td>yaml</td>\n",
              "      <td>Python, AWS, Kubernetes, Docker, terraform, an...</td>\n",
              "      <td>65000.0</td>\n",
              "      <td>30.0</td>\n",
              "      <td>Full-time employee</td>\n",
              "      <td>Unlimited contract</td>\n",
              "      <td>English</td>\n",
              "      <td>51-100</td>\n",
              "      <td>Startup</td>\n",
              "      <td>No</td>\n",
              "    </tr>\n",
              "  </tbody>\n",
              "</table>\n",
              "<p>1096 rows × 18 columns</p>\n",
              "</div>\n",
              "      <button class=\"colab-df-convert\" onclick=\"convertToInteractive('df-340a17c7-052e-4cba-ab63-542103e4367c')\"\n",
              "              title=\"Convert this dataframe to an interactive table.\"\n",
              "              style=\"display:none;\">\n",
              "        \n",
              "  <svg xmlns=\"http://www.w3.org/2000/svg\" height=\"24px\"viewBox=\"0 0 24 24\"\n",
              "       width=\"24px\">\n",
              "    <path d=\"M0 0h24v24H0V0z\" fill=\"none\"/>\n",
              "    <path d=\"M18.56 5.44l.94 2.06.94-2.06 2.06-.94-2.06-.94-.94-2.06-.94 2.06-2.06.94zm-11 1L8.5 8.5l.94-2.06 2.06-.94-2.06-.94L8.5 2.5l-.94 2.06-2.06.94zm10 10l.94 2.06.94-2.06 2.06-.94-2.06-.94-.94-2.06-.94 2.06-2.06.94z\"/><path d=\"M17.41 7.96l-1.37-1.37c-.4-.4-.92-.59-1.43-.59-.52 0-1.04.2-1.43.59L10.3 9.45l-7.72 7.72c-.78.78-.78 2.05 0 2.83L4 21.41c.39.39.9.59 1.41.59.51 0 1.02-.2 1.41-.59l7.78-7.78 2.81-2.81c.8-.78.8-2.07 0-2.86zM5.41 20L4 18.59l7.72-7.72 1.47 1.35L5.41 20z\"/>\n",
              "  </svg>\n",
              "      </button>\n",
              "      \n",
              "  <style>\n",
              "    .colab-df-container {\n",
              "      display:flex;\n",
              "      flex-wrap:wrap;\n",
              "      gap: 12px;\n",
              "    }\n",
              "\n",
              "    .colab-df-convert {\n",
              "      background-color: #E8F0FE;\n",
              "      border: none;\n",
              "      border-radius: 50%;\n",
              "      cursor: pointer;\n",
              "      display: none;\n",
              "      fill: #1967D2;\n",
              "      height: 32px;\n",
              "      padding: 0 0 0 0;\n",
              "      width: 32px;\n",
              "    }\n",
              "\n",
              "    .colab-df-convert:hover {\n",
              "      background-color: #E2EBFA;\n",
              "      box-shadow: 0px 1px 2px rgba(60, 64, 67, 0.3), 0px 1px 3px 1px rgba(60, 64, 67, 0.15);\n",
              "      fill: #174EA6;\n",
              "    }\n",
              "\n",
              "    [theme=dark] .colab-df-convert {\n",
              "      background-color: #3B4455;\n",
              "      fill: #D2E3FC;\n",
              "    }\n",
              "\n",
              "    [theme=dark] .colab-df-convert:hover {\n",
              "      background-color: #434B5C;\n",
              "      box-shadow: 0px 1px 3px 1px rgba(0, 0, 0, 0.15);\n",
              "      filter: drop-shadow(0px 1px 2px rgba(0, 0, 0, 0.3));\n",
              "      fill: #FFFFFF;\n",
              "    }\n",
              "  </style>\n",
              "\n",
              "      <script>\n",
              "        const buttonEl =\n",
              "          document.querySelector('#df-340a17c7-052e-4cba-ab63-542103e4367c button.colab-df-convert');\n",
              "        buttonEl.style.display =\n",
              "          google.colab.kernel.accessAllowed ? 'block' : 'none';\n",
              "\n",
              "        async function convertToInteractive(key) {\n",
              "          const element = document.querySelector('#df-340a17c7-052e-4cba-ab63-542103e4367c');\n",
              "          const dataTable =\n",
              "            await google.colab.kernel.invokeFunction('convertToInteractive',\n",
              "                                                     [key], {});\n",
              "          if (!dataTable) return;\n",
              "\n",
              "          const docLinkHtml = 'Like what you see? Visit the ' +\n",
              "            '<a target=\"_blank\" href=https://colab.research.google.com/notebooks/data_table.ipynb>data table notebook</a>'\n",
              "            + ' to learn more about interactive tables.';\n",
              "          element.innerHTML = '';\n",
              "          dataTable['output_type'] = 'display_data';\n",
              "          await google.colab.output.renderOutput(dataTable, element);\n",
              "          const docLink = document.createElement('div');\n",
              "          docLink.innerHTML = docLinkHtml;\n",
              "          element.appendChild(docLink);\n",
              "        }\n",
              "      </script>\n",
              "    </div>\n",
              "  </div>\n",
              "  "
            ],
            "text/plain": [
              "                Timestamp   Age Gender         City              Position   \\\n",
              "0     24/11/2020 11:14:15  26.0   Male       Munich      Software Engineer   \n",
              "2     24/11/2020 11:14:21  29.0   Male       Berlin      Software Engineer   \n",
              "4     24/11/2020 11:15:46  37.0   Male       Berlin      Backend Developer   \n",
              "5     24/11/2020 11:15:53  32.0   Male       Berlin                 DevOps   \n",
              "7     24/11/2020 11:16:44  24.0   Male       Berlin     Frontend Developer   \n",
              "...                   ...   ...    ...          ...                    ...   \n",
              "1247  18/01/2021 11:50:02  34.0   Male       Zurich      Software Engineer   \n",
              "1248  18/01/2021 15:05:50  31.0   Male       Berlin      Backend Developer   \n",
              "1250  18/01/2021 23:20:35  39.0   Male       Munich  IT Operations Manager   \n",
              "1251  19/01/2021 10:17:58  26.0   Male  Saarbrücken     Frontend Developer   \n",
              "1252  19/01/2021 12:01:11  26.0   Male       Berlin                 DevOps   \n",
              "\n",
              "      Total years of experience  Years of experience in Germany  \\\n",
              "0                           5.0                             3.0   \n",
              "2                          12.0                             6.0   \n",
              "4                          17.0                             6.0   \n",
              "5                           5.0                             1.0   \n",
              "7                           5.0                             1.0   \n",
              "...                         ...                             ...   \n",
              "1247                        7.0                             2.0   \n",
              "1248                        9.0                             5.0   \n",
              "1250                       15.0                             2.0   \n",
              "1251                        7.0                             7.0   \n",
              "1252                        2.0                             2.0   \n",
              "\n",
              "     Seniority level Your main technology / programming language  \\\n",
              "0             Senior                                  TypeScript   \n",
              "2               Lead                     Javascript / Typescript   \n",
              "4             Senior                                     C# .NET   \n",
              "5             Senior                        AWS, GCP, Python,K8s   \n",
              "7             Senior                                  Typescript   \n",
              "...              ...                                         ...   \n",
              "1247          Senior                                         PHP   \n",
              "1248          Senior                                        Java   \n",
              "1250            Lead                                         PHP   \n",
              "1251          Middle                                  JavaScript   \n",
              "1252          Middle                                        yaml   \n",
              "\n",
              "     Other technologies/programming languages you use often  \\\n",
              "0                       Kotlin, Javascript / Typescript       \n",
              "2                       Javascript / Typescript, Docker       \n",
              "4                                .NET, SQL, AWS, Docker       \n",
              "5         Python, AWS, Google Cloud, Kubernetes, Docker       \n",
              "7                               Javascript / Typescript       \n",
              "...                                                 ...       \n",
              "1247                                                PHP       \n",
              "1248  Python, Javascript / Typescript, Java / Scala,...       \n",
              "1250  Python, C/C++, Javascript / Typescript, Java /...       \n",
              "1251  Javascript / Typescript, Docker, HTML, CSS; Ad...       \n",
              "1252  Python, AWS, Kubernetes, Docker, terraform, an...       \n",
              "\n",
              "      Yearly brutto salary (without bonus and stocks) in EUR  \\\n",
              "0                                               80000.0        \n",
              "2                                              120000.0        \n",
              "4                                               62000.0        \n",
              "5                                               76000.0        \n",
              "7                                               65000.0        \n",
              "...                                                 ...        \n",
              "1247                                           108500.0        \n",
              "1248                                            70000.0        \n",
              "1250                                           110000.0        \n",
              "1251                                            38350.0        \n",
              "1252                                            65000.0        \n",
              "\n",
              "      Number of vacation days           Employment status   Сontract duration  \\\n",
              "0                        30.0          Full-time employee  Unlimited contract   \n",
              "2                        30.0  Self-employed (freelancer)  Temporary contract   \n",
              "4                        29.0          Full-time employee  Unlimited contract   \n",
              "5                        30.0          Full-time employee  Unlimited contract   \n",
              "7                        27.0          Full-time employee  Unlimited contract   \n",
              "...                       ...                         ...                 ...   \n",
              "1247                     25.0          Full-time employee  Unlimited contract   \n",
              "1248                     26.0          Full-time employee  Unlimited contract   \n",
              "1250                     28.0          Full-time employee  Unlimited contract   \n",
              "1251                     27.0          Full-time employee  Unlimited contract   \n",
              "1252                     30.0          Full-time employee  Unlimited contract   \n",
              "\n",
              "     Main language at work Company size Company type  \\\n",
              "0                  English       51-100      Product   \n",
              "2                  English     101-1000      Product   \n",
              "4                  English     101-1000      Product   \n",
              "5                  English        11-50      Startup   \n",
              "7                  English        1000+      Product   \n",
              "...                    ...          ...          ...   \n",
              "1247               English        11-50      Startup   \n",
              "1248               English       51-100      Product   \n",
              "1250               English     101-1000    eCommerce   \n",
              "1251                German     101-1000      Product   \n",
              "1252               English       51-100      Startup   \n",
              "\n",
              "     Have you lost your job due to the coronavirus outbreak?  \n",
              "0                                                    No       \n",
              "2                                                   Yes       \n",
              "4                                                    No       \n",
              "5                                                    No       \n",
              "7                                                    No       \n",
              "...                                                 ...       \n",
              "1247                                                 No       \n",
              "1248                                                Yes       \n",
              "1250                                                 No       \n",
              "1251                                                 No       \n",
              "1252                                                 No       \n",
              "\n",
              "[1096 rows x 18 columns]"
            ]
          },
          "execution_count": 138,
          "metadata": {},
          "output_type": "execute_result"
        }
      ],
      "source": [
        "data\n"
      ]
    },
    {
      "cell_type": "code",
      "execution_count": null,
      "metadata": {
        "colab": {
          "base_uri": "https://localhost:8080/",
          "height": 279
        },
        "id": "kVDRj0yL8BPI",
        "outputId": "a78dc590-c435-45cf-d4ab-182c2faf1f20"
      },
      "outputs": [
        {
          "data": {
            "image/png": "[encoded data removed]",
            "text/plain": [
              "<Figure size 432x288 with 1 Axes>"
            ]
          },
          "metadata": {
            "needs_background": "light"
          },
          "output_type": "display_data"
        }
      ],
      "source": [
        "sns.scatterplot(x=data['Age'], y=data['Gender'])\n",
        "plt.show()\n",
        "# Conclusion: females stop working after the age of 45\n"
      ]
    },
    {
      "cell_type": "code",
      "execution_count": null,
      "metadata": {
        "colab": {
          "base_uri": "https://localhost:8080/",
          "height": 279
        },
        "id": "CUJPF6wz8AXF",
        "outputId": "19d0c6f0-3273-4152-f96f-bfc7156bb17e"
      },
      "outputs": [
        {
          "data": {
            "image/png": "[encoded data removed]",
            "text/plain": [
              "<Figure size 432x288 with 1 Axes>"
            ]
          },
          "metadata": {
            "needs_background": "light"
          },
          "output_type": "display_data"
        }
      ],
      "source": [
        "sns.scatterplot(x=data['Total years of experience'], y=data['Gender'])\n",
        "plt.show()\n",
        "# Conclusion : women work for lesser years compared to men\n"
      ]
    },
    {
      "cell_type": "code",
      "execution_count": null,
      "metadata": {
        "colab": {
          "base_uri": "https://localhost:8080/",
          "height": 279
        },
        "id": "rvO5YxY38ATJ",
        "outputId": "e0bdcbb5-68d0-41a5-db99-d2d65b2dbb94"
      },
      "outputs": [
        {
          "data": {
            "image/png": "[encoded data removed]",
            "text/plain": [
              "<Figure size 432x288 with 1 Axes>"
            ]
          },
          "metadata": {
            "needs_background": "light"
          },
          "output_type": "display_data"
        }
      ],
      "source": [
        "sns.scatterplot(x=data['Total years of experience'], y=data['Seniority level'])\n",
        "plt.show()\n",
        "# Conclusion : Getting to bigger level needs experience\n"
      ]
    },
    {
      "cell_type": "code",
      "execution_count": null,
      "metadata": {
        "colab": {
          "base_uri": "https://localhost:8080/",
          "height": 279
        },
        "id": "tqJy8ZvU8ALl",
        "outputId": "7d506f25-7b86-4976-9fba-9f5bdab02618"
      },
      "outputs": [
        {
          "data": {
            "image/png": "[encoded data removed]",
            "text/plain": [
              "<Figure size 432x288 with 1 Axes>"
            ]
          },
          "metadata": {
            "needs_background": "light"
          },
          "output_type": "display_data"
        }
      ],
      "source": [
        "sns.scatterplot(x=data['Number of vacation days'], y=data['Employment status'])\n",
        "plt.show()\n"
      ]
    },
    {
      "cell_type": "code",
      "execution_count": null,
      "metadata": {
        "colab": {
          "base_uri": "https://localhost:8080/",
          "height": 279
        },
        "id": "wiPVrkG8Acsu",
        "outputId": "dcb70b3d-670a-41ff-e451-d21145b6e4e0"
      },
      "outputs": [
        {
          "data": {
            "image/png": "[encoded data removed]",
            "text/plain": [
              "<Figure size 432x288 with 1 Axes>"
            ]
          },
          "metadata": {
            "needs_background": "light"
          },
          "output_type": "display_data"
        }
      ],
      "source": [
        "sns.scatterplot(\n",
        "    x=data['Yearly brutto salary (without bonus and stocks) in EUR'], y=data['Gender'])\n",
        "plt.show()\n",
        "# Conclusion : Females get less bonus\n"
      ]
    },
    {
      "cell_type": "code",
      "execution_count": null,
      "metadata": {
        "colab": {
          "base_uri": "https://localhost:8080/",
          "height": 279
        },
        "id": "IkFDuuSbAcqf",
        "outputId": "e9df5855-f9f9-4f1b-e97e-7280ca793da2"
      },
      "outputs": [
        {
          "data": {
            "image/png": "[encoded data removed]",
            "text/plain": [
              "<Figure size 432x288 with 1 Axes>"
            ]
          },
          "metadata": {
            "needs_background": "light"
          },
          "output_type": "display_data"
        }
      ],
      "source": [
        "sns.scatterplot(\n",
        "    x=data['Yearly brutto salary (without bonus and stocks) in EUR'], y=data['Seniority level'])\n",
        "plt.show()\n",
        "# conlusion : getter levels gives more salary\n"
      ]
    },
    {
      "cell_type": "code",
      "execution_count": null,
      "metadata": {
        "id": "988erDqUAcn4"
      },
      "outputs": [],
      "source": []
    },
    {
      "cell_type": "code",
      "execution_count": null,
      "metadata": {
        "id": "LKCwauSQAclE"
      },
      "outputs": [],
      "source": []
    },
    {
      "cell_type": "code",
      "execution_count": null,
      "metadata": {
        "colab": {
          "base_uri": "https://localhost:8080/",
          "height": 35
        },
        "id": "P2pxGNpzgyXz",
        "outputId": "53c4ad56-2c01-46fb-d587-56ef0b5fa1e2"
      },
      "outputs": [
        {
          "data": {
            "application/vnd.google.colaboratory.intrinsic+json": {
              "type": "string"
            },
            "text/plain": [
              "'data.describe()'"
            ]
          },
          "execution_count": 68,
          "metadata": {},
          "output_type": "execute_result"
        }
      ],
      "source": [
        "'''data.describe()'''\n"
      ]
    },
    {
      "cell_type": "code",
      "execution_count": null,
      "metadata": {
        "colab": {
          "base_uri": "https://localhost:8080/",
          "height": 35
        },
        "id": "Ahmmm7m3g5mZ",
        "outputId": "e2ac281d-9af6-4346-8c94-da77b60ec846"
      },
      "outputs": [
        {
          "data": {
            "application/vnd.google.colaboratory.intrinsic+json": {
              "type": "string"
            },
            "text/plain": [
              "'data.info()'"
            ]
          },
          "execution_count": 69,
          "metadata": {},
          "output_type": "execute_result"
        }
      ],
      "source": [
        "'''data.info()'''\n"
      ]
    },
    {
      "cell_type": "code",
      "execution_count": null,
      "metadata": {
        "colab": {
          "base_uri": "https://localhost:8080/",
          "height": 35
        },
        "id": "IpKGCz2Ag9Gp",
        "outputId": "e6c92d92-ebfe-4b1b-bf16-b02b8a81eddb"
      },
      "outputs": [
        {
          "data": {
            "application/vnd.google.colaboratory.intrinsic+json": {
              "type": "string"
            },
            "text/plain": [
              "\"job_titles=data['Age']\\nprint(job_titles.mean())\""
            ]
          },
          "execution_count": 70,
          "metadata": {},
          "output_type": "execute_result"
        }
      ],
      "source": [
        "'''job_titles=data['Age']\n",
        "print(job_titles.mean())'''\n"
      ]
    },
    {
      "cell_type": "code",
      "execution_count": null,
      "metadata": {
        "colab": {
          "base_uri": "https://localhost:8080/",
          "height": 174
        },
        "id": "Gbv9-WeMhSKJ",
        "outputId": "e477f913-f0f4-4f9e-fc59-ea4237055734"
      },
      "outputs": [
        {
          "data": {
            "application/vnd.google.colaboratory.intrinsic+json": {
              "type": "string"
            },
            "text/plain": [
              "'\\ndata=data.dropna(axis = 1, how =\\'all\\')\\nprint(data)\\ngender=data[\\'Gender\\']\\nmale=data[data[\\'Gender\\']==\\'Male\\']\\nfemale=data[data[\\'Gender\\']==\\'Female\\']\\ndiverse=data[data[\\'Gender\\']==\\'Diverse\\']\\n\\n#plt.plot(male[\\'Annual brutto salary (without bonus and stocks) one year ago. Only answer if staying in the same country\\'], female[\\'Annual brutto salary (without bonus and stocks) one year ago. Only answer if staying in the same country\\'])\\n#plt.show()\\n\\n\\nx_female=female[\\'Annual brutto salary (without bonus and stocks) one year ago. Only answer if staying in the same country\\'].values.tolist()\\ny_male=male[\\'Annual brutto salary (without bonus and stocks) one year ago. Only answer if staying in the same country\\'].values.tolist()\\n\\n# fig, ax = plt.subplots()\\n# ax2 = ax.twinx()\\nprint(x_female)\\nplt.plot(x_female)\\nplt.show()\\n# female.plot(x=\"Gender\", y=[\"Annual brutto salary (without bonus and stocks) one year ago. Only answer if staying in the same country\"], ax=ax2, ls=\"--\")\\n# fig.legend(loc=\"upper right\", bbox_to_anchor=(1,1), bbox_transform=ax.transAxes)\\n\\n'"
            ]
          },
          "execution_count": 71,
          "metadata": {},
          "output_type": "execute_result"
        }
      ],
      "source": [
        "'''\n",
        "data=data.dropna(axis = 1, how ='all')\n",
        "print(data)\n",
        "gender=data['Gender']\n",
        "male=data[data['Gender']=='Male']\n",
        "female=data[data['Gender']=='Female']\n",
        "diverse=data[data['Gender']=='Diverse']\n",
        "\n",
        "#plt.plot(male['Annual brutto salary (without bonus and stocks) one year ago. Only answer if staying in the same country'], female['Annual brutto salary (without bonus and stocks) one year ago. Only answer if staying in the same country'])\n",
        "#plt.show()\n",
        "\n",
        "\n",
        "x_female=female['Annual brutto salary (without bonus and stocks) one year ago. Only answer if staying in the same country'].values.tolist()\n",
        "y_male=male['Annual brutto salary (without bonus and stocks) one year ago. Only answer if staying in the same country'].values.tolist()\n",
        "\n",
        "# fig, ax = plt.subplots()\n",
        "# ax2 = ax.twinx()\n",
        "print(x_female)\n",
        "plt.plot(x_female)\n",
        "plt.show()\n",
        "# female.plot(x=\"Gender\", y=[\"Annual brutto salary (without bonus and stocks) one year ago. Only answer if staying in the same country\"], ax=ax2, ls=\"--\")\n",
        "# fig.legend(loc=\"upper right\", bbox_to_anchor=(1,1), bbox_transform=ax.transAxes)\n",
        "\n",
        "'''\n"
      ]
    },
    {
      "cell_type": "code",
      "execution_count": null,
      "metadata": {
        "id": "CqmDEii3lfoq"
      },
      "outputs": [],
      "source": []
    },
    {
      "cell_type": "markdown",
      "metadata": {
        "id": "TB1wBwPRO3yk"
      },
      "source": [
        "Assignment Work\n"
      ]
    },
    {
      "cell_type": "code",
      "execution_count": null,
      "metadata": {
        "id": "YxgJiLf-O756"
      },
      "outputs": [],
      "source": [
        "import torch\n"
      ]
    },
    {
      "cell_type": "code",
      "execution_count": null,
      "metadata": {
        "colab": {
          "base_uri": "https://localhost:8080/"
        },
        "id": "VeTy3io_UWlp",
        "outputId": "46a0d623-0e9e-4e91-b186-b9ce0a473037"
      },
      "outputs": [
        {
          "name": "stdout",
          "output_type": "stream",
          "text": [
            "tensor([89.], grad_fn=<SubBackward0>)\n"
          ]
        }
      ],
      "source": [
        "a = torch.tensor([5.], requires_grad=True)\n",
        "b = torch.tensor([6.], requires_grad=True)\n",
        "\n",
        "y = a**3-b**2\n",
        "print(y)\n"
      ]
    },
    {
      "cell_type": "code",
      "execution_count": null,
      "metadata": {
        "id": "LqyDZDpLUhtn"
      },
      "outputs": [],
      "source": [
        "y.backward()\n"
      ]
    },
    {
      "cell_type": "code",
      "execution_count": null,
      "metadata": {
        "colab": {
          "base_uri": "https://localhost:8080/"
        },
        "id": "e8FUdSpNUpxO",
        "outputId": "ce369b62-8524-4d81-b49d-81a383cb2f26"
      },
      "outputs": [
        {
          "data": {
            "text/plain": [
              "tensor([75.])"
            ]
          },
          "execution_count": 75,
          "metadata": {},
          "output_type": "execute_result"
        }
      ],
      "source": [
        "a.grad\n"
      ]
    },
    {
      "cell_type": "code",
      "execution_count": null,
      "metadata": {
        "colab": {
          "base_uri": "https://localhost:8080/"
        },
        "id": "EI6RXO6XU1pH",
        "outputId": "a88328ec-18ee-490d-fe61-e345c195e05d"
      },
      "outputs": [
        {
          "data": {
            "text/plain": [
              "tensor([-12.])"
            ]
          },
          "execution_count": 76,
          "metadata": {},
          "output_type": "execute_result"
        }
      ],
      "source": [
        "b.grad\n"
      ]
    },
    {
      "cell_type": "code",
      "execution_count": null,
      "metadata": {
        "colab": {
          "base_uri": "https://localhost:8080/"
        },
        "id": "yzvYYKI2U23j",
        "outputId": "c1ed1da6-7d66-4e5b-caa4-f899803b6fa0"
      },
      "outputs": [
        {
          "name": "stdout",
          "output_type": "stream",
          "text": [
            "tensor([[0.2258]], grad_fn=<RsubBackward1>) tensor([[0.7742]], grad_fn=<AddBackward0>)\n"
          ]
        }
      ],
      "source": [
        "# using for simple linear regression\n",
        "W = torch.randn(1, 9, requires_grad=True)\n",
        "b = torch.randn(1, requires_grad=True)\n",
        "y = torch.randn(9, 1, requires_grad=True)\n",
        "\n",
        "output = torch.matmul(W, y)+b\n",
        "loss = 1-output\n",
        "print(loss, output)\n"
      ]
    },
    {
      "cell_type": "code",
      "execution_count": null,
      "metadata": {
        "id": "fai3TTzVVx1W"
      },
      "outputs": [],
      "source": [
        "loss.backward()\n"
      ]
    },
    {
      "cell_type": "code",
      "execution_count": null,
      "metadata": {
        "colab": {
          "base_uri": "https://localhost:8080/"
        },
        "id": "J2RiidDYWvxL",
        "outputId": "08670391-ae11-4586-9ec6-2a149fda8828"
      },
      "outputs": [
        {
          "data": {
            "text/plain": [
              "tensor([[ 0.1410, -0.3023, -0.9800,  0.9024,  0.4484, -0.8203,  0.3814, -0.3257,\n",
              "          0.5068]])"
            ]
          },
          "execution_count": 79,
          "metadata": {},
          "output_type": "execute_result"
        }
      ],
      "source": [
        "W.grad\n"
      ]
    },
    {
      "cell_type": "markdown",
      "metadata": {
        "id": "v5Zv0G2Mnffs"
      },
      "source": [
        "Dataset creation\n"
      ]
    },
    {
      "cell_type": "code",
      "execution_count": null,
      "metadata": {
        "id": "MRGr9JYkpk5t"
      },
      "outputs": [],
      "source": [
        "from sklearn.datasets import make_classification\n"
      ]
    },
    {
      "cell_type": "code",
      "execution_count": null,
      "metadata": {
        "id": "zYvtqlO7Wxks"
      },
      "outputs": [],
      "source": [
        "class CustomDataset:\n",
        "    def __init__(self, data, targets):\n",
        "        self.data = data\n",
        "        self.targets = targets\n",
        "\n",
        "    def __len__(self):\n",
        "        return self.data.shape[0]\n",
        "\n",
        "    def __getitem__(self, idx):\n",
        "        current_data = self.data[idx, :]\n",
        "        current_target = self.targets[idx]\n",
        "\n",
        "        return {\n",
        "            \"sample\": torch.tensor(current_data, dtype=torch.float),\n",
        "            \"target\": torch.tensor(current_target, dtype=torch.float)\n",
        "        }\n"
      ]
    },
    {
      "cell_type": "code",
      "execution_count": null,
      "metadata": {
        "id": "4M2KlV2PpyzQ"
      },
      "outputs": [],
      "source": [
        "X_train, Y_train = make_classification(1000)\n"
      ]
    },
    {
      "cell_type": "code",
      "execution_count": null,
      "metadata": {
        "colab": {
          "base_uri": "https://localhost:8080/"
        },
        "id": "HkPh6irhp0iS",
        "outputId": "94633368-579c-4b3e-e8ed-59b9078448a9"
      },
      "outputs": [
        {
          "data": {
            "text/plain": [
              "{'sample': tensor([ 0.4274,  1.8236, -1.3274,  0.3847, -1.3640, -0.8118,  0.9889,  1.6755,\n",
              "         -0.0499,  0.7429,  1.4990,  0.8331, -1.2121,  0.5154, -0.4976,  0.1892,\n",
              "         -0.1042, -1.0459,  0.4248,  0.0659]), 'target': tensor(1.)}"
            ]
          },
          "execution_count": 83,
          "metadata": {},
          "output_type": "execute_result"
        }
      ],
      "source": [
        "custom = CustomDataset(data=X_train, targets=Y_train)\n",
        "custom[0]\n"
      ]
    },
    {
      "cell_type": "code",
      "execution_count": null,
      "metadata": {
        "colab": {
          "base_uri": "https://localhost:8080/"
        },
        "id": "ctYQJRdurpwf",
        "outputId": "27415ddb-6ef9-40de-f026-f1a05eb8e0a7"
      },
      "outputs": [
        {
          "name": "stdout",
          "output_type": "stream",
          "text": [
            "{'sample': tensor([ 0.4274,  1.8236, -1.3274,  0.3847, -1.3640, -0.8118,  0.9889,  1.6755,\n",
            "        -0.0499,  0.7429,  1.4990,  0.8331, -1.2121,  0.5154, -0.4976,  0.1892,\n",
            "        -0.1042, -1.0459,  0.4248,  0.0659]), 'target': tensor(1.)}\n"
          ]
        }
      ],
      "source": [
        "for idx in range(len(custom)):\n",
        "    print(custom[idx])\n",
        "    break\n"
      ]
    },
    {
      "cell_type": "markdown",
      "metadata": {
        "id": "qzjwnGo9xdTN"
      },
      "source": [
        "Data Loader\n"
      ]
    },
    {
      "cell_type": "code",
      "execution_count": null,
      "metadata": {
        "id": "pGuO_t5msn2y"
      },
      "outputs": [],
      "source": [
        "train_loader = torch.utils.data.DataLoader(custom, batch_size=4, num_workers=2)\n"
      ]
    },
    {
      "cell_type": "code",
      "execution_count": null,
      "metadata": {
        "colab": {
          "base_uri": "https://localhost:8080/"
        },
        "id": "8ns8qjutx_Mt",
        "outputId": "dfb4b422-a15b-44c4-c337-dbb560d752b9"
      },
      "outputs": [
        {
          "name": "stdout",
          "output_type": "stream",
          "text": [
            "{'sample': tensor([[ 0.4274,  1.8236, -1.3274,  0.3847, -1.3640, -0.8118,  0.9889,  1.6755,\n",
            "         -0.0499,  0.7429,  1.4990,  0.8331, -1.2121,  0.5154, -0.4976,  0.1892,\n",
            "         -0.1042, -1.0459,  0.4248,  0.0659],\n",
            "        [ 1.0396,  0.0966, -1.1597, -0.6150, -0.0348, -0.5339, -0.7617,  1.2284,\n",
            "         -1.1595,  1.0046,  0.5502,  0.2865, -0.2580, -0.4040, -0.2969, -1.4126,\n",
            "          1.3758,  0.2485, -0.9978, -0.1357],\n",
            "        [ 1.2141,  2.9655, -0.7323, -0.3371,  2.1676, -0.3428,  0.8757,  0.3677,\n",
            "         -0.2634,  0.3505,  1.9749, -0.2167, -0.1886,  1.5516, -0.5063, -0.8413,\n",
            "         -1.3229, -0.4302,  0.7527, -0.9578],\n",
            "        [ 1.1196,  1.3908,  0.4431,  0.5844,  0.9777,  0.4726,  0.0352, -0.0455,\n",
            "          0.6874,  0.2553, -0.3422, -0.2575,  1.3252, -1.0947, -1.0405, -1.8769,\n",
            "         -1.5572,  0.1492, -1.3426, -0.1576]]), 'target': tensor([1., 0., 0., 0.])}\n"
          ]
        }
      ],
      "source": [
        "for data in train_loader:\n",
        "    print(data)\n",
        "    break\n"
      ]
    },
    {
      "cell_type": "code",
      "execution_count": null,
      "metadata": {
        "id": "fnp9uMl6yCOJ"
      },
      "outputs": [],
      "source": []
    }
  ],
  "metadata": {
    "colab": {
      "collapsed_sections": [],
      "provenance": []
    },
    "kernelspec": {
      "display_name": "Python 3.10.7 64-bit",
      "language": "python",
      "name": "python3"
    },
    "language_info": {
      "codemirror_mode": {
        "name": "ipython",
        "version": 3
      },
      "file_extension": ".py",
      "mimetype": "text/x-python",
      "name": "python",
      "nbconvert_exporter": "python",
      "pygments_lexer": "ipython3",
      "version": "3.10.7 (tags/v3.10.7:6cc6b13, Sep  5 2022, 14:08:36) [MSC v.1933 64 bit (AMD64)]"
    },
    "vscode": {
      "interpreter": {
        "hash": "3a00e68b57149134ce2b73879182c8cdd95184339958c7ea15c51bb9d3595f11"
      }
    }
  },
  "nbformat": 4,
  "nbformat_minor": 0
}
