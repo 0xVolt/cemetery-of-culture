{
 "cells": [
  {
   "cell_type": "markdown",
   "metadata": {},
   "source": [
    "# 0. Installing dependencies"
   ]
  },
  {
   "cell_type": "code",
   "execution_count": 1,
   "metadata": {},
   "outputs": [],
   "source": [
    "# Importing libraries\n",
    "import matplotlib.pyplot as plt\n",
    "import plotly.express as px\n",
    "\n",
    "import seaborn as sns\n",
    "import pandas as pd\n",
    "import numpy as np\n",
    "import torch\n",
    "\n",
    "import warnings\n",
    "warnings.filterwarnings('ignore')\n",
    "\n",
    "%matplotlib inline"
   ]
  },
  {
   "cell_type": "markdown",
   "metadata": {},
   "source": [
    "# 1. Loading data"
   ]
  },
  {
   "cell_type": "code",
   "execution_count": 2,
   "metadata": {},
   "outputs": [],
   "source": [
    "# Loading downloaded FIDE data into pandas\n",
    "csvPath = r'C:\\Users\\deshi\\code\\cemetery-of-culture\\year-3\\neural-networks\\2-eda-and-tensors\\Chess FIDE Rankings.csv'\n",
    "\n",
    "df = pd.read_csv(csvPath)"
   ]
  },
  {
   "cell_type": "code",
   "execution_count": 3,
   "metadata": {},
   "outputs": [
    {
     "data": {
      "text/html": [
       "<div>\n",
       "<style scoped>\n",
       "    .dataframe tbody tr th:only-of-type {\n",
       "        vertical-align: middle;\n",
       "    }\n",
       "\n",
       "    .dataframe tbody tr th {\n",
       "        vertical-align: top;\n",
       "    }\n",
       "\n",
       "    .dataframe thead th {\n",
       "        text-align: right;\n",
       "    }\n",
       "</style>\n",
       "<table border=\"1\" class=\"dataframe\">\n",
       "  <thead>\n",
       "    <tr style=\"text-align: right;\">\n",
       "      <th></th>\n",
       "      <th>rank</th>\n",
       "      <th>name</th>\n",
       "      <th>ELO</th>\n",
       "      <th>title</th>\n",
       "      <th>federation</th>\n",
       "      <th>games</th>\n",
       "      <th>birth_year</th>\n",
       "    </tr>\n",
       "  </thead>\n",
       "  <tbody>\n",
       "    <tr>\n",
       "      <th>0</th>\n",
       "      <td>1</td>\n",
       "      <td>Magnus Carlsen</td>\n",
       "      <td>2864</td>\n",
       "      <td>GM</td>\n",
       "      <td>Norway</td>\n",
       "      <td>3125</td>\n",
       "      <td>1990</td>\n",
       "    </tr>\n",
       "    <tr>\n",
       "      <th>1</th>\n",
       "      <td>2</td>\n",
       "      <td>Liren Ding</td>\n",
       "      <td>2806</td>\n",
       "      <td>GM</td>\n",
       "      <td>China</td>\n",
       "      <td>1630</td>\n",
       "      <td>1992</td>\n",
       "    </tr>\n",
       "    <tr>\n",
       "      <th>2</th>\n",
       "      <td>3</td>\n",
       "      <td>Alireza Firouzja</td>\n",
       "      <td>2793</td>\n",
       "      <td>GM</td>\n",
       "      <td>France</td>\n",
       "      <td>845</td>\n",
       "      <td>2003</td>\n",
       "    </tr>\n",
       "    <tr>\n",
       "      <th>3</th>\n",
       "      <td>4</td>\n",
       "      <td>Fabiano Caruana</td>\n",
       "      <td>2783</td>\n",
       "      <td>GM</td>\n",
       "      <td>United States</td>\n",
       "      <td>2622</td>\n",
       "      <td>1992</td>\n",
       "    </tr>\n",
       "    <tr>\n",
       "      <th>4</th>\n",
       "      <td>5</td>\n",
       "      <td>Levon Aronian</td>\n",
       "      <td>2775</td>\n",
       "      <td>GM</td>\n",
       "      <td>United States</td>\n",
       "      <td>3320</td>\n",
       "      <td>1982</td>\n",
       "    </tr>\n",
       "    <tr>\n",
       "      <th>...</th>\n",
       "      <td>...</td>\n",
       "      <td>...</td>\n",
       "      <td>...</td>\n",
       "      <td>...</td>\n",
       "      <td>...</td>\n",
       "      <td>...</td>\n",
       "      <td>...</td>\n",
       "    </tr>\n",
       "    <tr>\n",
       "      <th>195</th>\n",
       "      <td>196</td>\n",
       "      <td>Boris Alterman</td>\n",
       "      <td>2608</td>\n",
       "      <td>GM</td>\n",
       "      <td>Israel</td>\n",
       "      <td>697</td>\n",
       "      <td>1970</td>\n",
       "    </tr>\n",
       "    <tr>\n",
       "      <th>196</th>\n",
       "      <td>197</td>\n",
       "      <td>Chithambaram VR Aravindh</td>\n",
       "      <td>2608</td>\n",
       "      <td>GM</td>\n",
       "      <td>India</td>\n",
       "      <td>535</td>\n",
       "      <td>1999</td>\n",
       "    </tr>\n",
       "    <tr>\n",
       "      <th>197</th>\n",
       "      <td>198</td>\n",
       "      <td>Jonas Buhl Bjerre</td>\n",
       "      <td>2608</td>\n",
       "      <td>GM</td>\n",
       "      <td>Denmark</td>\n",
       "      <td>411</td>\n",
       "      <td>2004</td>\n",
       "    </tr>\n",
       "    <tr>\n",
       "      <th>198</th>\n",
       "      <td>199</td>\n",
       "      <td>Surya Shekhar Ganguly</td>\n",
       "      <td>2608</td>\n",
       "      <td>GM</td>\n",
       "      <td>India</td>\n",
       "      <td>1811</td>\n",
       "      <td>1983</td>\n",
       "    </tr>\n",
       "    <tr>\n",
       "      <th>199</th>\n",
       "      <td>200</td>\n",
       "      <td>Vadim Milov</td>\n",
       "      <td>2608</td>\n",
       "      <td>GM</td>\n",
       "      <td>Switzerland</td>\n",
       "      <td>1583</td>\n",
       "      <td>1972</td>\n",
       "    </tr>\n",
       "  </tbody>\n",
       "</table>\n",
       "<p>200 rows × 7 columns</p>\n",
       "</div>"
      ],
      "text/plain": [
       "     rank                       name   ELO  title     federation   games  \\\n",
       "0        1            Magnus Carlsen   2864    GM         Norway    3125   \n",
       "1        2                Liren Ding   2806    GM          China    1630   \n",
       "2        3          Alireza Firouzja   2793    GM         France     845   \n",
       "3        4            Fabiano Caruana  2783    GM  United States    2622   \n",
       "4        5             Levon Aronian   2775    GM  United States    3320   \n",
       "..     ...                        ...   ...   ...             ...    ...   \n",
       "195    196            Boris Alterman   2608    GM         Israel     697   \n",
       "196    197  Chithambaram VR Aravindh   2608    GM          India     535   \n",
       "197    198         Jonas Buhl Bjerre   2608    GM        Denmark     411   \n",
       "198    199     Surya Shekhar Ganguly   2608    GM          India    1811   \n",
       "199    200               Vadim Milov   2608    GM    Switzerland    1583   \n",
       "\n",
       "     birth_year  \n",
       "0          1990  \n",
       "1          1992  \n",
       "2          2003  \n",
       "3          1992  \n",
       "4          1982  \n",
       "..          ...  \n",
       "195        1970  \n",
       "196        1999  \n",
       "197        2004  \n",
       "198        1983  \n",
       "199        1972  \n",
       "\n",
       "[200 rows x 7 columns]"
      ]
     },
     "execution_count": 3,
     "metadata": {},
     "output_type": "execute_result"
    }
   ],
   "source": [
    "# Printing the dataset\n",
    "df"
   ]
  },
  {
   "cell_type": "markdown",
   "metadata": {},
   "source": [
    "# 2. Data cleaning"
   ]
  },
  {
   "cell_type": "code",
   "execution_count": 4,
   "metadata": {},
   "outputs": [
    {
     "data": {
      "text/plain": [
       "rank            int64\n",
       "name           object\n",
       "ELO             int64\n",
       "title          object\n",
       "federation     object\n",
       "games           int64\n",
       "birth_year      int64\n",
       "dtype: object"
      ]
     },
     "execution_count": 4,
     "metadata": {},
     "output_type": "execute_result"
    }
   ],
   "source": [
    "# Print data types of all the cols\n",
    "df.dtypes"
   ]
  },
  {
   "cell_type": "code",
   "execution_count": 5,
   "metadata": {},
   "outputs": [],
   "source": [
    "# Updating the column names\n",
    "newColList = [\n",
    "    'Rank',\n",
    "    'Name',\n",
    "    'Rating',\n",
    "    'Title',\n",
    "    'Federation',\n",
    "    'Games Played',\n",
    "    'Year of Birth'\n",
    "]\n",
    "\n",
    "df.columns = newColList"
   ]
  },
  {
   "cell_type": "code",
   "execution_count": 6,
   "metadata": {},
   "outputs": [
    {
     "data": {
      "text/plain": [
       "['Rank',\n",
       " 'Name',\n",
       " 'Rating',\n",
       " 'Title',\n",
       " 'Federation',\n",
       " 'Games Played',\n",
       " 'Year of Birth']"
      ]
     },
     "execution_count": 6,
     "metadata": {},
     "output_type": "execute_result"
    }
   ],
   "source": [
    "# Columns of the dataset as a list\n",
    "df.columns.to_list()"
   ]
  },
  {
   "cell_type": "code",
   "execution_count": 7,
   "metadata": {},
   "outputs": [],
   "source": [
    "df = df.set_index('Rank')"
   ]
  },
  {
   "cell_type": "code",
   "execution_count": 8,
   "metadata": {},
   "outputs": [
    {
     "data": {
      "text/html": [
       "<div>\n",
       "<style scoped>\n",
       "    .dataframe tbody tr th:only-of-type {\n",
       "        vertical-align: middle;\n",
       "    }\n",
       "\n",
       "    .dataframe tbody tr th {\n",
       "        vertical-align: top;\n",
       "    }\n",
       "\n",
       "    .dataframe thead th {\n",
       "        text-align: right;\n",
       "    }\n",
       "</style>\n",
       "<table border=\"1\" class=\"dataframe\">\n",
       "  <thead>\n",
       "    <tr style=\"text-align: right;\">\n",
       "      <th></th>\n",
       "      <th>Name</th>\n",
       "      <th>Rating</th>\n",
       "      <th>Title</th>\n",
       "      <th>Federation</th>\n",
       "      <th>Games Played</th>\n",
       "      <th>Year of Birth</th>\n",
       "    </tr>\n",
       "    <tr>\n",
       "      <th>Rank</th>\n",
       "      <th></th>\n",
       "      <th></th>\n",
       "      <th></th>\n",
       "      <th></th>\n",
       "      <th></th>\n",
       "      <th></th>\n",
       "    </tr>\n",
       "  </thead>\n",
       "  <tbody>\n",
       "    <tr>\n",
       "      <th>1</th>\n",
       "      <td>Magnus Carlsen</td>\n",
       "      <td>2864</td>\n",
       "      <td>GM</td>\n",
       "      <td>Norway</td>\n",
       "      <td>3125</td>\n",
       "      <td>1990</td>\n",
       "    </tr>\n",
       "    <tr>\n",
       "      <th>2</th>\n",
       "      <td>Liren Ding</td>\n",
       "      <td>2806</td>\n",
       "      <td>GM</td>\n",
       "      <td>China</td>\n",
       "      <td>1630</td>\n",
       "      <td>1992</td>\n",
       "    </tr>\n",
       "    <tr>\n",
       "      <th>3</th>\n",
       "      <td>Alireza Firouzja</td>\n",
       "      <td>2793</td>\n",
       "      <td>GM</td>\n",
       "      <td>France</td>\n",
       "      <td>845</td>\n",
       "      <td>2003</td>\n",
       "    </tr>\n",
       "    <tr>\n",
       "      <th>4</th>\n",
       "      <td>Fabiano Caruana</td>\n",
       "      <td>2783</td>\n",
       "      <td>GM</td>\n",
       "      <td>United States</td>\n",
       "      <td>2622</td>\n",
       "      <td>1992</td>\n",
       "    </tr>\n",
       "    <tr>\n",
       "      <th>5</th>\n",
       "      <td>Levon Aronian</td>\n",
       "      <td>2775</td>\n",
       "      <td>GM</td>\n",
       "      <td>United States</td>\n",
       "      <td>3320</td>\n",
       "      <td>1982</td>\n",
       "    </tr>\n",
       "    <tr>\n",
       "      <th>...</th>\n",
       "      <td>...</td>\n",
       "      <td>...</td>\n",
       "      <td>...</td>\n",
       "      <td>...</td>\n",
       "      <td>...</td>\n",
       "      <td>...</td>\n",
       "    </tr>\n",
       "    <tr>\n",
       "      <th>196</th>\n",
       "      <td>Boris Alterman</td>\n",
       "      <td>2608</td>\n",
       "      <td>GM</td>\n",
       "      <td>Israel</td>\n",
       "      <td>697</td>\n",
       "      <td>1970</td>\n",
       "    </tr>\n",
       "    <tr>\n",
       "      <th>197</th>\n",
       "      <td>Chithambaram VR Aravindh</td>\n",
       "      <td>2608</td>\n",
       "      <td>GM</td>\n",
       "      <td>India</td>\n",
       "      <td>535</td>\n",
       "      <td>1999</td>\n",
       "    </tr>\n",
       "    <tr>\n",
       "      <th>198</th>\n",
       "      <td>Jonas Buhl Bjerre</td>\n",
       "      <td>2608</td>\n",
       "      <td>GM</td>\n",
       "      <td>Denmark</td>\n",
       "      <td>411</td>\n",
       "      <td>2004</td>\n",
       "    </tr>\n",
       "    <tr>\n",
       "      <th>199</th>\n",
       "      <td>Surya Shekhar Ganguly</td>\n",
       "      <td>2608</td>\n",
       "      <td>GM</td>\n",
       "      <td>India</td>\n",
       "      <td>1811</td>\n",
       "      <td>1983</td>\n",
       "    </tr>\n",
       "    <tr>\n",
       "      <th>200</th>\n",
       "      <td>Vadim Milov</td>\n",
       "      <td>2608</td>\n",
       "      <td>GM</td>\n",
       "      <td>Switzerland</td>\n",
       "      <td>1583</td>\n",
       "      <td>1972</td>\n",
       "    </tr>\n",
       "  </tbody>\n",
       "</table>\n",
       "<p>200 rows × 6 columns</p>\n",
       "</div>"
      ],
      "text/plain": [
       "                           Name  Rating Title      Federation  Games Played  \\\n",
       "Rank                                                                          \n",
       "1               Magnus Carlsen     2864    GM         Norway           3125   \n",
       "2                   Liren Ding     2806    GM          China           1630   \n",
       "3             Alireza Firouzja     2793    GM         France            845   \n",
       "4               Fabiano Caruana    2783    GM  United States           2622   \n",
       "5                Levon Aronian     2775    GM  United States           3320   \n",
       "...                         ...     ...   ...             ...           ...   \n",
       "196             Boris Alterman     2608    GM         Israel            697   \n",
       "197   Chithambaram VR Aravindh     2608    GM          India            535   \n",
       "198          Jonas Buhl Bjerre     2608    GM        Denmark            411   \n",
       "199      Surya Shekhar Ganguly     2608    GM          India           1811   \n",
       "200                Vadim Milov     2608    GM    Switzerland           1583   \n",
       "\n",
       "      Year of Birth  \n",
       "Rank                 \n",
       "1              1990  \n",
       "2              1992  \n",
       "3              2003  \n",
       "4              1992  \n",
       "5              1982  \n",
       "...             ...  \n",
       "196            1970  \n",
       "197            1999  \n",
       "198            2004  \n",
       "199            1983  \n",
       "200            1972  \n",
       "\n",
       "[200 rows x 6 columns]"
      ]
     },
     "execution_count": 8,
     "metadata": {},
     "output_type": "execute_result"
    }
   ],
   "source": [
    "df"
   ]
  },
  {
   "cell_type": "code",
   "execution_count": 9,
   "metadata": {},
   "outputs": [],
   "source": [
    "df.drop('Title', axis=1, inplace=True)"
   ]
  },
  {
   "cell_type": "markdown",
   "metadata": {},
   "source": [
    "# 3. Exploring the data"
   ]
  },
  {
   "cell_type": "code",
   "execution_count": 10,
   "metadata": {},
   "outputs": [
    {
     "data": {
      "text/plain": [
       "2"
      ]
     },
     "execution_count": 10,
     "metadata": {},
     "output_type": "execute_result"
    }
   ],
   "source": [
    "# Display number of dimensions\n",
    "df.ndim"
   ]
  },
  {
   "cell_type": "code",
   "execution_count": 11,
   "metadata": {},
   "outputs": [
    {
     "data": {
      "text/plain": [
       "1000"
      ]
     },
     "execution_count": 11,
     "metadata": {},
     "output_type": "execute_result"
    }
   ],
   "source": [
    "# Display \n",
    "df.size"
   ]
  },
  {
   "cell_type": "code",
   "execution_count": 12,
   "metadata": {},
   "outputs": [
    {
     "name": "stdout",
     "output_type": "stream",
     "text": [
      "<class 'pandas.core.frame.DataFrame'>\n",
      "Int64Index: 200 entries, 1 to 200\n",
      "Data columns (total 5 columns):\n",
      " #   Column         Non-Null Count  Dtype \n",
      "---  ------         --------------  ----- \n",
      " 0   Name           200 non-null    object\n",
      " 1   Rating         200 non-null    int64 \n",
      " 2   Federation     200 non-null    object\n",
      " 3   Games Played   200 non-null    int64 \n",
      " 4   Year of Birth  200 non-null    int64 \n",
      "dtypes: int64(3), object(2)\n",
      "memory usage: 9.4+ KB\n"
     ]
    }
   ],
   "source": [
    "df.info()"
   ]
  },
  {
   "cell_type": "code",
   "execution_count": 13,
   "metadata": {},
   "outputs": [
    {
     "data": {
      "text/plain": [
       "(200, 5)"
      ]
     },
     "execution_count": 13,
     "metadata": {},
     "output_type": "execute_result"
    }
   ],
   "source": [
    "# Check the shape of data\n",
    "df.shape"
   ]
  },
  {
   "cell_type": "code",
   "execution_count": 14,
   "metadata": {},
   "outputs": [
    {
     "data": {
      "text/html": [
       "<div>\n",
       "<style scoped>\n",
       "    .dataframe tbody tr th:only-of-type {\n",
       "        vertical-align: middle;\n",
       "    }\n",
       "\n",
       "    .dataframe tbody tr th {\n",
       "        vertical-align: top;\n",
       "    }\n",
       "\n",
       "    .dataframe thead th {\n",
       "        text-align: right;\n",
       "    }\n",
       "</style>\n",
       "<table border=\"1\" class=\"dataframe\">\n",
       "  <thead>\n",
       "    <tr style=\"text-align: right;\">\n",
       "      <th></th>\n",
       "      <th>Rating</th>\n",
       "      <th>Games Played</th>\n",
       "      <th>Year of Birth</th>\n",
       "    </tr>\n",
       "  </thead>\n",
       "  <tbody>\n",
       "    <tr>\n",
       "      <th>count</th>\n",
       "      <td>200.000000</td>\n",
       "      <td>200.000000</td>\n",
       "      <td>200.000000</td>\n",
       "    </tr>\n",
       "    <tr>\n",
       "      <th>mean</th>\n",
       "      <td>2662.385000</td>\n",
       "      <td>1394.185000</td>\n",
       "      <td>1989.395000</td>\n",
       "    </tr>\n",
       "    <tr>\n",
       "      <th>std</th>\n",
       "      <td>47.208793</td>\n",
       "      <td>776.177129</td>\n",
       "      <td>9.057548</td>\n",
       "    </tr>\n",
       "    <tr>\n",
       "      <th>min</th>\n",
       "      <td>2608.000000</td>\n",
       "      <td>277.000000</td>\n",
       "      <td>1965.000000</td>\n",
       "    </tr>\n",
       "    <tr>\n",
       "      <th>25%</th>\n",
       "      <td>2623.750000</td>\n",
       "      <td>785.000000</td>\n",
       "      <td>1984.000000</td>\n",
       "    </tr>\n",
       "    <tr>\n",
       "      <th>50%</th>\n",
       "      <td>2650.500000</td>\n",
       "      <td>1211.000000</td>\n",
       "      <td>1990.000000</td>\n",
       "    </tr>\n",
       "    <tr>\n",
       "      <th>75%</th>\n",
       "      <td>2686.000000</td>\n",
       "      <td>1784.000000</td>\n",
       "      <td>1996.000000</td>\n",
       "    </tr>\n",
       "    <tr>\n",
       "      <th>max</th>\n",
       "      <td>2864.000000</td>\n",
       "      <td>3913.000000</td>\n",
       "      <td>2006.000000</td>\n",
       "    </tr>\n",
       "  </tbody>\n",
       "</table>\n",
       "</div>"
      ],
      "text/plain": [
       "            Rating  Games Played  Year of Birth\n",
       "count   200.000000    200.000000     200.000000\n",
       "mean   2662.385000   1394.185000    1989.395000\n",
       "std      47.208793    776.177129       9.057548\n",
       "min    2608.000000    277.000000    1965.000000\n",
       "25%    2623.750000    785.000000    1984.000000\n",
       "50%    2650.500000   1211.000000    1990.000000\n",
       "75%    2686.000000   1784.000000    1996.000000\n",
       "max    2864.000000   3913.000000    2006.000000"
      ]
     },
     "execution_count": 14,
     "metadata": {},
     "output_type": "execute_result"
    }
   ],
   "source": [
    "df.describe()"
   ]
  },
  {
   "cell_type": "code",
   "execution_count": 15,
   "metadata": {},
   "outputs": [
    {
     "data": {
      "text/plain": [
       "['Name', 'Rating', 'Federation', 'Games Played', 'Year of Birth']"
      ]
     },
     "execution_count": 15,
     "metadata": {},
     "output_type": "execute_result"
    }
   ],
   "source": [
    "# Easier command to display the list of columns\n",
    "list(df)"
   ]
  },
  {
   "cell_type": "code",
   "execution_count": 16,
   "metadata": {},
   "outputs": [
    {
     "data": {
      "text/plain": [
       "count     200.000000\n",
       "mean     1394.185000\n",
       "std       776.177129\n",
       "min       277.000000\n",
       "25%       785.000000\n",
       "50%      1211.000000\n",
       "75%      1784.000000\n",
       "max      3913.000000\n",
       "Name: Games Played, dtype: float64"
      ]
     },
     "execution_count": 16,
     "metadata": {},
     "output_type": "execute_result"
    }
   ],
   "source": [
    "# Stats for games played\n",
    "df['Games Played'].describe()"
   ]
  },
  {
   "cell_type": "code",
   "execution_count": 17,
   "metadata": {},
   "outputs": [
    {
     "data": {
      "text/plain": [
       "count     200.000000\n",
       "mean     2662.385000\n",
       "std        47.208793\n",
       "min      2608.000000\n",
       "25%      2623.750000\n",
       "50%      2650.500000\n",
       "75%      2686.000000\n",
       "max      2864.000000\n",
       "Name: Rating, dtype: float64"
      ]
     },
     "execution_count": 17,
     "metadata": {},
     "output_type": "execute_result"
    }
   ],
   "source": [
    "# Stats for rating points\n",
    "df['Rating'].describe()"
   ]
  },
  {
   "cell_type": "code",
   "execution_count": 18,
   "metadata": {},
   "outputs": [
    {
     "data": {
      "text/html": [
       "<div>\n",
       "<style scoped>\n",
       "    .dataframe tbody tr th:only-of-type {\n",
       "        vertical-align: middle;\n",
       "    }\n",
       "\n",
       "    .dataframe tbody tr th {\n",
       "        vertical-align: top;\n",
       "    }\n",
       "\n",
       "    .dataframe thead th {\n",
       "        text-align: right;\n",
       "    }\n",
       "</style>\n",
       "<table border=\"1\" class=\"dataframe\">\n",
       "  <thead>\n",
       "    <tr style=\"text-align: right;\">\n",
       "      <th></th>\n",
       "      <th>Name</th>\n",
       "      <th>Rating</th>\n",
       "      <th>Federation</th>\n",
       "      <th>Games Played</th>\n",
       "      <th>Year of Birth</th>\n",
       "    </tr>\n",
       "    <tr>\n",
       "      <th>Rank</th>\n",
       "      <th></th>\n",
       "      <th></th>\n",
       "      <th></th>\n",
       "      <th></th>\n",
       "      <th></th>\n",
       "    </tr>\n",
       "  </thead>\n",
       "  <tbody>\n",
       "    <tr>\n",
       "      <th>1</th>\n",
       "      <td>Magnus Carlsen</td>\n",
       "      <td>2864</td>\n",
       "      <td>Norway</td>\n",
       "      <td>3125</td>\n",
       "      <td>1990</td>\n",
       "    </tr>\n",
       "    <tr>\n",
       "      <th>2</th>\n",
       "      <td>Liren Ding</td>\n",
       "      <td>2806</td>\n",
       "      <td>China</td>\n",
       "      <td>1630</td>\n",
       "      <td>1992</td>\n",
       "    </tr>\n",
       "    <tr>\n",
       "      <th>3</th>\n",
       "      <td>Alireza Firouzja</td>\n",
       "      <td>2793</td>\n",
       "      <td>France</td>\n",
       "      <td>845</td>\n",
       "      <td>2003</td>\n",
       "    </tr>\n",
       "    <tr>\n",
       "      <th>4</th>\n",
       "      <td>Fabiano Caruana</td>\n",
       "      <td>2783</td>\n",
       "      <td>United States</td>\n",
       "      <td>2622</td>\n",
       "      <td>1992</td>\n",
       "    </tr>\n",
       "    <tr>\n",
       "      <th>5</th>\n",
       "      <td>Levon Aronian</td>\n",
       "      <td>2775</td>\n",
       "      <td>United States</td>\n",
       "      <td>3320</td>\n",
       "      <td>1982</td>\n",
       "    </tr>\n",
       "    <tr>\n",
       "      <th>6</th>\n",
       "      <td>Wesley So</td>\n",
       "      <td>2773</td>\n",
       "      <td>United States</td>\n",
       "      <td>1902</td>\n",
       "      <td>1993</td>\n",
       "    </tr>\n",
       "    <tr>\n",
       "      <th>7</th>\n",
       "      <td>Ian Nepomniachtchi</td>\n",
       "      <td>2766</td>\n",
       "      <td>Russian Federation</td>\n",
       "      <td>2297</td>\n",
       "      <td>1990</td>\n",
       "    </tr>\n",
       "    <tr>\n",
       "      <th>8</th>\n",
       "      <td>Richard Rapport</td>\n",
       "      <td>2764</td>\n",
       "      <td>Hungary</td>\n",
       "      <td>1278</td>\n",
       "      <td>1996</td>\n",
       "    </tr>\n",
       "    <tr>\n",
       "      <th>9</th>\n",
       "      <td>Anish Giri</td>\n",
       "      <td>2760</td>\n",
       "      <td>Netherlands</td>\n",
       "      <td>2209</td>\n",
       "      <td>1994</td>\n",
       "    </tr>\n",
       "    <tr>\n",
       "      <th>10</th>\n",
       "      <td>Hikaru Nakamura</td>\n",
       "      <td>2760</td>\n",
       "      <td>United States</td>\n",
       "      <td>3147</td>\n",
       "      <td>1987</td>\n",
       "    </tr>\n",
       "    <tr>\n",
       "      <th>11</th>\n",
       "      <td>Maxime Vachier Lagrave</td>\n",
       "      <td>2760</td>\n",
       "      <td>France</td>\n",
       "      <td>2899</td>\n",
       "      <td>1990</td>\n",
       "    </tr>\n",
       "    <tr>\n",
       "      <th>12</th>\n",
       "      <td>Shakhriyar Mamedyarov</td>\n",
       "      <td>2759</td>\n",
       "      <td>Azerbaijan</td>\n",
       "      <td>3003</td>\n",
       "      <td>1985</td>\n",
       "    </tr>\n",
       "    <tr>\n",
       "      <th>13</th>\n",
       "      <td>Viswanathan Anand</td>\n",
       "      <td>2756</td>\n",
       "      <td>India</td>\n",
       "      <td>3913</td>\n",
       "      <td>1969</td>\n",
       "    </tr>\n",
       "    <tr>\n",
       "      <th>14</th>\n",
       "      <td>Leinier Dominguez Perez</td>\n",
       "      <td>2754</td>\n",
       "      <td>United States</td>\n",
       "      <td>1301</td>\n",
       "      <td>1983</td>\n",
       "    </tr>\n",
       "    <tr>\n",
       "      <th>15</th>\n",
       "      <td>Jan Krzysztof Duda</td>\n",
       "      <td>2750</td>\n",
       "      <td>Poland</td>\n",
       "      <td>1213</td>\n",
       "      <td>1998</td>\n",
       "    </tr>\n",
       "    <tr>\n",
       "      <th>16</th>\n",
       "      <td>Sergey Karjakin</td>\n",
       "      <td>2747</td>\n",
       "      <td>Russian Federation</td>\n",
       "      <td>2932</td>\n",
       "      <td>1990</td>\n",
       "    </tr>\n",
       "    <tr>\n",
       "      <th>17</th>\n",
       "      <td>Alexander Grischuk</td>\n",
       "      <td>2745</td>\n",
       "      <td>Russian Federation</td>\n",
       "      <td>3235</td>\n",
       "      <td>1983</td>\n",
       "    </tr>\n",
       "    <tr>\n",
       "      <th>18</th>\n",
       "      <td>Teimour Radjabov</td>\n",
       "      <td>2738</td>\n",
       "      <td>Azerbaijan</td>\n",
       "      <td>1996</td>\n",
       "      <td>1987</td>\n",
       "    </tr>\n",
       "    <tr>\n",
       "      <th>19</th>\n",
       "      <td>Hao Wang</td>\n",
       "      <td>2735</td>\n",
       "      <td>China</td>\n",
       "      <td>1723</td>\n",
       "      <td>1989</td>\n",
       "    </tr>\n",
       "    <tr>\n",
       "      <th>20</th>\n",
       "      <td>Dmitry Andreikin</td>\n",
       "      <td>2729</td>\n",
       "      <td>FIDE</td>\n",
       "      <td>1567</td>\n",
       "      <td>1990</td>\n",
       "    </tr>\n",
       "    <tr>\n",
       "      <th>21</th>\n",
       "      <td>Veselin Topalov</td>\n",
       "      <td>2728</td>\n",
       "      <td>Bulgaria</td>\n",
       "      <td>2383</td>\n",
       "      <td>1975</td>\n",
       "    </tr>\n",
       "    <tr>\n",
       "      <th>22</th>\n",
       "      <td>Yi Wei</td>\n",
       "      <td>2727</td>\n",
       "      <td>China</td>\n",
       "      <td>979</td>\n",
       "      <td>1999</td>\n",
       "    </tr>\n",
       "    <tr>\n",
       "      <th>23</th>\n",
       "      <td>Quang Liem Le</td>\n",
       "      <td>2722</td>\n",
       "      <td>Viet Nam</td>\n",
       "      <td>1725</td>\n",
       "      <td>1991</td>\n",
       "    </tr>\n",
       "    <tr>\n",
       "      <th>24</th>\n",
       "      <td>Nikita Vitiugov</td>\n",
       "      <td>2722</td>\n",
       "      <td>FIDE</td>\n",
       "      <td>1768</td>\n",
       "      <td>1987</td>\n",
       "    </tr>\n",
       "    <tr>\n",
       "      <th>25</th>\n",
       "      <td>Pentala Harikrishna</td>\n",
       "      <td>2720</td>\n",
       "      <td>India</td>\n",
       "      <td>2220</td>\n",
       "      <td>1986</td>\n",
       "    </tr>\n",
       "    <tr>\n",
       "      <th>26</th>\n",
       "      <td>Sam Shankland</td>\n",
       "      <td>2720</td>\n",
       "      <td>United States</td>\n",
       "      <td>1007</td>\n",
       "      <td>1991</td>\n",
       "    </tr>\n",
       "    <tr>\n",
       "      <th>27</th>\n",
       "      <td>Yangyi Yu</td>\n",
       "      <td>2720</td>\n",
       "      <td>China</td>\n",
       "      <td>1497</td>\n",
       "      <td>1994</td>\n",
       "    </tr>\n",
       "    <tr>\n",
       "      <th>28</th>\n",
       "      <td>Santosh Gujrathi Vidit</td>\n",
       "      <td>2714</td>\n",
       "      <td>India</td>\n",
       "      <td>1144</td>\n",
       "      <td>1994</td>\n",
       "    </tr>\n",
       "    <tr>\n",
       "      <th>29</th>\n",
       "      <td>Xiangzhi Bu</td>\n",
       "      <td>2709</td>\n",
       "      <td>China</td>\n",
       "      <td>1573</td>\n",
       "      <td>1985</td>\n",
       "    </tr>\n",
       "    <tr>\n",
       "      <th>30</th>\n",
       "      <td>Kirill Alekseenko</td>\n",
       "      <td>2708</td>\n",
       "      <td>FIDE</td>\n",
       "      <td>885</td>\n",
       "      <td>1997</td>\n",
       "    </tr>\n",
       "    <tr>\n",
       "      <th>31</th>\n",
       "      <td>Radoslaw Wojtaszek</td>\n",
       "      <td>2708</td>\n",
       "      <td>Poland</td>\n",
       "      <td>2201</td>\n",
       "      <td>1987</td>\n",
       "    </tr>\n",
       "    <tr>\n",
       "      <th>32</th>\n",
       "      <td>Alexei Shirov</td>\n",
       "      <td>2704</td>\n",
       "      <td>Spain</td>\n",
       "      <td>3578</td>\n",
       "      <td>1972</td>\n",
       "    </tr>\n",
       "    <tr>\n",
       "      <th>33</th>\n",
       "      <td>Daniil Dubov</td>\n",
       "      <td>2702</td>\n",
       "      <td>Russian Federation</td>\n",
       "      <td>1635</td>\n",
       "      <td>1996</td>\n",
       "    </tr>\n",
       "    <tr>\n",
       "      <th>34</th>\n",
       "      <td>Evgeny Tomashevsky</td>\n",
       "      <td>2702</td>\n",
       "      <td>Russian Federation</td>\n",
       "      <td>1544</td>\n",
       "      <td>1987</td>\n",
       "    </tr>\n",
       "    <tr>\n",
       "      <th>35</th>\n",
       "      <td>Francisco Vallejo Pons</td>\n",
       "      <td>2702</td>\n",
       "      <td>Spain</td>\n",
       "      <td>2306</td>\n",
       "      <td>1982</td>\n",
       "    </tr>\n",
       "    <tr>\n",
       "      <th>36</th>\n",
       "      <td>Parham Maghsoodloo</td>\n",
       "      <td>2701</td>\n",
       "      <td>Iran</td>\n",
       "      <td>788</td>\n",
       "      <td>2000</td>\n",
       "    </tr>\n",
       "  </tbody>\n",
       "</table>\n",
       "</div>"
      ],
      "text/plain": [
       "                          Name  Rating           Federation  Games Played  \\\n",
       "Rank                                                                        \n",
       "1              Magnus Carlsen     2864              Norway           3125   \n",
       "2                  Liren Ding     2806               China           1630   \n",
       "3            Alireza Firouzja     2793              France            845   \n",
       "4              Fabiano Caruana    2783       United States           2622   \n",
       "5               Levon Aronian     2775       United States           3320   \n",
       "6                   Wesley So     2773       United States           1902   \n",
       "7          Ian Nepomniachtchi     2766  Russian Federation           2297   \n",
       "8             Richard Rapport     2764             Hungary           1278   \n",
       "9                  Anish Giri     2760         Netherlands           2209   \n",
       "10            Hikaru Nakamura     2760       United States           3147   \n",
       "11     Maxime Vachier Lagrave     2760              France           2899   \n",
       "12       Shakhriyar Mamedyarov    2759          Azerbaijan           3003   \n",
       "13          Viswanathan Anand     2756               India           3913   \n",
       "14    Leinier Dominguez Perez     2754       United States           1301   \n",
       "15         Jan Krzysztof Duda     2750              Poland           1213   \n",
       "16            Sergey Karjakin     2747  Russian Federation           2932   \n",
       "17         Alexander Grischuk     2745  Russian Federation           3235   \n",
       "18           Teimour Radjabov     2738          Azerbaijan           1996   \n",
       "19                   Hao Wang     2735               China           1723   \n",
       "20           Dmitry Andreikin     2729                FIDE           1567   \n",
       "21            Veselin Topalov     2728            Bulgaria           2383   \n",
       "22                     Yi Wei     2727               China            979   \n",
       "23               Quang Liem Le    2722            Viet Nam           1725   \n",
       "24            Nikita Vitiugov     2722                FIDE           1768   \n",
       "25        Pentala Harikrishna     2720               India           2220   \n",
       "26              Sam Shankland     2720       United States           1007   \n",
       "27                  Yangyi Yu     2720               China           1497   \n",
       "28     Santosh Gujrathi Vidit     2714               India           1144   \n",
       "29                Xiangzhi Bu     2709               China           1573   \n",
       "30          Kirill Alekseenko     2708                FIDE            885   \n",
       "31         Radoslaw Wojtaszek     2708              Poland           2201   \n",
       "32              Alexei Shirov     2704               Spain           3578   \n",
       "33               Daniil Dubov     2702  Russian Federation           1635   \n",
       "34         Evgeny Tomashevsky     2702  Russian Federation           1544   \n",
       "35     Francisco Vallejo Pons     2702               Spain           2306   \n",
       "36         Parham Maghsoodloo     2701                Iran            788   \n",
       "\n",
       "      Year of Birth  \n",
       "Rank                 \n",
       "1              1990  \n",
       "2              1992  \n",
       "3              2003  \n",
       "4              1992  \n",
       "5              1982  \n",
       "6              1993  \n",
       "7              1990  \n",
       "8              1996  \n",
       "9              1994  \n",
       "10             1987  \n",
       "11             1990  \n",
       "12             1985  \n",
       "13             1969  \n",
       "14             1983  \n",
       "15             1998  \n",
       "16             1990  \n",
       "17             1983  \n",
       "18             1987  \n",
       "19             1989  \n",
       "20             1990  \n",
       "21             1975  \n",
       "22             1999  \n",
       "23             1991  \n",
       "24             1987  \n",
       "25             1986  \n",
       "26             1991  \n",
       "27             1994  \n",
       "28             1994  \n",
       "29             1985  \n",
       "30             1997  \n",
       "31             1987  \n",
       "32             1972  \n",
       "33             1996  \n",
       "34             1987  \n",
       "35             1982  \n",
       "36             2000  "
      ]
     },
     "execution_count": 18,
     "metadata": {},
     "output_type": "execute_result"
    }
   ],
   "source": [
    "# All the top chess players with a rating of more than 2700\n",
    "df[\n",
    "    df['Rating'] > 2700\n",
    "]"
   ]
  },
  {
   "cell_type": "code",
   "execution_count": 19,
   "metadata": {},
   "outputs": [
    {
     "data": {
      "text/html": [
       "<div>\n",
       "<style scoped>\n",
       "    .dataframe tbody tr th:only-of-type {\n",
       "        vertical-align: middle;\n",
       "    }\n",
       "\n",
       "    .dataframe tbody tr th {\n",
       "        vertical-align: top;\n",
       "    }\n",
       "\n",
       "    .dataframe thead th {\n",
       "        text-align: right;\n",
       "    }\n",
       "</style>\n",
       "<table border=\"1\" class=\"dataframe\">\n",
       "  <thead>\n",
       "    <tr style=\"text-align: right;\">\n",
       "      <th></th>\n",
       "      <th>Name</th>\n",
       "      <th>Rating</th>\n",
       "      <th>Federation</th>\n",
       "      <th>Games Played</th>\n",
       "      <th>Year of Birth</th>\n",
       "    </tr>\n",
       "    <tr>\n",
       "      <th>Rank</th>\n",
       "      <th></th>\n",
       "      <th></th>\n",
       "      <th></th>\n",
       "      <th></th>\n",
       "      <th></th>\n",
       "    </tr>\n",
       "  </thead>\n",
       "  <tbody>\n",
       "    <tr>\n",
       "      <th>53</th>\n",
       "      <td>Gukesh D</td>\n",
       "      <td>2684</td>\n",
       "      <td>India</td>\n",
       "      <td>569</td>\n",
       "      <td>2006</td>\n",
       "    </tr>\n",
       "    <tr>\n",
       "      <th>187</th>\n",
       "      <td>Raunak Sadhwani</td>\n",
       "      <td>2611</td>\n",
       "      <td>India</td>\n",
       "      <td>511</td>\n",
       "      <td>2005</td>\n",
       "    </tr>\n",
       "    <tr>\n",
       "      <th>144</th>\n",
       "      <td>Javokhir Sindarov</td>\n",
       "      <td>2629</td>\n",
       "      <td>Uzbekistan</td>\n",
       "      <td>389</td>\n",
       "      <td>2005</td>\n",
       "    </tr>\n",
       "    <tr>\n",
       "      <th>107</th>\n",
       "      <td>Praggnanandhaa R</td>\n",
       "      <td>2648</td>\n",
       "      <td>India</td>\n",
       "      <td>496</td>\n",
       "      <td>2005</td>\n",
       "    </tr>\n",
       "    <tr>\n",
       "      <th>198</th>\n",
       "      <td>Jonas Buhl Bjerre</td>\n",
       "      <td>2608</td>\n",
       "      <td>Denmark</td>\n",
       "      <td>411</td>\n",
       "      <td>2004</td>\n",
       "    </tr>\n",
       "    <tr>\n",
       "      <th>100</th>\n",
       "      <td>Nihal Sarin</td>\n",
       "      <td>2651</td>\n",
       "      <td>India</td>\n",
       "      <td>676</td>\n",
       "      <td>2004</td>\n",
       "    </tr>\n",
       "    <tr>\n",
       "      <th>45</th>\n",
       "      <td>Nodirbek Abdusattorov</td>\n",
       "      <td>2688</td>\n",
       "      <td>Uzbekistan</td>\n",
       "      <td>570</td>\n",
       "      <td>2004</td>\n",
       "    </tr>\n",
       "    <tr>\n",
       "      <th>50</th>\n",
       "      <td>Vincent Keymer</td>\n",
       "      <td>2686</td>\n",
       "      <td>Germany</td>\n",
       "      <td>392</td>\n",
       "      <td>2004</td>\n",
       "    </tr>\n",
       "    <tr>\n",
       "      <th>148</th>\n",
       "      <td>Awonder Liang</td>\n",
       "      <td>2625</td>\n",
       "      <td>United States</td>\n",
       "      <td>429</td>\n",
       "      <td>2003</td>\n",
       "    </tr>\n",
       "    <tr>\n",
       "      <th>3</th>\n",
       "      <td>Alireza Firouzja</td>\n",
       "      <td>2793</td>\n",
       "      <td>France</td>\n",
       "      <td>845</td>\n",
       "      <td>2003</td>\n",
       "    </tr>\n",
       "    <tr>\n",
       "      <th>44</th>\n",
       "      <td>Erigaisi Arjun</td>\n",
       "      <td>2689</td>\n",
       "      <td>India</td>\n",
       "      <td>514</td>\n",
       "      <td>2003</td>\n",
       "    </tr>\n",
       "    <tr>\n",
       "      <th>47</th>\n",
       "      <td>Hans Moke Niemann</td>\n",
       "      <td>2688</td>\n",
       "      <td>United States</td>\n",
       "      <td>518</td>\n",
       "      <td>2003</td>\n",
       "    </tr>\n",
       "    <tr>\n",
       "      <th>95</th>\n",
       "      <td>Kirill Shevchenko</td>\n",
       "      <td>2654</td>\n",
       "      <td>Ukraine</td>\n",
       "      <td>551</td>\n",
       "      <td>2002</td>\n",
       "    </tr>\n",
       "    <tr>\n",
       "      <th>161</th>\n",
       "      <td>Nodirbek Yakubboev</td>\n",
       "      <td>2620</td>\n",
       "      <td>Uzbekistan</td>\n",
       "      <td>364</td>\n",
       "      <td>2002</td>\n",
       "    </tr>\n",
       "    <tr>\n",
       "      <th>58</th>\n",
       "      <td>Andrey Esipenko</td>\n",
       "      <td>2682</td>\n",
       "      <td>FIDE</td>\n",
       "      <td>949</td>\n",
       "      <td>2002</td>\n",
       "    </tr>\n",
       "    <tr>\n",
       "      <th>88</th>\n",
       "      <td>Shant Sargsyan</td>\n",
       "      <td>2661</td>\n",
       "      <td>Armenia</td>\n",
       "      <td>511</td>\n",
       "      <td>2002</td>\n",
       "    </tr>\n",
       "    <tr>\n",
       "      <th>86</th>\n",
       "      <td>M. Amin Tabatabaei</td>\n",
       "      <td>2664</td>\n",
       "      <td>Iran</td>\n",
       "      <td>606</td>\n",
       "      <td>2001</td>\n",
       "    </tr>\n",
       "    <tr>\n",
       "      <th>143</th>\n",
       "      <td>Thai Dai Van Nguyen</td>\n",
       "      <td>2629</td>\n",
       "      <td>Czech Republic</td>\n",
       "      <td>732</td>\n",
       "      <td>2001</td>\n",
       "    </tr>\n",
       "    <tr>\n",
       "      <th>181</th>\n",
       "      <td>Aram Hakobyan</td>\n",
       "      <td>2612</td>\n",
       "      <td>Armenia</td>\n",
       "      <td>485</td>\n",
       "      <td>2001</td>\n",
       "    </tr>\n",
       "    <tr>\n",
       "      <th>41</th>\n",
       "      <td>Bogdan-Daniel Deac</td>\n",
       "      <td>2692</td>\n",
       "      <td>Romania</td>\n",
       "      <td>689</td>\n",
       "      <td>2001</td>\n",
       "    </tr>\n",
       "    <tr>\n",
       "      <th>188</th>\n",
       "      <td>Aryan Chopra</td>\n",
       "      <td>2610</td>\n",
       "      <td>India</td>\n",
       "      <td>277</td>\n",
       "      <td>2001</td>\n",
       "    </tr>\n",
       "    <tr>\n",
       "      <th>36</th>\n",
       "      <td>Parham Maghsoodloo</td>\n",
       "      <td>2701</td>\n",
       "      <td>Iran</td>\n",
       "      <td>788</td>\n",
       "      <td>2000</td>\n",
       "    </tr>\n",
       "    <tr>\n",
       "      <th>55</th>\n",
       "      <td>Samuel Sevian</td>\n",
       "      <td>2684</td>\n",
       "      <td>United States</td>\n",
       "      <td>703</td>\n",
       "      <td>2000</td>\n",
       "    </tr>\n",
       "    <tr>\n",
       "      <th>74</th>\n",
       "      <td>Haik M Martirosyan</td>\n",
       "      <td>2672</td>\n",
       "      <td>Armenia</td>\n",
       "      <td>588</td>\n",
       "      <td>2000</td>\n",
       "    </tr>\n",
       "    <tr>\n",
       "      <th>43</th>\n",
       "      <td>Jeffery Xiong</td>\n",
       "      <td>2691</td>\n",
       "      <td>United States</td>\n",
       "      <td>776</td>\n",
       "      <td>2000</td>\n",
       "    </tr>\n",
       "    <tr>\n",
       "      <th>82</th>\n",
       "      <td>Alexey Sarana</td>\n",
       "      <td>2668</td>\n",
       "      <td>FIDE</td>\n",
       "      <td>1020</td>\n",
       "      <td>2000</td>\n",
       "    </tr>\n",
       "    <tr>\n",
       "      <th>183</th>\n",
       "      <td>Abhimanyu Puranik</td>\n",
       "      <td>2612</td>\n",
       "      <td>India</td>\n",
       "      <td>539</td>\n",
       "      <td>2000</td>\n",
       "    </tr>\n",
       "    <tr>\n",
       "      <th>193</th>\n",
       "      <td>Max Warmerdam</td>\n",
       "      <td>2610</td>\n",
       "      <td>Netherlands</td>\n",
       "      <td>421</td>\n",
       "      <td>2000</td>\n",
       "    </tr>\n",
       "  </tbody>\n",
       "</table>\n",
       "</div>"
      ],
      "text/plain": [
       "                        Name  Rating       Federation  Games Played  \\\n",
       "Rank                                                                  \n",
       "53                 Gukesh D     2684           India            569   \n",
       "187         Raunak Sadhwani     2611           India            511   \n",
       "144       Javokhir Sindarov     2629      Uzbekistan            389   \n",
       "107        Praggnanandhaa R     2648           India            496   \n",
       "198       Jonas Buhl Bjerre     2608         Denmark            411   \n",
       "100             Nihal Sarin     2651           India            676   \n",
       "45    Nodirbek Abdusattorov     2688      Uzbekistan            570   \n",
       "50           Vincent Keymer     2686         Germany            392   \n",
       "148           Awonder Liang     2625   United States            429   \n",
       "3          Alireza Firouzja     2793          France            845   \n",
       "44            Erigaisi Arjun    2689           India            514   \n",
       "47        Hans Moke Niemann     2688   United States            518   \n",
       "95        Kirill Shevchenko     2654         Ukraine            551   \n",
       "161      Nodirbek Yakubboev     2620      Uzbekistan            364   \n",
       "58          Andrey Esipenko     2682            FIDE            949   \n",
       "88           Shant Sargsyan     2661         Armenia            511   \n",
       "86        M. Amin Tabatabaei    2664            Iran            606   \n",
       "143     Thai Dai Van Nguyen     2629  Czech Republic            732   \n",
       "181           Aram Hakobyan     2612         Armenia            485   \n",
       "41       Bogdan-Daniel Deac     2692         Romania            689   \n",
       "188            Aryan Chopra     2610           India            277   \n",
       "36       Parham Maghsoodloo     2701            Iran            788   \n",
       "55            Samuel Sevian     2684   United States            703   \n",
       "74       Haik M Martirosyan     2672         Armenia            588   \n",
       "43            Jeffery Xiong     2691   United States            776   \n",
       "82             Alexey Sarana    2668            FIDE           1020   \n",
       "183       Abhimanyu Puranik     2612           India            539   \n",
       "193           Max Warmerdam     2610     Netherlands            421   \n",
       "\n",
       "      Year of Birth  \n",
       "Rank                 \n",
       "53             2006  \n",
       "187            2005  \n",
       "144            2005  \n",
       "107            2005  \n",
       "198            2004  \n",
       "100            2004  \n",
       "45             2004  \n",
       "50             2004  \n",
       "148            2003  \n",
       "3              2003  \n",
       "44             2003  \n",
       "47             2003  \n",
       "95             2002  \n",
       "161            2002  \n",
       "58             2002  \n",
       "88             2002  \n",
       "86             2001  \n",
       "143            2001  \n",
       "181            2001  \n",
       "41             2001  \n",
       "188            2001  \n",
       "36             2000  \n",
       "55             2000  \n",
       "74             2000  \n",
       "43             2000  \n",
       "82             2000  \n",
       "183            2000  \n",
       "193            2000  "
      ]
     },
     "execution_count": 19,
     "metadata": {},
     "output_type": "execute_result"
    }
   ],
   "source": [
    "# Find all the players born in the 00s\n",
    "df[\n",
    "    df['Year of Birth'] >= 2000\n",
    "].sort_values(\n",
    "    by=['Year of Birth'], \n",
    "    ascending=False\n",
    ")"
   ]
  },
  {
   "cell_type": "code",
   "execution_count": 20,
   "metadata": {},
   "outputs": [
    {
     "data": {
      "text/html": [
       "<div>\n",
       "<style scoped>\n",
       "    .dataframe tbody tr th:only-of-type {\n",
       "        vertical-align: middle;\n",
       "    }\n",
       "\n",
       "    .dataframe tbody tr th {\n",
       "        vertical-align: top;\n",
       "    }\n",
       "\n",
       "    .dataframe thead th {\n",
       "        text-align: right;\n",
       "    }\n",
       "</style>\n",
       "<table border=\"1\" class=\"dataframe\">\n",
       "  <thead>\n",
       "    <tr style=\"text-align: right;\">\n",
       "      <th></th>\n",
       "      <th>Name</th>\n",
       "      <th>Rating</th>\n",
       "      <th>Federation</th>\n",
       "      <th>Games Played</th>\n",
       "      <th>Year of Birth</th>\n",
       "    </tr>\n",
       "    <tr>\n",
       "      <th>Rank</th>\n",
       "      <th></th>\n",
       "      <th></th>\n",
       "      <th></th>\n",
       "      <th></th>\n",
       "      <th></th>\n",
       "    </tr>\n",
       "  </thead>\n",
       "  <tbody>\n",
       "    <tr>\n",
       "      <th>2</th>\n",
       "      <td>Liren Ding</td>\n",
       "      <td>2806</td>\n",
       "      <td>China</td>\n",
       "      <td>1630</td>\n",
       "      <td>1992</td>\n",
       "    </tr>\n",
       "    <tr>\n",
       "      <th>3</th>\n",
       "      <td>Alireza Firouzja</td>\n",
       "      <td>2793</td>\n",
       "      <td>France</td>\n",
       "      <td>845</td>\n",
       "      <td>2003</td>\n",
       "    </tr>\n",
       "    <tr>\n",
       "      <th>4</th>\n",
       "      <td>Fabiano Caruana</td>\n",
       "      <td>2783</td>\n",
       "      <td>United States</td>\n",
       "      <td>2622</td>\n",
       "      <td>1992</td>\n",
       "    </tr>\n",
       "    <tr>\n",
       "      <th>6</th>\n",
       "      <td>Wesley So</td>\n",
       "      <td>2773</td>\n",
       "      <td>United States</td>\n",
       "      <td>1902</td>\n",
       "      <td>1993</td>\n",
       "    </tr>\n",
       "    <tr>\n",
       "      <th>8</th>\n",
       "      <td>Richard Rapport</td>\n",
       "      <td>2764</td>\n",
       "      <td>Hungary</td>\n",
       "      <td>1278</td>\n",
       "      <td>1996</td>\n",
       "    </tr>\n",
       "    <tr>\n",
       "      <th>9</th>\n",
       "      <td>Anish Giri</td>\n",
       "      <td>2760</td>\n",
       "      <td>Netherlands</td>\n",
       "      <td>2209</td>\n",
       "      <td>1994</td>\n",
       "    </tr>\n",
       "    <tr>\n",
       "      <th>15</th>\n",
       "      <td>Jan Krzysztof Duda</td>\n",
       "      <td>2750</td>\n",
       "      <td>Poland</td>\n",
       "      <td>1213</td>\n",
       "      <td>1998</td>\n",
       "    </tr>\n",
       "    <tr>\n",
       "      <th>22</th>\n",
       "      <td>Yi Wei</td>\n",
       "      <td>2727</td>\n",
       "      <td>China</td>\n",
       "      <td>979</td>\n",
       "      <td>1999</td>\n",
       "    </tr>\n",
       "    <tr>\n",
       "      <th>23</th>\n",
       "      <td>Quang Liem Le</td>\n",
       "      <td>2722</td>\n",
       "      <td>Viet Nam</td>\n",
       "      <td>1725</td>\n",
       "      <td>1991</td>\n",
       "    </tr>\n",
       "    <tr>\n",
       "      <th>26</th>\n",
       "      <td>Sam Shankland</td>\n",
       "      <td>2720</td>\n",
       "      <td>United States</td>\n",
       "      <td>1007</td>\n",
       "      <td>1991</td>\n",
       "    </tr>\n",
       "    <tr>\n",
       "      <th>27</th>\n",
       "      <td>Yangyi Yu</td>\n",
       "      <td>2720</td>\n",
       "      <td>China</td>\n",
       "      <td>1497</td>\n",
       "      <td>1994</td>\n",
       "    </tr>\n",
       "    <tr>\n",
       "      <th>28</th>\n",
       "      <td>Santosh Gujrathi Vidit</td>\n",
       "      <td>2714</td>\n",
       "      <td>India</td>\n",
       "      <td>1144</td>\n",
       "      <td>1994</td>\n",
       "    </tr>\n",
       "    <tr>\n",
       "      <th>30</th>\n",
       "      <td>Kirill Alekseenko</td>\n",
       "      <td>2708</td>\n",
       "      <td>FIDE</td>\n",
       "      <td>885</td>\n",
       "      <td>1997</td>\n",
       "    </tr>\n",
       "    <tr>\n",
       "      <th>33</th>\n",
       "      <td>Daniil Dubov</td>\n",
       "      <td>2702</td>\n",
       "      <td>Russian Federation</td>\n",
       "      <td>1635</td>\n",
       "      <td>1996</td>\n",
       "    </tr>\n",
       "    <tr>\n",
       "      <th>36</th>\n",
       "      <td>Parham Maghsoodloo</td>\n",
       "      <td>2701</td>\n",
       "      <td>Iran</td>\n",
       "      <td>788</td>\n",
       "      <td>2000</td>\n",
       "    </tr>\n",
       "  </tbody>\n",
       "</table>\n",
       "</div>"
      ],
      "text/plain": [
       "                         Name  Rating           Federation  Games Played  \\\n",
       "Rank                                                                       \n",
       "2                 Liren Ding     2806               China           1630   \n",
       "3           Alireza Firouzja     2793              France            845   \n",
       "4             Fabiano Caruana    2783       United States           2622   \n",
       "6                  Wesley So     2773       United States           1902   \n",
       "8            Richard Rapport     2764             Hungary           1278   \n",
       "9                 Anish Giri     2760         Netherlands           2209   \n",
       "15        Jan Krzysztof Duda     2750              Poland           1213   \n",
       "22                    Yi Wei     2727               China            979   \n",
       "23              Quang Liem Le    2722            Viet Nam           1725   \n",
       "26             Sam Shankland     2720       United States           1007   \n",
       "27                 Yangyi Yu     2720               China           1497   \n",
       "28    Santosh Gujrathi Vidit     2714               India           1144   \n",
       "30         Kirill Alekseenko     2708                FIDE            885   \n",
       "33              Daniil Dubov     2702  Russian Federation           1635   \n",
       "36        Parham Maghsoodloo     2701                Iran            788   \n",
       "\n",
       "      Year of Birth  \n",
       "Rank                 \n",
       "2              1992  \n",
       "3              2003  \n",
       "4              1992  \n",
       "6              1993  \n",
       "8              1996  \n",
       "9              1994  \n",
       "15             1998  \n",
       "22             1999  \n",
       "23             1991  \n",
       "26             1991  \n",
       "27             1994  \n",
       "28             1994  \n",
       "30             1997  \n",
       "33             1996  \n",
       "36             2000  "
      ]
     },
     "execution_count": 20,
     "metadata": {},
     "output_type": "execute_result"
    }
   ],
   "source": [
    "# Finding out highest rated player born in the 90s\n",
    "df[\n",
    "    (df['Rating'] > 2700) & (df['Year of Birth'] > 1990)\n",
    "]"
   ]
  },
  {
   "cell_type": "code",
   "execution_count": 21,
   "metadata": {},
   "outputs": [
    {
     "data": {
      "text/html": [
       "<div>\n",
       "<style scoped>\n",
       "    .dataframe tbody tr th:only-of-type {\n",
       "        vertical-align: middle;\n",
       "    }\n",
       "\n",
       "    .dataframe tbody tr th {\n",
       "        vertical-align: top;\n",
       "    }\n",
       "\n",
       "    .dataframe thead th {\n",
       "        text-align: right;\n",
       "    }\n",
       "</style>\n",
       "<table border=\"1\" class=\"dataframe\">\n",
       "  <thead>\n",
       "    <tr style=\"text-align: right;\">\n",
       "      <th></th>\n",
       "      <th>Name</th>\n",
       "      <th>Rating</th>\n",
       "      <th>Federation</th>\n",
       "      <th>Games Played</th>\n",
       "      <th>Year of Birth</th>\n",
       "    </tr>\n",
       "    <tr>\n",
       "      <th>Rank</th>\n",
       "      <th></th>\n",
       "      <th></th>\n",
       "      <th></th>\n",
       "      <th></th>\n",
       "      <th></th>\n",
       "    </tr>\n",
       "  </thead>\n",
       "  <tbody>\n",
       "    <tr>\n",
       "      <th>188</th>\n",
       "      <td>Aryan Chopra</td>\n",
       "      <td>2610</td>\n",
       "      <td>India</td>\n",
       "      <td>277</td>\n",
       "      <td>2001</td>\n",
       "    </tr>\n",
       "    <tr>\n",
       "      <th>157</th>\n",
       "      <td>Cristobal Henriquez Villagra</td>\n",
       "      <td>2620</td>\n",
       "      <td>Chile</td>\n",
       "      <td>320</td>\n",
       "      <td>1996</td>\n",
       "    </tr>\n",
       "    <tr>\n",
       "      <th>161</th>\n",
       "      <td>Nodirbek Yakubboev</td>\n",
       "      <td>2620</td>\n",
       "      <td>Uzbekistan</td>\n",
       "      <td>364</td>\n",
       "      <td>2002</td>\n",
       "    </tr>\n",
       "    <tr>\n",
       "      <th>84</th>\n",
       "      <td>Qun Ma</td>\n",
       "      <td>2666</td>\n",
       "      <td>China</td>\n",
       "      <td>366</td>\n",
       "      <td>1991</td>\n",
       "    </tr>\n",
       "    <tr>\n",
       "      <th>144</th>\n",
       "      <td>Javokhir Sindarov</td>\n",
       "      <td>2629</td>\n",
       "      <td>Uzbekistan</td>\n",
       "      <td>389</td>\n",
       "      <td>2005</td>\n",
       "    </tr>\n",
       "    <tr>\n",
       "      <th>50</th>\n",
       "      <td>Vincent Keymer</td>\n",
       "      <td>2686</td>\n",
       "      <td>Germany</td>\n",
       "      <td>392</td>\n",
       "      <td>2004</td>\n",
       "    </tr>\n",
       "    <tr>\n",
       "      <th>198</th>\n",
       "      <td>Jonas Buhl Bjerre</td>\n",
       "      <td>2608</td>\n",
       "      <td>Denmark</td>\n",
       "      <td>411</td>\n",
       "      <td>2004</td>\n",
       "    </tr>\n",
       "    <tr>\n",
       "      <th>176</th>\n",
       "      <td>Neuris Delgado Ramirez</td>\n",
       "      <td>2614</td>\n",
       "      <td>Paraguay</td>\n",
       "      <td>415</td>\n",
       "      <td>1981</td>\n",
       "    </tr>\n",
       "    <tr>\n",
       "      <th>193</th>\n",
       "      <td>Max Warmerdam</td>\n",
       "      <td>2610</td>\n",
       "      <td>Netherlands</td>\n",
       "      <td>421</td>\n",
       "      <td>2000</td>\n",
       "    </tr>\n",
       "    <tr>\n",
       "      <th>148</th>\n",
       "      <td>Awonder Liang</td>\n",
       "      <td>2625</td>\n",
       "      <td>United States</td>\n",
       "      <td>429</td>\n",
       "      <td>2003</td>\n",
       "    </tr>\n",
       "  </tbody>\n",
       "</table>\n",
       "</div>"
      ],
      "text/plain": [
       "                               Name  Rating      Federation  Games Played  \\\n",
       "Rank                                                                        \n",
       "188                   Aryan Chopra     2610          India            277   \n",
       "157   Cristobal Henriquez Villagra     2620          Chile            320   \n",
       "161             Nodirbek Yakubboev     2620     Uzbekistan            364   \n",
       "84                           Qun Ma    2666          China            366   \n",
       "144              Javokhir Sindarov     2629     Uzbekistan            389   \n",
       "50                  Vincent Keymer     2686        Germany            392   \n",
       "198              Jonas Buhl Bjerre     2608        Denmark            411   \n",
       "176         Neuris Delgado Ramirez     2614       Paraguay            415   \n",
       "193                  Max Warmerdam     2610    Netherlands            421   \n",
       "148                  Awonder Liang     2625  United States            429   \n",
       "\n",
       "      Year of Birth  \n",
       "Rank                 \n",
       "188            2001  \n",
       "157            1996  \n",
       "161            2002  \n",
       "84             1991  \n",
       "144            2005  \n",
       "50             2004  \n",
       "198            2004  \n",
       "176            1981  \n",
       "193            2000  \n",
       "148            2003  "
      ]
     },
     "execution_count": 21,
     "metadata": {},
     "output_type": "execute_result"
    }
   ],
   "source": [
    "# Finding out player with the least amount of games\n",
    "df.sort_values(\n",
    "    by=['Games Played'],\n",
    "    ascending=True\n",
    ").head(10)"
   ]
  },
  {
   "cell_type": "code",
   "execution_count": 22,
   "metadata": {},
   "outputs": [
    {
     "data": {
      "text/html": [
       "<div>\n",
       "<style scoped>\n",
       "    .dataframe tbody tr th:only-of-type {\n",
       "        vertical-align: middle;\n",
       "    }\n",
       "\n",
       "    .dataframe tbody tr th {\n",
       "        vertical-align: top;\n",
       "    }\n",
       "\n",
       "    .dataframe thead th {\n",
       "        text-align: right;\n",
       "    }\n",
       "</style>\n",
       "<table border=\"1\" class=\"dataframe\">\n",
       "  <thead>\n",
       "    <tr style=\"text-align: right;\">\n",
       "      <th></th>\n",
       "      <th>Name</th>\n",
       "      <th>Rating</th>\n",
       "      <th>Federation</th>\n",
       "      <th>Games Played</th>\n",
       "      <th>Year of Birth</th>\n",
       "    </tr>\n",
       "    <tr>\n",
       "      <th>Rank</th>\n",
       "      <th></th>\n",
       "      <th></th>\n",
       "      <th></th>\n",
       "      <th></th>\n",
       "      <th></th>\n",
       "    </tr>\n",
       "  </thead>\n",
       "  <tbody>\n",
       "    <tr>\n",
       "      <th>13</th>\n",
       "      <td>Viswanathan Anand</td>\n",
       "      <td>2756</td>\n",
       "      <td>India</td>\n",
       "      <td>3913</td>\n",
       "      <td>1969</td>\n",
       "    </tr>\n",
       "    <tr>\n",
       "      <th>150</th>\n",
       "      <td>Loek Van Wely</td>\n",
       "      <td>2624</td>\n",
       "      <td>Netherlands</td>\n",
       "      <td>3749</td>\n",
       "      <td>1972</td>\n",
       "    </tr>\n",
       "    <tr>\n",
       "      <th>32</th>\n",
       "      <td>Alexei Shirov</td>\n",
       "      <td>2704</td>\n",
       "      <td>Spain</td>\n",
       "      <td>3578</td>\n",
       "      <td>1972</td>\n",
       "    </tr>\n",
       "    <tr>\n",
       "      <th>79</th>\n",
       "      <td>Boris Gelfand</td>\n",
       "      <td>2668</td>\n",
       "      <td>Israel</td>\n",
       "      <td>3394</td>\n",
       "      <td>1968</td>\n",
       "    </tr>\n",
       "    <tr>\n",
       "      <th>190</th>\n",
       "      <td>Aleksey Dreev</td>\n",
       "      <td>2610</td>\n",
       "      <td>Russian Federation</td>\n",
       "      <td>3360</td>\n",
       "      <td>1969</td>\n",
       "    </tr>\n",
       "    <tr>\n",
       "      <th>5</th>\n",
       "      <td>Levon Aronian</td>\n",
       "      <td>2775</td>\n",
       "      <td>United States</td>\n",
       "      <td>3320</td>\n",
       "      <td>1982</td>\n",
       "    </tr>\n",
       "    <tr>\n",
       "      <th>57</th>\n",
       "      <td>Peter Svidler</td>\n",
       "      <td>2683</td>\n",
       "      <td>Russian Federation</td>\n",
       "      <td>3260</td>\n",
       "      <td>1976</td>\n",
       "    </tr>\n",
       "    <tr>\n",
       "      <th>17</th>\n",
       "      <td>Alexander Grischuk</td>\n",
       "      <td>2745</td>\n",
       "      <td>Russian Federation</td>\n",
       "      <td>3235</td>\n",
       "      <td>1983</td>\n",
       "    </tr>\n",
       "    <tr>\n",
       "      <th>10</th>\n",
       "      <td>Hikaru Nakamura</td>\n",
       "      <td>2760</td>\n",
       "      <td>United States</td>\n",
       "      <td>3147</td>\n",
       "      <td>1987</td>\n",
       "    </tr>\n",
       "    <tr>\n",
       "      <th>1</th>\n",
       "      <td>Magnus Carlsen</td>\n",
       "      <td>2864</td>\n",
       "      <td>Norway</td>\n",
       "      <td>3125</td>\n",
       "      <td>1990</td>\n",
       "    </tr>\n",
       "  </tbody>\n",
       "</table>\n",
       "</div>"
      ],
      "text/plain": [
       "                     Name  Rating           Federation  Games Played  \\\n",
       "Rank                                                                   \n",
       "13     Viswanathan Anand     2756               India           3913   \n",
       "150        Loek Van Wely     2624         Netherlands           3749   \n",
       "32         Alexei Shirov     2704               Spain           3578   \n",
       "79         Boris Gelfand     2668              Israel           3394   \n",
       "190        Aleksey Dreev     2610  Russian Federation           3360   \n",
       "5          Levon Aronian     2775       United States           3320   \n",
       "57         Peter Svidler     2683  Russian Federation           3260   \n",
       "17    Alexander Grischuk     2745  Russian Federation           3235   \n",
       "10       Hikaru Nakamura     2760       United States           3147   \n",
       "1         Magnus Carlsen     2864              Norway           3125   \n",
       "\n",
       "      Year of Birth  \n",
       "Rank                 \n",
       "13             1969  \n",
       "150            1972  \n",
       "32             1972  \n",
       "79             1968  \n",
       "190            1969  \n",
       "5              1982  \n",
       "57             1976  \n",
       "17             1983  \n",
       "10             1987  \n",
       "1              1990  "
      ]
     },
     "execution_count": 22,
     "metadata": {},
     "output_type": "execute_result"
    }
   ],
   "source": [
    "df.sort_values(\n",
    "    by=['Games Played'], \n",
    "    ascending=False\n",
    ").head(10)"
   ]
  },
  {
   "cell_type": "code",
   "execution_count": 23,
   "metadata": {},
   "outputs": [
    {
     "data": {
      "text/plain": [
       "Russian Federation       22\n",
       "United States            19\n",
       "India                    17\n",
       "Ukraine                  13\n",
       "FIDE                     12\n",
       "China                    12\n",
       "Germany                   9\n",
       "Armenia                   9\n",
       "France                    7\n",
       "Azerbaijan                7\n",
       "Spain                     6\n",
       "Netherlands               6\n",
       "United Kingdom            5\n",
       "Poland                    5\n",
       "Hungary                   5\n",
       "Israel                    4\n",
       "Uzbekistan                4\n",
       "Czech Republic            3\n",
       "Norway                    3\n",
       "Iran                      3\n",
       "Romania                   2\n",
       "Viet Nam                  2\n",
       "Croatia                   2\n",
       "Bulgaria                  2\n",
       "Argentina                 2\n",
       "Serbia                    2\n",
       "Tajikistan                1\n",
       "Denmark                   1\n",
       "Uruguay                   1\n",
       "Paraguay                  1\n",
       "Italy                     1\n",
       "Kazakhstan                1\n",
       "Chile                     1\n",
       "Turkey                    1\n",
       "Canada                    1\n",
       "Slovenia                  1\n",
       "Greece                    1\n",
       "Peru                      1\n",
       "Austria                   1\n",
       "Sweden                    1\n",
       "Egypt                     1\n",
       "United Arab Emirates      1\n",
       "Switzerland               1\n",
       "Name: Federation, dtype: int64"
      ]
     },
     "execution_count": 23,
     "metadata": {},
     "output_type": "execute_result"
    }
   ],
   "source": [
    "df['Federation'].value_counts()"
   ]
  },
  {
   "cell_type": "code",
   "execution_count": 24,
   "metadata": {},
   "outputs": [
    {
     "data": {
      "text/html": [
       "<div>\n",
       "<style scoped>\n",
       "    .dataframe tbody tr th:only-of-type {\n",
       "        vertical-align: middle;\n",
       "    }\n",
       "\n",
       "    .dataframe tbody tr th {\n",
       "        vertical-align: top;\n",
       "    }\n",
       "\n",
       "    .dataframe thead th {\n",
       "        text-align: right;\n",
       "    }\n",
       "</style>\n",
       "<table border=\"1\" class=\"dataframe\">\n",
       "  <thead>\n",
       "    <tr style=\"text-align: right;\">\n",
       "      <th></th>\n",
       "      <th>Rating</th>\n",
       "      <th>Games Played</th>\n",
       "      <th>Year of Birth</th>\n",
       "    </tr>\n",
       "  </thead>\n",
       "  <tbody>\n",
       "    <tr>\n",
       "      <th>Rating</th>\n",
       "      <td>1.000000</td>\n",
       "      <td>0.390230</td>\n",
       "      <td>0.078851</td>\n",
       "    </tr>\n",
       "    <tr>\n",
       "      <th>Games Played</th>\n",
       "      <td>0.390230</td>\n",
       "      <td>1.000000</td>\n",
       "      <td>-0.674625</td>\n",
       "    </tr>\n",
       "    <tr>\n",
       "      <th>Year of Birth</th>\n",
       "      <td>0.078851</td>\n",
       "      <td>-0.674625</td>\n",
       "      <td>1.000000</td>\n",
       "    </tr>\n",
       "  </tbody>\n",
       "</table>\n",
       "</div>"
      ],
      "text/plain": [
       "                 Rating  Games Played  Year of Birth\n",
       "Rating         1.000000      0.390230       0.078851\n",
       "Games Played   0.390230      1.000000      -0.674625\n",
       "Year of Birth  0.078851     -0.674625       1.000000"
      ]
     },
     "execution_count": 24,
     "metadata": {},
     "output_type": "execute_result"
    }
   ],
   "source": [
    "df.corr()"
   ]
  },
  {
   "cell_type": "markdown",
   "metadata": {},
   "source": [
    "# 4. Data Visualisation"
   ]
  },
  {
   "cell_type": "code",
   "execution_count": 25,
   "metadata": {},
   "outputs": [
    {
     "data": {
      "application/vnd.plotly.v1+json": {
       "config": {
        "plotlyServerURL": "https://plot.ly"
       },
       "data": [
        {
         "branchvalues": "total",
         "domain": {
          "x": [
           0,
           1
          ],
          "y": [
           0,
           1
          ]
         },
         "hovertemplate": "labels=%{label}<br>count=%{value}<br>parent=%{parent}<br>id=%{id}<extra></extra>",
         "ids": [
          "Argentina ",
          "Armenia ",
          "Austria ",
          "Azerbaijan ",
          "Bulgaria ",
          "Canada ",
          "Chile ",
          "China ",
          "Croatia ",
          "Czech Republic ",
          "Denmark ",
          "Egypt ",
          "FIDE ",
          "France ",
          "Germany ",
          "Greece ",
          "Hungary ",
          "India ",
          "Iran ",
          "Israel ",
          "Italy ",
          "Kazakhstan ",
          "Netherlands ",
          "Norway ",
          "Paraguay ",
          "Peru ",
          "Poland ",
          "Romania ",
          "Russian Federation ",
          "Serbia ",
          "Slovenia ",
          "Spain ",
          "Sweden ",
          "Switzerland ",
          "Tajikistan ",
          "Turkey ",
          "Ukraine ",
          "United Arab Emirates ",
          "United Kingdom ",
          "United States ",
          "Uruguay ",
          "Uzbekistan ",
          "Viet Nam "
         ],
         "labels": [
          "Argentina ",
          "Armenia ",
          "Austria ",
          "Azerbaijan ",
          "Bulgaria ",
          "Canada ",
          "Chile ",
          "China ",
          "Croatia ",
          "Czech Republic ",
          "Denmark ",
          "Egypt ",
          "FIDE ",
          "France ",
          "Germany ",
          "Greece ",
          "Hungary ",
          "India ",
          "Iran ",
          "Israel ",
          "Italy ",
          "Kazakhstan ",
          "Netherlands ",
          "Norway ",
          "Paraguay ",
          "Peru ",
          "Poland ",
          "Romania ",
          "Russian Federation ",
          "Serbia ",
          "Slovenia ",
          "Spain ",
          "Sweden ",
          "Switzerland ",
          "Tajikistan ",
          "Turkey ",
          "Ukraine ",
          "United Arab Emirates ",
          "United Kingdom ",
          "United States ",
          "Uruguay ",
          "Uzbekistan ",
          "Viet Nam "
         ],
         "name": "",
         "parents": [
          "",
          "",
          "",
          "",
          "",
          "",
          "",
          "",
          "",
          "",
          "",
          "",
          "",
          "",
          "",
          "",
          "",
          "",
          "",
          "",
          "",
          "",
          "",
          "",
          "",
          "",
          "",
          "",
          "",
          "",
          "",
          "",
          "",
          "",
          "",
          "",
          "",
          "",
          "",
          "",
          "",
          "",
          ""
         ],
         "type": "treemap",
         "values": [
          2,
          9,
          1,
          7,
          2,
          1,
          1,
          12,
          2,
          3,
          1,
          1,
          12,
          7,
          9,
          1,
          5,
          17,
          3,
          4,
          1,
          1,
          6,
          3,
          1,
          1,
          5,
          2,
          22,
          2,
          1,
          6,
          1,
          1,
          1,
          1,
          13,
          1,
          5,
          19,
          1,
          4,
          2
         ]
        }
       ],
       "layout": {
        "legend": {
         "tracegroupgap": 0
        },
        "margin": {
         "t": 60
        },
        "template": {
         "data": {
          "bar": [
           {
            "error_x": {
             "color": "#2a3f5f"
            },
            "error_y": {
             "color": "#2a3f5f"
            },
            "marker": {
             "line": {
              "color": "#E5ECF6",
              "width": 0.5
             },
             "pattern": {
              "fillmode": "overlay",
              "size": 10,
              "solidity": 0.2
             }
            },
            "type": "bar"
           }
          ],
          "barpolar": [
           {
            "marker": {
             "line": {
              "color": "#E5ECF6",
              "width": 0.5
             },
             "pattern": {
              "fillmode": "overlay",
              "size": 10,
              "solidity": 0.2
             }
            },
            "type": "barpolar"
           }
          ],
          "carpet": [
           {
            "aaxis": {
             "endlinecolor": "#2a3f5f",
             "gridcolor": "white",
             "linecolor": "white",
             "minorgridcolor": "white",
             "startlinecolor": "#2a3f5f"
            },
            "baxis": {
             "endlinecolor": "#2a3f5f",
             "gridcolor": "white",
             "linecolor": "white",
             "minorgridcolor": "white",
             "startlinecolor": "#2a3f5f"
            },
            "type": "carpet"
           }
          ],
          "choropleth": [
           {
            "colorbar": {
             "outlinewidth": 0,
             "ticks": ""
            },
            "type": "choropleth"
           }
          ],
          "contour": [
           {
            "colorbar": {
             "outlinewidth": 0,
             "ticks": ""
            },
            "colorscale": [
             [
              0,
              "#0d0887"
             ],
             [
              0.1111111111111111,
              "#46039f"
             ],
             [
              0.2222222222222222,
              "#7201a8"
             ],
             [
              0.3333333333333333,
              "#9c179e"
             ],
             [
              0.4444444444444444,
              "#bd3786"
             ],
             [
              0.5555555555555556,
              "#d8576b"
             ],
             [
              0.6666666666666666,
              "#ed7953"
             ],
             [
              0.7777777777777778,
              "#fb9f3a"
             ],
             [
              0.8888888888888888,
              "#fdca26"
             ],
             [
              1,
              "#f0f921"
             ]
            ],
            "type": "contour"
           }
          ],
          "contourcarpet": [
           {
            "colorbar": {
             "outlinewidth": 0,
             "ticks": ""
            },
            "type": "contourcarpet"
           }
          ],
          "heatmap": [
           {
            "colorbar": {
             "outlinewidth": 0,
             "ticks": ""
            },
            "colorscale": [
             [
              0,
              "#0d0887"
             ],
             [
              0.1111111111111111,
              "#46039f"
             ],
             [
              0.2222222222222222,
              "#7201a8"
             ],
             [
              0.3333333333333333,
              "#9c179e"
             ],
             [
              0.4444444444444444,
              "#bd3786"
             ],
             [
              0.5555555555555556,
              "#d8576b"
             ],
             [
              0.6666666666666666,
              "#ed7953"
             ],
             [
              0.7777777777777778,
              "#fb9f3a"
             ],
             [
              0.8888888888888888,
              "#fdca26"
             ],
             [
              1,
              "#f0f921"
             ]
            ],
            "type": "heatmap"
           }
          ],
          "heatmapgl": [
           {
            "colorbar": {
             "outlinewidth": 0,
             "ticks": ""
            },
            "colorscale": [
             [
              0,
              "#0d0887"
             ],
             [
              0.1111111111111111,
              "#46039f"
             ],
             [
              0.2222222222222222,
              "#7201a8"
             ],
             [
              0.3333333333333333,
              "#9c179e"
             ],
             [
              0.4444444444444444,
              "#bd3786"
             ],
             [
              0.5555555555555556,
              "#d8576b"
             ],
             [
              0.6666666666666666,
              "#ed7953"
             ],
             [
              0.7777777777777778,
              "#fb9f3a"
             ],
             [
              0.8888888888888888,
              "#fdca26"
             ],
             [
              1,
              "#f0f921"
             ]
            ],
            "type": "heatmapgl"
           }
          ],
          "histogram": [
           {
            "marker": {
             "pattern": {
              "fillmode": "overlay",
              "size": 10,
              "solidity": 0.2
             }
            },
            "type": "histogram"
           }
          ],
          "histogram2d": [
           {
            "colorbar": {
             "outlinewidth": 0,
             "ticks": ""
            },
            "colorscale": [
             [
              0,
              "#0d0887"
             ],
             [
              0.1111111111111111,
              "#46039f"
             ],
             [
              0.2222222222222222,
              "#7201a8"
             ],
             [
              0.3333333333333333,
              "#9c179e"
             ],
             [
              0.4444444444444444,
              "#bd3786"
             ],
             [
              0.5555555555555556,
              "#d8576b"
             ],
             [
              0.6666666666666666,
              "#ed7953"
             ],
             [
              0.7777777777777778,
              "#fb9f3a"
             ],
             [
              0.8888888888888888,
              "#fdca26"
             ],
             [
              1,
              "#f0f921"
             ]
            ],
            "type": "histogram2d"
           }
          ],
          "histogram2dcontour": [
           {
            "colorbar": {
             "outlinewidth": 0,
             "ticks": ""
            },
            "colorscale": [
             [
              0,
              "#0d0887"
             ],
             [
              0.1111111111111111,
              "#46039f"
             ],
             [
              0.2222222222222222,
              "#7201a8"
             ],
             [
              0.3333333333333333,
              "#9c179e"
             ],
             [
              0.4444444444444444,
              "#bd3786"
             ],
             [
              0.5555555555555556,
              "#d8576b"
             ],
             [
              0.6666666666666666,
              "#ed7953"
             ],
             [
              0.7777777777777778,
              "#fb9f3a"
             ],
             [
              0.8888888888888888,
              "#fdca26"
             ],
             [
              1,
              "#f0f921"
             ]
            ],
            "type": "histogram2dcontour"
           }
          ],
          "mesh3d": [
           {
            "colorbar": {
             "outlinewidth": 0,
             "ticks": ""
            },
            "type": "mesh3d"
           }
          ],
          "parcoords": [
           {
            "line": {
             "colorbar": {
              "outlinewidth": 0,
              "ticks": ""
             }
            },
            "type": "parcoords"
           }
          ],
          "pie": [
           {
            "automargin": true,
            "type": "pie"
           }
          ],
          "scatter": [
           {
            "marker": {
             "colorbar": {
              "outlinewidth": 0,
              "ticks": ""
             }
            },
            "type": "scatter"
           }
          ],
          "scatter3d": [
           {
            "line": {
             "colorbar": {
              "outlinewidth": 0,
              "ticks": ""
             }
            },
            "marker": {
             "colorbar": {
              "outlinewidth": 0,
              "ticks": ""
             }
            },
            "type": "scatter3d"
           }
          ],
          "scattercarpet": [
           {
            "marker": {
             "colorbar": {
              "outlinewidth": 0,
              "ticks": ""
             }
            },
            "type": "scattercarpet"
           }
          ],
          "scattergeo": [
           {
            "marker": {
             "colorbar": {
              "outlinewidth": 0,
              "ticks": ""
             }
            },
            "type": "scattergeo"
           }
          ],
          "scattergl": [
           {
            "marker": {
             "colorbar": {
              "outlinewidth": 0,
              "ticks": ""
             }
            },
            "type": "scattergl"
           }
          ],
          "scattermapbox": [
           {
            "marker": {
             "colorbar": {
              "outlinewidth": 0,
              "ticks": ""
             }
            },
            "type": "scattermapbox"
           }
          ],
          "scatterpolar": [
           {
            "marker": {
             "colorbar": {
              "outlinewidth": 0,
              "ticks": ""
             }
            },
            "type": "scatterpolar"
           }
          ],
          "scatterpolargl": [
           {
            "marker": {
             "colorbar": {
              "outlinewidth": 0,
              "ticks": ""
             }
            },
            "type": "scatterpolargl"
           }
          ],
          "scatterternary": [
           {
            "marker": {
             "colorbar": {
              "outlinewidth": 0,
              "ticks": ""
             }
            },
            "type": "scatterternary"
           }
          ],
          "surface": [
           {
            "colorbar": {
             "outlinewidth": 0,
             "ticks": ""
            },
            "colorscale": [
             [
              0,
              "#0d0887"
             ],
             [
              0.1111111111111111,
              "#46039f"
             ],
             [
              0.2222222222222222,
              "#7201a8"
             ],
             [
              0.3333333333333333,
              "#9c179e"
             ],
             [
              0.4444444444444444,
              "#bd3786"
             ],
             [
              0.5555555555555556,
              "#d8576b"
             ],
             [
              0.6666666666666666,
              "#ed7953"
             ],
             [
              0.7777777777777778,
              "#fb9f3a"
             ],
             [
              0.8888888888888888,
              "#fdca26"
             ],
             [
              1,
              "#f0f921"
             ]
            ],
            "type": "surface"
           }
          ],
          "table": [
           {
            "cells": {
             "fill": {
              "color": "#EBF0F8"
             },
             "line": {
              "color": "white"
             }
            },
            "header": {
             "fill": {
              "color": "#C8D4E3"
             },
             "line": {
              "color": "white"
             }
            },
            "type": "table"
           }
          ]
         },
         "layout": {
          "annotationdefaults": {
           "arrowcolor": "#2a3f5f",
           "arrowhead": 0,
           "arrowwidth": 1
          },
          "autotypenumbers": "strict",
          "coloraxis": {
           "colorbar": {
            "outlinewidth": 0,
            "ticks": ""
           }
          },
          "colorscale": {
           "diverging": [
            [
             0,
             "#8e0152"
            ],
            [
             0.1,
             "#c51b7d"
            ],
            [
             0.2,
             "#de77ae"
            ],
            [
             0.3,
             "#f1b6da"
            ],
            [
             0.4,
             "#fde0ef"
            ],
            [
             0.5,
             "#f7f7f7"
            ],
            [
             0.6,
             "#e6f5d0"
            ],
            [
             0.7,
             "#b8e186"
            ],
            [
             0.8,
             "#7fbc41"
            ],
            [
             0.9,
             "#4d9221"
            ],
            [
             1,
             "#276419"
            ]
           ],
           "sequential": [
            [
             0,
             "#0d0887"
            ],
            [
             0.1111111111111111,
             "#46039f"
            ],
            [
             0.2222222222222222,
             "#7201a8"
            ],
            [
             0.3333333333333333,
             "#9c179e"
            ],
            [
             0.4444444444444444,
             "#bd3786"
            ],
            [
             0.5555555555555556,
             "#d8576b"
            ],
            [
             0.6666666666666666,
             "#ed7953"
            ],
            [
             0.7777777777777778,
             "#fb9f3a"
            ],
            [
             0.8888888888888888,
             "#fdca26"
            ],
            [
             1,
             "#f0f921"
            ]
           ],
           "sequentialminus": [
            [
             0,
             "#0d0887"
            ],
            [
             0.1111111111111111,
             "#46039f"
            ],
            [
             0.2222222222222222,
             "#7201a8"
            ],
            [
             0.3333333333333333,
             "#9c179e"
            ],
            [
             0.4444444444444444,
             "#bd3786"
            ],
            [
             0.5555555555555556,
             "#d8576b"
            ],
            [
             0.6666666666666666,
             "#ed7953"
            ],
            [
             0.7777777777777778,
             "#fb9f3a"
            ],
            [
             0.8888888888888888,
             "#fdca26"
            ],
            [
             1,
             "#f0f921"
            ]
           ]
          },
          "colorway": [
           "#636efa",
           "#EF553B",
           "#00cc96",
           "#ab63fa",
           "#FFA15A",
           "#19d3f3",
           "#FF6692",
           "#B6E880",
           "#FF97FF",
           "#FECB52"
          ],
          "font": {
           "color": "#2a3f5f"
          },
          "geo": {
           "bgcolor": "white",
           "lakecolor": "white",
           "landcolor": "#E5ECF6",
           "showlakes": true,
           "showland": true,
           "subunitcolor": "white"
          },
          "hoverlabel": {
           "align": "left"
          },
          "hovermode": "closest",
          "mapbox": {
           "style": "light"
          },
          "paper_bgcolor": "white",
          "plot_bgcolor": "#E5ECF6",
          "polar": {
           "angularaxis": {
            "gridcolor": "white",
            "linecolor": "white",
            "ticks": ""
           },
           "bgcolor": "#E5ECF6",
           "radialaxis": {
            "gridcolor": "white",
            "linecolor": "white",
            "ticks": ""
           }
          },
          "scene": {
           "xaxis": {
            "backgroundcolor": "#E5ECF6",
            "gridcolor": "white",
            "gridwidth": 2,
            "linecolor": "white",
            "showbackground": true,
            "ticks": "",
            "zerolinecolor": "white"
           },
           "yaxis": {
            "backgroundcolor": "#E5ECF6",
            "gridcolor": "white",
            "gridwidth": 2,
            "linecolor": "white",
            "showbackground": true,
            "ticks": "",
            "zerolinecolor": "white"
           },
           "zaxis": {
            "backgroundcolor": "#E5ECF6",
            "gridcolor": "white",
            "gridwidth": 2,
            "linecolor": "white",
            "showbackground": true,
            "ticks": "",
            "zerolinecolor": "white"
           }
          },
          "shapedefaults": {
           "line": {
            "color": "#2a3f5f"
           }
          },
          "ternary": {
           "aaxis": {
            "gridcolor": "white",
            "linecolor": "white",
            "ticks": ""
           },
           "baxis": {
            "gridcolor": "white",
            "linecolor": "white",
            "ticks": ""
           },
           "bgcolor": "#E5ECF6",
           "caxis": {
            "gridcolor": "white",
            "linecolor": "white",
            "ticks": ""
           }
          },
          "title": {
           "x": 0.05
          },
          "xaxis": {
           "automargin": true,
           "gridcolor": "white",
           "linecolor": "white",
           "ticks": "",
           "title": {
            "standoff": 15
           },
           "zerolinecolor": "white",
           "zerolinewidth": 2
          },
          "yaxis": {
           "automargin": true,
           "gridcolor": "white",
           "linecolor": "white",
           "ticks": "",
           "title": {
            "standoff": 15
           },
           "zerolinecolor": "white",
           "zerolinewidth": 2
          }
         }
        }
       }
      }
     },
     "metadata": {},
     "output_type": "display_data"
    },
    {
     "data": {
      "text/plain": [
       "<Figure size 1296x216 with 0 Axes>"
      ]
     },
     "metadata": {},
     "output_type": "display_data"
    }
   ],
   "source": [
    "plt.figure(figsize=(18, 3))\n",
    "px.treemap(df, path=['Federation'], title='')"
   ]
  },
  {
   "cell_type": "code",
   "execution_count": 26,
   "metadata": {},
   "outputs": [],
   "source": [
    "# plt.figure(figsize=(8, 8))\n",
    "# sns.regplot(data=df, x='Games Played', y='Rating')"
   ]
  },
  {
   "cell_type": "code",
   "execution_count": 27,
   "metadata": {},
   "outputs": [
    {
     "data": {
      "text/html": [
       "<div>\n",
       "<style scoped>\n",
       "    .dataframe tbody tr th:only-of-type {\n",
       "        vertical-align: middle;\n",
       "    }\n",
       "\n",
       "    .dataframe tbody tr th {\n",
       "        vertical-align: top;\n",
       "    }\n",
       "\n",
       "    .dataframe thead th {\n",
       "        text-align: right;\n",
       "    }\n",
       "</style>\n",
       "<table border=\"1\" class=\"dataframe\">\n",
       "  <thead>\n",
       "    <tr style=\"text-align: right;\">\n",
       "      <th></th>\n",
       "      <th>Rating</th>\n",
       "      <th>Games Played</th>\n",
       "      <th>Year of Birth</th>\n",
       "    </tr>\n",
       "  </thead>\n",
       "  <tbody>\n",
       "    <tr>\n",
       "      <th>Rating</th>\n",
       "      <td>1.000000</td>\n",
       "      <td>0.390230</td>\n",
       "      <td>0.078851</td>\n",
       "    </tr>\n",
       "    <tr>\n",
       "      <th>Games Played</th>\n",
       "      <td>0.390230</td>\n",
       "      <td>1.000000</td>\n",
       "      <td>-0.674625</td>\n",
       "    </tr>\n",
       "    <tr>\n",
       "      <th>Year of Birth</th>\n",
       "      <td>0.078851</td>\n",
       "      <td>-0.674625</td>\n",
       "      <td>1.000000</td>\n",
       "    </tr>\n",
       "  </tbody>\n",
       "</table>\n",
       "</div>"
      ],
      "text/plain": [
       "                 Rating  Games Played  Year of Birth\n",
       "Rating         1.000000      0.390230       0.078851\n",
       "Games Played   0.390230      1.000000      -0.674625\n",
       "Year of Birth  0.078851     -0.674625       1.000000"
      ]
     },
     "execution_count": 27,
     "metadata": {},
     "output_type": "execute_result"
    }
   ],
   "source": [
    "df.corr()"
   ]
  },
  {
   "cell_type": "code",
   "execution_count": 28,
   "metadata": {},
   "outputs": [
    {
     "ename": "",
     "evalue": "",
     "output_type": "error",
     "traceback": [
      "\u001b[1;31mCanceled future for execute_request message before replies were done"
     ]
    },
    {
     "ename": "",
     "evalue": "",
     "output_type": "error",
     "traceback": [
      "\u001b[1;31mThe Kernel crashed while executing code in the the current cell or a previous cell. Please review the code in the cell(s) to identify a possible cause of the failure. Click <a href='https://aka.ms/vscodeJupyterKernelCrash'>here</a> for more info. View Jupyter <a href='command:jupyter.viewOutput'>log</a> for further details."
     ]
    }
   ],
   "source": [
    "sns.heatmap(data=df.corr())"
   ]
  }
 ],
 "metadata": {
  "kernelspec": {
   "display_name": "Python 3.9.12 ('base')",
   "language": "python",
   "name": "python3"
  },
  "language_info": {
   "codemirror_mode": {
    "name": "ipython",
    "version": 3
   },
   "file_extension": ".py",
   "mimetype": "text/x-python",
   "name": "python",
   "nbconvert_exporter": "python",
   "pygments_lexer": "ipython3",
   "version": "3.9.12"
  },
  "orig_nbformat": 4,
  "vscode": {
   "interpreter": {
    "hash": "f0b7333da218775e0d10eaa8939b9fba0a40c900e904e0630ec4f402e4ffc861"
   }
  }
 },
 "nbformat": 4,
 "nbformat_minor": 2
}
