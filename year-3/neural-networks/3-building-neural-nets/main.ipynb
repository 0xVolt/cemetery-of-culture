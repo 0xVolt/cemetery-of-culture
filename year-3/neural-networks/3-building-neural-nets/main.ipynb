{
 "cells": [
  {
   "cell_type": "markdown",
   "metadata": {},
   "source": [
    "# 0. Import dependencies"
   ]
  },
  {
   "cell_type": "code",
   "execution_count": null,
   "metadata": {
    "id": "ZxfzVLDD8pOk"
   },
   "outputs": [],
   "source": [
    "import torch\n",
    "import sklearn\n",
    "import numpy as np\n"
   ]
  },
  {
   "cell_type": "code",
   "execution_count": null,
   "metadata": {
    "colab": {
     "base_uri": "https://localhost:8080/"
    },
    "id": "Ychf-Ig284wF",
    "outputId": "f60b0215-f529-4850-a1ec-16290728ac56"
   },
   "outputs": [],
   "source": [
    "from sklearn.datasets import make_classification\n",
    "torch.manual_seed(123)\n"
   ]
  },
  {
   "cell_type": "markdown",
   "metadata": {},
   "source": [
    "# 1. Working with datasets"
   ]
  },
  {
   "cell_type": "markdown",
   "metadata": {},
   "source": [
    "## 1.1 Creating the datasets\n",
    "Creating a toy dataset with `sklearn.make_classification()`."
   ]
  },
  {
   "cell_type": "code",
   "execution_count": null,
   "metadata": {
    "id": "1LxdPxns9Ax3"
   },
   "outputs": [],
   "source": [
    "# Make a Toy Dataset\n",
    "X, y = make_classification(n_samples=1000, n_features=4, n_classes=2)\n",
    "\n",
    "# Change it into the Tensor\n",
    "X = torch.tensor(X, dtype=torch.float32)\n",
    "y = torch.tensor(y, dtype=torch.float32)\n"
   ]
  },
  {
   "cell_type": "code",
   "execution_count": null,
   "metadata": {},
   "outputs": [],
   "source": [
    "print(f'X: {X.ndim} dim(s)\\n', 'Shape of X: ', np.shape(X), '\\n', X, sep='')"
   ]
  },
  {
   "cell_type": "code",
   "execution_count": null,
   "metadata": {},
   "outputs": [],
   "source": [
    "print(f'y: {y.ndim} dim(s)\\n', 'Shape of y: ', np.shape(y), '\\n', y, sep='')"
   ]
  },
  {
   "cell_type": "markdown",
   "metadata": {},
   "source": [
    "## 1.2 Shuffling the datasets\n",
    "Shuffling using the `torch.randperm()` function. Learn more about this function [here](https://pytorch.org/docs/stable/generated/torch.randperm.html).\n",
    "\n",
    "Here, the first argument needs to be the size `n` in `int`. The `y.size()` simply won't work since the `torch.Tensor.size()` function returns the size as an object. We pass in the first dimension (0th) to retrieve size of the first dim in `int`. Values other than 0 won't work since this tensor only has one dim. "
   ]
  },
  {
   "cell_type": "code",
   "execution_count": null,
   "metadata": {
    "colab": {
     "base_uri": "https://localhost:8080/"
    },
    "id": "iW3ACthE9UHy",
    "outputId": "78b58ca4-f620-4f96-f766-c485df103932"
   },
   "outputs": [],
   "source": [
    "# Shuffling data\n",
    "torch.manual_seed(10)\n",
    "\n",
    "# Creating a shuffled dataset ranging from 0 to n - 1 (999)\n",
    "shuffledData = torch.randperm(y.size(0), dtype=torch.long)\n",
    "\n",
    "# Printing a sample from our shuffled data\n",
    "print(f'Sampled shuffled data:\\n\\n{shuffledData[:10]}')\n"
   ]
  },
  {
   "cell_type": "code",
   "execution_count": null,
   "metadata": {},
   "outputs": [],
   "source": [
    "print(f'Shuffled generated data:\\n\\n{shuffledData}')"
   ]
  },
  {
   "cell_type": "markdown",
   "metadata": {},
   "source": [
    "We've created a list of indices that are sorted. Now mapping the shuffled indices to create a shuffled dataset."
   ]
  },
  {
   "cell_type": "code",
   "execution_count": null,
   "metadata": {},
   "outputs": [],
   "source": [
    "X, y = X[shuffledData], y[shuffledData]"
   ]
  },
  {
   "cell_type": "code",
   "execution_count": null,
   "metadata": {},
   "outputs": [],
   "source": [
    "print(f'Shuffled X:\\n\\n{X}')"
   ]
  },
  {
   "cell_type": "code",
   "execution_count": null,
   "metadata": {},
   "outputs": [],
   "source": [
    "print(f'Shuffled y:\\n\\n{y}')"
   ]
  },
  {
   "cell_type": "markdown",
   "metadata": {},
   "source": [
    "## 1.3 Splitting the dataset into training and testing data"
   ]
  },
  {
   "cell_type": "markdown",
   "metadata": {},
   "source": [
    "### 1.3.1 Shuffling data"
   ]
  },
  {
   "cell_type": "code",
   "execution_count": null,
   "metadata": {
    "id": "htyqar_O_gQS"
   },
   "outputs": [],
   "source": [
    "# Train Test split\n",
    "shuffledTrainDataMakeup = int(shuffledData.size(0) * 0.7)\n",
    "\n",
    "shuffledTrainData = shuffledData[:shuffledTrainDataMakeup]\n",
    "shuffledTestData = shuffledData[shuffledTrainDataMakeup:]\n"
   ]
  },
  {
   "cell_type": "markdown",
   "metadata": {},
   "source": [
    "How much does the training data make up of the actual dataset."
   ]
  },
  {
   "cell_type": "code",
   "execution_count": null,
   "metadata": {},
   "outputs": [],
   "source": [
    "print(f'Training data makeup: {shuffledTrainDataMakeup}\\n\\n')\n"
   ]
  },
  {
   "cell_type": "markdown",
   "metadata": {},
   "source": [
    "Details of the training data."
   ]
  },
  {
   "cell_type": "code",
   "execution_count": null,
   "metadata": {},
   "outputs": [],
   "source": [
    "print(f'Printing details of training data\\n\\nShape: {np.shape(shuffledTrainData)}\\n\\nData:\\n{shuffledTrainData}')\n"
   ]
  },
  {
   "cell_type": "markdown",
   "metadata": {},
   "source": [
    "Details of the testing data."
   ]
  },
  {
   "cell_type": "code",
   "execution_count": null,
   "metadata": {},
   "outputs": [],
   "source": [
    "print(f'Printing details of testing data\\n\\nShape: {np.shape(shuffledTestData)}\\n\\nData:\\n{shuffledTestData}')\n"
   ]
  },
  {
   "cell_type": "code",
   "execution_count": null,
   "metadata": {},
   "outputs": [],
   "source": [
    "X_train, y_train = X[shuffledTrainData], y[shuffledTrainData]\n",
    "X_test, y_test = X[shuffledTestData], y[shuffledTestData]\n"
   ]
  },
  {
   "cell_type": "markdown",
   "metadata": {},
   "source": [
    "Printing details of shuffled training and testing data"
   ]
  },
  {
   "cell_type": "code",
   "execution_count": null,
   "metadata": {
    "colab": {
     "base_uri": "https://localhost:8080/"
    },
    "id": "y612znKOZBe1",
    "outputId": "07bb4952-66b5-4ac9-e895-9076c0b6960a"
   },
   "outputs": [],
   "source": [
    "X_train.shape\n"
   ]
  },
  {
   "cell_type": "code",
   "execution_count": null,
   "metadata": {},
   "outputs": [],
   "source": [
    "X_train\n"
   ]
  },
  {
   "cell_type": "code",
   "execution_count": null,
   "metadata": {
    "colab": {
     "base_uri": "https://localhost:8080/"
    },
    "id": "qph9HFKGZE5I",
    "outputId": "5c47991d-c58f-4513-b43d-b547410de2c4"
   },
   "outputs": [],
   "source": [
    "X_test.shape\n"
   ]
  },
  {
   "cell_type": "code",
   "execution_count": null,
   "metadata": {},
   "outputs": [],
   "source": [
    "X_test\n"
   ]
  },
  {
   "cell_type": "markdown",
   "metadata": {},
   "source": [
    "## 1.4 Normalising data"
   ]
  },
  {
   "cell_type": "code",
   "execution_count": null,
   "metadata": {
    "id": "b6lDzsNjAD6Q"
   },
   "outputs": [],
   "source": [
    "mean, std = X_train.mean(dim=0), X_train.std(dim=0)\n",
    "\n",
    "X_train = (X_train - mean) / std\n",
    "X_test = (X_test - mean) / std\n"
   ]
  },
  {
   "cell_type": "markdown",
   "metadata": {},
   "source": [
    "---\n",
    "\n",
    "# 2. Building a Neural Network"
   ]
  },
  {
   "cell_type": "markdown",
   "metadata": {},
   "source": [
    "Importing libraries"
   ]
  },
  {
   "cell_type": "code",
   "execution_count": null,
   "metadata": {
    "id": "QDGeHX1VDcDG"
   },
   "outputs": [],
   "source": [
    "import torch.nn as nn\n",
    "from torch.autograd import grad\n"
   ]
  },
  {
   "cell_type": "markdown",
   "metadata": {},
   "source": [
    "Class definition for the neural network"
   ]
  },
  {
   "cell_type": "code",
   "execution_count": null,
   "metadata": {
    "id": "S5gFo5e-Dkon"
   },
   "outputs": [],
   "source": [
    "class NN():\n",
    "    def __init__(self, n_features):\n",
    "        self.n_features = n_features\n",
    "        self.weight = torch.zeros(\n",
    "            size=(n_features, 1), dtype=torch.float, requires_grad=True)\n",
    "        self.bias = torch.zeros(1, dtype=torch.float, requires_grad=True)\n",
    "\n",
    "    def forward(self, x):\n",
    "        output = torch.add(torch.mm(x, self.weight), self.bias)\n",
    "        return output.view(-1)\n"
   ]
  },
  {
   "cell_type": "markdown",
   "metadata": {},
   "source": [
    "Defining our loss function. Looks oddly similar to the mean square error function."
   ]
  },
  {
   "cell_type": "code",
   "execution_count": null,
   "metadata": {},
   "outputs": [],
   "source": [
    "def loss_fn(yHat, y):\n",
    "    return torch.mean((yHat - y) ** 2)"
   ]
  },
  {
   "cell_type": "markdown",
   "metadata": {},
   "source": [
    "Function to train the model returning the cost as a list."
   ]
  },
  {
   "cell_type": "code",
   "execution_count": null,
   "metadata": {
    "id": "W4VG658oG6Sk"
   },
   "outputs": [],
   "source": [
    "def train(model, x, y, n_epoch=10, lr=0.001, seed=23, bsz=50):\n",
    "    cost = []\n",
    "    torch.manual_seed(seed)\n",
    "    \n",
    "    for i in range(n_epoch):\n",
    "        shuffledData = torch.randperm(y.size(0))\n",
    "        batches = torch.split(shuffledData, bsz)\n",
    "\n",
    "        for idx in batches:\n",
    "            # 1. Compute the output\n",
    "            yHat = model.forward(x[idx])\n",
    "\n",
    "            # 2. Compute the Error\n",
    "            loss = loss_fn(yHat, y[idx])\n",
    "\n",
    "            # 3. Compute the gradient\n",
    "            grad_w = grad(loss, model.weight, retain_graph=True)[0]\n",
    "            grad_b = grad(loss, model.bias)[0]\n",
    "\n",
    "            # 4. Update Model Parameters\n",
    "            model.weight = model.weight - lr * grad_w\n",
    "            model.bias = model.bias - lr * grad_b\n",
    "\n",
    "        # 5. Log and print the loss\n",
    "        with torch.no_grad():\n",
    "            yHat = model.forward(x)\n",
    "            curr_loss = loss_fn(yHat, y)\n",
    "            \n",
    "            print('Epoch: %3d ' % (i + 1), end=\"\")\n",
    "            print('| MSE %.5f' % curr_loss)\n",
    "            \n",
    "            cost.append(curr_loss)\n",
    "\n",
    "    return cost\n"
   ]
  },
  {
   "cell_type": "markdown",
   "metadata": {},
   "source": [
    "Creating a neural network with 1 feature. Then training that neural net."
   ]
  },
  {
   "cell_type": "code",
   "execution_count": null,
   "metadata": {
    "colab": {
     "base_uri": "https://localhost:8080/"
    },
    "id": "pg5M3m31Fo39",
    "outputId": "50233a25-36e3-42f6-8117-5252501930c8"
   },
   "outputs": [],
   "source": [
    "model = NN(X_train.size(1))\n",
    "cost = train(model, X_train, y_train, n_epoch=50)\n"
   ]
  },
  {
   "cell_type": "markdown",
   "metadata": {},
   "source": [
    "Plotting the graph relating the epoch and error."
   ]
  },
  {
   "cell_type": "code",
   "execution_count": null,
   "metadata": {
    "colab": {
     "base_uri": "https://localhost:8080/",
     "height": 283
    },
    "id": "AUiMMWXeX2X6",
    "outputId": "b1901d29-9b95-434f-c1fb-a9b6e4d1872b"
   },
   "outputs": [],
   "source": [
    "import matplotlib.pyplot as plt\n",
    "\n",
    "plt.plot(range(len(cost)), cost)\n",
    "\n",
    "plt.ylabel('Mean Square Error')\n",
    "plt.xlabel('Epoch')\n",
    "\n",
    "plt.show()\n"
   ]
  },
  {
   "cell_type": "markdown",
   "metadata": {},
   "source": [
    "Calculating the training and testing accuracies."
   ]
  },
  {
   "cell_type": "code",
   "execution_count": null,
   "metadata": {},
   "outputs": [],
   "source": [
    "ones = torch.ones(y_train.size())\n",
    "zeros = torch.zeros(y_train.size())\n"
   ]
  },
  {
   "cell_type": "code",
   "execution_count": null,
   "metadata": {
    "colab": {
     "base_uri": "https://localhost:8080/"
    },
    "id": "noMdRIQnY2yD",
    "outputId": "798b447e-19e3-4e70-ec05-df2d4dd25edd"
   },
   "outputs": [],
   "source": [
    "train_pred = model.forward(X_train)\n",
    "train_acc = torch.mean((torch.where(train_pred > 0.5, ones, zeros).int() == y_train).float())\n",
    "\n",
    "ones = torch.ones(y_test.size())\n",
    "zeros = torch.zeros(y_test.size())\n",
    "\n",
    "test_pred = model.forward(X_test)\n",
    "test_acc = torch.mean((torch.where(test_pred > 0.5, ones, zeros).int() == y_test).float())\n",
    "\n",
    "print('Training Accuracy: %.2f' % (train_acc * 100))\n",
    "print('Testing Accuracy: %.2f' % (test_acc * 100))\n"
   ]
  },
  {
   "cell_type": "markdown",
   "metadata": {
    "id": "0jE4vxUqhE9S"
   },
   "source": [
    "---\n",
    "\n",
    "# 3. Model Using Pytorch"
   ]
  },
  {
   "cell_type": "code",
   "execution_count": null,
   "metadata": {
    "id": "y3lKWHDh3Z2E"
   },
   "outputs": [],
   "source": [
    "import torch\n",
    "import sklearn\n",
    "import torch.nn.functional as F\n"
   ]
  },
  {
   "cell_type": "code",
   "execution_count": null,
   "metadata": {
    "id": "mIvsPBpi3exX"
   },
   "outputs": [],
   "source": [
    "from sklearn.datasets import make_classification\n",
    "from sklearn.model_selection import train_test_split\n",
    "from sklearn.preprocessing import StandardScaler\n"
   ]
  },
  {
   "cell_type": "code",
   "execution_count": null,
   "metadata": {
    "id": "1JIHbj2035fP"
   },
   "outputs": [],
   "source": [
    "# Create The dataset\n",
    "X, y = make_classification(n_samples=1000, n_classes=2, n_features=4)\n",
    "\n",
    "# Normalize the Data\n",
    "scaler = StandardScaler()\n",
    "X = scaler.fit_transform(X)\n",
    "\n",
    "# Array to Tensor\n",
    "X = torch.tensor(X, dtype=torch.float32)\n",
    "y = torch.tensor(y, dtype=torch.float32)\n"
   ]
  },
  {
   "cell_type": "code",
   "execution_count": null,
   "metadata": {
    "colab": {
     "base_uri": "https://localhost:8080/"
    },
    "id": "vOTlEa224ok7",
    "outputId": "7d0e30ec-414b-47b5-a702-1af88a23c1b0"
   },
   "outputs": [],
   "source": [
    "X_train,X_test,y_train,y_test=train_test_split(X,y,test_size=.3,random_state=21)\n",
    "print(X_train.shape)\n",
    "print(X_test.shape)"
   ]
  },
  {
   "cell_type": "code",
   "execution_count": null,
   "metadata": {
    "id": "DNSgj7UkhIIK"
   },
   "outputs": [],
   "source": [
    "class NeuralNetworkPyTorch(nn.Module):\n",
    "    def __init__(self, n_features):\n",
    "        super(NeuralNetworkPyTorch, self).__init__()\n",
    "        self.linear = nn.Linear(n_features, 1)\n",
    "\n",
    "        self.linear.weight.detach().zero_()\n",
    "        self.linear.bias.detach().zero_()\n",
    "\n",
    "    def forward(self, x):\n",
    "        out = self.linear(x)\n",
    "        return out.view(-1)\n"
   ]
  },
  {
   "cell_type": "markdown",
   "metadata": {},
   "source": [
    "Overloaded function `train()` to train the neural network built using PyTorch."
   ]
  },
  {
   "cell_type": "code",
   "execution_count": null,
   "metadata": {
    "id": "HQNqqR33nsLH"
   },
   "outputs": [],
   "source": [
    "def train(model, x, y, n_epoch=10, lr=0.001, seed=23, bsz=50):\n",
    "    cost = []\n",
    "    torch.manual_seed(seed)\n",
    "    \n",
    "    # Optimizer\n",
    "    optimizer = torch.optim.SGD(model.parameters(), lr=lr)\n",
    "    for i in range(n_epoch):\n",
    "        shuffledData = torch.randperm(y.size(0))\n",
    "        batches = torch.split(shuffledData, bsz)\n",
    "\n",
    "        for idx in batches:\n",
    "            # 1. Compute the Output\n",
    "            yHat = model.forward(x[idx])\n",
    "\n",
    "            # 2. Compute the Loss\n",
    "            loss = torch.nn.functional.mse_loss(yHat, y[idx])\n",
    "\n",
    "            # 3. Compute the Gradients\n",
    "            optimizer.zero_grad()\n",
    "            loss.backward()\n",
    "\n",
    "            # 4. Update the Model Parameters\n",
    "            optimizer.step()\n",
    "\n",
    "            # model.weight=model.weight-lr*grad_w\n",
    "            # model.bias=model.bias-lr*grad_b\n",
    "\n",
    "        # 5. Log and print the Loss\n",
    "        with torch.no_grad():\n",
    "            yHat = model.forward(x)\n",
    "            curr_loss = loss_fn(yHat, y)\n",
    "            print('Epoch: %3d ' % (i + 1), end=\"\")\n",
    "            print('| MSE % .5f' % curr_loss)\n",
    "            cost.append(curr_loss)\n",
    "\n",
    "    return cost\n"
   ]
  },
  {
   "cell_type": "code",
   "execution_count": null,
   "metadata": {
    "id": "sPFjue7WlmW-"
   },
   "outputs": [],
   "source": [
    "n_feature = X_train.size(1)\n",
    "model = NeuralNetworkPyTorch(n_features=n_feature)\n"
   ]
  },
  {
   "cell_type": "code",
   "execution_count": null,
   "metadata": {
    "colab": {
     "base_uri": "https://localhost:8080/"
    },
    "id": "li9AFeIanQZS",
    "outputId": "f145db74-ccf1-44c1-9094-3f0976c4f715"
   },
   "outputs": [],
   "source": [
    "cost = train(model, X_train, y_train, n_epoch=50)\n"
   ]
  },
  {
   "cell_type": "code",
   "execution_count": null,
   "metadata": {
    "colab": {
     "base_uri": "https://localhost:8080/",
     "height": 296
    },
    "id": "U7FElcjK6m8I",
    "outputId": "47f7d6fd-5ae3-4624-d13d-5bed7b8f6241"
   },
   "outputs": [],
   "source": [
    "plt.plot(range(len(cost)), cost)\n",
    "plt.xlabel('No. of Epochs')\n",
    "plt.ylabel('Mean Squared Error')\n",
    "plt.plot()\n"
   ]
  },
  {
   "cell_type": "code",
   "execution_count": null,
   "metadata": {
    "colab": {
     "base_uri": "https://localhost:8080/"
    },
    "id": "gb4XmG8W7UjJ",
    "outputId": "0432b60a-b8ef-43aa-f984-72d115be05dc"
   },
   "outputs": [],
   "source": [
    "ones = torch.ones(y_train.size(0))\n",
    "zero = torch.zeros(y_train.size(0))\n",
    "train_pred = model.forward(X_train)\n",
    "\n",
    "train_acc = torch.mean(\n",
    "    (torch.where(train_pred > 0.5, ones, zero).int() == y_train).float())\n",
    "# print(train_acc)\n",
    "\n",
    "ones = torch.ones(y_test.size(0))\n",
    "zero = torch.zeros(y_test.size(0))\n",
    "test_pred = model.forward(X_test)\n",
    "\n",
    "test_acc = torch.mean(\n",
    "    (torch.where(test_pred > 0.5, ones, zero).int() == y_test).float())\n",
    "print('Training Accuracy : %.2f' % train_acc)\n",
    "print('Testing Accuracy: %.2f' % test_acc)\n"
   ]
  },
  {
   "cell_type": "markdown",
   "metadata": {
    "id": "Jw4-SmjGAwKw"
   },
   "source": [
    "---\n",
    "\n",
    "# 4. Logistic Regression"
   ]
  },
  {
   "cell_type": "code",
   "execution_count": null,
   "metadata": {
    "id": "fOvf9DILA0Vt"
   },
   "outputs": [],
   "source": [
    "def train(model, x, y, n_epoch=10, lr=0.001, seed=23, bsz=50):\n",
    "    cost = []\n",
    "    torch.manual_seed(seed)\n",
    "    # Optimizer\n",
    "    optimizer = torch.optim.SGD(model.parameters(), lr=lr)\n",
    "    for i in range(n_epoch):\n",
    "        shuffledData = torch.randperm(y.size(0))\n",
    "        batches = torch.split(shuffledData, bsz)\n",
    "\n",
    "        for idx in batches:\n",
    "            # 1. Compute the Output\n",
    "            yHat = model.forward(x[idx])\n",
    "\n",
    "            # 2. Compute the Loss\n",
    "            loss = torch.nn.functional.binary_cross_entropy(\n",
    "                torch.sigmoid(yHat), y[idx])\n",
    "\n",
    "            # 3. Compute the Gradients\n",
    "            optimizer.zero_grad()\n",
    "            loss.backward()\n",
    "\n",
    "            # 4. Update the Model Parameters\n",
    "            optimizer.step()\n",
    "\n",
    "            # model.weight=model.weight-lr*grad_w\n",
    "            # model.bias=model.bias-lr*grad_b\n",
    "\n",
    "        # 5. Log and print the Loss\n",
    "        with torch.no_grad():\n",
    "            yHat = model.forward(x)\n",
    "            curr_loss = loss_fn(yHat, y)\n",
    "            print('Epoch : %3d ' % (i + 1), end=\"\")\n",
    "            print('| MSE % .5f' % curr_loss)\n",
    "            cost.append(curr_loss)\n",
    "\n",
    "    return cost\n"
   ]
  },
  {
   "cell_type": "code",
   "execution_count": null,
   "metadata": {
    "id": "PIUIMhifBawi"
   },
   "outputs": [],
   "source": [
    "n_feature = X_train.size(1)\n",
    "model = NeuralNetworkPyTorch(n_features=n_feature)\n"
   ]
  },
  {
   "cell_type": "code",
   "execution_count": null,
   "metadata": {
    "colab": {
     "base_uri": "https://localhost:8080/"
    },
    "id": "0C-2cXsdBdVJ",
    "outputId": "ed9a77fd-d8ef-4f71-a847-b43084ba8542"
   },
   "outputs": [],
   "source": [
    "cost = train(model, X_train, y_train, n_epoch=50)\n"
   ]
  },
  {
   "cell_type": "code",
   "execution_count": null,
   "metadata": {
    "colab": {
     "base_uri": "https://localhost:8080/",
     "height": 296
    },
    "id": "Poh0lJYHBzdN",
    "outputId": "05690313-01fe-4f9f-ce45-5cc3a1eb05e2"
   },
   "outputs": [],
   "source": [
    "plt.plot(range(len(cost)), cost)\n",
    "plt.xlabel('Epoch')\n",
    "plt.ylabel('Mean Squared Error')\n",
    "plt.plot()\n"
   ]
  },
  {
   "cell_type": "code",
   "execution_count": null,
   "metadata": {
    "colab": {
     "base_uri": "https://localhost:8080/"
    },
    "id": "AwaMm8VzCmgc",
    "outputId": "2601e687-d501-49d6-8805-a6354afd42de"
   },
   "outputs": [],
   "source": [
    "ones = torch.ones(y_train.size(0))\n",
    "zero = torch.zeros(y_train.size(0))\n",
    "train_pred = model.forward(X_train)\n",
    "\n",
    "train_acc = torch.mean(\n",
    "    (torch.where(train_pred > 0.5, ones, zero).int() == y_train).float())\n",
    "# print(train_acc)\n",
    "\n",
    "ones = torch.ones(y_test.size(0))\n",
    "zero = torch.zeros(y_test.size(0))\n",
    "test_pred = model.forward(X_test)\n",
    "\n",
    "test_acc = torch.mean(\n",
    "    (torch.where(test_pred > 0.5, ones, zero).int() == y_test).float())\n",
    "print('Training Accuracy : %.2f' % train_acc)\n",
    "print('Testing Accuracy: %.2f' % test_acc)\n"
   ]
  }
 ],
 "metadata": {
  "colab": {
   "provenance": []
  },
  "kernelspec": {
   "display_name": "Python 3.10.7 64-bit",
   "language": "python",
   "name": "python3"
  },
  "language_info": {
   "codemirror_mode": {
    "name": "ipython",
    "version": 3
   },
   "file_extension": ".py",
   "mimetype": "text/x-python",
   "name": "python",
   "nbconvert_exporter": "python",
   "pygments_lexer": "ipython3",
   "version": "3.10.7"
  },
  "vscode": {
   "interpreter": {
    "hash": "3a00e68b57149134ce2b73879182c8cdd95184339958c7ea15c51bb9d3595f11"
   }
  }
 },
 "nbformat": 4,
 "nbformat_minor": 1
}
