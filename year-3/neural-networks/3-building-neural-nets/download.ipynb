{
 "cells": [
  {
   "cell_type": "markdown",
   "metadata": {},
   "source": [
    "# 0. Import dependencies"
   ]
  },
  {
   "cell_type": "code",
   "execution_count": 37,
   "metadata": {
    "id": "ZxfzVLDD8pOk"
   },
   "outputs": [],
   "source": [
    "import torch\n",
    "import sklearn\n",
    "import numpy as np\n",
    "import matplotlib.pyplot as plt\n"
   ]
  },
  {
   "cell_type": "code",
   "execution_count": 38,
   "metadata": {
    "colab": {
     "base_uri": "https://localhost:8080/"
    },
    "id": "Ychf-Ig284wF",
    "outputId": "f60b0215-f529-4850-a1ec-16290728ac56"
   },
   "outputs": [
    {
     "data": {
      "text/plain": [
       "<torch._C.Generator at 0x256efd91f50>"
      ]
     },
     "execution_count": 38,
     "metadata": {},
     "output_type": "execute_result"
    }
   ],
   "source": [
    "from sklearn.datasets import make_classification\n",
    "torch.manual_seed(123)\n"
   ]
  },
  {
   "cell_type": "markdown",
   "metadata": {},
   "source": [
    "# 1. Working with datasets"
   ]
  },
  {
   "cell_type": "markdown",
   "metadata": {},
   "source": [
    "## 1.1 Creating the datasets\n",
    "Creating a toy dataset with `sklearn.make_classification()`."
   ]
  },
  {
   "cell_type": "code",
   "execution_count": 39,
   "metadata": {
    "id": "1LxdPxns9Ax3"
   },
   "outputs": [],
   "source": [
    "# Make a Toy Dataset\n",
    "features = 4\n",
    "samples = 100000\n",
    "\n",
    "X, y = make_classification(n_samples=samples, n_features=features, n_classes=2)\n",
    "\n",
    "# Change it into the Tensor\n",
    "X = torch.tensor(X, dtype=torch.float32)\n",
    "y = torch.tensor(y, dtype=torch.float32)\n"
   ]
  },
  {
   "cell_type": "code",
   "execution_count": 40,
   "metadata": {},
   "outputs": [
    {
     "name": "stdout",
     "output_type": "stream",
     "text": [
      "X: 2 dim(s)\n",
      "Shape of X: torch.Size([100000, 4])\n",
      "tensor([[-0.8141,  0.8898, -0.6331, -1.1690],\n",
      "        [-0.9627, -1.5659, -1.4388,  2.1167],\n",
      "        [-1.0773,  0.4625, -1.0263, -0.5913],\n",
      "        ...,\n",
      "        [ 0.4604,  1.5521,  0.8998, -2.0858],\n",
      "        [-0.8777,  0.7416, -0.7399, -0.9693],\n",
      "        [-0.8461,  1.1429, -0.6005, -1.5064]])\n"
     ]
    }
   ],
   "source": [
    "print(f'X: {X.ndim} dim(s)\\n', 'Shape of X: ', np.shape(X), '\\n', X, sep='')"
   ]
  },
  {
   "cell_type": "code",
   "execution_count": 41,
   "metadata": {},
   "outputs": [
    {
     "name": "stdout",
     "output_type": "stream",
     "text": [
      "y: 1 dim(s)\n",
      "Shape of y: torch.Size([100000])\n",
      "tensor([0., 1., 0.,  ..., 0., 0., 0.])\n"
     ]
    }
   ],
   "source": [
    "print(f'y: {y.ndim} dim(s)\\n', 'Shape of y: ', np.shape(y), '\\n', y, sep='')"
   ]
  },
  {
   "cell_type": "markdown",
   "metadata": {},
   "source": [
    "## 1.2 Shuffling the datasets\n",
    "Shuffling using the `torch.randperm()` function. Learn more about this function [here](https://pytorch.org/docs/stable/generated/torch.randperm.html).\n",
    "\n",
    "Here, the first argument needs to be the size `n` in `int`. The `y.size()` simply won't work since the `torch.Tensor.size()` function returns the size as an object. We pass in the first dimension (0th) to retrieve size of the first dim in `int`. Values other than 0 won't work since this tensor only has one dim. "
   ]
  },
  {
   "cell_type": "code",
   "execution_count": 42,
   "metadata": {
    "colab": {
     "base_uri": "https://localhost:8080/"
    },
    "id": "iW3ACthE9UHy",
    "outputId": "78b58ca4-f620-4f96-f766-c485df103932"
   },
   "outputs": [
    {
     "name": "stdout",
     "output_type": "stream",
     "text": [
      "Sampled shuffled data:\n",
      "\n",
      "tensor([96937, 82237, 30716, 11299,  7300, 29850, 81165, 82223, 42625, 73309])\n"
     ]
    }
   ],
   "source": [
    "# Shuffling data\n",
    "torch.manual_seed(10)\n",
    "\n",
    "# Creating a shuffled dataset ranging from 0 to n - 1 (999)\n",
    "shuffledData = torch.randperm(y.size(0), dtype=torch.long)\n",
    "\n",
    "# Printing a sample from our shuffled data\n",
    "print(f'Sampled shuffled data:\\n\\n{shuffledData[:10]}')\n"
   ]
  },
  {
   "cell_type": "code",
   "execution_count": 43,
   "metadata": {},
   "outputs": [
    {
     "name": "stdout",
     "output_type": "stream",
     "text": [
      "Shuffled generated data:\n",
      "\n",
      "tensor([96937, 82237, 30716,  ..., 58528, 83057, 65854])\n"
     ]
    }
   ],
   "source": [
    "print(f'Shuffled generated data:\\n\\n{shuffledData}')"
   ]
  },
  {
   "cell_type": "markdown",
   "metadata": {},
   "source": [
    "We've created a list of indices that are sorted. Now mapping the shuffled indices to create a shuffled dataset."
   ]
  },
  {
   "cell_type": "code",
   "execution_count": 44,
   "metadata": {},
   "outputs": [],
   "source": [
    "X, y = X[shuffledData], y[shuffledData]"
   ]
  },
  {
   "cell_type": "code",
   "execution_count": 45,
   "metadata": {},
   "outputs": [
    {
     "name": "stdout",
     "output_type": "stream",
     "text": [
      "Shuffled X:\n",
      "\n",
      "tensor([[-1.3658,  0.0349, -1.4464, -0.0127],\n",
      "        [ 2.3995, -1.4548,  2.1738,  1.8846],\n",
      "        [-0.2680,  1.3485,  0.0698, -1.7956],\n",
      "        ...,\n",
      "        [-0.9784,  0.6792, -0.8637, -0.8835],\n",
      "        [ 1.6470, -0.6164,  1.5928,  0.7829],\n",
      "        [ 1.6071,  0.4765,  1.8384, -0.6767]])\n"
     ]
    }
   ],
   "source": [
    "print(f'Shuffled X:\\n\\n{X}')"
   ]
  },
  {
   "cell_type": "code",
   "execution_count": 46,
   "metadata": {},
   "outputs": [
    {
     "name": "stdout",
     "output_type": "stream",
     "text": [
      "Shuffled y:\n",
      "\n",
      "tensor([1., 1., 0.,  ..., 0., 1., 0.])\n"
     ]
    }
   ],
   "source": [
    "print(f'Shuffled y:\\n\\n{y}')\n"
   ]
  },
  {
   "cell_type": "markdown",
   "metadata": {},
   "source": [
    "## 1.3 Splitting the dataset into training and testing data"
   ]
  },
  {
   "cell_type": "markdown",
   "metadata": {},
   "source": [
    "### 1.3.1 Shuffling data"
   ]
  },
  {
   "cell_type": "code",
   "execution_count": 47,
   "metadata": {
    "id": "htyqar_O_gQS"
   },
   "outputs": [],
   "source": [
    "# Train Test split\n",
    "shuffledTrainDataMakeup = int(shuffledData.size(0) * 0.7)\n",
    "\n",
    "shuffledTrainData = shuffledData[:shuffledTrainDataMakeup]\n",
    "shuffledTestData = shuffledData[shuffledTrainDataMakeup:]\n"
   ]
  },
  {
   "cell_type": "markdown",
   "metadata": {},
   "source": [
    "How much does the training data make up of the actual dataset."
   ]
  },
  {
   "cell_type": "code",
   "execution_count": 48,
   "metadata": {},
   "outputs": [
    {
     "name": "stdout",
     "output_type": "stream",
     "text": [
      "Training data makeup: 70000\n",
      "\n",
      "\n"
     ]
    }
   ],
   "source": [
    "print(f'Training data makeup: {shuffledTrainDataMakeup}\\n\\n')\n"
   ]
  },
  {
   "cell_type": "markdown",
   "metadata": {},
   "source": [
    "Details of the training data."
   ]
  },
  {
   "cell_type": "code",
   "execution_count": 49,
   "metadata": {},
   "outputs": [
    {
     "name": "stdout",
     "output_type": "stream",
     "text": [
      "Printing details of training data\n",
      "\n",
      "Shape: torch.Size([70000])\n",
      "\n",
      "Data:\n",
      "tensor([96937, 82237, 30716,  ..., 23456, 97676, 18388])\n"
     ]
    }
   ],
   "source": [
    "print(f'Printing details of training data\\n\\nShape: {np.shape(shuffledTrainData)}\\n\\nData:\\n{shuffledTrainData}')\n"
   ]
  },
  {
   "cell_type": "markdown",
   "metadata": {},
   "source": [
    "Details of the testing data."
   ]
  },
  {
   "cell_type": "code",
   "execution_count": 50,
   "metadata": {},
   "outputs": [
    {
     "name": "stdout",
     "output_type": "stream",
     "text": [
      "Printing details of testing data\n",
      "\n",
      "Shape: torch.Size([30000])\n",
      "\n",
      "Data:\n",
      "tensor([37308, 87268,  2132,  ..., 58528, 83057, 65854])\n"
     ]
    }
   ],
   "source": [
    "print(f'Printing details of testing data\\n\\nShape: {np.shape(shuffledTestData)}\\n\\nData:\\n{shuffledTestData}')\n"
   ]
  },
  {
   "cell_type": "code",
   "execution_count": 51,
   "metadata": {},
   "outputs": [],
   "source": [
    "X_train, y_train = X[shuffledTrainData], y[shuffledTrainData]\n",
    "X_test, y_test = X[shuffledTestData], y[shuffledTestData]\n"
   ]
  },
  {
   "cell_type": "markdown",
   "metadata": {},
   "source": [
    "Printing details of shuffled training and testing data"
   ]
  },
  {
   "cell_type": "code",
   "execution_count": 52,
   "metadata": {
    "colab": {
     "base_uri": "https://localhost:8080/"
    },
    "id": "y612znKOZBe1",
    "outputId": "07bb4952-66b5-4ac9-e895-9076c0b6960a"
   },
   "outputs": [
    {
     "data": {
      "text/plain": [
       "torch.Size([70000, 4])"
      ]
     },
     "execution_count": 52,
     "metadata": {},
     "output_type": "execute_result"
    }
   ],
   "source": [
    "X_train.shape\n"
   ]
  },
  {
   "cell_type": "code",
   "execution_count": 53,
   "metadata": {},
   "outputs": [
    {
     "data": {
      "text/plain": [
       "tensor([[ 1.2485,  1.2927,  1.6713, -1.7587],\n",
       "        [ 1.3342, -1.2355,  1.0963,  1.6181],\n",
       "        [-0.3942,  0.5596, -0.2726, -0.7381],\n",
       "        ...,\n",
       "        [ 0.4756, -1.8497,  0.0193,  2.4602],\n",
       "        [ 0.6274, -1.4984,  0.2737,  1.9870],\n",
       "        [-1.0955, -1.3104, -1.5130,  1.7785]])"
      ]
     },
     "execution_count": 53,
     "metadata": {},
     "output_type": "execute_result"
    }
   ],
   "source": [
    "X_train\n"
   ]
  },
  {
   "cell_type": "code",
   "execution_count": 54,
   "metadata": {
    "colab": {
     "base_uri": "https://localhost:8080/"
    },
    "id": "qph9HFKGZE5I",
    "outputId": "5c47991d-c58f-4513-b43d-b547410de2c4"
   },
   "outputs": [
    {
     "data": {
      "text/plain": [
       "torch.Size([30000, 4])"
      ]
     },
     "execution_count": 54,
     "metadata": {},
     "output_type": "execute_result"
    }
   ],
   "source": [
    "X_test.shape\n"
   ]
  },
  {
   "cell_type": "code",
   "execution_count": 55,
   "metadata": {},
   "outputs": [
    {
     "data": {
      "text/plain": [
       "tensor([[ 0.2027,  0.6215,  0.3799, -0.8356],\n",
       "        [ 0.2609,  1.3324,  0.6293, -1.7872],\n",
       "        [ 1.8813, -0.9822,  1.7462,  1.2659],\n",
       "        ...,\n",
       "        [ 1.7531, -1.5651,  1.4558,  2.0482],\n",
       "        [-0.9293,  0.8635, -0.7628, -1.1310],\n",
       "        [-0.9098, -0.5218, -1.1072,  0.7200]])"
      ]
     },
     "execution_count": 55,
     "metadata": {},
     "output_type": "execute_result"
    }
   ],
   "source": [
    "X_test\n"
   ]
  },
  {
   "cell_type": "markdown",
   "metadata": {},
   "source": [
    "## 1.4 Normalising data"
   ]
  },
  {
   "cell_type": "code",
   "execution_count": 56,
   "metadata": {
    "id": "b6lDzsNjAD6Q"
   },
   "outputs": [],
   "source": [
    "mean, std = X_train.mean(0), X_train.std(0)\n",
    "\n",
    "X_train = (X_train - mean) / std\n",
    "X_test = (X_test - mean) / std\n"
   ]
  },
  {
   "cell_type": "code",
   "execution_count": 57,
   "metadata": {},
   "outputs": [
    {
     "data": {
      "text/plain": [
       "tensor([[-1.1335e-08, -3.2970e-09, -6.8801e-09, -1.2861e-08]])"
      ]
     },
     "execution_count": 57,
     "metadata": {},
     "output_type": "execute_result"
    }
   ],
   "source": [
    "X_train.mean(dim=0, keepdim=True)"
   ]
  },
  {
   "cell_type": "code",
   "execution_count": 58,
   "metadata": {},
   "outputs": [
    {
     "data": {
      "text/plain": [
       "tensor([[ 1.0564,  1.3119,  1.3871, -1.3443],\n",
       "        [ 1.1294, -1.2630,  0.9073,  1.2461],\n",
       "        [-0.3415,  0.5653, -0.2348, -0.5614],\n",
       "        ...,\n",
       "        [ 0.3986, -1.8884,  0.0087,  1.8920],\n",
       "        [ 0.5279, -1.5307,  0.2210,  1.5290],\n",
       "        [-0.9383, -1.3392, -1.2697,  1.3691]])"
      ]
     },
     "execution_count": 58,
     "metadata": {},
     "output_type": "execute_result"
    }
   ],
   "source": [
    "X_train"
   ]
  },
  {
   "cell_type": "code",
   "execution_count": 59,
   "metadata": {},
   "outputs": [
    {
     "data": {
      "text/plain": [
       "tensor([[-3.9436, -3.6881, -3.6129, -6.3443],\n",
       "        [-3.8706, -6.2630, -4.0927, -3.7539],\n",
       "        [-5.3415, -4.4347, -5.2348, -5.5614],\n",
       "        ...,\n",
       "        [-4.6014, -6.8884, -4.9913, -3.1080],\n",
       "        [-4.4721, -6.5307, -4.7790, -3.4710],\n",
       "        [-5.9383, -6.3392, -6.2697, -3.6309]])"
      ]
     },
     "execution_count": 59,
     "metadata": {},
     "output_type": "execute_result"
    }
   ],
   "source": [
    "X_train - 5"
   ]
  },
  {
   "cell_type": "code",
   "execution_count": 60,
   "metadata": {},
   "outputs": [
    {
     "data": {
      "image/png": "[encoded data removed]",
      "text/plain": [
       "<Figure size 640x480 with 1 Axes>"
      ]
     },
     "metadata": {},
     "output_type": "display_data"
    },
    {
     "data": {
      "image/png": "[encoded data removed]",
      "text/plain": [
       "<Figure size 640x480 with 1 Axes>"
      ]
     },
     "metadata": {},
     "output_type": "display_data"
    },
    {
     "data": {
      "image/png": "[encoded data removed]",
      "text/plain": [
       "<Figure size 640x480 with 1 Axes>"
      ]
     },
     "metadata": {},
     "output_type": "display_data"
    },
    {
     "data": {
      "image/png": "[encoded data removed]",
      "text/plain": [
       "<Figure size 640x480 with 1 Axes>"
      ]
     },
     "metadata": {},
     "output_type": "display_data"
    }
   ],
   "source": [
    "# plt.hist(X_train[0])\n",
    "for elt in range(features):\n",
    "    colList = [float(X_train[i][elt]) for i in range(len(X_train))]\n",
    "    colList\n",
    "\n",
    "    plt.hist(colList)\n",
    "    plt.show()\n"
   ]
  },
  {
   "cell_type": "code",
   "execution_count": 61,
   "metadata": {},
   "outputs": [
    {
     "data": {
      "text/plain": [
       "0.99999283320748"
      ]
     },
     "execution_count": 61,
     "metadata": {},
     "output_type": "execute_result"
    }
   ],
   "source": [
    "np.std(colList)"
   ]
  },
  {
   "cell_type": "markdown",
   "metadata": {},
   "source": [
    "---\n",
    "\n",
    "# 2. Building a Neural Network"
   ]
  },
  {
   "cell_type": "markdown",
   "metadata": {},
   "source": [
    "Importing libraries"
   ]
  },
  {
   "cell_type": "code",
   "execution_count": 62,
   "metadata": {
    "id": "QDGeHX1VDcDG"
   },
   "outputs": [],
   "source": [
    "import torch.nn as nn\n",
    "from torch.autograd import grad\n"
   ]
  },
  {
   "cell_type": "markdown",
   "metadata": {},
   "source": [
    "Class definition for the neural network"
   ]
  },
  {
   "cell_type": "code",
   "execution_count": 63,
   "metadata": {
    "id": "S5gFo5e-Dkon"
   },
   "outputs": [],
   "source": [
    "class NN():\n",
    "    def __init__(self, n_features):\n",
    "        self.n_features = n_features\n",
    "        self.weight = torch.zeros(\n",
    "            size=(n_features, 1), dtype=torch.float, requires_grad=True)\n",
    "        self.bias = torch.zeros(1, dtype=torch.float, requires_grad=True)\n",
    "\n",
    "    def forward(self, x):\n",
    "        output = torch.add(torch.mm(x, self.weight), self.bias)\n",
    "        return output.view(-1)\n"
   ]
  },
  {
   "cell_type": "markdown",
   "metadata": {},
   "source": [
    "Defining our loss function. Looks oddly similar to the mean square error function."
   ]
  },
  {
   "cell_type": "code",
   "execution_count": 64,
   "metadata": {},
   "outputs": [],
   "source": [
    "def loss_fn(yHat, y):\n",
    "    return torch.mean((yHat - y) ** 2)"
   ]
  },
  {
   "cell_type": "markdown",
   "metadata": {},
   "source": [
    "Function to train the model returning the cost as a list."
   ]
  },
  {
   "cell_type": "code",
   "execution_count": 65,
   "metadata": {
    "id": "W4VG658oG6Sk"
   },
   "outputs": [],
   "source": [
    "def train(model, x, y, n_epoch=10, lr=0.001, seed=23, bsz=50):\n",
    "    cost = []\n",
    "    torch.manual_seed(seed)\n",
    "    \n",
    "    for i in range(n_epoch):\n",
    "        shuffledData = torch.randperm(y.size(0))\n",
    "        batches = torch.split(shuffledData, bsz)\n",
    "\n",
    "        for idx in batches:\n",
    "            # 1. Compute the output\n",
    "            yHat = model.forward(x[idx])\n",
    "\n",
    "            # 2. Compute the Error\n",
    "            loss = loss_fn(yHat, y[idx])\n",
    "\n",
    "            # 3. Compute the gradient\n",
    "            grad_w = grad(loss, model.weight, retain_graph=True)[0]\n",
    "            grad_b = grad(loss, model.bias)[0]\n",
    "\n",
    "            # 4. Update Model Parameters\n",
    "            model.weight = model.weight - lr * grad_w\n",
    "            model.bias = model.bias - lr * grad_b\n",
    "\n",
    "        # 5. Log and print the loss\n",
    "        with torch.no_grad():\n",
    "            yHat = model.forward(x)\n",
    "            curr_loss = loss_fn(yHat, y)\n",
    "            \n",
    "            print('Epoch: %3d ' % (i + 1), end=\"\")\n",
    "            print('| MSE %.5f' % curr_loss)\n",
    "            \n",
    "            cost.append(curr_loss)\n",
    "\n",
    "    return cost\n"
   ]
  },
  {
   "cell_type": "markdown",
   "metadata": {},
   "source": [
    "Creating a neural network with 1 feature. Then training that neural net."
   ]
  },
  {
   "cell_type": "code",
   "execution_count": 66,
   "metadata": {
    "colab": {
     "base_uri": "https://localhost:8080/"
    },
    "id": "pg5M3m31Fo39",
    "outputId": "50233a25-36e3-42f6-8117-5252501930c8"
   },
   "outputs": [
    {
     "name": "stdout",
     "output_type": "stream",
     "text": [
      "Epoch:   1 | MSE 0.10668\n",
      "Epoch:   2 | MSE 0.10573\n",
      "Epoch:   3 | MSE 0.10572\n",
      "Epoch:   4 | MSE 0.10572\n",
      "Epoch:   5 | MSE 0.10574\n",
      "Epoch:   6 | MSE 0.10573\n",
      "Epoch:   7 | MSE 0.10573\n",
      "Epoch:   8 | MSE 0.10572\n",
      "Epoch:   9 | MSE 0.10572\n",
      "Epoch:  10 | MSE 0.10573\n",
      "Epoch:  11 | MSE 0.10572\n",
      "Epoch:  12 | MSE 0.10572\n",
      "Epoch:  13 | MSE 0.10572\n",
      "Epoch:  14 | MSE 0.10572\n",
      "Epoch:  15 | MSE 0.10573\n",
      "Epoch:  16 | MSE 0.10572\n",
      "Epoch:  17 | MSE 0.10573\n",
      "Epoch:  18 | MSE 0.10572\n",
      "Epoch:  19 | MSE 0.10573\n",
      "Epoch:  20 | MSE 0.10572\n",
      "Epoch:  21 | MSE 0.10573\n",
      "Epoch:  22 | MSE 0.10572\n",
      "Epoch:  23 | MSE 0.10573\n",
      "Epoch:  24 | MSE 0.10573\n",
      "Epoch:  25 | MSE 0.10573\n",
      "Epoch:  26 | MSE 0.10572\n",
      "Epoch:  27 | MSE 0.10572\n",
      "Epoch:  28 | MSE 0.10572\n",
      "Epoch:  29 | MSE 0.10573\n",
      "Epoch:  30 | MSE 0.10573\n",
      "Epoch:  31 | MSE 0.10572\n",
      "Epoch:  32 | MSE 0.10572\n",
      "Epoch:  33 | MSE 0.10572\n",
      "Epoch:  34 | MSE 0.10573\n",
      "Epoch:  35 | MSE 0.10574\n",
      "Epoch:  36 | MSE 0.10573\n",
      "Epoch:  37 | MSE 0.10572\n",
      "Epoch:  38 | MSE 0.10572\n",
      "Epoch:  39 | MSE 0.10574\n",
      "Epoch:  40 | MSE 0.10573\n",
      "Epoch:  41 | MSE 0.10572\n",
      "Epoch:  42 | MSE 0.10572\n",
      "Epoch:  43 | MSE 0.10573\n",
      "Epoch:  44 | MSE 0.10573\n",
      "Epoch:  45 | MSE 0.10572\n",
      "Epoch:  46 | MSE 0.10575\n",
      "Epoch:  47 | MSE 0.10572\n",
      "Epoch:  48 | MSE 0.10572\n",
      "Epoch:  49 | MSE 0.10572\n",
      "Epoch:  50 | MSE 0.10572\n"
     ]
    }
   ],
   "source": [
    "model = NN(X_train.size(1))\n",
    "cost = train(model, X_train, y_train, n_epoch=50)\n"
   ]
  },
  {
   "cell_type": "markdown",
   "metadata": {},
   "source": [
    "Plotting the graph relating the epoch and error."
   ]
  },
  {
   "cell_type": "code",
   "execution_count": 67,
   "metadata": {
    "colab": {
     "base_uri": "https://localhost:8080/",
     "height": 283
    },
    "id": "AUiMMWXeX2X6",
    "outputId": "b1901d29-9b95-434f-c1fb-a9b6e4d1872b"
   },
   "outputs": [
    {
     "data": {
      "image/png": "[encoded data removed]",
      "text/plain": [
       "<Figure size 640x480 with 1 Axes>"
      ]
     },
     "metadata": {},
     "output_type": "display_data"
    }
   ],
   "source": [
    "plt.plot(range(len(cost)), cost)\n",
    "\n",
    "plt.ylabel('Mean Square Error')\n",
    "plt.xlabel('Epoch')\n",
    "\n",
    "plt.show()\n"
   ]
  },
  {
   "cell_type": "markdown",
   "metadata": {},
   "source": [
    "Calculating the training and testing accuracies."
   ]
  },
  {
   "cell_type": "code",
   "execution_count": 68,
   "metadata": {},
   "outputs": [],
   "source": [
    "ones = torch.ones(y_train.size())\n",
    "zeros = torch.zeros(y_train.size())\n"
   ]
  },
  {
   "cell_type": "code",
   "execution_count": 69,
   "metadata": {
    "colab": {
     "base_uri": "https://localhost:8080/"
    },
    "id": "noMdRIQnY2yD",
    "outputId": "798b447e-19e3-4e70-ec05-df2d4dd25edd"
   },
   "outputs": [
    {
     "name": "stdout",
     "output_type": "stream",
     "text": [
      "Training Accuracy: 88.73\n",
      "Testing Accuracy: 88.86\n"
     ]
    }
   ],
   "source": [
    "train_pred = model.forward(X_train)\n",
    "train_acc = torch.mean((torch.where(train_pred > 0.5, ones, zeros).int() == y_train).float())\n",
    "\n",
    "ones = torch.ones(y_test.size())\n",
    "zeros = torch.zeros(y_test.size())\n",
    "\n",
    "test_pred = model.forward(X_test)\n",
    "test_acc = torch.mean((torch.where(test_pred > 0.5, ones, zeros).int() == y_test).float())\n",
    "\n",
    "print('Training Accuracy: %.2f' % (train_acc * 100))\n",
    "print('Testing Accuracy: %.2f' % (test_acc * 100))\n"
   ]
  },
  {
   "cell_type": "markdown",
   "metadata": {
    "id": "0jE4vxUqhE9S"
   },
   "source": [
    "---\n",
    "\n",
    "# 3. Model Using Pytorch"
   ]
  },
  {
   "cell_type": "code",
   "execution_count": 70,
   "metadata": {
    "id": "y3lKWHDh3Z2E"
   },
   "outputs": [],
   "source": [
    "import torch\n",
    "import sklearn\n",
    "import torch.nn.functional as F\n"
   ]
  },
  {
   "cell_type": "code",
   "execution_count": 71,
   "metadata": {
    "id": "mIvsPBpi3exX"
   },
   "outputs": [],
   "source": [
    "from sklearn.datasets import make_classification\n",
    "from sklearn.model_selection import train_test_split\n",
    "from sklearn.preprocessing import StandardScaler\n"
   ]
  },
  {
   "cell_type": "code",
   "execution_count": 72,
   "metadata": {
    "id": "1JIHbj2035fP"
   },
   "outputs": [],
   "source": [
    "# Create The dataset\n",
    "X, y = make_classification(n_samples=1000, n_classes=2, n_features=4)\n",
    "\n",
    "# Normalize the Data\n",
    "scaler = StandardScaler()\n",
    "X = scaler.fit_transform(X)\n",
    "\n",
    "# Array to Tensor\n",
    "X = torch.tensor(X, dtype=torch.float32)\n",
    "y = torch.tensor(y, dtype=torch.float32)\n"
   ]
  },
  {
   "cell_type": "code",
   "execution_count": 73,
   "metadata": {
    "colab": {
     "base_uri": "https://localhost:8080/"
    },
    "id": "vOTlEa224ok7",
    "outputId": "7d0e30ec-414b-47b5-a702-1af88a23c1b0"
   },
   "outputs": [
    {
     "name": "stdout",
     "output_type": "stream",
     "text": [
      "torch.Size([700, 4])\n",
      "torch.Size([300, 4])\n"
     ]
    }
   ],
   "source": [
    "X_train,X_test,y_train,y_test=train_test_split(X,y,test_size=.3,random_state=21)\n",
    "print(X_train.shape)\n",
    "print(X_test.shape)"
   ]
  },
  {
   "cell_type": "code",
   "execution_count": 74,
   "metadata": {
    "id": "DNSgj7UkhIIK"
   },
   "outputs": [],
   "source": [
    "class NeuralNetworkPyTorch(nn.Module):\n",
    "    def __init__(self, n_features):\n",
    "        super(NeuralNetworkPyTorch, self).__init__()\n",
    "        self.linear = nn.Linear(n_features, 1)\n",
    "\n",
    "        self.linear.weight.detach().zero_()\n",
    "        self.linear.bias.detach().zero_()\n",
    "\n",
    "    def forward(self, x):\n",
    "        out = self.linear(x)\n",
    "        return out.view(-1)\n"
   ]
  },
  {
   "cell_type": "markdown",
   "metadata": {},
   "source": [
    "Overloaded function `train()` to train the neural network built using PyTorch."
   ]
  },
  {
   "cell_type": "code",
   "execution_count": 75,
   "metadata": {
    "id": "HQNqqR33nsLH"
   },
   "outputs": [],
   "source": [
    "def train(model, x, y, n_epoch=10, lr=0.001, seed=23, bsz=50):\n",
    "    cost = []\n",
    "    torch.manual_seed(seed)\n",
    "    \n",
    "    # Optimizer\n",
    "    optimizer = torch.optim.SGD(model.parameters(), lr=lr)\n",
    "    for i in range(n_epoch):\n",
    "        shuffledData = torch.randperm(y.size(0))\n",
    "        batches = torch.split(shuffledData, bsz)\n",
    "\n",
    "        for idx in batches:\n",
    "            # 1. Compute the Output\n",
    "            yHat = model.forward(x[idx])\n",
    "\n",
    "            # 2. Compute the Loss\n",
    "            loss = torch.nn.functional.mse_loss(yHat, y[idx])\n",
    "\n",
    "            # 3. Compute the Gradients\n",
    "            optimizer.zero_grad()\n",
    "            loss.backward()\n",
    "\n",
    "            # 4. Update the Model Parameters\n",
    "            optimizer.step()\n",
    "\n",
    "            # model.weight=model.weight-lr*grad_w\n",
    "            # model.bias=model.bias-lr*grad_b\n",
    "\n",
    "        # 5. Log and print the Loss\n",
    "        with torch.no_grad():\n",
    "            yHat = model.forward(x)\n",
    "            curr_loss = loss_fn(yHat, y)\n",
    "            print('Epoch: %3d ' % (i + 1), end=\"\")\n",
    "            print('| MSE % .5f' % curr_loss)\n",
    "            cost.append(curr_loss)\n",
    "\n",
    "    return cost\n"
   ]
  },
  {
   "cell_type": "code",
   "execution_count": 76,
   "metadata": {
    "id": "sPFjue7WlmW-"
   },
   "outputs": [],
   "source": [
    "n_feature = X_train.size(1)\n",
    "model = NeuralNetworkPyTorch(n_features=n_feature)\n"
   ]
  },
  {
   "cell_type": "code",
   "execution_count": 77,
   "metadata": {
    "colab": {
     "base_uri": "https://localhost:8080/"
    },
    "id": "li9AFeIanQZS",
    "outputId": "f145db74-ccf1-44c1-9094-3f0976c4f715"
   },
   "outputs": [
    {
     "name": "stdout",
     "output_type": "stream",
     "text": [
      "Epoch:   1 | MSE  0.47993\n",
      "Epoch:   2 | MSE  0.44964\n",
      "Epoch:   3 | MSE  0.42176\n",
      "Epoch:   4 | MSE  0.39609\n",
      "Epoch:   5 | MSE  0.37243\n",
      "Epoch:   6 | MSE  0.35063\n",
      "Epoch:   7 | MSE  0.33051\n",
      "Epoch:   8 | MSE  0.31193\n",
      "Epoch:   9 | MSE  0.29478\n",
      "Epoch:  10 | MSE  0.27892\n",
      "Epoch:  11 | MSE  0.26424\n",
      "Epoch:  12 | MSE  0.25066\n",
      "Epoch:  13 | MSE  0.23808\n",
      "Epoch:  14 | MSE  0.22643\n",
      "Epoch:  15 | MSE  0.21562\n",
      "Epoch:  16 | MSE  0.20559\n",
      "Epoch:  17 | MSE  0.19629\n",
      "Epoch:  18 | MSE  0.18764\n",
      "Epoch:  19 | MSE  0.17960\n",
      "Epoch:  20 | MSE  0.17212\n",
      "Epoch:  21 | MSE  0.16516\n",
      "Epoch:  22 | MSE  0.15868\n",
      "Epoch:  23 | MSE  0.15265\n",
      "Epoch:  24 | MSE  0.14703\n",
      "Epoch:  25 | MSE  0.14178\n",
      "Epoch:  26 | MSE  0.13689\n",
      "Epoch:  27 | MSE  0.13233\n",
      "Epoch:  28 | MSE  0.12806\n",
      "Epoch:  29 | MSE  0.12407\n",
      "Epoch:  30 | MSE  0.12035\n",
      "Epoch:  31 | MSE  0.11687\n",
      "Epoch:  32 | MSE  0.11361\n",
      "Epoch:  33 | MSE  0.11056\n",
      "Epoch:  34 | MSE  0.10770\n",
      "Epoch:  35 | MSE  0.10502\n",
      "Epoch:  36 | MSE  0.10252\n",
      "Epoch:  37 | MSE  0.10017\n",
      "Epoch:  38 | MSE  0.09796\n",
      "Epoch:  39 | MSE  0.09589\n",
      "Epoch:  40 | MSE  0.09395\n",
      "Epoch:  41 | MSE  0.09213\n",
      "Epoch:  42 | MSE  0.09042\n",
      "Epoch:  43 | MSE  0.08882\n",
      "Epoch:  44 | MSE  0.08731\n",
      "Epoch:  45 | MSE  0.08589\n",
      "Epoch:  46 | MSE  0.08455\n",
      "Epoch:  47 | MSE  0.08330\n",
      "Epoch:  48 | MSE  0.08212\n",
      "Epoch:  49 | MSE  0.08101\n",
      "Epoch:  50 | MSE  0.07997\n"
     ]
    }
   ],
   "source": [
    "cost = train(model, X_train, y_train, n_epoch=50)\n"
   ]
  },
  {
   "cell_type": "code",
   "execution_count": 78,
   "metadata": {
    "colab": {
     "base_uri": "https://localhost:8080/",
     "height": 296
    },
    "id": "U7FElcjK6m8I",
    "outputId": "47f7d6fd-5ae3-4624-d13d-5bed7b8f6241"
   },
   "outputs": [
    {
     "data": {
      "text/plain": [
       "[]"
      ]
     },
     "execution_count": 78,
     "metadata": {},
     "output_type": "execute_result"
    },
    {
     "data": {
      "image/png": "[encoded data removed]",
      "text/plain": [
       "<Figure size 640x480 with 1 Axes>"
      ]
     },
     "metadata": {},
     "output_type": "display_data"
    }
   ],
   "source": [
    "plt.plot(range(len(cost)), cost)\n",
    "plt.xlabel('No. of Epochs')\n",
    "plt.ylabel('Mean Squared Error')\n",
    "plt.plot()\n"
   ]
  },
  {
   "cell_type": "code",
   "execution_count": 79,
   "metadata": {
    "colab": {
     "base_uri": "https://localhost:8080/"
    },
    "id": "gb4XmG8W7UjJ",
    "outputId": "0432b60a-b8ef-43aa-f984-72d115be05dc"
   },
   "outputs": [
    {
     "name": "stdout",
     "output_type": "stream",
     "text": [
      "Training Accuracy : 0.94\n",
      "Testing Accuracy: 0.92\n"
     ]
    }
   ],
   "source": [
    "ones = torch.ones(y_train.size(0))\n",
    "zero = torch.zeros(y_train.size(0))\n",
    "train_pred = model.forward(X_train)\n",
    "\n",
    "train_acc = torch.mean(\n",
    "    (torch.where(train_pred > 0.5, ones, zero).int() == y_train).float())\n",
    "# print(train_acc)\n",
    "\n",
    "ones = torch.ones(y_test.size(0))\n",
    "zero = torch.zeros(y_test.size(0))\n",
    "test_pred = model.forward(X_test)\n",
    "\n",
    "test_acc = torch.mean(\n",
    "    (torch.where(test_pred > 0.5, ones, zero).int() == y_test).float())\n",
    "print('Training Accuracy : %.2f' % train_acc)\n",
    "print('Testing Accuracy: %.2f' % test_acc)\n"
   ]
  },
  {
   "cell_type": "markdown",
   "metadata": {
    "id": "Jw4-SmjGAwKw"
   },
   "source": [
    "---\n",
    "\n",
    "# 4. Logistic Regression"
   ]
  },
  {
   "cell_type": "code",
   "execution_count": 80,
   "metadata": {
    "id": "fOvf9DILA0Vt"
   },
   "outputs": [],
   "source": [
    "def train(model, x, y, n_epoch=10, lr=0.001, seed=23, bsz=50):\n",
    "    cost = []\n",
    "    torch.manual_seed(seed)\n",
    "    # Optimizer\n",
    "    optimizer = torch.optim.SGD(model.parameters(), lr=lr)\n",
    "    for i in range(n_epoch):\n",
    "        shuffledData = torch.randperm(y.size(0))\n",
    "        batches = torch.split(shuffledData, bsz)\n",
    "\n",
    "        for idx in batches:\n",
    "            # 1. Compute the Output\n",
    "            yHat = model.forward(x[idx])\n",
    "\n",
    "            # 2. Compute the Loss\n",
    "            loss = torch.nn.functional.binary_cross_entropy(\n",
    "                torch.sigmoid(yHat), y[idx])\n",
    "\n",
    "            # 3. Compute the Gradients\n",
    "            optimizer.zero_grad()\n",
    "            loss.backward()\n",
    "\n",
    "            # 4. Update the Model Parameters\n",
    "            optimizer.step()\n",
    "\n",
    "            # model.weight=model.weight-lr*grad_w\n",
    "            # model.bias=model.bias-lr*grad_b\n",
    "\n",
    "        # 5. Log and print the Loss\n",
    "        with torch.no_grad():\n",
    "            yHat = model.forward(x)\n",
    "            curr_loss = loss_fn(yHat, y)\n",
    "            print('Epoch : %3d ' % (i + 1), end=\"\")\n",
    "            print('| MSE % .5f' % curr_loss)\n",
    "            cost.append(curr_loss)\n",
    "\n",
    "    return cost\n"
   ]
  },
  {
   "cell_type": "code",
   "execution_count": 81,
   "metadata": {
    "id": "PIUIMhifBawi"
   },
   "outputs": [],
   "source": [
    "n_feature = X_train.size(1)\n",
    "model = NeuralNetworkPyTorch(n_features=n_feature)\n"
   ]
  },
  {
   "cell_type": "code",
   "execution_count": 82,
   "metadata": {
    "colab": {
     "base_uri": "https://localhost:8080/"
    },
    "id": "0C-2cXsdBdVJ",
    "outputId": "ed9a77fd-d8ef-4f71-a847-b43084ba8542"
   },
   "outputs": [
    {
     "name": "stdout",
     "output_type": "stream",
     "text": [
      "Epoch :   1 | MSE  0.50297\n",
      "Epoch :   2 | MSE  0.49340\n",
      "Epoch :   3 | MSE  0.48416\n",
      "Epoch :   4 | MSE  0.47523\n",
      "Epoch :   5 | MSE  0.46661\n",
      "Epoch :   6 | MSE  0.45829\n",
      "Epoch :   7 | MSE  0.45027\n",
      "Epoch :   8 | MSE  0.44254\n",
      "Epoch :   9 | MSE  0.43510\n",
      "Epoch :  10 | MSE  0.42795\n",
      "Epoch :  11 | MSE  0.42107\n",
      "Epoch :  12 | MSE  0.41446\n",
      "Epoch :  13 | MSE  0.40813\n",
      "Epoch :  14 | MSE  0.40205\n",
      "Epoch :  15 | MSE  0.39624\n",
      "Epoch :  16 | MSE  0.39068\n",
      "Epoch :  17 | MSE  0.38536\n",
      "Epoch :  18 | MSE  0.38030\n",
      "Epoch :  19 | MSE  0.37547\n",
      "Epoch :  20 | MSE  0.37088\n",
      "Epoch :  21 | MSE  0.36652\n",
      "Epoch :  22 | MSE  0.36239\n",
      "Epoch :  23 | MSE  0.35848\n",
      "Epoch :  24 | MSE  0.35480\n",
      "Epoch :  25 | MSE  0.35133\n",
      "Epoch :  26 | MSE  0.34807\n",
      "Epoch :  27 | MSE  0.34501\n",
      "Epoch :  28 | MSE  0.34217\n",
      "Epoch :  29 | MSE  0.33952\n",
      "Epoch :  30 | MSE  0.33707\n",
      "Epoch :  31 | MSE  0.33481\n",
      "Epoch :  32 | MSE  0.33274\n",
      "Epoch :  33 | MSE  0.33086\n",
      "Epoch :  34 | MSE  0.32916\n",
      "Epoch :  35 | MSE  0.32764\n",
      "Epoch :  36 | MSE  0.32630\n",
      "Epoch :  37 | MSE  0.32513\n",
      "Epoch :  38 | MSE  0.32413\n",
      "Epoch :  39 | MSE  0.32330\n",
      "Epoch :  40 | MSE  0.32263\n",
      "Epoch :  41 | MSE  0.32212\n",
      "Epoch :  42 | MSE  0.32177\n",
      "Epoch :  43 | MSE  0.32158\n",
      "Epoch :  44 | MSE  0.32154\n",
      "Epoch :  45 | MSE  0.32165\n",
      "Epoch :  46 | MSE  0.32190\n",
      "Epoch :  47 | MSE  0.32230\n",
      "Epoch :  48 | MSE  0.32284\n",
      "Epoch :  49 | MSE  0.32352\n",
      "Epoch :  50 | MSE  0.32433\n"
     ]
    }
   ],
   "source": [
    "cost = train(model, X_train, y_train, n_epoch=50)\n"
   ]
  },
  {
   "cell_type": "code",
   "execution_count": 83,
   "metadata": {
    "colab": {
     "base_uri": "https://localhost:8080/",
     "height": 296
    },
    "id": "Poh0lJYHBzdN",
    "outputId": "05690313-01fe-4f9f-ce45-5cc3a1eb05e2"
   },
   "outputs": [
    {
     "data": {
      "text/plain": [
       "[]"
      ]
     },
     "execution_count": 83,
     "metadata": {},
     "output_type": "execute_result"
    },
    {
     "data": {
      "image/png": "[encoded data removed]",
      "text/plain": [
       "<Figure size 640x480 with 1 Axes>"
      ]
     },
     "metadata": {},
     "output_type": "display_data"
    }
   ],
   "source": [
    "plt.plot(range(len(cost)), cost)\n",
    "plt.xlabel('Epoch')\n",
    "plt.ylabel('Mean Squared Error')\n",
    "plt.plot()\n"
   ]
  },
  {
   "cell_type": "code",
   "execution_count": 84,
   "metadata": {
    "colab": {
     "base_uri": "https://localhost:8080/"
    },
    "id": "AwaMm8VzCmgc",
    "outputId": "2601e687-d501-49d6-8805-a6354afd42de"
   },
   "outputs": [
    {
     "name": "stdout",
     "output_type": "stream",
     "text": [
      "Training Accuracy : 0.62\n",
      "Testing Accuracy: 0.69\n"
     ]
    }
   ],
   "source": [
    "ones = torch.ones(y_train.size(0))\n",
    "zero = torch.zeros(y_train.size(0))\n",
    "train_pred = model.forward(X_train)\n",
    "\n",
    "train_acc = torch.mean(\n",
    "    (torch.where(train_pred > 0.5, ones, zero).int() == y_train).float())\n",
    "# print(train_acc)\n",
    "\n",
    "ones = torch.ones(y_test.size(0))\n",
    "zero = torch.zeros(y_test.size(0))\n",
    "test_pred = model.forward(X_test)\n",
    "\n",
    "test_acc = torch.mean(\n",
    "    (torch.where(test_pred > 0.5, ones, zero).int() == y_test).float())\n",
    "print('Training Accuracy : %.2f' % train_acc)\n",
    "print('Testing Accuracy: %.2f' % test_acc)\n"
   ]
  }
 ],
 "metadata": {
  "colab": {
   "provenance": []
  },
  "kernelspec": {
   "display_name": "Python 3.10.7 64-bit",
   "language": "python",
   "name": "python3"
  },
  "language_info": {
   "codemirror_mode": {
    "name": "ipython",
    "version": 3
   },
   "file_extension": ".py",
   "mimetype": "text/x-python",
   "name": "python",
   "nbconvert_exporter": "python",
   "pygments_lexer": "ipython3",
   "version": "3.10.7"
  },
  "vscode": {
   "interpreter": {
    "hash": "3a00e68b57149134ce2b73879182c8cdd95184339958c7ea15c51bb9d3595f11"
   }
  }
 },
 "nbformat": 4,
 "nbformat_minor": 1
}
