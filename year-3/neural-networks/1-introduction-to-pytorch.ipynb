{
  "cells": [
    {
      "cell_type": "markdown",
      "metadata": {
        "id": "2NHf_MddVwYp"
      },
      "source": [
        "## Importing library"
      ]
    },
    {
      "cell_type": "code",
      "execution_count": 1,
      "metadata": {
        "id": "2Tw8sIzKUNhW"
      },
      "outputs": [],
      "source": [
        "import numpy as np\n",
        "import torch"
      ]
    },
    {
      "cell_type": "markdown",
      "metadata": {
        "id": "Y-rytnJVVj-x"
      },
      "source": [
        "## Tensor (multi-dimensional matrix) operations\n",
        "[Official Docs](https://pytorch.org/docs/stable/torch.html)"
      ]
    },
    {
      "cell_type": "code",
      "execution_count": 2,
      "metadata": {
        "colab": {
          "base_uri": "https://localhost:8080/"
        },
        "id": "e6yuNpz5UaXv",
        "outputId": "586d4114-1be1-402c-c1b1-3efdce9ac557"
      },
      "outputs": [
        {
          "data": {
            "text/plain": [
              "tensor([[0., 0., 0.],\n",
              "        [0., 0., 0.],\n",
              "        [0., 0., 0.]])"
            ]
          },
          "execution_count": 2,
          "metadata": {},
          "output_type": "execute_result"
        }
      ],
      "source": [
        "# All elements of the matrix are 0s\n",
        "torch.zeros(3, 3)"
      ]
    },
    {
      "cell_type": "code",
      "execution_count": 3,
      "metadata": {
        "colab": {
          "base_uri": "https://localhost:8080/"
        },
        "id": "A6paLnNnUVwC",
        "outputId": "a63e4d9b-63c7-4e84-d05f-84acaab171e9"
      },
      "outputs": [
        {
          "data": {
            "text/plain": [
              "tensor([[1., 1., 1.],\n",
              "        [1., 1., 1.],\n",
              "        [1., 1., 1.]])"
            ]
          },
          "execution_count": 3,
          "metadata": {},
          "output_type": "execute_result"
        }
      ],
      "source": [
        "# All elements of the matrix are 1s\n",
        "torch.ones(3, 3)"
      ]
    },
    {
      "cell_type": "code",
      "execution_count": 4,
      "metadata": {
        "colab": {
          "base_uri": "https://localhost:8080/"
        },
        "id": "x_7gOaYUVeSZ",
        "outputId": "bf78393b-45cf-4c7d-da76-0357fcfa7299"
      },
      "outputs": [
        {
          "data": {
            "text/plain": [
              "tensor([ 0,  5, 10, 15, 20, 25, 30, 35, 40, 45, 50, 55, 60, 65, 70, 75, 80, 85,\n",
              "        90, 95])"
            ]
          },
          "execution_count": 4,
          "metadata": {},
          "output_type": "execute_result"
        }
      ],
      "source": [
        "# Return a generated sequence taking in step size\n",
        "torch.arange(0, 100, 5)"
      ]
    },
    {
      "cell_type": "code",
      "execution_count": 5,
      "metadata": {
        "colab": {
          "base_uri": "https://localhost:8080/"
        },
        "id": "Gv4fS_pqV908",
        "outputId": "044e175b-44ee-49fa-e25b-16e251f0748e"
      },
      "outputs": [
        {
          "data": {
            "text/plain": [
              "tensor([  0.,  25.,  50.,  75., 100.])"
            ]
          },
          "execution_count": 5,
          "metadata": {},
          "output_type": "execute_result"
        }
      ],
      "source": [
        "# Evenly splits the range into 'step' parts\n",
        "torch.linspace(0, 100, 5)"
      ]
    },
    {
      "cell_type": "code",
      "execution_count": 6,
      "metadata": {
        "colab": {
          "base_uri": "https://localhost:8080/"
        },
        "id": "P7f_UaeGWMEl",
        "outputId": "a5598312-5828-49e7-91b8-0070cec42d4e"
      },
      "outputs": [
        {
          "data": {
            "text/plain": [
              "tensor([[0., 0., 0., 0., 0.],\n",
              "        [0., 0., 0., 0., 0.]])"
            ]
          },
          "execution_count": 6,
          "metadata": {},
          "output_type": "execute_result"
        }
      ],
      "source": [
        "# Fills the array with uninitialized junk values\n",
        "torch.empty(2, 5)"
      ]
    },
    {
      "cell_type": "code",
      "execution_count": 7,
      "metadata": {
        "colab": {
          "base_uri": "https://localhost:8080/"
        },
        "id": "WWR0hh1-Wdkr",
        "outputId": "e947c334-428b-48b3-a820-d4f2efaf5919"
      },
      "outputs": [
        {
          "data": {
            "text/plain": [
              "tensor([ 1.5647, -0.4814,  0.3663, -0.0827,  0.4506, -0.0100,  0.2208,  0.4380,\n",
              "        -0.8832,  1.9941, -0.4689, -0.5195, -1.6247, -0.5719,  1.2447, -1.2387,\n",
              "         0.4997, -0.8289,  0.9411, -1.6943, -1.3683,  1.0729,  0.4659, -0.1005,\n",
              "        -0.3868,  1.4872,  1.0048, -0.6178,  0.6936,  0.6510, -1.1507,  0.0083,\n",
              "        -0.1438,  0.6819,  1.0505, -1.7031, -0.7201, -0.4874,  0.6360,  0.0680,\n",
              "         1.2025, -0.5299, -0.2822,  0.3232,  2.4200, -0.0880,  0.7375, -2.0175,\n",
              "        -0.2909,  0.8216, -0.7349, -1.1144, -0.5321, -0.5616, -0.7055, -0.0103,\n",
              "         0.6935,  0.4273,  0.9936,  1.9380, -0.8602, -0.4562, -0.4275, -0.6889,\n",
              "        -0.5076,  0.1171,  0.0478, -0.2138, -1.3140, -0.7005,  0.3728, -0.3876,\n",
              "        -0.9480,  0.0688,  1.5200, -0.5160, -2.6326, -0.2838, -1.4248,  1.7629,\n",
              "         2.5221,  0.0701, -0.9938,  0.0263,  0.5501, -0.6058,  0.1307,  0.1900,\n",
              "        -0.7646,  0.1090, -1.6075, -0.1580,  0.6117, -0.0216,  0.4558, -1.7660,\n",
              "         1.1205, -0.7137, -0.4524, -0.5949])"
            ]
          },
          "execution_count": 7,
          "metadata": {},
          "output_type": "execute_result"
        }
      ],
      "source": [
        "# Tensor filled with random numbers from std normal distribution\n",
        "torch.randn(100)"
      ]
    },
    {
      "cell_type": "code",
      "execution_count": 8,
      "metadata": {
        "colab": {
          "base_uri": "https://localhost:8080/"
        },
        "id": "kLdSKCiHXkq9",
        "outputId": "fd80b18a-60b2-4cc1-e34a-ffef4c932c61"
      },
      "outputs": [
        {
          "name": "stdout",
          "output_type": "stream",
          "text": [
            "tensor([[ 0.2636,  1.1678, -1.7163,  0.4773, -0.7164],\n",
            "        [ 0.1397, -2.1117, -1.6054, -0.0139, -0.0058],\n",
            "        [ 0.3316,  0.8241, -0.5208, -0.0857, -0.9031],\n",
            "        [-0.9871,  1.4010,  0.7044, -0.1591,  0.8179]]) \n",
            "\n",
            "Shape: torch.Size([4, 5])\n"
          ]
        }
      ],
      "source": [
        "m = torch.randn(4, 5)\n",
        "print(m, '\\n\\nShape:', m.shape)"
      ]
    },
    {
      "cell_type": "code",
      "execution_count": 9,
      "metadata": {
        "colab": {
          "base_uri": "https://localhost:8080/"
        },
        "id": "GHegnO7MgKrl",
        "outputId": "448126f5-17fe-4f61-b6ea-b3b760b5cdf8"
      },
      "outputs": [
        {
          "data": {
            "text/plain": [
              "tensor([1, 2, 3], dtype=torch.int32)"
            ]
          },
          "execution_count": 9,
          "metadata": {},
          "output_type": "execute_result"
        }
      ],
      "source": [
        "# Convert numpy array to tensor\n",
        "a = np.array(\n",
        "    [1, 2, 3]\n",
        ")\n",
        "a\n",
        "\n",
        "b = torch.from_numpy(a)\n",
        "b"
      ]
    },
    {
      "cell_type": "code",
      "execution_count": 10,
      "metadata": {
        "colab": {
          "base_uri": "https://localhost:8080/"
        },
        "id": "IYhRcp8ugoX_",
        "outputId": "34409d99-ca34-4e9a-fdc1-29a0f0e97d1c"
      },
      "outputs": [
        {
          "data": {
            "text/plain": [
              "tensor([[1., 0., 0., 0., 0.],\n",
              "        [0., 1., 0., 0., 0.],\n",
              "        [0., 0., 1., 0., 0.],\n",
              "        [0., 0., 0., 1., 0.],\n",
              "        [0., 0., 0., 0., 1.]])"
            ]
          },
          "execution_count": 10,
          "metadata": {},
          "output_type": "execute_result"
        }
      ],
      "source": [
        "# Creating a diagonal matrix with dimension as argument\n",
        "torch.eye(5)"
      ]
    },
    {
      "cell_type": "markdown",
      "metadata": {
        "id": "ejGx-7awipM5"
      },
      "source": [
        "## Tensor manipulation"
      ]
    },
    {
      "cell_type": "code",
      "execution_count": 11,
      "metadata": {
        "colab": {
          "base_uri": "https://localhost:8080/"
        },
        "id": "vwe_-crth35t",
        "outputId": "080904ca-7e4f-4043-b5b2-758f5326e670"
      },
      "outputs": [
        {
          "name": "stdout",
          "output_type": "stream",
          "text": [
            "tensor([1.+3.j, 2.+4.j])\n",
            "torch.complex64\n"
          ]
        }
      ],
      "source": [
        "# Working with complex numbers\n",
        "real = torch.tensor([1, 2], dtype=torch.float32)\n",
        "imag = torch.tensor([3, 4], dtype=torch.float32)\n",
        "z = torch.complex(real, imag)\n",
        "\n",
        "print(z, z.dtype, sep='\\n')"
      ]
    },
    {
      "cell_type": "code",
      "execution_count": 12,
      "metadata": {
        "colab": {
          "base_uri": "https://localhost:8080/"
        },
        "id": "pZkr70drhGKa",
        "outputId": "1e43c3ee-f3a8-4574-db3a-514b2561f0ab"
      },
      "outputs": [
        {
          "data": {
            "text/plain": [
              "tensor([ 6.1232e-17+1.0000j, -1.4142e+00-1.4142j], dtype=torch.complex128)"
            ]
          },
          "execution_count": 12,
          "metadata": {},
          "output_type": "execute_result"
        }
      ],
      "source": [
        "# Create initial tensor\n",
        "abs = torch.tensor([1, 2], dtype=torch.float64)\n",
        "\n",
        "# Creating angle tensor\n",
        "angle = torch.tensor([np.pi / 2, 5 * np.pi / 4], dtype=torch.float64)\n",
        "\n",
        "# out = abs⋅cos(angle) + abs⋅sin(angle) ⋅ j\n",
        "z = torch.polar(abs, angle)\n",
        "z\n",
        "\n",
        "# Note: Tensors are required to be float since polar does not take long/double input"
      ]
    },
    {
      "cell_type": "markdown",
      "metadata": {
        "id": "YO4NKpJ3j6kG"
      },
      "source": [
        "## Changing the dimensions using permutations"
      ]
    },
    {
      "cell_type": "code",
      "execution_count": 13,
      "metadata": {
        "colab": {
          "base_uri": "https://localhost:8080/"
        },
        "id": "6S2K3C9-hnUz",
        "outputId": "0bba8aed-d00d-4de9-d05c-c639c30c97cb"
      },
      "outputs": [
        {
          "name": "stdout",
          "output_type": "stream",
          "text": [
            "tensor([[[ 0.0021,  0.8766, -0.7802, -0.2591, -0.2573],\n",
            "         [ 0.2976,  0.7922, -0.3852, -0.9810, -0.0581],\n",
            "         [ 0.6139,  1.7068,  0.4340,  0.5337, -0.3592]],\n",
            "\n",
            "        [[ 1.3242,  1.1937, -1.2252,  1.5723,  1.1369],\n",
            "         [-0.4887,  0.2416,  0.1550, -0.2451,  0.0667],\n",
            "         [ 0.6897,  0.3954,  1.5126, -1.8175,  0.1613]]])\n",
            "\n",
            "torch.Size([2, 3, 5])\n"
          ]
        }
      ],
      "source": [
        "x = torch.randn(2, 3, 5)\n",
        "print(x, x.size(), sep='\\n\\n')"
      ]
    },
    {
      "cell_type": "code",
      "execution_count": 14,
      "metadata": {
        "colab": {
          "base_uri": "https://localhost:8080/"
        },
        "id": "AxczTOHXixN6",
        "outputId": "51dbcf4a-8a64-467b-81ba-fd7ebf3d459f"
      },
      "outputs": [
        {
          "data": {
            "text/plain": [
              "tensor([[[ 0.0021,  0.2976,  0.6139],\n",
              "         [ 1.3242, -0.4887,  0.6897]],\n",
              "\n",
              "        [[ 0.8766,  0.7922,  1.7068],\n",
              "         [ 1.1937,  0.2416,  0.3954]],\n",
              "\n",
              "        [[-0.7802, -0.3852,  0.4340],\n",
              "         [-1.2252,  0.1550,  1.5126]],\n",
              "\n",
              "        [[-0.2591, -0.9810,  0.5337],\n",
              "         [ 1.5723, -0.2451, -1.8175]],\n",
              "\n",
              "        [[-0.2573, -0.0581, -0.3592],\n",
              "         [ 1.1369,  0.0667,  0.1613]]])"
            ]
          },
          "execution_count": 14,
          "metadata": {},
          "output_type": "execute_result"
        }
      ],
      "source": [
        "torch.permute(x, (2, 0, 1))"
      ]
    },
    {
      "cell_type": "code",
      "execution_count": 15,
      "metadata": {
        "colab": {
          "base_uri": "https://localhost:8080/"
        },
        "id": "9RXSOGjSliVg",
        "outputId": "4e1b3368-ae8e-4494-c24d-524f825f6e55"
      },
      "outputs": [
        {
          "data": {
            "text/plain": [
              "tensor([[-0.2062, -0.0284,  1.5630,  0.7954,  1.5845],\n",
              "        [ 1.5999, -2.2548,  1.1825, -0.8476,  0.0107]])"
            ]
          },
          "execution_count": 15,
          "metadata": {},
          "output_type": "execute_result"
        }
      ],
      "source": [
        "x = torch.randn(2, 5)\n",
        "x"
      ]
    },
    {
      "cell_type": "code",
      "execution_count": 16,
      "metadata": {
        "id": "KbJWfxZ0lrwX"
      },
      "outputs": [],
      "source": [
        "transpose = x.t()"
      ]
    },
    {
      "cell_type": "code",
      "execution_count": 17,
      "metadata": {
        "colab": {
          "base_uri": "https://localhost:8080/"
        },
        "id": "alW-Apw7ly61",
        "outputId": "16f795db-5dcc-4477-e768-1fbb171b5cf4"
      },
      "outputs": [
        {
          "name": "stdout",
          "output_type": "stream",
          "text": [
            "Original tensor:\n",
            "tensor([[-0.2062, -0.0284,  1.5630,  0.7954,  1.5845],\n",
            "        [ 1.5999, -2.2548,  1.1825, -0.8476,  0.0107]])\n",
            "torch.Size([2, 5])\n",
            "\n",
            "Transposed tensor:\n",
            "tensor([[-0.2062,  1.5999],\n",
            "        [-0.0284, -2.2548],\n",
            "        [ 1.5630,  1.1825],\n",
            "        [ 0.7954, -0.8476],\n",
            "        [ 1.5845,  0.0107]])\n",
            "torch.Size([5, 2])\n"
          ]
        }
      ],
      "source": [
        "print('Original tensor:', x, x.shape, '\\nTransposed tensor:', transpose, transpose.shape, sep='\\n')"
      ]
    },
    {
      "cell_type": "markdown",
      "metadata": {
        "id": "T_SPZVMwlfsI"
      },
      "source": [
        "## Transpose with 3 dimensional tensors"
      ]
    },
    {
      "cell_type": "code",
      "execution_count": 18,
      "metadata": {
        "id": "wlgHUIXXkDi5"
      },
      "outputs": [],
      "source": [
        "x = torch.randn(2, 3, 5)"
      ]
    },
    {
      "cell_type": "code",
      "execution_count": 19,
      "metadata": {
        "id": "vrh0rRHakQBo"
      },
      "outputs": [],
      "source": [
        "transpose = torch.transpose(x, 0, 2)\n",
        "# transpose = torch.transpose(x, -1, 2)"
      ]
    },
    {
      "cell_type": "code",
      "execution_count": 20,
      "metadata": {
        "colab": {
          "base_uri": "https://localhost:8080/"
        },
        "id": "TtPtIi_rmwsp",
        "outputId": "98a3e6db-58cc-4dae-a1f5-817a0f1d180f"
      },
      "outputs": [
        {
          "name": "stdout",
          "output_type": "stream",
          "text": [
            "torch.Size([2, 3, 5])\n",
            "torch.Size([5, 3, 2])\n"
          ]
        }
      ],
      "source": [
        "# Updated shapes\n",
        "print(x.shape, transpose.shape, sep='\\n')"
      ]
    },
    {
      "cell_type": "code",
      "execution_count": 21,
      "metadata": {
        "colab": {
          "base_uri": "https://localhost:8080/"
        },
        "id": "1q7Dp1Arkaxy",
        "outputId": "29349026-98cd-4658-aaf9-ac8f3f73f876"
      },
      "outputs": [
        {
          "name": "stdout",
          "output_type": "stream",
          "text": [
            "Original tensor:\n",
            "tensor([[[-0.0273, -0.3957,  0.6319, -0.5524, -0.4849],\n",
            "         [-0.2877,  0.3376, -0.0850, -0.8156, -0.1943],\n",
            "         [-1.1009, -0.8948,  0.5928,  0.1279, -0.3758]],\n",
            "\n",
            "        [[ 0.5721,  0.1380, -1.1639, -0.1852, -0.3920],\n",
            "         [-0.8322,  0.1930,  0.6484, -0.1677, -0.5259],\n",
            "         [-0.2164, -1.6437,  1.3361,  0.7160, -0.6279]]])\n",
            "torch.Size([2, 3, 5])\n",
            "\n",
            "Transposed tensor:\n",
            "tensor([[[-0.0273,  0.5721],\n",
            "         [-0.2877, -0.8322],\n",
            "         [-1.1009, -0.2164]],\n",
            "\n",
            "        [[-0.3957,  0.1380],\n",
            "         [ 0.3376,  0.1930],\n",
            "         [-0.8948, -1.6437]],\n",
            "\n",
            "        [[ 0.6319, -1.1639],\n",
            "         [-0.0850,  0.6484],\n",
            "         [ 0.5928,  1.3361]],\n",
            "\n",
            "        [[-0.5524, -0.1852],\n",
            "         [-0.8156, -0.1677],\n",
            "         [ 0.1279,  0.7160]],\n",
            "\n",
            "        [[-0.4849, -0.3920],\n",
            "         [-0.1943, -0.5259],\n",
            "         [-0.3758, -0.6279]]])\n",
            "torch.Size([5, 3, 2])\n"
          ]
        }
      ],
      "source": [
        "print('Original tensor:', x, x.shape, '\\nTransposed tensor:', transpose, transpose.shape, sep='\\n')"
      ]
    }
  ],
  "metadata": {
    "colab": {
      "collapsed_sections": [],
      "name": "Neural Networks - Experiment 1 - Introduction to PyTorch.ipynb",
      "provenance": []
    },
    "kernelspec": {
      "display_name": "Python 3.9.7 ('base')",
      "language": "python",
      "name": "python3"
    },
    "language_info": {
      "codemirror_mode": {
        "name": "ipython",
        "version": 3
      },
      "file_extension": ".py",
      "mimetype": "text/x-python",
      "name": "python",
      "nbconvert_exporter": "python",
      "pygments_lexer": "ipython3",
      "version": "3.9.7"
    },
    "vscode": {
      "interpreter": {
        "hash": "f0b7333da218775e0d10eaa8939b9fba0a40c900e904e0630ec4f402e4ffc861"
      }
    }
  },
  "nbformat": 4,
  "nbformat_minor": 0
}
