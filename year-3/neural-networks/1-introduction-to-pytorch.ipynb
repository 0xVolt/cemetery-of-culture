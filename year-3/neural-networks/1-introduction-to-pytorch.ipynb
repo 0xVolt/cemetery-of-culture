{
  "cells": [
    {
      "cell_type": "markdown",
      "metadata": {
        "id": "uL4BqVKcVsRT"
      },
      "source": [
        "## Installing dependency"
      ]
    },
    {
      "cell_type": "code",
      "execution_count": 1,
      "metadata": {
        "colab": {
          "base_uri": "https://localhost:8080/"
        },
        "id": "zDGKbORdTvys",
        "outputId": "d92709e6-5c18-439d-e2b8-470103faf290"
      },
      "outputs": [
        {
          "name": "stdout",
          "output_type": "stream",
          "text": [
            "Requirement already satisfied: torch in c:\\users\\deshi\\anaconda3\\lib\\site-packages (1.12.1)\n",
            "Requirement already satisfied: typing-extensions in c:\\users\\deshi\\anaconda3\\lib\\site-packages (from torch) (3.10.0.2)\n",
            "Note: you may need to restart the kernel to use updated packages.\n"
          ]
        }
      ],
      "source": [
        "%pip install torch"
      ]
    },
    {
      "cell_type": "markdown",
      "metadata": {
        "id": "2NHf_MddVwYp"
      },
      "source": [
        "## Importing library"
      ]
    },
    {
      "cell_type": "code",
      "execution_count": 2,
      "metadata": {
        "id": "2Tw8sIzKUNhW"
      },
      "outputs": [],
      "source": [
        "import numpy as np\n",
        "import torch"
      ]
    },
    {
      "cell_type": "markdown",
      "metadata": {
        "id": "Y-rytnJVVj-x"
      },
      "source": [
        "## Tensor (multi-dimensional matrix) operations\n",
        "[Official Docs](https://pytorch.org/docs/stable/torch.html)"
      ]
    },
    {
      "cell_type": "code",
      "execution_count": 3,
      "metadata": {
        "colab": {
          "base_uri": "https://localhost:8080/"
        },
        "id": "e6yuNpz5UaXv",
        "outputId": "586d4114-1be1-402c-c1b1-3efdce9ac557"
      },
      "outputs": [
        {
          "data": {
            "text/plain": [
              "tensor([[0., 0., 0.],\n",
              "        [0., 0., 0.],\n",
              "        [0., 0., 0.]])"
            ]
          },
          "execution_count": 3,
          "metadata": {},
          "output_type": "execute_result"
        }
      ],
      "source": [
        "# All elements of the matrix are 0s\n",
        "torch.zeros(3, 3)"
      ]
    },
    {
      "cell_type": "code",
      "execution_count": 4,
      "metadata": {
        "colab": {
          "base_uri": "https://localhost:8080/"
        },
        "id": "A6paLnNnUVwC",
        "outputId": "a63e4d9b-63c7-4e84-d05f-84acaab171e9"
      },
      "outputs": [
        {
          "data": {
            "text/plain": [
              "tensor([[1., 1., 1.],\n",
              "        [1., 1., 1.],\n",
              "        [1., 1., 1.]])"
            ]
          },
          "execution_count": 4,
          "metadata": {},
          "output_type": "execute_result"
        }
      ],
      "source": [
        "# All elements of the matrix are 1s\n",
        "torch.ones(3, 3)"
      ]
    },
    {
      "cell_type": "code",
      "execution_count": 5,
      "metadata": {
        "colab": {
          "base_uri": "https://localhost:8080/"
        },
        "id": "x_7gOaYUVeSZ",
        "outputId": "bf78393b-45cf-4c7d-da76-0357fcfa7299"
      },
      "outputs": [
        {
          "data": {
            "text/plain": [
              "tensor([ 0,  5, 10, 15, 20, 25, 30, 35, 40, 45, 50, 55, 60, 65, 70, 75, 80, 85,\n",
              "        90, 95])"
            ]
          },
          "execution_count": 5,
          "metadata": {},
          "output_type": "execute_result"
        }
      ],
      "source": [
        "# Return a generated sequence taking in step size\n",
        "torch.arange(0, 100, 5)"
      ]
    },
    {
      "cell_type": "code",
      "execution_count": 6,
      "metadata": {
        "colab": {
          "base_uri": "https://localhost:8080/"
        },
        "id": "Gv4fS_pqV908",
        "outputId": "044e175b-44ee-49fa-e25b-16e251f0748e"
      },
      "outputs": [
        {
          "data": {
            "text/plain": [
              "tensor([  0.,  25.,  50.,  75., 100.])"
            ]
          },
          "execution_count": 6,
          "metadata": {},
          "output_type": "execute_result"
        }
      ],
      "source": [
        "# Evenly splits the range into 'step' parts\n",
        "torch.linspace(0, 100, 5)"
      ]
    },
    {
      "cell_type": "code",
      "execution_count": 7,
      "metadata": {
        "colab": {
          "base_uri": "https://localhost:8080/"
        },
        "id": "P7f_UaeGWMEl",
        "outputId": "a5598312-5828-49e7-91b8-0070cec42d4e"
      },
      "outputs": [
        {
          "data": {
            "text/plain": [
              "tensor([[0., 0., 0., 0., 0.],\n",
              "        [0., 0., 0., 0., 0.]])"
            ]
          },
          "execution_count": 7,
          "metadata": {},
          "output_type": "execute_result"
        }
      ],
      "source": [
        "# Fills the array with uninitialized junk values\n",
        "torch.empty(2, 5)"
      ]
    },
    {
      "cell_type": "code",
      "execution_count": 8,
      "metadata": {
        "colab": {
          "base_uri": "https://localhost:8080/"
        },
        "id": "WWR0hh1-Wdkr",
        "outputId": "e947c334-428b-48b3-a820-d4f2efaf5919"
      },
      "outputs": [
        {
          "data": {
            "text/plain": [
              "tensor([-0.1761,  0.4264, -0.5234, -0.7991,  0.1697,  0.3013, -0.6513, -0.0155,\n",
              "         0.4691,  2.3918,  0.0892,  0.3067,  1.6476, -0.2836, -0.4693, -0.0443,\n",
              "        -0.2166, -1.1753,  0.5210,  1.0145, -0.7908, -1.1932, -0.1147,  0.0948,\n",
              "         0.9060,  0.2691, -0.2881, -0.1211,  0.4187, -0.9039, -1.0561, -0.1452,\n",
              "        -2.7968, -0.7762,  1.8044,  0.7840,  1.8438, -1.1530, -1.1769,  0.3485,\n",
              "        -1.0314, -0.6899, -0.6418, -0.7536, -1.1358,  0.6572, -0.5576,  0.2138,\n",
              "         2.3914, -0.6485, -2.0754, -0.1190,  0.1363, -1.0390,  2.3835,  0.8431,\n",
              "        -0.3578,  0.2869,  0.8991,  0.3630, -2.6876, -0.5239,  1.2665, -0.8899,\n",
              "        -1.3211,  0.4772, -1.8095,  1.4289,  0.8889,  0.7524,  0.0173, -0.2507,\n",
              "         0.0895, -0.2275, -1.5944, -0.9221, -1.2665, -1.0646, -1.2795, -2.6949,\n",
              "        -0.5167, -0.1965, -0.6749, -0.0473, -0.2981,  1.7424,  0.4783,  0.2253,\n",
              "         1.8852,  0.9212,  0.9651,  0.5852,  0.8271, -1.7630,  0.0785,  0.6675,\n",
              "         0.3469,  1.0445, -0.7715,  1.5349])"
            ]
          },
          "execution_count": 8,
          "metadata": {},
          "output_type": "execute_result"
        }
      ],
      "source": [
        "# Tensor filled with random numbers from std normal distribution\n",
        "torch.randn(100)"
      ]
    },
    {
      "cell_type": "code",
      "execution_count": 9,
      "metadata": {
        "colab": {
          "base_uri": "https://localhost:8080/"
        },
        "id": "kLdSKCiHXkq9",
        "outputId": "fd80b18a-60b2-4cc1-e34a-ffef4c932c61"
      },
      "outputs": [
        {
          "name": "stdout",
          "output_type": "stream",
          "text": [
            "tensor([[-0.4407, -0.2326, -0.7568,  0.3849,  0.4791],\n",
            "        [ 0.0607,  0.0535,  0.2957,  1.4829, -0.4789],\n",
            "        [ 0.4685, -0.2522, -0.6476, -0.2932, -1.4677],\n",
            "        [ 0.8195,  0.8906, -1.9078, -1.1206, -0.1353]]) \n",
            "\n",
            "Shape: torch.Size([4, 5])\n"
          ]
        }
      ],
      "source": [
        "m = torch.randn(4, 5)\n",
        "print(m, '\\n\\nShape:', m.shape)"
      ]
    },
    {
      "cell_type": "code",
      "execution_count": 10,
      "metadata": {
        "colab": {
          "base_uri": "https://localhost:8080/"
        },
        "id": "GHegnO7MgKrl",
        "outputId": "448126f5-17fe-4f61-b6ea-b3b760b5cdf8"
      },
      "outputs": [
        {
          "data": {
            "text/plain": [
              "tensor([1, 2, 3], dtype=torch.int32)"
            ]
          },
          "execution_count": 10,
          "metadata": {},
          "output_type": "execute_result"
        }
      ],
      "source": [
        "# Convert numpy array to tensor\n",
        "a = np.array(\n",
        "    [1, 2, 3]\n",
        ")\n",
        "a\n",
        "b = torch.from_numpy(a)\n",
        "b"
      ]
    },
    {
      "cell_type": "code",
      "execution_count": 11,
      "metadata": {
        "colab": {
          "base_uri": "https://localhost:8080/"
        },
        "id": "IYhRcp8ugoX_",
        "outputId": "34409d99-ca34-4e9a-fdc1-29a0f0e97d1c"
      },
      "outputs": [
        {
          "data": {
            "text/plain": [
              "tensor([[1., 0., 0., 0., 0.],\n",
              "        [0., 1., 0., 0., 0.],\n",
              "        [0., 0., 1., 0., 0.],\n",
              "        [0., 0., 0., 1., 0.],\n",
              "        [0., 0., 0., 0., 1.]])"
            ]
          },
          "execution_count": 11,
          "metadata": {},
          "output_type": "execute_result"
        }
      ],
      "source": [
        "# Creating a diagonal matrix with dimension as argument\n",
        "torch.eye(5)"
      ]
    },
    {
      "cell_type": "markdown",
      "metadata": {
        "id": "ejGx-7awipM5"
      },
      "source": [
        "## Tensor manipulation"
      ]
    },
    {
      "cell_type": "code",
      "execution_count": 12,
      "metadata": {
        "colab": {
          "base_uri": "https://localhost:8080/"
        },
        "id": "vwe_-crth35t",
        "outputId": "080904ca-7e4f-4043-b5b2-758f5326e670"
      },
      "outputs": [
        {
          "name": "stdout",
          "output_type": "stream",
          "text": [
            "tensor([1.+3.j, 2.+4.j])\n",
            "torch.complex64\n"
          ]
        }
      ],
      "source": [
        "# Working with complex numbers\n",
        "real = torch.tensor([1, 2], dtype=torch.float32)\n",
        "imag = torch.tensor([3, 4], dtype=torch.float32)\n",
        "z = torch.complex(real, imag)\n",
        "\n",
        "print(z, z.dtype, sep='\\n')"
      ]
    },
    {
      "cell_type": "code",
      "execution_count": 13,
      "metadata": {
        "colab": {
          "base_uri": "https://localhost:8080/"
        },
        "id": "pZkr70drhGKa",
        "outputId": "1e43c3ee-f3a8-4574-db3a-514b2561f0ab"
      },
      "outputs": [
        {
          "data": {
            "text/plain": [
              "tensor([ 6.1232e-17+1.0000j, -1.4142e+00-1.4142j], dtype=torch.complex128)"
            ]
          },
          "execution_count": 13,
          "metadata": {},
          "output_type": "execute_result"
        }
      ],
      "source": [
        "# Create initial tensor\n",
        "abs = torch.tensor([1, 2], dtype=torch.float64)\n",
        "\n",
        "# Creating angle tensor\n",
        "angle = torch.tensor([np.pi / 2, 5 * np.pi / 4], dtype=torch.float64)\n",
        "\n",
        "# out = abs⋅cos(angle) + abs⋅sin(angle) ⋅ j\n",
        "z = torch.polar(abs, angle)\n",
        "z\n",
        "\n",
        "# Note: Tensors are required to be float since polar does not take long/double input"
      ]
    },
    {
      "cell_type": "markdown",
      "metadata": {
        "id": "YO4NKpJ3j6kG"
      },
      "source": [
        "## Changing the dimensions using permutations"
      ]
    },
    {
      "cell_type": "code",
      "execution_count": 14,
      "metadata": {
        "colab": {
          "base_uri": "https://localhost:8080/"
        },
        "id": "6S2K3C9-hnUz",
        "outputId": "0bba8aed-d00d-4de9-d05c-c639c30c97cb"
      },
      "outputs": [
        {
          "name": "stdout",
          "output_type": "stream",
          "text": [
            "tensor([[[ 0.5031,  1.0244,  0.2883,  0.1561, -1.4250],\n",
            "         [-1.4547,  1.2780, -0.9809,  1.5264, -1.0575],\n",
            "         [-0.0635, -0.5602,  0.7873,  0.2938,  0.4340]],\n",
            "\n",
            "        [[ 0.8156,  0.1266,  1.5631, -1.8182,  0.1202],\n",
            "         [ 0.2356, -0.3723,  0.8180,  0.9200, -1.3348],\n",
            "         [-0.1761, -0.3277,  1.1077,  0.9028,  0.4097]]])\n",
            "\n",
            "torch.Size([2, 3, 5])\n"
          ]
        }
      ],
      "source": [
        "x = torch.randn(2, 3, 5)\n",
        "print(x, x.size(), sep='\\n\\n')"
      ]
    },
    {
      "cell_type": "code",
      "execution_count": 15,
      "metadata": {
        "colab": {
          "base_uri": "https://localhost:8080/"
        },
        "id": "AxczTOHXixN6",
        "outputId": "51dbcf4a-8a64-467b-81ba-fd7ebf3d459f"
      },
      "outputs": [
        {
          "data": {
            "text/plain": [
              "tensor([[[ 0.5031, -1.4547, -0.0635],\n",
              "         [ 0.8156,  0.2356, -0.1761]],\n",
              "\n",
              "        [[ 1.0244,  1.2780, -0.5602],\n",
              "         [ 0.1266, -0.3723, -0.3277]],\n",
              "\n",
              "        [[ 0.2883, -0.9809,  0.7873],\n",
              "         [ 1.5631,  0.8180,  1.1077]],\n",
              "\n",
              "        [[ 0.1561,  1.5264,  0.2938],\n",
              "         [-1.8182,  0.9200,  0.9028]],\n",
              "\n",
              "        [[-1.4250, -1.0575,  0.4340],\n",
              "         [ 0.1202, -1.3348,  0.4097]]])"
            ]
          },
          "execution_count": 15,
          "metadata": {},
          "output_type": "execute_result"
        }
      ],
      "source": [
        "torch.permute(x, (2, 0, 1))"
      ]
    },
    {
      "cell_type": "code",
      "execution_count": 16,
      "metadata": {
        "colab": {
          "base_uri": "https://localhost:8080/"
        },
        "id": "9RXSOGjSliVg",
        "outputId": "4e1b3368-ae8e-4494-c24d-524f825f6e55"
      },
      "outputs": [
        {
          "data": {
            "text/plain": [
              "tensor([[-0.1640, -1.8198,  1.6562, -1.5932, -0.2742],\n",
              "        [-1.3684,  0.4973, -0.6079,  1.0625,  0.3146]])"
            ]
          },
          "execution_count": 16,
          "metadata": {},
          "output_type": "execute_result"
        }
      ],
      "source": [
        "x = torch.randn(2, 5)\n",
        "x"
      ]
    },
    {
      "cell_type": "code",
      "execution_count": 17,
      "metadata": {
        "id": "KbJWfxZ0lrwX"
      },
      "outputs": [],
      "source": [
        "transpose = x.t()"
      ]
    },
    {
      "cell_type": "code",
      "execution_count": 18,
      "metadata": {
        "colab": {
          "base_uri": "https://localhost:8080/"
        },
        "id": "alW-Apw7ly61",
        "outputId": "16f795db-5dcc-4477-e768-1fbb171b5cf4"
      },
      "outputs": [
        {
          "name": "stdout",
          "output_type": "stream",
          "text": [
            "Original tensor:\n",
            "tensor([[-0.1640, -1.8198,  1.6562, -1.5932, -0.2742],\n",
            "        [-1.3684,  0.4973, -0.6079,  1.0625,  0.3146]])\n",
            "torch.Size([2, 5])\n",
            "\n",
            "Transposed tensor:\n",
            "tensor([[-0.1640, -1.3684],\n",
            "        [-1.8198,  0.4973],\n",
            "        [ 1.6562, -0.6079],\n",
            "        [-1.5932,  1.0625],\n",
            "        [-0.2742,  0.3146]])\n",
            "torch.Size([5, 2])\n"
          ]
        }
      ],
      "source": [
        "print('Original tensor:', x, x.shape, '\\nTransposed tensor:', transpose, transpose.shape, sep='\\n')"
      ]
    },
    {
      "cell_type": "markdown",
      "metadata": {
        "id": "T_SPZVMwlfsI"
      },
      "source": [
        "## Transpose with 3 dimensional tensors"
      ]
    },
    {
      "cell_type": "code",
      "execution_count": 19,
      "metadata": {
        "id": "wlgHUIXXkDi5"
      },
      "outputs": [],
      "source": [
        "x = torch.randn(2, 3, 5)"
      ]
    },
    {
      "cell_type": "code",
      "execution_count": 20,
      "metadata": {
        "id": "vrh0rRHakQBo"
      },
      "outputs": [],
      "source": [
        "transpose = torch.transpose(x, 0, 2)\n",
        "# transpose = torch.transpose(x, -1, 2)"
      ]
    },
    {
      "cell_type": "code",
      "execution_count": 21,
      "metadata": {
        "colab": {
          "base_uri": "https://localhost:8080/"
        },
        "id": "TtPtIi_rmwsp",
        "outputId": "98a3e6db-58cc-4dae-a1f5-817a0f1d180f"
      },
      "outputs": [
        {
          "name": "stdout",
          "output_type": "stream",
          "text": [
            "torch.Size([2, 3, 5])\n",
            "torch.Size([5, 3, 2])\n"
          ]
        }
      ],
      "source": [
        "# Updated shapes\n",
        "print(x.shape, transpose.shape, sep='\\n')"
      ]
    },
    {
      "cell_type": "code",
      "execution_count": 22,
      "metadata": {
        "colab": {
          "base_uri": "https://localhost:8080/"
        },
        "id": "1q7Dp1Arkaxy",
        "outputId": "29349026-98cd-4658-aaf9-ac8f3f73f876"
      },
      "outputs": [
        {
          "name": "stdout",
          "output_type": "stream",
          "text": [
            "Original tensor:\n",
            "tensor([[[ 1.5083, -0.6501, -0.9240, -0.7150,  0.1747],\n",
            "         [ 0.5238, -0.0807,  1.6389,  0.5889,  1.0357],\n",
            "         [ 0.7930, -2.0331,  1.2977, -1.7428, -0.2422]],\n",
            "\n",
            "        [[ 0.7218, -1.6971,  1.1330, -1.0758,  0.0098],\n",
            "         [ 1.2187, -0.0834, -0.0467, -0.8476, -1.1706],\n",
            "         [-0.0552,  1.5400,  1.9600,  1.6548, -1.8948]]])\n",
            "torch.Size([2, 3, 5])\n",
            "\n",
            "Transposed tensor:\n",
            "tensor([[[ 1.5083,  0.7218],\n",
            "         [ 0.5238,  1.2187],\n",
            "         [ 0.7930, -0.0552]],\n",
            "\n",
            "        [[-0.6501, -1.6971],\n",
            "         [-0.0807, -0.0834],\n",
            "         [-2.0331,  1.5400]],\n",
            "\n",
            "        [[-0.9240,  1.1330],\n",
            "         [ 1.6389, -0.0467],\n",
            "         [ 1.2977,  1.9600]],\n",
            "\n",
            "        [[-0.7150, -1.0758],\n",
            "         [ 0.5889, -0.8476],\n",
            "         [-1.7428,  1.6548]],\n",
            "\n",
            "        [[ 0.1747,  0.0098],\n",
            "         [ 1.0357, -1.1706],\n",
            "         [-0.2422, -1.8948]]])\n",
            "torch.Size([5, 3, 2])\n"
          ]
        }
      ],
      "source": [
        "print('Original tensor:', x, x.shape, '\\nTransposed tensor:', transpose, transpose.shape, sep='\\n')"
      ]
    },
    {
      "cell_type": "code",
      "execution_count": null,
      "metadata": {
        "id": "xPa2uNyRmfDi"
      },
      "outputs": [],
      "source": []
    }
  ],
  "metadata": {
    "colab": {
      "collapsed_sections": [],
      "name": "Neural Networks - Experiment 1 - Introduction to PyTorch.ipynb",
      "provenance": []
    },
    "kernelspec": {
      "display_name": "Python 3.9.7 ('base')",
      "language": "python",
      "name": "python3"
    },
    "language_info": {
      "codemirror_mode": {
        "name": "ipython",
        "version": 3
      },
      "file_extension": ".py",
      "mimetype": "text/x-python",
      "name": "python",
      "nbconvert_exporter": "python",
      "pygments_lexer": "ipython3",
      "version": "3.9.7"
    },
    "vscode": {
      "interpreter": {
        "hash": "f0b7333da218775e0d10eaa8939b9fba0a40c900e904e0630ec4f402e4ffc861"
      }
    }
  },
  "nbformat": 4,
  "nbformat_minor": 0
}
