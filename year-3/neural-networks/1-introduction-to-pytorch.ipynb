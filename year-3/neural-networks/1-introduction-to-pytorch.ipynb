{
  "cells": [
    {
      "cell_type": "markdown",
      "metadata": {},
      "source": [
        "# Neural Networks - Experiment 1\n",
        "---\n",
        "## Objectives\n",
        "#### Explore the tools with different options like\n",
        "- Installation\n",
        "- Tensor creation and deletion\n",
        "- Tensor manipulation\n",
        "---"
      ]
    },
    {
      "cell_type": "markdown",
      "metadata": {},
      "source": [
        "## Installing dependencies"
      ]
    },
    {
      "cell_type": "code",
      "execution_count": 9,
      "metadata": {},
      "outputs": [
        {
          "name": "stdout",
          "output_type": "stream",
          "text": [
            "Requirement already satisfied: torch in c:\\users\\deshi\\appdata\\local\\programs\\python\\python310\\lib\\site-packages (1.12.1)\n",
            "Requirement already satisfied: typing-extensions in c:\\users\\deshi\\appdata\\local\\programs\\python\\python310\\lib\\site-packages (from torch) (4.0.1)\n",
            "Note: you may need to restart the kernel to use updated packages.\n"
          ]
        },
        {
          "name": "stderr",
          "output_type": "stream",
          "text": [
            "WARNING: You are using pip version 21.3.1; however, version 22.2.2 is available.\n",
            "You should consider upgrading via the 'c:\\Users\\deshi\\AppData\\Local\\Programs\\Python\\Python310\\python.exe -m pip install --upgrade pip' command.\n"
          ]
        }
      ],
      "source": [
        "%pip install torch"
      ]
    },
    {
      "cell_type": "markdown",
      "metadata": {
        "id": "2NHf_MddVwYp"
      },
      "source": [
        "## Importing libraries"
      ]
    },
    {
      "cell_type": "code",
      "execution_count": 10,
      "metadata": {
        "id": "2Tw8sIzKUNhW"
      },
      "outputs": [],
      "source": [
        "import numpy as np\n",
        "import torch"
      ]
    },
    {
      "cell_type": "markdown",
      "metadata": {
        "id": "Y-rytnJVVj-x"
      },
      "source": [
        "## Tensor (multi-dimensional matrix) operations\n",
        "[Official Docs](https://pytorch.org/docs/stable/torch.html)"
      ]
    },
    {
      "cell_type": "code",
      "execution_count": 11,
      "metadata": {
        "colab": {
          "base_uri": "https://localhost:8080/"
        },
        "id": "e6yuNpz5UaXv",
        "outputId": "586d4114-1be1-402c-c1b1-3efdce9ac557"
      },
      "outputs": [
        {
          "name": "stderr",
          "output_type": "stream",
          "text": [
            "C:\\Users\\deshi\\AppData\\Local\\Temp\\ipykernel_1464\\3616952649.py:2: UserWarning: Failed to initialize NumPy: module compiled against API version 0x10 but this version of numpy is 0xe (Triggered internally at  ..\\torch\\csrc\\utils\\tensor_numpy.cpp:68.)\n",
            "  torch.zeros(3, 3)\n"
          ]
        },
        {
          "data": {
            "text/plain": [
              "tensor([[0., 0., 0.],\n",
              "        [0., 0., 0.],\n",
              "        [0., 0., 0.]])"
            ]
          },
          "execution_count": 11,
          "metadata": {},
          "output_type": "execute_result"
        }
      ],
      "source": [
        "# All elements of the matrix are 0s\n",
        "torch.zeros(3, 3)"
      ]
    },
    {
      "cell_type": "code",
      "execution_count": 12,
      "metadata": {
        "colab": {
          "base_uri": "https://localhost:8080/"
        },
        "id": "A6paLnNnUVwC",
        "outputId": "a63e4d9b-63c7-4e84-d05f-84acaab171e9"
      },
      "outputs": [
        {
          "data": {
            "text/plain": [
              "tensor([[1., 1., 1.],\n",
              "        [1., 1., 1.],\n",
              "        [1., 1., 1.]])"
            ]
          },
          "execution_count": 12,
          "metadata": {},
          "output_type": "execute_result"
        }
      ],
      "source": [
        "# All elements of the matrix are 1s\n",
        "torch.ones(3, 3)"
      ]
    },
    {
      "cell_type": "code",
      "execution_count": 13,
      "metadata": {
        "colab": {
          "base_uri": "https://localhost:8080/"
        },
        "id": "x_7gOaYUVeSZ",
        "outputId": "bf78393b-45cf-4c7d-da76-0357fcfa7299"
      },
      "outputs": [
        {
          "data": {
            "text/plain": [
              "tensor([ 0,  5, 10, 15, 20, 25, 30, 35, 40, 45, 50, 55, 60, 65, 70, 75, 80, 85,\n",
              "        90, 95])"
            ]
          },
          "execution_count": 13,
          "metadata": {},
          "output_type": "execute_result"
        }
      ],
      "source": [
        "# Return a generated sequence taking in step size\n",
        "torch.arange(0, 100, 5)"
      ]
    },
    {
      "cell_type": "code",
      "execution_count": 14,
      "metadata": {
        "colab": {
          "base_uri": "https://localhost:8080/"
        },
        "id": "Gv4fS_pqV908",
        "outputId": "044e175b-44ee-49fa-e25b-16e251f0748e"
      },
      "outputs": [
        {
          "data": {
            "text/plain": [
              "tensor([  0.,  25.,  50.,  75., 100.])"
            ]
          },
          "execution_count": 14,
          "metadata": {},
          "output_type": "execute_result"
        }
      ],
      "source": [
        "# Evenly splits the range into 'step' parts\n",
        "torch.linspace(0, 100, 5)"
      ]
    },
    {
      "cell_type": "code",
      "execution_count": 15,
      "metadata": {
        "colab": {
          "base_uri": "https://localhost:8080/"
        },
        "id": "P7f_UaeGWMEl",
        "outputId": "a5598312-5828-49e7-91b8-0070cec42d4e"
      },
      "outputs": [
        {
          "data": {
            "text/plain": [
              "tensor([[9.2755e-39, 8.9082e-39, 9.9184e-39, 8.4490e-39, 9.6429e-39],\n",
              "        [1.0653e-38, 1.0469e-38, 4.2246e-39, 1.0378e-38, 9.6429e-39]])"
            ]
          },
          "execution_count": 15,
          "metadata": {},
          "output_type": "execute_result"
        }
      ],
      "source": [
        "# Fills the array with uninitialized junk values\n",
        "torch.empty(2, 5)"
      ]
    },
    {
      "cell_type": "code",
      "execution_count": 16,
      "metadata": {
        "colab": {
          "base_uri": "https://localhost:8080/"
        },
        "id": "WWR0hh1-Wdkr",
        "outputId": "e947c334-428b-48b3-a820-d4f2efaf5919"
      },
      "outputs": [
        {
          "data": {
            "text/plain": [
              "tensor([-0.1441,  0.4931,  0.0137,  0.1780, -0.0784,  0.0580,  1.6141, -0.2540,\n",
              "         0.9326,  0.9732, -0.8747,  1.5478,  0.3667, -1.0240,  0.3575,  1.0673,\n",
              "         1.0658,  1.0231, -0.4595, -0.9641, -0.1061,  0.3347,  1.4528,  1.4684,\n",
              "         1.6532,  0.1425,  1.3478, -1.3161,  1.6304,  0.2816, -1.2346,  0.3824,\n",
              "        -2.2219,  2.6061, -0.1366, -0.8252,  1.2990, -1.2658,  0.4100,  0.1592,\n",
              "         0.4771,  0.5210, -0.8022,  0.1468, -1.6688, -0.0116, -0.0321, -0.7173,\n",
              "        -0.9326,  0.7478, -0.8739, -1.9487, -0.3818,  0.2339,  0.8176, -0.0099,\n",
              "         0.7126,  0.5009,  0.8836, -1.6556,  0.7059,  0.2416, -0.7503,  0.3917,\n",
              "         1.3780,  0.9809,  0.7447, -0.1924,  0.8000, -1.1070, -1.5040,  0.8779,\n",
              "        -0.3070, -0.1204,  0.0934, -0.4856, -0.7082, -0.2100,  0.9678, -0.1014,\n",
              "        -0.2761,  0.4881, -1.5508, -0.5583,  0.2347,  0.4122,  2.3718, -0.0506,\n",
              "        -0.1292, -0.6767,  0.6320, -1.4318,  0.4073,  0.7545,  1.3772,  0.3973,\n",
              "         0.4984,  2.0322,  0.2174, -0.9105])"
            ]
          },
          "execution_count": 16,
          "metadata": {},
          "output_type": "execute_result"
        }
      ],
      "source": [
        "# Tensor filled with random numbers from std normal distribution\n",
        "torch.randn(100)"
      ]
    },
    {
      "cell_type": "code",
      "execution_count": 17,
      "metadata": {
        "colab": {
          "base_uri": "https://localhost:8080/"
        },
        "id": "kLdSKCiHXkq9",
        "outputId": "fd80b18a-60b2-4cc1-e34a-ffef4c932c61"
      },
      "outputs": [
        {
          "name": "stdout",
          "output_type": "stream",
          "text": [
            "tensor([[ 0.2572, -0.2351, -0.1496,  1.5702, -0.1826],\n",
            "        [ 0.1651, -1.2118,  1.5379, -0.1156,  1.0233],\n",
            "        [ 0.9182,  0.6025, -0.0694,  0.1663, -0.0701],\n",
            "        [-0.0834, -0.9638, -0.1343, -0.3478,  0.2926]]) \n",
            "\n",
            "Shape: torch.Size([4, 5])\n"
          ]
        }
      ],
      "source": [
        "m = torch.randn(4, 5)\n",
        "print(m, '\\n\\nShape:', m.shape)"
      ]
    },
    {
      "cell_type": "code",
      "execution_count": null,
      "metadata": {
        "colab": {
          "base_uri": "https://localhost:8080/"
        },
        "id": "IYhRcp8ugoX_",
        "outputId": "34409d99-ca34-4e9a-fdc1-29a0f0e97d1c"
      },
      "outputs": [
        {
          "data": {
            "text/plain": [
              "tensor([[1., 0., 0., 0., 0.],\n",
              "        [0., 1., 0., 0., 0.],\n",
              "        [0., 0., 1., 0., 0.],\n",
              "        [0., 0., 0., 1., 0.],\n",
              "        [0., 0., 0., 0., 1.]])"
            ]
          },
          "execution_count": 10,
          "metadata": {},
          "output_type": "execute_result"
        }
      ],
      "source": [
        "# Creating a diagonal matrix with dimension as argument\n",
        "torch.eye(5)"
      ]
    },
    {
      "cell_type": "code",
      "execution_count": 23,
      "metadata": {},
      "outputs": [
        {
          "data": {
            "text/plain": [
              "tensor([[0.9321, 0.9245, 0.7897],\n",
              "        [0.4073, 0.6365, 0.7247],\n",
              "        [0.9422, 0.0970, 0.5028]])"
            ]
          },
          "execution_count": 23,
          "metadata": {},
          "output_type": "execute_result"
        }
      ],
      "source": [
        "# Create a tensor of inputted dimensions with a range between 0 and 1 distributed uniformly\n",
        "a = torch.empty(3, 3).uniform_(0, 1)\n",
        "a"
      ]
    },
    {
      "cell_type": "code",
      "execution_count": 24,
      "metadata": {},
      "outputs": [],
      "source": [
        "# Delete a tensor previously created\n",
        "del a"
      ]
    },
    {
      "cell_type": "markdown",
      "metadata": {
        "id": "ejGx-7awipM5"
      },
      "source": [
        "## Tensor manipulation"
      ]
    },
    {
      "cell_type": "markdown",
      "metadata": {},
      "source": [
        "### Concatenation of two tensors"
      ]
    },
    {
      "cell_type": "code",
      "execution_count": null,
      "metadata": {},
      "outputs": [
        {
          "data": {
            "text/plain": [
              "tensor([[ 1,  2,  3],\n",
              "        [ 4,  5,  6],\n",
              "        [ 7,  8,  9],\n",
              "        [10, 11, 12]])"
            ]
          },
          "metadata": {},
          "output_type": "display_data"
        }
      ],
      "source": [
        "T1 = torch.tensor(\n",
        "    [\n",
        "        [1, 2, 3],\n",
        "        [4, 5, 6]\n",
        "    ]\n",
        ")\n",
        "\n",
        "T2 = torch.tensor(\n",
        "    [\n",
        "        [7, 8, 9],\n",
        "        [10, 11, 12]\n",
        "    ]\n",
        ")\n",
        "\n",
        "torch.cat((T1, T2), dim=0)"
      ]
    },
    {
      "cell_type": "markdown",
      "metadata": {},
      "source": [
        "### Unbinding of a tensor into two tensors"
      ]
    },
    {
      "cell_type": "code",
      "execution_count": null,
      "metadata": {},
      "outputs": [
        {
          "data": {
            "text/plain": [
              "(tensor([1, 2, 3]), tensor([4, 5, 6]))"
            ]
          },
          "metadata": {},
          "output_type": "display_data"
        }
      ],
      "source": [
        "a = torch.tensor(\n",
        "    [\n",
        "        [1, 2, 3],\n",
        "        [4, 5, 6]\n",
        "    ]\n",
        ")\n",
        "\n",
        "torch.unbind(a, dim=0)"
      ]
    },
    {
      "cell_type": "markdown",
      "metadata": {},
      "source": [
        "### Working with complex and polar tensors"
      ]
    },
    {
      "cell_type": "code",
      "execution_count": null,
      "metadata": {
        "colab": {
          "base_uri": "https://localhost:8080/"
        },
        "id": "vwe_-crth35t",
        "outputId": "080904ca-7e4f-4043-b5b2-758f5326e670"
      },
      "outputs": [
        {
          "name": "stdout",
          "output_type": "stream",
          "text": [
            "tensor([1.+3.j, 2.+4.j])\n",
            "torch.complex64\n"
          ]
        }
      ],
      "source": [
        "# Working with complex numbers\n",
        "real = torch.tensor([1, 2], dtype=torch.float32)\n",
        "imag = torch.tensor([3, 4], dtype=torch.float32)\n",
        "z = torch.complex(real, imag)\n",
        "\n",
        "print(z, z.dtype, sep='\\n')"
      ]
    },
    {
      "cell_type": "code",
      "execution_count": null,
      "metadata": {
        "colab": {
          "base_uri": "https://localhost:8080/"
        },
        "id": "pZkr70drhGKa",
        "outputId": "1e43c3ee-f3a8-4574-db3a-514b2561f0ab"
      },
      "outputs": [
        {
          "data": {
            "text/plain": [
              "tensor([ 6.1232e-17+1.0000j, -1.4142e+00-1.4142j], dtype=torch.complex128)"
            ]
          },
          "execution_count": 12,
          "metadata": {},
          "output_type": "execute_result"
        }
      ],
      "source": [
        "# Create initial tensor\n",
        "abs = torch.tensor([1, 2], dtype=torch.float64)\n",
        "\n",
        "# Creating angle tensor\n",
        "angle = torch.tensor([np.pi / 2, 5 * np.pi / 4], dtype=torch.float64)\n",
        "\n",
        "# out = abs⋅cos(angle) + abs⋅sin(angle) ⋅ j\n",
        "z = torch.polar(abs, angle)\n",
        "z\n",
        "\n",
        "# Note: Tensors are required to be float since polar does not take long/double input"
      ]
    },
    {
      "cell_type": "markdown",
      "metadata": {
        "id": "YO4NKpJ3j6kG"
      },
      "source": [
        "### Changing the dimensions using permutations"
      ]
    },
    {
      "cell_type": "code",
      "execution_count": null,
      "metadata": {
        "colab": {
          "base_uri": "https://localhost:8080/"
        },
        "id": "6S2K3C9-hnUz",
        "outputId": "0bba8aed-d00d-4de9-d05c-c639c30c97cb"
      },
      "outputs": [
        {
          "name": "stdout",
          "output_type": "stream",
          "text": [
            "tensor([[[ 0.0021,  0.8766, -0.7802, -0.2591, -0.2573],\n",
            "         [ 0.2976,  0.7922, -0.3852, -0.9810, -0.0581],\n",
            "         [ 0.6139,  1.7068,  0.4340,  0.5337, -0.3592]],\n",
            "\n",
            "        [[ 1.3242,  1.1937, -1.2252,  1.5723,  1.1369],\n",
            "         [-0.4887,  0.2416,  0.1550, -0.2451,  0.0667],\n",
            "         [ 0.6897,  0.3954,  1.5126, -1.8175,  0.1613]]])\n",
            "\n",
            "torch.Size([2, 3, 5])\n"
          ]
        }
      ],
      "source": [
        "x = torch.randn(2, 3, 5)\n",
        "print(x, x.size(), sep='\\n\\n')"
      ]
    },
    {
      "cell_type": "code",
      "execution_count": null,
      "metadata": {
        "colab": {
          "base_uri": "https://localhost:8080/"
        },
        "id": "AxczTOHXixN6",
        "outputId": "51dbcf4a-8a64-467b-81ba-fd7ebf3d459f"
      },
      "outputs": [
        {
          "data": {
            "text/plain": [
              "tensor([[[ 0.0021,  0.2976,  0.6139],\n",
              "         [ 1.3242, -0.4887,  0.6897]],\n",
              "\n",
              "        [[ 0.8766,  0.7922,  1.7068],\n",
              "         [ 1.1937,  0.2416,  0.3954]],\n",
              "\n",
              "        [[-0.7802, -0.3852,  0.4340],\n",
              "         [-1.2252,  0.1550,  1.5126]],\n",
              "\n",
              "        [[-0.2591, -0.9810,  0.5337],\n",
              "         [ 1.5723, -0.2451, -1.8175]],\n",
              "\n",
              "        [[-0.2573, -0.0581, -0.3592],\n",
              "         [ 1.1369,  0.0667,  0.1613]]])"
            ]
          },
          "execution_count": 14,
          "metadata": {},
          "output_type": "execute_result"
        }
      ],
      "source": [
        "torch.permute(x, (2, 0, 1))"
      ]
    },
    {
      "cell_type": "code",
      "execution_count": null,
      "metadata": {
        "colab": {
          "base_uri": "https://localhost:8080/"
        },
        "id": "9RXSOGjSliVg",
        "outputId": "4e1b3368-ae8e-4494-c24d-524f825f6e55"
      },
      "outputs": [
        {
          "data": {
            "text/plain": [
              "tensor([[-0.2062, -0.0284,  1.5630,  0.7954,  1.5845],\n",
              "        [ 1.5999, -2.2548,  1.1825, -0.8476,  0.0107]])"
            ]
          },
          "execution_count": 15,
          "metadata": {},
          "output_type": "execute_result"
        }
      ],
      "source": [
        "x = torch.randn(2, 5)\n",
        "x"
      ]
    },
    {
      "cell_type": "code",
      "execution_count": null,
      "metadata": {
        "id": "KbJWfxZ0lrwX"
      },
      "outputs": [],
      "source": [
        "transpose = x.t()"
      ]
    },
    {
      "cell_type": "code",
      "execution_count": null,
      "metadata": {
        "colab": {
          "base_uri": "https://localhost:8080/"
        },
        "id": "alW-Apw7ly61",
        "outputId": "16f795db-5dcc-4477-e768-1fbb171b5cf4"
      },
      "outputs": [
        {
          "name": "stdout",
          "output_type": "stream",
          "text": [
            "Original tensor:\n",
            "tensor([[-0.2062, -0.0284,  1.5630,  0.7954,  1.5845],\n",
            "        [ 1.5999, -2.2548,  1.1825, -0.8476,  0.0107]])\n",
            "torch.Size([2, 5])\n",
            "\n",
            "Transposed tensor:\n",
            "tensor([[-0.2062,  1.5999],\n",
            "        [-0.0284, -2.2548],\n",
            "        [ 1.5630,  1.1825],\n",
            "        [ 0.7954, -0.8476],\n",
            "        [ 1.5845,  0.0107]])\n",
            "torch.Size([5, 2])\n"
          ]
        }
      ],
      "source": [
        "print('Original tensor:', x, x.shape, '\\nTransposed tensor:', transpose, transpose.shape, sep='\\n')"
      ]
    },
    {
      "cell_type": "markdown",
      "metadata": {
        "id": "T_SPZVMwlfsI"
      },
      "source": [
        "### Transpose with 3 dimensional tensors"
      ]
    },
    {
      "cell_type": "code",
      "execution_count": null,
      "metadata": {
        "id": "wlgHUIXXkDi5"
      },
      "outputs": [],
      "source": [
        "x = torch.randn(2, 3, 5)"
      ]
    },
    {
      "cell_type": "code",
      "execution_count": null,
      "metadata": {
        "id": "vrh0rRHakQBo"
      },
      "outputs": [],
      "source": [
        "transpose = torch.transpose(x, 0, 2)\n",
        "# transpose = torch.transpose(x, -1, 2)"
      ]
    },
    {
      "cell_type": "code",
      "execution_count": null,
      "metadata": {
        "colab": {
          "base_uri": "https://localhost:8080/"
        },
        "id": "TtPtIi_rmwsp",
        "outputId": "98a3e6db-58cc-4dae-a1f5-817a0f1d180f"
      },
      "outputs": [
        {
          "name": "stdout",
          "output_type": "stream",
          "text": [
            "torch.Size([2, 3, 5])\n",
            "torch.Size([5, 3, 2])\n"
          ]
        }
      ],
      "source": [
        "# Updated shapes\n",
        "print(x.shape, transpose.shape, sep='\\n')"
      ]
    },
    {
      "cell_type": "code",
      "execution_count": null,
      "metadata": {
        "colab": {
          "base_uri": "https://localhost:8080/"
        },
        "id": "1q7Dp1Arkaxy",
        "outputId": "29349026-98cd-4658-aaf9-ac8f3f73f876"
      },
      "outputs": [
        {
          "name": "stdout",
          "output_type": "stream",
          "text": [
            "Original tensor:\n",
            "tensor([[[-0.0273, -0.3957,  0.6319, -0.5524, -0.4849],\n",
            "         [-0.2877,  0.3376, -0.0850, -0.8156, -0.1943],\n",
            "         [-1.1009, -0.8948,  0.5928,  0.1279, -0.3758]],\n",
            "\n",
            "        [[ 0.5721,  0.1380, -1.1639, -0.1852, -0.3920],\n",
            "         [-0.8322,  0.1930,  0.6484, -0.1677, -0.5259],\n",
            "         [-0.2164, -1.6437,  1.3361,  0.7160, -0.6279]]])\n",
            "torch.Size([2, 3, 5])\n",
            "\n",
            "Transposed tensor:\n",
            "tensor([[[-0.0273,  0.5721],\n",
            "         [-0.2877, -0.8322],\n",
            "         [-1.1009, -0.2164]],\n",
            "\n",
            "        [[-0.3957,  0.1380],\n",
            "         [ 0.3376,  0.1930],\n",
            "         [-0.8948, -1.6437]],\n",
            "\n",
            "        [[ 0.6319, -1.1639],\n",
            "         [-0.0850,  0.6484],\n",
            "         [ 0.5928,  1.3361]],\n",
            "\n",
            "        [[-0.5524, -0.1852],\n",
            "         [-0.8156, -0.1677],\n",
            "         [ 0.1279,  0.7160]],\n",
            "\n",
            "        [[-0.4849, -0.3920],\n",
            "         [-0.1943, -0.5259],\n",
            "         [-0.3758, -0.6279]]])\n",
            "torch.Size([5, 3, 2])\n"
          ]
        }
      ],
      "source": [
        "print('Original tensor:', x, x.shape, '\\nTransposed tensor:', transpose, transpose.shape, sep='\\n')"
      ]
    },
    {
      "cell_type": "markdown",
      "metadata": {},
      "source": [
        "___\n",
        "## References\n",
        "1. https://pytorch.org/docs/stable/tensors.html#torch.Tensor\n",
        "2. https://dev.to/balapriya/useful-tensor-manipulation-functions-in-pytorch-4g4c"
      ]
    }
  ],
  "metadata": {
    "colab": {
      "collapsed_sections": [],
      "name": "Neural Networks - Experiment 1 - Introduction to PyTorch.ipynb",
      "provenance": []
    },
    "kernelspec": {
      "display_name": "Python 3.10.0 64-bit",
      "language": "python",
      "name": "python3"
    },
    "language_info": {
      "codemirror_mode": {
        "name": "ipython",
        "version": 3
      },
      "file_extension": ".py",
      "mimetype": "text/x-python",
      "name": "python",
      "nbconvert_exporter": "python",
      "pygments_lexer": "ipython3",
      "version": "3.10.0"
    },
    "vscode": {
      "interpreter": {
        "hash": "3a00e68b57149134ce2b73879182c8cdd95184339958c7ea15c51bb9d3595f11"
      }
    }
  },
  "nbformat": 4,
  "nbformat_minor": 0
}
