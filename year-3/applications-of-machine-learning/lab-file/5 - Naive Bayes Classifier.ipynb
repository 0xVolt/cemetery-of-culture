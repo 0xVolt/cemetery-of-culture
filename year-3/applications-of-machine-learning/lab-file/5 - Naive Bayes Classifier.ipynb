{
 "cells": [
  {
   "attachments": {},
   "cell_type": "markdown",
   "metadata": {},
   "source": [
    "# Experiment Details\n",
    "\n",
    "## Submitted By\n",
    "\n",
    "Desh Iyer, 500081889, Year III, AI/ML(H), B5\n",
    "\n",
    "## Problem Statement\n",
    "\n",
    "Assuming a set of documents that need to be classified, use the Naive Bayesian Classifier model to perform this task. Built-in Java classes/API can be used to write the program. Calculate the accuracy, precision, and recall for your data set\n",
    "\n",
    "## Theory\n",
    "\n",
    "The Naive Bayes Classifier is a probabilistic algorithm used for classification tasks. It is based on Bayes' theorem, which states that the probability of a hypothesis H given some observed evidence E is proportional to the probability of the evidence given the hypothesis times the prior probability of the hypothesis.\n",
    "\n",
    "The Naive Bayes Classifier assumes that the features are independent of each other given the class label. That is, it assumes that the probability of observing a particular combination of feature values is the product of the probabilities of observing each individual feature value given the class label.\n",
    "\n",
    "## Steps\n",
    "\n",
    "Here are the steps to implement the Naive Bayes Classifier:\n",
    "\n",
    "1. Load the training data from the CSV file.\n",
    "2. Preprocess the data, if necessary. This may involve steps such as removing missing values, converting categorical variables to numerical ones, and scaling numerical variables.\n",
    "3. Split the data into training and testing sets.\n",
    "4. Calculate the prior probabilities of each class label in the training set.\n",
    "5. For each feature, calculate the conditional probabilities of each possible value given each class label in the training set.\n",
    "6. For each test instance, calculate the posterior probability of each class label given the feature values using Bayes' theorem.\n",
    "7. Assign the test instance to the class with the highest posterior probability.\n",
    "8. Evaluate the accuracy of the classifier on the testing set by comparing the predicted class labels to the true class labels.\n",
    "\n",
    "## Pseudocode\n",
    "\n",
    "Here's the pseudocode for the Naive Bayes Classifier:\n",
    "\n",
    "```shell\n",
    "# Load the data\n",
    "data = load_csv('data.csv')\n",
    "\n",
    "# Preprocess the data, if necessary\n",
    "data = preprocess_data(data)\n",
    "\n",
    "# Split the data into training and testing sets\n",
    "train_set, test_set = split_data(data)\n",
    "\n",
    "# Calculate the prior probabilities of each class label\n",
    "priors = calculate_priors(train_set)\n",
    "\n",
    "# Calculate the conditional probabilities of each feature given each class label\n",
    "cond_probs = calculate_conditional_probs(train_set)\n",
    "\n",
    "# Classify the test set\n",
    "predictions = []\n",
    "for instance in test_set:\n",
    "    posterior_probs = calculate_posterior_probs(instance, priors, cond_probs)\n",
    "    predicted_class = get_max_class(posterior_probs)\n",
    "    predictions.append(predicted_class)\n",
    "\n",
    "# Evaluate the accuracy of the classifier\n",
    "accuracy = calculate_accuracy(test_set, predictions)\n",
    "print('Accuracy:', accuracy)\n",
    "```\n"
   ]
  },
  {
   "attachments": {},
   "cell_type": "markdown",
   "metadata": {},
   "source": [
    "# Import Libraries\n"
   ]
  },
  {
   "cell_type": "code",
   "execution_count": null,
   "metadata": {},
   "outputs": [],
   "source": [
    "from sklearn.model_selection import train_test_split\n",
    "from sklearn.naive_bayes import GaussianNB\n",
    "from sklearn.metrics import accuracy_score\n",
    "\n",
    "import pickle\n",
    "\n",
    "import pandas as pd"
   ]
  },
  {
   "attachments": {},
   "cell_type": "markdown",
   "metadata": {},
   "source": [
    "# Load Data\n"
   ]
  },
  {
   "cell_type": "code",
   "execution_count": null,
   "metadata": {},
   "outputs": [],
   "source": [
    "data = pd.read_csv('naive-bayes-classification-data.csv')"
   ]
  },
  {
   "attachments": {},
   "cell_type": "markdown",
   "metadata": {},
   "source": [
    "# Train-test Split\n"
   ]
  },
  {
   "cell_type": "code",
   "execution_count": 3,
   "metadata": {},
   "outputs": [
    {
     "name": "stdout",
     "output_type": "stream",
     "text": [
      "X_Train shape: (696, 2)\n",
      "y_train shape: (696,)\n"
     ]
    }
   ],
   "source": [
    "X_train, X_test, y_train, y_test = train_test_split(\n",
    "    data[['glucose', 'bloodpressure']], data['diabetes'], test_size=0.3, random_state=42)\n",
    "\n",
    "print(f'X_Train shape: {X_train.shape}\\ny_train shape: {y_train.shape}')\n"
   ]
  },
  {
   "attachments": {},
   "cell_type": "markdown",
   "metadata": {},
   "source": [
    "# Define Gaussian Naive-Bayes Classifier\n"
   ]
  },
  {
   "cell_type": "code",
   "execution_count": 4,
   "metadata": {},
   "outputs": [],
   "source": [
    "classifier = GaussianNB()\n",
    "y_predicted = classifier.fit(X_train, y_train).predict(X_test)\n"
   ]
  },
  {
   "attachments": {},
   "cell_type": "markdown",
   "metadata": {},
   "source": [
    "# Print Accuracy\n"
   ]
  },
  {
   "cell_type": "code",
   "execution_count": 5,
   "metadata": {},
   "outputs": [
    {
     "name": "stdout",
     "output_type": "stream",
     "text": [
      "Number of mislabeled points out of a total 299 points : 20\n",
      "The resultant accuracy of the Gaussian Naive Bayes classifier is: 0.933110\n"
     ]
    }
   ],
   "source": [
    "print(\"Number of mislabeled points out of a total %d points : %d\" %\n",
    "      (X_test.shape[0], (y_test != y_predicted).sum()))\n",
    "print(\"The resultant accuracy of the Gaussian Naive Bayes classifier is: %f\" %\n",
    "      accuracy_score(y_test, y_predicted))\n"
   ]
  },
  {
   "attachments": {},
   "cell_type": "markdown",
   "metadata": {},
   "source": [
    "# Save Model using Pickle\n"
   ]
  },
  {
   "cell_type": "code",
   "execution_count": 6,
   "metadata": {},
   "outputs": [],
   "source": [
    "with open('model.pickle', 'wb') as f:\n",
    "    pickle.dump(classifier, f)\n"
   ]
  },
  {
   "attachments": {},
   "cell_type": "markdown",
   "metadata": {},
   "source": [
    "---\n"
   ]
  }
 ],
 "metadata": {
  "kernelspec": {
   "display_name": "Python 3",
   "language": "python",
   "name": "python3"
  },
  "language_info": {
   "codemirror_mode": {
    "name": "ipython",
    "version": 3
   },
   "file_extension": ".py",
   "mimetype": "text/x-python",
   "name": "python",
   "nbconvert_exporter": "python",
   "pygments_lexer": "ipython3",
   "version": "3.10.6"
  },
  "orig_nbformat": 4
 },
 "nbformat": 4,
 "nbformat_minor": 2
}
