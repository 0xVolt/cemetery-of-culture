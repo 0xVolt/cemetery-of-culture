{
 "cells": [
  {
   "attachments": {},
   "cell_type": "markdown",
   "metadata": {},
   "source": [
    "# Experiment Details\n",
    "\n",
    "## Submitted By\n",
    "\n",
    "Desh Iyer, 500081889, Year III, AI/ML(H), B5\n",
    "\n",
    "## Problem Statement\n",
    "Write a program to implement k-Nearest Neighbour (k-NN) algorithm to classify the iris dataset. Print both correct and wrong predictions. Java/Python ML library/classes can be used for this problem.\n",
    "\n",
    "## Theory\n",
    "The k-NN algorithm is a type of supervised machine learning algorithm used for classification and regression. In the k-NN algorithm, a new data point is classified based on the k-nearest neighbours to that data point in the training set. The algorithm determines the k-nearest neighbours by calculating the distance between the new data point and all the data points in the training set.\n",
    "\n",
    "The iris dataset is a commonly used dataset in machine learning for classification problems. It consists of 150 samples of iris flowers, with 50 samples from each of three different species of iris flowers. Each sample contains four features: sepal length, sepal width, petal length, and petal width.\n",
    "\n",
    "## Steps\n",
    "Here are the steps to implement the k-NN algorithm to classify the iris dataset:\n",
    "\n",
    "1. Load the iris dataset.\n",
    "2. Split the dataset into training and testing sets.\n",
    "3. Define the value of k.\n",
    "4. For each data point in the testing set:\n",
    "   1. Calculate the distance between the data point and all the data points in the training set.\n",
    "   2. Select the k-nearest neighbours.\n",
    "   3. Classify the data point based on the majority class of the k-nearest neighbours.\n",
    "   4. Print whether the prediction is correct or wrong.\n",
    "5. Calculate the accuracy of the classifier.\n",
    "\n",
    "## Pseudocode\n",
    "Here's the pseudocode for the k-NN algorithm:\n",
    "\n",
    "```shell\n",
    "function knn_algorithm(train_set, test_set, k):\n",
    "    predictions = []\n",
    "    for i in range(len(test_set)):\n",
    "        distances = []\n",
    "        for j in range(len(train_set)):\n",
    "            dist = euclidean_distance(test_set[i], train_set[j])\n",
    "            distances.append((train_set[j], dist))\n",
    "        distances.sort(key=lambda x: x[1])\n",
    "        neighbors = [distances[m][0] for m in range(k)]\n",
    "        prediction = majority_vote(neighbors)\n",
    "        if prediction == test_set[i][-1]:\n",
    "            print(\"Correct prediction:\", prediction)\n",
    "        else:\n",
    "            print(\"Wrong prediction:\", prediction)\n",
    "        predictions.append(prediction)\n",
    "    accuracy = calculate_accuracy(test_set, predictions)\n",
    "    print(\"Accuracy:\", accuracy)\n",
    "```"
   ]
  },
  {
   "attachments": {},
   "cell_type": "markdown",
   "metadata": {},
   "source": [
    "# Import libraries and data"
   ]
  },
  {
   "cell_type": "code",
   "execution_count": 1,
   "metadata": {},
   "outputs": [
    {
     "name": "stderr",
     "output_type": "stream",
     "text": [
      "/home/volt/.local/lib/python3.10/site-packages/scipy/__init__.py:146: UserWarning: A NumPy version >=1.16.5 and <1.23.0 is required for this version of SciPy (detected version 1.24.3\n",
      "  warnings.warn(f\"A NumPy version >={np_minversion} and <{np_maxversion}\"\n"
     ]
    }
   ],
   "source": [
    "# Import libraries\n",
    "from sklearn.datasets import load_iris\n",
    "from sklearn.model_selection import train_test_split\n",
    "from sklearn.neighbors import KNeighborsClassifier\n",
    "from sklearn.metrics import accuracy_score\n",
    "import matplotlib.pyplot as plt\n",
    "\n",
    "# Load dataset\n",
    "iris = load_iris()\n",
    "X = iris.data\n",
    "y = iris.target"
   ]
  },
  {
   "attachments": {},
   "cell_type": "markdown",
   "metadata": {},
   "source": [
    "# Train-test Split"
   ]
  },
  {
   "cell_type": "code",
   "execution_count": 2,
   "metadata": {},
   "outputs": [],
   "source": [
    "X_train, X_test, y_train, y_test = train_test_split(X, y, test_size=0.3, random_state=42)"
   ]
  },
  {
   "attachments": {},
   "cell_type": "markdown",
   "metadata": {},
   "source": [
    "# Fitting data to a KNN Model"
   ]
  },
  {
   "attachments": {},
   "cell_type": "markdown",
   "metadata": {},
   "source": [
    "# Determining the optimal K value through the elbow method"
   ]
  },
  {
   "cell_type": "code",
   "execution_count": 3,
   "metadata": {},
   "outputs": [],
   "source": [
    "# Determine the best value for K using the elbow method\n",
    "k_range = range(1, 21)\n",
    "scores = []\n",
    "for k in k_range:\n",
    "    knn = KNeighborsClassifier(n_neighbors=k)\n",
    "    knn.fit(X_train, y_train)\n",
    "    scores.append(knn.score(X_test, y_test))\n",
    "    \n",
    "best_k = k_range[scores.index(max(scores))]"
   ]
  },
  {
   "cell_type": "code",
   "execution_count": 4,
   "metadata": {},
   "outputs": [
    {
     "name": "stdout",
     "output_type": "stream",
     "text": [
      "Scores: [1.0, 1.0, 1.0, 1.0, 1.0, 1.0, 1.0, 1.0, 1.0, 1.0, 1.0, 1.0, 1.0, 1.0, 1.0, 1.0, 1.0, 1.0, 1.0, 1.0]\n",
      "Optimal K value: 1\n"
     ]
    }
   ],
   "source": [
    "print(f'Scores: {scores}\\nOptimal K value: {best_k}')"
   ]
  },
  {
   "attachments": {},
   "cell_type": "markdown",
   "metadata": {},
   "source": [
    "# Creating the model"
   ]
  },
  {
   "cell_type": "code",
   "execution_count": 5,
   "metadata": {},
   "outputs": [],
   "source": [
    "knn = KNeighborsClassifier(n_neighbors=best_k)"
   ]
  },
  {
   "attachments": {},
   "cell_type": "markdown",
   "metadata": {},
   "source": [
    "# Fitting the data"
   ]
  },
  {
   "cell_type": "code",
   "execution_count": 6,
   "metadata": {},
   "outputs": [
    {
     "data": {
      "text/html": [
       "<style>#sk-container-id-1 {color: black;background-color: white;}#sk-container-id-1 pre{padding: 0;}#sk-container-id-1 div.sk-toggleable {background-color: white;}#sk-container-id-1 label.sk-toggleable__label {cursor: pointer;display: block;width: 100%;margin-bottom: 0;padding: 0.3em;box-sizing: border-box;text-align: center;}#sk-container-id-1 label.sk-toggleable__label-arrow:before {content: \"▸\";float: left;margin-right: 0.25em;color: #696969;}#sk-container-id-1 label.sk-toggleable__label-arrow:hover:before {color: black;}#sk-container-id-1 div.sk-estimator:hover label.sk-toggleable__label-arrow:before {color: black;}#sk-container-id-1 div.sk-toggleable__content {max-height: 0;max-width: 0;overflow: hidden;text-align: left;background-color: #f0f8ff;}#sk-container-id-1 div.sk-toggleable__content pre {margin: 0.2em;color: black;border-radius: 0.25em;background-color: #f0f8ff;}#sk-container-id-1 input.sk-toggleable__control:checked~div.sk-toggleable__content {max-height: 200px;max-width: 100%;overflow: auto;}#sk-container-id-1 input.sk-toggleable__control:checked~label.sk-toggleable__label-arrow:before {content: \"▾\";}#sk-container-id-1 div.sk-estimator input.sk-toggleable__control:checked~label.sk-toggleable__label {background-color: #d4ebff;}#sk-container-id-1 div.sk-label input.sk-toggleable__control:checked~label.sk-toggleable__label {background-color: #d4ebff;}#sk-container-id-1 input.sk-hidden--visually {border: 0;clip: rect(1px 1px 1px 1px);clip: rect(1px, 1px, 1px, 1px);height: 1px;margin: -1px;overflow: hidden;padding: 0;position: absolute;width: 1px;}#sk-container-id-1 div.sk-estimator {font-family: monospace;background-color: #f0f8ff;border: 1px dotted black;border-radius: 0.25em;box-sizing: border-box;margin-bottom: 0.5em;}#sk-container-id-1 div.sk-estimator:hover {background-color: #d4ebff;}#sk-container-id-1 div.sk-parallel-item::after {content: \"\";width: 100%;border-bottom: 1px solid gray;flex-grow: 1;}#sk-container-id-1 div.sk-label:hover label.sk-toggleable__label {background-color: #d4ebff;}#sk-container-id-1 div.sk-serial::before {content: \"\";position: absolute;border-left: 1px solid gray;box-sizing: border-box;top: 0;bottom: 0;left: 50%;z-index: 0;}#sk-container-id-1 div.sk-serial {display: flex;flex-direction: column;align-items: center;background-color: white;padding-right: 0.2em;padding-left: 0.2em;position: relative;}#sk-container-id-1 div.sk-item {position: relative;z-index: 1;}#sk-container-id-1 div.sk-parallel {display: flex;align-items: stretch;justify-content: center;background-color: white;position: relative;}#sk-container-id-1 div.sk-item::before, #sk-container-id-1 div.sk-parallel-item::before {content: \"\";position: absolute;border-left: 1px solid gray;box-sizing: border-box;top: 0;bottom: 0;left: 50%;z-index: -1;}#sk-container-id-1 div.sk-parallel-item {display: flex;flex-direction: column;z-index: 1;position: relative;background-color: white;}#sk-container-id-1 div.sk-parallel-item:first-child::after {align-self: flex-end;width: 50%;}#sk-container-id-1 div.sk-parallel-item:last-child::after {align-self: flex-start;width: 50%;}#sk-container-id-1 div.sk-parallel-item:only-child::after {width: 0;}#sk-container-id-1 div.sk-dashed-wrapped {border: 1px dashed gray;margin: 0 0.4em 0.5em 0.4em;box-sizing: border-box;padding-bottom: 0.4em;background-color: white;}#sk-container-id-1 div.sk-label label {font-family: monospace;font-weight: bold;display: inline-block;line-height: 1.2em;}#sk-container-id-1 div.sk-label-container {text-align: center;}#sk-container-id-1 div.sk-container {/* jupyter's `normalize.less` sets `[hidden] { display: none; }` but bootstrap.min.css set `[hidden] { display: none !important; }` so we also need the `!important` here to be able to override the default hidden behavior on the sphinx rendered scikit-learn.org. See: https://github.com/scikit-learn/scikit-learn/issues/21755 */display: inline-block !important;position: relative;}#sk-container-id-1 div.sk-text-repr-fallback {display: none;}</style><div id=\"sk-container-id-1\" class=\"sk-top-container\"><div class=\"sk-text-repr-fallback\"><pre>KNeighborsClassifier(n_neighbors=1)</pre><b>In a Jupyter environment, please rerun this cell to show the HTML representation or trust the notebook. <br />On GitHub, the HTML representation is unable to render, please try loading this page with nbviewer.org.</b></div><div class=\"sk-container\" hidden><div class=\"sk-item\"><div class=\"sk-estimator sk-toggleable\"><input class=\"sk-toggleable__control sk-hidden--visually\" id=\"sk-estimator-id-1\" type=\"checkbox\" checked><label for=\"sk-estimator-id-1\" class=\"sk-toggleable__label sk-toggleable__label-arrow\">KNeighborsClassifier</label><div class=\"sk-toggleable__content\"><pre>KNeighborsClassifier(n_neighbors=1)</pre></div></div></div></div></div>"
      ],
      "text/plain": [
       "KNeighborsClassifier(n_neighbors=1)"
      ]
     },
     "execution_count": 6,
     "metadata": {},
     "output_type": "execute_result"
    }
   ],
   "source": [
    "knn.fit(X_train, y_train)"
   ]
  },
  {
   "attachments": {},
   "cell_type": "markdown",
   "metadata": {},
   "source": [
    "# Make predictions on the testing data"
   ]
  },
  {
   "cell_type": "code",
   "execution_count": 7,
   "metadata": {},
   "outputs": [],
   "source": [
    "y_pred = knn.predict(X_test)"
   ]
  },
  {
   "attachments": {},
   "cell_type": "markdown",
   "metadata": {},
   "source": [
    "# Printing wrong and right predictions"
   ]
  },
  {
   "cell_type": "code",
   "execution_count": 8,
   "metadata": {},
   "outputs": [
    {
     "name": "stdout",
     "output_type": "stream",
     "text": [
      "Correct prediction: actual=1, predicted=1\n",
      "Correct prediction: actual=0, predicted=0\n",
      "Correct prediction: actual=2, predicted=2\n",
      "Correct prediction: actual=1, predicted=1\n",
      "Correct prediction: actual=1, predicted=1\n",
      "Correct prediction: actual=0, predicted=0\n",
      "Correct prediction: actual=1, predicted=1\n",
      "Correct prediction: actual=2, predicted=2\n",
      "Correct prediction: actual=1, predicted=1\n",
      "Correct prediction: actual=1, predicted=1\n",
      "Correct prediction: actual=2, predicted=2\n",
      "Correct prediction: actual=0, predicted=0\n",
      "Correct prediction: actual=0, predicted=0\n",
      "Correct prediction: actual=0, predicted=0\n",
      "Correct prediction: actual=0, predicted=0\n",
      "Correct prediction: actual=1, predicted=1\n",
      "Correct prediction: actual=2, predicted=2\n",
      "Correct prediction: actual=1, predicted=1\n",
      "Correct prediction: actual=1, predicted=1\n",
      "Correct prediction: actual=2, predicted=2\n",
      "Correct prediction: actual=0, predicted=0\n",
      "Correct prediction: actual=2, predicted=2\n",
      "Correct prediction: actual=0, predicted=0\n",
      "Correct prediction: actual=2, predicted=2\n",
      "Correct prediction: actual=2, predicted=2\n",
      "Correct prediction: actual=2, predicted=2\n",
      "Correct prediction: actual=2, predicted=2\n",
      "Correct prediction: actual=2, predicted=2\n",
      "Correct prediction: actual=0, predicted=0\n",
      "Correct prediction: actual=0, predicted=0\n",
      "Correct prediction: actual=0, predicted=0\n",
      "Correct prediction: actual=0, predicted=0\n",
      "Correct prediction: actual=1, predicted=1\n",
      "Correct prediction: actual=0, predicted=0\n",
      "Correct prediction: actual=0, predicted=0\n",
      "Correct prediction: actual=2, predicted=2\n",
      "Correct prediction: actual=1, predicted=1\n",
      "Correct prediction: actual=0, predicted=0\n",
      "Correct prediction: actual=0, predicted=0\n",
      "Correct prediction: actual=0, predicted=0\n",
      "Correct prediction: actual=2, predicted=2\n",
      "Correct prediction: actual=1, predicted=1\n",
      "Correct prediction: actual=1, predicted=1\n",
      "Correct prediction: actual=0, predicted=0\n",
      "Correct prediction: actual=0, predicted=0\n",
      "Accuracy: 1.0\n"
     ]
    }
   ],
   "source": [
    "# Print correct and wrong predictions\n",
    "for i in range(len(y_pred)):\n",
    "    if y_pred[i] == y_test[i]:\n",
    "        print(f\"Correct prediction: actual={y_test[i]}, predicted={y_pred[i]}\")\n",
    "    else:\n",
    "        print(f\"Wrong prediction: actual={y_test[i]}, predicted={y_pred[i]}\")\n",
    "\n",
    "# Calculate accuracy\n",
    "accuracy = accuracy_score(y_test, y_pred)\n",
    "print(f\"Accuracy: {accuracy}\")"
   ]
  },
  {
   "attachments": {},
   "cell_type": "markdown",
   "metadata": {},
   "source": [
    "# Conclusion\n",
    "The iris dataset has relatively few features and classes, with a clear separation between them. This means that the decision boundaries for a KNN classifier will be relatively simple, leading to high accuracy. A more complex dataset with overlapping classes and more ambiguous feature relationships would pose a greater challenge for a KNN classifier."
   ]
  },
  {
   "attachments": {},
   "cell_type": "markdown",
   "metadata": {},
   "source": [
    "---"
   ]
  }
 ],
 "metadata": {
  "kernelspec": {
   "display_name": "Python 3",
   "language": "python",
   "name": "python3"
  },
  "language_info": {
   "codemirror_mode": {
    "name": "ipython",
    "version": 3
   },
   "file_extension": ".py",
   "mimetype": "text/x-python",
   "name": "python",
   "nbconvert_exporter": "python",
   "pygments_lexer": "ipython3",
   "version": "3.10.6"
  },
  "orig_nbformat": 4
 },
 "nbformat": 4,
 "nbformat_minor": 2
}
