{
 "cells": [
  {
   "attachments": {},
   "cell_type": "markdown",
   "metadata": {},
   "source": [
    "# Experiment Details\n",
    "\n",
    "## Submitted By\n",
    "Desh Iyer, 500081889, Year III, AI/ML(H), B5\n",
    "\n",
    "## Problem Statement\n",
    "Implement and demonstrate the FIND S algorithm for finding the most specific hypothesis based on a given set of training data samples. Read the training data from a `.csv` file.\n",
    "\n",
    "## Theory\n",
    "The FIND-S algorithm is a concept learning algorithm used to induce the most specific hypothesis from a set of training data samples. The goal of the algorithm is to generate a hypothesis that fits all positive training examples and no negative training examples. The algorithm works by initializing the hypothesis with the most specific possible hypothesis, which in the case of a boolean function is a conjunction of n negated literals, where n is the number of attributes in the data. The algorithm then iteratively refines the hypothesis by making it more specific based on the training data.\n",
    "\n",
    "Here are the terms used in the description of the algorithm.\n",
    "\n",
    "- A hypothesis h is a conjunction of n literals, where each literal can take one of two values: true or false.\n",
    "- A training example is a pair (x, y), where x is an n-dimensional vector of attribute values, and y is either true or false.\n",
    "- A positive example is a training example where y is true.\n",
    "- A negative example is a training example where y is false.\n",
    "\n",
    "## Advantages\n",
    "- The algorithm is simple and easy to understand.\n",
    "- The algorithm is guaranteed to converge to the correct hypothesis, provided that the hypothesis space is rich enough to represent the target concept.\n",
    "\n",
    "## Limitations\n",
    "- The algorithm can only handle boolean functions, and does not work with continuous or categorical data.\n",
    "- The algorithm is sensitive to noise in the training data, and can produce an overly specific hypothesis if there are errors in the training data.\n",
    "- The algorithm only produces a single hypothesis, and does not provide any measure of the quality or confidence of the hypothesis.\n",
    "\n",
    "## Pseudocode\n",
    "The FIND-S algorithm starts by initializing the hypothesis h with the most specific hypothesis possible:\n",
    "\n",
    "```shell\n",
    "h ← < ¬, ¬, ..., ¬ >\n",
    "```\n",
    "\n",
    "Then, for each positive training example x in the training data, it updates the hypothesis by setting the i-th literal to true if the i-th attribute of x is true, and leaves it unchanged otherwise. For each negative training example, the algorithm does not update the hypothesis.\n",
    "\n",
    "```shell\n",
    "for each training example (x, y) do\n",
    "  if y = true then\n",
    "    for i = 1 to n do\n",
    "      if h[i] = ¬ and x[i] = true then\n",
    "        h[i] ← true\n",
    "    end for\n",
    "  end if\n",
    "end for\n",
    "```"
   ]
  },
  {
   "attachments": {},
   "cell_type": "markdown",
   "metadata": {},
   "source": [
    "# Import Libraries"
   ]
  },
  {
   "cell_type": "code",
   "execution_count": 10,
   "metadata": {},
   "outputs": [],
   "source": [
    "import pandas as pd\n",
    "import numpy as np"
   ]
  },
  {
   "attachments": {},
   "cell_type": "markdown",
   "metadata": {},
   "source": [
    "# Implement Algorithm"
   ]
  },
  {
   "attachments": {},
   "cell_type": "markdown",
   "metadata": {},
   "source": [
    "Declare a function to calculate the final specific hypothesis given a vector of concepts (tuples) and a vector of targets."
   ]
  },
  {
   "cell_type": "code",
   "execution_count": 11,
   "metadata": {},
   "outputs": [],
   "source": [
    "def train(concepts, targets, specificHypothesis):\n",
    "    for i, val in enumerate(targets):\n",
    "        if val == 'Yes':\n",
    "            specificHypothesis = concepts[i]\n",
    "            break\n",
    "    \n",
    "    for i, val in enumerate(concepts):\n",
    "        if targets[i] == 'Yes':\n",
    "            for i in range (len(specificHypothesis)):\n",
    "                if val[i] != specificHypothesis[i]:\n",
    "                    specificHypothesis[i] = '?'\n",
    "\n",
    "    return specificHypothesis"
   ]
  },
  {
   "attachments": {},
   "cell_type": "markdown",
   "metadata": {},
   "source": [
    "# Import Dataset"
   ]
  },
  {
   "cell_type": "code",
   "execution_count": 12,
   "metadata": {},
   "outputs": [],
   "source": [
    "data = pd.read_csv('../data/find-s.csv', names=['Sky','Temperature','Humidity','Wind','Water','Forecast','Enjoy Sport?'])"
   ]
  },
  {
   "attachments": {},
   "cell_type": "markdown",
   "metadata": {},
   "source": [
    "Here's what the data looks like in a data frame."
   ]
  },
  {
   "cell_type": "code",
   "execution_count": 13,
   "metadata": {},
   "outputs": [
    {
     "data": {
      "text/html": [
       "<div>\n",
       "<style scoped>\n",
       "    .dataframe tbody tr th:only-of-type {\n",
       "        vertical-align: middle;\n",
       "    }\n",
       "\n",
       "    .dataframe tbody tr th {\n",
       "        vertical-align: top;\n",
       "    }\n",
       "\n",
       "    .dataframe thead th {\n",
       "        text-align: right;\n",
       "    }\n",
       "</style>\n",
       "<table border=\"1\" class=\"dataframe\">\n",
       "  <thead>\n",
       "    <tr style=\"text-align: right;\">\n",
       "      <th></th>\n",
       "      <th>Sky</th>\n",
       "      <th>Temperature</th>\n",
       "      <th>Humidity</th>\n",
       "      <th>Wind</th>\n",
       "      <th>Water</th>\n",
       "      <th>Forecast</th>\n",
       "      <th>Enjoy Sport?</th>\n",
       "    </tr>\n",
       "  </thead>\n",
       "  <tbody>\n",
       "    <tr>\n",
       "      <th>0</th>\n",
       "      <td>Sunny</td>\n",
       "      <td>Warm</td>\n",
       "      <td>Normal</td>\n",
       "      <td>Strong</td>\n",
       "      <td>Warm</td>\n",
       "      <td>Same</td>\n",
       "      <td>Yes</td>\n",
       "    </tr>\n",
       "    <tr>\n",
       "      <th>1</th>\n",
       "      <td>Sunny</td>\n",
       "      <td>Warm</td>\n",
       "      <td>High</td>\n",
       "      <td>Strong</td>\n",
       "      <td>Warm</td>\n",
       "      <td>Same</td>\n",
       "      <td>Yes</td>\n",
       "    </tr>\n",
       "    <tr>\n",
       "      <th>2</th>\n",
       "      <td>Rainy</td>\n",
       "      <td>Cold</td>\n",
       "      <td>High</td>\n",
       "      <td>Strong</td>\n",
       "      <td>Warm</td>\n",
       "      <td>Change</td>\n",
       "      <td>No</td>\n",
       "    </tr>\n",
       "    <tr>\n",
       "      <th>3</th>\n",
       "      <td>Sunny</td>\n",
       "      <td>Warm</td>\n",
       "      <td>High</td>\n",
       "      <td>Strong</td>\n",
       "      <td>Cool</td>\n",
       "      <td>Change</td>\n",
       "      <td>Yes</td>\n",
       "    </tr>\n",
       "  </tbody>\n",
       "</table>\n",
       "</div>"
      ],
      "text/plain": [
       "     Sky Temperature Humidity    Wind Water Forecast Enjoy Sport?\n",
       "0  Sunny        Warm   Normal  Strong  Warm     Same          Yes\n",
       "1  Sunny        Warm     High  Strong  Warm     Same          Yes\n",
       "2  Rainy        Cold     High  Strong  Warm   Change           No\n",
       "3  Sunny        Warm     High  Strong  Cool   Change          Yes"
      ]
     },
     "execution_count": 13,
     "metadata": {},
     "output_type": "execute_result"
    }
   ],
   "source": [
    "data"
   ]
  },
  {
   "attachments": {},
   "cell_type": "markdown",
   "metadata": {},
   "source": [
    "Retrieving the data points as the vector of concepts (tuples) of the data set."
   ]
  },
  {
   "cell_type": "code",
   "execution_count": 14,
   "metadata": {},
   "outputs": [],
   "source": [
    "dataPoints = np.array(data)[:, :-1]\n",
    "phiLength = dataPoints.shape[0] + 1"
   ]
  },
  {
   "attachments": {},
   "cell_type": "markdown",
   "metadata": {},
   "source": [
    "Retrieving the target vector."
   ]
  },
  {
   "cell_type": "code",
   "execution_count": 15,
   "metadata": {},
   "outputs": [
    {
     "data": {
      "text/plain": [
       "array(['Yes', 'Yes', 'No', 'Yes'], dtype=object)"
      ]
     },
     "execution_count": 15,
     "metadata": {},
     "output_type": "execute_result"
    }
   ],
   "source": [
    "dataTarget = np.array(data)[:, -1]\n",
    "dataTarget"
   ]
  },
  {
   "attachments": {},
   "cell_type": "markdown",
   "metadata": {},
   "source": [
    "# Calculate Hypotheses"
   ]
  },
  {
   "attachments": {},
   "cell_type": "markdown",
   "metadata": {},
   "source": [
    "Defining the specific hypothesis to be all zeros initially."
   ]
  },
  {
   "cell_type": "code",
   "execution_count": 16,
   "metadata": {},
   "outputs": [
    {
     "data": {
      "text/plain": [
       "array([0., 0., 0., 0., 0.])"
      ]
     },
     "execution_count": 16,
     "metadata": {},
     "output_type": "execute_result"
    }
   ],
   "source": [
    "specificHypothesis = np.zeros(phiLength)\n",
    "specificHypothesis"
   ]
  },
  {
   "attachments": {},
   "cell_type": "markdown",
   "metadata": {},
   "source": [
    "Calling the function defined above and obtaining our final hypothesis."
   ]
  },
  {
   "cell_type": "code",
   "execution_count": 17,
   "metadata": {},
   "outputs": [
    {
     "name": "stdout",
     "output_type": "stream",
     "text": [
      "The final hypothesis is: ['Sunny' 'Warm' '?' 'Strong' '?' '?']\n"
     ]
    }
   ],
   "source": [
    "print(f'The final hypothesis is: {train(dataPoints, dataTarget, specificHypothesis)}')"
   ]
  },
  {
   "attachments": {},
   "cell_type": "markdown",
   "metadata": {},
   "source": [
    "---"
   ]
  }
 ],
 "metadata": {
  "kernelspec": {
   "display_name": "Python 3",
   "language": "python",
   "name": "python3"
  },
  "language_info": {
   "codemirror_mode": {
    "name": "ipython",
    "version": 3
   },
   "file_extension": ".py",
   "mimetype": "text/x-python",
   "name": "python",
   "nbconvert_exporter": "python",
   "pygments_lexer": "ipython3",
   "version": "3.10.6"
  },
  "orig_nbformat": 4,
  "vscode": {
   "interpreter": {
    "hash": "916dbcbb3f70747c44a77c7bcd40155683ae19c65e1c03b4aa3499c5328201f1"
   }
  }
 },
 "nbformat": 4,
 "nbformat_minor": 2
}
