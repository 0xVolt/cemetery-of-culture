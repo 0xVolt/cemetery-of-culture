{
 "cells": [
  {
   "attachments": {},
   "cell_type": "markdown",
   "metadata": {},
   "source": [
    "# Experiment 10 - Implementing Non Parametric Locally Weighted Regression on Non-linear Data\n",
    "\n",
    "## Theory\n",
    "\n",
    "### Parametric vs Non-Parametric Learning Algorithms\n",
    "Parametric — In a Parametric Algorithm, we have a fixed set of parameters such as theta that we try to find(the optimal value) while training the data. After we have found the optimal values for these parameters, we can put the data aside or erase it from the computer and just use the model with parameters to make predictions. Remember, the model is just a function.\n",
    "\n",
    "Non-Parametric — In a Non-Parametric Algorithm, you always have to keep the data and the parameters in your computer memory to make predictions. And that’s why this type of algorithm may not be great if you have a really really massive dataset.\n",
    "\n",
    "### Need for NPLW Regression\n",
    "We specifically apply this regression technique when the data to fit is non-linear. In Linear Regression we would fit a straight line to this data but that won’t work here because the data is non-linear and our predictions would end up having large errors. We need to fit a curved line so that our error is minimized.\n",
    "\n",
    "### How NPLW Regression Works\n",
    "In Locally weighted linear regression, we give the model the `x` where we want to make the prediction, then the model gives all the `x(i)`’s around that `x` a higher weight close to one, and the rest of `x(i)`’s get a lower weight close to zero and then tries to fit a straight line to that weighted `x(i)`’s data.\n",
    "\n",
    "This means that if want to make a prediction a point on the x-axis, the model gives higher weight to the input data i.e. `x(i)`’s near or around the circle above the green point and all else `x(i)` get a weight close to zero, which results in the model fitting a straight line only to the data which is near or close to the circle. The same goes for the purple, yellow, and grey points on the x-axis.\n",
    "\n",
    "`x` is the point where we want to make the prediction. `x(i)` is the `ith` training example.\n",
    "\n",
    "The value of this function is always between 0 and 1.\n",
    "\n",
    "So, if we look at the function, we see that\n",
    "\n",
    "    If |x(i)-x| is small, w(i) is close to 1.\n",
    "    If |x(i)-x| is large, w(i) is close to 0.\n",
    "\n",
    "The `x(i)`’s which are far from `x` get `w(i)` close to zero and the ones which are close to `x`, get `w(i)` close to 1.\n",
    "\n",
    "### Calculating Error\n",
    "In the loss function, it translates to error terms for the `x(i)`’s which are far from `x` being multiplied by almost zero and for the `x(i)`’s which are close to `x` get multiplied by almost 1. In short, it only sums over the error terms for the `x(i)`’s which are close to `x`."
   ]
  },
  {
   "attachments": {},
   "cell_type": "markdown",
   "metadata": {},
   "source": [
    "# Code"
   ]
  },
  {
   "attachments": {},
   "cell_type": "markdown",
   "metadata": {},
   "source": [
    "## Importing Libraries"
   ]
  },
  {
   "cell_type": "code",
   "execution_count": 13,
   "metadata": {},
   "outputs": [],
   "source": [
    "import numpy as np\n",
    "import matplotlib.pyplot as plt\n",
    "import warnings\n",
    "\n",
    "%matplotlib inline\n",
    "\n",
    "warnings.filterwarnings('ignore')"
   ]
  },
  {
   "attachments": {},
   "cell_type": "markdown",
   "metadata": {},
   "source": [
    "## Generating Non-linear Data\n",
    "A good way to create a non-linear dataset is to mix sines with different phases. The dataset we will work with in this experiment is created with the following Python script and exported to a CSV file."
   ]
  },
  {
   "attachments": {},
   "cell_type": "markdown",
   "metadata": {},
   "source": [
    "Create a variable to set the number of samples to create."
   ]
  },
  {
   "cell_type": "code",
   "execution_count": 14,
   "metadata": {},
   "outputs": [],
   "source": [
    "numberSamples = 500"
   ]
  },
  {
   "attachments": {},
   "cell_type": "markdown",
   "metadata": {},
   "source": [
    "Now, creating a lambda function that takes the input and convolves it as a mixture of two `cos` functions."
   ]
  },
  {
   "cell_type": "code",
   "execution_count": 15,
   "metadata": {},
   "outputs": [],
   "source": [
    "deLinearise = lambda X: np.cos(1.5 * np.pi * X) + np.cos(5 * np.pi * X)"
   ]
  },
  {
   "attachments": {},
   "cell_type": "markdown",
   "metadata": {},
   "source": [
    "Now, creating `X` and `y` using the above function and `np.random.rand`."
   ]
  },
  {
   "cell_type": "code",
   "execution_count": 16,
   "metadata": {},
   "outputs": [],
   "source": [
    "X = np.sort(np.random.rand(numberSamples)) * 2\n",
    "y = deLinearise(X) + np.random.randn(numberSamples) * 0.1"
   ]
  },
  {
   "attachments": {},
   "cell_type": "markdown",
   "metadata": {},
   "source": [
    "Here's what `X` looks like."
   ]
  },
  {
   "cell_type": "code",
   "execution_count": 17,
   "metadata": {},
   "outputs": [
    {
     "data": {
      "text/plain": [
       "(array([1.61626173e-03, 2.16638046e-03, 4.39592108e-03, 9.78783148e-03,\n",
       "        1.24444625e-02, 1.37327151e-02, 1.42952923e-02, 1.51459055e-02,\n",
       "        2.00655885e-02, 2.19776641e-02, 2.58197537e-02, 2.61190460e-02,\n",
       "        2.99786683e-02, 3.39833109e-02, 3.70190329e-02, 4.56369025e-02,\n",
       "        4.68384091e-02, 5.33157094e-02, 6.76906166e-02, 6.83327273e-02,\n",
       "        7.19574096e-02, 7.35727454e-02, 7.54282701e-02, 7.81145376e-02,\n",
       "        7.97346610e-02, 9.97100410e-02, 1.02840038e-01, 1.03753083e-01,\n",
       "        1.04636545e-01, 1.05784875e-01, 1.17277454e-01, 1.23605678e-01,\n",
       "        1.26396906e-01, 1.26430954e-01, 1.27177090e-01, 1.29356167e-01,\n",
       "        1.38727469e-01, 1.52446745e-01, 1.52792786e-01, 1.55198580e-01,\n",
       "        1.63728633e-01, 1.71045432e-01, 1.72910167e-01, 1.73044220e-01,\n",
       "        1.74984131e-01, 1.77431705e-01, 1.78017611e-01, 1.83748664e-01,\n",
       "        1.84230843e-01, 1.85353762e-01, 1.86283112e-01, 1.89206696e-01,\n",
       "        1.99772341e-01, 2.02984834e-01, 2.04668783e-01, 2.07796798e-01,\n",
       "        2.13948024e-01, 2.16395782e-01, 2.24828713e-01, 2.24974265e-01,\n",
       "        2.26888121e-01, 2.29045984e-01, 2.36248434e-01, 2.38807112e-01,\n",
       "        2.41965058e-01, 2.43224313e-01, 2.43404401e-01, 2.44631387e-01,\n",
       "        2.48223710e-01, 2.49283336e-01, 2.50669405e-01, 2.56697065e-01,\n",
       "        2.60217153e-01, 2.60913952e-01, 2.67667435e-01, 2.68152656e-01,\n",
       "        2.73439695e-01, 2.80442457e-01, 2.83532079e-01, 2.88104308e-01,\n",
       "        2.90115610e-01, 2.90575437e-01, 2.92990652e-01, 3.02852581e-01,\n",
       "        3.03720800e-01, 3.07289126e-01, 3.11439296e-01, 3.12763638e-01,\n",
       "        3.16180935e-01, 3.16647869e-01, 3.17214304e-01, 3.25478862e-01,\n",
       "        3.36448007e-01, 3.39012414e-01, 3.44742294e-01, 3.46563927e-01,\n",
       "        3.49375066e-01, 3.52851721e-01, 3.53284950e-01, 3.60384909e-01,\n",
       "        3.62198697e-01, 3.64101964e-01, 3.67156298e-01, 3.69631994e-01,\n",
       "        3.73492346e-01, 3.78304730e-01, 3.80016825e-01, 3.80422090e-01,\n",
       "        3.83175188e-01, 3.99710302e-01, 4.04307961e-01, 4.04875733e-01,\n",
       "        4.12134429e-01, 4.12507319e-01, 4.20340780e-01, 4.33430338e-01,\n",
       "        4.34229938e-01, 4.39345294e-01, 4.46118976e-01, 4.46600796e-01,\n",
       "        4.66833515e-01, 4.67383996e-01, 4.70381199e-01, 4.70803257e-01,\n",
       "        4.73069887e-01, 4.78050221e-01, 4.89907586e-01, 4.90000842e-01,\n",
       "        4.90108746e-01, 4.92378068e-01, 4.97476069e-01, 5.08609241e-01,\n",
       "        5.17800106e-01, 5.20918125e-01, 5.23493661e-01, 5.30388302e-01,\n",
       "        5.31729773e-01, 5.33722204e-01, 5.34585083e-01, 5.35556967e-01,\n",
       "        5.37464947e-01, 5.41209607e-01, 5.43650655e-01, 5.44503858e-01,\n",
       "        5.47170383e-01, 5.51197882e-01, 5.55359956e-01, 5.57883685e-01,\n",
       "        5.62714098e-01, 5.63253437e-01, 5.63299076e-01, 5.67639522e-01,\n",
       "        5.67675967e-01, 5.71543378e-01, 5.72905000e-01, 5.74080184e-01,\n",
       "        5.75012603e-01, 5.86640397e-01, 5.94768518e-01, 5.98569859e-01,\n",
       "        6.03375893e-01, 6.04704817e-01, 6.12720196e-01, 6.18476597e-01,\n",
       "        6.19054226e-01, 6.23243331e-01, 6.29842785e-01, 6.37045636e-01,\n",
       "        6.38398408e-01, 6.39735622e-01, 6.52983618e-01, 6.57103539e-01,\n",
       "        6.61133785e-01, 6.64412807e-01, 6.70118226e-01, 6.72061112e-01,\n",
       "        6.84067898e-01, 6.88768116e-01, 6.88785874e-01, 6.93789325e-01,\n",
       "        6.95556337e-01, 6.95947500e-01, 6.98659816e-01, 7.19275181e-01,\n",
       "        7.23150133e-01, 7.26175848e-01, 7.27743275e-01, 7.33617367e-01,\n",
       "        7.35703257e-01, 7.36573765e-01, 7.66833715e-01, 7.66873950e-01,\n",
       "        7.67671936e-01, 7.75126604e-01, 7.82954674e-01, 7.85256167e-01,\n",
       "        7.87116465e-01, 7.89619223e-01, 7.93450836e-01, 7.98546873e-01,\n",
       "        8.15547121e-01, 8.19182298e-01, 8.21433318e-01, 8.32658066e-01,\n",
       "        8.35451029e-01, 8.38056186e-01, 8.41656119e-01, 8.47508627e-01,\n",
       "        8.48620498e-01, 8.58590054e-01, 8.64548468e-01, 8.65815305e-01,\n",
       "        8.67736022e-01, 8.72574318e-01, 8.72799967e-01, 8.76164400e-01,\n",
       "        8.78521846e-01, 8.93506065e-01, 8.94237501e-01, 9.10290309e-01,\n",
       "        9.10654177e-01, 9.10718692e-01, 9.24540976e-01, 9.28972752e-01,\n",
       "        9.32883520e-01, 9.35326873e-01, 9.36774856e-01, 9.37509595e-01,\n",
       "        9.40380952e-01, 9.43795664e-01, 9.47998856e-01, 9.50128952e-01,\n",
       "        9.54102605e-01, 9.54879438e-01, 9.55658236e-01, 9.59356938e-01,\n",
       "        9.63295879e-01, 9.63816837e-01, 9.65790906e-01, 9.72559250e-01,\n",
       "        9.77483187e-01, 9.80668201e-01, 9.84657171e-01, 9.84717292e-01,\n",
       "        9.88148387e-01, 9.88460057e-01, 9.90091115e-01, 9.93150561e-01,\n",
       "        9.95397141e-01, 9.98857369e-01, 9.99220943e-01, 1.00057806e+00,\n",
       "        1.00110760e+00, 1.00185251e+00, 1.00756428e+00, 1.01036440e+00,\n",
       "        1.01166689e+00, 1.01544480e+00, 1.01804196e+00, 1.02455314e+00,\n",
       "        1.03098567e+00, 1.03529092e+00, 1.03535796e+00, 1.03786855e+00,\n",
       "        1.04261321e+00, 1.04353044e+00, 1.06051266e+00, 1.06420887e+00,\n",
       "        1.07050508e+00, 1.07223251e+00, 1.08193115e+00, 1.10006972e+00,\n",
       "        1.10225647e+00, 1.11187928e+00, 1.11550537e+00, 1.11971379e+00,\n",
       "        1.12506287e+00, 1.13245828e+00, 1.13330606e+00, 1.13528072e+00,\n",
       "        1.13677622e+00, 1.13687767e+00, 1.13727064e+00, 1.13848420e+00,\n",
       "        1.14034751e+00, 1.15753377e+00, 1.15788269e+00, 1.15825571e+00,\n",
       "        1.16017988e+00, 1.16174651e+00, 1.16516688e+00, 1.16582519e+00,\n",
       "        1.17376893e+00, 1.17413198e+00, 1.17548972e+00, 1.17879504e+00,\n",
       "        1.18168874e+00, 1.18273324e+00, 1.19627791e+00, 1.19731073e+00,\n",
       "        1.20235650e+00, 1.20392453e+00, 1.20509438e+00, 1.21186938e+00,\n",
       "        1.21304484e+00, 1.21801227e+00, 1.22271081e+00, 1.23065134e+00,\n",
       "        1.24554926e+00, 1.24571479e+00, 1.24913946e+00, 1.25339532e+00,\n",
       "        1.25593230e+00, 1.25622769e+00, 1.25813331e+00, 1.26053509e+00,\n",
       "        1.26208493e+00, 1.26283930e+00, 1.26503852e+00, 1.27171536e+00,\n",
       "        1.27360598e+00, 1.27787745e+00, 1.28047493e+00, 1.28128074e+00,\n",
       "        1.28226531e+00, 1.28558811e+00, 1.28766252e+00, 1.29143927e+00,\n",
       "        1.29580514e+00, 1.30011722e+00, 1.30431889e+00, 1.31341177e+00,\n",
       "        1.32584809e+00, 1.32603857e+00, 1.32618002e+00, 1.32786043e+00,\n",
       "        1.33328702e+00, 1.34925177e+00, 1.35053464e+00, 1.35137418e+00,\n",
       "        1.35713713e+00, 1.35766134e+00, 1.36255788e+00, 1.36513999e+00,\n",
       "        1.36796891e+00, 1.37963865e+00, 1.38043355e+00, 1.38218338e+00,\n",
       "        1.38834537e+00, 1.39397459e+00, 1.39450156e+00, 1.39713464e+00,\n",
       "        1.41180212e+00, 1.41342229e+00, 1.41386614e+00, 1.41419681e+00,\n",
       "        1.42687234e+00, 1.43182412e+00, 1.43195186e+00, 1.43307695e+00,\n",
       "        1.43688871e+00, 1.44088579e+00, 1.44397474e+00, 1.44557318e+00,\n",
       "        1.45263609e+00, 1.45394658e+00, 1.46180684e+00, 1.46221523e+00,\n",
       "        1.46375752e+00, 1.46446407e+00, 1.47238125e+00, 1.47954664e+00,\n",
       "        1.48162333e+00, 1.48169681e+00, 1.48764025e+00, 1.48871861e+00,\n",
       "        1.49256142e+00, 1.49739991e+00, 1.51826220e+00, 1.52199075e+00,\n",
       "        1.52584682e+00, 1.53120220e+00, 1.53463508e+00, 1.53542742e+00,\n",
       "        1.54044583e+00, 1.54719089e+00, 1.54835680e+00, 1.54882741e+00,\n",
       "        1.56597791e+00, 1.56684985e+00, 1.56945129e+00, 1.57103539e+00,\n",
       "        1.57816518e+00, 1.57893477e+00, 1.57909490e+00, 1.57977261e+00,\n",
       "        1.58304093e+00, 1.58362397e+00, 1.58428691e+00, 1.59272623e+00,\n",
       "        1.59541334e+00, 1.60462124e+00, 1.60724459e+00, 1.60758362e+00,\n",
       "        1.60976101e+00, 1.61100869e+00, 1.61192806e+00, 1.61936480e+00,\n",
       "        1.62483045e+00, 1.63051002e+00, 1.63433863e+00, 1.63714579e+00,\n",
       "        1.64345559e+00, 1.64625529e+00, 1.64665438e+00, 1.64919143e+00,\n",
       "        1.65251662e+00, 1.65323536e+00, 1.65554095e+00, 1.65722484e+00,\n",
       "        1.65809136e+00, 1.66034720e+00, 1.66260762e+00, 1.66811312e+00,\n",
       "        1.67403874e+00, 1.67597510e+00, 1.68418806e+00, 1.68853737e+00,\n",
       "        1.69149999e+00, 1.69189753e+00, 1.69809080e+00, 1.70310609e+00,\n",
       "        1.71248393e+00, 1.72442935e+00, 1.72488999e+00, 1.73033559e+00,\n",
       "        1.73314726e+00, 1.73423355e+00, 1.74433032e+00, 1.74614983e+00,\n",
       "        1.74886706e+00, 1.74952616e+00, 1.75624607e+00, 1.75759715e+00,\n",
       "        1.75898765e+00, 1.76163789e+00, 1.76674461e+00, 1.76993810e+00,\n",
       "        1.77334010e+00, 1.77538726e+00, 1.77759022e+00, 1.78531637e+00,\n",
       "        1.78786782e+00, 1.79045010e+00, 1.79702990e+00, 1.79921204e+00,\n",
       "        1.80023752e+00, 1.80474168e+00, 1.80531188e+00, 1.81023073e+00,\n",
       "        1.82051647e+00, 1.82052047e+00, 1.82493166e+00, 1.83437807e+00,\n",
       "        1.84008779e+00, 1.85138943e+00, 1.85380701e+00, 1.85719613e+00,\n",
       "        1.87105206e+00, 1.87450616e+00, 1.87711921e+00, 1.87839073e+00,\n",
       "        1.88241657e+00, 1.88274731e+00, 1.88607804e+00, 1.89210205e+00,\n",
       "        1.89286409e+00, 1.89435333e+00, 1.89746541e+00, 1.89840951e+00,\n",
       "        1.89864700e+00, 1.90759482e+00, 1.90791997e+00, 1.91584686e+00,\n",
       "        1.92322833e+00, 1.92549289e+00, 1.92711008e+00, 1.92810280e+00,\n",
       "        1.93033446e+00, 1.94041640e+00, 1.95362281e+00, 1.97026957e+00,\n",
       "        1.97197376e+00, 1.97436249e+00, 1.97539102e+00, 1.98191997e+00,\n",
       "        1.98693283e+00, 1.99091012e+00, 1.99317942e+00, 1.99836875e+00]),\n",
       " (500,))"
      ]
     },
     "execution_count": 17,
     "metadata": {},
     "output_type": "execute_result"
    }
   ],
   "source": [
    "X, X.shape"
   ]
  },
  {
   "attachments": {},
   "cell_type": "markdown",
   "metadata": {},
   "source": [
    "And now, `y`."
   ]
  },
  {
   "cell_type": "code",
   "execution_count": 18,
   "metadata": {},
   "outputs": [
    {
     "data": {
      "text/plain": [
       "(array([ 2.13346440e+00,  1.85221200e+00,  2.10689493e+00,  1.99324770e+00,\n",
       "         1.99423445e+00,  2.04486596e+00,  2.10670623e+00,  2.07939754e+00,\n",
       "         2.13084138e+00,  1.87983846e+00,  1.93843490e+00,  1.87408931e+00,\n",
       "         1.88246544e+00,  1.94848495e+00,  1.96075724e+00,  1.61121467e+00,\n",
       "         1.48212616e+00,  1.58837442e+00,  1.39832761e+00,  1.41424745e+00,\n",
       "         1.21278770e+00,  1.28603287e+00,  1.27195535e+00,  1.37745028e+00,\n",
       "         1.34547911e+00,  8.04957894e-01,  7.50657194e-01,  9.42086174e-01,\n",
       "         7.52440554e-01,  8.17966250e-01,  4.99543256e-01,  4.53930244e-01,\n",
       "         4.47722567e-01,  4.15866962e-01,  5.88946626e-01,  2.64582220e-01,\n",
       "         3.43015342e-01,  9.13748316e-02,  2.19710912e-02, -1.47364238e-01,\n",
       "        -6.75288399e-02, -3.80161331e-01, -3.90658691e-02, -2.76883791e-01,\n",
       "        -2.07050375e-01, -1.76450839e-01, -2.32084937e-01, -2.64716160e-01,\n",
       "        -2.72687048e-01, -3.18142736e-01, -5.44253042e-01, -5.16057077e-01,\n",
       "        -3.30821410e-01, -3.75822296e-01, -3.06798011e-01, -3.82691202e-01,\n",
       "        -4.76966505e-01, -4.07230664e-01, -4.80509234e-01, -5.51550380e-01,\n",
       "        -4.25324606e-01, -4.00101813e-01, -3.66466029e-01, -5.67868920e-01,\n",
       "        -3.78215727e-01, -2.59393941e-01, -3.09467632e-01, -3.49439216e-01,\n",
       "        -4.18872756e-01, -4.49971218e-01, -3.91420513e-01, -4.93213610e-01,\n",
       "        -2.01412593e-01, -2.07588848e-01, -2.00698933e-01, -1.41590054e-01,\n",
       "        -1.10434321e-03,  5.53138192e-02, -5.72016149e-02, -1.06528818e-01,\n",
       "         1.05302787e-01,  5.02766809e-02,  2.58704574e-01,  2.43866318e-01,\n",
       "         2.42228806e-02,  2.35081441e-01,  2.72822271e-01,  2.40862476e-01,\n",
       "         2.34680425e-01,  1.29573840e-01,  4.39475065e-01,  4.53817450e-01,\n",
       "         5.61305232e-01,  4.25394645e-01,  6.38187737e-01,  5.76038685e-01,\n",
       "         5.98385112e-01,  7.79572625e-01,  7.65937517e-01,  4.17229754e-01,\n",
       "         5.82445791e-01,  6.28352739e-01,  7.67503703e-01,  6.95017015e-01,\n",
       "         7.51534084e-01,  6.31558148e-01,  8.64876350e-01,  6.23821441e-01,\n",
       "         6.31459976e-01,  6.16067579e-01,  6.50406933e-01,  8.16146636e-01,\n",
       "         7.24105786e-01,  6.62315780e-01,  6.61078787e-01,  5.67952746e-01,\n",
       "         3.51968630e-01,  2.51122845e-01,  4.26012485e-01,  2.21211246e-01,\n",
       "        -2.28243869e-01, -2.09089039e-01, -1.88034132e-01, -2.34746670e-02,\n",
       "        -1.07908447e-01, -3.05805118e-01, -5.16879277e-01, -5.55378517e-01,\n",
       "        -3.32873672e-01, -3.83168022e-01, -5.72093814e-01, -8.70285393e-01,\n",
       "        -9.12016366e-01, -1.01264596e+00, -9.94746191e-01, -1.37684864e+00,\n",
       "        -1.36402451e+00, -1.25354837e+00, -1.36529894e+00, -1.21154232e+00,\n",
       "        -1.42962365e+00, -1.46619353e+00, -1.49578081e+00, -1.63144349e+00,\n",
       "        -1.61526598e+00, -1.55466485e+00, -1.65983381e+00, -1.64684669e+00,\n",
       "        -1.77854755e+00, -1.58040221e+00, -1.86777623e+00, -2.00773000e+00,\n",
       "        -1.75776452e+00, -1.72559250e+00, -1.87278544e+00, -1.83293401e+00,\n",
       "        -1.73935284e+00, -1.89211967e+00, -2.06886652e+00, -1.88305192e+00,\n",
       "        -1.87496270e+00, -1.95925590e+00, -1.87743312e+00, -1.93041395e+00,\n",
       "        -1.89122832e+00, -2.12117395e+00, -1.72042184e+00, -1.80312663e+00,\n",
       "        -1.78686187e+00, -1.92860337e+00, -1.60764784e+00, -1.53200285e+00,\n",
       "        -1.54431444e+00, -1.56336488e+00, -1.57894923e+00, -1.50207625e+00,\n",
       "        -1.14277842e+00, -1.17546340e+00, -1.26613786e+00, -1.05720607e+00,\n",
       "        -1.09008302e+00, -1.19303193e+00, -1.09094704e+00, -7.69311672e-01,\n",
       "        -7.02240888e-01, -6.25934496e-01, -6.47780602e-01, -1.95531787e-01,\n",
       "        -5.40726016e-01, -4.09823479e-01,  1.19987741e-02, -1.71795819e-01,\n",
       "        -2.05303079e-01, -1.22297558e-01, -8.14306270e-02,  1.36045175e-01,\n",
       "         9.22790168e-02,  8.64266174e-02,  2.05616806e-02,  2.26372960e-01,\n",
       "         1.84056797e-01,  1.83079362e-01,  1.21386165e-01,  9.71251696e-02,\n",
       "         1.43840563e-01,  2.79767678e-01,  1.11984121e-01,  1.79270280e-01,\n",
       "         1.59562527e-01,  3.30707415e-02, -4.30674088e-02, -9.63145896e-03,\n",
       "        -2.79189990e-01, -1.95854147e-01, -7.68944424e-02, -2.07827309e-01,\n",
       "        -2.18181080e-01, -3.81355345e-01, -5.42742952e-01, -7.34833968e-01,\n",
       "        -5.05734669e-01, -7.10729073e-01, -7.54349055e-01, -7.68115969e-01,\n",
       "        -6.87812045e-01, -7.22120854e-01, -8.70703626e-01, -7.46490171e-01,\n",
       "        -9.05271869e-01, -8.57338616e-01, -7.62593359e-01, -9.56543842e-01,\n",
       "        -1.10102013e+00, -8.90675530e-01, -7.65250959e-01, -1.01949318e+00,\n",
       "        -9.29502167e-01, -1.10574178e+00, -8.55814063e-01, -9.81514855e-01,\n",
       "        -1.05353025e+00, -1.09598179e+00, -8.59183134e-01, -1.09415391e+00,\n",
       "        -1.07146177e+00, -1.05125750e+00, -9.41746665e-01, -1.03179076e+00,\n",
       "        -1.00742663e+00, -9.54544445e-01, -1.01252070e+00, -1.20022111e+00,\n",
       "        -1.17008953e+00, -8.83285790e-01, -8.48866263e-01, -9.47919205e-01,\n",
       "        -7.95056429e-01, -8.96305653e-01, -9.52669120e-01, -8.02141517e-01,\n",
       "        -6.90966456e-01, -9.10413676e-01, -7.14674374e-01, -5.61833877e-01,\n",
       "        -4.86848104e-01, -3.85296563e-01, -3.28889300e-01, -3.34094944e-01,\n",
       "         7.21575515e-02, -1.54815979e-01,  1.44908147e-01,  3.84345357e-01,\n",
       "         5.43141054e-01,  5.31010280e-01,  8.99724402e-01,  6.25645265e-01,\n",
       "         9.38689166e-01,  1.12896803e+00,  1.04381758e+00,  1.14542836e+00,\n",
       "         1.21320927e+00,  1.09877077e+00,  1.11119884e+00,  1.23505052e+00,\n",
       "         1.30875544e+00,  1.43061467e+00,  1.20972849e+00,  1.63338834e+00,\n",
       "         1.51299466e+00,  1.48178159e+00,  1.55037008e+00,  1.62284239e+00,\n",
       "         1.77861039e+00,  1.77953378e+00,  1.69605049e+00,  1.70098203e+00,\n",
       "         1.68009272e+00,  1.49125832e+00,  1.77796834e+00,  1.70776805e+00,\n",
       "         1.87652243e+00,  1.83012847e+00,  1.78885261e+00,  1.85304450e+00,\n",
       "         1.85181531e+00,  1.67115820e+00,  1.77088425e+00,  1.75915650e+00,\n",
       "         1.86840097e+00,  1.49218755e+00,  1.62507373e+00,  1.62908247e+00,\n",
       "         1.49264483e+00,  1.47997389e+00,  1.56581350e+00,  1.74358871e+00,\n",
       "         1.57076775e+00,  1.37917283e+00,  1.51625606e+00,  1.33100784e+00,\n",
       "         1.49283937e+00,  1.20724593e+00,  1.32830173e+00,  1.42711590e+00,\n",
       "         1.21050466e+00,  1.12208878e+00,  1.11267614e+00,  1.03468745e+00,\n",
       "         1.09611625e+00,  9.83885151e-01,  8.93124076e-01,  7.42079490e-01,\n",
       "         6.69086975e-01,  5.25493954e-01,  5.50066899e-01,  6.38975365e-01,\n",
       "         3.82708176e-01,  3.62732718e-01,  2.83103787e-01,  2.81563109e-01,\n",
       "         1.73396806e-01,  3.26510451e-01,  2.08151305e-01,  1.38561158e-01,\n",
       "         9.68930413e-02, -1.60904276e-02,  1.78922558e-01,  4.63407135e-02,\n",
       "        -1.13360879e-01,  7.13501005e-02, -1.50648229e-01,  2.20270800e-02,\n",
       "         4.34964786e-02,  1.29765174e-02, -2.46186997e-02, -1.23063228e-01,\n",
       "        -5.08161158e-02,  9.37058498e-03, -1.23984088e-01, -5.50892374e-02,\n",
       "         1.06642695e-01,  1.46872768e-01,  9.85181852e-02, -3.62511545e-02,\n",
       "         1.34849205e-01,  1.19585493e-01,  2.91165742e-01,  1.86298572e-01,\n",
       "         1.80030351e-01,  2.76176668e-01,  3.39150357e-01,  4.32462692e-01,\n",
       "         5.46910798e-01,  4.48370529e-01,  4.76181814e-01,  7.10363558e-01,\n",
       "         6.27916040e-01,  6.43599299e-01,  9.68202696e-01,  7.76638069e-01,\n",
       "         1.01226156e+00,  1.06454239e+00,  1.10141557e+00,  1.18937958e+00,\n",
       "         1.20293660e+00,  1.35748344e+00,  1.04843237e+00,  1.30797384e+00,\n",
       "         1.44301364e+00,  1.27475770e+00,  1.17870401e+00,  1.43217424e+00,\n",
       "         1.48938123e+00,  1.37606335e+00,  1.36371268e+00,  1.44913903e+00,\n",
       "         1.39992021e+00,  1.27868109e+00,  1.37398391e+00,  1.30922613e+00,\n",
       "         1.50098705e+00,  1.36719353e+00,  1.18942687e+00,  1.22153764e+00,\n",
       "         1.37456597e+00,  1.41168842e+00,  1.20383486e+00,  1.10476747e+00,\n",
       "         1.11668694e+00,  1.19666577e+00,  8.50266611e-01,  9.78766180e-01,\n",
       "         9.31174526e-01,  8.58448777e-01,  8.36252697e-01,  7.81642439e-01,\n",
       "         8.29407466e-01,  7.29476208e-01,  7.07739380e-01,  8.28594913e-01,\n",
       "         6.12192245e-01,  6.98924795e-01,  6.66444652e-01,  4.04747960e-01,\n",
       "         3.20364672e-01,  4.47814100e-01,  9.42295592e-02,  1.24965495e-01,\n",
       "        -7.03870033e-04,  1.70430720e-01, -1.29740836e-01, -7.67281189e-02,\n",
       "        -6.97380151e-01, -7.20170276e-01, -4.49416710e-01, -8.07957537e-01,\n",
       "        -8.84928643e-01, -8.58005019e-01, -9.80591487e-01, -1.17802273e+00,\n",
       "        -1.03523019e+00, -9.22642166e-01, -1.22336514e+00, -1.10633587e+00,\n",
       "        -1.11453395e+00, -1.30245002e+00, -1.34343433e+00, -1.32871856e+00,\n",
       "        -1.42320452e+00, -1.52920797e+00, -1.29953232e+00, -1.61201982e+00,\n",
       "        -1.53990361e+00, -1.48428795e+00, -1.70381647e+00, -1.54680170e+00,\n",
       "        -1.56083643e+00, -1.58838453e+00, -1.63903193e+00, -1.54433995e+00,\n",
       "        -1.69398649e+00, -1.52528449e+00, -1.60560809e+00, -1.46904605e+00,\n",
       "        -1.60443062e+00, -1.49949205e+00, -1.19033402e+00, -1.38183831e+00,\n",
       "        -1.39719004e+00, -1.20110428e+00, -1.06754351e+00, -1.17888606e+00,\n",
       "        -1.13977748e+00, -1.11719976e+00, -1.17169964e+00, -1.09981540e+00,\n",
       "        -9.31507067e-01, -9.41957914e-01, -9.00338830e-01, -7.91777666e-01,\n",
       "        -8.09522914e-01, -7.56190452e-01, -7.58360208e-01, -5.26270226e-01,\n",
       "        -6.00025527e-01, -3.66131619e-01, -4.84235173e-01, -5.58304061e-01,\n",
       "        -4.16574467e-01, -4.49775054e-01, -2.30266290e-01, -2.38521132e-01,\n",
       "         5.12563421e-02, -1.97718422e-02, -6.19207878e-02, -1.81074868e-01,\n",
       "        -1.90562189e-02, -2.36026793e-02,  7.52465215e-02,  9.22098126e-02]),\n",
       " (500,))"
      ]
     },
     "execution_count": 18,
     "metadata": {},
     "output_type": "execute_result"
    }
   ],
   "source": [
    "y, y.shape"
   ]
  },
  {
   "attachments": {},
   "cell_type": "markdown",
   "metadata": {},
   "source": [
    "### Reshaping Arrays "
   ]
  },
  {
   "cell_type": "code",
   "execution_count": 19,
   "metadata": {},
   "outputs": [
    {
     "data": {
      "text/plain": [
       "(500, 1)"
      ]
     },
     "execution_count": 19,
     "metadata": {},
     "output_type": "execute_result"
    }
   ],
   "source": [
    "X = X.reshape(X.shape[0], 1)\n",
    "X.shape"
   ]
  },
  {
   "cell_type": "code",
   "execution_count": 20,
   "metadata": {},
   "outputs": [
    {
     "data": {
      "text/plain": [
       "(500, 1)"
      ]
     },
     "execution_count": 20,
     "metadata": {},
     "output_type": "execute_result"
    }
   ],
   "source": [
    "y = y.reshape(y.shape[0], 1)\n",
    "y.shape"
   ]
  },
  {
   "attachments": {},
   "cell_type": "markdown",
   "metadata": {},
   "source": [
    "## Calculating Predictions"
   ]
  },
  {
   "attachments": {},
   "cell_type": "markdown",
   "metadata": {},
   "source": [
    "Defining a function to calculate the diagonal weight matrix. This function takes in the test point, the training data and the value of `tau` which corresponds to the radius of the circle surrounding a point. All the points laying in the circle are considered for the regression problem. "
   ]
  },
  {
   "cell_type": "code",
   "execution_count": 21,
   "metadata": {},
   "outputs": [],
   "source": [
    "# Weight Matrix in code. It is a diagonal matrix.def wm(point, X, tau): \n",
    "def calculateWeightMatrix(point, X, tau):\n",
    "    '''\n",
    "    The parameters of this function are,\n",
    "\t\ttau --> bandwidth\n",
    "\t\tX --> Training data.\n",
    "\t\tpoint --> the x where we want to make the prediction.\n",
    "    ''' \n",
    "    \n",
    "    # m is the No of training examples .\n",
    "    m = X.shape[0] \n",
    "    \n",
    "    # Initialising W as an identity matrix.\n",
    "    w = np.mat(np.eye(m)) \n",
    "    \n",
    "    # Calculating weights for all training examples [x(i)'s].\n",
    "    for i in range(m): \n",
    "        xi = X[i] \n",
    "        d = (-2 * tau * tau) \n",
    "        w[i, i] = np.exp(np.dot((xi - point), (xi - point).T) / d) \n",
    "        \n",
    "    return w"
   ]
  },
  {
   "attachments": {},
   "cell_type": "markdown",
   "metadata": {},
   "source": [
    "Now, defining a function to predict the `y` value for a point which uses the previously defined function to calculate the weight matrix."
   ]
  },
  {
   "cell_type": "code",
   "execution_count": 22,
   "metadata": {},
   "outputs": [],
   "source": [
    "def predict(X, y, point, tau): \n",
    "    # m = number of training examples. \n",
    "    m = X.shape[0]\n",
    "    \n",
    "    onesColumn = np.ones(m).reshape(m, 1)\n",
    "    \n",
    "    # Appending a column of ones in X to add the bias term. Just one parameter: theta, that's why adding a column of ones to X and also adding a 1 for the point where we want to predict. \n",
    "    X_ = np.append(X, onesColumn, axis=1) \n",
    "    \n",
    "    # point is the x where we want to make the prediction. \n",
    "    point_ = np.array([point, 1]) \n",
    "    \n",
    "    # Calculating the weight matrix using the wm function we wrote      #  # earlier. \n",
    "    w = calculateWeightMatrix(point_, X_, tau) \n",
    "    \n",
    "    # Calculating parameter theta using the formula.\n",
    "    theta = np.linalg.pinv(X_.T * (w * X_)) * (X_.T * (w * y)) \n",
    "    \n",
    "    # Calculating predictions.  \n",
    "    pred = np.dot(point_, theta) \n",
    "    \n",
    "    # Returning the theta and predictions \n",
    "    return theta, pred"
   ]
  },
  {
   "attachments": {},
   "cell_type": "markdown",
   "metadata": {},
   "source": [
    "## Plotting Predictions"
   ]
  },
  {
   "cell_type": "code",
   "execution_count": 61,
   "metadata": {},
   "outputs": [],
   "source": [
    "def plot_predictions(X, y, tau, numberPredictionValues):   \n",
    "    '''\n",
    "    The values for which we are going to predict.\n",
    "    X_test includes numberPredictionValues evenly spaced values in the domain of X.\n",
    "\t\n",
    " \tX --> Training data. \n",
    "\ty --> Output sequence.\n",
    "\tnumberPredictionValues --> number of values/points for which we are going to\n",
    "\tpredict.   \n",
    "\ttau --> the bandwidth.     \n",
    "    '''\n",
    "    X_test = np.linspace(-3, 3, numberPredictionValues) \n",
    "\n",
    "    # Empty list for storing predictions. \n",
    "    predictions = [] \n",
    "\n",
    "    # Predicting for all numberPredictionValues values and storing them in predictions. \n",
    "    for point in X_test: \n",
    "        theta, pred = predict(X, y, point, tau) \n",
    "        predictions.append(pred)\n",
    "        \n",
    "    # Reshaping X_test and predictions\n",
    "    X_test = np.array(X_test).reshape(numberPredictionValues, 1)\n",
    "    predictions = np.array(predictions).reshape(numberPredictionValues, 1)\n",
    "\n",
    "    # Plotting \n",
    "    plt.figure(figsize=(15, 10), dpi=80)\n",
    "    \n",
    "    plt.plot(X, y, 'orange')\n",
    "    plt.plot(X_test, predictions, 'c--')\n",
    "    \n",
    "    plt.legend(['Training Points', 'Best Fit Curve'])\n",
    "    \n",
    "    plt.show()"
   ]
  },
  {
   "attachments": {},
   "cell_type": "markdown",
   "metadata": {},
   "source": [
    "## Putting it All Together"
   ]
  },
  {
   "cell_type": "code",
   "execution_count": 62,
   "metadata": {},
   "outputs": [
    {
     "data": {
      "image/png": "[encoded data removed]",
      "text/plain": [
       "<Figure size 1200x800 with 1 Axes>"
      ]
     },
     "metadata": {},
     "output_type": "display_data"
    }
   ],
   "source": [
    "plot_predictions(X, y, 0.08, 100)"
   ]
  },
  {
   "attachments": {},
   "cell_type": "markdown",
   "metadata": {},
   "source": [
    "# References\n",
    "1. [Medium Article](https://towardsdatascience.com/locally-weighted-linear-regression-in-python-3d324108efbf)\n",
    "2. [Creating Random Non-Linear Data](https://www.oreilly.com/library/view/effective-amazon-machine/9781785883231/586af32b-cd7f-40f4-bfe1-bea45b67a804.xhtml)"
   ]
  }
 ],
 "metadata": {
  "kernelspec": {
   "display_name": "Python 3",
   "language": "python",
   "name": "python3"
  },
  "language_info": {
   "codemirror_mode": {
    "name": "ipython",
    "version": 3
   },
   "file_extension": ".py",
   "mimetype": "text/x-python",
   "name": "python",
   "nbconvert_exporter": "python",
   "pygments_lexer": "ipython3",
   "version": "3.10.6"
  },
  "orig_nbformat": 4
 },
 "nbformat": 4,
 "nbformat_minor": 2
}
