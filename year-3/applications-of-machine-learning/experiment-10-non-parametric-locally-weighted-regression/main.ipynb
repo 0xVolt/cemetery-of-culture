{
 "cells": [
  {
   "attachments": {},
   "cell_type": "markdown",
   "metadata": {},
   "source": [
    "# Experiment 10 - Implementing Non Parametric Locally Weighted Regression on Non-linear Data\n",
    "\n",
    "## Theory\n",
    "\n",
    "### Parametric vs Non-Parametric Learning Algorithms\n",
    "Parametric — In a Parametric Algorithm, we have a fixed set of parameters such as theta that we try to find(the optimal value) while training the data. After we have found the optimal values for these parameters, we can put the data aside or erase it from the computer and just use the model with parameters to make predictions. Remember, the model is just a function.\n",
    "\n",
    "Non-Parametric — In a Non-Parametric Algorithm, you always have to keep the data and the parameters in your computer memory to make predictions. And that’s why this type of algorithm may not be great if you have a really really massive dataset.\n",
    "\n",
    "### Need for NPLW Regression\n",
    "We specifically apply this regression technique when the data to fit is non-linear. In Linear Regression we would fit a straight line to this data but that won’t work here because the data is non-linear and our predictions would end up having large errors. We need to fit a curved line so that our error is minimized.\n",
    "\n",
    "### How NPLW Regression Works\n",
    "In Locally weighted linear regression, we give the model the `x` where we want to make the prediction, then the model gives all the `x(i)`’s around that `x` a higher weight close to one, and the rest of `x(i)`’s get a lower weight close to zero and then tries to fit a straight line to that weighted `x(i)`’s data.\n",
    "\n",
    "This means that if want to make a prediction for the green point on the x-axis (see figure below), the model gives higher weight to the input data i.e. `x(i)`’s near or around the circle above the green point and all else `x(i)` get a weight close to zero, which results in the model fitting a straight line only to the data which is near or close to the circle. The same goes for the purple, yellow, and grey points on the x-axis.\n",
    "\n",
    "![](./assets/NPLWR-graph.webp)\n",
    "\n",
    "### Important Formulae\n",
    "In Linear regression, we had the following loss function \n",
    "\n",
    "![](./assets/linear-regression-loss-function.webp)\n",
    "\n",
    "The modified loss for locally weighted regression \n",
    "\n",
    "![](./assets/modified-loss-function.webp)\n",
    "\n",
    "`w(i)` (the weight for the ith training example) is the only modification.\n",
    "\n",
    "where the weighting function is, \n",
    "\n",
    "![](./assets/weighting-function.webp)\n",
    "\n",
    "`x` is the point where we want to make the prediction. `x(i)` is the `ith` training example.\n",
    "\n",
    "The value of this function is always between 0 and 1.\n",
    "\n",
    "So, if we look at the function, we see that\n",
    "\n",
    "    If |x(i)-x| is small, w(i) is close to 1.\n",
    "    If |x(i)-x| is large, w(i) is close to 0.\n",
    "\n",
    "The `x(i)`’s which are far from `x` get `w(i)` close to zero and the ones which are close to `x`, get `w(i)` close to 1.\n",
    "\n",
    "### Calculating Error\n",
    "In the loss function, it translates to error terms for the `x(i)`’s which are far from `x` being multiplied by almost zero and for the `x(i)`’s which are close to `x` get multiplied by almost 1. In short, it only sums over the error terms for the `x(i)`’s which are close to `x`.\n",
    "\n",
    "### Algorithm\n",
    "Actually, there exists a closed-form solution for this algorithm which means that we do not have to train the model, we can directly calculate the parameter theta using the following formula.\n",
    "\n",
    "![](./assets/closed-form-solution-for-theta.webp)"
   ]
  },
  {
   "attachments": {},
   "cell_type": "markdown",
   "metadata": {},
   "source": [
    "# Code"
   ]
  },
  {
   "attachments": {},
   "cell_type": "markdown",
   "metadata": {},
   "source": [
    "## Importing Libraries"
   ]
  },
  {
   "cell_type": "code",
   "execution_count": 1,
   "metadata": {},
   "outputs": [],
   "source": [
    "import numpy as np\n",
    "import matplotlib.pyplot as plt\n",
    "import warnings\n",
    "\n",
    "%matplotlib inline\n",
    "\n",
    "warnings.filterwarnings('ignore')"
   ]
  },
  {
   "attachments": {},
   "cell_type": "markdown",
   "metadata": {},
   "source": [
    "## Generating Non-linear Data\n",
    "A good way to create a non-linear dataset is to mix sines with different phases. The dataset we will work with in this experiment is created with the following Python script and exported to a CSV file."
   ]
  },
  {
   "attachments": {},
   "cell_type": "markdown",
   "metadata": {},
   "source": [
    "Create a variable to set the number of samples to create."
   ]
  },
  {
   "cell_type": "code",
   "execution_count": 2,
   "metadata": {},
   "outputs": [],
   "source": [
    "numberSamples = 150"
   ]
  },
  {
   "attachments": {},
   "cell_type": "markdown",
   "metadata": {},
   "source": [
    "Now, creating a lambda function that takes the input and convolves it as a mixture of two `cos` functions."
   ]
  },
  {
   "cell_type": "code",
   "execution_count": 3,
   "metadata": {},
   "outputs": [],
   "source": [
    "deLinearise = lambda X: np.cos(1.5 * np.pi * X) + np.cos(5 * np.pi * X)"
   ]
  },
  {
   "attachments": {},
   "cell_type": "markdown",
   "metadata": {},
   "source": [
    "Now, creating `X` and `y` using the above function and `np.random.rand`."
   ]
  },
  {
   "cell_type": "code",
   "execution_count": 4,
   "metadata": {},
   "outputs": [],
   "source": [
    "X = np.sort(np.random.rand(numberSamples)) * 2\n",
    "y = deLinearise(X) + np.random.randn(numberSamples) * 0.1"
   ]
  },
  {
   "attachments": {},
   "cell_type": "markdown",
   "metadata": {},
   "source": [
    "Here's what `X` looks like."
   ]
  },
  {
   "cell_type": "code",
   "execution_count": 5,
   "metadata": {},
   "outputs": [
    {
     "data": {
      "text/plain": [
       "(array([0.00448841, 0.0107357 , 0.01614711, 0.05932256, 0.06673698,\n",
       "        0.07689571, 0.08356122, 0.14877606, 0.16413767, 0.17769846,\n",
       "        0.19821163, 0.21435996, 0.22815096, 0.22847903, 0.22958877,\n",
       "        0.23732526, 0.26370673, 0.27120294, 0.28765318, 0.29719046,\n",
       "        0.31364341, 0.33850431, 0.34852273, 0.34931347, 0.3505004 ,\n",
       "        0.35550325, 0.36191621, 0.36198844, 0.37652912, 0.38167047,\n",
       "        0.38421407, 0.4011571 , 0.40819475, 0.4406353 , 0.47633341,\n",
       "        0.47770972, 0.51110481, 0.52320415, 0.54303242, 0.55299544,\n",
       "        0.55345249, 0.61031684, 0.61148735, 0.63244579, 0.63939752,\n",
       "        0.68595733, 0.68717685, 0.69781786, 0.69905584, 0.69991635,\n",
       "        0.70120536, 0.72700808, 0.72720345, 0.7361176 , 0.74586395,\n",
       "        0.76355713, 0.77546481, 0.78000149, 0.78378643, 0.81478261,\n",
       "        0.84402508, 0.87480673, 0.88736257, 0.89837183, 0.91330054,\n",
       "        0.91452175, 0.94963924, 0.96107778, 0.9780927 , 0.98105791,\n",
       "        0.99100537, 1.01124106, 1.01177111, 1.02670368, 1.06018511,\n",
       "        1.0802791 , 1.08186903, 1.08498737, 1.11102318, 1.11682853,\n",
       "        1.12095457, 1.12335417, 1.19599534, 1.20657592, 1.21463455,\n",
       "        1.22887766, 1.23362515, 1.23456555, 1.23630534, 1.24593516,\n",
       "        1.24859602, 1.2881177 , 1.30098729, 1.3010691 , 1.30234959,\n",
       "        1.30347601, 1.33078603, 1.34039827, 1.34251105, 1.34697309,\n",
       "        1.35037875, 1.38099101, 1.38826552, 1.40413566, 1.44891225,\n",
       "        1.45256607, 1.47044867, 1.47141022, 1.49205087, 1.4933876 ,\n",
       "        1.50991714, 1.52768723, 1.55045002, 1.56364078, 1.57424501,\n",
       "        1.58618524, 1.59665152, 1.60604326, 1.61614874, 1.62020679,\n",
       "        1.62215251, 1.62251423, 1.66182566, 1.68073038, 1.70575292,\n",
       "        1.73114614, 1.73648224, 1.74137638, 1.76913338, 1.77154582,\n",
       "        1.77595338, 1.78650171, 1.79565623, 1.8289616 , 1.85195349,\n",
       "        1.8522359 , 1.86677358, 1.86992941, 1.87087691, 1.87451942,\n",
       "        1.87948057, 1.91254707, 1.91834401, 1.93889908, 1.94390356,\n",
       "        1.96104899, 1.97574644, 1.97972319, 1.97989762, 1.99827942]),\n",
       " (150,))"
      ]
     },
     "execution_count": 5,
     "metadata": {},
     "output_type": "execute_result"
    }
   ],
   "source": [
    "X, X.shape"
   ]
  },
  {
   "attachments": {},
   "cell_type": "markdown",
   "metadata": {},
   "source": [
    "And now, `y`."
   ]
  },
  {
   "cell_type": "code",
   "execution_count": 6,
   "metadata": {},
   "outputs": [
    {
     "data": {
      "text/plain": [
       "(array([ 2.10885757,  1.89672417,  1.91157555,  1.52834657,  1.414135  ,\n",
       "         1.33873759,  1.17464633, -0.13956302, -0.1002556 , -0.35089899,\n",
       "        -0.37810455, -0.49927753, -0.29107944, -0.3477207 , -0.28798389,\n",
       "        -0.42704   , -0.23516699, -0.31003143, -0.00348478,  0.08129823,\n",
       "         0.18372106,  0.68432612,  0.48934879,  0.62270997,  0.65417007,\n",
       "         0.72501443,  0.71387781,  0.63063965,  0.71339404,  0.72558286,\n",
       "         0.75824643,  0.52047766,  0.71065265,  0.35978125, -0.22096888,\n",
       "        -0.16473845, -0.86370358, -1.09513413, -1.21525646, -1.51713742,\n",
       "        -1.69574426, -2.00081927, -2.04043113, -1.89484525, -1.80074598,\n",
       "        -1.31419859, -1.08843694, -1.1314092 , -1.08303132, -1.1880313 ,\n",
       "        -0.95602759, -0.46189721, -0.65848601, -0.41657438, -0.23672301,\n",
       "        -0.14350527, -0.0528496 , -0.00279721,  0.10753914,  0.35078777,\n",
       "         0.08649452, -0.27620764, -0.35924644, -0.30734084, -0.83715806,\n",
       "        -0.62871787, -1.2309207 , -1.06681794, -1.18395368, -1.02234803,\n",
       "        -1.10702174, -0.73339732, -0.79932993, -1.03207694, -0.3623493 ,\n",
       "         0.03098113,  0.18667681,  0.30307569,  0.61808731,  0.84864023,\n",
       "         0.84083893,  1.04294813,  1.81400615,  1.6903541 ,  1.87914122,\n",
       "         1.78172287,  1.86228171,  1.63399843,  1.8592239 ,  1.66541091,\n",
       "         1.65796303,  1.31521875,  1.09688329,  1.09470917,  0.874384  ,\n",
       "         1.0203112 ,  0.47437703,  0.47516114,  0.45479261,  0.38619001,\n",
       "         0.14032078,  0.01071318,  0.02303259,  0.01634191,  0.176467  ,\n",
       "         0.13066288,  0.26789232,  0.26408705,  0.58307461,  0.56995046,\n",
       "         0.95372686,  1.08729431,  1.13510082,  1.20473376,  1.37219117,\n",
       "         1.27911836,  1.3582348 ,  1.16706258,  1.2586524 ,  1.26535241,\n",
       "         1.02438854,  1.02077653,  0.53928589,  0.43005173, -0.25887906,\n",
       "        -0.76766676, -0.9707029 , -1.0828091 , -1.27643838, -1.36102708,\n",
       "        -1.52743683, -1.27645408, -1.47230876, -1.61527193, -1.36004655,\n",
       "        -1.59467396, -1.23832401, -1.19877916, -1.36025995, -1.06310497,\n",
       "        -1.18178979, -0.91684954, -0.47583581, -0.46658213, -0.24443875,\n",
       "        -0.22585761, -0.13513026,  0.07370737, -0.13242001, -0.08597183]),\n",
       " (150,))"
      ]
     },
     "execution_count": 6,
     "metadata": {},
     "output_type": "execute_result"
    }
   ],
   "source": [
    "y, y.shape"
   ]
  },
  {
   "attachments": {},
   "cell_type": "markdown",
   "metadata": {},
   "source": [
    "### Reshaping Arrays "
   ]
  },
  {
   "cell_type": "code",
   "execution_count": 7,
   "metadata": {},
   "outputs": [
    {
     "data": {
      "text/plain": [
       "(150, 1)"
      ]
     },
     "execution_count": 7,
     "metadata": {},
     "output_type": "execute_result"
    }
   ],
   "source": [
    "X = X.reshape(X.shape[0], 1)\n",
    "X.shape"
   ]
  },
  {
   "cell_type": "code",
   "execution_count": 8,
   "metadata": {},
   "outputs": [
    {
     "data": {
      "text/plain": [
       "(150, 1)"
      ]
     },
     "execution_count": 8,
     "metadata": {},
     "output_type": "execute_result"
    }
   ],
   "source": [
    "y = y.reshape(y.shape[0], 1)\n",
    "y.shape"
   ]
  },
  {
   "attachments": {},
   "cell_type": "markdown",
   "metadata": {},
   "source": [
    "## Calculating Predictions"
   ]
  },
  {
   "attachments": {},
   "cell_type": "markdown",
   "metadata": {},
   "source": [
    "Defining a function to calculate the diagonal weight matrix. This function takes in the test point, the training data and the value of `tau` which corresponds to the radius of the circle surrounding a point. All the points laying in the circle are considered for the regression problem. "
   ]
  },
  {
   "cell_type": "code",
   "execution_count": 9,
   "metadata": {},
   "outputs": [],
   "source": [
    "# Weight Matrix in code. It is a diagonal matrix.def wm(point, X, tau): \n",
    "def calculateWeightMatrix(point, X, tau):\n",
    "    '''\n",
    "    The parameters of this function are,\n",
    "\t\ttau --> bandwidth\n",
    "\t\tX --> Training data.\n",
    "\t\tpoint --> the x where we want to make the prediction.\n",
    "    ''' \n",
    "    \n",
    "    # m is the No of training examples .\n",
    "    m = X.shape[0] \n",
    "    \n",
    "    # Initialising W as an identity matrix.\n",
    "    w = np.mat(np.eye(m)) \n",
    "    \n",
    "    # Calculating weights for all training examples [x(i)'s].\n",
    "    for i in range(m): \n",
    "        xi = X[i] \n",
    "        d = (-2 * tau * tau) \n",
    "        w[i, i] = np.exp(np.dot((xi - point), (xi - point).T) / d) \n",
    "        \n",
    "    return w"
   ]
  },
  {
   "attachments": {},
   "cell_type": "markdown",
   "metadata": {},
   "source": [
    "Now, defining a function to predict the `y` value for a point which uses the previously defined function to calculate the weight matrix."
   ]
  },
  {
   "cell_type": "code",
   "execution_count": 10,
   "metadata": {},
   "outputs": [],
   "source": [
    "def predict(X, y, point, tau): \n",
    "    # m = number of training examples. \n",
    "    m = X.shape[0]\n",
    "    \n",
    "    onesColumn = np.ones(m).reshape(m, 1)\n",
    "    \n",
    "    # Appending a column of ones in X to add the bias term. Just one parameter: theta, that's why adding a column of ones to X and also adding a 1 for the point where we want to predict. \n",
    "    X_ = np.append(X, onesColumn, axis=1) \n",
    "    \n",
    "    # point is the x where we want to make the prediction. \n",
    "    point_ = np.array([point, 1]) \n",
    "    \n",
    "    # Calculating the weight matrix using the wm function we wrote      #  # earlier. \n",
    "    w = calculateWeightMatrix(point_, X_, tau) \n",
    "    \n",
    "    # Calculating parameter theta using the formula.\n",
    "    theta = np.linalg.pinv(X_.T * (w * X_)) * (X_.T * (w * y)) \n",
    "    \n",
    "    # Calculating predictions.  \n",
    "    pred = np.dot(point_, theta) \n",
    "    \n",
    "    # Returning the theta and predictions \n",
    "    return theta, pred"
   ]
  },
  {
   "attachments": {},
   "cell_type": "markdown",
   "metadata": {},
   "source": [
    "## Plotting Predictions"
   ]
  },
  {
   "cell_type": "code",
   "execution_count": 11,
   "metadata": {},
   "outputs": [],
   "source": [
    "def plot_predictions(X, y, tau, numberPredictionValues):   \n",
    "    '''\n",
    "    The values for which we are going to predict.\n",
    "    X_test includes numberPredictionValues evenly spaced values in the domain of X.\n",
    "\t\n",
    " \tX --> Training data. \n",
    "\ty --> Output sequence.\n",
    "\tnumberPredictionValues --> number of values/points for which we are going to\n",
    "\tpredict.   \n",
    "\ttau --> the bandwidth.     \n",
    "    '''\n",
    "    X_test = np.sort(np.random.rand(numberPredictionValues)) * 2\n",
    "\n",
    "    # Empty list for storing predictions. \n",
    "    predictions = [] \n",
    "\n",
    "    # Predicting for all numberPredictionValues values and storing them in predictions. \n",
    "    for point in X_test: \n",
    "        theta, pred = predict(X, y, point, tau) \n",
    "        predictions.append(pred)\n",
    "        \n",
    "    # Reshaping X_test and predictions\n",
    "    X_test = np.array(X_test).reshape(numberPredictionValues, 1)\n",
    "    predictions = np.array(predictions).reshape(numberPredictionValues, 1)\n",
    "\n",
    "    # Plotting \n",
    "    plt.figure(figsize=(15, 10), dpi=80)\n",
    "    \n",
    "    plt.plot(X, y, 'orange')\n",
    "    plt.plot(X_test, predictions, 'c--')\n",
    "    \n",
    "    plt.legend(['Training Points', 'Best Fit Curve'])\n",
    "    \n",
    "    plt.show()"
   ]
  },
  {
   "attachments": {},
   "cell_type": "markdown",
   "metadata": {},
   "source": [
    "## Putting it All Together"
   ]
  },
  {
   "cell_type": "code",
   "execution_count": 12,
   "metadata": {},
   "outputs": [
    {
     "data": {
      "image/png": "[encoded data removed]",
      "text/plain": [
       "<Figure size 1200x800 with 1 Axes>"
      ]
     },
     "metadata": {},
     "output_type": "display_data"
    }
   ],
   "source": [
    "plot_predictions(X, y, 0.08, 100)"
   ]
  },
  {
   "attachments": {},
   "cell_type": "markdown",
   "metadata": {},
   "source": [
    "## Conclusion\n",
    "- [ ] Find optimal value for `k`.\n",
    "- [ ] Refactor code to show optimisation using elbow method."
   ]
  },
  {
   "attachments": {},
   "cell_type": "markdown",
   "metadata": {},
   "source": [
    "# References\n",
    "1. [Medium Article](https://towardsdatascience.com/locally-weighted-linear-regression-in-python-3d324108efbf)\n",
    "2. [Creating Random Non-Linear Data](https://www.oreilly.com/library/view/effective-amazon-machine/9781785883231/586af32b-cd7f-40f4-bfe1-bea45b67a804.xhtml)"
   ]
  }
 ],
 "metadata": {
  "kernelspec": {
   "display_name": "Python 3",
   "language": "python",
   "name": "python3"
  },
  "language_info": {
   "codemirror_mode": {
    "name": "ipython",
    "version": 3
   },
   "file_extension": ".py",
   "mimetype": "text/x-python",
   "name": "python",
   "nbconvert_exporter": "python",
   "pygments_lexer": "ipython3",
   "version": "3.10.6"
  },
  "orig_nbformat": 4
 },
 "nbformat": 4,
 "nbformat_minor": 2
}
