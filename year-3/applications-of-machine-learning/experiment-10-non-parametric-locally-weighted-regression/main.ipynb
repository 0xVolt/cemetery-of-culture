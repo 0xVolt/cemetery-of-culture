{
 "cells": [
  {
   "attachments": {},
   "cell_type": "markdown",
   "metadata": {},
   "source": [
    "# Experiment 10 - Implementing Non Parametric Locally Weighted Regression on Non-linear Data\n",
    "\n",
    "## Theory\n",
    "\n",
    "### Parametric vs Non-Parametric Learning Algorithms\n",
    "Parametric — In a Parametric Algorithm, we have a fixed set of parameters such as theta that we try to find(the optimal value) while training the data. After we have found the optimal values for these parameters, we can put the data aside or erase it from the computer and just use the model with parameters to make predictions. Remember, the model is just a function.\n",
    "\n",
    "Non-Parametric — In a Non-Parametric Algorithm, you always have to keep the data and the parameters in your computer memory to make predictions. And that’s why this type of algorithm may not be great if you have a really really massive dataset.\n",
    "\n",
    "### Need for NPLW Regression\n",
    "We specifically apply this regression technique when the data to fit is non-linear. In Linear Regression we would fit a straight line to this data but that won’t work here because the data is non-linear and our predictions would end up having large errors. We need to fit a curved line so that our error is minimized.\n",
    "\n",
    "### How NPLW Regression Works\n",
    "In Locally weighted linear regression, we give the model the `x` where we want to make the prediction, then the model gives all the `x(i)`’s around that `x` a higher weight close to one, and the rest of `x(i)`’s get a lower weight close to zero and then tries to fit a straight line to that weighted `x(i)`’s data.\n",
    "\n",
    "This means that if want to make a prediction for the green point on the x-axis (see figure below), the model gives higher weight to the input data i.e. `x(i)`’s near or around the circle above the green point and all else `x(i)` get a weight close to zero, which results in the model fitting a straight line only to the data which is near or close to the circle. The same goes for the purple, yellow, and grey points on the x-axis.\n",
    "\n",
    "![](./assets/NPLWR-graph.webp)\n",
    "\n",
    "### Important Formulae\n",
    "In Linear regression, we had the following loss function \n",
    "\n",
    "![](./assets/linear-regression-loss-function.webp)\n",
    "\n",
    "The modified loss for locally weighted regression \n",
    "\n",
    "![](./assets/modified-loss-function.webp)\n",
    "\n",
    "`w(i)` (the weight for the ith training example) is the only modification.\n",
    "\n",
    "where the weighting function is, \n",
    "\n",
    "![](./assets/weighting-function.webp)\n",
    "\n",
    "`x` is the point where we want to make the prediction. `x(i)` is the `ith` training example.\n",
    "\n",
    "The value of this function is always between 0 and 1.\n",
    "\n",
    "So, if we look at the function, we see that\n",
    "\n",
    "    If |x(i)-x| is small, w(i) is close to 1.\n",
    "    If |x(i)-x| is large, w(i) is close to 0.\n",
    "\n",
    "The `x(i)`’s which are far from `x` get `w(i)` close to zero and the ones which are close to `x`, get `w(i)` close to 1.\n",
    "\n",
    "### Calculating Error\n",
    "In the loss function, it translates to error terms for the `x(i)`’s which are far from `x` being multiplied by almost zero and for the `x(i)`’s which are close to `x` get multiplied by almost 1. In short, it only sums over the error terms for the `x(i)`’s which are close to `x`.\n",
    "\n",
    "### Algorithm\n",
    "Actually, there exists a closed-form solution for this algorithm which means that we do not have to train the model, we can directly calculate the parameter theta using the following formula.\n",
    "\n",
    "![](./assets/closed-form-solution-for-theta.webp)"
   ]
  },
  {
   "attachments": {},
   "cell_type": "markdown",
   "metadata": {},
   "source": [
    "# Code"
   ]
  },
  {
   "attachments": {},
   "cell_type": "markdown",
   "metadata": {},
   "source": [
    "## Importing Libraries"
   ]
  },
  {
   "cell_type": "code",
   "execution_count": 41,
   "metadata": {},
   "outputs": [],
   "source": [
    "import numpy as np\n",
    "import matplotlib.pyplot as plt\n",
    "import warnings\n",
    "\n",
    "%matplotlib inline\n",
    "\n",
    "warnings.filterwarnings('ignore')"
   ]
  },
  {
   "attachments": {},
   "cell_type": "markdown",
   "metadata": {},
   "source": [
    "## Generating Non-linear Data\n",
    "A good way to create a non-linear dataset is to mix sines with different phases. The dataset we will work with in this experiment is created with the following Python script and exported to a CSV file."
   ]
  },
  {
   "attachments": {},
   "cell_type": "markdown",
   "metadata": {},
   "source": [
    "Create a variable to set the number of samples to create."
   ]
  },
  {
   "cell_type": "code",
   "execution_count": 42,
   "metadata": {},
   "outputs": [],
   "source": [
    "numberSamples = 150"
   ]
  },
  {
   "attachments": {},
   "cell_type": "markdown",
   "metadata": {},
   "source": [
    "Now, creating a lambda function that takes the input and convolves it as a mixture of two `cos` functions."
   ]
  },
  {
   "cell_type": "code",
   "execution_count": 43,
   "metadata": {},
   "outputs": [],
   "source": [
    "deLinearise = lambda X: np.cos(1.5 * np.pi * X) + np.cos(5 * np.pi * X)"
   ]
  },
  {
   "attachments": {},
   "cell_type": "markdown",
   "metadata": {},
   "source": [
    "Now, creating `X` and `y` using the above function and `np.random.rand`."
   ]
  },
  {
   "cell_type": "code",
   "execution_count": 44,
   "metadata": {},
   "outputs": [],
   "source": [
    "X = np.sort(np.random.rand(numberSamples)) * 2\n",
    "y = deLinearise(X) + np.random.randn(numberSamples) * 0.1"
   ]
  },
  {
   "attachments": {},
   "cell_type": "markdown",
   "metadata": {},
   "source": [
    "Here's what `X` looks like."
   ]
  },
  {
   "cell_type": "code",
   "execution_count": 45,
   "metadata": {},
   "outputs": [
    {
     "data": {
      "text/plain": [
       "(array([0.00480749, 0.00619739, 0.0339804 , 0.04203203, 0.04286091,\n",
       "        0.044257  , 0.046825  , 0.0719554 , 0.09243514, 0.09328568,\n",
       "        0.09461418, 0.09931155, 0.14806618, 0.15572608, 0.1706162 ,\n",
       "        0.17276191, 0.19777332, 0.2039605 , 0.20897311, 0.22642081,\n",
       "        0.23596201, 0.26188436, 0.28035471, 0.29445613, 0.31513793,\n",
       "        0.32334755, 0.34386078, 0.37221767, 0.39572733, 0.41380203,\n",
       "        0.4166763 , 0.42605309, 0.43303236, 0.43903511, 0.44295865,\n",
       "        0.45547281, 0.50945938, 0.51322555, 0.51949472, 0.55231561,\n",
       "        0.57898748, 0.58423877, 0.59257914, 0.61601122, 0.63392633,\n",
       "        0.63855877, 0.64144372, 0.65651742, 0.65669117, 0.66399129,\n",
       "        0.66885029, 0.68931916, 0.69240147, 0.69504081, 0.72319569,\n",
       "        0.72828449, 0.72843257, 0.73241821, 0.74157849, 0.77597353,\n",
       "        0.78634748, 0.80145806, 0.80820248, 0.80881662, 0.81605054,\n",
       "        0.81851438, 0.81947325, 0.83498115, 0.88052206, 0.88228633,\n",
       "        0.89770501, 0.91556226, 0.9180603 , 0.92228488, 0.92379299,\n",
       "        0.92755946, 0.93115229, 0.95233992, 0.9873917 , 0.994797  ,\n",
       "        0.99725197, 1.00288956, 1.00858138, 1.01506953, 1.02245895,\n",
       "        1.03960538, 1.07567531, 1.07684559, 1.09186239, 1.09279368,\n",
       "        1.09698363, 1.17490108, 1.18314159, 1.20498466, 1.21772866,\n",
       "        1.22504092, 1.22989166, 1.24420437, 1.25892398, 1.25972084,\n",
       "        1.29359227, 1.29536276, 1.34545389, 1.34673907, 1.35381424,\n",
       "        1.3705561 , 1.38269569, 1.3842084 , 1.38563004, 1.41146212,\n",
       "        1.42854444, 1.43600584, 1.44536129, 1.47325124, 1.47439681,\n",
       "        1.48093156, 1.51152365, 1.54175263, 1.5474397 , 1.55044845,\n",
       "        1.55163824, 1.59153785, 1.60364092, 1.61984142, 1.63175445,\n",
       "        1.63374321, 1.65016503, 1.66912982, 1.67055523, 1.679579  ,\n",
       "        1.69403798, 1.69624626, 1.72413145, 1.76809221, 1.78081478,\n",
       "        1.79068787, 1.82683703, 1.84956327, 1.85276506, 1.86043455,\n",
       "        1.86217521, 1.87083741, 1.9064608 , 1.90763102, 1.93498974,\n",
       "        1.94040758, 1.94043187, 1.95811005, 1.95996033, 1.98713041]),\n",
       " (150,))"
      ]
     },
     "execution_count": 45,
     "metadata": {},
     "output_type": "execute_result"
    }
   ],
   "source": [
    "X, X.shape"
   ]
  },
  {
   "attachments": {},
   "cell_type": "markdown",
   "metadata": {},
   "source": [
    "And now, `y`."
   ]
  },
  {
   "cell_type": "code",
   "execution_count": 46,
   "metadata": {},
   "outputs": [
    {
     "data": {
      "text/plain": [
       "(array([ 2.03990199,  1.99260095,  1.81424382,  1.77098455,  1.97150364,\n",
       "         1.69410011,  1.66166694,  1.29295515,  1.01372466,  0.90620804,\n",
       "         0.922703  ,  0.95418477, -0.03287067,  0.05503261, -0.15525535,\n",
       "        -0.25878241, -0.36801951, -0.49265525, -0.43146367, -0.39430552,\n",
       "        -0.55165416, -0.52148012, -0.05312614,  0.05800567,  0.4845977 ,\n",
       "         0.41854591,  0.49619508,  0.61205923,  0.79682228,  0.52719822,\n",
       "         0.70841862,  0.48408874,  0.4153147 ,  0.27871165,  0.11798935,\n",
       "         0.02906186, -0.90137679, -1.05743495, -1.25945847, -1.47006698,\n",
       "        -1.83229554, -1.96874724, -1.61838081, -1.91844556, -1.84383277,\n",
       "        -1.85459869, -1.76096354, -1.64166762, -1.73850442, -1.46408699,\n",
       "        -1.51831628, -1.11156017, -1.17907476, -0.96555615, -0.57825069,\n",
       "        -0.6194844 , -0.61147416, -0.53743588, -0.33682644,  0.04208646,\n",
       "         0.06834393,  0.2534587 ,  0.13884021,  0.24705795,  0.23463895,\n",
       "         0.05394009,  0.19089121,  0.19109339, -0.28080001, -0.41858414,\n",
       "        -0.56907164, -0.55583533, -0.74521243, -0.57720888, -0.76669798,\n",
       "        -0.74820003, -0.78198138, -1.06278216, -1.01287153, -1.05914075,\n",
       "        -0.92093495, -0.90727241, -1.07738718, -0.84049299, -0.82714352,\n",
       "        -0.65548923,  0.25101131, -0.06249059,  0.33444097,  0.4515077 ,\n",
       "         0.55192968,  1.51135549,  1.71127967,  1.72469506,  1.8609931 ,\n",
       "         1.91301937,  1.74389016,  1.7634929 ,  1.56498488,  1.50045452,\n",
       "         1.14185578,  0.96399671,  0.3235562 ,  0.39565628,  0.21857067,\n",
       "         0.12817845,  0.16706627,  0.03082161,  0.06329411, -0.02209677,\n",
       "         0.04629075,  0.04432132,  0.1183325 ,  0.38912328,  0.36019577,\n",
       "         0.49730303,  0.88965095,  1.21198991,  1.20020333,  1.26067364,\n",
       "         1.10877539,  1.35523728,  1.21026239,  1.15549658,  0.99779943,\n",
       "         0.89892391,  0.75051995,  0.69313423,  0.3303415 ,  0.16408132,\n",
       "        -0.07914958, -0.01222272, -0.62746846, -1.29183967, -1.48126427,\n",
       "        -1.67371898, -1.67260967, -1.36600952, -1.35490205, -1.42123251,\n",
       "        -1.53902404, -1.25726423, -0.63504607, -1.04374667, -0.66125911,\n",
       "        -0.38595105, -0.49637158, -0.24001197, -0.39464971, -0.14367509]),\n",
       " (150,))"
      ]
     },
     "execution_count": 46,
     "metadata": {},
     "output_type": "execute_result"
    }
   ],
   "source": [
    "y, y.shape"
   ]
  },
  {
   "attachments": {},
   "cell_type": "markdown",
   "metadata": {},
   "source": [
    "### Reshaping Arrays "
   ]
  },
  {
   "cell_type": "code",
   "execution_count": 47,
   "metadata": {},
   "outputs": [
    {
     "data": {
      "text/plain": [
       "(150, 1)"
      ]
     },
     "execution_count": 47,
     "metadata": {},
     "output_type": "execute_result"
    }
   ],
   "source": [
    "X = X.reshape(X.shape[0], 1)\n",
    "X.shape"
   ]
  },
  {
   "cell_type": "code",
   "execution_count": 48,
   "metadata": {},
   "outputs": [
    {
     "data": {
      "text/plain": [
       "(150, 1)"
      ]
     },
     "execution_count": 48,
     "metadata": {},
     "output_type": "execute_result"
    }
   ],
   "source": [
    "y = y.reshape(y.shape[0], 1)\n",
    "y.shape"
   ]
  },
  {
   "attachments": {},
   "cell_type": "markdown",
   "metadata": {},
   "source": [
    "## Calculating Predictions"
   ]
  },
  {
   "attachments": {},
   "cell_type": "markdown",
   "metadata": {},
   "source": [
    "Defining a function to calculate the diagonal weight matrix. This function takes in the test point, the training data and the value of `tau` which corresponds to the radius of the circle surrounding a point. All the points laying in the circle are considered for the regression problem. "
   ]
  },
  {
   "cell_type": "code",
   "execution_count": 49,
   "metadata": {},
   "outputs": [],
   "source": [
    "# Weight Matrix in code. It is a diagonal matrix.def wm(point, X, tau): \n",
    "def calculateWeightMatrix(point, X, tau):\n",
    "    '''\n",
    "    The parameters of this function are,\n",
    "\t\ttau --> bandwidth\n",
    "\t\tX --> Training data.\n",
    "\t\tpoint --> the x where we want to make the prediction.\n",
    "    ''' \n",
    "    \n",
    "    # m is the No of training examples .\n",
    "    m = X.shape[0] \n",
    "    \n",
    "    # Initialising W as an identity matrix.\n",
    "    w = np.mat(np.eye(m)) \n",
    "    \n",
    "    # Calculating weights for all training examples [x(i)'s].\n",
    "    for i in range(m): \n",
    "        xi = X[i] \n",
    "        d = (-2 * tau * tau) \n",
    "        w[i, i] = np.exp(np.dot((xi - point), (xi - point).T) / d) \n",
    "        \n",
    "    return w"
   ]
  },
  {
   "attachments": {},
   "cell_type": "markdown",
   "metadata": {},
   "source": [
    "Now, defining a function to predict the `y` value for a point which uses the previously defined function to calculate the weight matrix."
   ]
  },
  {
   "cell_type": "code",
   "execution_count": 50,
   "metadata": {},
   "outputs": [],
   "source": [
    "def predict(X, y, point, tau): \n",
    "    # m = number of training examples. \n",
    "    m = X.shape[0]\n",
    "    \n",
    "    onesColumn = np.ones(m).reshape(m, 1)\n",
    "    \n",
    "    # Appending a column of ones in X to add the bias term. Just one parameter: theta, that's why adding a column of ones to X and also adding a 1 for the point where we want to predict. \n",
    "    X_ = np.append(X, onesColumn, axis=1) \n",
    "    \n",
    "    # point is the x where we want to make the prediction. \n",
    "    point_ = np.array([point, 1]) \n",
    "    \n",
    "    # Calculating the weight matrix using the wm function we wrote      #  # earlier. \n",
    "    w = calculateWeightMatrix(point_, X_, tau) \n",
    "    \n",
    "    # Calculating parameter theta using the formula.\n",
    "    theta = np.linalg.pinv(X_.T * (w * X_)) * (X_.T * (w * y)) \n",
    "    \n",
    "    # Calculating predictions.  \n",
    "    pred = np.dot(point_, theta) \n",
    "    \n",
    "    # Returning the theta and predictions \n",
    "    return theta, pred"
   ]
  },
  {
   "attachments": {},
   "cell_type": "markdown",
   "metadata": {},
   "source": [
    "## Plotting Predictions"
   ]
  },
  {
   "cell_type": "code",
   "execution_count": 53,
   "metadata": {},
   "outputs": [],
   "source": [
    "def plot_predictions(X, y, tau, numberPredictionValues):   \n",
    "    '''\n",
    "    The values for which we are going to predict.\n",
    "    X_test includes numberPredictionValues evenly spaced values in the domain of X.\n",
    "\t\n",
    " \tX --> Training data. \n",
    "\ty --> Output sequence.\n",
    "\tnumberPredictionValues --> number of values/points for which we are going to\n",
    "\tpredict.   \n",
    "\ttau --> the bandwidth.     \n",
    "    '''\n",
    "    X_test = np.sort(np.random.rand(numberPredictionValues)) * 2\n",
    "\n",
    "    # Empty list for storing predictions. \n",
    "    predictions = [] \n",
    "\n",
    "    # Predicting for all numberPredictionValues values and storing them in predictions. \n",
    "    for point in X_test: \n",
    "        theta, pred = predict(X, y, point, tau) \n",
    "        predictions.append(pred)\n",
    "        \n",
    "    # Reshaping X_test and predictions\n",
    "    X_test = np.array(X_test).reshape(numberPredictionValues, 1)\n",
    "    predictions = np.array(predictions).reshape(numberPredictionValues, 1)\n",
    "\n",
    "    # Plotting \n",
    "    plt.figure(figsize=(15, 10), dpi=80)\n",
    "    \n",
    "    plt.plot(X, y, 'orange')\n",
    "    plt.plot(X_test, predictions, 'c--')\n",
    "    \n",
    "    plt.legend(['Training Points', 'Best Fit Curve'])\n",
    "    \n",
    "    plt.show()"
   ]
  },
  {
   "attachments": {},
   "cell_type": "markdown",
   "metadata": {},
   "source": [
    "## Putting it All Together"
   ]
  },
  {
   "cell_type": "code",
   "execution_count": 54,
   "metadata": {},
   "outputs": [
    {
     "data": {
      "image/png": "[encoded data removed]",
      "text/plain": [
       "<Figure size 1200x800 with 1 Axes>"
      ]
     },
     "metadata": {},
     "output_type": "display_data"
    }
   ],
   "source": [
    "plot_predictions(X, y, 0.08, 100)"
   ]
  },
  {
   "attachments": {},
   "cell_type": "markdown",
   "metadata": {},
   "source": [
    "## Conclusion\n",
    "- [ ] Find optimal value for `k`.\n",
    "- [ ] Refactor code to show optimisation using elbow method."
   ]
  },
  {
   "attachments": {},
   "cell_type": "markdown",
   "metadata": {},
   "source": [
    "# References\n",
    "1. [Medium Article](https://towardsdatascience.com/locally-weighted-linear-regression-in-python-3d324108efbf)\n",
    "2. [Creating Random Non-Linear Data](https://www.oreilly.com/library/view/effective-amazon-machine/9781785883231/586af32b-cd7f-40f4-bfe1-bea45b67a804.xhtml)"
   ]
  }
 ],
 "metadata": {
  "kernelspec": {
   "display_name": "Python 3",
   "language": "python",
   "name": "python3"
  },
  "language_info": {
   "codemirror_mode": {
    "name": "ipython",
    "version": 3
   },
   "file_extension": ".py",
   "mimetype": "text/x-python",
   "name": "python",
   "nbconvert_exporter": "python",
   "pygments_lexer": "ipython3",
   "version": "3.10.6"
  },
  "orig_nbformat": 4
 },
 "nbformat": 4,
 "nbformat_minor": 2
}
