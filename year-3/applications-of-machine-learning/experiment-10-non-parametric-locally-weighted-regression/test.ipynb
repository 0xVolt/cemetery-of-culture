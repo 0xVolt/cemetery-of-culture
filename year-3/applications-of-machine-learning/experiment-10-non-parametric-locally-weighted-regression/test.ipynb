{
 "cells": [
  {
   "attachments": {},
   "cell_type": "markdown",
   "metadata": {},
   "source": [
    "# Experiment 10 - Implementing Non Parametric Locally Weighted Regression on Non-linear Data\n",
    "\n",
    "## Theory\n",
    "\n",
    "### Parametric vs Non-Parametric Learning Algorithms\n",
    "Parametric — In a Parametric Algorithm, we have a fixed set of parameters such as theta that we try to find(the optimal value) while training the data. After we have found the optimal values for these parameters, we can put the data aside or erase it from the computer and just use the model with parameters to make predictions. Remember, the model is just a function.\n",
    "\n",
    "Non-Parametric — In a Non-Parametric Algorithm, you always have to keep the data and the parameters in your computer memory to make predictions. And that’s why this type of algorithm may not be great if you have a really really massive dataset.\n",
    "\n",
    "### Need for NPLW Regression\n",
    "We specifically apply this regression technique when the data to fit is non-linear. In Linear Regression we would fit a straight line to this data but that won’t work here because the data is non-linear and our predictions would end up having large errors. We need to fit a curved line so that our error is minimized.\n",
    "\n",
    "### How NPLW Regression Works\n",
    "In Locally weighted linear regression, we give the model the `x` where we want to make the prediction, then the model gives all the `x(i)`’s around that `x` a higher weight close to one, and the rest of `x(i)`’s get a lower weight close to zero and then tries to fit a straight line to that weighted `x(i)`’s data.\n",
    "\n",
    "This means that if want to make a prediction for the green point on the x-axis (see figure below), the model gives higher weight to the input data i.e. `x(i)`’s near or around the circle above the green point and all else `x(i)` get a weight close to zero, which results in the model fitting a straight line only to the data which is near or close to the circle. The same goes for the purple, yellow, and grey points on the x-axis.\n",
    "\n",
    "![](./assets/NPLWR-graph.webp)\n",
    "\n",
    "### Important Formulae\n",
    "In Linear regression, we had the following loss function \n",
    "\n",
    "![](./assets/linear-regression-loss-function.webp)\n",
    "\n",
    "The modified loss for locally weighted regression \n",
    "\n",
    "![](./assets/modified-loss-function.webp)\n",
    "\n",
    "`w(i)` (the weight for the ith training example) is the only modification.\n",
    "\n",
    "where the weighting function is, \n",
    "\n",
    "![](./assets/weighting-function.webp)\n",
    "\n",
    "`x` is the point where we want to make the prediction. `x(i)` is the `ith` training example.\n",
    "\n",
    "The value of this function is always between 0 and 1.\n",
    "\n",
    "So, if we look at the function, we see that\n",
    "\n",
    "    If |x(i)-x| is small, w(i) is close to 1.\n",
    "    If |x(i)-x| is large, w(i) is close to 0.\n",
    "\n",
    "The `x(i)`’s which are far from `x` get `w(i)` close to zero and the ones which are close to `x`, get `w(i)` close to 1.\n",
    "\n",
    "### Calculating Error\n",
    "In the loss function, it translates to error terms for the `x(i)`’s which are far from `x` being multiplied by almost zero and for the `x(i)`’s which are close to `x` get multiplied by almost 1. In short, it only sums over the error terms for the `x(i)`’s which are close to `x`.\n",
    "\n",
    "### Algorithm\n",
    "Actually, there exists a closed-form solution for this algorithm which means that we do not have to train the model, we can directly calculate the parameter theta using the following formula.\n",
    "\n",
    "![](./assets/closed-form-solution-for-theta.webp)"
   ]
  },
  {
   "attachments": {},
   "cell_type": "markdown",
   "metadata": {},
   "source": [
    "# Code"
   ]
  },
  {
   "attachments": {},
   "cell_type": "markdown",
   "metadata": {},
   "source": [
    "## Importing Libraries"
   ]
  },
  {
   "cell_type": "code",
   "execution_count": 75,
   "metadata": {},
   "outputs": [],
   "source": [
    "import numpy as np\n",
    "import matplotlib.pyplot as plt\n",
    "import warnings\n",
    "\n",
    "%matplotlib inline\n",
    "\n",
    "warnings.filterwarnings('ignore')"
   ]
  },
  {
   "attachments": {},
   "cell_type": "markdown",
   "metadata": {},
   "source": [
    "## Generating Non-linear Data\n",
    "A good way to create a non-linear dataset is to mix sines with different phases. The dataset we will work with in this experiment is created with the following Python script and exported to a CSV file."
   ]
  },
  {
   "attachments": {},
   "cell_type": "markdown",
   "metadata": {},
   "source": [
    "Create a variable to set the number of samples to create."
   ]
  },
  {
   "cell_type": "code",
   "execution_count": 76,
   "metadata": {},
   "outputs": [],
   "source": [
    "numberSamples = 500"
   ]
  },
  {
   "attachments": {},
   "cell_type": "markdown",
   "metadata": {},
   "source": [
    "Now, creating a lambda function that takes the input and convolves it as a mixture of two `cos` functions."
   ]
  },
  {
   "cell_type": "code",
   "execution_count": 77,
   "metadata": {},
   "outputs": [],
   "source": [
    "deLinearise = lambda X: np.cos(1.5 * np.pi * X) + np.cos(5 * np.pi * X)"
   ]
  },
  {
   "attachments": {},
   "cell_type": "markdown",
   "metadata": {},
   "source": [
    "Now, creating `X` and `y` using the above function and `np.random.rand`."
   ]
  },
  {
   "cell_type": "code",
   "execution_count": 78,
   "metadata": {},
   "outputs": [],
   "source": [
    "X = np.sort(np.random.rand(numberSamples)) * 2\n",
    "y = deLinearise(X) + np.random.randn(numberSamples) * 0.1"
   ]
  },
  {
   "attachments": {},
   "cell_type": "markdown",
   "metadata": {},
   "source": [
    "Here's what `X` looks like."
   ]
  },
  {
   "cell_type": "code",
   "execution_count": 79,
   "metadata": {},
   "outputs": [
    {
     "data": {
      "text/plain": [
       "(array([1.79952149e-04, 1.46677833e-02, 1.50654864e-02, 1.63207625e-02,\n",
       "        1.81878382e-02, 2.47717645e-02, 2.85435622e-02, 2.97563727e-02,\n",
       "        3.66570674e-02, 4.04090469e-02, 5.03386700e-02, 5.33613485e-02,\n",
       "        5.88353309e-02, 6.04393973e-02, 6.16420966e-02, 6.67420256e-02,\n",
       "        7.48079803e-02, 7.69484035e-02, 7.88715400e-02, 8.37697958e-02,\n",
       "        8.44684984e-02, 8.63596008e-02, 8.97960182e-02, 9.02125326e-02,\n",
       "        9.47191922e-02, 1.02865820e-01, 1.06544473e-01, 1.07766203e-01,\n",
       "        1.13946725e-01, 1.20348159e-01, 1.21339999e-01, 1.23038545e-01,\n",
       "        1.30438652e-01, 1.30840097e-01, 1.35566538e-01, 1.44103733e-01,\n",
       "        1.56179252e-01, 1.65135625e-01, 1.65426897e-01, 1.68692953e-01,\n",
       "        1.68741857e-01, 1.75747284e-01, 1.76036885e-01, 1.76198762e-01,\n",
       "        1.77784285e-01, 1.86917568e-01, 1.87473232e-01, 1.96414918e-01,\n",
       "        2.02820956e-01, 2.06614962e-01, 2.23050403e-01, 2.34180055e-01,\n",
       "        2.35804972e-01, 2.37327580e-01, 2.39035769e-01, 2.45684809e-01,\n",
       "        2.45782911e-01, 2.45797895e-01, 2.45823171e-01, 2.48283832e-01,\n",
       "        2.60934129e-01, 2.62096774e-01, 2.63647854e-01, 2.63843369e-01,\n",
       "        2.68065294e-01, 2.69474149e-01, 2.72516854e-01, 2.75022641e-01,\n",
       "        2.76222605e-01, 2.76719753e-01, 2.85724100e-01, 2.88807737e-01,\n",
       "        2.93144110e-01, 2.93933351e-01, 2.98152938e-01, 3.02308157e-01,\n",
       "        3.03701364e-01, 3.04549610e-01, 3.04656187e-01, 3.08700475e-01,\n",
       "        3.08721848e-01, 3.10199190e-01, 3.25634245e-01, 3.31236931e-01,\n",
       "        3.38683570e-01, 3.40000546e-01, 3.40114510e-01, 3.40156208e-01,\n",
       "        3.46400640e-01, 3.51716577e-01, 3.57149959e-01, 3.62050591e-01,\n",
       "        3.62827498e-01, 3.63922065e-01, 3.65250088e-01, 3.68714218e-01,\n",
       "        3.72049200e-01, 3.73417478e-01, 3.74866714e-01, 3.75469459e-01,\n",
       "        3.77244843e-01, 3.79818239e-01, 3.82008085e-01, 3.86810999e-01,\n",
       "        3.93733370e-01, 4.04119222e-01, 4.10290093e-01, 4.16262701e-01,\n",
       "        4.19726457e-01, 4.20430060e-01, 4.22341877e-01, 4.26524982e-01,\n",
       "        4.34142894e-01, 4.44051485e-01, 4.52665024e-01, 4.57220408e-01,\n",
       "        4.58762197e-01, 4.65804390e-01, 4.72509199e-01, 4.77518592e-01,\n",
       "        4.81940610e-01, 4.85547245e-01, 4.92359009e-01, 4.93874387e-01,\n",
       "        4.93932197e-01, 4.98837182e-01, 5.00742885e-01, 5.02250109e-01,\n",
       "        5.02298679e-01, 5.02372306e-01, 5.03864123e-01, 5.05579950e-01,\n",
       "        5.14479274e-01, 5.14844403e-01, 5.15720781e-01, 5.22369156e-01,\n",
       "        5.23390974e-01, 5.28499133e-01, 5.31192341e-01, 5.36622595e-01,\n",
       "        5.38053567e-01, 5.46850444e-01, 5.47589748e-01, 5.48524407e-01,\n",
       "        5.58510918e-01, 5.60404899e-01, 5.60481727e-01, 5.69413254e-01,\n",
       "        5.71679742e-01, 5.75173628e-01, 5.75180322e-01, 5.78993778e-01,\n",
       "        5.80358166e-01, 5.84587964e-01, 5.85574547e-01, 5.96726401e-01,\n",
       "        5.99631623e-01, 6.01948892e-01, 6.02740151e-01, 6.12778537e-01,\n",
       "        6.13387070e-01, 6.15320164e-01, 6.27270087e-01, 6.34860620e-01,\n",
       "        6.36208424e-01, 6.44302170e-01, 6.45628547e-01, 6.46004316e-01,\n",
       "        6.50849761e-01, 6.51716852e-01, 6.55329770e-01, 6.56267475e-01,\n",
       "        6.57960170e-01, 6.61790256e-01, 6.63171580e-01, 6.64576137e-01,\n",
       "        6.71952479e-01, 6.74815314e-01, 6.78144586e-01, 6.87625132e-01,\n",
       "        6.87798439e-01, 6.95250292e-01, 6.96771103e-01, 6.96893358e-01,\n",
       "        6.99065393e-01, 7.00069387e-01, 7.00750513e-01, 7.05438961e-01,\n",
       "        7.05880888e-01, 7.06514160e-01, 7.10299004e-01, 7.13849004e-01,\n",
       "        7.16792592e-01, 7.20415385e-01, 7.27073871e-01, 7.35007100e-01,\n",
       "        7.39554374e-01, 7.41709379e-01, 7.42133961e-01, 7.44945143e-01,\n",
       "        7.59327927e-01, 7.66066642e-01, 7.71031012e-01, 7.77252235e-01,\n",
       "        7.81427985e-01, 7.90597775e-01, 7.92832234e-01, 7.93178493e-01,\n",
       "        7.94981656e-01, 8.02661147e-01, 8.03293108e-01, 8.03552782e-01,\n",
       "        8.28610715e-01, 8.28859893e-01, 8.34157008e-01, 8.36787585e-01,\n",
       "        8.43318952e-01, 8.44788762e-01, 8.44820350e-01, 8.48174716e-01,\n",
       "        8.55837984e-01, 8.63801118e-01, 8.69656091e-01, 8.70608194e-01,\n",
       "        8.72820723e-01, 8.74997911e-01, 8.83353952e-01, 8.85246205e-01,\n",
       "        8.88072539e-01, 8.95946698e-01, 8.95961414e-01, 9.00453666e-01,\n",
       "        9.01603991e-01, 9.03814484e-01, 9.04301053e-01, 9.09076194e-01,\n",
       "        9.10092141e-01, 9.14913246e-01, 9.18904093e-01, 9.23920582e-01,\n",
       "        9.28510841e-01, 9.29377410e-01, 9.38315124e-01, 9.39443849e-01,\n",
       "        9.39696327e-01, 9.40868731e-01, 9.44107143e-01, 9.47463447e-01,\n",
       "        9.55440918e-01, 9.55955475e-01, 9.59469584e-01, 9.67070260e-01,\n",
       "        9.70071473e-01, 9.73510377e-01, 9.81853112e-01, 9.86623576e-01,\n",
       "        9.88390555e-01, 1.00818720e+00, 1.01809048e+00, 1.01847640e+00,\n",
       "        1.02621648e+00, 1.02651397e+00, 1.04117157e+00, 1.04349981e+00,\n",
       "        1.04362790e+00, 1.06601159e+00, 1.06656367e+00, 1.06846982e+00,\n",
       "        1.06924303e+00, 1.07228732e+00, 1.07404484e+00, 1.07882219e+00,\n",
       "        1.08145825e+00, 1.09118377e+00, 1.09224494e+00, 1.09246285e+00,\n",
       "        1.09340798e+00, 1.09473050e+00, 1.09574412e+00, 1.09731932e+00,\n",
       "        1.10054403e+00, 1.10095760e+00, 1.11228031e+00, 1.11950198e+00,\n",
       "        1.12488865e+00, 1.12620510e+00, 1.12735839e+00, 1.13070130e+00,\n",
       "        1.13553427e+00, 1.14200984e+00, 1.14492163e+00, 1.14650699e+00,\n",
       "        1.14982749e+00, 1.15399182e+00, 1.15524571e+00, 1.15759503e+00,\n",
       "        1.16647914e+00, 1.17134438e+00, 1.17492176e+00, 1.17521601e+00,\n",
       "        1.17586752e+00, 1.17816105e+00, 1.18389463e+00, 1.19226902e+00,\n",
       "        1.19871527e+00, 1.20585874e+00, 1.20872821e+00, 1.20873857e+00,\n",
       "        1.21280705e+00, 1.21292939e+00, 1.21311135e+00, 1.21471452e+00,\n",
       "        1.21693247e+00, 1.22194567e+00, 1.22821292e+00, 1.22842223e+00,\n",
       "        1.22858910e+00, 1.23024672e+00, 1.23285117e+00, 1.24502769e+00,\n",
       "        1.24939843e+00, 1.26511578e+00, 1.26622596e+00, 1.28032158e+00,\n",
       "        1.28963194e+00, 1.29691844e+00, 1.30537621e+00, 1.30794237e+00,\n",
       "        1.30843163e+00, 1.30886728e+00, 1.30971297e+00, 1.31180025e+00,\n",
       "        1.33782225e+00, 1.34500692e+00, 1.35533716e+00, 1.36065380e+00,\n",
       "        1.36854174e+00, 1.36885341e+00, 1.37050932e+00, 1.37103801e+00,\n",
       "        1.37449338e+00, 1.37514680e+00, 1.37522122e+00, 1.37825933e+00,\n",
       "        1.38269828e+00, 1.38275803e+00, 1.38396285e+00, 1.38591272e+00,\n",
       "        1.39131683e+00, 1.39836780e+00, 1.40728500e+00, 1.40841926e+00,\n",
       "        1.41222735e+00, 1.41586379e+00, 1.42984867e+00, 1.43175187e+00,\n",
       "        1.43565471e+00, 1.44780478e+00, 1.45231366e+00, 1.45795594e+00,\n",
       "        1.47805610e+00, 1.49155527e+00, 1.49405038e+00, 1.50751958e+00,\n",
       "        1.51912553e+00, 1.52777484e+00, 1.52969806e+00, 1.53339171e+00,\n",
       "        1.54110000e+00, 1.54176050e+00, 1.54251348e+00, 1.54319243e+00,\n",
       "        1.54773241e+00, 1.55270853e+00, 1.56302963e+00, 1.56854962e+00,\n",
       "        1.57216435e+00, 1.57331276e+00, 1.57518004e+00, 1.57743502e+00,\n",
       "        1.58227948e+00, 1.58950478e+00, 1.58965269e+00, 1.59372413e+00,\n",
       "        1.59581518e+00, 1.60031734e+00, 1.60219568e+00, 1.60237554e+00,\n",
       "        1.60246419e+00, 1.60312525e+00, 1.60487529e+00, 1.60867122e+00,\n",
       "        1.61082446e+00, 1.61542619e+00, 1.61631411e+00, 1.61727742e+00,\n",
       "        1.62058641e+00, 1.62210118e+00, 1.62773620e+00, 1.63294116e+00,\n",
       "        1.63769652e+00, 1.63988954e+00, 1.64047120e+00, 1.64071243e+00,\n",
       "        1.64840635e+00, 1.65351687e+00, 1.65913402e+00, 1.66267312e+00,\n",
       "        1.66503114e+00, 1.66596149e+00, 1.66694393e+00, 1.66881133e+00,\n",
       "        1.67139481e+00, 1.68320701e+00, 1.68586522e+00, 1.68780697e+00,\n",
       "        1.69237058e+00, 1.69477342e+00, 1.70522519e+00, 1.70606103e+00,\n",
       "        1.71516863e+00, 1.71851512e+00, 1.73155082e+00, 1.74185103e+00,\n",
       "        1.74450339e+00, 1.75335815e+00, 1.75384719e+00, 1.75575058e+00,\n",
       "        1.75890671e+00, 1.76277354e+00, 1.76367272e+00, 1.76587164e+00,\n",
       "        1.76742870e+00, 1.77194202e+00, 1.77434397e+00, 1.77514668e+00,\n",
       "        1.77880249e+00, 1.78103438e+00, 1.78342385e+00, 1.78436082e+00,\n",
       "        1.78489417e+00, 1.78736084e+00, 1.78826099e+00, 1.79447879e+00,\n",
       "        1.80032129e+00, 1.80414042e+00, 1.81514552e+00, 1.81787168e+00,\n",
       "        1.82152863e+00, 1.82267611e+00, 1.82351238e+00, 1.82724518e+00,\n",
       "        1.84727805e+00, 1.84732270e+00, 1.85465544e+00, 1.85578182e+00,\n",
       "        1.85759047e+00, 1.86407929e+00, 1.86564061e+00, 1.86961196e+00,\n",
       "        1.87043219e+00, 1.87181394e+00, 1.88939750e+00, 1.90017258e+00,\n",
       "        1.90081373e+00, 1.90277772e+00, 1.90551654e+00, 1.90574832e+00,\n",
       "        1.90677441e+00, 1.90733237e+00, 1.90776948e+00, 1.90917798e+00,\n",
       "        1.91207640e+00, 1.91454716e+00, 1.91836847e+00, 1.91894114e+00,\n",
       "        1.92371994e+00, 1.93490551e+00, 1.93765504e+00, 1.94225996e+00,\n",
       "        1.94732029e+00, 1.94938412e+00, 1.95935618e+00, 1.96000687e+00,\n",
       "        1.96353857e+00, 1.96453072e+00, 1.96616654e+00, 1.96667545e+00,\n",
       "        1.96724320e+00, 1.96931502e+00, 1.97097439e+00, 1.97112125e+00,\n",
       "        1.97503285e+00, 1.97783716e+00, 1.98343378e+00, 1.98502451e+00,\n",
       "        1.98878991e+00, 1.99053389e+00, 1.99202517e+00, 1.99810039e+00]),\n",
       " (500,))"
      ]
     },
     "execution_count": 79,
     "metadata": {},
     "output_type": "execute_result"
    }
   ],
   "source": [
    "X, X.shape"
   ]
  },
  {
   "attachments": {},
   "cell_type": "markdown",
   "metadata": {},
   "source": [
    "And now, `y`."
   ]
  },
  {
   "cell_type": "code",
   "execution_count": 80,
   "metadata": {},
   "outputs": [
    {
     "data": {
      "text/plain": [
       "(array([ 1.79779251e+00,  1.93954623e+00,  2.01114667e+00,  1.85620075e+00,\n",
       "         1.85939238e+00,  1.79282884e+00,  1.95913807e+00,  1.83159670e+00,\n",
       "         1.90457897e+00,  1.63782598e+00,  1.65815350e+00,  1.53237749e+00,\n",
       "         1.49591128e+00,  1.66447225e+00,  1.66701509e+00,  1.49338690e+00,\n",
       "         1.27025724e+00,  1.23585917e+00,  1.29871702e+00,  1.11704708e+00,\n",
       "         1.16426036e+00,  1.09524804e+00,  1.13141858e+00,  1.17586044e+00,\n",
       "         8.91102289e-01,  7.77249135e-01,  7.36641706e-01,  7.24680579e-01,\n",
       "         5.91493888e-01,  6.14326075e-01,  4.64669932e-01,  4.25578655e-01,\n",
       "         3.53330441e-01,  3.64524105e-01,  3.02168696e-01,  4.71704893e-02,\n",
       "        -1.37709223e-01, -1.36886506e-01, -7.46148374e-02, -2.16799952e-01,\n",
       "        -1.03420975e-01, -3.99513865e-02, -3.14948493e-01, -2.83967334e-01,\n",
       "        -3.15117677e-01, -2.88210193e-01, -3.02828763e-01, -3.79098704e-01,\n",
       "        -5.15705808e-01, -4.16340046e-01, -3.68158335e-01, -4.82430574e-01,\n",
       "        -2.54616784e-01, -3.87282866e-01, -4.49678699e-01, -3.77243514e-01,\n",
       "        -2.50229320e-01, -3.72323378e-01, -3.98036745e-01, -3.19759307e-01,\n",
       "        -1.64166277e-01, -3.20633271e-01, -2.14263116e-01, -1.30216734e-01,\n",
       "        -3.25917538e-01, -1.62016813e-01, -3.83930251e-02,  3.29657377e-02,\n",
       "        -1.59021310e-01, -1.60563389e-01, -1.17531057e-02,  2.07601834e-01,\n",
       "        -6.13572893e-02,  1.31693709e-01,  9.78424675e-02,  1.84883249e-01,\n",
       "         2.27583262e-01,  1.80269670e-01,  3.01448477e-01,  3.56110080e-01,\n",
       "         3.28079378e-01,  1.84524629e-01,  3.07890420e-01,  7.11558163e-01,\n",
       "         5.95517193e-01,  6.55686377e-01,  6.31347036e-01,  5.35851608e-01,\n",
       "         5.28652026e-01,  8.45700473e-01,  6.61107094e-01,  7.58524518e-01,\n",
       "         6.61072625e-01,  7.07855767e-01,  6.37032616e-01,  7.28471549e-01,\n",
       "         5.98500654e-01,  7.10601853e-01,  7.32424844e-01,  7.11553319e-01,\n",
       "         6.97182841e-01,  7.48820994e-01,  8.01681825e-01,  7.73010398e-01,\n",
       "         7.87605404e-01,  6.76216891e-01,  6.16621879e-01,  4.72639030e-01,\n",
       "         4.50546851e-01,  5.77513754e-01,  7.08109028e-01,  3.47955057e-01,\n",
       "         3.27651168e-01,  1.12072191e-01,  1.81053589e-01,  4.57247997e-02,\n",
       "        -1.00282308e-02, -6.84670379e-02, -7.64945578e-03, -2.34424785e-01,\n",
       "        -3.93642843e-01, -3.15566150e-01, -5.92410567e-01, -6.53338160e-01,\n",
       "        -7.24105246e-01, -5.99616219e-01, -6.63417775e-01, -7.34926763e-01,\n",
       "        -6.35890067e-01, -7.48210560e-01, -8.22201908e-01, -9.76272551e-01,\n",
       "        -7.70324912e-01, -9.75980255e-01, -1.00991809e+00, -1.17865280e+00,\n",
       "        -1.33768875e+00, -1.23741839e+00, -1.21546694e+00, -1.33583565e+00,\n",
       "        -1.26019672e+00, -1.58994425e+00, -1.54978426e+00, -1.62585544e+00,\n",
       "        -1.54999484e+00, -1.85161543e+00, -1.55229912e+00, -1.99279267e+00,\n",
       "        -1.68240671e+00, -1.80986958e+00, -1.82436158e+00, -1.98296199e+00,\n",
       "        -1.91190343e+00, -1.93348353e+00, -1.92109087e+00, -1.81571288e+00,\n",
       "        -1.95527549e+00, -2.00707715e+00, -2.00395667e+00, -1.85956137e+00,\n",
       "        -1.96087290e+00, -1.80715812e+00, -1.80369853e+00, -1.83560474e+00,\n",
       "        -1.83381900e+00, -1.57941860e+00, -1.60253405e+00, -1.71338665e+00,\n",
       "        -1.60433080e+00, -1.78013514e+00, -1.53542278e+00, -1.68131804e+00,\n",
       "        -1.56160697e+00, -1.51512330e+00, -1.67796550e+00, -1.61546119e+00,\n",
       "        -1.47837395e+00, -1.40040081e+00, -1.37023628e+00, -1.22238355e+00,\n",
       "        -1.14571082e+00, -1.06891446e+00, -9.21962712e-01, -1.08708634e+00,\n",
       "        -8.99597162e-01, -1.11136067e+00, -9.56505531e-01, -7.32094476e-01,\n",
       "        -8.91614418e-01, -8.46854634e-01, -8.56233439e-01, -6.60619605e-01,\n",
       "        -6.65139736e-01, -5.95210694e-01, -4.83786875e-01, -4.00226506e-01,\n",
       "        -4.51598661e-01, -4.16118199e-01, -2.39840870e-01, -3.74199376e-01,\n",
       "        -1.44983728e-01, -1.44401539e-01, -1.30249904e-01,  5.60061800e-02,\n",
       "         2.10550179e-01,  1.23911801e-01,  2.36890707e-01,  6.38091270e-02,\n",
       "         2.31203157e-01,  2.39302061e-01,  1.34538986e-01,  2.36093626e-01,\n",
       "         1.24368524e-01,  1.84039372e-01,  1.51640006e-01,  1.68916496e-01,\n",
       "        -2.85047837e-02,  1.40929039e-01,  5.05713946e-02,  1.04148563e-01,\n",
       "         1.68359156e-01, -1.15225808e-01, -2.45783616e-01, -1.40520767e-01,\n",
       "        -1.48299233e-02, -1.93923758e-03, -3.81734900e-01, -3.21551575e-01,\n",
       "        -2.51811112e-01, -3.39731486e-01, -4.46882510e-01, -4.49584746e-01,\n",
       "        -5.57082313e-01, -4.83447310e-01, -3.69150578e-01, -4.82419168e-01,\n",
       "        -6.90785246e-01, -6.17433818e-01, -9.18087745e-01, -9.43128281e-01,\n",
       "        -7.27879493e-01, -8.79370980e-01, -8.71210734e-01, -9.07777120e-01,\n",
       "        -9.92976007e-01, -1.02028412e+00, -1.00558663e+00, -8.84874503e-01,\n",
       "        -8.53685220e-01, -1.14573742e+00, -1.11857393e+00, -1.02654690e+00,\n",
       "        -1.05892577e+00, -1.03028543e+00, -1.15558383e+00, -1.09732765e+00,\n",
       "        -9.62634054e-01, -1.04194225e+00, -7.73438353e-01, -1.08245850e+00,\n",
       "        -6.83230615e-01, -7.46186850e-01, -6.33372421e-01, -5.83525829e-01,\n",
       "        -6.27551762e-01, -3.43978163e-01, -1.70507729e-01, -1.27876486e-01,\n",
       "        -2.94143810e-01, -7.18975990e-03, -2.41646603e-02,  2.09683711e-01,\n",
       "         9.64734320e-02,  1.35529161e-01,  2.60031727e-01,  3.29333178e-01,\n",
       "         2.79242016e-01,  2.78073065e-01,  4.81978408e-01,  5.48013117e-01,\n",
       "         5.77667386e-01,  3.50967729e-01,  6.96621326e-01,  8.89680149e-01,\n",
       "         9.71706898e-01,  1.06398015e+00,  1.01327738e+00,  1.11999652e+00,\n",
       "         9.89610946e-01,  1.31882109e+00,  1.25693762e+00,  1.26923492e+00,\n",
       "         1.25807629e+00,  1.50696291e+00,  1.62279129e+00,  1.67997610e+00,\n",
       "         1.72256041e+00,  1.51471882e+00,  1.78741331e+00,  1.58492468e+00,\n",
       "         1.76892344e+00,  1.45998286e+00,  1.74660500e+00,  1.78533414e+00,\n",
       "         1.52802371e+00,  1.89585229e+00,  2.02582289e+00,  1.78504284e+00,\n",
       "         1.82080696e+00,  1.98690210e+00,  1.82715986e+00,  1.80421864e+00,\n",
       "         1.85372355e+00,  1.75992666e+00,  1.61378707e+00,  1.73080908e+00,\n",
       "         1.73158843e+00,  1.82206947e+00,  1.81429515e+00,  1.67431822e+00,\n",
       "         1.53591220e+00,  1.36761097e+00,  1.46607639e+00,  1.28935792e+00,\n",
       "         1.19539969e+00,  9.31501304e-01,  8.92335138e-01,  8.57549195e-01,\n",
       "         8.16688408e-01,  1.04762828e+00,  7.16835235e-01,  8.18604278e-01,\n",
       "         3.10855887e-01,  3.22266488e-01,  2.44807613e-01,  3.14399475e-01,\n",
       "         1.84247798e-01,  8.74278685e-02,  1.51023826e-01,  9.51139278e-02,\n",
       "         1.53865323e-01,  3.47521433e-02,  1.83386508e-01,  1.01855220e-01,\n",
       "        -9.13564105e-02,  1.07152954e-01,  1.35411479e-02,  9.42050989e-02,\n",
       "         1.63778129e-01, -1.83976093e-01, -1.67605553e-01, -9.09297859e-02,\n",
       "         1.81604508e-01,  8.62776972e-02,  3.60523821e-03,  1.20659228e-02,\n",
       "         2.55902796e-02, -1.45835697e-02,  2.08026699e-01,  2.83502371e-01,\n",
       "         4.11859071e-01,  5.92368193e-01,  6.69098002e-01,  6.54415702e-01,\n",
       "         1.05540341e+00,  1.17879580e+00,  1.13722123e+00,  1.17562011e+00,\n",
       "         1.08170603e+00,  1.21262632e+00,  1.13964712e+00,  1.25656340e+00,\n",
       "         1.15842890e+00,  1.10804611e+00,  1.18210353e+00,  1.33753213e+00,\n",
       "         1.16398568e+00,  1.29622810e+00,  1.28401946e+00,  1.52557714e+00,\n",
       "         1.43368138e+00,  1.24387090e+00,  1.31938391e+00,  1.20947923e+00,\n",
       "         1.31514861e+00,  1.26136195e+00,  1.17232144e+00,  1.47632781e+00,\n",
       "         1.36518622e+00,  1.24284275e+00,  1.30495905e+00,  1.26229527e+00,\n",
       "         1.20717443e+00,  1.12762785e+00,  1.35242520e+00,  1.23606287e+00,\n",
       "         1.09157705e+00,  1.13936113e+00,  1.00169751e+00,  8.96305366e-01,\n",
       "         9.39183941e-01,  7.51143407e-01,  9.37658416e-01,  8.88875696e-01,\n",
       "         8.27141608e-01,  6.54175192e-01,  4.93064596e-01,  4.37729384e-01,\n",
       "         4.15062546e-01,  5.55606857e-01,  4.56930701e-01,  4.87669743e-01,\n",
       "         3.93970392e-01,  2.24346236e-01,  7.36315912e-02,  1.67817354e-01,\n",
       "        -1.14061842e-01,  5.83641546e-02, -1.73546309e-01, -1.27364168e-01,\n",
       "        -4.72383883e-01, -5.68764551e-01, -8.12599800e-01, -8.50608195e-01,\n",
       "        -1.16404268e+00, -1.14460690e+00, -1.12686410e+00, -1.00984570e+00,\n",
       "        -1.23743514e+00, -1.26194785e+00, -1.41491172e+00, -1.33165583e+00,\n",
       "        -1.20546873e+00, -1.42910378e+00, -1.41589416e+00, -1.45927288e+00,\n",
       "        -1.55920494e+00, -1.45989035e+00, -1.33543152e+00, -1.36948022e+00,\n",
       "        -1.56974550e+00, -1.64194880e+00, -1.55110282e+00, -1.50261090e+00,\n",
       "        -1.64547144e+00, -1.71792985e+00, -1.64180736e+00, -1.42957456e+00,\n",
       "        -1.70207328e+00, -1.54416241e+00, -1.49350764e+00, -1.66385217e+00,\n",
       "        -1.24759215e+00, -1.39907393e+00, -1.37920595e+00, -1.40563663e+00,\n",
       "        -1.49677987e+00, -1.35965991e+00, -1.16890023e+00, -1.17438630e+00,\n",
       "        -1.33739222e+00, -1.15239677e+00, -1.06669005e+00, -9.35680645e-01,\n",
       "        -9.23977678e-01, -1.02572727e+00, -6.54913725e-01, -7.90172354e-01,\n",
       "        -8.02746707e-01, -9.26144664e-01, -8.68077013e-01, -6.93981650e-01,\n",
       "        -8.08994205e-01, -7.32802670e-01, -5.71189564e-01, -6.21664883e-01,\n",
       "        -5.66305027e-01, -5.79057820e-01, -4.03092079e-01, -5.10694423e-01,\n",
       "        -1.74816982e-01, -1.92021574e-01, -1.98432043e-01, -2.79560409e-01,\n",
       "        -2.40401013e-01,  1.12866299e-01, -6.90863243e-02, -7.14041358e-03,\n",
       "        -1.69488656e-01, -9.18229325e-02, -3.32165076e-01, -5.94903300e-02,\n",
       "        -2.14049041e-01, -2.13462303e-01, -1.99042146e-02, -8.07250913e-02,\n",
       "        -1.82433491e-01,  4.25430324e-02, -1.63548334e-02, -4.87527769e-02]),\n",
       " (500,))"
      ]
     },
     "execution_count": 80,
     "metadata": {},
     "output_type": "execute_result"
    }
   ],
   "source": [
    "y, y.shape"
   ]
  },
  {
   "attachments": {},
   "cell_type": "markdown",
   "metadata": {},
   "source": [
    "### Reshaping Arrays "
   ]
  },
  {
   "cell_type": "code",
   "execution_count": 81,
   "metadata": {},
   "outputs": [
    {
     "data": {
      "text/plain": [
       "(500, 1)"
      ]
     },
     "execution_count": 81,
     "metadata": {},
     "output_type": "execute_result"
    }
   ],
   "source": [
    "X = X.reshape(X.shape[0], 1)\n",
    "X.shape"
   ]
  },
  {
   "cell_type": "code",
   "execution_count": 82,
   "metadata": {},
   "outputs": [
    {
     "data": {
      "text/plain": [
       "(500, 1)"
      ]
     },
     "execution_count": 82,
     "metadata": {},
     "output_type": "execute_result"
    }
   ],
   "source": [
    "y = y.reshape(y.shape[0], 1)\n",
    "y.shape"
   ]
  },
  {
   "attachments": {},
   "cell_type": "markdown",
   "metadata": {},
   "source": [
    "## Calculating Predictions"
   ]
  },
  {
   "attachments": {},
   "cell_type": "markdown",
   "metadata": {},
   "source": [
    "Defining a function to calculate the diagonal weight matrix. This function takes in the test point, the training data and the value of `tau` which corresponds to the radius of the circle surrounding a point. All the points laying in the circle are considered for the regression problem. "
   ]
  },
  {
   "cell_type": "code",
   "execution_count": 83,
   "metadata": {},
   "outputs": [],
   "source": [
    "# Weight Matrix in code. It is a diagonal matrix.def wm(point, X, tau): \n",
    "def calculateWeightMatrix(point, X, tau):\n",
    "    '''\n",
    "    The parameters of this function are,\n",
    "\t\ttau --> bandwidth\n",
    "\t\tX --> Training data.\n",
    "\t\tpoint --> the x where we want to make the prediction.\n",
    "    ''' \n",
    "    \n",
    "    # m is the No of training examples .\n",
    "    m = X.shape[0] \n",
    "    \n",
    "    # Initialising W as an identity matrix.\n",
    "    w = np.mat(np.eye(m)) \n",
    "    \n",
    "    # Calculating weights for all training examples [x(i)'s].\n",
    "    for i in range(m): \n",
    "        xi = X[i] \n",
    "        d = (-2 * tau * tau) \n",
    "        w[i, i] = np.exp(np.dot((xi - point), (xi - point).T) / d) \n",
    "        \n",
    "    return w"
   ]
  },
  {
   "attachments": {},
   "cell_type": "markdown",
   "metadata": {},
   "source": [
    "Now, defining a function to predict the `y` value for a point which uses the previously defined function to calculate the weight matrix."
   ]
  },
  {
   "cell_type": "code",
   "execution_count": 84,
   "metadata": {},
   "outputs": [],
   "source": [
    "def predict(X, y, point, tau):\n",
    "    # m = number of training examples.\n",
    "    m = X.shape[0]\n",
    "\n",
    "    onesColumn = np.ones(m).reshape(m, 1)\n",
    "\n",
    "    # Appending a column of ones in X to add the bias term. Just one parameter: theta, that's why adding a column of ones to X and also adding a 1 for the point where we want to predict.\n",
    "    X_ = np.append(X, onesColumn, axis=1)\n",
    "\n",
    "    # point is the x where we want to make the prediction.\n",
    "    point_ = np.array([point, 1])\n",
    "\n",
    "    # Calculating the weight matrix using the wm function we wrote      #  # earlier.\n",
    "    w = calculateWeightMatrix(point_, X_, tau)\n",
    "\n",
    "    # Calculating parameter theta using the formula.\n",
    "    theta = np.linalg.pinv(X_.T * (w * X_)) * (X_.T * (w * y))\n",
    "\n",
    "    # Calculating predictions.\n",
    "    pred = np.dot(point_, theta)\n",
    "\n",
    "    # Returning the theta and predictions\n",
    "    return theta, pred"
   ]
  },
  {
   "cell_type": "code",
   "execution_count": 85,
   "metadata": {},
   "outputs": [],
   "source": [
    "def getPredictionsForSingleTau(numberPredictions, tau):\n",
    "    # Empty list for storing predictions.\n",
    "    predictions = []\n",
    "\n",
    "    # Predicting for all numberPredictions values and storing them in predictions.\n",
    "    for point in X:\n",
    "        _, predicted = predict(X, y, point, tau)\n",
    "        predictions.append(predicted)\n",
    "\n",
    "    # Reshaping predictions\n",
    "    predictions = np.array(predictions).reshape(numberPredictions, 1)\n",
    "\n",
    "    return predictions"
   ]
  },
  {
   "attachments": {},
   "cell_type": "markdown",
   "metadata": {},
   "source": [
    "## Plotting Predictions"
   ]
  },
  {
   "cell_type": "code",
   "execution_count": 86,
   "metadata": {},
   "outputs": [],
   "source": [
    "def plotPredictions(XTest, predictionList, tauList):\n",
    "    plt.figure(figsize=(20, 15), dpi=80)\n",
    "\n",
    "    plt.plot(X, y, \"o\", color='orange', alpha=0.3, label='Training Data Points')\n",
    "\n",
    "    for i, prediction in enumerate(predictionList):\n",
    "        plt.plot(XTest, prediction, label=f'tau = {tauList[i]}')\n",
    "\n",
    "    plt.legend()\n",
    "    plt.show()"
   ]
  },
  {
   "attachments": {},
   "cell_type": "markdown",
   "metadata": {},
   "source": [
    "## Putting it all Together"
   ]
  },
  {
   "cell_type": "code",
   "execution_count": 87,
   "metadata": {},
   "outputs": [
    {
     "ename": "ValueError",
     "evalue": "setting an array element with a sequence. The requested array has an inhomogeneous shape after 1 dimensions. The detected shape was (2,) + inhomogeneous part.",
     "output_type": "error",
     "traceback": [
      "\u001b[0;31m---------------------------------------------------------------------------\u001b[0m",
      "\u001b[0;31mValueError\u001b[0m                                Traceback (most recent call last)",
      "Cell \u001b[0;32mIn[87], line 10\u001b[0m\n\u001b[1;32m      4\u001b[0m predictionList \u001b[39m=\u001b[39m []\n\u001b[1;32m      6\u001b[0m \u001b[39m# for tau in tauList:\u001b[39;00m\n\u001b[1;32m      7\u001b[0m \u001b[39m#     predictions = getPredictionsForSingleTau(numberSamples, tau)\u001b[39;00m\n\u001b[1;32m      8\u001b[0m \u001b[39m#     predictionList.append(predictions)\u001b[39;00m\n\u001b[0;32m---> 10\u001b[0m predictionList \u001b[39m=\u001b[39m getPredictionsForSingleTau(numberSamples, tau)\n\u001b[1;32m     12\u001b[0m predictionList \u001b[39m=\u001b[39m np\u001b[39m.\u001b[39marray(predictionList)\n\u001b[1;32m     14\u001b[0m plotPredictions(X, predictionList, tau)\n",
      "Cell \u001b[0;32mIn[85], line 7\u001b[0m, in \u001b[0;36mgetPredictionsForSingleTau\u001b[0;34m(numberPredictions, tau)\u001b[0m\n\u001b[1;32m      5\u001b[0m \u001b[39m# Predicting for all numberPredictions values and storing them in predictions.\u001b[39;00m\n\u001b[1;32m      6\u001b[0m \u001b[39mfor\u001b[39;00m point \u001b[39min\u001b[39;00m X:\n\u001b[0;32m----> 7\u001b[0m     _, predicted \u001b[39m=\u001b[39m predict(X, y, point, tau)\n\u001b[1;32m      8\u001b[0m     predictions\u001b[39m.\u001b[39mappend(predicted)\n\u001b[1;32m     10\u001b[0m \u001b[39m# Reshaping predictions\u001b[39;00m\n",
      "Cell \u001b[0;32mIn[84], line 11\u001b[0m, in \u001b[0;36mpredict\u001b[0;34m(X, y, point, tau)\u001b[0m\n\u001b[1;32m      8\u001b[0m X_ \u001b[39m=\u001b[39m np\u001b[39m.\u001b[39mappend(X, onesColumn, axis\u001b[39m=\u001b[39m\u001b[39m1\u001b[39m)\n\u001b[1;32m     10\u001b[0m \u001b[39m# point is the x where we want to make the prediction.\u001b[39;00m\n\u001b[0;32m---> 11\u001b[0m point_ \u001b[39m=\u001b[39m np\u001b[39m.\u001b[39;49marray([point, \u001b[39m1\u001b[39;49m])\n\u001b[1;32m     13\u001b[0m \u001b[39m# Calculating the weight matrix using the wm function we wrote      #  # earlier.\u001b[39;00m\n\u001b[1;32m     14\u001b[0m w \u001b[39m=\u001b[39m calculateWeightMatrix(point_, X_, tau)\n",
      "\u001b[0;31mValueError\u001b[0m: setting an array element with a sequence. The requested array has an inhomogeneous shape after 1 dimensions. The detected shape was (2,) + inhomogeneous part."
     ]
    }
   ],
   "source": [
    "tauList = np.arange(0, 0.1, step=0.05)\n",
    "tau = 0.08\n",
    "\n",
    "predictionList = []\n",
    "\n",
    "# for tau in tauList:\n",
    "#     predictions = getPredictionsForSingleTau(numberSamples, tau)\n",
    "#     predictionList.append(predictions)\n",
    "\n",
    "predictionList = getPredictionsForSingleTau(numberSamples, tau)\n",
    "\n",
    "predictionList = np.array(predictionList)\n",
    "\n",
    "plotPredictions(X, predictionList, tau)"
   ]
  },
  {
   "attachments": {},
   "cell_type": "markdown",
   "metadata": {},
   "source": [
    "# References\n",
    "1. [Medium Article](https://towardsdatascience.com/locally-weighted-linear-regression-in-python-3d324108efbf)\n",
    "2. [Creating Random Non-Linear Data](https://www.oreilly.com/library/view/effective-amazon-machine/9781785883231/586af32b-cd7f-40f4-bfe1-bea45b67a804.xhtml)"
   ]
  }
 ],
 "metadata": {
  "kernelspec": {
   "display_name": "Python 3",
   "language": "python",
   "name": "python3"
  },
  "language_info": {
   "codemirror_mode": {
    "name": "ipython",
    "version": 3
   },
   "file_extension": ".py",
   "mimetype": "text/x-python",
   "name": "python",
   "nbconvert_exporter": "python",
   "pygments_lexer": "ipython3",
   "version": "3.10.6"
  },
  "orig_nbformat": 4
 },
 "nbformat": 4,
 "nbformat_minor": 2
}
