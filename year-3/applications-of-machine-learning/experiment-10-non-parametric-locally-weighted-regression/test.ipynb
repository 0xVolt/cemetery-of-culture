{
 "cells": [
  {
   "attachments": {},
   "cell_type": "markdown",
   "metadata": {},
   "source": [
    "# Experiment 10 - Implementing Non Parametric Locally Weighted Regression on Non-linear Data\n",
    "\n",
    "## Theory\n",
    "\n",
    "### Parametric vs Non-Parametric Learning Algorithms\n",
    "Parametric — In a Parametric Algorithm, we have a fixed set of parameters such as theta that we try to find(the optimal value) while training the data. After we have found the optimal values for these parameters, we can put the data aside or erase it from the computer and just use the model with parameters to make predictions. Remember, the model is just a function.\n",
    "\n",
    "Non-Parametric — In a Non-Parametric Algorithm, you always have to keep the data and the parameters in your computer memory to make predictions. And that’s why this type of algorithm may not be great if you have a really really massive dataset.\n",
    "\n",
    "### Need for NPLW Regression\n",
    "We specifically apply this regression technique when the data to fit is non-linear. In Linear Regression we would fit a straight line to this data but that won’t work here because the data is non-linear and our predictions would end up having large errors. We need to fit a curved line so that our error is minimized.\n",
    "\n",
    "### How NPLW Regression Works\n",
    "In Locally weighted linear regression, we give the model the `x` where we want to make the prediction, then the model gives all the `x(i)`’s around that `x` a higher weight close to one, and the rest of `x(i)`’s get a lower weight close to zero and then tries to fit a straight line to that weighted `x(i)`’s data.\n",
    "\n",
    "This means that if want to make a prediction for the green point on the x-axis (see figure below), the model gives higher weight to the input data i.e. `x(i)`’s near or around the circle above the green point and all else `x(i)` get a weight close to zero, which results in the model fitting a straight line only to the data which is near or close to the circle. The same goes for the purple, yellow, and grey points on the x-axis.\n",
    "\n",
    "![](./assets/NPLWR-graph.webp)\n",
    "\n",
    "### Important Formulae\n",
    "In Linear regression, we had the following loss function \n",
    "\n",
    "![](./assets/linear-regression-loss-function.webp)\n",
    "\n",
    "The modified loss for locally weighted regression \n",
    "\n",
    "![](./assets/modified-loss-function.webp)\n",
    "\n",
    "`w(i)` (the weight for the ith training example) is the only modification.\n",
    "\n",
    "where the weighting function is, \n",
    "\n",
    "![](./assets/weighting-function.webp)\n",
    "\n",
    "`x` is the point where we want to make the prediction. `x(i)` is the `ith` training example.\n",
    "\n",
    "The value of this function is always between 0 and 1.\n",
    "\n",
    "So, if we look at the function, we see that\n",
    "\n",
    "    If |x(i)-x| is small, w(i) is close to 1.\n",
    "    If |x(i)-x| is large, w(i) is close to 0.\n",
    "\n",
    "The `x(i)`’s which are far from `x` get `w(i)` close to zero and the ones which are close to `x`, get `w(i)` close to 1.\n",
    "\n",
    "### Calculating Error\n",
    "In the loss function, it translates to error terms for the `x(i)`’s which are far from `x` being multiplied by almost zero and for the `x(i)`’s which are close to `x` get multiplied by almost 1. In short, it only sums over the error terms for the `x(i)`’s which are close to `x`.\n",
    "\n",
    "### Algorithm\n",
    "Actually, there exists a closed-form solution for this algorithm which means that we do not have to train the model, we can directly calculate the parameter theta using the following formula.\n",
    "\n",
    "![](./assets/closed-form-solution-for-theta.webp)"
   ]
  },
  {
   "attachments": {},
   "cell_type": "markdown",
   "metadata": {},
   "source": [
    "# Code"
   ]
  },
  {
   "attachments": {},
   "cell_type": "markdown",
   "metadata": {},
   "source": [
    "## Importing Libraries"
   ]
  },
  {
   "cell_type": "code",
   "execution_count": 1,
   "metadata": {},
   "outputs": [],
   "source": [
    "import numpy as np\n",
    "import matplotlib.pyplot as plt\n",
    "import warnings\n",
    "\n",
    "%matplotlib inline\n",
    "\n",
    "warnings.filterwarnings('ignore')"
   ]
  },
  {
   "attachments": {},
   "cell_type": "markdown",
   "metadata": {},
   "source": [
    "## Generating Non-linear Data\n",
    "A good way to create a non-linear dataset is to mix sines with different phases. The dataset we will work with in this experiment is created with the following Python script and exported to a CSV file."
   ]
  },
  {
   "attachments": {},
   "cell_type": "markdown",
   "metadata": {},
   "source": [
    "Create a variable to set the number of samples to create."
   ]
  },
  {
   "cell_type": "code",
   "execution_count": 2,
   "metadata": {},
   "outputs": [],
   "source": [
    "numberSamples = 500"
   ]
  },
  {
   "attachments": {},
   "cell_type": "markdown",
   "metadata": {},
   "source": [
    "Now, creating a lambda function that takes the input and convolves it as a mixture of two `cos` functions."
   ]
  },
  {
   "cell_type": "code",
   "execution_count": 3,
   "metadata": {},
   "outputs": [],
   "source": [
    "deLinearise = lambda X: np.cos(1.5 * np.pi * X) + np.cos(5 * np.pi * X)"
   ]
  },
  {
   "attachments": {},
   "cell_type": "markdown",
   "metadata": {},
   "source": [
    "Now, creating `X` and `y` using the above function and `np.random.rand`."
   ]
  },
  {
   "cell_type": "code",
   "execution_count": 4,
   "metadata": {},
   "outputs": [],
   "source": [
    "X = np.sort(np.random.rand(numberSamples)) * 2\n",
    "y = deLinearise(X) + np.random.randn(numberSamples) * 0.1"
   ]
  },
  {
   "attachments": {},
   "cell_type": "markdown",
   "metadata": {},
   "source": [
    "Here's what `X` looks like."
   ]
  },
  {
   "cell_type": "code",
   "execution_count": 5,
   "metadata": {},
   "outputs": [
    {
     "data": {
      "text/plain": [
       "(array([0.00975651, 0.01760754, 0.02249123, 0.0337934 , 0.03798259,\n",
       "        0.03997827, 0.0406476 , 0.04604542, 0.05684867, 0.05778396,\n",
       "        0.06299428, 0.06739615, 0.07297972, 0.07310793, 0.07521071,\n",
       "        0.07902422, 0.08075793, 0.08307696, 0.08420137, 0.08500867,\n",
       "        0.08585414, 0.0882585 , 0.09907335, 0.10169082, 0.10202946,\n",
       "        0.10494266, 0.12672329, 0.13336665, 0.13912524, 0.1478204 ,\n",
       "        0.15002329, 0.15242703, 0.15722036, 0.15770599, 0.15962885,\n",
       "        0.16152884, 0.16394384, 0.17439408, 0.17465534, 0.17928118,\n",
       "        0.19106266, 0.19207551, 0.19323635, 0.20035229, 0.20227658,\n",
       "        0.20471835, 0.20528104, 0.20531759, 0.21166994, 0.21233725,\n",
       "        0.21647175, 0.22708453, 0.23618164, 0.23876948, 0.23900659,\n",
       "        0.23923307, 0.24328713, 0.25219293, 0.26501772, 0.26594532,\n",
       "        0.2675287 , 0.27463363, 0.27532993, 0.29462189, 0.30193047,\n",
       "        0.31482402, 0.31700156, 0.31778929, 0.317892  , 0.32278083,\n",
       "        0.32454564, 0.33237558, 0.33437727, 0.33591676, 0.33609303,\n",
       "        0.33921973, 0.34863622, 0.34971612, 0.35981778, 0.36086705,\n",
       "        0.37070257, 0.37089234, 0.38035947, 0.38500881, 0.38838756,\n",
       "        0.40394169, 0.41394793, 0.42083111, 0.42123002, 0.42512472,\n",
       "        0.42540693, 0.43236035, 0.43280128, 0.43712962, 0.43750506,\n",
       "        0.44038152, 0.44148157, 0.44260932, 0.45856715, 0.46081774,\n",
       "        0.4689315 , 0.48249278, 0.48496488, 0.498075  , 0.51073311,\n",
       "        0.51833393, 0.5236175 , 0.52439067, 0.52751087, 0.53027854,\n",
       "        0.53650302, 0.53973837, 0.5410256 , 0.54279595, 0.54697633,\n",
       "        0.55160332, 0.55491811, 0.56044525, 0.56198512, 0.56320989,\n",
       "        0.5646879 , 0.57169096, 0.57501955, 0.5797009 , 0.58023576,\n",
       "        0.58765186, 0.59190501, 0.59681389, 0.60305118, 0.60804642,\n",
       "        0.60834771, 0.60853964, 0.6144599 , 0.61683937, 0.63628284,\n",
       "        0.64634773, 0.6516669 , 0.66032329, 0.66212218, 0.6628732 ,\n",
       "        0.66759473, 0.66831155, 0.66928437, 0.67786879, 0.6782617 ,\n",
       "        0.68022386, 0.68320634, 0.69049196, 0.69284244, 0.69469473,\n",
       "        0.69608526, 0.69684857, 0.69875393, 0.70417289, 0.7132971 ,\n",
       "        0.71713507, 0.72368125, 0.72822357, 0.73155468, 0.73180689,\n",
       "        0.73432072, 0.73561591, 0.73756685, 0.73974026, 0.74143974,\n",
       "        0.74203518, 0.74311925, 0.74538296, 0.75154289, 0.75180733,\n",
       "        0.76055604, 0.76361433, 0.76804568, 0.77508741, 0.77544243,\n",
       "        0.78722867, 0.7874783 , 0.80097064, 0.80632316, 0.81734461,\n",
       "        0.82022012, 0.82170115, 0.82331217, 0.82734407, 0.82861473,\n",
       "        0.83507001, 0.83596129, 0.83711881, 0.83910187, 0.84239427,\n",
       "        0.84831051, 0.84850625, 0.85232897, 0.8555876 , 0.85907464,\n",
       "        0.8613864 , 0.86693766, 0.87003598, 0.87087341, 0.8727457 ,\n",
       "        0.87678001, 0.88027995, 0.88434645, 0.8969327 , 0.90332039,\n",
       "        0.90857749, 0.91210295, 0.91660307, 0.91820323, 0.93929165,\n",
       "        0.94186067, 0.94464963, 0.95101429, 0.95138211, 0.9542011 ,\n",
       "        0.9563664 , 0.95641337, 0.95906218, 0.96031848, 0.96685332,\n",
       "        0.96943048, 0.97454496, 0.98162339, 0.98408178, 0.98943761,\n",
       "        0.99033257, 0.99346182, 1.00082833, 1.0107831 , 1.03333269,\n",
       "        1.03348913, 1.03551976, 1.03755904, 1.03942102, 1.04908781,\n",
       "        1.05285272, 1.05553482, 1.05924704, 1.06064826, 1.07235603,\n",
       "        1.07850463, 1.09197834, 1.09746982, 1.09836558, 1.10144096,\n",
       "        1.10350352, 1.11515472, 1.11790104, 1.12601354, 1.12618214,\n",
       "        1.12890592, 1.12976829, 1.13126703, 1.13195032, 1.13714558,\n",
       "        1.14074722, 1.14384928, 1.14448631, 1.14708025, 1.14935232,\n",
       "        1.15062563, 1.15450774, 1.15604959, 1.16109283, 1.16794363,\n",
       "        1.17303004, 1.17767572, 1.18050832, 1.18257487, 1.18439482,\n",
       "        1.1874685 , 1.18921492, 1.19521828, 1.19593004, 1.20231723,\n",
       "        1.20384281, 1.20633729, 1.20834549, 1.2093403 , 1.21054035,\n",
       "        1.21411982, 1.22336176, 1.22960655, 1.23237024, 1.23745433,\n",
       "        1.2390307 , 1.24576405, 1.24756849, 1.25072076, 1.25702226,\n",
       "        1.26081259, 1.26420234, 1.2699085 , 1.27064639, 1.27094751,\n",
       "        1.27455323, 1.27589301, 1.27772935, 1.2784244 , 1.28839288,\n",
       "        1.2923543 , 1.30443995, 1.30714224, 1.31274114, 1.32315007,\n",
       "        1.32462151, 1.34076525, 1.34176851, 1.34295573, 1.34311834,\n",
       "        1.3555467 , 1.35668162, 1.35704352, 1.36311803, 1.36678358,\n",
       "        1.3720225 , 1.37211153, 1.37460845, 1.37711853, 1.37968514,\n",
       "        1.38372885, 1.38417649, 1.39075218, 1.40102653, 1.40142415,\n",
       "        1.40854951, 1.4095511 , 1.42071453, 1.43538779, 1.43695381,\n",
       "        1.45027312, 1.4550934 , 1.45621599, 1.45957039, 1.46075174,\n",
       "        1.46246905, 1.46345095, 1.47007198, 1.47276667, 1.4732151 ,\n",
       "        1.47682192, 1.47727114, 1.47861148, 1.47967031, 1.48026462,\n",
       "        1.48617146, 1.49415982, 1.49472816, 1.49887455, 1.50633701,\n",
       "        1.51179709, 1.51266475, 1.51800461, 1.51839025, 1.52549164,\n",
       "        1.52959509, 1.53123727, 1.53162021, 1.53242007, 1.53329344,\n",
       "        1.53454929, 1.53527324, 1.53597234, 1.53651163, 1.54124372,\n",
       "        1.5412554 , 1.54160978, 1.54384354, 1.54877685, 1.57029909,\n",
       "        1.57037627, 1.57451837, 1.57968637, 1.58518521, 1.58656063,\n",
       "        1.58764315, 1.59554354, 1.60585679, 1.60827588, 1.60899117,\n",
       "        1.60917884, 1.61160781, 1.61487846, 1.61773101, 1.62071524,\n",
       "        1.6262529 , 1.62637504, 1.62834737, 1.63083219, 1.63142453,\n",
       "        1.6381545 , 1.63996732, 1.64105679, 1.64129433, 1.64474267,\n",
       "        1.64529163, 1.64546387, 1.65321613, 1.65371726, 1.6601367 ,\n",
       "        1.66032544, 1.66204516, 1.66336266, 1.66424669, 1.66666365,\n",
       "        1.66671342, 1.66814269, 1.67522761, 1.67820892, 1.681733  ,\n",
       "        1.68264498, 1.69835668, 1.70024099, 1.70812172, 1.71346007,\n",
       "        1.71366605, 1.71461343, 1.71547778, 1.72130649, 1.72163927,\n",
       "        1.72191917, 1.72358373, 1.72893407, 1.74284796, 1.74313896,\n",
       "        1.74773398, 1.74895468, 1.75475813, 1.75815453, 1.7591655 ,\n",
       "        1.77234481, 1.77690835, 1.78090313, 1.78406265, 1.78747687,\n",
       "        1.78950703, 1.79086368, 1.79107857, 1.79507488, 1.79703638,\n",
       "        1.7992425 , 1.80125668, 1.80128894, 1.80160011, 1.80254342,\n",
       "        1.80847871, 1.80909038, 1.8121218 , 1.81698671, 1.81987813,\n",
       "        1.82082491, 1.82090483, 1.82214985, 1.83525251, 1.83598273,\n",
       "        1.83714347, 1.83766192, 1.83808323, 1.83922801, 1.84328427,\n",
       "        1.84370102, 1.85298266, 1.85629845, 1.85800685, 1.86044591,\n",
       "        1.86141993, 1.86671767, 1.86802293, 1.86906128, 1.8708112 ,\n",
       "        1.87193154, 1.87470417, 1.87583318, 1.88645242, 1.88705644,\n",
       "        1.88914492, 1.89138339, 1.89272693, 1.89673906, 1.90117033,\n",
       "        1.91109846, 1.91180118, 1.92209775, 1.92461687, 1.92942191,\n",
       "        1.93058596, 1.94041507, 1.94054236, 1.94714074, 1.95902038,\n",
       "        1.96017439, 1.96357658, 1.9712177 , 1.97477981, 1.97846231,\n",
       "        1.98094601, 1.98515381, 1.98574729, 1.99795401, 1.99870224]),\n",
       " (500,))"
      ]
     },
     "execution_count": 5,
     "metadata": {},
     "output_type": "execute_result"
    }
   ],
   "source": [
    "X, X.shape"
   ]
  },
  {
   "attachments": {},
   "cell_type": "markdown",
   "metadata": {},
   "source": [
    "And now, `y`."
   ]
  },
  {
   "cell_type": "code",
   "execution_count": 6,
   "metadata": {},
   "outputs": [
    {
     "data": {
      "text/plain": [
       "(array([ 1.89251840e+00,  1.89333061e+00,  1.85488772e+00,  1.75319884e+00,\n",
       "         1.77754628e+00,  1.94294606e+00,  1.75184712e+00,  1.64894886e+00,\n",
       "         1.48695773e+00,  1.58301967e+00,  1.60135063e+00,  1.46002097e+00,\n",
       "         1.43025700e+00,  1.36824501e+00,  1.29987294e+00,  1.22952563e+00,\n",
       "         1.18804753e+00,  1.24952890e+00,  1.15483843e+00,  1.13624685e+00,\n",
       "         1.25366932e+00,  1.11023390e+00,  9.51811377e-01,  7.84659270e-01,\n",
       "         7.90051955e-01,  8.67475027e-01,  3.50013931e-01,  3.38153563e-01,\n",
       "         1.65719601e-01,  7.63799987e-02, -5.99003549e-02, -1.39603184e-01,\n",
       "        -1.83036899e-01,  5.42738008e-02,  6.84130135e-02, -1.56364848e-01,\n",
       "        -1.93379296e-01, -9.77615903e-02, -3.10547628e-01, -3.56565469e-01,\n",
       "        -5.13671472e-01, -3.30888599e-01, -2.06410382e-01, -5.20060025e-01,\n",
       "        -3.77924298e-01, -3.60263073e-01, -5.20903212e-01, -2.85019638e-01,\n",
       "        -3.66561206e-01, -4.54544874e-01, -4.32227643e-01, -3.38218612e-01,\n",
       "        -2.55748970e-01, -2.43632917e-01, -3.06860973e-01, -4.97846969e-01,\n",
       "        -3.43678258e-01, -3.31014278e-01, -1.70802748e-01, -1.42267967e-01,\n",
       "        -1.24384643e-01, -2.78634460e-01,  5.43868269e-03,  2.72587421e-02,\n",
       "         2.43394743e-01,  3.40402228e-01,  3.46560043e-01,  1.89959189e-01,\n",
       "         3.35661216e-01,  4.13973929e-01,  4.15693151e-01,  4.38991118e-01,\n",
       "         5.27450389e-01,  5.32445295e-01,  4.78221573e-01,  7.74213902e-01,\n",
       "         8.14803196e-01,  5.57561803e-01,  7.53158405e-01,  6.47022249e-01,\n",
       "         4.43411405e-01,  7.08780307e-01,  7.26255600e-01,  8.85505978e-01,\n",
       "         5.70896023e-01,  6.52810222e-01,  8.59950183e-01,  3.48355575e-01,\n",
       "         2.40352970e-01,  6.19659224e-01,  2.88103043e-01,  3.83411462e-01,\n",
       "         4.34524967e-01,  4.63159990e-01,  5.45180893e-01,  3.28362127e-01,\n",
       "         5.18620569e-01,  8.75950647e-02,  4.40824288e-02, -6.26060121e-02,\n",
       "        -1.65780322e-01, -3.28282766e-01, -3.90774490e-01, -7.00731458e-01,\n",
       "        -8.83761415e-01, -9.37460095e-01, -1.10560960e+00, -1.20508642e+00,\n",
       "        -1.15145784e+00, -1.30887779e+00, -1.40226908e+00, -1.26048327e+00,\n",
       "        -1.28688248e+00, -1.55305788e+00, -1.73274679e+00, -1.62503125e+00,\n",
       "        -1.61578240e+00, -1.64649053e+00, -1.62880479e+00, -1.64862515e+00,\n",
       "        -1.84367049e+00, -1.84800071e+00, -1.74846696e+00, -1.83945476e+00,\n",
       "        -1.80906747e+00, -1.88752863e+00, -1.97984017e+00, -1.88030233e+00,\n",
       "        -2.01320827e+00, -1.90533348e+00, -1.93067156e+00, -2.00950283e+00,\n",
       "        -2.04554643e+00, -2.03260635e+00, -1.62908761e+00, -1.63053621e+00,\n",
       "        -1.61763544e+00, -1.52158034e+00, -1.64832296e+00, -1.48449778e+00,\n",
       "        -1.43986226e+00, -1.57002567e+00, -1.40613359e+00, -1.25635992e+00,\n",
       "        -1.58807753e+00, -1.34424979e+00, -1.28955034e+00, -1.08886367e+00,\n",
       "        -1.10874376e+00, -1.09728568e+00, -1.13607759e+00, -1.16969766e+00,\n",
       "        -1.02603367e+00, -8.70649178e-01, -7.41867367e-01, -5.77828185e-01,\n",
       "        -5.39343532e-01, -5.57239384e-01, -4.00458569e-01, -5.40436406e-01,\n",
       "        -4.04788068e-01, -4.18122032e-01, -3.21419720e-01, -5.45086929e-01,\n",
       "        -3.94713714e-01, -1.95437877e-01, -3.49950060e-01, -4.12324305e-01,\n",
       "        -1.17662119e-01, -3.50413287e-01, -6.38658821e-02,  9.72926808e-02,\n",
       "        -3.21239642e-02,  1.11252471e-01, -1.38528142e-01,  6.81651969e-02,\n",
       "         2.12003944e-01,  8.76786244e-02,  1.58179236e-01,  2.46557593e-01,\n",
       "         1.65283869e-01,  8.64005720e-02,  2.74913531e-01,  1.81945666e-01,\n",
       "         2.07512636e-01,  1.28977020e-01,  2.50402057e-01,  1.00723148e-01,\n",
       "         7.84773217e-02,  5.04830860e-02,  3.03411252e-01,  1.28041379e-01,\n",
       "         1.36518825e-02,  4.28803111e-02, -1.64075542e-01, -9.80991049e-02,\n",
       "        -1.68997541e-01, -2.27759503e-01, -2.02728836e-01, -1.07396469e-01,\n",
       "        -2.58169870e-01, -1.45035623e-01, -3.40467863e-01, -6.11667235e-01,\n",
       "        -4.94099619e-01, -7.68523958e-01, -5.85389650e-01, -7.02286159e-01,\n",
       "        -6.98631079e-01, -1.05106869e+00, -7.12342267e-01, -8.95577951e-01,\n",
       "        -9.22828758e-01, -1.08150521e+00, -1.14748449e+00, -1.06207055e+00,\n",
       "        -8.49375016e-01, -1.04499140e+00, -9.38414005e-01, -9.28840554e-01,\n",
       "        -1.11856356e+00, -1.11256814e+00, -1.13372931e+00, -1.03349229e+00,\n",
       "        -9.68244720e-01, -8.28860954e-01, -8.90932540e-01, -9.00941269e-01,\n",
       "        -1.00514658e+00, -7.71535871e-01, -8.50372649e-01, -8.67594891e-01,\n",
       "        -6.68773685e-01, -5.34881871e-01, -7.15498562e-01, -2.02921422e-01,\n",
       "        -3.94999711e-01, -4.39745012e-01, -2.77128441e-01, -8.55587564e-02,\n",
       "         3.05001354e-03,  2.43341456e-01,  5.39230723e-01,  3.49404009e-01,\n",
       "         6.92279928e-01,  4.29407570e-01,  6.32751328e-01,  9.02459500e-01,\n",
       "         1.19548725e+00,  8.95938316e-01,  1.02117984e+00,  8.89288287e-01,\n",
       "         1.06131954e+00,  1.07624466e+00,  1.02782959e+00,  1.23642779e+00,\n",
       "         1.31582888e+00,  1.31008410e+00,  1.32725023e+00,  1.28434935e+00,\n",
       "         1.28633162e+00,  1.45643787e+00,  1.58121392e+00,  1.53461530e+00,\n",
       "         1.47127347e+00,  1.51752882e+00,  1.62952257e+00,  1.69756341e+00,\n",
       "         1.68707015e+00,  1.76384269e+00,  1.68904764e+00,  1.82553733e+00,\n",
       "         1.91459321e+00,  1.64242661e+00,  1.78510576e+00,  1.84034713e+00,\n",
       "         1.81825878e+00,  1.73719827e+00,  1.78205537e+00,  1.87745421e+00,\n",
       "         1.78035326e+00,  1.72379513e+00,  1.66962277e+00,  1.75743661e+00,\n",
       "         1.88178687e+00,  1.74741419e+00,  1.91080732e+00,  1.73004702e+00,\n",
       "         1.59925623e+00,  1.51142015e+00,  1.51595675e+00,  1.50252405e+00,\n",
       "         1.39287480e+00,  1.28548629e+00,  1.29883123e+00,  1.36830687e+00,\n",
       "         1.34112242e+00,  1.28007123e+00,  1.34190793e+00,  1.17125833e+00,\n",
       "         1.05155428e+00,  8.70559454e-01,  8.40894611e-01,  7.87119092e-01,\n",
       "         4.67548644e-01,  6.56684805e-01,  4.80619625e-01,  3.95658126e-01,\n",
       "         3.76430197e-01,  5.19801006e-01,  1.13539250e-01,  1.95046866e-01,\n",
       "         3.47376988e-01,  2.70722638e-01,  5.46041556e-02,  2.53611407e-02,\n",
       "        -8.73074751e-03, -4.54244399e-03,  7.18226639e-02,  3.16590374e-01,\n",
       "        -1.76417574e-03,  5.03276005e-02,  6.28466815e-02, -1.42488555e-01,\n",
       "         1.52717897e-01, -5.81474733e-02, -2.61146166e-01,  1.30551062e-01,\n",
       "         8.02311343e-02, -3.52497832e-02,  6.38475104e-02,  6.42366194e-02,\n",
       "         2.64394444e-01,  1.65970875e-01,  2.61996635e-01,  1.92621469e-01,\n",
       "         3.71540307e-01,  3.78663525e-01,  3.68935532e-01,  3.96665158e-01,\n",
       "         2.19991439e-01,  2.52772948e-01,  4.04237317e-01,  5.19707149e-01,\n",
       "         3.69317229e-01,  5.46135683e-01,  6.69163126e-01,  5.04882126e-01,\n",
       "         7.76219905e-01,  9.26373198e-01,  9.76983964e-01,  8.52872944e-01,\n",
       "         9.55103520e-01,  8.25034041e-01,  9.46854457e-01,  1.05941610e+00,\n",
       "         1.01609802e+00,  1.07425967e+00,  1.13948744e+00,  1.00069304e+00,\n",
       "         1.07601004e+00,  1.21885937e+00,  1.14730220e+00,  1.11385129e+00,\n",
       "         1.20599058e+00,  1.10662896e+00,  1.07489973e+00,  1.10268255e+00,\n",
       "         1.15207754e+00,  1.28437438e+00,  1.31397135e+00,  1.47679013e+00,\n",
       "         1.52435700e+00,  1.32937779e+00,  1.27804077e+00,  1.24936435e+00,\n",
       "         1.30871846e+00,  1.17665767e+00,  1.11457485e+00,  1.37504156e+00,\n",
       "         1.27793747e+00,  1.28658839e+00,  1.22138314e+00,  1.24830294e+00,\n",
       "         1.07730166e+00,  1.03232868e+00,  1.01264604e+00,  1.02650484e+00,\n",
       "         1.12195529e+00,  1.00390062e+00,  9.08795899e-01,  7.65848992e-01,\n",
       "         8.67373941e-01,  9.59366441e-01,  8.81970505e-01,  9.58459006e-01,\n",
       "         7.76283751e-01,  7.91003408e-01,  8.16728261e-01,  5.89856208e-01,\n",
       "         5.29630505e-01,  3.99249460e-01,  5.81904777e-01,  4.71696651e-01,\n",
       "         6.04135732e-01,  4.40467793e-01,  5.12702310e-01,  4.01019246e-01,\n",
       "         3.34474709e-01,  2.33763830e-01,  2.40883136e-01, -2.08063705e-01,\n",
       "        -8.58902570e-02, -2.07910688e-01, -5.14617458e-01, -6.81976316e-01,\n",
       "        -3.78611262e-01, -5.76904884e-01, -6.84825321e-01, -5.93238269e-01,\n",
       "        -7.34388240e-01, -5.89732322e-01, -7.67129071e-01, -9.64154669e-01,\n",
       "        -8.93622231e-01, -9.10207870e-01, -1.06991205e+00, -1.09931199e+00,\n",
       "        -1.22568512e+00, -1.12489756e+00, -1.43841349e+00, -1.43644469e+00,\n",
       "        -1.42523162e+00, -1.52834883e+00, -1.45111144e+00, -1.65497625e+00,\n",
       "        -1.73412100e+00, -1.57155814e+00, -1.49680449e+00, -1.62195342e+00,\n",
       "        -1.59524923e+00, -1.59410625e+00, -1.52038429e+00, -1.62572310e+00,\n",
       "        -1.72848836e+00, -1.58757712e+00, -1.53245950e+00, -1.63236805e+00,\n",
       "        -1.48913602e+00, -1.66670812e+00, -1.64671896e+00, -1.73738981e+00,\n",
       "        -1.60748681e+00, -1.74862630e+00, -1.61449487e+00, -1.67261800e+00,\n",
       "        -1.66391638e+00, -1.54830755e+00, -1.61219638e+00, -1.65556218e+00,\n",
       "        -1.45229586e+00, -1.63866983e+00, -1.48197948e+00, -1.40592900e+00,\n",
       "        -1.28504193e+00, -1.29686406e+00, -1.24139168e+00, -1.27815339e+00,\n",
       "        -1.23317115e+00, -1.32316360e+00, -1.32359925e+00, -1.11792664e+00,\n",
       "        -1.17467173e+00, -1.05734766e+00, -9.41324640e-01, -1.15046679e+00,\n",
       "        -1.07759009e+00, -9.48685136e-01, -8.44874630e-01, -9.42138509e-01,\n",
       "        -8.88900081e-01, -7.99020183e-01, -4.22843901e-01, -6.38487949e-01,\n",
       "        -5.53597720e-01, -2.42978935e-01, -2.56110947e-01, -2.71910798e-01,\n",
       "        -2.59727973e-01, -8.08940143e-02, -2.01512076e-01, -1.58199663e-01,\n",
       "        -6.32652589e-02, -2.54011500e-02,  3.66686122e-02, -8.31118944e-02,\n",
       "         1.12449684e-01, -1.91078931e-01, -4.40235342e-02, -2.45861797e-01]),\n",
       " (500,))"
      ]
     },
     "execution_count": 6,
     "metadata": {},
     "output_type": "execute_result"
    }
   ],
   "source": [
    "y, y.shape"
   ]
  },
  {
   "attachments": {},
   "cell_type": "markdown",
   "metadata": {},
   "source": [
    "### Reshaping Arrays "
   ]
  },
  {
   "cell_type": "code",
   "execution_count": 7,
   "metadata": {},
   "outputs": [
    {
     "data": {
      "text/plain": [
       "(500, 1)"
      ]
     },
     "execution_count": 7,
     "metadata": {},
     "output_type": "execute_result"
    }
   ],
   "source": [
    "X = X.reshape(X.shape[0], 1)\n",
    "X.shape"
   ]
  },
  {
   "cell_type": "code",
   "execution_count": 8,
   "metadata": {},
   "outputs": [
    {
     "data": {
      "text/plain": [
       "(500, 1)"
      ]
     },
     "execution_count": 8,
     "metadata": {},
     "output_type": "execute_result"
    }
   ],
   "source": [
    "y = y.reshape(y.shape[0], 1)\n",
    "y.shape"
   ]
  },
  {
   "attachments": {},
   "cell_type": "markdown",
   "metadata": {},
   "source": [
    "## Calculating Predictions"
   ]
  },
  {
   "attachments": {},
   "cell_type": "markdown",
   "metadata": {},
   "source": [
    "Defining a function to calculate the diagonal weight matrix. This function takes in the test point, the training data and the value of `tau` which corresponds to the radius of the circle surrounding a point. All the points laying in the circle are considered for the regression problem. "
   ]
  },
  {
   "cell_type": "code",
   "execution_count": 9,
   "metadata": {},
   "outputs": [],
   "source": [
    "# Weight Matrix in code. It is a diagonal matrix.def wm(point, X, tau): \n",
    "def calculateWeightMatrix(point, X, tau):\n",
    "    '''\n",
    "    The parameters of this function are,\n",
    "\t\ttau --> bandwidth\n",
    "\t\tX --> Training data.\n",
    "\t\tpoint --> the x where we want to make the prediction.\n",
    "    ''' \n",
    "    \n",
    "    # m is the No of training examples .\n",
    "    m = X.shape[0] \n",
    "    \n",
    "    # Initialising W as an identity matrix.\n",
    "    w = np.mat(np.eye(m)) \n",
    "    \n",
    "    # Calculating weights for all training examples [x(i)'s].\n",
    "    for i in range(m): \n",
    "        xi = X[i] \n",
    "        d = (-2 * tau * tau) \n",
    "        w[i, i] = np.exp(np.dot((xi - point), (xi - point).T) / d) \n",
    "        \n",
    "    return w"
   ]
  },
  {
   "attachments": {},
   "cell_type": "markdown",
   "metadata": {},
   "source": [
    "Now, defining a function to predict the `y` value for a point which uses the previously defined function to calculate the weight matrix."
   ]
  },
  {
   "cell_type": "code",
   "execution_count": 10,
   "metadata": {},
   "outputs": [],
   "source": [
    "def predict(X, y, point, tau):\n",
    "    # m = number of training examples.\n",
    "    m = X.shape[0]\n",
    "\n",
    "    onesColumn = np.ones(m).reshape(m, 1)\n",
    "\n",
    "    # Appending a column of ones in X to add the bias term. Just one parameter: theta, that's why adding a column of ones to X and also adding a 1 for the point where we want to predict.\n",
    "    X_ = np.append(X, onesColumn, axis=1)\n",
    "\n",
    "    # point is the x where we want to make the prediction.\n",
    "    point_ = np.array([point, 1])\n",
    "\n",
    "    # Calculating the weight matrix using the wm function we wrote      #  # earlier.\n",
    "    w = calculateWeightMatrix(point_, X_, tau)\n",
    "\n",
    "    # Calculating parameter theta using the formula.\n",
    "    theta = np.linalg.pinv(X_.T * (w * X_)) * (X_.T * (w * y))\n",
    "\n",
    "    # Calculating predictions.\n",
    "    pred = np.dot(point_, theta)\n",
    "\n",
    "    # Returning the theta and predictions\n",
    "    return theta, pred"
   ]
  },
  {
   "cell_type": "code",
   "execution_count": 11,
   "metadata": {},
   "outputs": [],
   "source": [
    "def getPredictionsForSingleTau(numberPredictions, tau):\n",
    "    # Empty list for storing predictions.\n",
    "    predictions = []\n",
    "\n",
    "    # Predicting for all numberPredictions values and storing them in predictions.\n",
    "    for point in X:\n",
    "        _, predicted = predict(X, y, point, tau)\n",
    "        predictions.append(predicted)\n",
    "\n",
    "    # Reshaping predictions\n",
    "    predictions = np.array(predictions).reshape(numberPredictions, 1)\n",
    "\n",
    "    return predictions"
   ]
  },
  {
   "attachments": {},
   "cell_type": "markdown",
   "metadata": {},
   "source": [
    "## Plotting Predictions"
   ]
  },
  {
   "cell_type": "code",
   "execution_count": 12,
   "metadata": {},
   "outputs": [],
   "source": [
    "def plotPredictions(XTest, predictionList, tauList):\n",
    "    plt.figure(figsize=(20, 15), dpi=80)\n",
    "\n",
    "    plt.plot(X, y, \"o\", color='orange', alpha=0.3, label='Training Data Points')\n",
    "\n",
    "    for i, prediction in enumerate(predictionList):\n",
    "        plt.plot(XTest, prediction, label=f'tau = {tauList[i]}')\n",
    "\n",
    "    plt.legend()\n",
    "    plt.show()"
   ]
  },
  {
   "attachments": {},
   "cell_type": "markdown",
   "metadata": {},
   "source": [
    "## Putting it all Together"
   ]
  },
  {
   "cell_type": "code",
   "execution_count": 13,
   "metadata": {},
   "outputs": [
    {
     "ename": "ValueError",
     "evalue": "setting an array element with a sequence. The requested array has an inhomogeneous shape after 1 dimensions. The detected shape was (2,) + inhomogeneous part.",
     "output_type": "error",
     "traceback": [
      "\u001b[0;31m---------------------------------------------------------------------------\u001b[0m",
      "\u001b[0;31mValueError\u001b[0m                                Traceback (most recent call last)",
      "Cell \u001b[0;32mIn[13], line 10\u001b[0m\n\u001b[1;32m      4\u001b[0m predictionList \u001b[39m=\u001b[39m []\n\u001b[1;32m      6\u001b[0m \u001b[39m# for tau in tauList:\u001b[39;00m\n\u001b[1;32m      7\u001b[0m \u001b[39m#     predictions = getPredictionsForSingleTau(numberSamples, tau)\u001b[39;00m\n\u001b[1;32m      8\u001b[0m \u001b[39m#     predictionList.append(predictions)\u001b[39;00m\n\u001b[0;32m---> 10\u001b[0m predictionList \u001b[39m=\u001b[39m getPredictionsForSingleTau(numberSamples, tau)\n\u001b[1;32m     12\u001b[0m predictionList \u001b[39m=\u001b[39m np\u001b[39m.\u001b[39marray(predictionList)\n\u001b[1;32m     14\u001b[0m plotPredictions(X, predictionList, tau)\n",
      "Cell \u001b[0;32mIn[11], line 7\u001b[0m, in \u001b[0;36mgetPredictionsForSingleTau\u001b[0;34m(numberPredictions, tau)\u001b[0m\n\u001b[1;32m      5\u001b[0m \u001b[39m# Predicting for all numberPredictions values and storing them in predictions.\u001b[39;00m\n\u001b[1;32m      6\u001b[0m \u001b[39mfor\u001b[39;00m point \u001b[39min\u001b[39;00m X:\n\u001b[0;32m----> 7\u001b[0m     _, predicted \u001b[39m=\u001b[39m predict(X, y, point, tau)\n\u001b[1;32m      8\u001b[0m     predictions\u001b[39m.\u001b[39mappend(predicted)\n\u001b[1;32m     10\u001b[0m \u001b[39m# Reshaping predictions\u001b[39;00m\n",
      "Cell \u001b[0;32mIn[10], line 11\u001b[0m, in \u001b[0;36mpredict\u001b[0;34m(X, y, point, tau)\u001b[0m\n\u001b[1;32m      8\u001b[0m X_ \u001b[39m=\u001b[39m np\u001b[39m.\u001b[39mappend(X, onesColumn, axis\u001b[39m=\u001b[39m\u001b[39m1\u001b[39m)\n\u001b[1;32m     10\u001b[0m \u001b[39m# point is the x where we want to make the prediction.\u001b[39;00m\n\u001b[0;32m---> 11\u001b[0m point_ \u001b[39m=\u001b[39m np\u001b[39m.\u001b[39;49marray([point, \u001b[39m1\u001b[39;49m])\n\u001b[1;32m     13\u001b[0m \u001b[39m# Calculating the weight matrix using the wm function we wrote      #  # earlier.\u001b[39;00m\n\u001b[1;32m     14\u001b[0m w \u001b[39m=\u001b[39m calculateWeightMatrix(point_, X_, tau)\n",
      "\u001b[0;31mValueError\u001b[0m: setting an array element with a sequence. The requested array has an inhomogeneous shape after 1 dimensions. The detected shape was (2,) + inhomogeneous part."
     ]
    }
   ],
   "source": [
    "tauList = np.arange(0, 0.1, step=0.05)\n",
    "tau = 0.08\n",
    "\n",
    "predictionList = []\n",
    "\n",
    "# for tau in tauList:\n",
    "#     predictions = getPredictionsForSingleTau(numberSamples, tau)\n",
    "#     predictionList.append(predictions)\n",
    "\n",
    "predictionList = getPredictionsForSingleTau(numberSamples, tau)\n",
    "\n",
    "predictionList = np.array(predictionList)\n",
    "\n",
    "plotPredictions(X, predictionList, tau)"
   ]
  },
  {
   "attachments": {},
   "cell_type": "markdown",
   "metadata": {},
   "source": [
    "# References\n",
    "1. [Medium Article](https://towardsdatascience.com/locally-weighted-linear-regression-in-python-3d324108efbf)\n",
    "2. [Creating Random Non-Linear Data](https://www.oreilly.com/library/view/effective-amazon-machine/9781785883231/586af32b-cd7f-40f4-bfe1-bea45b67a804.xhtml)"
   ]
  }
 ],
 "metadata": {
  "kernelspec": {
   "display_name": "Python 3",
   "language": "python",
   "name": "python3"
  },
  "language_info": {
   "codemirror_mode": {
    "name": "ipython",
    "version": 3
   },
   "file_extension": ".py",
   "mimetype": "text/x-python",
   "name": "python",
   "nbconvert_exporter": "python",
   "pygments_lexer": "ipython3",
   "version": "3.10.6"
  },
  "orig_nbformat": 4
 },
 "nbformat": 4,
 "nbformat_minor": 2
}
